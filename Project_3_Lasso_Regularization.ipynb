{
  "cells": [
    {
      "cell_type": "markdown",
      "metadata": {
        "id": "view-in-github",
        "colab_type": "text"
      },
      "source": [
        "<a href=\"https://colab.research.google.com/github/jerrymart/Machine-Learning-Projects/blob/main/Project_3_Lasso_Regularization.ipynb\" target=\"_parent\"><img src=\"https://colab.research.google.com/assets/colab-badge.svg\" alt=\"Open In Colab\"/></a>"
      ]
    },
    {
      "cell_type": "markdown",
      "metadata": {
        "id": "BXwgokXORhHA"
      },
      "source": [
        "### Team Members:\n",
        "\n",
        "##### Joseph Mart (Project Lead)- A00732897\n",
        "\n",
        "##### Callitus Obunadike - A00756855"
      ]
    },
    {
      "cell_type": "markdown",
      "metadata": {
        "id": "KxlrKMzrRhHD"
      },
      "source": [
        "Problem Statement\n",
        "\n",
        "In this project, we shall walk through the data mining or machine learning procedure as\n",
        "outlined by a general framework such as SEMMA (Sample-Explore-Modify-Model-Assess) via\n",
        "a logistic regression example. Consider the BreastCancer dataset available from R package\n",
        "mlbench. The dataset has n = 699 observations and 11 columns. The Class column is the\n",
        "response (dependent) variable and it tells if a given tissue is malignant or benign. Thus we\n",
        "have a binary classification problem.\n",
        "Follow the steps below to conduct your analysis\n",
        "1. You may obtain the data directly in R. If you want to conduct analysis with Python,\n",
        "you may save the data to a CSV FILE and then bring it in Python.\n",
        "install.packages(\"mlbench\")\n",
        "data(BreastCancer, package=\"mlbench\")\n",
        "dat <- BreastCancer; dim(dat); head(dat)\n",
        "write.csv(dat, file=\"BreastCancer.csv\", row.names =FALSE)"
      ]
    },
    {
      "cell_type": "code",
      "source": [
        ""
      ],
      "metadata": {
        "id": "NFXiezvYSqvU"
      },
      "execution_count": null,
      "outputs": []
    },
    {
      "cell_type": "code",
      "execution_count": 1,
      "metadata": {
        "id": "iRbs3e4GRhHE"
      },
      "outputs": [],
      "source": [
        "import numpy as np \n",
        "import pandas as pd\n",
        "from matplotlib import pyplot as plt\n",
        "import seaborn as sns\n",
        "from sklearn.linear_model import LogisticRegression\n",
        "from sklearn.metrics import mean_absolute_error, r2_score\n",
        "from sklearn.model_selection import KFold, GridSearchCV\n",
        "%matplotlib inline\n",
        "\n",
        "import warnings\n",
        "warnings.filterwarnings('ignore')"
      ]
    },
    {
      "cell_type": "code",
      "execution_count": null,
      "metadata": {
        "id": "yrHkCMyIRhHG"
      },
      "outputs": [],
      "source": [
        ""
      ]
    },
    {
      "cell_type": "markdown",
      "metadata": {
        "id": "O-G9ku6KRhHG"
      },
      "source": [
        "# Bring it in Python."
      ]
    },
    {
      "cell_type": "code",
      "execution_count": 2,
      "metadata": {
        "id": "q6cg1ceARhHG"
      },
      "outputs": [],
      "source": [
        "df = pd.read_csv('/content/Breast_Cancer.csv') "
      ]
    },
    {
      "cell_type": "code",
      "execution_count": null,
      "metadata": {
        "id": "EVp80Rl1RhHG",
        "outputId": "307d7fe8-b18a-474a-ea1c-0f0259b801d4"
      },
      "outputs": [
        {
          "data": {
            "text/html": [
              "<div>\n",
              "<style scoped>\n",
              "    .dataframe tbody tr th:only-of-type {\n",
              "        vertical-align: middle;\n",
              "    }\n",
              "\n",
              "    .dataframe tbody tr th {\n",
              "        vertical-align: top;\n",
              "    }\n",
              "\n",
              "    .dataframe thead th {\n",
              "        text-align: right;\n",
              "    }\n",
              "</style>\n",
              "<table border=\"1\" class=\"dataframe\">\n",
              "  <thead>\n",
              "    <tr style=\"text-align: right;\">\n",
              "      <th></th>\n",
              "      <th>Id</th>\n",
              "      <th>Cl.thickness</th>\n",
              "      <th>Cell.size</th>\n",
              "      <th>Cell.shape</th>\n",
              "      <th>Marg.adhesion</th>\n",
              "      <th>Epith.c.size</th>\n",
              "      <th>Bare.nuclei</th>\n",
              "      <th>Bl.cromatin</th>\n",
              "      <th>Normal.nucleoli</th>\n",
              "      <th>Mitoses</th>\n",
              "      <th>Class</th>\n",
              "    </tr>\n",
              "  </thead>\n",
              "  <tbody>\n",
              "    <tr>\n",
              "      <th>0</th>\n",
              "      <td>1000025</td>\n",
              "      <td>5</td>\n",
              "      <td>1</td>\n",
              "      <td>1</td>\n",
              "      <td>1</td>\n",
              "      <td>2</td>\n",
              "      <td>1.0</td>\n",
              "      <td>3</td>\n",
              "      <td>1</td>\n",
              "      <td>1</td>\n",
              "      <td>benign</td>\n",
              "    </tr>\n",
              "    <tr>\n",
              "      <th>1</th>\n",
              "      <td>1002945</td>\n",
              "      <td>5</td>\n",
              "      <td>4</td>\n",
              "      <td>4</td>\n",
              "      <td>5</td>\n",
              "      <td>7</td>\n",
              "      <td>10.0</td>\n",
              "      <td>3</td>\n",
              "      <td>2</td>\n",
              "      <td>1</td>\n",
              "      <td>benign</td>\n",
              "    </tr>\n",
              "    <tr>\n",
              "      <th>2</th>\n",
              "      <td>1015425</td>\n",
              "      <td>3</td>\n",
              "      <td>1</td>\n",
              "      <td>1</td>\n",
              "      <td>1</td>\n",
              "      <td>2</td>\n",
              "      <td>2.0</td>\n",
              "      <td>3</td>\n",
              "      <td>1</td>\n",
              "      <td>1</td>\n",
              "      <td>benign</td>\n",
              "    </tr>\n",
              "    <tr>\n",
              "      <th>3</th>\n",
              "      <td>1016277</td>\n",
              "      <td>6</td>\n",
              "      <td>8</td>\n",
              "      <td>8</td>\n",
              "      <td>1</td>\n",
              "      <td>3</td>\n",
              "      <td>4.0</td>\n",
              "      <td>3</td>\n",
              "      <td>7</td>\n",
              "      <td>1</td>\n",
              "      <td>benign</td>\n",
              "    </tr>\n",
              "    <tr>\n",
              "      <th>4</th>\n",
              "      <td>1017023</td>\n",
              "      <td>4</td>\n",
              "      <td>1</td>\n",
              "      <td>1</td>\n",
              "      <td>3</td>\n",
              "      <td>2</td>\n",
              "      <td>1.0</td>\n",
              "      <td>3</td>\n",
              "      <td>1</td>\n",
              "      <td>1</td>\n",
              "      <td>benign</td>\n",
              "    </tr>\n",
              "  </tbody>\n",
              "</table>\n",
              "</div>"
            ],
            "text/plain": [
              "        Id  Cl.thickness  Cell.size  Cell.shape  Marg.adhesion  Epith.c.size  \\\n",
              "0  1000025             5          1           1              1             2   \n",
              "1  1002945             5          4           4              5             7   \n",
              "2  1015425             3          1           1              1             2   \n",
              "3  1016277             6          8           8              1             3   \n",
              "4  1017023             4          1           1              3             2   \n",
              "\n",
              "   Bare.nuclei  Bl.cromatin  Normal.nucleoli  Mitoses   Class  \n",
              "0          1.0            3                1        1  benign  \n",
              "1         10.0            3                2        1  benign  \n",
              "2          2.0            3                1        1  benign  \n",
              "3          4.0            3                7        1  benign  \n",
              "4          1.0            3                1        1  benign  "
            ]
          },
          "execution_count": 69,
          "metadata": {},
          "output_type": "execute_result"
        }
      ],
      "source": [
        "df.head()"
      ]
    },
    {
      "cell_type": "code",
      "execution_count": null,
      "metadata": {
        "id": "zPXx3Y5eRhHH",
        "outputId": "9cf41653-0cbc-41c4-92f6-26bd560a7e64"
      },
      "outputs": [
        {
          "data": {
            "text/html": [
              "<div>\n",
              "<style scoped>\n",
              "    .dataframe tbody tr th:only-of-type {\n",
              "        vertical-align: middle;\n",
              "    }\n",
              "\n",
              "    .dataframe tbody tr th {\n",
              "        vertical-align: top;\n",
              "    }\n",
              "\n",
              "    .dataframe thead th {\n",
              "        text-align: right;\n",
              "    }\n",
              "</style>\n",
              "<table border=\"1\" class=\"dataframe\">\n",
              "  <thead>\n",
              "    <tr style=\"text-align: right;\">\n",
              "      <th></th>\n",
              "      <th>Id</th>\n",
              "      <th>Cl.thickness</th>\n",
              "      <th>Cell.size</th>\n",
              "      <th>Cell.shape</th>\n",
              "      <th>Marg.adhesion</th>\n",
              "      <th>Epith.c.size</th>\n",
              "      <th>Bare.nuclei</th>\n",
              "      <th>Bl.cromatin</th>\n",
              "      <th>Normal.nucleoli</th>\n",
              "      <th>Mitoses</th>\n",
              "      <th>Class</th>\n",
              "    </tr>\n",
              "  </thead>\n",
              "  <tbody>\n",
              "    <tr>\n",
              "      <th>694</th>\n",
              "      <td>776715</td>\n",
              "      <td>3</td>\n",
              "      <td>1</td>\n",
              "      <td>1</td>\n",
              "      <td>1</td>\n",
              "      <td>3</td>\n",
              "      <td>2.0</td>\n",
              "      <td>1</td>\n",
              "      <td>1</td>\n",
              "      <td>1</td>\n",
              "      <td>benign</td>\n",
              "    </tr>\n",
              "    <tr>\n",
              "      <th>695</th>\n",
              "      <td>841769</td>\n",
              "      <td>2</td>\n",
              "      <td>1</td>\n",
              "      <td>1</td>\n",
              "      <td>1</td>\n",
              "      <td>2</td>\n",
              "      <td>1.0</td>\n",
              "      <td>1</td>\n",
              "      <td>1</td>\n",
              "      <td>1</td>\n",
              "      <td>benign</td>\n",
              "    </tr>\n",
              "    <tr>\n",
              "      <th>696</th>\n",
              "      <td>888820</td>\n",
              "      <td>5</td>\n",
              "      <td>10</td>\n",
              "      <td>10</td>\n",
              "      <td>3</td>\n",
              "      <td>7</td>\n",
              "      <td>3.0</td>\n",
              "      <td>8</td>\n",
              "      <td>10</td>\n",
              "      <td>2</td>\n",
              "      <td>malignant</td>\n",
              "    </tr>\n",
              "    <tr>\n",
              "      <th>697</th>\n",
              "      <td>897471</td>\n",
              "      <td>4</td>\n",
              "      <td>8</td>\n",
              "      <td>6</td>\n",
              "      <td>4</td>\n",
              "      <td>3</td>\n",
              "      <td>4.0</td>\n",
              "      <td>10</td>\n",
              "      <td>6</td>\n",
              "      <td>1</td>\n",
              "      <td>malignant</td>\n",
              "    </tr>\n",
              "    <tr>\n",
              "      <th>698</th>\n",
              "      <td>897471</td>\n",
              "      <td>4</td>\n",
              "      <td>8</td>\n",
              "      <td>8</td>\n",
              "      <td>5</td>\n",
              "      <td>4</td>\n",
              "      <td>5.0</td>\n",
              "      <td>10</td>\n",
              "      <td>4</td>\n",
              "      <td>1</td>\n",
              "      <td>malignant</td>\n",
              "    </tr>\n",
              "  </tbody>\n",
              "</table>\n",
              "</div>"
            ],
            "text/plain": [
              "         Id  Cl.thickness  Cell.size  Cell.shape  Marg.adhesion  Epith.c.size  \\\n",
              "694  776715             3          1           1              1             3   \n",
              "695  841769             2          1           1              1             2   \n",
              "696  888820             5         10          10              3             7   \n",
              "697  897471             4          8           6              4             3   \n",
              "698  897471             4          8           8              5             4   \n",
              "\n",
              "     Bare.nuclei  Bl.cromatin  Normal.nucleoli  Mitoses      Class  \n",
              "694          2.0            1                1        1     benign  \n",
              "695          1.0            1                1        1     benign  \n",
              "696          3.0            8               10        2  malignant  \n",
              "697          4.0           10                6        1  malignant  \n",
              "698          5.0           10                4        1  malignant  "
            ]
          },
          "execution_count": 70,
          "metadata": {},
          "output_type": "execute_result"
        }
      ],
      "source": [
        "df.tail()"
      ]
    },
    {
      "cell_type": "code",
      "execution_count": null,
      "metadata": {
        "id": "8fRlX2m2RhHI"
      },
      "outputs": [],
      "source": [
        ""
      ]
    },
    {
      "cell_type": "markdown",
      "metadata": {
        "id": "Gidm-3LKRhHI"
      },
      "source": [
        "# 2. Prepare the data \n",
        "\n",
        "by inspecting the variable types, missing values, outlying and possibly\n",
        "wrong records, and other issues. Perform some EDA (Exploratory Data Analysis). In\n",
        "particular, inspect the frequency distribution of the target variable Class and see, e.g.,\n",
        "whether we have a very unbalanced classification problem. Also, explore the associations\n",
        "between Class and other attributes. Select a few interesting findings to present."
      ]
    },
    {
      "cell_type": "code",
      "execution_count": null,
      "metadata": {
        "id": "_X5KCVWBRhHI",
        "outputId": "838da7d1-028c-44f4-e15e-b66a03b824e6"
      },
      "outputs": [
        {
          "data": {
            "text/plain": [
              "Id                  0\n",
              "Cl.thickness        0\n",
              "Cell.size           0\n",
              "Cell.shape          0\n",
              "Marg.adhesion       0\n",
              "Epith.c.size        0\n",
              "Bare.nuclei        16\n",
              "Bl.cromatin         0\n",
              "Normal.nucleoli     0\n",
              "Mitoses             0\n",
              "Class               0\n",
              "dtype: int64"
            ]
          },
          "execution_count": 5,
          "metadata": {},
          "output_type": "execute_result"
        }
      ],
      "source": [
        "# Checking for null values\n",
        "\n",
        "df.isnull().sum()"
      ]
    },
    {
      "cell_type": "code",
      "execution_count": null,
      "metadata": {
        "id": "PiQNN5AZRhHI",
        "outputId": "e2ac8746-ecf7-45c8-bda0-7dcf26014a70"
      },
      "outputs": [
        {
          "data": {
            "text/html": [
              "<div>\n",
              "<style scoped>\n",
              "    .dataframe tbody tr th:only-of-type {\n",
              "        vertical-align: middle;\n",
              "    }\n",
              "\n",
              "    .dataframe tbody tr th {\n",
              "        vertical-align: top;\n",
              "    }\n",
              "\n",
              "    .dataframe thead th {\n",
              "        text-align: right;\n",
              "    }\n",
              "</style>\n",
              "<table border=\"1\" class=\"dataframe\">\n",
              "  <thead>\n",
              "    <tr style=\"text-align: right;\">\n",
              "      <th></th>\n",
              "      <th>Id</th>\n",
              "      <th>Cl.thickness</th>\n",
              "      <th>Cell.size</th>\n",
              "      <th>Cell.shape</th>\n",
              "      <th>Marg.adhesion</th>\n",
              "      <th>Epith.c.size</th>\n",
              "      <th>Bare.nuclei</th>\n",
              "      <th>Bl.cromatin</th>\n",
              "      <th>Normal.nucleoli</th>\n",
              "      <th>Mitoses</th>\n",
              "      <th>Class</th>\n",
              "    </tr>\n",
              "  </thead>\n",
              "  <tbody>\n",
              "    <tr>\n",
              "      <th>23</th>\n",
              "      <td>1057013</td>\n",
              "      <td>8</td>\n",
              "      <td>4</td>\n",
              "      <td>5</td>\n",
              "      <td>1</td>\n",
              "      <td>2</td>\n",
              "      <td>NaN</td>\n",
              "      <td>7</td>\n",
              "      <td>3</td>\n",
              "      <td>1</td>\n",
              "      <td>malignant</td>\n",
              "    </tr>\n",
              "    <tr>\n",
              "      <th>40</th>\n",
              "      <td>1096800</td>\n",
              "      <td>6</td>\n",
              "      <td>6</td>\n",
              "      <td>6</td>\n",
              "      <td>9</td>\n",
              "      <td>6</td>\n",
              "      <td>NaN</td>\n",
              "      <td>7</td>\n",
              "      <td>8</td>\n",
              "      <td>1</td>\n",
              "      <td>benign</td>\n",
              "    </tr>\n",
              "    <tr>\n",
              "      <th>139</th>\n",
              "      <td>1183246</td>\n",
              "      <td>1</td>\n",
              "      <td>1</td>\n",
              "      <td>1</td>\n",
              "      <td>1</td>\n",
              "      <td>1</td>\n",
              "      <td>NaN</td>\n",
              "      <td>2</td>\n",
              "      <td>1</td>\n",
              "      <td>1</td>\n",
              "      <td>benign</td>\n",
              "    </tr>\n",
              "    <tr>\n",
              "      <th>145</th>\n",
              "      <td>1184840</td>\n",
              "      <td>1</td>\n",
              "      <td>1</td>\n",
              "      <td>3</td>\n",
              "      <td>1</td>\n",
              "      <td>2</td>\n",
              "      <td>NaN</td>\n",
              "      <td>2</td>\n",
              "      <td>1</td>\n",
              "      <td>1</td>\n",
              "      <td>benign</td>\n",
              "    </tr>\n",
              "    <tr>\n",
              "      <th>158</th>\n",
              "      <td>1193683</td>\n",
              "      <td>1</td>\n",
              "      <td>1</td>\n",
              "      <td>2</td>\n",
              "      <td>1</td>\n",
              "      <td>3</td>\n",
              "      <td>NaN</td>\n",
              "      <td>1</td>\n",
              "      <td>1</td>\n",
              "      <td>1</td>\n",
              "      <td>benign</td>\n",
              "    </tr>\n",
              "    <tr>\n",
              "      <th>164</th>\n",
              "      <td>1197510</td>\n",
              "      <td>5</td>\n",
              "      <td>1</td>\n",
              "      <td>1</td>\n",
              "      <td>1</td>\n",
              "      <td>2</td>\n",
              "      <td>NaN</td>\n",
              "      <td>3</td>\n",
              "      <td>1</td>\n",
              "      <td>1</td>\n",
              "      <td>benign</td>\n",
              "    </tr>\n",
              "    <tr>\n",
              "      <th>235</th>\n",
              "      <td>1241232</td>\n",
              "      <td>3</td>\n",
              "      <td>1</td>\n",
              "      <td>4</td>\n",
              "      <td>1</td>\n",
              "      <td>2</td>\n",
              "      <td>NaN</td>\n",
              "      <td>3</td>\n",
              "      <td>1</td>\n",
              "      <td>1</td>\n",
              "      <td>benign</td>\n",
              "    </tr>\n",
              "    <tr>\n",
              "      <th>249</th>\n",
              "      <td>169356</td>\n",
              "      <td>3</td>\n",
              "      <td>1</td>\n",
              "      <td>1</td>\n",
              "      <td>1</td>\n",
              "      <td>2</td>\n",
              "      <td>NaN</td>\n",
              "      <td>3</td>\n",
              "      <td>1</td>\n",
              "      <td>1</td>\n",
              "      <td>benign</td>\n",
              "    </tr>\n",
              "    <tr>\n",
              "      <th>275</th>\n",
              "      <td>432809</td>\n",
              "      <td>3</td>\n",
              "      <td>1</td>\n",
              "      <td>3</td>\n",
              "      <td>1</td>\n",
              "      <td>2</td>\n",
              "      <td>NaN</td>\n",
              "      <td>2</td>\n",
              "      <td>1</td>\n",
              "      <td>1</td>\n",
              "      <td>benign</td>\n",
              "    </tr>\n",
              "    <tr>\n",
              "      <th>292</th>\n",
              "      <td>563649</td>\n",
              "      <td>8</td>\n",
              "      <td>8</td>\n",
              "      <td>8</td>\n",
              "      <td>1</td>\n",
              "      <td>2</td>\n",
              "      <td>NaN</td>\n",
              "      <td>6</td>\n",
              "      <td>10</td>\n",
              "      <td>1</td>\n",
              "      <td>malignant</td>\n",
              "    </tr>\n",
              "    <tr>\n",
              "      <th>294</th>\n",
              "      <td>606140</td>\n",
              "      <td>1</td>\n",
              "      <td>1</td>\n",
              "      <td>1</td>\n",
              "      <td>1</td>\n",
              "      <td>2</td>\n",
              "      <td>NaN</td>\n",
              "      <td>2</td>\n",
              "      <td>1</td>\n",
              "      <td>1</td>\n",
              "      <td>benign</td>\n",
              "    </tr>\n",
              "    <tr>\n",
              "      <th>297</th>\n",
              "      <td>61634</td>\n",
              "      <td>5</td>\n",
              "      <td>4</td>\n",
              "      <td>3</td>\n",
              "      <td>1</td>\n",
              "      <td>2</td>\n",
              "      <td>NaN</td>\n",
              "      <td>2</td>\n",
              "      <td>3</td>\n",
              "      <td>1</td>\n",
              "      <td>benign</td>\n",
              "    </tr>\n",
              "    <tr>\n",
              "      <th>315</th>\n",
              "      <td>704168</td>\n",
              "      <td>4</td>\n",
              "      <td>6</td>\n",
              "      <td>5</td>\n",
              "      <td>6</td>\n",
              "      <td>7</td>\n",
              "      <td>NaN</td>\n",
              "      <td>4</td>\n",
              "      <td>9</td>\n",
              "      <td>1</td>\n",
              "      <td>benign</td>\n",
              "    </tr>\n",
              "    <tr>\n",
              "      <th>321</th>\n",
              "      <td>733639</td>\n",
              "      <td>3</td>\n",
              "      <td>1</td>\n",
              "      <td>1</td>\n",
              "      <td>1</td>\n",
              "      <td>2</td>\n",
              "      <td>NaN</td>\n",
              "      <td>3</td>\n",
              "      <td>1</td>\n",
              "      <td>1</td>\n",
              "      <td>benign</td>\n",
              "    </tr>\n",
              "    <tr>\n",
              "      <th>411</th>\n",
              "      <td>1238464</td>\n",
              "      <td>1</td>\n",
              "      <td>1</td>\n",
              "      <td>1</td>\n",
              "      <td>1</td>\n",
              "      <td>1</td>\n",
              "      <td>NaN</td>\n",
              "      <td>2</td>\n",
              "      <td>1</td>\n",
              "      <td>1</td>\n",
              "      <td>benign</td>\n",
              "    </tr>\n",
              "    <tr>\n",
              "      <th>617</th>\n",
              "      <td>1057067</td>\n",
              "      <td>1</td>\n",
              "      <td>1</td>\n",
              "      <td>1</td>\n",
              "      <td>1</td>\n",
              "      <td>1</td>\n",
              "      <td>NaN</td>\n",
              "      <td>1</td>\n",
              "      <td>1</td>\n",
              "      <td>1</td>\n",
              "      <td>benign</td>\n",
              "    </tr>\n",
              "  </tbody>\n",
              "</table>\n",
              "</div>"
            ],
            "text/plain": [
              "          Id  Cl.thickness  Cell.size  Cell.shape  Marg.adhesion  \\\n",
              "23   1057013             8          4           5              1   \n",
              "40   1096800             6          6           6              9   \n",
              "139  1183246             1          1           1              1   \n",
              "145  1184840             1          1           3              1   \n",
              "158  1193683             1          1           2              1   \n",
              "164  1197510             5          1           1              1   \n",
              "235  1241232             3          1           4              1   \n",
              "249   169356             3          1           1              1   \n",
              "275   432809             3          1           3              1   \n",
              "292   563649             8          8           8              1   \n",
              "294   606140             1          1           1              1   \n",
              "297    61634             5          4           3              1   \n",
              "315   704168             4          6           5              6   \n",
              "321   733639             3          1           1              1   \n",
              "411  1238464             1          1           1              1   \n",
              "617  1057067             1          1           1              1   \n",
              "\n",
              "     Epith.c.size  Bare.nuclei  Bl.cromatin  Normal.nucleoli  Mitoses  \\\n",
              "23              2          NaN            7                3        1   \n",
              "40              6          NaN            7                8        1   \n",
              "139             1          NaN            2                1        1   \n",
              "145             2          NaN            2                1        1   \n",
              "158             3          NaN            1                1        1   \n",
              "164             2          NaN            3                1        1   \n",
              "235             2          NaN            3                1        1   \n",
              "249             2          NaN            3                1        1   \n",
              "275             2          NaN            2                1        1   \n",
              "292             2          NaN            6               10        1   \n",
              "294             2          NaN            2                1        1   \n",
              "297             2          NaN            2                3        1   \n",
              "315             7          NaN            4                9        1   \n",
              "321             2          NaN            3                1        1   \n",
              "411             1          NaN            2                1        1   \n",
              "617             1          NaN            1                1        1   \n",
              "\n",
              "         Class  \n",
              "23   malignant  \n",
              "40      benign  \n",
              "139     benign  \n",
              "145     benign  \n",
              "158     benign  \n",
              "164     benign  \n",
              "235     benign  \n",
              "249     benign  \n",
              "275     benign  \n",
              "292  malignant  \n",
              "294     benign  \n",
              "297     benign  \n",
              "315     benign  \n",
              "321     benign  \n",
              "411     benign  \n",
              "617     benign  "
            ]
          },
          "execution_count": 71,
          "metadata": {},
          "output_type": "execute_result"
        }
      ],
      "source": [
        "# Visualize the NULL observations\n",
        "\n",
        "df[df['Bare.nuclei'].isnull()]"
      ]
    },
    {
      "cell_type": "markdown",
      "metadata": {
        "id": "13hXbCbIRhHJ"
      },
      "source": [
        "Column 'Bare.nuclei' has missing values,replace with the mean value sicne the missing values are not too much"
      ]
    },
    {
      "cell_type": "code",
      "execution_count": null,
      "metadata": {
        "id": "HvV1UxvsRhHJ"
      },
      "outputs": [],
      "source": [
        "#FillNA in Bare.nuclei'\n",
        "\n",
        "df['Bare.nuclei'].fillna(value=df['Bare.nuclei'].mean(), inplace=True)"
      ]
    },
    {
      "cell_type": "code",
      "execution_count": null,
      "metadata": {
        "id": "FG-8BDjQRhHJ",
        "outputId": "931126cc-9027-4a11-97ec-42986a012c0a"
      },
      "outputs": [
        {
          "data": {
            "text/plain": [
              "Id                 0\n",
              "Cl.thickness       0\n",
              "Cell.size          0\n",
              "Cell.shape         0\n",
              "Marg.adhesion      0\n",
              "Epith.c.size       0\n",
              "Bare.nuclei        0\n",
              "Bl.cromatin        0\n",
              "Normal.nucleoli    0\n",
              "Mitoses            0\n",
              "Class              0\n",
              "dtype: int64"
            ]
          },
          "execution_count": 73,
          "metadata": {},
          "output_type": "execute_result"
        }
      ],
      "source": [
        "# Visualize the NULL observations\n",
        "df.isnull().sum()"
      ]
    },
    {
      "cell_type": "code",
      "execution_count": null,
      "metadata": {
        "id": "dOmi-35lRhHJ",
        "outputId": "3b5bfcf1-3bb6-4b72-b8d7-2d80ad341109"
      },
      "outputs": [
        {
          "name": "stdout",
          "output_type": "stream",
          "text": [
            "The number of values for feature Id is: 645\n",
            "The number of values for feature Cl.thickness is: 10\n",
            "The number of values for feature Cell.size is: 10\n",
            "The number of values for feature Cell.shape is: 10\n",
            "The number of values for feature Marg.adhesion is: 10\n",
            "The number of values for feature Epith.c.size is: 10\n",
            "The number of values for feature Bare.nuclei is: 11\n",
            "The number of values for feature Bl.cromatin is: 10\n",
            "The number of values for feature Normal.nucleoli is: 10\n",
            "The number of values for feature Mitoses is: 9\n",
            "The number of values for feature Class is: 2 -- ['benign' 'malignant']\n"
          ]
        }
      ],
      "source": [
        "# Investigate all the elements whithin each Feature \n",
        "\n",
        "for column in df:\n",
        "    unique_values = np.unique(df[column])\n",
        "    nr_values = len(unique_values)\n",
        "    if nr_values <= 5:\n",
        "        print(\"The number of values for feature {} is: {} -- {}\".format(column, nr_values, unique_values))\n",
        "    else:\n",
        "        print(\"The number of values for feature {} is: {}\".format(column, nr_values))"
      ]
    },
    {
      "cell_type": "code",
      "execution_count": null,
      "metadata": {
        "id": "49p7lT_4RhHK",
        "outputId": "2aeb071a-d1de-4bb7-9547-c92dcae20f16"
      },
      "outputs": [
        {
          "data": {
            "text/plain": [
              "<AxesSubplot:xlabel='Class', ylabel='count'>"
            ]
          },
          "execution_count": 75,
          "metadata": {},
          "output_type": "execute_result"
        },
        {
          "data": {
            "image/png": "[encoded data removed]",
            "text/plain": [
              "<Figure size 432x288 with 1 Axes>"
            ]
          },
          "metadata": {
            "needs_background": "light"
          },
          "output_type": "display_data"
        }
      ],
      "source": [
        "#Response Balancesness :  frequency distribution\n",
        "\n",
        "sns.countplot(data=df,x='Class')"
      ]
    },
    {
      "cell_type": "markdown",
      "metadata": {
        "id": "vFEYDiQZRhHK"
      },
      "source": [
        "The response is not balanced"
      ]
    },
    {
      "cell_type": "code",
      "execution_count": null,
      "metadata": {
        "id": "FVkynpVtRhHK",
        "outputId": "9a03589a-ac0b-4753-cdfe-8cb7037e5d05"
      },
      "outputs": [
        {
          "data": {
            "image/png": "[encoded data removed]",
            "text/plain": [
              "<Figure size 1080x720 with 9 Axes>"
            ]
          },
          "metadata": {
            "needs_background": "light"
          },
          "output_type": "display_data"
        }
      ],
      "source": [
        "### CountPlot Ditribution \n",
        "\n",
        "fig,axs = plt.subplots(3,3, figsize = (15,10))\n",
        "\n",
        "sns.countplot(data=df, x=\"Cell.shape\",  color=\"skyblue\", ax=axs[0, 0])\n",
        "sns.countplot(data=df, x=\"Marg.adhesion\", color=\"olive\", ax=axs[0, 1])\n",
        "sns.countplot(data=df, x=\"Epith.c.size\", color=\"gold\", ax=axs[0, 2])\n",
        "sns.countplot(data=df, x=\"Bare.nuclei\",color=\"teal\", ax=axs[1, 0])\n",
        "sns.countplot(data=df, x=\"Bl.cromatin\",color=\"teal\", ax=axs[1, 1])\n",
        "sns.countplot(data=df, x=\"Normal.nucleoli\", color=\"blue\", ax=axs[1, 2])\n",
        "sns.countplot(data=df, x=\"Mitoses\", color=\"purple\", ax=axs[2,0])\n",
        "sns.countplot(data=df, x=\"Cl.thickness\", color=\"purple\", ax=axs[2,1])\n",
        "sns.countplot(data=df, x=\"Cell.size\", color=\"purple\", ax=axs[2,2])\n",
        "\n",
        "fig.tight_layout()"
      ]
    },
    {
      "cell_type": "code",
      "execution_count": null,
      "metadata": {
        "id": "J_lvvnKmRhHK",
        "outputId": "d9c23463-4833-45d7-b743-93a0245ee0a6"
      },
      "outputs": [
        {
          "data": {
            "image/png": "[encoded data removed]",
            "text/plain": [
              "<Figure size 1080x720 with 9 Axes>"
            ]
          },
          "metadata": {
            "needs_background": "light"
          },
          "output_type": "display_data"
        }
      ],
      "source": [
        "### Histogram Distribution\n",
        "\n",
        "fig,axs = plt.subplots(3,3, figsize = (15,10))\n",
        "\n",
        "sns.histplot(data=df, x=\"Cell.shape\",  kde= True, color=\"skyblue\", ax=axs[0, 0])\n",
        "sns.histplot(data=df, x=\"Marg.adhesion\", kde= True, color=\"olive\", ax=axs[0, 1])\n",
        "sns.histplot(data=df, x=\"Epith.c.size\", kde= True, color=\"gold\", ax=axs[0, 2])\n",
        "sns.histplot(data=df, x=\"Bare.nuclei\",kde= True, color=\"teal\", ax=axs[1, 0])\n",
        "sns.histplot(data=df, x=\"Bl.cromatin\", kde= True, color=\"teal\", ax=axs[1, 1])\n",
        "sns.histplot(data=df, x=\"Normal.nucleoli\", kde= True, color=\"blue\", ax=axs[1, 2])\n",
        "sns.histplot(data=df, x=\"Mitoses\", color=\"purple\", ax=axs[2,0])\n",
        "sns.histplot(data=df, x=\"Cl.thickness\", kde= True, color=\"purple\", ax=axs[2,1])\n",
        "sns.histplot(data=df, x=\"Cell.size\", kde= True, color=\"purple\", ax=axs[2,2])\n",
        "\n",
        "fig.tight_layout()"
      ]
    },
    {
      "cell_type": "markdown",
      "metadata": {
        "id": "oA14KKG_RhHL"
      },
      "source": [
        "The didtribution shown, we can tell that non of the variable have normal distribution\n",
        "This will impact our model"
      ]
    },
    {
      "cell_type": "code",
      "execution_count": null,
      "metadata": {
        "id": "HW1eMLMMRhHL"
      },
      "outputs": [],
      "source": [
        ""
      ]
    },
    {
      "cell_type": "markdown",
      "metadata": {
        "id": "jql5modMRhHL"
      },
      "source": [
        "#### Explore the associations between Class and other attributes."
      ]
    },
    {
      "cell_type": "code",
      "execution_count": null,
      "metadata": {
        "id": "94GKvIpTRhHM"
      },
      "outputs": [],
      "source": [
        "# Creating Scale Map\n",
        "scale_mapper = {'malignant':1, 'benign':0}\n",
        "\n",
        "# Map feature values to scale\n",
        "df['Class'] = df['Class'].replace(scale_mapper)"
      ]
    },
    {
      "cell_type": "code",
      "execution_count": null,
      "metadata": {
        "id": "J91HRrWZRhHM",
        "outputId": "b99422f8-0556-4bcb-dd35-063ded34709b"
      },
      "outputs": [
        {
          "data": {
            "text/plain": [
              "0      0\n",
              "1      0\n",
              "2      0\n",
              "3      0\n",
              "4      0\n",
              "      ..\n",
              "694    0\n",
              "695    0\n",
              "696    1\n",
              "697    1\n",
              "698    1\n",
              "Name: Class, Length: 699, dtype: int64"
            ]
          },
          "execution_count": 80,
          "metadata": {},
          "output_type": "execute_result"
        }
      ],
      "source": [
        "df['Class']"
      ]
    },
    {
      "cell_type": "code",
      "execution_count": null,
      "metadata": {
        "id": "tHnCqjFHRhHN",
        "outputId": "0dcd9f93-05ae-4d61-862f-0b16953a6831"
      },
      "outputs": [
        {
          "data": {
            "image/png": "[encoded data removed]",
            "text/plain": [
              "<Figure size 1080x720 with 9 Axes>"
            ]
          },
          "metadata": {
            "needs_background": "light"
          },
          "output_type": "display_data"
        }
      ],
      "source": [
        "\n",
        "fig,axs = plt.subplots(3,3, figsize = (15,10))\n",
        "\n",
        "sns.barplot(data=df,x ='Class' ,y=\"Cell.shape\",  color=\"skyblue\", ax=axs[0, 0])\n",
        "sns.barplot(data=df, x ='Class', y=\"Marg.adhesion\", color=\"olive\", ax=axs[0, 1])\n",
        "sns.barplot(data=df, x ='Class', y=\"Epith.c.size\", color=\"gold\", ax=axs[0, 2])\n",
        "sns.barplot(data=df, x ='Class', y=\"Bare.nuclei\",color=\"teal\", ax=axs[1, 0])\n",
        "sns.barplot(data=df, x ='Class', y=\"Bl.cromatin\",color=\"teal\", ax=axs[1, 1])\n",
        "sns.barplot(data=df, x ='Class', y=\"Normal.nucleoli\", color=\"blue\", ax=axs[1, 2])\n",
        "sns.barplot(data=df, x ='Class', y=\"Mitoses\", color=\"purple\", ax=axs[2,0])\n",
        "sns.barplot(data=df, x ='Class', y=\"Cl.thickness\", color=\"purple\", ax=axs[2,1])\n",
        "sns.barplot(data=df, x ='Class', y=\"Cell.size\", color=\"purple\", ax=axs[2,2])\n",
        "\n",
        "fig.tight_layout()"
      ]
    },
    {
      "cell_type": "markdown",
      "metadata": {
        "id": "IJlosR5QRhHN"
      },
      "source": [
        "Those who are malignant in tend to have larger values for all the features(predictors)\n",
        "\n",
        "This implies a direct proportion  between the size of each feature and the malignant category Class\n",
        "\n",
        "This is the exact opposite of the benign"
      ]
    },
    {
      "cell_type": "code",
      "execution_count": null,
      "metadata": {
        "id": "FM0tw9n6RhHN"
      },
      "outputs": [],
      "source": [
        ""
      ]
    },
    {
      "cell_type": "markdown",
      "metadata": {
        "id": "DM7mc29rRhHN"
      },
      "source": [
        "#### Investigating Multicolinearity "
      ]
    },
    {
      "cell_type": "code",
      "execution_count": null,
      "metadata": {
        "id": "vxKKMvI1RhHO"
      },
      "outputs": [],
      "source": [
        "#Remove Target Variable\n",
        "\n",
        "dfcor = df.drop(columns=['Class'])"
      ]
    },
    {
      "cell_type": "code",
      "execution_count": null,
      "metadata": {
        "id": "XZwrBcuTRhHO",
        "outputId": "c4f3e4dc-9ab4-45f2-ca9c-6526f99f9241"
      },
      "outputs": [
        {
          "data": {
            "text/html": [
              "<div>\n",
              "<style scoped>\n",
              "    .dataframe tbody tr th:only-of-type {\n",
              "        vertical-align: middle;\n",
              "    }\n",
              "\n",
              "    .dataframe tbody tr th {\n",
              "        vertical-align: top;\n",
              "    }\n",
              "\n",
              "    .dataframe thead th {\n",
              "        text-align: right;\n",
              "    }\n",
              "</style>\n",
              "<table border=\"1\" class=\"dataframe\">\n",
              "  <thead>\n",
              "    <tr style=\"text-align: right;\">\n",
              "      <th></th>\n",
              "      <th>Id</th>\n",
              "      <th>Cl.thickness</th>\n",
              "      <th>Cell.size</th>\n",
              "      <th>Cell.shape</th>\n",
              "      <th>Marg.adhesion</th>\n",
              "      <th>Epith.c.size</th>\n",
              "      <th>Bare.nuclei</th>\n",
              "      <th>Bl.cromatin</th>\n",
              "      <th>Normal.nucleoli</th>\n",
              "      <th>Mitoses</th>\n",
              "    </tr>\n",
              "  </thead>\n",
              "  <tbody>\n",
              "    <tr>\n",
              "      <th>0</th>\n",
              "      <td>1000025</td>\n",
              "      <td>5</td>\n",
              "      <td>1</td>\n",
              "      <td>1</td>\n",
              "      <td>1</td>\n",
              "      <td>2</td>\n",
              "      <td>1.0</td>\n",
              "      <td>3</td>\n",
              "      <td>1</td>\n",
              "      <td>1</td>\n",
              "    </tr>\n",
              "    <tr>\n",
              "      <th>1</th>\n",
              "      <td>1002945</td>\n",
              "      <td>5</td>\n",
              "      <td>4</td>\n",
              "      <td>4</td>\n",
              "      <td>5</td>\n",
              "      <td>7</td>\n",
              "      <td>10.0</td>\n",
              "      <td>3</td>\n",
              "      <td>2</td>\n",
              "      <td>1</td>\n",
              "    </tr>\n",
              "    <tr>\n",
              "      <th>2</th>\n",
              "      <td>1015425</td>\n",
              "      <td>3</td>\n",
              "      <td>1</td>\n",
              "      <td>1</td>\n",
              "      <td>1</td>\n",
              "      <td>2</td>\n",
              "      <td>2.0</td>\n",
              "      <td>3</td>\n",
              "      <td>1</td>\n",
              "      <td>1</td>\n",
              "    </tr>\n",
              "    <tr>\n",
              "      <th>3</th>\n",
              "      <td>1016277</td>\n",
              "      <td>6</td>\n",
              "      <td>8</td>\n",
              "      <td>8</td>\n",
              "      <td>1</td>\n",
              "      <td>3</td>\n",
              "      <td>4.0</td>\n",
              "      <td>3</td>\n",
              "      <td>7</td>\n",
              "      <td>1</td>\n",
              "    </tr>\n",
              "    <tr>\n",
              "      <th>4</th>\n",
              "      <td>1017023</td>\n",
              "      <td>4</td>\n",
              "      <td>1</td>\n",
              "      <td>1</td>\n",
              "      <td>3</td>\n",
              "      <td>2</td>\n",
              "      <td>1.0</td>\n",
              "      <td>3</td>\n",
              "      <td>1</td>\n",
              "      <td>1</td>\n",
              "    </tr>\n",
              "    <tr>\n",
              "      <th>...</th>\n",
              "      <td>...</td>\n",
              "      <td>...</td>\n",
              "      <td>...</td>\n",
              "      <td>...</td>\n",
              "      <td>...</td>\n",
              "      <td>...</td>\n",
              "      <td>...</td>\n",
              "      <td>...</td>\n",
              "      <td>...</td>\n",
              "      <td>...</td>\n",
              "    </tr>\n",
              "    <tr>\n",
              "      <th>694</th>\n",
              "      <td>776715</td>\n",
              "      <td>3</td>\n",
              "      <td>1</td>\n",
              "      <td>1</td>\n",
              "      <td>1</td>\n",
              "      <td>3</td>\n",
              "      <td>2.0</td>\n",
              "      <td>1</td>\n",
              "      <td>1</td>\n",
              "      <td>1</td>\n",
              "    </tr>\n",
              "    <tr>\n",
              "      <th>695</th>\n",
              "      <td>841769</td>\n",
              "      <td>2</td>\n",
              "      <td>1</td>\n",
              "      <td>1</td>\n",
              "      <td>1</td>\n",
              "      <td>2</td>\n",
              "      <td>1.0</td>\n",
              "      <td>1</td>\n",
              "      <td>1</td>\n",
              "      <td>1</td>\n",
              "    </tr>\n",
              "    <tr>\n",
              "      <th>696</th>\n",
              "      <td>888820</td>\n",
              "      <td>5</td>\n",
              "      <td>10</td>\n",
              "      <td>10</td>\n",
              "      <td>3</td>\n",
              "      <td>7</td>\n",
              "      <td>3.0</td>\n",
              "      <td>8</td>\n",
              "      <td>10</td>\n",
              "      <td>2</td>\n",
              "    </tr>\n",
              "    <tr>\n",
              "      <th>697</th>\n",
              "      <td>897471</td>\n",
              "      <td>4</td>\n",
              "      <td>8</td>\n",
              "      <td>6</td>\n",
              "      <td>4</td>\n",
              "      <td>3</td>\n",
              "      <td>4.0</td>\n",
              "      <td>10</td>\n",
              "      <td>6</td>\n",
              "      <td>1</td>\n",
              "    </tr>\n",
              "    <tr>\n",
              "      <th>698</th>\n",
              "      <td>897471</td>\n",
              "      <td>4</td>\n",
              "      <td>8</td>\n",
              "      <td>8</td>\n",
              "      <td>5</td>\n",
              "      <td>4</td>\n",
              "      <td>5.0</td>\n",
              "      <td>10</td>\n",
              "      <td>4</td>\n",
              "      <td>1</td>\n",
              "    </tr>\n",
              "  </tbody>\n",
              "</table>\n",
              "<p>699 rows × 10 columns</p>\n",
              "</div>"
            ],
            "text/plain": [
              "          Id  Cl.thickness  Cell.size  Cell.shape  Marg.adhesion  \\\n",
              "0    1000025             5          1           1              1   \n",
              "1    1002945             5          4           4              5   \n",
              "2    1015425             3          1           1              1   \n",
              "3    1016277             6          8           8              1   \n",
              "4    1017023             4          1           1              3   \n",
              "..       ...           ...        ...         ...            ...   \n",
              "694   776715             3          1           1              1   \n",
              "695   841769             2          1           1              1   \n",
              "696   888820             5         10          10              3   \n",
              "697   897471             4          8           6              4   \n",
              "698   897471             4          8           8              5   \n",
              "\n",
              "     Epith.c.size  Bare.nuclei  Bl.cromatin  Normal.nucleoli  Mitoses  \n",
              "0               2          1.0            3                1        1  \n",
              "1               7         10.0            3                2        1  \n",
              "2               2          2.0            3                1        1  \n",
              "3               3          4.0            3                7        1  \n",
              "4               2          1.0            3                1        1  \n",
              "..            ...          ...          ...              ...      ...  \n",
              "694             3          2.0            1                1        1  \n",
              "695             2          1.0            1                1        1  \n",
              "696             7          3.0            8               10        2  \n",
              "697             3          4.0           10                6        1  \n",
              "698             4          5.0           10                4        1  \n",
              "\n",
              "[699 rows x 10 columns]"
            ]
          },
          "execution_count": 105,
          "metadata": {},
          "output_type": "execute_result"
        }
      ],
      "source": [
        "dfcor"
      ]
    },
    {
      "cell_type": "code",
      "execution_count": null,
      "metadata": {
        "id": "tCvMxLYbRhHO",
        "outputId": "e3e7d67d-0a13-431d-d22d-aa96b9710b3a"
      },
      "outputs": [
        {
          "data": {
            "image/png": "[encoded data removed]",
            "text/plain": [
              "<Figure size 1080x720 with 2 Axes>"
            ]
          },
          "metadata": {
            "needs_background": "light"
          },
          "output_type": "display_data"
        }
      ],
      "source": [
        "#Correlation matrix\n",
        "plt.figure(figsize=(15,10)) #Set figure size\n",
        "\n",
        "sns.heatmap(dfcor.corr(), annot=True)\n",
        "\n",
        "plt.show()"
      ]
    },
    {
      "cell_type": "code",
      "execution_count": null,
      "metadata": {
        "id": "J5uQ9dTsRhHO",
        "outputId": "8f1e3267-dea2-46f9-bf6f-ab92d97c883e"
      },
      "outputs": [
        {
          "name": "stdout",
          "output_type": "stream",
          "text": [
            "[{'column': 'Cell.size', 'row': 'Cell.shape', 'val': 0.9068819130526037}, {'column': 'Cell.shape', 'row': 'Cell.size', 'val': 0.9068819130526037}]\n"
          ]
        }
      ],
      "source": [
        "correlatedColumns = []\n",
        "corr = dfcor.corr()\n",
        "indices = corr.index\n",
        "columns = corr.columns\n",
        "posthreshold = 0.8\n",
        "negthreshold = -0.8\n",
        "\n",
        "for c in columns:\n",
        "    for r in indices:\n",
        "        if c != r and (corr[c][r] > posthreshold or corr[c][r] < negthreshold):\n",
        "            correlatedColumns.append({\"column\" : c , \"row\" : r , \"val\" :corr[c][r] })\n",
        "            \n",
        "if len(correlatedColumns) < 1: print('No Multicolinearity in dataset')\n",
        "\n",
        "else: print(correlatedColumns)"
      ]
    },
    {
      "cell_type": "markdown",
      "metadata": {
        "id": "iW8nc09IRhHO"
      },
      "source": [
        "Some of the features exhibit multicolinearity at a threshold of (0.8)"
      ]
    },
    {
      "cell_type": "code",
      "source": [
        ""
      ],
      "metadata": {
        "id": "tSwIAS6rSEOw"
      },
      "execution_count": null,
      "outputs": []
    },
    {
      "cell_type": "markdown",
      "source": [
        "### 3. Partition the data into three parts, the training data D1, the validation data D2, and the test data D3, with a ratio of 2:1:1."
      ],
      "metadata": {
        "id": "yMQVyzATSKZv"
      }
    },
    {
      "cell_type": "markdown",
      "metadata": {
        "id": "9Ygl3pRtRhHP"
      },
      "source": [
        "##### Standardize The Data"
      ]
    },
    {
      "cell_type": "code",
      "execution_count": null,
      "metadata": {
        "id": "zHC30I-0RhHP",
        "outputId": "70a04ef5-7b52-4748-9dcb-b82aa04107e6"
      },
      "outputs": [
        {
          "data": {
            "text/plain": [
              "Index(['Id', 'Cl.thickness', 'Cell.size', 'Cell.shape', 'Marg.adhesion',\n",
              "       'Epith.c.size', 'Bare.nuclei', 'Bl.cromatin', 'Normal.nucleoli',\n",
              "       'Mitoses', 'Class'],\n",
              "      dtype='object')"
            ]
          },
          "execution_count": 109,
          "metadata": {},
          "output_type": "execute_result"
        }
      ],
      "source": [
        "df.columns"
      ]
    },
    {
      "cell_type": "code",
      "execution_count": null,
      "metadata": {
        "id": "H9ya-gPyRhHP",
        "outputId": "f09aa8fd-3573-4919-de60-a73cd6b0bcef"
      },
      "outputs": [
        {
          "data": {
            "text/html": [
              "<div>\n",
              "<style scoped>\n",
              "    .dataframe tbody tr th:only-of-type {\n",
              "        vertical-align: middle;\n",
              "    }\n",
              "\n",
              "    .dataframe tbody tr th {\n",
              "        vertical-align: top;\n",
              "    }\n",
              "\n",
              "    .dataframe thead th {\n",
              "        text-align: right;\n",
              "    }\n",
              "</style>\n",
              "<table border=\"1\" class=\"dataframe\">\n",
              "  <thead>\n",
              "    <tr style=\"text-align: right;\">\n",
              "      <th></th>\n",
              "      <th>Id</th>\n",
              "      <th>Cl.thickness</th>\n",
              "      <th>Cell.size</th>\n",
              "      <th>Cell.shape</th>\n",
              "      <th>Marg.adhesion</th>\n",
              "      <th>Epith.c.size</th>\n",
              "      <th>Bare.nuclei</th>\n",
              "      <th>Bl.cromatin</th>\n",
              "      <th>Normal.nucleoli</th>\n",
              "      <th>Mitoses</th>\n",
              "      <th>Class</th>\n",
              "    </tr>\n",
              "  </thead>\n",
              "  <tbody>\n",
              "    <tr>\n",
              "      <th>0</th>\n",
              "      <td>0.070067</td>\n",
              "      <td>0.444444</td>\n",
              "      <td>0.000000</td>\n",
              "      <td>0.000000</td>\n",
              "      <td>0.000000</td>\n",
              "      <td>0.111111</td>\n",
              "      <td>0.000000</td>\n",
              "      <td>0.222222</td>\n",
              "      <td>0.000000</td>\n",
              "      <td>0.0</td>\n",
              "      <td>0</td>\n",
              "    </tr>\n",
              "    <tr>\n",
              "      <th>1</th>\n",
              "      <td>0.070285</td>\n",
              "      <td>0.444444</td>\n",
              "      <td>0.333333</td>\n",
              "      <td>0.333333</td>\n",
              "      <td>0.444444</td>\n",
              "      <td>0.666667</td>\n",
              "      <td>1.000000</td>\n",
              "      <td>0.222222</td>\n",
              "      <td>0.111111</td>\n",
              "      <td>0.0</td>\n",
              "      <td>0</td>\n",
              "    </tr>\n",
              "    <tr>\n",
              "      <th>2</th>\n",
              "      <td>0.071217</td>\n",
              "      <td>0.222222</td>\n",
              "      <td>0.000000</td>\n",
              "      <td>0.000000</td>\n",
              "      <td>0.000000</td>\n",
              "      <td>0.111111</td>\n",
              "      <td>0.111111</td>\n",
              "      <td>0.222222</td>\n",
              "      <td>0.000000</td>\n",
              "      <td>0.0</td>\n",
              "      <td>0</td>\n",
              "    </tr>\n",
              "    <tr>\n",
              "      <th>3</th>\n",
              "      <td>0.071281</td>\n",
              "      <td>0.555556</td>\n",
              "      <td>0.777778</td>\n",
              "      <td>0.777778</td>\n",
              "      <td>0.000000</td>\n",
              "      <td>0.222222</td>\n",
              "      <td>0.333333</td>\n",
              "      <td>0.222222</td>\n",
              "      <td>0.666667</td>\n",
              "      <td>0.0</td>\n",
              "      <td>0</td>\n",
              "    </tr>\n",
              "    <tr>\n",
              "      <th>4</th>\n",
              "      <td>0.071336</td>\n",
              "      <td>0.333333</td>\n",
              "      <td>0.000000</td>\n",
              "      <td>0.000000</td>\n",
              "      <td>0.222222</td>\n",
              "      <td>0.111111</td>\n",
              "      <td>0.000000</td>\n",
              "      <td>0.222222</td>\n",
              "      <td>0.000000</td>\n",
              "      <td>0.0</td>\n",
              "      <td>0</td>\n",
              "    </tr>\n",
              "  </tbody>\n",
              "</table>\n",
              "</div>"
            ],
            "text/plain": [
              "         Id  Cl.thickness  Cell.size  Cell.shape  Marg.adhesion  Epith.c.size  \\\n",
              "0  0.070067      0.444444   0.000000    0.000000       0.000000      0.111111   \n",
              "1  0.070285      0.444444   0.333333    0.333333       0.444444      0.666667   \n",
              "2  0.071217      0.222222   0.000000    0.000000       0.000000      0.111111   \n",
              "3  0.071281      0.555556   0.777778    0.777778       0.000000      0.222222   \n",
              "4  0.071336      0.333333   0.000000    0.000000       0.222222      0.111111   \n",
              "\n",
              "   Bare.nuclei  Bl.cromatin  Normal.nucleoli  Mitoses  Class  \n",
              "0     0.000000     0.222222         0.000000      0.0      0  \n",
              "1     1.000000     0.222222         0.111111      0.0      0  \n",
              "2     0.111111     0.222222         0.000000      0.0      0  \n",
              "3     0.333333     0.222222         0.666667      0.0      0  \n",
              "4     0.000000     0.222222         0.000000      0.0      0  "
            ]
          },
          "execution_count": 112,
          "metadata": {},
          "output_type": "execute_result"
        }
      ],
      "source": [
        "from sklearn.preprocessing import MinMaxScaler\n",
        "\n",
        "# Scaling our columns except the target\n",
        "scale_vars = ['Id','Cl.thickness', 'Cell.size', 'Cell.shape', 'Marg.adhesion',\n",
        "              'Epith.c.size', 'Bare.nuclei', 'Bl.cromatin', 'Normal.nucleoli','Mitoses'\n",
        "             ]\n",
        "\n",
        "scaler = MinMaxScaler()\n",
        "df[scale_vars] = scaler.fit_transform(df[scale_vars]) #df1[scale_vars] -> making the array  to a dataframe\n",
        "\n",
        "df.head()\n"
      ]
    },
    {
      "cell_type": "code",
      "execution_count": null,
      "metadata": {
        "id": "j70yDHVuRhHP"
      },
      "outputs": [],
      "source": [
        "X = df.drop('Class', axis = 1)"
      ]
    },
    {
      "cell_type": "code",
      "execution_count": null,
      "metadata": {
        "id": "Z7tcJ54IRhHP"
      },
      "outputs": [],
      "source": [
        "y = df['Class']"
      ]
    },
    {
      "cell_type": "code",
      "execution_count": null,
      "metadata": {
        "id": "zYAOqtpGRhHQ"
      },
      "outputs": [],
      "source": [
        "\n",
        "#Split the data into training and testing set using Hold-out validation Method\n",
        "\n",
        "from sklearn.model_selection import train_test_split\n",
        "\n",
        "# first one\n",
        "X_train, X_test, y_train, y_test = train_test_split(X, y, train_size = 0.8, test_size=0.2, random_state=15)\n",
        "\n",
        "# Second one: It will be used after hyper-parameter tuning\n",
        "X_train, X_valid, y_train, y_valid = train_test_split(X_train, y_train, train_size = 0.9, test_size=0.1, random_state=15)"
      ]
    },
    {
      "cell_type": "code",
      "execution_count": null,
      "metadata": {
        "id": "vFK2BztIRhHQ"
      },
      "outputs": [],
      "source": [
        ""
      ]
    },
    {
      "cell_type": "markdown",
      "metadata": {
        "id": "phP6nrvFRhHQ"
      },
      "source": [
        "### 4. We now build a logistic regression model for this medical diagnosis task."
      ]
    },
    {
      "cell_type": "markdown",
      "metadata": {
        "id": "5_j8_lEmRhHQ"
      },
      "source": [
        "##### (a) Fit the regularized logistic regression using the training data D1. While L1 regu-larization or LASSO is suggested here, you may use other penalty functions of your choice."
      ]
    },
    {
      "cell_type": "markdown",
      "metadata": {
        "id": "_6nKWIytRhHQ"
      },
      "source": [
        "# Lasso Regression"
      ]
    },
    {
      "cell_type": "code",
      "execution_count": null,
      "metadata": {
        "id": "jrdQCopkRhHQ",
        "outputId": "3402614b-1bf0-49e8-816f-a0ee5e149c43"
      },
      "outputs": [
        {
          "data": {
            "text/plain": [
              "Lasso(alpha=0.1)"
            ]
          },
          "execution_count": 372,
          "metadata": {},
          "output_type": "execute_result"
        }
      ],
      "source": [
        "from sklearn.linear_model import Lasso\n",
        "\n",
        "#Train the model\n",
        "lassoReg = Lasso(alpha=0.1)\n",
        "lassoReg.fit(X_train, y_train)"
      ]
    },
    {
      "cell_type": "code",
      "execution_count": null,
      "metadata": {
        "id": "z_aXJk_gRhHR"
      },
      "outputs": [],
      "source": [
        "#Predict\n",
        "y_pred_lasso = lassoReg.predict(X_train)"
      ]
    },
    {
      "cell_type": "code",
      "execution_count": null,
      "metadata": {
        "id": "BCnGBjCwRhHR",
        "outputId": "cdebd40f-34cc-42c6-89af-d1793d48107f"
      },
      "outputs": [
        {
          "name": "stdout",
          "output_type": "stream",
          "text": [
            "Mean Absolute Error on Training Data is:  34.39117696384226\n"
          ]
        }
      ],
      "source": [
        "#Check Model Accuracy \n",
        "MAE = mean_absolute_error(y_pred_lasso, y_train)\n",
        "print('Mean Absolute Error on Training Data is: ', (MAE)*100)"
      ]
    },
    {
      "cell_type": "code",
      "execution_count": null,
      "metadata": {
        "id": "ImGfHR5hRhHR",
        "outputId": "bb0471d0-2f3d-44cf-ee84-8766cd71f1a1"
      },
      "outputs": [
        {
          "data": {
            "text/plain": [
              "array([-0.        ,  0.        ,  0.03557763,  0.        ,  0.        ,\n",
              "        0.        ,  0.3069985 ,  0.        ,  0.        ,  0.        ])"
            ]
          },
          "execution_count": 375,
          "metadata": {},
          "output_type": "execute_result"
        }
      ],
      "source": [
        "lassoReg.coef_"
      ]
    },
    {
      "cell_type": "code",
      "execution_count": null,
      "metadata": {
        "id": "FFLkV2BBRhHR",
        "outputId": "1dc9bc3f-bd40-41f0-ea0f-2ba170c70bbc"
      },
      "outputs": [
        {
          "name": "stdout",
          "output_type": "stream",
          "text": [
            "       Colume_Name  Coefficient_Value\n",
            "0               Id          -0.000000\n",
            "1     Cl.thickness           0.000000\n",
            "2        Cell.size           0.035578\n",
            "3       Cell.shape           0.000000\n",
            "4    Marg.adhesion           0.000000\n",
            "5     Epith.c.size           0.000000\n",
            "6      Bare.nuclei           0.306999\n",
            "7      Bl.cromatin           0.000000\n",
            "8  Normal.nucleoli           0.000000\n",
            "9          Mitoses           0.000000\n"
          ]
        }
      ],
      "source": [
        "#Putting togetehr coef and their corresponding colums\n",
        "coeff_df = pd.DataFrame()\n",
        "coeff_df[\"Colume_Name\"] =  X_train.columns\n",
        "coeff_df['Coefficient_Value'] = pd.Series(lassoReg.coef_)\n",
        "\n",
        "print(coeff_df)"
      ]
    },
    {
      "cell_type": "code",
      "source": [
        ""
      ],
      "metadata": {
        "id": "22xMzlz7Scjt"
      },
      "execution_count": null,
      "outputs": []
    },
    {
      "cell_type": "markdown",
      "metadata": {
        "id": "2Xi93HFlRhHS"
      },
      "source": [
        "# Ridge Regression"
      ]
    },
    {
      "cell_type": "code",
      "execution_count": null,
      "metadata": {
        "id": "x2Y9AIYPRhHS",
        "outputId": "618bc501-76b7-4e33-fbb9-c27386c95368"
      },
      "outputs": [
        {
          "data": {
            "text/plain": [
              "Ridge(alpha=0.1)"
            ]
          },
          "execution_count": 430,
          "metadata": {},
          "output_type": "execute_result"
        }
      ],
      "source": [
        "from sklearn.linear_model import Ridge\n",
        "\n",
        "#Train the model\n",
        "ridge = Ridge(alpha=0.1)\n",
        "ridge.fit(X_train, y_train)"
      ]
    },
    {
      "cell_type": "code",
      "execution_count": null,
      "metadata": {
        "id": "JxapFyFNRhHS"
      },
      "outputs": [],
      "source": [
        "#Predict\n",
        "y_pred_ridg = ridge.predict(X_train)"
      ]
    },
    {
      "cell_type": "code",
      "execution_count": null,
      "metadata": {
        "id": "YQNRuMSqRhHS",
        "outputId": "8666ca56-becd-4f39-bda1-b44b0cbe02e3"
      },
      "outputs": [
        {
          "name": "stdout",
          "output_type": "stream",
          "text": [
            "Mean Absolute Error on Training Data is:  12.535067997206784\n"
          ]
        }
      ],
      "source": [
        "MAE = mean_absolute_error(y_pred_ridg, y_train)\n",
        "print('Mean Absolute Error on Training Data is: ', (MAE)*100)"
      ]
    },
    {
      "cell_type": "code",
      "execution_count": null,
      "metadata": {
        "id": "tfkQw8KERhHS",
        "outputId": "d0ae1c1a-5f43-4b07-d235-574dbbcf45c4"
      },
      "outputs": [
        {
          "data": {
            "text/plain": [
              "array([-0.07884034,  0.27554066,  0.20992215,  0.16317294,  0.0918783 ,\n",
              "        0.11741744,  0.3839127 ,  0.16326265,  0.15824341, -0.02116083])"
            ]
          },
          "execution_count": 433,
          "metadata": {},
          "output_type": "execute_result"
        }
      ],
      "source": [
        "ridge.coef_"
      ]
    },
    {
      "cell_type": "code",
      "execution_count": null,
      "metadata": {
        "id": "gMaaOeoRRhHS",
        "outputId": "f0587cf1-42ac-48a8-dbd7-efc58b100337"
      },
      "outputs": [
        {
          "name": "stdout",
          "output_type": "stream",
          "text": [
            "       Colume_Name  Coefficient_Value\n",
            "0               Id          -0.078840\n",
            "1     Cl.thickness           0.275541\n",
            "2        Cell.size           0.209922\n",
            "3       Cell.shape           0.163173\n",
            "4    Marg.adhesion           0.091878\n",
            "5     Epith.c.size           0.117417\n",
            "6      Bare.nuclei           0.383913\n",
            "7      Bl.cromatin           0.163263\n",
            "8  Normal.nucleoli           0.158243\n",
            "9          Mitoses          -0.021161\n"
          ]
        }
      ],
      "source": [
        "#Putting together coef and their corresponding colums\n",
        "coeff_df = pd.DataFrame()\n",
        "coeff_df[\"Colume_Name\"] =  X_train.columns\n",
        "coeff_df['Coefficient_Value'] = pd.Series(ridge.coef_)\n",
        "\n",
        "print(coeff_df)"
      ]
    },
    {
      "cell_type": "markdown",
      "metadata": {
        "id": "fifGxR1vRhHT"
      },
      "source": [
        "### Observation\n",
        "Ridge seems to give the minimum MAE over Lasso without hyper-parameter tuning for thesam alpha value, Also Lasso is suggesting that all variables with zero coefficeints are not important, wheareas Rige is doing the opposite and with a better MAE value, hence we will need to tune the parameters for both models and see if Lasso and rdige perform better\n",
        "\n",
        "Then we choose the best model"
      ]
    },
    {
      "cell_type": "code",
      "execution_count": null,
      "metadata": {
        "id": "IcueYUxLRhHT"
      },
      "outputs": [],
      "source": [
        ""
      ]
    },
    {
      "cell_type": "markdown",
      "metadata": {
        "id": "7cBjxUqiRhHT"
      },
      "source": [
        "##### (b) Select the best tuning parameter using the validation data D2. Different criteria could be used here for the selection, such as the misclassification rate or the mean square error for the predicted probabilities."
      ]
    },
    {
      "cell_type": "markdown",
      "metadata": {
        "id": "j1dGOyAMRhHT"
      },
      "source": [
        "We will use GrideSearchCv to select the best paramenter for both Ridge and Lasso and choose the best model"
      ]
    },
    {
      "cell_type": "code",
      "execution_count": null,
      "metadata": {
        "id": "DvCiVvejRhHT"
      },
      "outputs": [],
      "source": [
        "########Lasso Hyper-Parameter Tuning with GrideSearchCv\n",
        "\n",
        "from sklearn.linear_model import Lasso\n",
        "from sklearn.model_selection import GridSearchCV, cross_val_score,KFold\n",
        "\n",
        "cv = KFold(n_splits=5, random_state=1)\n",
        "lasso2 = Lasso()\n",
        "\n",
        "r_parameters = {'alpha':[1e-15, 1e-10, 1e-8, 1e-4, 1e-3, 1e-2, 1, 5, 10, 20]} # this is the Ridge regressor penalty, across different values\n",
        "\n",
        "lasso2_regressor = GridSearchCV(lasso2, r_parameters, scoring = 'neg_mean_squared_error', cv = cv ,n_jobs=-1)\n",
        "\n",
        "lasso2_regressor.fit(X_valid,y_valid)\n",
        "\n",
        "lasso2_best_params_ = lasso2_regressor.best_params_\n",
        "lasso2_best_score_ = -lasso2_regressor.best_score_"
      ]
    },
    {
      "cell_type": "code",
      "execution_count": null,
      "metadata": {
        "id": "QekjAjHPRhHT",
        "outputId": "f8b97ebd-4535-4ea9-d96a-4f50a48c9bdf"
      },
      "outputs": [
        {
          "name": "stdout",
          "output_type": "stream",
          "text": [
            "Best Alpha is: {'alpha': 0.01}\n"
          ]
        }
      ],
      "source": [
        "print('Best Alpha is:', lasso2_best_params_)"
      ]
    },
    {
      "cell_type": "code",
      "execution_count": null,
      "metadata": {
        "id": "6MZHMyFVRhHT",
        "outputId": "bd0ba495-3303-46d8-8447-5eebfa35b103"
      },
      "outputs": [
        {
          "name": "stdout",
          "output_type": "stream",
          "text": [
            "Best Score is: 6.315564668076172\n"
          ]
        }
      ],
      "source": [
        "print('Best Score is:', (lasso2_best_score_)*100)"
      ]
    },
    {
      "cell_type": "code",
      "execution_count": null,
      "metadata": {
        "id": "vZg692MARhHU",
        "outputId": "ccdf3ab1-e471-4840-dd0a-18452c26c618"
      },
      "outputs": [
        {
          "name": "stdout",
          "output_type": "stream",
          "text": [
            "Mean Absolute Error on Validation Data is:  14.081056933990507 %\n"
          ]
        }
      ],
      "source": [
        "#Lasso Predict\n",
        "y_pred_lasso2 = lasso2_regressor.predict(X_valid)\n",
        "\n",
        "MAE = mean_absolute_error(y_pred_lasso2, y_valid)\n",
        "print('Mean Absolute Error on Validation Data is: ', (MAE)*100,'%')"
      ]
    },
    {
      "cell_type": "markdown",
      "metadata": {
        "id": "AwQgZtNgRhHU"
      },
      "source": [
        "We now have the best alpha parameters for Lasso that gave best MAE value of approximately 14 "
      ]
    },
    {
      "cell_type": "code",
      "execution_count": null,
      "metadata": {
        "id": "MXp6mhTqRhHU"
      },
      "outputs": [],
      "source": [
        ""
      ]
    },
    {
      "cell_type": "markdown",
      "metadata": {
        "id": "xV2L4aI4RhHU"
      },
      "source": [
        "#### (c) Present your final `best' model fit by pooling D1 and D2 together. Which variables are important predictors?"
      ]
    },
    {
      "cell_type": "markdown",
      "metadata": {
        "id": "MSWc0N1WRhHV"
      },
      "source": [
        "# Lasso"
      ]
    },
    {
      "cell_type": "code",
      "execution_count": null,
      "metadata": {
        "id": "ztaF_clURhHV",
        "outputId": "122f4b9c-c73b-46cd-f92e-348cd368098e"
      },
      "outputs": [
        {
          "name": "stdout",
          "output_type": "stream",
          "text": [
            "Mean Absolute Error on Train Data D1 is:  13.005771999847513\n"
          ]
        }
      ],
      "source": [
        "#Final Model Lasso on D1\n",
        "finalLassoD1 = Lasso(alpha=0.01)\n",
        "finalLassoD1.fit(X_train, y_train)\n",
        "\n",
        "#Predict\n",
        "y_pred_finalLassoD1 = finalLassoD1.predict(X_train)\n",
        "\n",
        "MAE = mean_absolute_error(y_pred_finalLassoD1, y_train)\n",
        "print('Mean Absolute Error on Train Data D1 is: ', (MAE)*100)"
      ]
    },
    {
      "cell_type": "code",
      "execution_count": null,
      "metadata": {
        "id": "ZFt2zTVkRhHW",
        "outputId": "ea0eac50-da64-4183-e554-762cd67288e0"
      },
      "outputs": [
        {
          "data": {
            "text/plain": [
              "array([-0.        ,  0.22096577,  0.31928425,  0.13406709,  0.04264144,\n",
              "        0.        ,  0.42319967,  0.04258051,  0.14856999,  0.        ])"
            ]
          },
          "execution_count": 457,
          "metadata": {},
          "output_type": "execute_result"
        }
      ],
      "source": [
        "finalLassoD1.coef_"
      ]
    },
    {
      "cell_type": "code",
      "execution_count": null,
      "metadata": {
        "id": "ZfWkasOWRhHX",
        "outputId": "54f74fae-d7e5-43c1-872e-3dcb3842c859"
      },
      "outputs": [
        {
          "name": "stdout",
          "output_type": "stream",
          "text": [
            "       Colume_Name  Coefficient_Value\n",
            "0               Id          -0.000000\n",
            "1     Cl.thickness           0.220966\n",
            "2        Cell.size           0.319284\n",
            "3       Cell.shape           0.134067\n",
            "4    Marg.adhesion           0.042641\n",
            "5     Epith.c.size           0.000000\n",
            "6      Bare.nuclei           0.423200\n",
            "7      Bl.cromatin           0.042581\n",
            "8  Normal.nucleoli           0.148570\n",
            "9          Mitoses           0.000000\n"
          ]
        }
      ],
      "source": [
        "#Putting together coef and their corresponding colums\n",
        "coeff_dff = pd.DataFrame()\n",
        "coeff_dff[\"Colume_Name\"] =  X_train.columns\n",
        "coeff_dff['Coefficient_Value'] = pd.Series(finalLassoD1.coef_)\n",
        "\n",
        "print(coeff_dff)"
      ]
    },
    {
      "cell_type": "markdown",
      "metadata": {
        "id": "A88i0P_iRhHX"
      },
      "source": [
        "Mean Absolute Error on Training Data using Final Lasso Model of alpha=0.01 is  is: 13.005771999847513\n",
        "\n",
        "Which is better than the initial Lasso with alpha = 0.1 (with MAE= 34.39117696384226)"
      ]
    },
    {
      "cell_type": "code",
      "execution_count": null,
      "metadata": {
        "id": "tdElCxeMRhHY",
        "outputId": "51e5955a-2327-4eff-88c6-f00b5816435a"
      },
      "outputs": [
        {
          "name": "stdout",
          "output_type": "stream",
          "text": [
            "Mean Absolute Error on Validation Data D2 is:  14.081056933990507\n"
          ]
        }
      ],
      "source": [
        "#Final Model Lasso on D2\n",
        "\n",
        "finalLassoD2 = Lasso(alpha=0.01)\n",
        "finalLassoD2.fit(X_valid, y_valid)\n",
        "\n",
        "#Predict\n",
        "y_pred_finalLassoD2 = finalLassoD2.predict(X_valid)\n",
        "\n",
        "MAE = mean_absolute_error(y_pred_finalLassoD2, y_valid)\n",
        "print('Mean Absolute Error on Validation Data D2 is: ', (MAE)*100)"
      ]
    },
    {
      "cell_type": "code",
      "execution_count": null,
      "metadata": {
        "id": "UWoJtm-URhHY",
        "outputId": "4532978f-48bf-452e-fbb2-aebe492d19e7"
      },
      "outputs": [
        {
          "data": {
            "text/plain": [
              "array([0.        , 0.30020525, 0.32914743, 0.25117764, 0.08716522,\n",
              "       0.        , 0.27741341, 0.01216739, 0.        , 0.        ])"
            ]
          },
          "execution_count": 460,
          "metadata": {},
          "output_type": "execute_result"
        }
      ],
      "source": [
        "finalLassoD2.coef_"
      ]
    },
    {
      "cell_type": "code",
      "execution_count": null,
      "metadata": {
        "id": "G6JI7UxtRhHY",
        "outputId": "0b1b5325-0b05-4e3e-88d6-6726124b00d5"
      },
      "outputs": [
        {
          "name": "stdout",
          "output_type": "stream",
          "text": [
            "       Colume_Name  Coefficient_Value\n",
            "0               Id           0.000000\n",
            "1     Cl.thickness           0.300205\n",
            "2        Cell.size           0.329147\n",
            "3       Cell.shape           0.251178\n",
            "4    Marg.adhesion           0.087165\n",
            "5     Epith.c.size           0.000000\n",
            "6      Bare.nuclei           0.277413\n",
            "7      Bl.cromatin           0.012167\n",
            "8  Normal.nucleoli           0.000000\n",
            "9          Mitoses           0.000000\n"
          ]
        }
      ],
      "source": [
        "#Putting together coef and their corresponding colums\n",
        "coeff_dfff = pd.DataFrame()\n",
        "coeff_dfff[\"Colume_Name\"] =  X_valid.columns\n",
        "coeff_dfff['Coefficient_Value'] = pd.Series(finalLassoD2.coef_)\n",
        "\n",
        "print(coeff_dfff)"
      ]
    },
    {
      "cell_type": "markdown",
      "metadata": {
        "id": "v8vUl30FRhHY"
      },
      "source": [
        "##### Feature Importance"
      ]
    },
    {
      "cell_type": "markdown",
      "metadata": {
        "id": "XDA-8ufzRhHY"
      },
      "source": [
        "As seen above, using D1-Train data, Id :-0.000000, and Mitoses :0.000000 have coefficeint values of zero indicating that they are not important to the Lasso model\n",
        "\n",
        "However, using the D2 Validation data, Id, Epith.c.size, Normal.nucleoli and Mitoses are not important to the model"
      ]
    },
    {
      "cell_type": "code",
      "execution_count": null,
      "metadata": {
        "id": "taHUsxhzRhHZ"
      },
      "outputs": [],
      "source": [
        ""
      ]
    },
    {
      "cell_type": "markdown",
      "metadata": {
        "id": "lzZR0Ir9RhHZ"
      },
      "source": [
        "#### 5. Apply the final logistic model to the test data D3. Present the ROC curve and the area under the curve, i.e., the C-index."
      ]
    },
    {
      "cell_type": "code",
      "execution_count": null,
      "metadata": {
        "id": "P_hU2S8CRhHZ",
        "outputId": "55b84909-0558-403d-9f5b-7dd0a92376cd"
      },
      "outputs": [
        {
          "name": "stdout",
          "output_type": "stream",
          "text": [
            "Mean Absolute Error on Validation Data D2 is:  12.170770082218857\n"
          ]
        }
      ],
      "source": [
        "#Final Model Logistic-Lasso on D3\n",
        "\n",
        "finalLassoD3 = Lasso(alpha=0.01)\n",
        "finalLassoD3.fit(X_test, y_test)\n",
        "\n",
        "#Predict\n",
        "y_pred_finalLassoD3 = finalLassoD3.predict(X_test)\n",
        "\n",
        "MAE = mean_absolute_error(y_pred_finalLassoD3, y_test)\n",
        "print('Mean Absolute Error on Validation Data D2 is: ', (MAE)*100)"
      ]
    },
    {
      "cell_type": "code",
      "execution_count": null,
      "metadata": {
        "id": "SndLxTj2RhHZ",
        "outputId": "0ef8e8e5-63f6-4252-ac41-7ece9e24f197"
      },
      "outputs": [
        {
          "name": "stdout",
          "output_type": "stream",
          "text": [
            "       Colume_Name  Coefficient_Value\n",
            "0               Id           0.000000\n",
            "1     Cl.thickness           0.300205\n",
            "2        Cell.size           0.329147\n",
            "3       Cell.shape           0.251178\n",
            "4    Marg.adhesion           0.087165\n",
            "5     Epith.c.size           0.000000\n",
            "6      Bare.nuclei           0.277413\n",
            "7      Bl.cromatin           0.012167\n",
            "8  Normal.nucleoli           0.000000\n",
            "9          Mitoses           0.000000\n"
          ]
        }
      ],
      "source": [
        "#Putting together coef and their corresponding colums\n",
        "coeff_dffff = pd.DataFrame()\n",
        "coeff_dffff[\"Colume_Name\"] =  X_test.columns\n",
        "coeff_dffff['Coefficient_Value'] = pd.Series(finalLassoD2.coef_)\n",
        "\n",
        "print(coeff_dffff)"
      ]
    },
    {
      "cell_type": "markdown",
      "metadata": {
        "id": "E7fCGCDXRhHa"
      },
      "source": [
        "This gave the best of all our models with MAE of 12.170770082218857, best value so far"
      ]
    },
    {
      "cell_type": "markdown",
      "metadata": {
        "id": "8BzKcSTlRhHa"
      },
      "source": [
        "##### ROC CURVE"
      ]
    },
    {
      "cell_type": "code",
      "execution_count": null,
      "metadata": {
        "id": "xXxH0wpLRhHa",
        "outputId": "7b0f4036-1e45-41a7-e07e-92725f07c62a"
      },
      "outputs": [
        {
          "data": {
            "image/png": "[encoded data removed]",
            "text/plain": [
              "<Figure size 432x288 with 1 Axes>"
            ]
          },
          "metadata": {
            "needs_background": "light"
          },
          "output_type": "display_data"
        }
      ],
      "source": [
        "def plot_roc_curve(fper, tper):\n",
        "    plt.plot(fper, tper, color='red', label='ROC')\n",
        "    plt.plot([0, 1], [0, 1], color='green', linestyle='--')\n",
        "    plt.xlabel('False Positive Rate')\n",
        "    plt.ylabel('True Positive Rate')\n",
        "    plt.title('Receiver Operating Characteristic Curve')\n",
        "    plt.legend()\n",
        "    plt.show()\n",
        "    \n",
        "\n",
        "from sklearn.metrics import roc_curve\n",
        "\n",
        "fper, tper, thresholds = roc_curve(y_test, y_pred_finalLassoD3)\n",
        "plot_roc_curve(fper, tper)"
      ]
    }
  ],
  "metadata": {
    "kernelspec": {
      "display_name": "Python 3",
      "language": "python",
      "name": "python3"
    },
    "language_info": {
      "codemirror_mode": {
        "name": "ipython",
        "version": 3
      },
      "file_extension": ".py",
      "mimetype": "text/x-python",
      "name": "python",
      "nbconvert_exporter": "python",
      "pygments_lexer": "ipython3",
      "version": "3.8.5"
    },
    "colab": {
      "name": "Project 3-Lasso Regularization-Copy1.ipynb",
      "provenance": [],
      "include_colab_link": true
    }
  },
  "nbformat": 4,
  "nbformat_minor": 0
}