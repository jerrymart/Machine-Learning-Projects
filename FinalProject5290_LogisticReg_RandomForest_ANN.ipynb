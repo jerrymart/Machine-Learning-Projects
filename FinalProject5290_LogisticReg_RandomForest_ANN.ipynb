{
  "cells": [
    {
      "cell_type": "markdown",
      "metadata": {
        "id": "view-in-github",
        "colab_type": "text"
      },
      "source": [
        "<a href=\"https://colab.research.google.com/github/jerrymart/Machine-Learning-Projects/blob/main/FinalProject5290_LogisticReg_RandomForest_ANN.ipynb\" target=\"_parent\"><img src=\"https://colab.research.google.com/assets/colab-badge.svg\" alt=\"Open In Colab\"/></a>"
      ]
    },
    {
      "cell_type": "markdown",
      "source": [
        "### Team Members:\n",
        "\n",
        "#### Joseph Mart (Project Lead)- A00732897\n",
        "\n",
        "#### Callitus Obunadike - A00756855"
      ],
      "metadata": {
        "id": "UgcschWaeukY"
      }
    },
    {
      "cell_type": "markdown",
      "metadata": {
        "id": "k0-LXcR6K0Ri"
      },
      "source": [
        "This dataset contains records of simulation crashes encountered during climate model uncertainty quantification (UQ) ensembles.\n",
        "\n",
        "Ensemble members were constructed using a Latin hypercube method in LLNL's UQ Pipeline software system to sample the uncertainties of 18 model parameters within the Parallel Ocean Program (POP2) component of the Community Climate System Model (CCSM4).\n",
        "\n",
        "Three separate Latin hypercube ensembles were conducted, each containing 180 ensemble members. 46 out of the 540 simulations failed for numerical reasons at combinations of parameter values.\n",
        "\n",
        "The goal is to use classification to predict simulation outcomes (fail or succeed) from input parameter values, and to use sensitivity analysis and feature selection to determine the causes of simulation crashes.\n",
        "\n",
        "Further details about the data and methods are given in the publication 'Failure Analysis of Parameter-Induced Simulation Crashes in Climate Models,' Geoscientific Model Development ([Web Link: https://archive.ics.uci.edu/ml/datasets/Climate+Model+Simulation+Crashes])."
      ]
    },
    {
      "cell_type": "code",
      "execution_count": null,
      "metadata": {
        "id": "SBnpE3FxK0Rm"
      },
      "outputs": [],
      "source": [
        ""
      ]
    },
    {
      "cell_type": "code",
      "execution_count": 69,
      "metadata": {
        "id": "LfYG2rtEK0Ro"
      },
      "outputs": [],
      "source": [
        "import numpy as np \n",
        "import pandas as pd\n",
        "from matplotlib import pyplot as plt\n",
        "import seaborn as sns\n",
        "\n",
        "%matplotlib inline\n",
        "import warnings\n",
        "warnings.filterwarnings('ignore')\n",
        "\n",
        "from sklearn.preprocessing import MinMaxScaler\n",
        "from sklearn.model_selection import train_test_split\n",
        "from sklearn import tree\n",
        "from sklearn.ensemble import RandomForestClassifier\n",
        "from sklearn.metrics import accuracy_score, confusion_matrix, r2_score"
      ]
    },
    {
      "cell_type": "markdown",
      "metadata": {
        "id": "OPtM8Uo9K0Rp"
      },
      "source": [
        "#### 1. (Data preparation) Bring in the data D into Python. Inspect if there is any missing values and, if so, handle them with imputation."
      ]
    },
    {
      "cell_type": "code",
      "execution_count": 70,
      "metadata": {
        "id": "a4brNbJyK0Rp"
      },
      "outputs": [],
      "source": [
        "df = pd.read_csv('pop_failures.txt', delimiter = \"\\t\")"
      ]
    },
    {
      "cell_type": "code",
      "execution_count": 71,
      "metadata": {
        "colab": {
          "base_uri": "https://localhost:8080/",
          "height": 300
        },
        "id": "YksJzUNBK0Rq",
        "outputId": "ed299c07-05e5-4a00-843d-9aef357c5c03"
      },
      "outputs": [
        {
          "output_type": "execute_result",
          "data": {
            "text/plain": [
              "   Study  Run  vconst_corr  vconst_2  vconst_3  vconst_4  vconst_5  vconst_7  \\\n",
              "0      1    1     0.859036  0.927825  0.252866  0.298838  0.170521  0.735936   \n",
              "1      1    2     0.606041  0.457728  0.359448  0.306957  0.843331  0.934851   \n",
              "2      1    3     0.997600  0.373238  0.517399  0.504993  0.618903  0.605571   \n",
              "3      1    4     0.783408  0.104055  0.197533  0.421837  0.742056  0.490828   \n",
              "4      1    5     0.406250  0.513199  0.061812  0.635837  0.844798  0.441502   \n",
              "\n",
              "    ah_corr  ah_bolus  ...  efficiency_factor  tidal_mix_max  \\\n",
              "0  0.428325  0.567947  ...           0.245675       0.104226   \n",
              "1  0.444572  0.828015  ...           0.616870       0.975786   \n",
              "2  0.746225  0.195928  ...           0.679355       0.803413   \n",
              "3  0.005525  0.392123  ...           0.471463       0.597879   \n",
              "4  0.191926  0.487546  ...           0.551543       0.743877   \n",
              "\n",
              "   vertical_decay_scale convect_corr bckgrnd_vdc1  bckgrnd_vdc_ban  \\\n",
              "0           0.869090703  0.997518496     0.448620         0.307522   \n",
              "1           0.914343667  0.845247142     0.864152         0.346713   \n",
              "2           0.643995161  0.718441133     0.924775         0.315371   \n",
              "3           0.761658752  0.362750561     0.912819         0.977971   \n",
              "4           0.312349434  0.650222833     0.522261         0.043545   \n",
              "\n",
              "   bckgrnd_vdc_eq  bckgrnd_vdc_psim   Prandtl  outcome  \n",
              "0        0.858310          0.796997  0.869893        0  \n",
              "1        0.356573          0.438447  0.512256        1  \n",
              "2        0.250642          0.285636  0.365858        1  \n",
              "3        0.845921          0.699431  0.475987        1  \n",
              "4        0.376660          0.280098  0.132283        1  \n",
              "\n",
              "[5 rows x 21 columns]"
            ],
            "text/html": [
              "\n",
              "  <div id=\"df-7dfd22e9-fa55-49b7-943f-9784ac6166fe\">\n",
              "    <div class=\"colab-df-container\">\n",
              "      <div>\n",
              "<style scoped>\n",
              "    .dataframe tbody tr th:only-of-type {\n",
              "        vertical-align: middle;\n",
              "    }\n",
              "\n",
              "    .dataframe tbody tr th {\n",
              "        vertical-align: top;\n",
              "    }\n",
              "\n",
              "    .dataframe thead th {\n",
              "        text-align: right;\n",
              "    }\n",
              "</style>\n",
              "<table border=\"1\" class=\"dataframe\">\n",
              "  <thead>\n",
              "    <tr style=\"text-align: right;\">\n",
              "      <th></th>\n",
              "      <th>Study</th>\n",
              "      <th>Run</th>\n",
              "      <th>vconst_corr</th>\n",
              "      <th>vconst_2</th>\n",
              "      <th>vconst_3</th>\n",
              "      <th>vconst_4</th>\n",
              "      <th>vconst_5</th>\n",
              "      <th>vconst_7</th>\n",
              "      <th>ah_corr</th>\n",
              "      <th>ah_bolus</th>\n",
              "      <th>...</th>\n",
              "      <th>efficiency_factor</th>\n",
              "      <th>tidal_mix_max</th>\n",
              "      <th>vertical_decay_scale</th>\n",
              "      <th>convect_corr</th>\n",
              "      <th>bckgrnd_vdc1</th>\n",
              "      <th>bckgrnd_vdc_ban</th>\n",
              "      <th>bckgrnd_vdc_eq</th>\n",
              "      <th>bckgrnd_vdc_psim</th>\n",
              "      <th>Prandtl</th>\n",
              "      <th>outcome</th>\n",
              "    </tr>\n",
              "  </thead>\n",
              "  <tbody>\n",
              "    <tr>\n",
              "      <th>0</th>\n",
              "      <td>1</td>\n",
              "      <td>1</td>\n",
              "      <td>0.859036</td>\n",
              "      <td>0.927825</td>\n",
              "      <td>0.252866</td>\n",
              "      <td>0.298838</td>\n",
              "      <td>0.170521</td>\n",
              "      <td>0.735936</td>\n",
              "      <td>0.428325</td>\n",
              "      <td>0.567947</td>\n",
              "      <td>...</td>\n",
              "      <td>0.245675</td>\n",
              "      <td>0.104226</td>\n",
              "      <td>0.869090703</td>\n",
              "      <td>0.997518496</td>\n",
              "      <td>0.448620</td>\n",
              "      <td>0.307522</td>\n",
              "      <td>0.858310</td>\n",
              "      <td>0.796997</td>\n",
              "      <td>0.869893</td>\n",
              "      <td>0</td>\n",
              "    </tr>\n",
              "    <tr>\n",
              "      <th>1</th>\n",
              "      <td>1</td>\n",
              "      <td>2</td>\n",
              "      <td>0.606041</td>\n",
              "      <td>0.457728</td>\n",
              "      <td>0.359448</td>\n",
              "      <td>0.306957</td>\n",
              "      <td>0.843331</td>\n",
              "      <td>0.934851</td>\n",
              "      <td>0.444572</td>\n",
              "      <td>0.828015</td>\n",
              "      <td>...</td>\n",
              "      <td>0.616870</td>\n",
              "      <td>0.975786</td>\n",
              "      <td>0.914343667</td>\n",
              "      <td>0.845247142</td>\n",
              "      <td>0.864152</td>\n",
              "      <td>0.346713</td>\n",
              "      <td>0.356573</td>\n",
              "      <td>0.438447</td>\n",
              "      <td>0.512256</td>\n",
              "      <td>1</td>\n",
              "    </tr>\n",
              "    <tr>\n",
              "      <th>2</th>\n",
              "      <td>1</td>\n",
              "      <td>3</td>\n",
              "      <td>0.997600</td>\n",
              "      <td>0.373238</td>\n",
              "      <td>0.517399</td>\n",
              "      <td>0.504993</td>\n",
              "      <td>0.618903</td>\n",
              "      <td>0.605571</td>\n",
              "      <td>0.746225</td>\n",
              "      <td>0.195928</td>\n",
              "      <td>...</td>\n",
              "      <td>0.679355</td>\n",
              "      <td>0.803413</td>\n",
              "      <td>0.643995161</td>\n",
              "      <td>0.718441133</td>\n",
              "      <td>0.924775</td>\n",
              "      <td>0.315371</td>\n",
              "      <td>0.250642</td>\n",
              "      <td>0.285636</td>\n",
              "      <td>0.365858</td>\n",
              "      <td>1</td>\n",
              "    </tr>\n",
              "    <tr>\n",
              "      <th>3</th>\n",
              "      <td>1</td>\n",
              "      <td>4</td>\n",
              "      <td>0.783408</td>\n",
              "      <td>0.104055</td>\n",
              "      <td>0.197533</td>\n",
              "      <td>0.421837</td>\n",
              "      <td>0.742056</td>\n",
              "      <td>0.490828</td>\n",
              "      <td>0.005525</td>\n",
              "      <td>0.392123</td>\n",
              "      <td>...</td>\n",
              "      <td>0.471463</td>\n",
              "      <td>0.597879</td>\n",
              "      <td>0.761658752</td>\n",
              "      <td>0.362750561</td>\n",
              "      <td>0.912819</td>\n",
              "      <td>0.977971</td>\n",
              "      <td>0.845921</td>\n",
              "      <td>0.699431</td>\n",
              "      <td>0.475987</td>\n",
              "      <td>1</td>\n",
              "    </tr>\n",
              "    <tr>\n",
              "      <th>4</th>\n",
              "      <td>1</td>\n",
              "      <td>5</td>\n",
              "      <td>0.406250</td>\n",
              "      <td>0.513199</td>\n",
              "      <td>0.061812</td>\n",
              "      <td>0.635837</td>\n",
              "      <td>0.844798</td>\n",
              "      <td>0.441502</td>\n",
              "      <td>0.191926</td>\n",
              "      <td>0.487546</td>\n",
              "      <td>...</td>\n",
              "      <td>0.551543</td>\n",
              "      <td>0.743877</td>\n",
              "      <td>0.312349434</td>\n",
              "      <td>0.650222833</td>\n",
              "      <td>0.522261</td>\n",
              "      <td>0.043545</td>\n",
              "      <td>0.376660</td>\n",
              "      <td>0.280098</td>\n",
              "      <td>0.132283</td>\n",
              "      <td>1</td>\n",
              "    </tr>\n",
              "  </tbody>\n",
              "</table>\n",
              "<p>5 rows × 21 columns</p>\n",
              "</div>\n",
              "      <button class=\"colab-df-convert\" onclick=\"convertToInteractive('df-7dfd22e9-fa55-49b7-943f-9784ac6166fe')\"\n",
              "              title=\"Convert this dataframe to an interactive table.\"\n",
              "              style=\"display:none;\">\n",
              "        \n",
              "  <svg xmlns=\"http://www.w3.org/2000/svg\" height=\"24px\"viewBox=\"0 0 24 24\"\n",
              "       width=\"24px\">\n",
              "    <path d=\"M0 0h24v24H0V0z\" fill=\"none\"/>\n",
              "    <path d=\"M18.56 5.44l.94 2.06.94-2.06 2.06-.94-2.06-.94-.94-2.06-.94 2.06-2.06.94zm-11 1L8.5 8.5l.94-2.06 2.06-.94-2.06-.94L8.5 2.5l-.94 2.06-2.06.94zm10 10l.94 2.06.94-2.06 2.06-.94-2.06-.94-.94-2.06-.94 2.06-2.06.94z\"/><path d=\"M17.41 7.96l-1.37-1.37c-.4-.4-.92-.59-1.43-.59-.52 0-1.04.2-1.43.59L10.3 9.45l-7.72 7.72c-.78.78-.78 2.05 0 2.83L4 21.41c.39.39.9.59 1.41.59.51 0 1.02-.2 1.41-.59l7.78-7.78 2.81-2.81c.8-.78.8-2.07 0-2.86zM5.41 20L4 18.59l7.72-7.72 1.47 1.35L5.41 20z\"/>\n",
              "  </svg>\n",
              "      </button>\n",
              "      \n",
              "  <style>\n",
              "    .colab-df-container {\n",
              "      display:flex;\n",
              "      flex-wrap:wrap;\n",
              "      gap: 12px;\n",
              "    }\n",
              "\n",
              "    .colab-df-convert {\n",
              "      background-color: #E8F0FE;\n",
              "      border: none;\n",
              "      border-radius: 50%;\n",
              "      cursor: pointer;\n",
              "      display: none;\n",
              "      fill: #1967D2;\n",
              "      height: 32px;\n",
              "      padding: 0 0 0 0;\n",
              "      width: 32px;\n",
              "    }\n",
              "\n",
              "    .colab-df-convert:hover {\n",
              "      background-color: #E2EBFA;\n",
              "      box-shadow: 0px 1px 2px rgba(60, 64, 67, 0.3), 0px 1px 3px 1px rgba(60, 64, 67, 0.15);\n",
              "      fill: #174EA6;\n",
              "    }\n",
              "\n",
              "    [theme=dark] .colab-df-convert {\n",
              "      background-color: #3B4455;\n",
              "      fill: #D2E3FC;\n",
              "    }\n",
              "\n",
              "    [theme=dark] .colab-df-convert:hover {\n",
              "      background-color: #434B5C;\n",
              "      box-shadow: 0px 1px 3px 1px rgba(0, 0, 0, 0.15);\n",
              "      filter: drop-shadow(0px 1px 2px rgba(0, 0, 0, 0.3));\n",
              "      fill: #FFFFFF;\n",
              "    }\n",
              "  </style>\n",
              "\n",
              "      <script>\n",
              "        const buttonEl =\n",
              "          document.querySelector('#df-7dfd22e9-fa55-49b7-943f-9784ac6166fe button.colab-df-convert');\n",
              "        buttonEl.style.display =\n",
              "          google.colab.kernel.accessAllowed ? 'block' : 'none';\n",
              "\n",
              "        async function convertToInteractive(key) {\n",
              "          const element = document.querySelector('#df-7dfd22e9-fa55-49b7-943f-9784ac6166fe');\n",
              "          const dataTable =\n",
              "            await google.colab.kernel.invokeFunction('convertToInteractive',\n",
              "                                                     [key], {});\n",
              "          if (!dataTable) return;\n",
              "\n",
              "          const docLinkHtml = 'Like what you see? Visit the ' +\n",
              "            '<a target=\"_blank\" href=https://colab.research.google.com/notebooks/data_table.ipynb>data table notebook</a>'\n",
              "            + ' to learn more about interactive tables.';\n",
              "          element.innerHTML = '';\n",
              "          dataTable['output_type'] = 'display_data';\n",
              "          await google.colab.output.renderOutput(dataTable, element);\n",
              "          const docLink = document.createElement('div');\n",
              "          docLink.innerHTML = docLinkHtml;\n",
              "          element.appendChild(docLink);\n",
              "        }\n",
              "      </script>\n",
              "    </div>\n",
              "  </div>\n",
              "  "
            ]
          },
          "metadata": {},
          "execution_count": 71
        }
      ],
      "source": [
        "df.head()"
      ]
    },
    {
      "cell_type": "code",
      "execution_count": null,
      "metadata": {
        "id": "b1P5K_iQK0Rr",
        "outputId": "ea6421ca-1bfd-4b13-c574-262480e87110"
      },
      "outputs": [
        {
          "data": {
            "text/plain": [
              "(540, 21)"
            ]
          },
          "execution_count": 4,
          "metadata": {},
          "output_type": "execute_result"
        }
      ],
      "source": [
        "#Dimansion of data\n",
        "df.shape"
      ]
    },
    {
      "cell_type": "code",
      "execution_count": null,
      "metadata": {
        "id": "WhoEvkkiK0Rr",
        "outputId": "6f4c084a-ac11-4b34-aff2-84979fbfae0b"
      },
      "outputs": [
        {
          "data": {
            "text/plain": [
              "Study                   0\n",
              "Run                     0\n",
              "vconst_corr             0\n",
              "vconst_2                0\n",
              "vconst_3                0\n",
              "vconst_4                0\n",
              "vconst_5                0\n",
              "vconst_7                0\n",
              "ah_corr                 0\n",
              "ah_bolus                0\n",
              "slm_corr                0\n",
              "efficiency_factor       0\n",
              "tidal_mix_max           0\n",
              "vertical_decay_scale    0\n",
              "convect_corr            0\n",
              "bckgrnd_vdc1            0\n",
              "bckgrnd_vdc_ban         0\n",
              "bckgrnd_vdc_eq          0\n",
              "bckgrnd_vdc_psim        0\n",
              "Prandtl                 0\n",
              "outcome                 0\n",
              "dtype: int64"
            ]
          },
          "execution_count": 5,
          "metadata": {},
          "output_type": "execute_result"
        }
      ],
      "source": [
        "# Checking for missing values\n",
        "\n",
        "df.isnull().sum()"
      ]
    },
    {
      "cell_type": "markdown",
      "metadata": {
        "id": "oT89R21iK0Rr"
      },
      "source": [
        "There are no missing values"
      ]
    },
    {
      "cell_type": "code",
      "execution_count": null,
      "metadata": {
        "id": "OLxYDbTaK0Rs",
        "outputId": "be1ae090-7348-43ff-d909-e633dfaec77b"
      },
      "outputs": [
        {
          "name": "stdout",
          "output_type": "stream",
          "text": [
            "<class 'pandas.core.frame.DataFrame'>\n",
            "RangeIndex: 540 entries, 0 to 539\n",
            "Data columns (total 21 columns):\n",
            " #   Column                Non-Null Count  Dtype  \n",
            "---  ------                --------------  -----  \n",
            " 0   Study                 540 non-null    int64  \n",
            " 1   Run                   540 non-null    int64  \n",
            " 2   vconst_corr           540 non-null    float64\n",
            " 3   vconst_2              540 non-null    float64\n",
            " 4   vconst_3              540 non-null    float64\n",
            " 5   vconst_4              540 non-null    float64\n",
            " 6   vconst_5              540 non-null    float64\n",
            " 7   vconst_7              540 non-null    float64\n",
            " 8   ah_corr               540 non-null    float64\n",
            " 9   ah_bolus              540 non-null    float64\n",
            " 10  slm_corr              540 non-null    float64\n",
            " 11  efficiency_factor     540 non-null    float64\n",
            " 12  tidal_mix_max         540 non-null    float64\n",
            " 13  vertical_decay_scale  540 non-null    object \n",
            " 14  convect_corr          540 non-null    object \n",
            " 15  bckgrnd_vdc1          540 non-null    float64\n",
            " 16  bckgrnd_vdc_ban       540 non-null    float64\n",
            " 17  bckgrnd_vdc_eq        540 non-null    float64\n",
            " 18  bckgrnd_vdc_psim      540 non-null    float64\n",
            " 19  Prandtl               540 non-null    float64\n",
            " 20  outcome               540 non-null    int64  \n",
            "dtypes: float64(16), int64(3), object(2)\n",
            "memory usage: 88.7+ KB\n",
            "None\n"
          ]
        }
      ],
      "source": [
        "#Check overall datatypes of all columns\n",
        "\n",
        "print(df.info())"
      ]
    },
    {
      "cell_type": "markdown",
      "metadata": {
        "id": "VJYmQ-IMK0Rs"
      },
      "source": [
        "Data Types of columns fall into any of the 3 types: int64, float64, object "
      ]
    },
    {
      "cell_type": "code",
      "execution_count": null,
      "metadata": {
        "id": "-PvDsy-CK0Rs"
      },
      "outputs": [],
      "source": [
        ""
      ]
    },
    {
      "cell_type": "markdown",
      "metadata": {
        "id": "Oh_06YxgK0Rs"
      },
      "source": [
        "#### 2. (Exploratory Data Analysis) Explore the data with EDA and present at least THREE interesting finndings."
      ]
    },
    {
      "cell_type": "code",
      "execution_count": null,
      "metadata": {
        "id": "RrkXP7JvK0Rt",
        "outputId": "f265f831-dcdb-4623-f55b-a94527553b3e"
      },
      "outputs": [
        {
          "name": "stdout",
          "output_type": "stream",
          "text": [
            "The number of distinct values for feature  Study is/are:  3 -- [1 2 3]\n",
            "The number of distinct values for feature  Run is/are:  180\n",
            "The number of distinct values for feature  vconst_corr is/are:  540\n",
            "The number of distinct values for feature  vconst_2 is/are:  540\n",
            "The number of distinct values for feature  vconst_3 is/are:  540\n",
            "The number of distinct values for feature  vconst_4 is/are:  540\n",
            "The number of distinct values for feature  vconst_5 is/are:  540\n",
            "The number of distinct values for feature  vconst_7 is/are:  540\n",
            "The number of distinct values for feature  ah_corr is/are:  540\n",
            "The number of distinct values for feature  ah_bolus is/are:  540\n",
            "The number of distinct values for feature  slm_corr is/are:  540\n",
            "The number of distinct values for feature  efficiency_factor is/are:  540\n",
            "The number of distinct values for feature  tidal_mix_max is/are:  540\n",
            "The number of distinct values for feature  vertical_decay_scale is/are:  540\n",
            "The number of distinct values for feature  convect_corr is/are:  540\n",
            "The number of distinct values for feature  bckgrnd_vdc1 is/are:  540\n",
            "The number of distinct values for feature  bckgrnd_vdc_ban is/are:  540\n",
            "The number of distinct values for feature  bckgrnd_vdc_eq is/are:  540\n",
            "The number of distinct values for feature  bckgrnd_vdc_psim is/are:  540\n",
            "The number of distinct values for feature  Prandtl is/are:  540\n",
            "The number of distinct values for feature  outcome is/are:  2 -- [0 1]\n"
          ]
        }
      ],
      "source": [
        "# Investigate all the elements whithin each Feature \n",
        "\n",
        "for column in df:\n",
        "    unique_vals = np.unique(df[column])\n",
        "    num_of_values = len(unique_vals)\n",
        "    if num_of_values < 5:\n",
        "        print('The number of distinct values for feature  {} is/are:  {} -- {}'.format(column, num_of_values,unique_vals))\n",
        "    else:\n",
        "        print('The number of distinct values for feature  {} is/are:  {}'.format(column, num_of_values))"
      ]
    },
    {
      "cell_type": "markdown",
      "metadata": {
        "id": "t0dFrFjQK0Rt"
      },
      "source": [
        "\n",
        "All the columns are continuous in nature except Study and outcom with 3 and 2 categories respectively\n",
        "\n",
        "Study is/are:  3 -- [1 2 3], outcome is/are:  2 -- [0 1]\n",
        "\n",
        "All the columns have 540 each uniques occurences except Run which has  180"
      ]
    },
    {
      "cell_type": "code",
      "execution_count": null,
      "metadata": {
        "id": "6OKWm4DUK0Rt"
      },
      "outputs": [],
      "source": [
        ""
      ]
    },
    {
      "cell_type": "code",
      "execution_count": null,
      "metadata": {
        "id": "SJGu1j3MK0Ru",
        "outputId": "39ef4e6d-3cd0-4941-8412-f5c235a36cfa"
      },
      "outputs": [
        {
          "data": {
            "text/plain": [
              "<AxesSubplot:xlabel='Study', ylabel='count'>"
            ]
          },
          "execution_count": 6,
          "metadata": {},
          "output_type": "execute_result"
        },
        {
          "data": {
            "image/png": "[encoded data removed]",
            "text/plain": [
              "<Figure size 576x432 with 1 Axes>"
            ]
          },
          "metadata": {
            "needs_background": "light"
          },
          "output_type": "display_data"
        }
      ],
      "source": [
        "#Association between Study and the outcome\n",
        "\n",
        "plt.figure(figsize=(8,6))\n",
        "sns.countplot(data=df,x='Study', hue='outcome')"
      ]
    },
    {
      "cell_type": "markdown",
      "metadata": {
        "id": "pyWuFNrJK0Ru"
      },
      "source": [
        "About 20 failed and 160 succeeded in Study in category 1\n",
        "\n",
        "About 15 failed and 170 succeeded in Study in category 2\n",
        "\n",
        "About 18 failed and 165 succeeded in Study in category 3\n",
        "\n",
        "We will convert Study to dummy"
      ]
    },
    {
      "cell_type": "code",
      "execution_count": 72,
      "metadata": {
        "id": "Ms01bUV2K0Ru"
      },
      "outputs": [],
      "source": [
        "# Get Dummy for Study:\n",
        "df = pd.get_dummies(df, prefix='Study',columns=['Study'], drop_first=True)"
      ]
    },
    {
      "cell_type": "code",
      "execution_count": 73,
      "metadata": {
        "id": "qc6muVDFK0Ru",
        "outputId": "50d7366c-4171-4f6b-ff1a-aa75e30acfd4",
        "colab": {
          "base_uri": "https://localhost:8080/",
          "height": 205
        }
      },
      "outputs": [
        {
          "output_type": "execute_result",
          "data": {
            "text/plain": [
              "   Run  vconst_corr  vconst_2  vconst_3  vconst_4  vconst_5  vconst_7  \\\n",
              "0    1     0.859036  0.927825  0.252866  0.298838  0.170521  0.735936   \n",
              "1    2     0.606041  0.457728  0.359448  0.306957  0.843331  0.934851   \n",
              "\n",
              "    ah_corr  ah_bolus  slm_corr  ...  vertical_decay_scale  convect_corr  \\\n",
              "0  0.428325  0.567947  0.474370  ...           0.869090703   0.997518496   \n",
              "1  0.444572  0.828015  0.296618  ...           0.914343667   0.845247142   \n",
              "\n",
              "  bckgrnd_vdc1 bckgrnd_vdc_ban  bckgrnd_vdc_eq  bckgrnd_vdc_psim   Prandtl  \\\n",
              "0     0.448620        0.307522        0.858310          0.796997  0.869893   \n",
              "1     0.864152        0.346713        0.356573          0.438447  0.512256   \n",
              "\n",
              "   outcome  Study_2  Study_3  \n",
              "0        0        0        0  \n",
              "1        1        0        0  \n",
              "\n",
              "[2 rows x 22 columns]"
            ],
            "text/html": [
              "\n",
              "  <div id=\"df-62c97509-d2a1-4f36-bd47-af45ff15ff2b\">\n",
              "    <div class=\"colab-df-container\">\n",
              "      <div>\n",
              "<style scoped>\n",
              "    .dataframe tbody tr th:only-of-type {\n",
              "        vertical-align: middle;\n",
              "    }\n",
              "\n",
              "    .dataframe tbody tr th {\n",
              "        vertical-align: top;\n",
              "    }\n",
              "\n",
              "    .dataframe thead th {\n",
              "        text-align: right;\n",
              "    }\n",
              "</style>\n",
              "<table border=\"1\" class=\"dataframe\">\n",
              "  <thead>\n",
              "    <tr style=\"text-align: right;\">\n",
              "      <th></th>\n",
              "      <th>Run</th>\n",
              "      <th>vconst_corr</th>\n",
              "      <th>vconst_2</th>\n",
              "      <th>vconst_3</th>\n",
              "      <th>vconst_4</th>\n",
              "      <th>vconst_5</th>\n",
              "      <th>vconst_7</th>\n",
              "      <th>ah_corr</th>\n",
              "      <th>ah_bolus</th>\n",
              "      <th>slm_corr</th>\n",
              "      <th>...</th>\n",
              "      <th>vertical_decay_scale</th>\n",
              "      <th>convect_corr</th>\n",
              "      <th>bckgrnd_vdc1</th>\n",
              "      <th>bckgrnd_vdc_ban</th>\n",
              "      <th>bckgrnd_vdc_eq</th>\n",
              "      <th>bckgrnd_vdc_psim</th>\n",
              "      <th>Prandtl</th>\n",
              "      <th>outcome</th>\n",
              "      <th>Study_2</th>\n",
              "      <th>Study_3</th>\n",
              "    </tr>\n",
              "  </thead>\n",
              "  <tbody>\n",
              "    <tr>\n",
              "      <th>0</th>\n",
              "      <td>1</td>\n",
              "      <td>0.859036</td>\n",
              "      <td>0.927825</td>\n",
              "      <td>0.252866</td>\n",
              "      <td>0.298838</td>\n",
              "      <td>0.170521</td>\n",
              "      <td>0.735936</td>\n",
              "      <td>0.428325</td>\n",
              "      <td>0.567947</td>\n",
              "      <td>0.474370</td>\n",
              "      <td>...</td>\n",
              "      <td>0.869090703</td>\n",
              "      <td>0.997518496</td>\n",
              "      <td>0.448620</td>\n",
              "      <td>0.307522</td>\n",
              "      <td>0.858310</td>\n",
              "      <td>0.796997</td>\n",
              "      <td>0.869893</td>\n",
              "      <td>0</td>\n",
              "      <td>0</td>\n",
              "      <td>0</td>\n",
              "    </tr>\n",
              "    <tr>\n",
              "      <th>1</th>\n",
              "      <td>2</td>\n",
              "      <td>0.606041</td>\n",
              "      <td>0.457728</td>\n",
              "      <td>0.359448</td>\n",
              "      <td>0.306957</td>\n",
              "      <td>0.843331</td>\n",
              "      <td>0.934851</td>\n",
              "      <td>0.444572</td>\n",
              "      <td>0.828015</td>\n",
              "      <td>0.296618</td>\n",
              "      <td>...</td>\n",
              "      <td>0.914343667</td>\n",
              "      <td>0.845247142</td>\n",
              "      <td>0.864152</td>\n",
              "      <td>0.346713</td>\n",
              "      <td>0.356573</td>\n",
              "      <td>0.438447</td>\n",
              "      <td>0.512256</td>\n",
              "      <td>1</td>\n",
              "      <td>0</td>\n",
              "      <td>0</td>\n",
              "    </tr>\n",
              "  </tbody>\n",
              "</table>\n",
              "<p>2 rows × 22 columns</p>\n",
              "</div>\n",
              "      <button class=\"colab-df-convert\" onclick=\"convertToInteractive('df-62c97509-d2a1-4f36-bd47-af45ff15ff2b')\"\n",
              "              title=\"Convert this dataframe to an interactive table.\"\n",
              "              style=\"display:none;\">\n",
              "        \n",
              "  <svg xmlns=\"http://www.w3.org/2000/svg\" height=\"24px\"viewBox=\"0 0 24 24\"\n",
              "       width=\"24px\">\n",
              "    <path d=\"M0 0h24v24H0V0z\" fill=\"none\"/>\n",
              "    <path d=\"M18.56 5.44l.94 2.06.94-2.06 2.06-.94-2.06-.94-.94-2.06-.94 2.06-2.06.94zm-11 1L8.5 8.5l.94-2.06 2.06-.94-2.06-.94L8.5 2.5l-.94 2.06-2.06.94zm10 10l.94 2.06.94-2.06 2.06-.94-2.06-.94-.94-2.06-.94 2.06-2.06.94z\"/><path d=\"M17.41 7.96l-1.37-1.37c-.4-.4-.92-.59-1.43-.59-.52 0-1.04.2-1.43.59L10.3 9.45l-7.72 7.72c-.78.78-.78 2.05 0 2.83L4 21.41c.39.39.9.59 1.41.59.51 0 1.02-.2 1.41-.59l7.78-7.78 2.81-2.81c.8-.78.8-2.07 0-2.86zM5.41 20L4 18.59l7.72-7.72 1.47 1.35L5.41 20z\"/>\n",
              "  </svg>\n",
              "      </button>\n",
              "      \n",
              "  <style>\n",
              "    .colab-df-container {\n",
              "      display:flex;\n",
              "      flex-wrap:wrap;\n",
              "      gap: 12px;\n",
              "    }\n",
              "\n",
              "    .colab-df-convert {\n",
              "      background-color: #E8F0FE;\n",
              "      border: none;\n",
              "      border-radius: 50%;\n",
              "      cursor: pointer;\n",
              "      display: none;\n",
              "      fill: #1967D2;\n",
              "      height: 32px;\n",
              "      padding: 0 0 0 0;\n",
              "      width: 32px;\n",
              "    }\n",
              "\n",
              "    .colab-df-convert:hover {\n",
              "      background-color: #E2EBFA;\n",
              "      box-shadow: 0px 1px 2px rgba(60, 64, 67, 0.3), 0px 1px 3px 1px rgba(60, 64, 67, 0.15);\n",
              "      fill: #174EA6;\n",
              "    }\n",
              "\n",
              "    [theme=dark] .colab-df-convert {\n",
              "      background-color: #3B4455;\n",
              "      fill: #D2E3FC;\n",
              "    }\n",
              "\n",
              "    [theme=dark] .colab-df-convert:hover {\n",
              "      background-color: #434B5C;\n",
              "      box-shadow: 0px 1px 3px 1px rgba(0, 0, 0, 0.15);\n",
              "      filter: drop-shadow(0px 1px 2px rgba(0, 0, 0, 0.3));\n",
              "      fill: #FFFFFF;\n",
              "    }\n",
              "  </style>\n",
              "\n",
              "      <script>\n",
              "        const buttonEl =\n",
              "          document.querySelector('#df-62c97509-d2a1-4f36-bd47-af45ff15ff2b button.colab-df-convert');\n",
              "        buttonEl.style.display =\n",
              "          google.colab.kernel.accessAllowed ? 'block' : 'none';\n",
              "\n",
              "        async function convertToInteractive(key) {\n",
              "          const element = document.querySelector('#df-62c97509-d2a1-4f36-bd47-af45ff15ff2b');\n",
              "          const dataTable =\n",
              "            await google.colab.kernel.invokeFunction('convertToInteractive',\n",
              "                                                     [key], {});\n",
              "          if (!dataTable) return;\n",
              "\n",
              "          const docLinkHtml = 'Like what you see? Visit the ' +\n",
              "            '<a target=\"_blank\" href=https://colab.research.google.com/notebooks/data_table.ipynb>data table notebook</a>'\n",
              "            + ' to learn more about interactive tables.';\n",
              "          element.innerHTML = '';\n",
              "          dataTable['output_type'] = 'display_data';\n",
              "          await google.colab.output.renderOutput(dataTable, element);\n",
              "          const docLink = document.createElement('div');\n",
              "          docLink.innerHTML = docLinkHtml;\n",
              "          element.appendChild(docLink);\n",
              "        }\n",
              "      </script>\n",
              "    </div>\n",
              "  </div>\n",
              "  "
            ]
          },
          "metadata": {},
          "execution_count": 73
        }
      ],
      "source": [
        "df.head(2)"
      ]
    },
    {
      "cell_type": "code",
      "execution_count": null,
      "metadata": {
        "id": "hNE14UwZK0Rv",
        "outputId": "b5afc655-85be-4714-a9f5-df8931e10654"
      },
      "outputs": [
        {
          "data": {
            "text/plain": [
              "<AxesSubplot:xlabel='outcome', ylabel='count'>"
            ]
          },
          "execution_count": 15,
          "metadata": {},
          "output_type": "execute_result"
        },
        {
          "data": {
            "image/png": "[encoded data removed]",
            "text/plain": [
              "<Figure size 432x288 with 1 Axes>"
            ]
          },
          "metadata": {
            "needs_background": "light"
          },
          "output_type": "display_data"
        }
      ],
      "source": [
        "#Response Balancesness :  frequency distribution\n",
        "\n",
        "sns.countplot(data=df,x='outcome')"
      ]
    },
    {
      "cell_type": "code",
      "execution_count": null,
      "metadata": {
        "id": "vlfEe-byK0Rv",
        "outputId": "86b66951-f40b-4ac2-f0c0-8a367f5f1e25"
      },
      "outputs": [
        {
          "data": {
            "text/plain": [
              "1    494\n",
              "0     46\n",
              "Name: outcome, dtype: int64"
            ]
          },
          "execution_count": 16,
          "metadata": {},
          "output_type": "execute_result"
        }
      ],
      "source": [
        "df[\"outcome\"].value_counts()"
      ]
    },
    {
      "cell_type": "markdown",
      "metadata": {
        "id": "ksSCnR_nK0Rw"
      },
      "source": [
        "The response variable is very unbalanced, there are 494 sucesses and 46 failuers"
      ]
    },
    {
      "cell_type": "code",
      "execution_count": null,
      "metadata": {
        "id": "OZ_1Wn4OK0Rw",
        "outputId": "1166bace-0c5e-4927-ff0a-5f033cebf6ba"
      },
      "outputs": [
        {
          "data": {
            "text/plain": [
              "<AxesSubplot:xlabel='outcome', ylabel='bckgrnd_vdc_eq'>"
            ]
          },
          "execution_count": 50,
          "metadata": {},
          "output_type": "execute_result"
        },
        {
          "data": {
            "image/png": "[encoded data removed]",
            "text/plain": [
              "<Figure size 1080x720 with 15 Axes>"
            ]
          },
          "metadata": {
            "needs_background": "light"
          },
          "output_type": "display_data"
        }
      ],
      "source": [
        "#Checking the distribution count of the outcome variable against some predictors\n",
        "\n",
        "fig,axs = plt.subplots(5,3, figsize = (15,10))\n",
        "\n",
        "sns.barplot(data=df,x ='outcome' ,y=\"Run\",  color=\"skyblue\", ax=axs[0, 0])\n",
        "sns.barplot(data=df, x ='outcome', y=\"vconst_corr\", color=\"olive\", ax=axs[0, 1])\n",
        "sns.barplot(data=df, x ='outcome', y=\"vconst_2\", color=\"gold\", ax=axs[0, 2])\n",
        "\n",
        "sns.barplot(data=df, x ='outcome', y=\"vconst_3\",color=\"skyblue\", ax=axs[1, 0])\n",
        "sns.barplot(data=df, x ='outcome', y=\"vconst_4\",color=\"teal\", ax=axs[1, 1])\n",
        "sns.barplot(data=df, x ='outcome', y=\"vconst_5\", color=\"blue\", ax=axs[1, 2])\n",
        "\n",
        "sns.barplot(data=df, x ='outcome', y=\"vconst_7\", color=\"skyblue\", ax=axs[2,0])\n",
        "sns.barplot(data=df, x ='outcome', y=\"ah_corr\", color=\"olive\", ax=axs[2,1])\n",
        "sns.barplot(data=df, x ='outcome', y=\"ah_bolus\", color=\"blue\", ax=axs[2,2])\n",
        "\n",
        "sns.barplot(data=df, x ='outcome', y=\"slm_corr\", color=\"skyblue\", ax=axs[3,0])\n",
        "sns.barplot(data=df, x ='outcome', y=\"efficiency_factor\", color=\"olive\", ax=axs[3,1])\n",
        "sns.barplot(data=df, x ='outcome', y=\"Prandtl\", color=\"gold\", ax=axs[3,2])\n",
        "\n",
        "sns.barplot(data=df, x ='outcome', y=\"bckgrnd_vdc1\", color=\"purple\", ax=axs[4,0])\n",
        "sns.barplot(data=df, x ='outcome', y=\"bckgrnd_vdc_ban\", color=\"olive\", ax=axs[4,1])\n",
        "sns.barplot(data=df, x ='outcome', y=\"bckgrnd_vdc_eq\", color=\"gold\", ax=axs[4,2])\n"
      ]
    },
    {
      "cell_type": "markdown",
      "metadata": {
        "id": "_EY8NzhlK0Rx"
      },
      "source": [
        "The above shows that barplot of some of the features against the response"
      ]
    },
    {
      "cell_type": "code",
      "execution_count": null,
      "metadata": {
        "id": "mAqceT7KK0Rx"
      },
      "outputs": [],
      "source": [
        ""
      ]
    },
    {
      "cell_type": "markdown",
      "metadata": {
        "id": "A6YU8UneK0Rx"
      },
      "source": [
        "#### Investigating Multicolinearity"
      ]
    },
    {
      "cell_type": "code",
      "execution_count": null,
      "metadata": {
        "id": "zNruZpJaK0Ry"
      },
      "outputs": [],
      "source": [
        "dfcor = df.drop(columns=['outcome'])"
      ]
    },
    {
      "cell_type": "code",
      "execution_count": null,
      "metadata": {
        "id": "50KKdCbKK0Ry",
        "outputId": "b9643b61-59a0-4757-97c7-ecd44428d333"
      },
      "outputs": [
        {
          "data": {
            "text/html": [
              "<style  type=\"text/css\" >\n",
              "#T_1e1195f9_c7e5_11ec_a685_90f3504b574brow0_col0,#T_1e1195f9_c7e5_11ec_a685_90f3504b574brow1_col1,#T_1e1195f9_c7e5_11ec_a685_90f3504b574brow2_col2,#T_1e1195f9_c7e5_11ec_a685_90f3504b574brow3_col3,#T_1e1195f9_c7e5_11ec_a685_90f3504b574brow4_col4,#T_1e1195f9_c7e5_11ec_a685_90f3504b574brow5_col5,#T_1e1195f9_c7e5_11ec_a685_90f3504b574brow6_col6,#T_1e1195f9_c7e5_11ec_a685_90f3504b574brow7_col7,#T_1e1195f9_c7e5_11ec_a685_90f3504b574brow8_col8,#T_1e1195f9_c7e5_11ec_a685_90f3504b574brow9_col9,#T_1e1195f9_c7e5_11ec_a685_90f3504b574brow10_col10,#T_1e1195f9_c7e5_11ec_a685_90f3504b574brow11_col11,#T_1e1195f9_c7e5_11ec_a685_90f3504b574brow12_col12,#T_1e1195f9_c7e5_11ec_a685_90f3504b574brow13_col13,#T_1e1195f9_c7e5_11ec_a685_90f3504b574brow14_col14,#T_1e1195f9_c7e5_11ec_a685_90f3504b574brow15_col15,#T_1e1195f9_c7e5_11ec_a685_90f3504b574brow16_col16,#T_1e1195f9_c7e5_11ec_a685_90f3504b574brow17_col17,#T_1e1195f9_c7e5_11ec_a685_90f3504b574brow18_col18,#T_1e1195f9_c7e5_11ec_a685_90f3504b574brow19_col19{\n",
              "            background-color:  #b40426;\n",
              "            color:  #f1f1f1;\n",
              "        }#T_1e1195f9_c7e5_11ec_a685_90f3504b574brow0_col1,#T_1e1195f9_c7e5_11ec_a685_90f3504b574brow10_col17{\n",
              "            background-color:  #7ea1fa;\n",
              "            color:  #000000;\n",
              "        }#T_1e1195f9_c7e5_11ec_a685_90f3504b574brow0_col2{\n",
              "            background-color:  #7699f6;\n",
              "            color:  #000000;\n",
              "        }#T_1e1195f9_c7e5_11ec_a685_90f3504b574brow0_col3,#T_1e1195f9_c7e5_11ec_a685_90f3504b574brow0_col4,#T_1e1195f9_c7e5_11ec_a685_90f3504b574brow0_col5,#T_1e1195f9_c7e5_11ec_a685_90f3504b574brow0_col6,#T_1e1195f9_c7e5_11ec_a685_90f3504b574brow0_col7,#T_1e1195f9_c7e5_11ec_a685_90f3504b574brow0_col8,#T_1e1195f9_c7e5_11ec_a685_90f3504b574brow0_col12,#T_1e1195f9_c7e5_11ec_a685_90f3504b574brow0_col14,#T_1e1195f9_c7e5_11ec_a685_90f3504b574brow0_col15,#T_1e1195f9_c7e5_11ec_a685_90f3504b574brow1_col4,#T_1e1195f9_c7e5_11ec_a685_90f3504b574brow1_col11,#T_1e1195f9_c7e5_11ec_a685_90f3504b574brow1_col15,#T_1e1195f9_c7e5_11ec_a685_90f3504b574brow1_col17,#T_1e1195f9_c7e5_11ec_a685_90f3504b574brow2_col9,#T_1e1195f9_c7e5_11ec_a685_90f3504b574brow2_col17,#T_1e1195f9_c7e5_11ec_a685_90f3504b574brow4_col15,#T_1e1195f9_c7e5_11ec_a685_90f3504b574brow8_col7,#T_1e1195f9_c7e5_11ec_a685_90f3504b574brow10_col11,#T_1e1195f9_c7e5_11ec_a685_90f3504b574brow12_col10,#T_1e1195f9_c7e5_11ec_a685_90f3504b574brow14_col0,#T_1e1195f9_c7e5_11ec_a685_90f3504b574brow15_col4,#T_1e1195f9_c7e5_11ec_a685_90f3504b574brow17_col1,#T_1e1195f9_c7e5_11ec_a685_90f3504b574brow17_col2,#T_1e1195f9_c7e5_11ec_a685_90f3504b574brow17_col10,#T_1e1195f9_c7e5_11ec_a685_90f3504b574brow17_col11,#T_1e1195f9_c7e5_11ec_a685_90f3504b574brow17_col13,#T_1e1195f9_c7e5_11ec_a685_90f3504b574brow17_col16,#T_1e1195f9_c7e5_11ec_a685_90f3504b574brow18_col19,#T_1e1195f9_c7e5_11ec_a685_90f3504b574brow19_col18{\n",
              "            background-color:  #3b4cc0;\n",
              "            color:  #f1f1f1;\n",
              "        }#T_1e1195f9_c7e5_11ec_a685_90f3504b574brow0_col9,#T_1e1195f9_c7e5_11ec_a685_90f3504b574brow1_col3,#T_1e1195f9_c7e5_11ec_a685_90f3504b574brow1_col13,#T_1e1195f9_c7e5_11ec_a685_90f3504b574brow1_col16,#T_1e1195f9_c7e5_11ec_a685_90f3504b574brow3_col16,#T_1e1195f9_c7e5_11ec_a685_90f3504b574brow4_col13,#T_1e1195f9_c7e5_11ec_a685_90f3504b574brow5_col3,#T_1e1195f9_c7e5_11ec_a685_90f3504b574brow7_col13,#T_1e1195f9_c7e5_11ec_a685_90f3504b574brow7_col16,#T_1e1195f9_c7e5_11ec_a685_90f3504b574brow10_col3,#T_1e1195f9_c7e5_11ec_a685_90f3504b574brow14_col13,#T_1e1195f9_c7e5_11ec_a685_90f3504b574brow14_col16,#T_1e1195f9_c7e5_11ec_a685_90f3504b574brow16_col4,#T_1e1195f9_c7e5_11ec_a685_90f3504b574brow18_col16,#T_1e1195f9_c7e5_11ec_a685_90f3504b574brow19_col13,#T_1e1195f9_c7e5_11ec_a685_90f3504b574brow19_col16{\n",
              "            background-color:  #4257c9;\n",
              "            color:  #f1f1f1;\n",
              "        }#T_1e1195f9_c7e5_11ec_a685_90f3504b574brow0_col10,#T_1e1195f9_c7e5_11ec_a685_90f3504b574brow1_col14,#T_1e1195f9_c7e5_11ec_a685_90f3504b574brow15_col14{\n",
              "            background-color:  #5d7ce6;\n",
              "            color:  #000000;\n",
              "        }#T_1e1195f9_c7e5_11ec_a685_90f3504b574brow0_col11,#T_1e1195f9_c7e5_11ec_a685_90f3504b574brow2_col6,#T_1e1195f9_c7e5_11ec_a685_90f3504b574brow4_col9,#T_1e1195f9_c7e5_11ec_a685_90f3504b574brow6_col9,#T_1e1195f9_c7e5_11ec_a685_90f3504b574brow9_col15,#T_1e1195f9_c7e5_11ec_a685_90f3504b574brow10_col12,#T_1e1195f9_c7e5_11ec_a685_90f3504b574brow11_col10,#T_1e1195f9_c7e5_11ec_a685_90f3504b574brow11_col15,#T_1e1195f9_c7e5_11ec_a685_90f3504b574brow11_col16,#T_1e1195f9_c7e5_11ec_a685_90f3504b574brow12_col3,#T_1e1195f9_c7e5_11ec_a685_90f3504b574brow13_col3,#T_1e1195f9_c7e5_11ec_a685_90f3504b574brow15_col11,#T_1e1195f9_c7e5_11ec_a685_90f3504b574brow18_col9,#T_1e1195f9_c7e5_11ec_a685_90f3504b574brow19_col9{\n",
              "            background-color:  #3e51c5;\n",
              "            color:  #f1f1f1;\n",
              "        }#T_1e1195f9_c7e5_11ec_a685_90f3504b574brow0_col13,#T_1e1195f9_c7e5_11ec_a685_90f3504b574brow17_col15{\n",
              "            background-color:  #506bda;\n",
              "            color:  #000000;\n",
              "        }#T_1e1195f9_c7e5_11ec_a685_90f3504b574brow0_col16,#T_1e1195f9_c7e5_11ec_a685_90f3504b574brow1_col0,#T_1e1195f9_c7e5_11ec_a685_90f3504b574brow4_col12{\n",
              "            background-color:  #4e68d8;\n",
              "            color:  #000000;\n",
              "        }#T_1e1195f9_c7e5_11ec_a685_90f3504b574brow0_col17,#T_1e1195f9_c7e5_11ec_a685_90f3504b574brow5_col2,#T_1e1195f9_c7e5_11ec_a685_90f3504b574brow8_col1,#T_1e1195f9_c7e5_11ec_a685_90f3504b574brow10_col2,#T_1e1195f9_c7e5_11ec_a685_90f3504b574brow11_col1{\n",
              "            background-color:  #84a7fc;\n",
              "            color:  #000000;\n",
              "        }#T_1e1195f9_c7e5_11ec_a685_90f3504b574brow0_col18,#T_1e1195f9_c7e5_11ec_a685_90f3504b574brow0_col19,#T_1e1195f9_c7e5_11ec_a685_90f3504b574brow1_col18,#T_1e1195f9_c7e5_11ec_a685_90f3504b574brow1_col19,#T_1e1195f9_c7e5_11ec_a685_90f3504b574brow2_col18,#T_1e1195f9_c7e5_11ec_a685_90f3504b574brow2_col19,#T_1e1195f9_c7e5_11ec_a685_90f3504b574brow3_col18,#T_1e1195f9_c7e5_11ec_a685_90f3504b574brow3_col19,#T_1e1195f9_c7e5_11ec_a685_90f3504b574brow4_col18,#T_1e1195f9_c7e5_11ec_a685_90f3504b574brow4_col19,#T_1e1195f9_c7e5_11ec_a685_90f3504b574brow5_col18,#T_1e1195f9_c7e5_11ec_a685_90f3504b574brow5_col19,#T_1e1195f9_c7e5_11ec_a685_90f3504b574brow6_col18,#T_1e1195f9_c7e5_11ec_a685_90f3504b574brow6_col19,#T_1e1195f9_c7e5_11ec_a685_90f3504b574brow7_col18,#T_1e1195f9_c7e5_11ec_a685_90f3504b574brow7_col19,#T_1e1195f9_c7e5_11ec_a685_90f3504b574brow8_col18,#T_1e1195f9_c7e5_11ec_a685_90f3504b574brow8_col19,#T_1e1195f9_c7e5_11ec_a685_90f3504b574brow9_col18,#T_1e1195f9_c7e5_11ec_a685_90f3504b574brow9_col19,#T_1e1195f9_c7e5_11ec_a685_90f3504b574brow10_col18,#T_1e1195f9_c7e5_11ec_a685_90f3504b574brow10_col19,#T_1e1195f9_c7e5_11ec_a685_90f3504b574brow11_col18,#T_1e1195f9_c7e5_11ec_a685_90f3504b574brow11_col19,#T_1e1195f9_c7e5_11ec_a685_90f3504b574brow12_col18,#T_1e1195f9_c7e5_11ec_a685_90f3504b574brow12_col19,#T_1e1195f9_c7e5_11ec_a685_90f3504b574brow13_col18,#T_1e1195f9_c7e5_11ec_a685_90f3504b574brow13_col19,#T_1e1195f9_c7e5_11ec_a685_90f3504b574brow14_col18,#T_1e1195f9_c7e5_11ec_a685_90f3504b574brow14_col19,#T_1e1195f9_c7e5_11ec_a685_90f3504b574brow15_col18,#T_1e1195f9_c7e5_11ec_a685_90f3504b574brow15_col19,#T_1e1195f9_c7e5_11ec_a685_90f3504b574brow16_col18,#T_1e1195f9_c7e5_11ec_a685_90f3504b574brow16_col19{\n",
              "            background-color:  #aac7fd;\n",
              "            color:  #000000;\n",
              "        }#T_1e1195f9_c7e5_11ec_a685_90f3504b574brow1_col2,#T_1e1195f9_c7e5_11ec_a685_90f3504b574brow2_col1,#T_1e1195f9_c7e5_11ec_a685_90f3504b574brow6_col1,#T_1e1195f9_c7e5_11ec_a685_90f3504b574brow7_col1,#T_1e1195f9_c7e5_11ec_a685_90f3504b574brow8_col2,#T_1e1195f9_c7e5_11ec_a685_90f3504b574brow8_col17,#T_1e1195f9_c7e5_11ec_a685_90f3504b574brow9_col1,#T_1e1195f9_c7e5_11ec_a685_90f3504b574brow13_col2,#T_1e1195f9_c7e5_11ec_a685_90f3504b574brow14_col2,#T_1e1195f9_c7e5_11ec_a685_90f3504b574brow15_col2{\n",
              "            background-color:  #88abfd;\n",
              "            color:  #000000;\n",
              "        }#T_1e1195f9_c7e5_11ec_a685_90f3504b574brow1_col5,#T_1e1195f9_c7e5_11ec_a685_90f3504b574brow4_col5,#T_1e1195f9_c7e5_11ec_a685_90f3504b574brow4_col6,#T_1e1195f9_c7e5_11ec_a685_90f3504b574brow6_col0,#T_1e1195f9_c7e5_11ec_a685_90f3504b574brow7_col0,#T_1e1195f9_c7e5_11ec_a685_90f3504b574brow11_col5,#T_1e1195f9_c7e5_11ec_a685_90f3504b574brow17_col9{\n",
              "            background-color:  #4c66d6;\n",
              "            color:  #000000;\n",
              "        }#T_1e1195f9_c7e5_11ec_a685_90f3504b574brow1_col6,#T_1e1195f9_c7e5_11ec_a685_90f3504b574brow1_col7,#T_1e1195f9_c7e5_11ec_a685_90f3504b574brow2_col0,#T_1e1195f9_c7e5_11ec_a685_90f3504b574brow3_col10,#T_1e1195f9_c7e5_11ec_a685_90f3504b574brow3_col12,#T_1e1195f9_c7e5_11ec_a685_90f3504b574brow4_col7,#T_1e1195f9_c7e5_11ec_a685_90f3504b574brow5_col4,#T_1e1195f9_c7e5_11ec_a685_90f3504b574brow6_col4,#T_1e1195f9_c7e5_11ec_a685_90f3504b574brow6_col12,#T_1e1195f9_c7e5_11ec_a685_90f3504b574brow7_col10,#T_1e1195f9_c7e5_11ec_a685_90f3504b574brow9_col6,#T_1e1195f9_c7e5_11ec_a685_90f3504b574brow9_col10,#T_1e1195f9_c7e5_11ec_a685_90f3504b574brow9_col12,#T_1e1195f9_c7e5_11ec_a685_90f3504b574brow9_col16,#T_1e1195f9_c7e5_11ec_a685_90f3504b574brow10_col5,#T_1e1195f9_c7e5_11ec_a685_90f3504b574brow12_col4,#T_1e1195f9_c7e5_11ec_a685_90f3504b574brow14_col10,#T_1e1195f9_c7e5_11ec_a685_90f3504b574brow15_col7,#T_1e1195f9_c7e5_11ec_a685_90f3504b574brow16_col12,#T_1e1195f9_c7e5_11ec_a685_90f3504b574brow18_col5,#T_1e1195f9_c7e5_11ec_a685_90f3504b574brow19_col5{\n",
              "            background-color:  #465ecf;\n",
              "            color:  #f1f1f1;\n",
              "        }#T_1e1195f9_c7e5_11ec_a685_90f3504b574brow1_col8,#T_1e1195f9_c7e5_11ec_a685_90f3504b574brow4_col0,#T_1e1195f9_c7e5_11ec_a685_90f3504b574brow5_col14,#T_1e1195f9_c7e5_11ec_a685_90f3504b574brow9_col8,#T_1e1195f9_c7e5_11ec_a685_90f3504b574brow12_col8{\n",
              "            background-color:  #516ddb;\n",
              "            color:  #000000;\n",
              "        }#T_1e1195f9_c7e5_11ec_a685_90f3504b574brow1_col9,#T_1e1195f9_c7e5_11ec_a685_90f3504b574brow2_col3,#T_1e1195f9_c7e5_11ec_a685_90f3504b574brow5_col9,#T_1e1195f9_c7e5_11ec_a685_90f3504b574brow6_col3,#T_1e1195f9_c7e5_11ec_a685_90f3504b574brow6_col11,#T_1e1195f9_c7e5_11ec_a685_90f3504b574brow7_col15,#T_1e1195f9_c7e5_11ec_a685_90f3504b574brow8_col4,#T_1e1195f9_c7e5_11ec_a685_90f3504b574brow8_col6,#T_1e1195f9_c7e5_11ec_a685_90f3504b574brow8_col15,#T_1e1195f9_c7e5_11ec_a685_90f3504b574brow9_col4,#T_1e1195f9_c7e5_11ec_a685_90f3504b574brow10_col4,#T_1e1195f9_c7e5_11ec_a685_90f3504b574brow11_col9,#T_1e1195f9_c7e5_11ec_a685_90f3504b574brow12_col11,#T_1e1195f9_c7e5_11ec_a685_90f3504b574brow14_col3,#T_1e1195f9_c7e5_11ec_a685_90f3504b574brow16_col3,#T_1e1195f9_c7e5_11ec_a685_90f3504b574brow17_col3,#T_1e1195f9_c7e5_11ec_a685_90f3504b574brow18_col3,#T_1e1195f9_c7e5_11ec_a685_90f3504b574brow18_col11,#T_1e1195f9_c7e5_11ec_a685_90f3504b574brow18_col15,#T_1e1195f9_c7e5_11ec_a685_90f3504b574brow19_col3,#T_1e1195f9_c7e5_11ec_a685_90f3504b574brow19_col11,#T_1e1195f9_c7e5_11ec_a685_90f3504b574brow19_col15{\n",
              "            background-color:  #3f53c6;\n",
              "            color:  #f1f1f1;\n",
              "        }#T_1e1195f9_c7e5_11ec_a685_90f3504b574brow1_col10,#T_1e1195f9_c7e5_11ec_a685_90f3504b574brow1_col12,#T_1e1195f9_c7e5_11ec_a685_90f3504b574brow5_col6,#T_1e1195f9_c7e5_11ec_a685_90f3504b574brow6_col5,#T_1e1195f9_c7e5_11ec_a685_90f3504b574brow8_col10,#T_1e1195f9_c7e5_11ec_a685_90f3504b574brow9_col5,#T_1e1195f9_c7e5_11ec_a685_90f3504b574brow11_col12,#T_1e1195f9_c7e5_11ec_a685_90f3504b574brow11_col13,#T_1e1195f9_c7e5_11ec_a685_90f3504b574brow13_col12,#T_1e1195f9_c7e5_11ec_a685_90f3504b574brow14_col7,#T_1e1195f9_c7e5_11ec_a685_90f3504b574brow15_col13,#T_1e1195f9_c7e5_11ec_a685_90f3504b574brow16_col6,#T_1e1195f9_c7e5_11ec_a685_90f3504b574brow18_col12,#T_1e1195f9_c7e5_11ec_a685_90f3504b574brow19_col12{\n",
              "            background-color:  #485fd1;\n",
              "            color:  #f1f1f1;\n",
              "        }#T_1e1195f9_c7e5_11ec_a685_90f3504b574brow2_col4,#T_1e1195f9_c7e5_11ec_a685_90f3504b574brow2_col10,#T_1e1195f9_c7e5_11ec_a685_90f3504b574brow2_col15,#T_1e1195f9_c7e5_11ec_a685_90f3504b574brow3_col13,#T_1e1195f9_c7e5_11ec_a685_90f3504b574brow3_col15,#T_1e1195f9_c7e5_11ec_a685_90f3504b574brow6_col7,#T_1e1195f9_c7e5_11ec_a685_90f3504b574brow6_col13,#T_1e1195f9_c7e5_11ec_a685_90f3504b574brow7_col4,#T_1e1195f9_c7e5_11ec_a685_90f3504b574brow7_col6,#T_1e1195f9_c7e5_11ec_a685_90f3504b574brow8_col3,#T_1e1195f9_c7e5_11ec_a685_90f3504b574brow9_col11,#T_1e1195f9_c7e5_11ec_a685_90f3504b574brow10_col9,#T_1e1195f9_c7e5_11ec_a685_90f3504b574brow10_col16,#T_1e1195f9_c7e5_11ec_a685_90f3504b574brow12_col15,#T_1e1195f9_c7e5_11ec_a685_90f3504b574brow12_col16,#T_1e1195f9_c7e5_11ec_a685_90f3504b574brow13_col4,#T_1e1195f9_c7e5_11ec_a685_90f3504b574brow13_col5,#T_1e1195f9_c7e5_11ec_a685_90f3504b574brow13_col9,#T_1e1195f9_c7e5_11ec_a685_90f3504b574brow14_col5,#T_1e1195f9_c7e5_11ec_a685_90f3504b574brow15_col3,#T_1e1195f9_c7e5_11ec_a685_90f3504b574brow18_col4,#T_1e1195f9_c7e5_11ec_a685_90f3504b574brow19_col4{\n",
              "            background-color:  #4055c8;\n",
              "            color:  #f1f1f1;\n",
              "        }#T_1e1195f9_c7e5_11ec_a685_90f3504b574brow2_col5,#T_1e1195f9_c7e5_11ec_a685_90f3504b574brow2_col7,#T_1e1195f9_c7e5_11ec_a685_90f3504b574brow2_col12,#T_1e1195f9_c7e5_11ec_a685_90f3504b574brow2_col13,#T_1e1195f9_c7e5_11ec_a685_90f3504b574brow2_col16,#T_1e1195f9_c7e5_11ec_a685_90f3504b574brow5_col7,#T_1e1195f9_c7e5_11ec_a685_90f3504b574brow5_col10,#T_1e1195f9_c7e5_11ec_a685_90f3504b574brow6_col16,#T_1e1195f9_c7e5_11ec_a685_90f3504b574brow8_col13,#T_1e1195f9_c7e5_11ec_a685_90f3504b574brow8_col16,#T_1e1195f9_c7e5_11ec_a685_90f3504b574brow9_col7,#T_1e1195f9_c7e5_11ec_a685_90f3504b574brow9_col13,#T_1e1195f9_c7e5_11ec_a685_90f3504b574brow12_col6,#T_1e1195f9_c7e5_11ec_a685_90f3504b574brow13_col7,#T_1e1195f9_c7e5_11ec_a685_90f3504b574brow13_col11,#T_1e1195f9_c7e5_11ec_a685_90f3504b574brow13_col15,#T_1e1195f9_c7e5_11ec_a685_90f3504b574brow14_col6,#T_1e1195f9_c7e5_11ec_a685_90f3504b574brow15_col5,#T_1e1195f9_c7e5_11ec_a685_90f3504b574brow16_col13,#T_1e1195f9_c7e5_11ec_a685_90f3504b574brow18_col10,#T_1e1195f9_c7e5_11ec_a685_90f3504b574brow19_col10{\n",
              "            background-color:  #445acc;\n",
              "            color:  #f1f1f1;\n",
              "        }#T_1e1195f9_c7e5_11ec_a685_90f3504b574brow2_col8,#T_1e1195f9_c7e5_11ec_a685_90f3504b574brow3_col8,#T_1e1195f9_c7e5_11ec_a685_90f3504b574brow11_col0,#T_1e1195f9_c7e5_11ec_a685_90f3504b574brow13_col8,#T_1e1195f9_c7e5_11ec_a685_90f3504b574brow16_col8,#T_1e1195f9_c7e5_11ec_a685_90f3504b574brow17_col4,#T_1e1195f9_c7e5_11ec_a685_90f3504b574brow17_col5,#T_1e1195f9_c7e5_11ec_a685_90f3504b574brow17_col8{\n",
              "            background-color:  #5673e0;\n",
              "            color:  #000000;\n",
              "        }#T_1e1195f9_c7e5_11ec_a685_90f3504b574brow2_col11,#T_1e1195f9_c7e5_11ec_a685_90f3504b574brow3_col6,#T_1e1195f9_c7e5_11ec_a685_90f3504b574brow4_col11,#T_1e1195f9_c7e5_11ec_a685_90f3504b574brow5_col11,#T_1e1195f9_c7e5_11ec_a685_90f3504b574brow5_col16,#T_1e1195f9_c7e5_11ec_a685_90f3504b574brow7_col3,#T_1e1195f9_c7e5_11ec_a685_90f3504b574brow7_col5,#T_1e1195f9_c7e5_11ec_a685_90f3504b574brow8_col12,#T_1e1195f9_c7e5_11ec_a685_90f3504b574brow11_col4,#T_1e1195f9_c7e5_11ec_a685_90f3504b574brow11_col6,#T_1e1195f9_c7e5_11ec_a685_90f3504b574brow13_col10,#T_1e1195f9_c7e5_11ec_a685_90f3504b574brow14_col15,#T_1e1195f9_c7e5_11ec_a685_90f3504b574brow15_col16,#T_1e1195f9_c7e5_11ec_a685_90f3504b574brow16_col7,#T_1e1195f9_c7e5_11ec_a685_90f3504b574brow18_col6,#T_1e1195f9_c7e5_11ec_a685_90f3504b574brow18_col7,#T_1e1195f9_c7e5_11ec_a685_90f3504b574brow19_col6,#T_1e1195f9_c7e5_11ec_a685_90f3504b574brow19_col7{\n",
              "            background-color:  #455cce;\n",
              "            color:  #f1f1f1;\n",
              "        }#T_1e1195f9_c7e5_11ec_a685_90f3504b574brow2_col14,#T_1e1195f9_c7e5_11ec_a685_90f3504b574brow5_col8{\n",
              "            background-color:  #5977e3;\n",
              "            color:  #000000;\n",
              "        }#T_1e1195f9_c7e5_11ec_a685_90f3504b574brow3_col0{\n",
              "            background-color:  #536edd;\n",
              "            color:  #000000;\n",
              "        }#T_1e1195f9_c7e5_11ec_a685_90f3504b574brow3_col1,#T_1e1195f9_c7e5_11ec_a685_90f3504b574brow10_col1,#T_1e1195f9_c7e5_11ec_a685_90f3504b574brow16_col2{\n",
              "            background-color:  #89acfd;\n",
              "            color:  #000000;\n",
              "        }#T_1e1195f9_c7e5_11ec_a685_90f3504b574brow3_col2,#T_1e1195f9_c7e5_11ec_a685_90f3504b574brow3_col17,#T_1e1195f9_c7e5_11ec_a685_90f3504b574brow4_col2,#T_1e1195f9_c7e5_11ec_a685_90f3504b574brow12_col1,#T_1e1195f9_c7e5_11ec_a685_90f3504b574brow13_col1,#T_1e1195f9_c7e5_11ec_a685_90f3504b574brow16_col1,#T_1e1195f9_c7e5_11ec_a685_90f3504b574brow18_col1,#T_1e1195f9_c7e5_11ec_a685_90f3504b574brow18_col2,#T_1e1195f9_c7e5_11ec_a685_90f3504b574brow19_col1,#T_1e1195f9_c7e5_11ec_a685_90f3504b574brow19_col2{\n",
              "            background-color:  #86a9fc;\n",
              "            color:  #000000;\n",
              "        }#T_1e1195f9_c7e5_11ec_a685_90f3504b574brow3_col4,#T_1e1195f9_c7e5_11ec_a685_90f3504b574brow4_col3,#T_1e1195f9_c7e5_11ec_a685_90f3504b574brow4_col10,#T_1e1195f9_c7e5_11ec_a685_90f3504b574brow4_col16,#T_1e1195f9_c7e5_11ec_a685_90f3504b574brow6_col15,#T_1e1195f9_c7e5_11ec_a685_90f3504b574brow8_col11,#T_1e1195f9_c7e5_11ec_a685_90f3504b574brow10_col13,#T_1e1195f9_c7e5_11ec_a685_90f3504b574brow11_col7,#T_1e1195f9_c7e5_11ec_a685_90f3504b574brow12_col13,#T_1e1195f9_c7e5_11ec_a685_90f3504b574brow13_col6,#T_1e1195f9_c7e5_11ec_a685_90f3504b574brow13_col16,#T_1e1195f9_c7e5_11ec_a685_90f3504b574brow15_col10,#T_1e1195f9_c7e5_11ec_a685_90f3504b574brow16_col9,#T_1e1195f9_c7e5_11ec_a685_90f3504b574brow16_col10,#T_1e1195f9_c7e5_11ec_a685_90f3504b574brow16_col15,#T_1e1195f9_c7e5_11ec_a685_90f3504b574brow18_col13{\n",
              "            background-color:  #4358cb;\n",
              "            color:  #f1f1f1;\n",
              "        }#T_1e1195f9_c7e5_11ec_a685_90f3504b574brow3_col5,#T_1e1195f9_c7e5_11ec_a685_90f3504b574brow6_col10,#T_1e1195f9_c7e5_11ec_a685_90f3504b574brow10_col7,#T_1e1195f9_c7e5_11ec_a685_90f3504b574brow12_col5,#T_1e1195f9_c7e5_11ec_a685_90f3504b574brow12_col7{\n",
              "            background-color:  #4961d2;\n",
              "            color:  #f1f1f1;\n",
              "        }#T_1e1195f9_c7e5_11ec_a685_90f3504b574brow3_col7,#T_1e1195f9_c7e5_11ec_a685_90f3504b574brow5_col0,#T_1e1195f9_c7e5_11ec_a685_90f3504b574brow5_col12,#T_1e1195f9_c7e5_11ec_a685_90f3504b574brow7_col12,#T_1e1195f9_c7e5_11ec_a685_90f3504b574brow14_col12{\n",
              "            background-color:  #4b64d5;\n",
              "            color:  #f1f1f1;\n",
              "        }#T_1e1195f9_c7e5_11ec_a685_90f3504b574brow3_col9,#T_1e1195f9_c7e5_11ec_a685_90f3504b574brow5_col15,#T_1e1195f9_c7e5_11ec_a685_90f3504b574brow8_col9,#T_1e1195f9_c7e5_11ec_a685_90f3504b574brow14_col9,#T_1e1195f9_c7e5_11ec_a685_90f3504b574brow16_col11{\n",
              "            background-color:  #3c4ec2;\n",
              "            color:  #f1f1f1;\n",
              "        }#T_1e1195f9_c7e5_11ec_a685_90f3504b574brow3_col11,#T_1e1195f9_c7e5_11ec_a685_90f3504b574brow5_col13,#T_1e1195f9_c7e5_11ec_a685_90f3504b574brow7_col9,#T_1e1195f9_c7e5_11ec_a685_90f3504b574brow7_col11,#T_1e1195f9_c7e5_11ec_a685_90f3504b574brow8_col0,#T_1e1195f9_c7e5_11ec_a685_90f3504b574brow9_col3,#T_1e1195f9_c7e5_11ec_a685_90f3504b574brow10_col15,#T_1e1195f9_c7e5_11ec_a685_90f3504b574brow11_col3,#T_1e1195f9_c7e5_11ec_a685_90f3504b574brow12_col9,#T_1e1195f9_c7e5_11ec_a685_90f3504b574brow14_col4,#T_1e1195f9_c7e5_11ec_a685_90f3504b574brow14_col11,#T_1e1195f9_c7e5_11ec_a685_90f3504b574brow15_col9{\n",
              "            background-color:  #3d50c3;\n",
              "            color:  #f1f1f1;\n",
              "        }#T_1e1195f9_c7e5_11ec_a685_90f3504b574brow3_col14,#T_1e1195f9_c7e5_11ec_a685_90f3504b574brow10_col8,#T_1e1195f9_c7e5_11ec_a685_90f3504b574brow11_col8,#T_1e1195f9_c7e5_11ec_a685_90f3504b574brow13_col14,#T_1e1195f9_c7e5_11ec_a685_90f3504b574brow16_col14,#T_1e1195f9_c7e5_11ec_a685_90f3504b574brow18_col0,#T_1e1195f9_c7e5_11ec_a685_90f3504b574brow18_col14,#T_1e1195f9_c7e5_11ec_a685_90f3504b574brow19_col0,#T_1e1195f9_c7e5_11ec_a685_90f3504b574brow19_col14{\n",
              "            background-color:  #5875e1;\n",
              "            color:  #000000;\n",
              "        }#T_1e1195f9_c7e5_11ec_a685_90f3504b574brow4_col1,#T_1e1195f9_c7e5_11ec_a685_90f3504b574brow9_col2,#T_1e1195f9_c7e5_11ec_a685_90f3504b574brow11_col17,#T_1e1195f9_c7e5_11ec_a685_90f3504b574brow12_col2,#T_1e1195f9_c7e5_11ec_a685_90f3504b574brow15_col1,#T_1e1195f9_c7e5_11ec_a685_90f3504b574brow17_col12{\n",
              "            background-color:  #82a6fb;\n",
              "            color:  #000000;\n",
              "        }#T_1e1195f9_c7e5_11ec_a685_90f3504b574brow4_col8,#T_1e1195f9_c7e5_11ec_a685_90f3504b574brow15_col0,#T_1e1195f9_c7e5_11ec_a685_90f3504b574brow17_col0,#T_1e1195f9_c7e5_11ec_a685_90f3504b574brow17_col6{\n",
              "            background-color:  #5470de;\n",
              "            color:  #000000;\n",
              "        }#T_1e1195f9_c7e5_11ec_a685_90f3504b574brow4_col14,#T_1e1195f9_c7e5_11ec_a685_90f3504b574brow6_col14,#T_1e1195f9_c7e5_11ec_a685_90f3504b574brow9_col14,#T_1e1195f9_c7e5_11ec_a685_90f3504b574brow11_col14,#T_1e1195f9_c7e5_11ec_a685_90f3504b574brow15_col8,#T_1e1195f9_c7e5_11ec_a685_90f3504b574brow18_col8,#T_1e1195f9_c7e5_11ec_a685_90f3504b574brow19_col8{\n",
              "            background-color:  #5572df;\n",
              "            color:  #000000;\n",
              "        }#T_1e1195f9_c7e5_11ec_a685_90f3504b574brow4_col17{\n",
              "            background-color:  #9abbff;\n",
              "            color:  #000000;\n",
              "        }#T_1e1195f9_c7e5_11ec_a685_90f3504b574brow5_col1,#T_1e1195f9_c7e5_11ec_a685_90f3504b574brow7_col17,#T_1e1195f9_c7e5_11ec_a685_90f3504b574brow11_col2,#T_1e1195f9_c7e5_11ec_a685_90f3504b574brow19_col17{\n",
              "            background-color:  #8caffe;\n",
              "            color:  #000000;\n",
              "        }#T_1e1195f9_c7e5_11ec_a685_90f3504b574brow5_col17{\n",
              "            background-color:  #96b7ff;\n",
              "            color:  #000000;\n",
              "        }#T_1e1195f9_c7e5_11ec_a685_90f3504b574brow6_col2,#T_1e1195f9_c7e5_11ec_a685_90f3504b574brow13_col17,#T_1e1195f9_c7e5_11ec_a685_90f3504b574brow16_col17{\n",
              "            background-color:  #80a3fa;\n",
              "            color:  #000000;\n",
              "        }#T_1e1195f9_c7e5_11ec_a685_90f3504b574brow6_col8{\n",
              "            background-color:  #4f69d9;\n",
              "            color:  #000000;\n",
              "        }#T_1e1195f9_c7e5_11ec_a685_90f3504b574brow6_col17,#T_1e1195f9_c7e5_11ec_a685_90f3504b574brow9_col17,#T_1e1195f9_c7e5_11ec_a685_90f3504b574brow18_col17{\n",
              "            background-color:  #94b6ff;\n",
              "            color:  #000000;\n",
              "        }#T_1e1195f9_c7e5_11ec_a685_90f3504b574brow7_col2{\n",
              "            background-color:  #85a8fc;\n",
              "            color:  #000000;\n",
              "        }#T_1e1195f9_c7e5_11ec_a685_90f3504b574brow7_col8,#T_1e1195f9_c7e5_11ec_a685_90f3504b574brow8_col5,#T_1e1195f9_c7e5_11ec_a685_90f3504b574brow10_col6,#T_1e1195f9_c7e5_11ec_a685_90f3504b574brow12_col0,#T_1e1195f9_c7e5_11ec_a685_90f3504b574brow15_col6,#T_1e1195f9_c7e5_11ec_a685_90f3504b574brow15_col12,#T_1e1195f9_c7e5_11ec_a685_90f3504b574brow16_col5,#T_1e1195f9_c7e5_11ec_a685_90f3504b574brow17_col7{\n",
              "            background-color:  #4a63d3;\n",
              "            color:  #f1f1f1;\n",
              "        }#T_1e1195f9_c7e5_11ec_a685_90f3504b574brow7_col14,#T_1e1195f9_c7e5_11ec_a685_90f3504b574brow10_col14,#T_1e1195f9_c7e5_11ec_a685_90f3504b574brow12_col14{\n",
              "            background-color:  #5a78e4;\n",
              "            color:  #000000;\n",
              "        }#T_1e1195f9_c7e5_11ec_a685_90f3504b574brow8_col14{\n",
              "            background-color:  #6282ea;\n",
              "            color:  #000000;\n",
              "        }#T_1e1195f9_c7e5_11ec_a685_90f3504b574brow9_col0{\n",
              "            background-color:  #5b7ae5;\n",
              "            color:  #000000;\n",
              "        }#T_1e1195f9_c7e5_11ec_a685_90f3504b574brow10_col0{\n",
              "            background-color:  #7093f3;\n",
              "            color:  #000000;\n",
              "        }#T_1e1195f9_c7e5_11ec_a685_90f3504b574brow12_col17{\n",
              "            background-color:  #b7cff9;\n",
              "            color:  #000000;\n",
              "        }#T_1e1195f9_c7e5_11ec_a685_90f3504b574brow13_col0{\n",
              "            background-color:  #6687ed;\n",
              "            color:  #000000;\n",
              "        }#T_1e1195f9_c7e5_11ec_a685_90f3504b574brow14_col1{\n",
              "            background-color:  #8badfd;\n",
              "            color:  #000000;\n",
              "        }#T_1e1195f9_c7e5_11ec_a685_90f3504b574brow14_col8{\n",
              "            background-color:  #5e7de7;\n",
              "            color:  #000000;\n",
              "        }#T_1e1195f9_c7e5_11ec_a685_90f3504b574brow14_col17{\n",
              "            background-color:  #9dbdff;\n",
              "            color:  #000000;\n",
              "        }#T_1e1195f9_c7e5_11ec_a685_90f3504b574brow15_col17{\n",
              "            background-color:  #97b8ff;\n",
              "            color:  #000000;\n",
              "        }#T_1e1195f9_c7e5_11ec_a685_90f3504b574brow16_col0{\n",
              "            background-color:  #6384eb;\n",
              "            color:  #000000;\n",
              "        }#T_1e1195f9_c7e5_11ec_a685_90f3504b574brow17_col14{\n",
              "            background-color:  #6f92f3;\n",
              "            color:  #000000;\n",
              "        }#T_1e1195f9_c7e5_11ec_a685_90f3504b574brow17_col18{\n",
              "            background-color:  #b5cdfa;\n",
              "            color:  #000000;\n",
              "        }#T_1e1195f9_c7e5_11ec_a685_90f3504b574brow17_col19{\n",
              "            background-color:  #aec9fc;\n",
              "            color:  #000000;\n",
              "        }</style><table id=\"T_1e1195f9_c7e5_11ec_a685_90f3504b574b\" ><thead>    <tr>        <th class=\"blank level0\" ></th>        <th class=\"col_heading level0 col0\" >Run</th>        <th class=\"col_heading level0 col1\" >vconst_corr</th>        <th class=\"col_heading level0 col2\" >vconst_2</th>        <th class=\"col_heading level0 col3\" >vconst_3</th>        <th class=\"col_heading level0 col4\" >vconst_4</th>        <th class=\"col_heading level0 col5\" >vconst_5</th>        <th class=\"col_heading level0 col6\" >vconst_7</th>        <th class=\"col_heading level0 col7\" >ah_corr</th>        <th class=\"col_heading level0 col8\" >ah_bolus</th>        <th class=\"col_heading level0 col9\" >slm_corr</th>        <th class=\"col_heading level0 col10\" >efficiency_factor</th>        <th class=\"col_heading level0 col11\" >tidal_mix_max</th>        <th class=\"col_heading level0 col12\" >bckgrnd_vdc1</th>        <th class=\"col_heading level0 col13\" >bckgrnd_vdc_ban</th>        <th class=\"col_heading level0 col14\" >bckgrnd_vdc_eq</th>        <th class=\"col_heading level0 col15\" >bckgrnd_vdc_psim</th>        <th class=\"col_heading level0 col16\" >Prandtl</th>        <th class=\"col_heading level0 col17\" >outcome</th>        <th class=\"col_heading level0 col18\" >Study_2</th>        <th class=\"col_heading level0 col19\" >Study_3</th>    </tr></thead><tbody>\n",
              "                <tr>\n",
              "                        <th id=\"T_1e1195f9_c7e5_11ec_a685_90f3504b574blevel0_row0\" class=\"row_heading level0 row0\" >Run</th>\n",
              "                        <td id=\"T_1e1195f9_c7e5_11ec_a685_90f3504b574brow0_col0\" class=\"data row0 col0\" >1.000000</td>\n",
              "                        <td id=\"T_1e1195f9_c7e5_11ec_a685_90f3504b574brow0_col1\" class=\"data row0 col1\" >-0.034414</td>\n",
              "                        <td id=\"T_1e1195f9_c7e5_11ec_a685_90f3504b574brow0_col2\" class=\"data row0 col2\" >-0.058644</td>\n",
              "                        <td id=\"T_1e1195f9_c7e5_11ec_a685_90f3504b574brow0_col3\" class=\"data row0 col3\" >-0.018387</td>\n",
              "                        <td id=\"T_1e1195f9_c7e5_11ec_a685_90f3504b574brow0_col4\" class=\"data row0 col4\" >-0.021134</td>\n",
              "                        <td id=\"T_1e1195f9_c7e5_11ec_a685_90f3504b574brow0_col5\" class=\"data row0 col5\" >-0.042972</td>\n",
              "                        <td id=\"T_1e1195f9_c7e5_11ec_a685_90f3504b574brow0_col6\" class=\"data row0 col6\" >-0.040134</td>\n",
              "                        <td id=\"T_1e1195f9_c7e5_11ec_a685_90f3504b574brow0_col7\" class=\"data row0 col7\" >-0.039149</td>\n",
              "                        <td id=\"T_1e1195f9_c7e5_11ec_a685_90f3504b574brow0_col8\" class=\"data row0 col8\" >-0.094475</td>\n",
              "                        <td id=\"T_1e1195f9_c7e5_11ec_a685_90f3504b574brow0_col9\" class=\"data row0 col9\" >0.011829</td>\n",
              "                        <td id=\"T_1e1195f9_c7e5_11ec_a685_90f3504b574brow0_col10\" class=\"data row0 col10\" >0.080217</td>\n",
              "                        <td id=\"T_1e1195f9_c7e5_11ec_a685_90f3504b574brow0_col11\" class=\"data row0 col11\" >-0.003172</td>\n",
              "                        <td id=\"T_1e1195f9_c7e5_11ec_a685_90f3504b574brow0_col12\" class=\"data row0 col12\" >-0.047611</td>\n",
              "                        <td id=\"T_1e1195f9_c7e5_11ec_a685_90f3504b574brow0_col13\" class=\"data row0 col13\" >0.045694</td>\n",
              "                        <td id=\"T_1e1195f9_c7e5_11ec_a685_90f3504b574brow0_col14\" class=\"data row0 col14\" >-0.105921</td>\n",
              "                        <td id=\"T_1e1195f9_c7e5_11ec_a685_90f3504b574brow0_col15\" class=\"data row0 col15\" >-0.014953</td>\n",
              "                        <td id=\"T_1e1195f9_c7e5_11ec_a685_90f3504b574brow0_col16\" class=\"data row0 col16\" >0.039661</td>\n",
              "                        <td id=\"T_1e1195f9_c7e5_11ec_a685_90f3504b574brow0_col17\" class=\"data row0 col17\" >-0.013916</td>\n",
              "                        <td id=\"T_1e1195f9_c7e5_11ec_a685_90f3504b574brow0_col18\" class=\"data row0 col18\" >0.000000</td>\n",
              "                        <td id=\"T_1e1195f9_c7e5_11ec_a685_90f3504b574brow0_col19\" class=\"data row0 col19\" >0.000000</td>\n",
              "            </tr>\n",
              "            <tr>\n",
              "                        <th id=\"T_1e1195f9_c7e5_11ec_a685_90f3504b574blevel0_row1\" class=\"row_heading level0 row1\" >vconst_corr</th>\n",
              "                        <td id=\"T_1e1195f9_c7e5_11ec_a685_90f3504b574brow1_col0\" class=\"data row1 col0\" >-0.034414</td>\n",
              "                        <td id=\"T_1e1195f9_c7e5_11ec_a685_90f3504b574brow1_col1\" class=\"data row1 col1\" >1.000000</td>\n",
              "                        <td id=\"T_1e1195f9_c7e5_11ec_a685_90f3504b574brow1_col2\" class=\"data row1 col2\" >0.004039</td>\n",
              "                        <td id=\"T_1e1195f9_c7e5_11ec_a685_90f3504b574brow1_col3\" class=\"data row1 col3\" >0.009331</td>\n",
              "                        <td id=\"T_1e1195f9_c7e5_11ec_a685_90f3504b574brow1_col4\" class=\"data row1 col4\" >-0.018294</td>\n",
              "                        <td id=\"T_1e1195f9_c7e5_11ec_a685_90f3504b574brow1_col5\" class=\"data row1 col5\" >0.018880</td>\n",
              "                        <td id=\"T_1e1195f9_c7e5_11ec_a685_90f3504b574brow1_col6\" class=\"data row1 col6\" >0.001544</td>\n",
              "                        <td id=\"T_1e1195f9_c7e5_11ec_a685_90f3504b574brow1_col7\" class=\"data row1 col7\" >0.003714</td>\n",
              "                        <td id=\"T_1e1195f9_c7e5_11ec_a685_90f3504b574brow1_col8\" class=\"data row1 col8\" >-0.012735</td>\n",
              "                        <td id=\"T_1e1195f9_c7e5_11ec_a685_90f3504b574brow1_col9\" class=\"data row1 col9\" >0.002336</td>\n",
              "                        <td id=\"T_1e1195f9_c7e5_11ec_a685_90f3504b574brow1_col10\" class=\"data row1 col10\" >0.010617</td>\n",
              "                        <td id=\"T_1e1195f9_c7e5_11ec_a685_90f3504b574brow1_col11\" class=\"data row1 col11\" >-0.014205</td>\n",
              "                        <td id=\"T_1e1195f9_c7e5_11ec_a685_90f3504b574brow1_col12\" class=\"data row1 col12\" >-0.002133</td>\n",
              "                        <td id=\"T_1e1195f9_c7e5_11ec_a685_90f3504b574brow1_col13\" class=\"data row1 col13\" >-0.002099</td>\n",
              "                        <td id=\"T_1e1195f9_c7e5_11ec_a685_90f3504b574brow1_col14\" class=\"data row1 col14\" >0.015973</td>\n",
              "                        <td id=\"T_1e1195f9_c7e5_11ec_a685_90f3504b574brow1_col15\" class=\"data row1 col15\" >-0.016631</td>\n",
              "                        <td id=\"T_1e1195f9_c7e5_11ec_a685_90f3504b574brow1_col16\" class=\"data row1 col16\" >-0.001467</td>\n",
              "                        <td id=\"T_1e1195f9_c7e5_11ec_a685_90f3504b574brow1_col17\" class=\"data row1 col17\" >-0.304787</td>\n",
              "                        <td id=\"T_1e1195f9_c7e5_11ec_a685_90f3504b574brow1_col18\" class=\"data row1 col18\" >-0.000079</td>\n",
              "                        <td id=\"T_1e1195f9_c7e5_11ec_a685_90f3504b574brow1_col19\" class=\"data row1 col19\" >-0.000305</td>\n",
              "            </tr>\n",
              "            <tr>\n",
              "                        <th id=\"T_1e1195f9_c7e5_11ec_a685_90f3504b574blevel0_row2\" class=\"row_heading level0 row2\" >vconst_2</th>\n",
              "                        <td id=\"T_1e1195f9_c7e5_11ec_a685_90f3504b574brow2_col0\" class=\"data row2 col0\" >-0.058644</td>\n",
              "                        <td id=\"T_1e1195f9_c7e5_11ec_a685_90f3504b574brow2_col1\" class=\"data row2 col1\" >0.004039</td>\n",
              "                        <td id=\"T_1e1195f9_c7e5_11ec_a685_90f3504b574brow2_col2\" class=\"data row2 col2\" >1.000000</td>\n",
              "                        <td id=\"T_1e1195f9_c7e5_11ec_a685_90f3504b574brow2_col3\" class=\"data row2 col3\" >-0.000456</td>\n",
              "                        <td id=\"T_1e1195f9_c7e5_11ec_a685_90f3504b574brow2_col4\" class=\"data row2 col4\" >-0.000614</td>\n",
              "                        <td id=\"T_1e1195f9_c7e5_11ec_a685_90f3504b574brow2_col5\" class=\"data row2 col5\" >-0.008292</td>\n",
              "                        <td id=\"T_1e1195f9_c7e5_11ec_a685_90f3504b574brow2_col6\" class=\"data row2 col6\" >-0.024379</td>\n",
              "                        <td id=\"T_1e1195f9_c7e5_11ec_a685_90f3504b574brow2_col7\" class=\"data row2 col7\" >-0.005182</td>\n",
              "                        <td id=\"T_1e1195f9_c7e5_11ec_a685_90f3504b574brow2_col8\" class=\"data row2 col8\" >0.004179</td>\n",
              "                        <td id=\"T_1e1195f9_c7e5_11ec_a685_90f3504b574brow2_col9\" class=\"data row2 col9\" >-0.013860</td>\n",
              "                        <td id=\"T_1e1195f9_c7e5_11ec_a685_90f3504b574brow2_col10\" class=\"data row2 col10\" >-0.011072</td>\n",
              "                        <td id=\"T_1e1195f9_c7e5_11ec_a685_90f3504b574brow2_col11\" class=\"data row2 col11\" >0.019706</td>\n",
              "                        <td id=\"T_1e1195f9_c7e5_11ec_a685_90f3504b574brow2_col12\" class=\"data row2 col12\" >-0.014716</td>\n",
              "                        <td id=\"T_1e1195f9_c7e5_11ec_a685_90f3504b574brow2_col13\" class=\"data row2 col13\" >0.004386</td>\n",
              "                        <td id=\"T_1e1195f9_c7e5_11ec_a685_90f3504b574brow2_col14\" class=\"data row2 col14\" >0.005999</td>\n",
              "                        <td id=\"T_1e1195f9_c7e5_11ec_a685_90f3504b574brow2_col15\" class=\"data row2 col15\" >0.004202</td>\n",
              "                        <td id=\"T_1e1195f9_c7e5_11ec_a685_90f3504b574brow2_col16\" class=\"data row2 col16\" >0.009141</td>\n",
              "                        <td id=\"T_1e1195f9_c7e5_11ec_a685_90f3504b574brow2_col17\" class=\"data row2 col17\" >-0.302388</td>\n",
              "                        <td id=\"T_1e1195f9_c7e5_11ec_a685_90f3504b574brow2_col18\" class=\"data row2 col18\" >-0.000273</td>\n",
              "                        <td id=\"T_1e1195f9_c7e5_11ec_a685_90f3504b574brow2_col19\" class=\"data row2 col19\" >0.000402</td>\n",
              "            </tr>\n",
              "            <tr>\n",
              "                        <th id=\"T_1e1195f9_c7e5_11ec_a685_90f3504b574blevel0_row3\" class=\"row_heading level0 row3\" >vconst_3</th>\n",
              "                        <td id=\"T_1e1195f9_c7e5_11ec_a685_90f3504b574brow3_col0\" class=\"data row3 col0\" >-0.018387</td>\n",
              "                        <td id=\"T_1e1195f9_c7e5_11ec_a685_90f3504b574brow3_col1\" class=\"data row3 col1\" >0.009331</td>\n",
              "                        <td id=\"T_1e1195f9_c7e5_11ec_a685_90f3504b574brow3_col2\" class=\"data row3 col2\" >-0.000456</td>\n",
              "                        <td id=\"T_1e1195f9_c7e5_11ec_a685_90f3504b574brow3_col3\" class=\"data row3 col3\" >1.000000</td>\n",
              "                        <td id=\"T_1e1195f9_c7e5_11ec_a685_90f3504b574brow3_col4\" class=\"data row3 col4\" >0.009899</td>\n",
              "                        <td id=\"T_1e1195f9_c7e5_11ec_a685_90f3504b574brow3_col5\" class=\"data row3 col5\" >0.006289</td>\n",
              "                        <td id=\"T_1e1195f9_c7e5_11ec_a685_90f3504b574brow3_col6\" class=\"data row3 col6\" >-0.001587</td>\n",
              "                        <td id=\"T_1e1195f9_c7e5_11ec_a685_90f3504b574brow3_col7\" class=\"data row3 col7\" >0.019941</td>\n",
              "                        <td id=\"T_1e1195f9_c7e5_11ec_a685_90f3504b574brow3_col8\" class=\"data row3 col8\" >0.004402</td>\n",
              "                        <td id=\"T_1e1195f9_c7e5_11ec_a685_90f3504b574brow3_col9\" class=\"data row3 col9\" >-0.007695</td>\n",
              "                        <td id=\"T_1e1195f9_c7e5_11ec_a685_90f3504b574brow3_col10\" class=\"data row3 col10\" >0.007100</td>\n",
              "                        <td id=\"T_1e1195f9_c7e5_11ec_a685_90f3504b574brow3_col11\" class=\"data row3 col11\" >-0.009428</td>\n",
              "                        <td id=\"T_1e1195f9_c7e5_11ec_a685_90f3504b574brow3_col12\" class=\"data row3 col12\" >-0.004264</td>\n",
              "                        <td id=\"T_1e1195f9_c7e5_11ec_a685_90f3504b574brow3_col13\" class=\"data row3 col13\" >-0.005210</td>\n",
              "                        <td id=\"T_1e1195f9_c7e5_11ec_a685_90f3504b574brow3_col14\" class=\"data row3 col14\" >-0.000559</td>\n",
              "                        <td id=\"T_1e1195f9_c7e5_11ec_a685_90f3504b574brow3_col15\" class=\"data row3 col15\" >0.004771</td>\n",
              "                        <td id=\"T_1e1195f9_c7e5_11ec_a685_90f3504b574brow3_col16\" class=\"data row3 col16\" >-0.001334</td>\n",
              "                        <td id=\"T_1e1195f9_c7e5_11ec_a685_90f3504b574brow3_col17\" class=\"data row3 col17\" >0.000227</td>\n",
              "                        <td id=\"T_1e1195f9_c7e5_11ec_a685_90f3504b574brow3_col18\" class=\"data row3 col18\" >0.000107</td>\n",
              "                        <td id=\"T_1e1195f9_c7e5_11ec_a685_90f3504b574brow3_col19\" class=\"data row3 col19\" >-0.000505</td>\n",
              "            </tr>\n",
              "            <tr>\n",
              "                        <th id=\"T_1e1195f9_c7e5_11ec_a685_90f3504b574blevel0_row4\" class=\"row_heading level0 row4\" >vconst_4</th>\n",
              "                        <td id=\"T_1e1195f9_c7e5_11ec_a685_90f3504b574brow4_col0\" class=\"data row4 col0\" >-0.021134</td>\n",
              "                        <td id=\"T_1e1195f9_c7e5_11ec_a685_90f3504b574brow4_col1\" class=\"data row4 col1\" >-0.018294</td>\n",
              "                        <td id=\"T_1e1195f9_c7e5_11ec_a685_90f3504b574brow4_col2\" class=\"data row4 col2\" >-0.000614</td>\n",
              "                        <td id=\"T_1e1195f9_c7e5_11ec_a685_90f3504b574brow4_col3\" class=\"data row4 col3\" >0.009899</td>\n",
              "                        <td id=\"T_1e1195f9_c7e5_11ec_a685_90f3504b574brow4_col4\" class=\"data row4 col4\" >1.000000</td>\n",
              "                        <td id=\"T_1e1195f9_c7e5_11ec_a685_90f3504b574brow4_col5\" class=\"data row4 col5\" >0.020504</td>\n",
              "                        <td id=\"T_1e1195f9_c7e5_11ec_a685_90f3504b574brow4_col6\" class=\"data row4 col6\" >0.021931</td>\n",
              "                        <td id=\"T_1e1195f9_c7e5_11ec_a685_90f3504b574brow4_col7\" class=\"data row4 col7\" >0.001805</td>\n",
              "                        <td id=\"T_1e1195f9_c7e5_11ec_a685_90f3504b574brow4_col8\" class=\"data row4 col8\" >-0.002334</td>\n",
              "                        <td id=\"T_1e1195f9_c7e5_11ec_a685_90f3504b574brow4_col9\" class=\"data row4 col9\" >-0.001731</td>\n",
              "                        <td id=\"T_1e1195f9_c7e5_11ec_a685_90f3504b574brow4_col10\" class=\"data row4 col10\" >-0.004753</td>\n",
              "                        <td id=\"T_1e1195f9_c7e5_11ec_a685_90f3504b574brow4_col11\" class=\"data row4 col11\" >0.018320</td>\n",
              "                        <td id=\"T_1e1195f9_c7e5_11ec_a685_90f3504b574brow4_col12\" class=\"data row4 col12\" >0.020442</td>\n",
              "                        <td id=\"T_1e1195f9_c7e5_11ec_a685_90f3504b574brow4_col13\" class=\"data row4 col13\" >-0.001080</td>\n",
              "                        <td id=\"T_1e1195f9_c7e5_11ec_a685_90f3504b574brow4_col14\" class=\"data row4 col14\" >-0.009262</td>\n",
              "                        <td id=\"T_1e1195f9_c7e5_11ec_a685_90f3504b574brow4_col15\" class=\"data row4 col15\" >-0.017147</td>\n",
              "                        <td id=\"T_1e1195f9_c7e5_11ec_a685_90f3504b574brow4_col16\" class=\"data row4 col16\" >0.005053</td>\n",
              "                        <td id=\"T_1e1195f9_c7e5_11ec_a685_90f3504b574brow4_col17\" class=\"data row4 col17\" >0.072297</td>\n",
              "                        <td id=\"T_1e1195f9_c7e5_11ec_a685_90f3504b574brow4_col18\" class=\"data row4 col18\" >-0.000243</td>\n",
              "                        <td id=\"T_1e1195f9_c7e5_11ec_a685_90f3504b574brow4_col19\" class=\"data row4 col19\" >0.000331</td>\n",
              "            </tr>\n",
              "            <tr>\n",
              "                        <th id=\"T_1e1195f9_c7e5_11ec_a685_90f3504b574blevel0_row5\" class=\"row_heading level0 row5\" >vconst_5</th>\n",
              "                        <td id=\"T_1e1195f9_c7e5_11ec_a685_90f3504b574brow5_col0\" class=\"data row5 col0\" >-0.042972</td>\n",
              "                        <td id=\"T_1e1195f9_c7e5_11ec_a685_90f3504b574brow5_col1\" class=\"data row5 col1\" >0.018880</td>\n",
              "                        <td id=\"T_1e1195f9_c7e5_11ec_a685_90f3504b574brow5_col2\" class=\"data row5 col2\" >-0.008292</td>\n",
              "                        <td id=\"T_1e1195f9_c7e5_11ec_a685_90f3504b574brow5_col3\" class=\"data row5 col3\" >0.006289</td>\n",
              "                        <td id=\"T_1e1195f9_c7e5_11ec_a685_90f3504b574brow5_col4\" class=\"data row5 col4\" >0.020504</td>\n",
              "                        <td id=\"T_1e1195f9_c7e5_11ec_a685_90f3504b574brow5_col5\" class=\"data row5 col5\" >1.000000</td>\n",
              "                        <td id=\"T_1e1195f9_c7e5_11ec_a685_90f3504b574brow5_col6\" class=\"data row5 col6\" >0.005887</td>\n",
              "                        <td id=\"T_1e1195f9_c7e5_11ec_a685_90f3504b574brow5_col7\" class=\"data row5 col7\" >-0.003047</td>\n",
              "                        <td id=\"T_1e1195f9_c7e5_11ec_a685_90f3504b574brow5_col8\" class=\"data row5 col8\" >0.012453</td>\n",
              "                        <td id=\"T_1e1195f9_c7e5_11ec_a685_90f3504b574brow5_col9\" class=\"data row5 col9\" >0.003634</td>\n",
              "                        <td id=\"T_1e1195f9_c7e5_11ec_a685_90f3504b574brow5_col10\" class=\"data row5 col10\" >0.001077</td>\n",
              "                        <td id=\"T_1e1195f9_c7e5_11ec_a685_90f3504b574brow5_col11\" class=\"data row5 col11\" >0.021354</td>\n",
              "                        <td id=\"T_1e1195f9_c7e5_11ec_a685_90f3504b574brow5_col12\" class=\"data row5 col12\" >0.009894</td>\n",
              "                        <td id=\"T_1e1195f9_c7e5_11ec_a685_90f3504b574brow5_col13\" class=\"data row5 col13\" >-0.019179</td>\n",
              "                        <td id=\"T_1e1195f9_c7e5_11ec_a685_90f3504b574brow5_col14\" class=\"data row5 col14\" >-0.020752</td>\n",
              "                        <td id=\"T_1e1195f9_c7e5_11ec_a685_90f3504b574brow5_col15\" class=\"data row5 col15\" >-0.009324</td>\n",
              "                        <td id=\"T_1e1195f9_c7e5_11ec_a685_90f3504b574brow5_col16\" class=\"data row5 col16\" >0.012265</td>\n",
              "                        <td id=\"T_1e1195f9_c7e5_11ec_a685_90f3504b574brow5_col17\" class=\"data row5 col17\" >0.054390</td>\n",
              "                        <td id=\"T_1e1195f9_c7e5_11ec_a685_90f3504b574brow5_col18\" class=\"data row5 col18\" >0.000324</td>\n",
              "                        <td id=\"T_1e1195f9_c7e5_11ec_a685_90f3504b574brow5_col19\" class=\"data row5 col19\" >-0.000236</td>\n",
              "            </tr>\n",
              "            <tr>\n",
              "                        <th id=\"T_1e1195f9_c7e5_11ec_a685_90f3504b574blevel0_row6\" class=\"row_heading level0 row6\" >vconst_7</th>\n",
              "                        <td id=\"T_1e1195f9_c7e5_11ec_a685_90f3504b574brow6_col0\" class=\"data row6 col0\" >-0.040134</td>\n",
              "                        <td id=\"T_1e1195f9_c7e5_11ec_a685_90f3504b574brow6_col1\" class=\"data row6 col1\" >0.001544</td>\n",
              "                        <td id=\"T_1e1195f9_c7e5_11ec_a685_90f3504b574brow6_col2\" class=\"data row6 col2\" >-0.024379</td>\n",
              "                        <td id=\"T_1e1195f9_c7e5_11ec_a685_90f3504b574brow6_col3\" class=\"data row6 col3\" >-0.001587</td>\n",
              "                        <td id=\"T_1e1195f9_c7e5_11ec_a685_90f3504b574brow6_col4\" class=\"data row6 col4\" >0.021931</td>\n",
              "                        <td id=\"T_1e1195f9_c7e5_11ec_a685_90f3504b574brow6_col5\" class=\"data row6 col5\" >0.005887</td>\n",
              "                        <td id=\"T_1e1195f9_c7e5_11ec_a685_90f3504b574brow6_col6\" class=\"data row6 col6\" >1.000000</td>\n",
              "                        <td id=\"T_1e1195f9_c7e5_11ec_a685_90f3504b574brow6_col7\" class=\"data row6 col7\" >-0.016770</td>\n",
              "                        <td id=\"T_1e1195f9_c7e5_11ec_a685_90f3504b574brow6_col8\" class=\"data row6 col8\" >-0.021644</td>\n",
              "                        <td id=\"T_1e1195f9_c7e5_11ec_a685_90f3504b574brow6_col9\" class=\"data row6 col9\" >0.001244</td>\n",
              "                        <td id=\"T_1e1195f9_c7e5_11ec_a685_90f3504b574brow6_col10\" class=\"data row6 col10\" >0.015121</td>\n",
              "                        <td id=\"T_1e1195f9_c7e5_11ec_a685_90f3504b574brow6_col11\" class=\"data row6 col11\" >0.000075</td>\n",
              "                        <td id=\"T_1e1195f9_c7e5_11ec_a685_90f3504b574brow6_col12\" class=\"data row6 col12\" >-0.003641</td>\n",
              "                        <td id=\"T_1e1195f9_c7e5_11ec_a685_90f3504b574brow6_col13\" class=\"data row6 col13\" >-0.007897</td>\n",
              "                        <td id=\"T_1e1195f9_c7e5_11ec_a685_90f3504b574brow6_col14\" class=\"data row6 col14\" >-0.006576</td>\n",
              "                        <td id=\"T_1e1195f9_c7e5_11ec_a685_90f3504b574brow6_col15\" class=\"data row6 col15\" >0.013203</td>\n",
              "                        <td id=\"T_1e1195f9_c7e5_11ec_a685_90f3504b574brow6_col16\" class=\"data row6 col16\" >0.008412</td>\n",
              "                        <td id=\"T_1e1195f9_c7e5_11ec_a685_90f3504b574brow6_col17\" class=\"data row6 col17\" >0.048646</td>\n",
              "                        <td id=\"T_1e1195f9_c7e5_11ec_a685_90f3504b574brow6_col18\" class=\"data row6 col18\" >0.000333</td>\n",
              "                        <td id=\"T_1e1195f9_c7e5_11ec_a685_90f3504b574brow6_col19\" class=\"data row6 col19\" >-0.000540</td>\n",
              "            </tr>\n",
              "            <tr>\n",
              "                        <th id=\"T_1e1195f9_c7e5_11ec_a685_90f3504b574blevel0_row7\" class=\"row_heading level0 row7\" >ah_corr</th>\n",
              "                        <td id=\"T_1e1195f9_c7e5_11ec_a685_90f3504b574brow7_col0\" class=\"data row7 col0\" >-0.039149</td>\n",
              "                        <td id=\"T_1e1195f9_c7e5_11ec_a685_90f3504b574brow7_col1\" class=\"data row7 col1\" >0.003714</td>\n",
              "                        <td id=\"T_1e1195f9_c7e5_11ec_a685_90f3504b574brow7_col2\" class=\"data row7 col2\" >-0.005182</td>\n",
              "                        <td id=\"T_1e1195f9_c7e5_11ec_a685_90f3504b574brow7_col3\" class=\"data row7 col3\" >0.019941</td>\n",
              "                        <td id=\"T_1e1195f9_c7e5_11ec_a685_90f3504b574brow7_col4\" class=\"data row7 col4\" >0.001805</td>\n",
              "                        <td id=\"T_1e1195f9_c7e5_11ec_a685_90f3504b574brow7_col5\" class=\"data row7 col5\" >-0.003047</td>\n",
              "                        <td id=\"T_1e1195f9_c7e5_11ec_a685_90f3504b574brow7_col6\" class=\"data row7 col6\" >-0.016770</td>\n",
              "                        <td id=\"T_1e1195f9_c7e5_11ec_a685_90f3504b574brow7_col7\" class=\"data row7 col7\" >1.000000</td>\n",
              "                        <td id=\"T_1e1195f9_c7e5_11ec_a685_90f3504b574brow7_col8\" class=\"data row7 col8\" >-0.035498</td>\n",
              "                        <td id=\"T_1e1195f9_c7e5_11ec_a685_90f3504b574brow7_col9\" class=\"data row7 col9\" >-0.005119</td>\n",
              "                        <td id=\"T_1e1195f9_c7e5_11ec_a685_90f3504b574brow7_col10\" class=\"data row7 col10\" >0.009604</td>\n",
              "                        <td id=\"T_1e1195f9_c7e5_11ec_a685_90f3504b574brow7_col11\" class=\"data row7 col11\" >-0.006832</td>\n",
              "                        <td id=\"T_1e1195f9_c7e5_11ec_a685_90f3504b574brow7_col12\" class=\"data row7 col12\" >0.012447</td>\n",
              "                        <td id=\"T_1e1195f9_c7e5_11ec_a685_90f3504b574brow7_col13\" class=\"data row7 col13\" >-0.003368</td>\n",
              "                        <td id=\"T_1e1195f9_c7e5_11ec_a685_90f3504b574brow7_col14\" class=\"data row7 col14\" >0.007051</td>\n",
              "                        <td id=\"T_1e1195f9_c7e5_11ec_a685_90f3504b574brow7_col15\" class=\"data row7 col15\" >0.002443</td>\n",
              "                        <td id=\"T_1e1195f9_c7e5_11ec_a685_90f3504b574brow7_col16\" class=\"data row7 col16\" >-0.002381</td>\n",
              "                        <td id=\"T_1e1195f9_c7e5_11ec_a685_90f3504b574brow7_col17\" class=\"data row7 col17\" >0.017049</td>\n",
              "                        <td id=\"T_1e1195f9_c7e5_11ec_a685_90f3504b574brow7_col18\" class=\"data row7 col18\" >0.000056</td>\n",
              "                        <td id=\"T_1e1195f9_c7e5_11ec_a685_90f3504b574brow7_col19\" class=\"data row7 col19\" >0.000192</td>\n",
              "            </tr>\n",
              "            <tr>\n",
              "                        <th id=\"T_1e1195f9_c7e5_11ec_a685_90f3504b574blevel0_row8\" class=\"row_heading level0 row8\" >ah_bolus</th>\n",
              "                        <td id=\"T_1e1195f9_c7e5_11ec_a685_90f3504b574brow8_col0\" class=\"data row8 col0\" >-0.094475</td>\n",
              "                        <td id=\"T_1e1195f9_c7e5_11ec_a685_90f3504b574brow8_col1\" class=\"data row8 col1\" >-0.012735</td>\n",
              "                        <td id=\"T_1e1195f9_c7e5_11ec_a685_90f3504b574brow8_col2\" class=\"data row8 col2\" >0.004179</td>\n",
              "                        <td id=\"T_1e1195f9_c7e5_11ec_a685_90f3504b574brow8_col3\" class=\"data row8 col3\" >0.004402</td>\n",
              "                        <td id=\"T_1e1195f9_c7e5_11ec_a685_90f3504b574brow8_col4\" class=\"data row8 col4\" >-0.002334</td>\n",
              "                        <td id=\"T_1e1195f9_c7e5_11ec_a685_90f3504b574brow8_col5\" class=\"data row8 col5\" >0.012453</td>\n",
              "                        <td id=\"T_1e1195f9_c7e5_11ec_a685_90f3504b574brow8_col6\" class=\"data row8 col6\" >-0.021644</td>\n",
              "                        <td id=\"T_1e1195f9_c7e5_11ec_a685_90f3504b574brow8_col7\" class=\"data row8 col7\" >-0.035498</td>\n",
              "                        <td id=\"T_1e1195f9_c7e5_11ec_a685_90f3504b574brow8_col8\" class=\"data row8 col8\" >1.000000</td>\n",
              "                        <td id=\"T_1e1195f9_c7e5_11ec_a685_90f3504b574brow8_col9\" class=\"data row8 col9\" >-0.009403</td>\n",
              "                        <td id=\"T_1e1195f9_c7e5_11ec_a685_90f3504b574brow8_col10\" class=\"data row8 col10\" >0.012260</td>\n",
              "                        <td id=\"T_1e1195f9_c7e5_11ec_a685_90f3504b574brow8_col11\" class=\"data row8 col11\" >0.012005</td>\n",
              "                        <td id=\"T_1e1195f9_c7e5_11ec_a685_90f3504b574brow8_col12\" class=\"data row8 col12\" >-0.010642</td>\n",
              "                        <td id=\"T_1e1195f9_c7e5_11ec_a685_90f3504b574brow8_col13\" class=\"data row8 col13\" >0.004866</td>\n",
              "                        <td id=\"T_1e1195f9_c7e5_11ec_a685_90f3504b574brow8_col14\" class=\"data row8 col14\" >0.032398</td>\n",
              "                        <td id=\"T_1e1195f9_c7e5_11ec_a685_90f3504b574brow8_col15\" class=\"data row8 col15\" >0.000259</td>\n",
              "                        <td id=\"T_1e1195f9_c7e5_11ec_a685_90f3504b574brow8_col16\" class=\"data row8 col16\" >0.007055</td>\n",
              "                        <td id=\"T_1e1195f9_c7e5_11ec_a685_90f3504b574brow8_col17\" class=\"data row8 col17\" >0.003895</td>\n",
              "                        <td id=\"T_1e1195f9_c7e5_11ec_a685_90f3504b574brow8_col18\" class=\"data row8 col18\" >-0.000051</td>\n",
              "                        <td id=\"T_1e1195f9_c7e5_11ec_a685_90f3504b574brow8_col19\" class=\"data row8 col19\" >0.000070</td>\n",
              "            </tr>\n",
              "            <tr>\n",
              "                        <th id=\"T_1e1195f9_c7e5_11ec_a685_90f3504b574blevel0_row9\" class=\"row_heading level0 row9\" >slm_corr</th>\n",
              "                        <td id=\"T_1e1195f9_c7e5_11ec_a685_90f3504b574brow9_col0\" class=\"data row9 col0\" >0.011829</td>\n",
              "                        <td id=\"T_1e1195f9_c7e5_11ec_a685_90f3504b574brow9_col1\" class=\"data row9 col1\" >0.002336</td>\n",
              "                        <td id=\"T_1e1195f9_c7e5_11ec_a685_90f3504b574brow9_col2\" class=\"data row9 col2\" >-0.013860</td>\n",
              "                        <td id=\"T_1e1195f9_c7e5_11ec_a685_90f3504b574brow9_col3\" class=\"data row9 col3\" >-0.007695</td>\n",
              "                        <td id=\"T_1e1195f9_c7e5_11ec_a685_90f3504b574brow9_col4\" class=\"data row9 col4\" >-0.001731</td>\n",
              "                        <td id=\"T_1e1195f9_c7e5_11ec_a685_90f3504b574brow9_col5\" class=\"data row9 col5\" >0.003634</td>\n",
              "                        <td id=\"T_1e1195f9_c7e5_11ec_a685_90f3504b574brow9_col6\" class=\"data row9 col6\" >0.001244</td>\n",
              "                        <td id=\"T_1e1195f9_c7e5_11ec_a685_90f3504b574brow9_col7\" class=\"data row9 col7\" >-0.005119</td>\n",
              "                        <td id=\"T_1e1195f9_c7e5_11ec_a685_90f3504b574brow9_col8\" class=\"data row9 col8\" >-0.009403</td>\n",
              "                        <td id=\"T_1e1195f9_c7e5_11ec_a685_90f3504b574brow9_col9\" class=\"data row9 col9\" >1.000000</td>\n",
              "                        <td id=\"T_1e1195f9_c7e5_11ec_a685_90f3504b574brow9_col10\" class=\"data row9 col10\" >0.008760</td>\n",
              "                        <td id=\"T_1e1195f9_c7e5_11ec_a685_90f3504b574brow9_col11\" class=\"data row9 col11\" >0.002575</td>\n",
              "                        <td id=\"T_1e1195f9_c7e5_11ec_a685_90f3504b574brow9_col12\" class=\"data row9 col12\" >-0.003043</td>\n",
              "                        <td id=\"T_1e1195f9_c7e5_11ec_a685_90f3504b574brow9_col13\" class=\"data row9 col13\" >0.006023</td>\n",
              "                        <td id=\"T_1e1195f9_c7e5_11ec_a685_90f3504b574brow9_col14\" class=\"data row9 col14\" >-0.008447</td>\n",
              "                        <td id=\"T_1e1195f9_c7e5_11ec_a685_90f3504b574brow9_col15\" class=\"data row9 col15\" >-0.002301</td>\n",
              "                        <td id=\"T_1e1195f9_c7e5_11ec_a685_90f3504b574brow9_col16\" class=\"data row9 col16\" >0.014281</td>\n",
              "                        <td id=\"T_1e1195f9_c7e5_11ec_a685_90f3504b574brow9_col17\" class=\"data row9 col17\" >0.048864</td>\n",
              "                        <td id=\"T_1e1195f9_c7e5_11ec_a685_90f3504b574brow9_col18\" class=\"data row9 col18\" >0.000151</td>\n",
              "                        <td id=\"T_1e1195f9_c7e5_11ec_a685_90f3504b574brow9_col19\" class=\"data row9 col19\" >-0.000198</td>\n",
              "            </tr>\n",
              "            <tr>\n",
              "                        <th id=\"T_1e1195f9_c7e5_11ec_a685_90f3504b574blevel0_row10\" class=\"row_heading level0 row10\" >efficiency_factor</th>\n",
              "                        <td id=\"T_1e1195f9_c7e5_11ec_a685_90f3504b574brow10_col0\" class=\"data row10 col0\" >0.080217</td>\n",
              "                        <td id=\"T_1e1195f9_c7e5_11ec_a685_90f3504b574brow10_col1\" class=\"data row10 col1\" >0.010617</td>\n",
              "                        <td id=\"T_1e1195f9_c7e5_11ec_a685_90f3504b574brow10_col2\" class=\"data row10 col2\" >-0.011072</td>\n",
              "                        <td id=\"T_1e1195f9_c7e5_11ec_a685_90f3504b574brow10_col3\" class=\"data row10 col3\" >0.007100</td>\n",
              "                        <td id=\"T_1e1195f9_c7e5_11ec_a685_90f3504b574brow10_col4\" class=\"data row10 col4\" >-0.004753</td>\n",
              "                        <td id=\"T_1e1195f9_c7e5_11ec_a685_90f3504b574brow10_col5\" class=\"data row10 col5\" >0.001077</td>\n",
              "                        <td id=\"T_1e1195f9_c7e5_11ec_a685_90f3504b574brow10_col6\" class=\"data row10 col6\" >0.015121</td>\n",
              "                        <td id=\"T_1e1195f9_c7e5_11ec_a685_90f3504b574brow10_col7\" class=\"data row10 col7\" >0.009604</td>\n",
              "                        <td id=\"T_1e1195f9_c7e5_11ec_a685_90f3504b574brow10_col8\" class=\"data row10 col8\" >0.012260</td>\n",
              "                        <td id=\"T_1e1195f9_c7e5_11ec_a685_90f3504b574brow10_col9\" class=\"data row10 col9\" >0.008760</td>\n",
              "                        <td id=\"T_1e1195f9_c7e5_11ec_a685_90f3504b574brow10_col10\" class=\"data row10 col10\" >1.000000</td>\n",
              "                        <td id=\"T_1e1195f9_c7e5_11ec_a685_90f3504b574brow10_col11\" class=\"data row10 col11\" >-0.017926</td>\n",
              "                        <td id=\"T_1e1195f9_c7e5_11ec_a685_90f3504b574brow10_col12\" class=\"data row10 col12\" >-0.034026</td>\n",
              "                        <td id=\"T_1e1195f9_c7e5_11ec_a685_90f3504b574brow10_col13\" class=\"data row10 col13\" >0.003393</td>\n",
              "                        <td id=\"T_1e1195f9_c7e5_11ec_a685_90f3504b574brow10_col14\" class=\"data row10 col14\" >0.009925</td>\n",
              "                        <td id=\"T_1e1195f9_c7e5_11ec_a685_90f3504b574brow10_col15\" class=\"data row10 col15\" >-0.005241</td>\n",
              "                        <td id=\"T_1e1195f9_c7e5_11ec_a685_90f3504b574brow10_col16\" class=\"data row10 col16\" >-0.004465</td>\n",
              "                        <td id=\"T_1e1195f9_c7e5_11ec_a685_90f3504b574brow10_col17\" class=\"data row10 col17\" >-0.032364</td>\n",
              "                        <td id=\"T_1e1195f9_c7e5_11ec_a685_90f3504b574brow10_col18\" class=\"data row10 col18\" >0.000445</td>\n",
              "                        <td id=\"T_1e1195f9_c7e5_11ec_a685_90f3504b574brow10_col19\" class=\"data row10 col19\" >0.000116</td>\n",
              "            </tr>\n",
              "            <tr>\n",
              "                        <th id=\"T_1e1195f9_c7e5_11ec_a685_90f3504b574blevel0_row11\" class=\"row_heading level0 row11\" >tidal_mix_max</th>\n",
              "                        <td id=\"T_1e1195f9_c7e5_11ec_a685_90f3504b574brow11_col0\" class=\"data row11 col0\" >-0.003172</td>\n",
              "                        <td id=\"T_1e1195f9_c7e5_11ec_a685_90f3504b574brow11_col1\" class=\"data row11 col1\" >-0.014205</td>\n",
              "                        <td id=\"T_1e1195f9_c7e5_11ec_a685_90f3504b574brow11_col2\" class=\"data row11 col2\" >0.019706</td>\n",
              "                        <td id=\"T_1e1195f9_c7e5_11ec_a685_90f3504b574brow11_col3\" class=\"data row11 col3\" >-0.009428</td>\n",
              "                        <td id=\"T_1e1195f9_c7e5_11ec_a685_90f3504b574brow11_col4\" class=\"data row11 col4\" >0.018320</td>\n",
              "                        <td id=\"T_1e1195f9_c7e5_11ec_a685_90f3504b574brow11_col5\" class=\"data row11 col5\" >0.021354</td>\n",
              "                        <td id=\"T_1e1195f9_c7e5_11ec_a685_90f3504b574brow11_col6\" class=\"data row11 col6\" >0.000075</td>\n",
              "                        <td id=\"T_1e1195f9_c7e5_11ec_a685_90f3504b574brow11_col7\" class=\"data row11 col7\" >-0.006832</td>\n",
              "                        <td id=\"T_1e1195f9_c7e5_11ec_a685_90f3504b574brow11_col8\" class=\"data row11 col8\" >0.012005</td>\n",
              "                        <td id=\"T_1e1195f9_c7e5_11ec_a685_90f3504b574brow11_col9\" class=\"data row11 col9\" >0.002575</td>\n",
              "                        <td id=\"T_1e1195f9_c7e5_11ec_a685_90f3504b574brow11_col10\" class=\"data row11 col10\" >-0.017926</td>\n",
              "                        <td id=\"T_1e1195f9_c7e5_11ec_a685_90f3504b574brow11_col11\" class=\"data row11 col11\" >1.000000</td>\n",
              "                        <td id=\"T_1e1195f9_c7e5_11ec_a685_90f3504b574brow11_col12\" class=\"data row11 col12\" >-0.001686</td>\n",
              "                        <td id=\"T_1e1195f9_c7e5_11ec_a685_90f3504b574brow11_col13\" class=\"data row11 col13\" >0.017618</td>\n",
              "                        <td id=\"T_1e1195f9_c7e5_11ec_a685_90f3504b574brow11_col14\" class=\"data row11 col14\" >-0.009566</td>\n",
              "                        <td id=\"T_1e1195f9_c7e5_11ec_a685_90f3504b574brow11_col15\" class=\"data row11 col15\" >-0.002261</td>\n",
              "                        <td id=\"T_1e1195f9_c7e5_11ec_a685_90f3504b574brow11_col16\" class=\"data row11 col16\" >-0.011913</td>\n",
              "                        <td id=\"T_1e1195f9_c7e5_11ec_a685_90f3504b574brow11_col17\" class=\"data row11 col17\" >-0.015071</td>\n",
              "                        <td id=\"T_1e1195f9_c7e5_11ec_a685_90f3504b574brow11_col18\" class=\"data row11 col18\" >-0.000036</td>\n",
              "                        <td id=\"T_1e1195f9_c7e5_11ec_a685_90f3504b574brow11_col19\" class=\"data row11 col19\" >-0.000027</td>\n",
              "            </tr>\n",
              "            <tr>\n",
              "                        <th id=\"T_1e1195f9_c7e5_11ec_a685_90f3504b574blevel0_row12\" class=\"row_heading level0 row12\" >bckgrnd_vdc1</th>\n",
              "                        <td id=\"T_1e1195f9_c7e5_11ec_a685_90f3504b574brow12_col0\" class=\"data row12 col0\" >-0.047611</td>\n",
              "                        <td id=\"T_1e1195f9_c7e5_11ec_a685_90f3504b574brow12_col1\" class=\"data row12 col1\" >-0.002133</td>\n",
              "                        <td id=\"T_1e1195f9_c7e5_11ec_a685_90f3504b574brow12_col2\" class=\"data row12 col2\" >-0.014716</td>\n",
              "                        <td id=\"T_1e1195f9_c7e5_11ec_a685_90f3504b574brow12_col3\" class=\"data row12 col3\" >-0.004264</td>\n",
              "                        <td id=\"T_1e1195f9_c7e5_11ec_a685_90f3504b574brow12_col4\" class=\"data row12 col4\" >0.020442</td>\n",
              "                        <td id=\"T_1e1195f9_c7e5_11ec_a685_90f3504b574brow12_col5\" class=\"data row12 col5\" >0.009894</td>\n",
              "                        <td id=\"T_1e1195f9_c7e5_11ec_a685_90f3504b574brow12_col6\" class=\"data row12 col6\" >-0.003641</td>\n",
              "                        <td id=\"T_1e1195f9_c7e5_11ec_a685_90f3504b574brow12_col7\" class=\"data row12 col7\" >0.012447</td>\n",
              "                        <td id=\"T_1e1195f9_c7e5_11ec_a685_90f3504b574brow12_col8\" class=\"data row12 col8\" >-0.010642</td>\n",
              "                        <td id=\"T_1e1195f9_c7e5_11ec_a685_90f3504b574brow12_col9\" class=\"data row12 col9\" >-0.003043</td>\n",
              "                        <td id=\"T_1e1195f9_c7e5_11ec_a685_90f3504b574brow12_col10\" class=\"data row12 col10\" >-0.034026</td>\n",
              "                        <td id=\"T_1e1195f9_c7e5_11ec_a685_90f3504b574brow12_col11\" class=\"data row12 col11\" >-0.001686</td>\n",
              "                        <td id=\"T_1e1195f9_c7e5_11ec_a685_90f3504b574brow12_col12\" class=\"data row12 col12\" >1.000000</td>\n",
              "                        <td id=\"T_1e1195f9_c7e5_11ec_a685_90f3504b574brow12_col13\" class=\"data row12 col13\" >0.000301</td>\n",
              "                        <td id=\"T_1e1195f9_c7e5_11ec_a685_90f3504b574brow12_col14\" class=\"data row12 col14\" >0.010098</td>\n",
              "                        <td id=\"T_1e1195f9_c7e5_11ec_a685_90f3504b574brow12_col15\" class=\"data row12 col15\" >0.005816</td>\n",
              "                        <td id=\"T_1e1195f9_c7e5_11ec_a685_90f3504b574brow12_col16\" class=\"data row12 col16\" >-0.002880</td>\n",
              "                        <td id=\"T_1e1195f9_c7e5_11ec_a685_90f3504b574brow12_col17\" class=\"data row12 col17\" >0.184218</td>\n",
              "                        <td id=\"T_1e1195f9_c7e5_11ec_a685_90f3504b574brow12_col18\" class=\"data row12 col18\" >-0.000102</td>\n",
              "                        <td id=\"T_1e1195f9_c7e5_11ec_a685_90f3504b574brow12_col19\" class=\"data row12 col19\" >0.000522</td>\n",
              "            </tr>\n",
              "            <tr>\n",
              "                        <th id=\"T_1e1195f9_c7e5_11ec_a685_90f3504b574blevel0_row13\" class=\"row_heading level0 row13\" >bckgrnd_vdc_ban</th>\n",
              "                        <td id=\"T_1e1195f9_c7e5_11ec_a685_90f3504b574brow13_col0\" class=\"data row13 col0\" >0.045694</td>\n",
              "                        <td id=\"T_1e1195f9_c7e5_11ec_a685_90f3504b574brow13_col1\" class=\"data row13 col1\" >-0.002099</td>\n",
              "                        <td id=\"T_1e1195f9_c7e5_11ec_a685_90f3504b574brow13_col2\" class=\"data row13 col2\" >0.004386</td>\n",
              "                        <td id=\"T_1e1195f9_c7e5_11ec_a685_90f3504b574brow13_col3\" class=\"data row13 col3\" >-0.005210</td>\n",
              "                        <td id=\"T_1e1195f9_c7e5_11ec_a685_90f3504b574brow13_col4\" class=\"data row13 col4\" >-0.001080</td>\n",
              "                        <td id=\"T_1e1195f9_c7e5_11ec_a685_90f3504b574brow13_col5\" class=\"data row13 col5\" >-0.019179</td>\n",
              "                        <td id=\"T_1e1195f9_c7e5_11ec_a685_90f3504b574brow13_col6\" class=\"data row13 col6\" >-0.007897</td>\n",
              "                        <td id=\"T_1e1195f9_c7e5_11ec_a685_90f3504b574brow13_col7\" class=\"data row13 col7\" >-0.003368</td>\n",
              "                        <td id=\"T_1e1195f9_c7e5_11ec_a685_90f3504b574brow13_col8\" class=\"data row13 col8\" >0.004866</td>\n",
              "                        <td id=\"T_1e1195f9_c7e5_11ec_a685_90f3504b574brow13_col9\" class=\"data row13 col9\" >0.006023</td>\n",
              "                        <td id=\"T_1e1195f9_c7e5_11ec_a685_90f3504b574brow13_col10\" class=\"data row13 col10\" >0.003393</td>\n",
              "                        <td id=\"T_1e1195f9_c7e5_11ec_a685_90f3504b574brow13_col11\" class=\"data row13 col11\" >0.017618</td>\n",
              "                        <td id=\"T_1e1195f9_c7e5_11ec_a685_90f3504b574brow13_col12\" class=\"data row13 col12\" >0.000301</td>\n",
              "                        <td id=\"T_1e1195f9_c7e5_11ec_a685_90f3504b574brow13_col13\" class=\"data row13 col13\" >1.000000</td>\n",
              "                        <td id=\"T_1e1195f9_c7e5_11ec_a685_90f3504b574brow13_col14\" class=\"data row13 col14\" >-0.001925</td>\n",
              "                        <td id=\"T_1e1195f9_c7e5_11ec_a685_90f3504b574brow13_col15\" class=\"data row13 col15\" >0.016344</td>\n",
              "                        <td id=\"T_1e1195f9_c7e5_11ec_a685_90f3504b574brow13_col16\" class=\"data row13 col16\" >0.003774</td>\n",
              "                        <td id=\"T_1e1195f9_c7e5_11ec_a685_90f3504b574brow13_col17\" class=\"data row13 col17\" >-0.028365</td>\n",
              "                        <td id=\"T_1e1195f9_c7e5_11ec_a685_90f3504b574brow13_col18\" class=\"data row13 col18\" >0.000539</td>\n",
              "                        <td id=\"T_1e1195f9_c7e5_11ec_a685_90f3504b574brow13_col19\" class=\"data row13 col19\" >-0.000377</td>\n",
              "            </tr>\n",
              "            <tr>\n",
              "                        <th id=\"T_1e1195f9_c7e5_11ec_a685_90f3504b574blevel0_row14\" class=\"row_heading level0 row14\" >bckgrnd_vdc_eq</th>\n",
              "                        <td id=\"T_1e1195f9_c7e5_11ec_a685_90f3504b574brow14_col0\" class=\"data row14 col0\" >-0.105921</td>\n",
              "                        <td id=\"T_1e1195f9_c7e5_11ec_a685_90f3504b574brow14_col1\" class=\"data row14 col1\" >0.015973</td>\n",
              "                        <td id=\"T_1e1195f9_c7e5_11ec_a685_90f3504b574brow14_col2\" class=\"data row14 col2\" >0.005999</td>\n",
              "                        <td id=\"T_1e1195f9_c7e5_11ec_a685_90f3504b574brow14_col3\" class=\"data row14 col3\" >-0.000559</td>\n",
              "                        <td id=\"T_1e1195f9_c7e5_11ec_a685_90f3504b574brow14_col4\" class=\"data row14 col4\" >-0.009262</td>\n",
              "                        <td id=\"T_1e1195f9_c7e5_11ec_a685_90f3504b574brow14_col5\" class=\"data row14 col5\" >-0.020752</td>\n",
              "                        <td id=\"T_1e1195f9_c7e5_11ec_a685_90f3504b574brow14_col6\" class=\"data row14 col6\" >-0.006576</td>\n",
              "                        <td id=\"T_1e1195f9_c7e5_11ec_a685_90f3504b574brow14_col7\" class=\"data row14 col7\" >0.007051</td>\n",
              "                        <td id=\"T_1e1195f9_c7e5_11ec_a685_90f3504b574brow14_col8\" class=\"data row14 col8\" >0.032398</td>\n",
              "                        <td id=\"T_1e1195f9_c7e5_11ec_a685_90f3504b574brow14_col9\" class=\"data row14 col9\" >-0.008447</td>\n",
              "                        <td id=\"T_1e1195f9_c7e5_11ec_a685_90f3504b574brow14_col10\" class=\"data row14 col10\" >0.009925</td>\n",
              "                        <td id=\"T_1e1195f9_c7e5_11ec_a685_90f3504b574brow14_col11\" class=\"data row14 col11\" >-0.009566</td>\n",
              "                        <td id=\"T_1e1195f9_c7e5_11ec_a685_90f3504b574brow14_col12\" class=\"data row14 col12\" >0.010098</td>\n",
              "                        <td id=\"T_1e1195f9_c7e5_11ec_a685_90f3504b574brow14_col13\" class=\"data row14 col13\" >-0.001925</td>\n",
              "                        <td id=\"T_1e1195f9_c7e5_11ec_a685_90f3504b574brow14_col14\" class=\"data row14 col14\" >1.000000</td>\n",
              "                        <td id=\"T_1e1195f9_c7e5_11ec_a685_90f3504b574brow14_col15\" class=\"data row14 col15\" >0.019125</td>\n",
              "                        <td id=\"T_1e1195f9_c7e5_11ec_a685_90f3504b574brow14_col16\" class=\"data row14 col16\" >-0.000806</td>\n",
              "                        <td id=\"T_1e1195f9_c7e5_11ec_a685_90f3504b574brow14_col17\" class=\"data row14 col17\" >0.078504</td>\n",
              "                        <td id=\"T_1e1195f9_c7e5_11ec_a685_90f3504b574brow14_col18\" class=\"data row14 col18\" >-0.000110</td>\n",
              "                        <td id=\"T_1e1195f9_c7e5_11ec_a685_90f3504b574brow14_col19\" class=\"data row14 col19\" >0.000054</td>\n",
              "            </tr>\n",
              "            <tr>\n",
              "                        <th id=\"T_1e1195f9_c7e5_11ec_a685_90f3504b574blevel0_row15\" class=\"row_heading level0 row15\" >bckgrnd_vdc_psim</th>\n",
              "                        <td id=\"T_1e1195f9_c7e5_11ec_a685_90f3504b574brow15_col0\" class=\"data row15 col0\" >-0.014953</td>\n",
              "                        <td id=\"T_1e1195f9_c7e5_11ec_a685_90f3504b574brow15_col1\" class=\"data row15 col1\" >-0.016631</td>\n",
              "                        <td id=\"T_1e1195f9_c7e5_11ec_a685_90f3504b574brow15_col2\" class=\"data row15 col2\" >0.004202</td>\n",
              "                        <td id=\"T_1e1195f9_c7e5_11ec_a685_90f3504b574brow15_col3\" class=\"data row15 col3\" >0.004771</td>\n",
              "                        <td id=\"T_1e1195f9_c7e5_11ec_a685_90f3504b574brow15_col4\" class=\"data row15 col4\" >-0.017147</td>\n",
              "                        <td id=\"T_1e1195f9_c7e5_11ec_a685_90f3504b574brow15_col5\" class=\"data row15 col5\" >-0.009324</td>\n",
              "                        <td id=\"T_1e1195f9_c7e5_11ec_a685_90f3504b574brow15_col6\" class=\"data row15 col6\" >0.013203</td>\n",
              "                        <td id=\"T_1e1195f9_c7e5_11ec_a685_90f3504b574brow15_col7\" class=\"data row15 col7\" >0.002443</td>\n",
              "                        <td id=\"T_1e1195f9_c7e5_11ec_a685_90f3504b574brow15_col8\" class=\"data row15 col8\" >0.000259</td>\n",
              "                        <td id=\"T_1e1195f9_c7e5_11ec_a685_90f3504b574brow15_col9\" class=\"data row15 col9\" >-0.002301</td>\n",
              "                        <td id=\"T_1e1195f9_c7e5_11ec_a685_90f3504b574brow15_col10\" class=\"data row15 col10\" >-0.005241</td>\n",
              "                        <td id=\"T_1e1195f9_c7e5_11ec_a685_90f3504b574brow15_col11\" class=\"data row15 col11\" >-0.002261</td>\n",
              "                        <td id=\"T_1e1195f9_c7e5_11ec_a685_90f3504b574brow15_col12\" class=\"data row15 col12\" >0.005816</td>\n",
              "                        <td id=\"T_1e1195f9_c7e5_11ec_a685_90f3504b574brow15_col13\" class=\"data row15 col13\" >0.016344</td>\n",
              "                        <td id=\"T_1e1195f9_c7e5_11ec_a685_90f3504b574brow15_col14\" class=\"data row15 col14\" >0.019125</td>\n",
              "                        <td id=\"T_1e1195f9_c7e5_11ec_a685_90f3504b574brow15_col15\" class=\"data row15 col15\" >1.000000</td>\n",
              "                        <td id=\"T_1e1195f9_c7e5_11ec_a685_90f3504b574brow15_col16\" class=\"data row15 col16\" >0.012767</td>\n",
              "                        <td id=\"T_1e1195f9_c7e5_11ec_a685_90f3504b574brow15_col17\" class=\"data row15 col17\" >0.057684</td>\n",
              "                        <td id=\"T_1e1195f9_c7e5_11ec_a685_90f3504b574brow15_col18\" class=\"data row15 col18\" >-0.000307</td>\n",
              "                        <td id=\"T_1e1195f9_c7e5_11ec_a685_90f3504b574brow15_col19\" class=\"data row15 col19\" >-0.000089</td>\n",
              "            </tr>\n",
              "            <tr>\n",
              "                        <th id=\"T_1e1195f9_c7e5_11ec_a685_90f3504b574blevel0_row16\" class=\"row_heading level0 row16\" >Prandtl</th>\n",
              "                        <td id=\"T_1e1195f9_c7e5_11ec_a685_90f3504b574brow16_col0\" class=\"data row16 col0\" >0.039661</td>\n",
              "                        <td id=\"T_1e1195f9_c7e5_11ec_a685_90f3504b574brow16_col1\" class=\"data row16 col1\" >-0.001467</td>\n",
              "                        <td id=\"T_1e1195f9_c7e5_11ec_a685_90f3504b574brow16_col2\" class=\"data row16 col2\" >0.009141</td>\n",
              "                        <td id=\"T_1e1195f9_c7e5_11ec_a685_90f3504b574brow16_col3\" class=\"data row16 col3\" >-0.001334</td>\n",
              "                        <td id=\"T_1e1195f9_c7e5_11ec_a685_90f3504b574brow16_col4\" class=\"data row16 col4\" >0.005053</td>\n",
              "                        <td id=\"T_1e1195f9_c7e5_11ec_a685_90f3504b574brow16_col5\" class=\"data row16 col5\" >0.012265</td>\n",
              "                        <td id=\"T_1e1195f9_c7e5_11ec_a685_90f3504b574brow16_col6\" class=\"data row16 col6\" >0.008412</td>\n",
              "                        <td id=\"T_1e1195f9_c7e5_11ec_a685_90f3504b574brow16_col7\" class=\"data row16 col7\" >-0.002381</td>\n",
              "                        <td id=\"T_1e1195f9_c7e5_11ec_a685_90f3504b574brow16_col8\" class=\"data row16 col8\" >0.007055</td>\n",
              "                        <td id=\"T_1e1195f9_c7e5_11ec_a685_90f3504b574brow16_col9\" class=\"data row16 col9\" >0.014281</td>\n",
              "                        <td id=\"T_1e1195f9_c7e5_11ec_a685_90f3504b574brow16_col10\" class=\"data row16 col10\" >-0.004465</td>\n",
              "                        <td id=\"T_1e1195f9_c7e5_11ec_a685_90f3504b574brow16_col11\" class=\"data row16 col11\" >-0.011913</td>\n",
              "                        <td id=\"T_1e1195f9_c7e5_11ec_a685_90f3504b574brow16_col12\" class=\"data row16 col12\" >-0.002880</td>\n",
              "                        <td id=\"T_1e1195f9_c7e5_11ec_a685_90f3504b574brow16_col13\" class=\"data row16 col13\" >0.003774</td>\n",
              "                        <td id=\"T_1e1195f9_c7e5_11ec_a685_90f3504b574brow16_col14\" class=\"data row16 col14\" >-0.000806</td>\n",
              "                        <td id=\"T_1e1195f9_c7e5_11ec_a685_90f3504b574brow16_col15\" class=\"data row16 col15\" >0.012767</td>\n",
              "                        <td id=\"T_1e1195f9_c7e5_11ec_a685_90f3504b574brow16_col16\" class=\"data row16 col16\" >1.000000</td>\n",
              "                        <td id=\"T_1e1195f9_c7e5_11ec_a685_90f3504b574brow16_col17\" class=\"data row16 col17\" >-0.026942</td>\n",
              "                        <td id=\"T_1e1195f9_c7e5_11ec_a685_90f3504b574brow16_col18\" class=\"data row16 col18\" >0.000521</td>\n",
              "                        <td id=\"T_1e1195f9_c7e5_11ec_a685_90f3504b574brow16_col19\" class=\"data row16 col19\" >-0.000104</td>\n",
              "            </tr>\n",
              "            <tr>\n",
              "                        <th id=\"T_1e1195f9_c7e5_11ec_a685_90f3504b574blevel0_row17\" class=\"row_heading level0 row17\" >outcome</th>\n",
              "                        <td id=\"T_1e1195f9_c7e5_11ec_a685_90f3504b574brow17_col0\" class=\"data row17 col0\" >-0.013916</td>\n",
              "                        <td id=\"T_1e1195f9_c7e5_11ec_a685_90f3504b574brow17_col1\" class=\"data row17 col1\" >-0.304787</td>\n",
              "                        <td id=\"T_1e1195f9_c7e5_11ec_a685_90f3504b574brow17_col2\" class=\"data row17 col2\" >-0.302388</td>\n",
              "                        <td id=\"T_1e1195f9_c7e5_11ec_a685_90f3504b574brow17_col3\" class=\"data row17 col3\" >0.000227</td>\n",
              "                        <td id=\"T_1e1195f9_c7e5_11ec_a685_90f3504b574brow17_col4\" class=\"data row17 col4\" >0.072297</td>\n",
              "                        <td id=\"T_1e1195f9_c7e5_11ec_a685_90f3504b574brow17_col5\" class=\"data row17 col5\" >0.054390</td>\n",
              "                        <td id=\"T_1e1195f9_c7e5_11ec_a685_90f3504b574brow17_col6\" class=\"data row17 col6\" >0.048646</td>\n",
              "                        <td id=\"T_1e1195f9_c7e5_11ec_a685_90f3504b574brow17_col7\" class=\"data row17 col7\" >0.017049</td>\n",
              "                        <td id=\"T_1e1195f9_c7e5_11ec_a685_90f3504b574brow17_col8\" class=\"data row17 col8\" >0.003895</td>\n",
              "                        <td id=\"T_1e1195f9_c7e5_11ec_a685_90f3504b574brow17_col9\" class=\"data row17 col9\" >0.048864</td>\n",
              "                        <td id=\"T_1e1195f9_c7e5_11ec_a685_90f3504b574brow17_col10\" class=\"data row17 col10\" >-0.032364</td>\n",
              "                        <td id=\"T_1e1195f9_c7e5_11ec_a685_90f3504b574brow17_col11\" class=\"data row17 col11\" >-0.015071</td>\n",
              "                        <td id=\"T_1e1195f9_c7e5_11ec_a685_90f3504b574brow17_col12\" class=\"data row17 col12\" >0.184218</td>\n",
              "                        <td id=\"T_1e1195f9_c7e5_11ec_a685_90f3504b574brow17_col13\" class=\"data row17 col13\" >-0.028365</td>\n",
              "                        <td id=\"T_1e1195f9_c7e5_11ec_a685_90f3504b574brow17_col14\" class=\"data row17 col14\" >0.078504</td>\n",
              "                        <td id=\"T_1e1195f9_c7e5_11ec_a685_90f3504b574brow17_col15\" class=\"data row17 col15\" >0.057684</td>\n",
              "                        <td id=\"T_1e1195f9_c7e5_11ec_a685_90f3504b574brow17_col16\" class=\"data row17 col16\" >-0.026942</td>\n",
              "                        <td id=\"T_1e1195f9_c7e5_11ec_a685_90f3504b574brow17_col17\" class=\"data row17 col17\" >1.000000</td>\n",
              "                        <td id=\"T_1e1195f9_c7e5_11ec_a685_90f3504b574brow17_col18\" class=\"data row17 col18\" >0.046908</td>\n",
              "                        <td id=\"T_1e1195f9_c7e5_11ec_a685_90f3504b574brow17_col19\" class=\"data row17 col19\" >0.018763</td>\n",
              "            </tr>\n",
              "            <tr>\n",
              "                        <th id=\"T_1e1195f9_c7e5_11ec_a685_90f3504b574blevel0_row18\" class=\"row_heading level0 row18\" >Study_2</th>\n",
              "                        <td id=\"T_1e1195f9_c7e5_11ec_a685_90f3504b574brow18_col0\" class=\"data row18 col0\" >0.000000</td>\n",
              "                        <td id=\"T_1e1195f9_c7e5_11ec_a685_90f3504b574brow18_col1\" class=\"data row18 col1\" >-0.000079</td>\n",
              "                        <td id=\"T_1e1195f9_c7e5_11ec_a685_90f3504b574brow18_col2\" class=\"data row18 col2\" >-0.000273</td>\n",
              "                        <td id=\"T_1e1195f9_c7e5_11ec_a685_90f3504b574brow18_col3\" class=\"data row18 col3\" >0.000107</td>\n",
              "                        <td id=\"T_1e1195f9_c7e5_11ec_a685_90f3504b574brow18_col4\" class=\"data row18 col4\" >-0.000243</td>\n",
              "                        <td id=\"T_1e1195f9_c7e5_11ec_a685_90f3504b574brow18_col5\" class=\"data row18 col5\" >0.000324</td>\n",
              "                        <td id=\"T_1e1195f9_c7e5_11ec_a685_90f3504b574brow18_col6\" class=\"data row18 col6\" >0.000333</td>\n",
              "                        <td id=\"T_1e1195f9_c7e5_11ec_a685_90f3504b574brow18_col7\" class=\"data row18 col7\" >0.000056</td>\n",
              "                        <td id=\"T_1e1195f9_c7e5_11ec_a685_90f3504b574brow18_col8\" class=\"data row18 col8\" >-0.000051</td>\n",
              "                        <td id=\"T_1e1195f9_c7e5_11ec_a685_90f3504b574brow18_col9\" class=\"data row18 col9\" >0.000151</td>\n",
              "                        <td id=\"T_1e1195f9_c7e5_11ec_a685_90f3504b574brow18_col10\" class=\"data row18 col10\" >0.000445</td>\n",
              "                        <td id=\"T_1e1195f9_c7e5_11ec_a685_90f3504b574brow18_col11\" class=\"data row18 col11\" >-0.000036</td>\n",
              "                        <td id=\"T_1e1195f9_c7e5_11ec_a685_90f3504b574brow18_col12\" class=\"data row18 col12\" >-0.000102</td>\n",
              "                        <td id=\"T_1e1195f9_c7e5_11ec_a685_90f3504b574brow18_col13\" class=\"data row18 col13\" >0.000539</td>\n",
              "                        <td id=\"T_1e1195f9_c7e5_11ec_a685_90f3504b574brow18_col14\" class=\"data row18 col14\" >-0.000110</td>\n",
              "                        <td id=\"T_1e1195f9_c7e5_11ec_a685_90f3504b574brow18_col15\" class=\"data row18 col15\" >-0.000307</td>\n",
              "                        <td id=\"T_1e1195f9_c7e5_11ec_a685_90f3504b574brow18_col16\" class=\"data row18 col16\" >0.000521</td>\n",
              "                        <td id=\"T_1e1195f9_c7e5_11ec_a685_90f3504b574brow18_col17\" class=\"data row18 col17\" >0.046908</td>\n",
              "                        <td id=\"T_1e1195f9_c7e5_11ec_a685_90f3504b574brow18_col18\" class=\"data row18 col18\" >1.000000</td>\n",
              "                        <td id=\"T_1e1195f9_c7e5_11ec_a685_90f3504b574brow18_col19\" class=\"data row18 col19\" >-0.500000</td>\n",
              "            </tr>\n",
              "            <tr>\n",
              "                        <th id=\"T_1e1195f9_c7e5_11ec_a685_90f3504b574blevel0_row19\" class=\"row_heading level0 row19\" >Study_3</th>\n",
              "                        <td id=\"T_1e1195f9_c7e5_11ec_a685_90f3504b574brow19_col0\" class=\"data row19 col0\" >0.000000</td>\n",
              "                        <td id=\"T_1e1195f9_c7e5_11ec_a685_90f3504b574brow19_col1\" class=\"data row19 col1\" >-0.000305</td>\n",
              "                        <td id=\"T_1e1195f9_c7e5_11ec_a685_90f3504b574brow19_col2\" class=\"data row19 col2\" >0.000402</td>\n",
              "                        <td id=\"T_1e1195f9_c7e5_11ec_a685_90f3504b574brow19_col3\" class=\"data row19 col3\" >-0.000505</td>\n",
              "                        <td id=\"T_1e1195f9_c7e5_11ec_a685_90f3504b574brow19_col4\" class=\"data row19 col4\" >0.000331</td>\n",
              "                        <td id=\"T_1e1195f9_c7e5_11ec_a685_90f3504b574brow19_col5\" class=\"data row19 col5\" >-0.000236</td>\n",
              "                        <td id=\"T_1e1195f9_c7e5_11ec_a685_90f3504b574brow19_col6\" class=\"data row19 col6\" >-0.000540</td>\n",
              "                        <td id=\"T_1e1195f9_c7e5_11ec_a685_90f3504b574brow19_col7\" class=\"data row19 col7\" >0.000192</td>\n",
              "                        <td id=\"T_1e1195f9_c7e5_11ec_a685_90f3504b574brow19_col8\" class=\"data row19 col8\" >0.000070</td>\n",
              "                        <td id=\"T_1e1195f9_c7e5_11ec_a685_90f3504b574brow19_col9\" class=\"data row19 col9\" >-0.000198</td>\n",
              "                        <td id=\"T_1e1195f9_c7e5_11ec_a685_90f3504b574brow19_col10\" class=\"data row19 col10\" >0.000116</td>\n",
              "                        <td id=\"T_1e1195f9_c7e5_11ec_a685_90f3504b574brow19_col11\" class=\"data row19 col11\" >-0.000027</td>\n",
              "                        <td id=\"T_1e1195f9_c7e5_11ec_a685_90f3504b574brow19_col12\" class=\"data row19 col12\" >0.000522</td>\n",
              "                        <td id=\"T_1e1195f9_c7e5_11ec_a685_90f3504b574brow19_col13\" class=\"data row19 col13\" >-0.000377</td>\n",
              "                        <td id=\"T_1e1195f9_c7e5_11ec_a685_90f3504b574brow19_col14\" class=\"data row19 col14\" >0.000054</td>\n",
              "                        <td id=\"T_1e1195f9_c7e5_11ec_a685_90f3504b574brow19_col15\" class=\"data row19 col15\" >-0.000089</td>\n",
              "                        <td id=\"T_1e1195f9_c7e5_11ec_a685_90f3504b574brow19_col16\" class=\"data row19 col16\" >-0.000104</td>\n",
              "                        <td id=\"T_1e1195f9_c7e5_11ec_a685_90f3504b574brow19_col17\" class=\"data row19 col17\" >0.018763</td>\n",
              "                        <td id=\"T_1e1195f9_c7e5_11ec_a685_90f3504b574brow19_col18\" class=\"data row19 col18\" >-0.500000</td>\n",
              "                        <td id=\"T_1e1195f9_c7e5_11ec_a685_90f3504b574brow19_col19\" class=\"data row19 col19\" >1.000000</td>\n",
              "            </tr>\n",
              "    </tbody></table>"
            ],
            "text/plain": [
              "<pandas.io.formats.style.Styler at 0x21d843fc700>"
            ]
          },
          "execution_count": 20,
          "metadata": {},
          "output_type": "execute_result"
        },
        {
          "data": {
            "text/plain": [
              "<Figure size 720x576 with 0 Axes>"
            ]
          },
          "metadata": {},
          "output_type": "display_data"
        }
      ],
      "source": [
        "plt.figure(figsize=(10,8)) #Set figure size\n",
        "corr = df.corr()\n",
        "corr.style.background_gradient(cmap='coolwarm')"
      ]
    },
    {
      "cell_type": "code",
      "execution_count": null,
      "metadata": {
        "id": "7la6uskeK0Ry",
        "outputId": "43424763-da97-4928-9cc3-6a982e3bbe22"
      },
      "outputs": [
        {
          "name": "stdout",
          "output_type": "stream",
          "text": [
            "No Multicolinearity found in dataset\n"
          ]
        }
      ],
      "source": [
        "# Pairing Multicolinear Features\n",
        "\n",
        "correlatedColumns = []\n",
        "corr = dfcor.corr()\n",
        "indices = corr.index\n",
        "columns = corr.columns\n",
        "posthreshold = 0.7\n",
        "negthreshold = -0.7\n",
        "\n",
        "for c in columns:\n",
        "    for r in indices:\n",
        "        if c != r and (corr[c][r] > posthreshold or corr[c][r] < negthreshold):\n",
        "            correlatedColumns.append({\"column\" : c , \"row\" : r , \"val\" :corr[c][r] })\n",
        "            \n",
        "if len(correlatedColumns) < 1: print('No Multicolinearity found in dataset')\n",
        "\n",
        "else: print(correlatedColumns)"
      ]
    },
    {
      "cell_type": "markdown",
      "metadata": {
        "id": "XO9K4RCXK0Rz"
      },
      "source": [
        "The features are not collinear with one another above +- 0.7 correlation"
      ]
    },
    {
      "cell_type": "markdown",
      "metadata": {
        "id": "hWETUsNrK0Rz"
      },
      "source": [
        "#### Convert object to numeric\n",
        "We need to convert vertical_decay_scale  and  convect_corr  from object to numeric before we will be able to split data into training and testing"
      ]
    },
    {
      "cell_type": "code",
      "execution_count": 74,
      "metadata": {
        "id": "wfjLaq4HK0Rz"
      },
      "outputs": [],
      "source": [
        "# The varaible was imported as a string we need to convert it to float\n",
        "df[\"vertical_decay_scale\"]=pd.to_numeric(df[\"vertical_decay_scale\"],errors=\"coerce\")\n"
      ]
    },
    {
      "cell_type": "code",
      "execution_count": 75,
      "metadata": {
        "id": "s7aL8yeBK0Rz"
      },
      "outputs": [],
      "source": [
        "# The varaible was imported as a string we need to convert it to float\n",
        "df[\"convect_corr\"]=pd.to_numeric(df[\"convect_corr\"],errors=\"coerce\")"
      ]
    },
    {
      "cell_type": "code",
      "execution_count": null,
      "metadata": {
        "colab": {
          "base_uri": "https://localhost:8080/"
        },
        "id": "DieOjCbvK0Rz",
        "outputId": "4f6c7574-911c-4b33-a017-859e79ee4703"
      },
      "outputs": [
        {
          "output_type": "execute_result",
          "data": {
            "text/plain": [
              "Run                       0\n",
              "vconst_corr               0\n",
              "vconst_2                  0\n",
              "vconst_3                  0\n",
              "vconst_4                  0\n",
              "vconst_5                  0\n",
              "vconst_7                  0\n",
              "ah_corr                   0\n",
              "ah_bolus                  0\n",
              "slm_corr                  0\n",
              "efficiency_factor         0\n",
              "tidal_mix_max             0\n",
              "vertical_decay_scale    180\n",
              "convect_corr            180\n",
              "bckgrnd_vdc1              0\n",
              "bckgrnd_vdc_ban           0\n",
              "bckgrnd_vdc_eq            0\n",
              "bckgrnd_vdc_psim          0\n",
              "Prandtl                   0\n",
              "outcome                   0\n",
              "Study_2                   0\n",
              "Study_3                   0\n",
              "dtype: int64"
            ]
          },
          "metadata": {},
          "execution_count": 6
        }
      ],
      "source": [
        "#Check the data for missing value again\n",
        "df.isnull().sum()"
      ]
    },
    {
      "cell_type": "code",
      "execution_count": null,
      "metadata": {
        "id": "NK0mc3b4K0R0",
        "outputId": "49eff5aa-cb40-43e0-c51e-1de915e0df2f"
      },
      "outputs": [
        {
          "data": {
            "text/plain": [
              "(540, 22)"
            ]
          },
          "execution_count": 14,
          "metadata": {},
          "output_type": "execute_result"
        }
      ],
      "source": [
        "df.shape"
      ]
    },
    {
      "cell_type": "code",
      "execution_count": null,
      "metadata": {
        "colab": {
          "base_uri": "https://localhost:8080/",
          "height": 488
        },
        "id": "8D1owDriK0R0",
        "outputId": "6f55ecb2-52e5-4eca-8dd8-571a877f4c8f"
      },
      "outputs": [
        {
          "data": {
            "text/html": [
              "\n",
              "  <div id=\"df-fa43c147-bcd9-4a93-9651-b0595093f686\">\n",
              "    <div class=\"colab-df-container\">\n",
              "      <div>\n",
              "<style scoped>\n",
              "    .dataframe tbody tr th:only-of-type {\n",
              "        vertical-align: middle;\n",
              "    }\n",
              "\n",
              "    .dataframe tbody tr th {\n",
              "        vertical-align: top;\n",
              "    }\n",
              "\n",
              "    .dataframe thead th {\n",
              "        text-align: right;\n",
              "    }\n",
              "</style>\n",
              "<table border=\"1\" class=\"dataframe\">\n",
              "  <thead>\n",
              "    <tr style=\"text-align: right;\">\n",
              "      <th></th>\n",
              "      <th>Run</th>\n",
              "      <th>vconst_corr</th>\n",
              "      <th>vconst_2</th>\n",
              "      <th>vconst_3</th>\n",
              "      <th>vconst_4</th>\n",
              "      <th>vconst_5</th>\n",
              "      <th>vconst_7</th>\n",
              "      <th>ah_corr</th>\n",
              "      <th>ah_bolus</th>\n",
              "      <th>slm_corr</th>\n",
              "      <th>...</th>\n",
              "      <th>vertical_decay_scale</th>\n",
              "      <th>convect_corr</th>\n",
              "      <th>bckgrnd_vdc1</th>\n",
              "      <th>bckgrnd_vdc_ban</th>\n",
              "      <th>bckgrnd_vdc_eq</th>\n",
              "      <th>bckgrnd_vdc_psim</th>\n",
              "      <th>Prandtl</th>\n",
              "      <th>outcome</th>\n",
              "      <th>Study_2</th>\n",
              "      <th>Study_3</th>\n",
              "    </tr>\n",
              "  </thead>\n",
              "  <tbody>\n",
              "    <tr>\n",
              "      <th>360</th>\n",
              "      <td>1</td>\n",
              "      <td>0.809543</td>\n",
              "      <td>0.837511</td>\n",
              "      <td>0.073442</td>\n",
              "      <td>0.589892</td>\n",
              "      <td>0.868431</td>\n",
              "      <td>0.351131</td>\n",
              "      <td>0.389901</td>\n",
              "      <td>0.188123</td>\n",
              "      <td>0.536543</td>\n",
              "      <td>...</td>\n",
              "      <td>NaN</td>\n",
              "      <td>NaN</td>\n",
              "      <td>0.842952</td>\n",
              "      <td>0.048439</td>\n",
              "      <td>0.330238</td>\n",
              "      <td>0.255728</td>\n",
              "      <td>0.565440</td>\n",
              "      <td>1</td>\n",
              "      <td>0</td>\n",
              "      <td>1</td>\n",
              "    </tr>\n",
              "    <tr>\n",
              "      <th>361</th>\n",
              "      <td>2</td>\n",
              "      <td>0.369924</td>\n",
              "      <td>0.987699</td>\n",
              "      <td>0.170430</td>\n",
              "      <td>0.981563</td>\n",
              "      <td>0.068741</td>\n",
              "      <td>0.280620</td>\n",
              "      <td>0.613980</td>\n",
              "      <td>0.321236</td>\n",
              "      <td>0.543237</td>\n",
              "      <td>...</td>\n",
              "      <td>NaN</td>\n",
              "      <td>NaN</td>\n",
              "      <td>0.196828</td>\n",
              "      <td>0.606249</td>\n",
              "      <td>0.750256</td>\n",
              "      <td>0.094154</td>\n",
              "      <td>0.666742</td>\n",
              "      <td>1</td>\n",
              "      <td>0</td>\n",
              "      <td>1</td>\n",
              "    </tr>\n",
              "    <tr>\n",
              "      <th>362</th>\n",
              "      <td>3</td>\n",
              "      <td>0.714288</td>\n",
              "      <td>0.792418</td>\n",
              "      <td>0.789954</td>\n",
              "      <td>0.906748</td>\n",
              "      <td>0.863046</td>\n",
              "      <td>0.386705</td>\n",
              "      <td>0.593317</td>\n",
              "      <td>0.881642</td>\n",
              "      <td>0.622044</td>\n",
              "      <td>...</td>\n",
              "      <td>NaN</td>\n",
              "      <td>NaN</td>\n",
              "      <td>0.039313</td>\n",
              "      <td>0.591884</td>\n",
              "      <td>0.432448</td>\n",
              "      <td>0.407422</td>\n",
              "      <td>0.175843</td>\n",
              "      <td>1</td>\n",
              "      <td>0</td>\n",
              "      <td>1</td>\n",
              "    </tr>\n",
              "    <tr>\n",
              "      <th>363</th>\n",
              "      <td>4</td>\n",
              "      <td>0.967564</td>\n",
              "      <td>0.541932</td>\n",
              "      <td>0.133147</td>\n",
              "      <td>0.851643</td>\n",
              "      <td>0.628999</td>\n",
              "      <td>0.921785</td>\n",
              "      <td>0.772271</td>\n",
              "      <td>0.942169</td>\n",
              "      <td>0.379395</td>\n",
              "      <td>...</td>\n",
              "      <td>NaN</td>\n",
              "      <td>NaN</td>\n",
              "      <td>0.952149</td>\n",
              "      <td>0.819902</td>\n",
              "      <td>0.952324</td>\n",
              "      <td>0.494093</td>\n",
              "      <td>0.607461</td>\n",
              "      <td>1</td>\n",
              "      <td>0</td>\n",
              "      <td>1</td>\n",
              "    </tr>\n",
              "    <tr>\n",
              "      <th>364</th>\n",
              "      <td>5</td>\n",
              "      <td>0.749636</td>\n",
              "      <td>0.178136</td>\n",
              "      <td>0.428031</td>\n",
              "      <td>0.631460</td>\n",
              "      <td>0.017963</td>\n",
              "      <td>0.859604</td>\n",
              "      <td>0.028397</td>\n",
              "      <td>0.126187</td>\n",
              "      <td>0.922381</td>\n",
              "      <td>...</td>\n",
              "      <td>NaN</td>\n",
              "      <td>NaN</td>\n",
              "      <td>0.827444</td>\n",
              "      <td>0.223857</td>\n",
              "      <td>0.650470</td>\n",
              "      <td>0.799945</td>\n",
              "      <td>0.229589</td>\n",
              "      <td>1</td>\n",
              "      <td>0</td>\n",
              "      <td>1</td>\n",
              "    </tr>\n",
              "    <tr>\n",
              "      <th>...</th>\n",
              "      <td>...</td>\n",
              "      <td>...</td>\n",
              "      <td>...</td>\n",
              "      <td>...</td>\n",
              "      <td>...</td>\n",
              "      <td>...</td>\n",
              "      <td>...</td>\n",
              "      <td>...</td>\n",
              "      <td>...</td>\n",
              "      <td>...</td>\n",
              "      <td>...</td>\n",
              "      <td>...</td>\n",
              "      <td>...</td>\n",
              "      <td>...</td>\n",
              "      <td>...</td>\n",
              "      <td>...</td>\n",
              "      <td>...</td>\n",
              "      <td>...</td>\n",
              "      <td>...</td>\n",
              "      <td>...</td>\n",
              "      <td>...</td>\n",
              "    </tr>\n",
              "    <tr>\n",
              "      <th>535</th>\n",
              "      <td>176</td>\n",
              "      <td>0.657136</td>\n",
              "      <td>0.489375</td>\n",
              "      <td>0.133713</td>\n",
              "      <td>0.411950</td>\n",
              "      <td>0.087780</td>\n",
              "      <td>0.356289</td>\n",
              "      <td>0.480204</td>\n",
              "      <td>0.029678</td>\n",
              "      <td>0.400102</td>\n",
              "      <td>...</td>\n",
              "      <td>NaN</td>\n",
              "      <td>NaN</td>\n",
              "      <td>0.459479</td>\n",
              "      <td>0.334482</td>\n",
              "      <td>0.573002</td>\n",
              "      <td>0.610183</td>\n",
              "      <td>0.737706</td>\n",
              "      <td>1</td>\n",
              "      <td>0</td>\n",
              "      <td>1</td>\n",
              "    </tr>\n",
              "    <tr>\n",
              "      <th>536</th>\n",
              "      <td>177</td>\n",
              "      <td>0.915894</td>\n",
              "      <td>0.842720</td>\n",
              "      <td>0.518947</td>\n",
              "      <td>0.090622</td>\n",
              "      <td>0.336981</td>\n",
              "      <td>0.893576</td>\n",
              "      <td>0.978703</td>\n",
              "      <td>0.674868</td>\n",
              "      <td>0.263398</td>\n",
              "      <td>...</td>\n",
              "      <td>NaN</td>\n",
              "      <td>NaN</td>\n",
              "      <td>0.347027</td>\n",
              "      <td>0.512499</td>\n",
              "      <td>0.810549</td>\n",
              "      <td>0.593332</td>\n",
              "      <td>0.142565</td>\n",
              "      <td>0</td>\n",
              "      <td>0</td>\n",
              "      <td>1</td>\n",
              "    </tr>\n",
              "    <tr>\n",
              "      <th>537</th>\n",
              "      <td>178</td>\n",
              "      <td>0.478600</td>\n",
              "      <td>0.941185</td>\n",
              "      <td>0.769245</td>\n",
              "      <td>0.950776</td>\n",
              "      <td>0.189406</td>\n",
              "      <td>0.112743</td>\n",
              "      <td>0.745645</td>\n",
              "      <td>0.527096</td>\n",
              "      <td>0.870987</td>\n",
              "      <td>...</td>\n",
              "      <td>NaN</td>\n",
              "      <td>NaN</td>\n",
              "      <td>0.381966</td>\n",
              "      <td>0.198811</td>\n",
              "      <td>0.867108</td>\n",
              "      <td>0.461632</td>\n",
              "      <td>0.652817</td>\n",
              "      <td>1</td>\n",
              "      <td>0</td>\n",
              "      <td>1</td>\n",
              "    </tr>\n",
              "    <tr>\n",
              "      <th>538</th>\n",
              "      <td>179</td>\n",
              "      <td>0.007793</td>\n",
              "      <td>0.779287</td>\n",
              "      <td>0.867468</td>\n",
              "      <td>0.704820</td>\n",
              "      <td>0.983282</td>\n",
              "      <td>0.420303</td>\n",
              "      <td>0.710612</td>\n",
              "      <td>0.174746</td>\n",
              "      <td>0.267685</td>\n",
              "      <td>...</td>\n",
              "      <td>NaN</td>\n",
              "      <td>NaN</td>\n",
              "      <td>0.981656</td>\n",
              "      <td>0.113193</td>\n",
              "      <td>0.364799</td>\n",
              "      <td>0.201469</td>\n",
              "      <td>0.536535</td>\n",
              "      <td>1</td>\n",
              "      <td>0</td>\n",
              "      <td>1</td>\n",
              "    </tr>\n",
              "    <tr>\n",
              "      <th>539</th>\n",
              "      <td>180</td>\n",
              "      <td>0.608075</td>\n",
              "      <td>0.031556</td>\n",
              "      <td>0.598264</td>\n",
              "      <td>0.794771</td>\n",
              "      <td>0.145680</td>\n",
              "      <td>0.378183</td>\n",
              "      <td>0.461948</td>\n",
              "      <td>0.425291</td>\n",
              "      <td>0.057396</td>\n",
              "      <td>...</td>\n",
              "      <td>NaN</td>\n",
              "      <td>NaN</td>\n",
              "      <td>0.583558</td>\n",
              "      <td>0.969365</td>\n",
              "      <td>0.464331</td>\n",
              "      <td>0.760344</td>\n",
              "      <td>0.762439</td>\n",
              "      <td>1</td>\n",
              "      <td>0</td>\n",
              "      <td>1</td>\n",
              "    </tr>\n",
              "  </tbody>\n",
              "</table>\n",
              "<p>180 rows × 22 columns</p>\n",
              "</div>\n",
              "      <button class=\"colab-df-convert\" onclick=\"convertToInteractive('df-fa43c147-bcd9-4a93-9651-b0595093f686')\"\n",
              "              title=\"Convert this dataframe to an interactive table.\"\n",
              "              style=\"display:none;\">\n",
              "        \n",
              "  <svg xmlns=\"http://www.w3.org/2000/svg\" height=\"24px\"viewBox=\"0 0 24 24\"\n",
              "       width=\"24px\">\n",
              "    <path d=\"M0 0h24v24H0V0z\" fill=\"none\"/>\n",
              "    <path d=\"M18.56 5.44l.94 2.06.94-2.06 2.06-.94-2.06-.94-.94-2.06-.94 2.06-2.06.94zm-11 1L8.5 8.5l.94-2.06 2.06-.94-2.06-.94L8.5 2.5l-.94 2.06-2.06.94zm10 10l.94 2.06.94-2.06 2.06-.94-2.06-.94-.94-2.06-.94 2.06-2.06.94z\"/><path d=\"M17.41 7.96l-1.37-1.37c-.4-.4-.92-.59-1.43-.59-.52 0-1.04.2-1.43.59L10.3 9.45l-7.72 7.72c-.78.78-.78 2.05 0 2.83L4 21.41c.39.39.9.59 1.41.59.51 0 1.02-.2 1.41-.59l7.78-7.78 2.81-2.81c.8-.78.8-2.07 0-2.86zM5.41 20L4 18.59l7.72-7.72 1.47 1.35L5.41 20z\"/>\n",
              "  </svg>\n",
              "      </button>\n",
              "      \n",
              "  <style>\n",
              "    .colab-df-container {\n",
              "      display:flex;\n",
              "      flex-wrap:wrap;\n",
              "      gap: 12px;\n",
              "    }\n",
              "\n",
              "    .colab-df-convert {\n",
              "      background-color: #E8F0FE;\n",
              "      border: none;\n",
              "      border-radius: 50%;\n",
              "      cursor: pointer;\n",
              "      display: none;\n",
              "      fill: #1967D2;\n",
              "      height: 32px;\n",
              "      padding: 0 0 0 0;\n",
              "      width: 32px;\n",
              "    }\n",
              "\n",
              "    .colab-df-convert:hover {\n",
              "      background-color: #E2EBFA;\n",
              "      box-shadow: 0px 1px 2px rgba(60, 64, 67, 0.3), 0px 1px 3px 1px rgba(60, 64, 67, 0.15);\n",
              "      fill: #174EA6;\n",
              "    }\n",
              "\n",
              "    [theme=dark] .colab-df-convert {\n",
              "      background-color: #3B4455;\n",
              "      fill: #D2E3FC;\n",
              "    }\n",
              "\n",
              "    [theme=dark] .colab-df-convert:hover {\n",
              "      background-color: #434B5C;\n",
              "      box-shadow: 0px 1px 3px 1px rgba(0, 0, 0, 0.15);\n",
              "      filter: drop-shadow(0px 1px 2px rgba(0, 0, 0, 0.3));\n",
              "      fill: #FFFFFF;\n",
              "    }\n",
              "  </style>\n",
              "\n",
              "      <script>\n",
              "        const buttonEl =\n",
              "          document.querySelector('#df-fa43c147-bcd9-4a93-9651-b0595093f686 button.colab-df-convert');\n",
              "        buttonEl.style.display =\n",
              "          google.colab.kernel.accessAllowed ? 'block' : 'none';\n",
              "\n",
              "        async function convertToInteractive(key) {\n",
              "          const element = document.querySelector('#df-fa43c147-bcd9-4a93-9651-b0595093f686');\n",
              "          const dataTable =\n",
              "            await google.colab.kernel.invokeFunction('convertToInteractive',\n",
              "                                                     [key], {});\n",
              "          if (!dataTable) return;\n",
              "\n",
              "          const docLinkHtml = 'Like what you see? Visit the ' +\n",
              "            '<a target=\"_blank\" href=https://colab.research.google.com/notebooks/data_table.ipynb>data table notebook</a>'\n",
              "            + ' to learn more about interactive tables.';\n",
              "          element.innerHTML = '';\n",
              "          dataTable['output_type'] = 'display_data';\n",
              "          await google.colab.output.renderOutput(dataTable, element);\n",
              "          const docLink = document.createElement('div');\n",
              "          docLink.innerHTML = docLinkHtml;\n",
              "          element.appendChild(docLink);\n",
              "        }\n",
              "      </script>\n",
              "    </div>\n",
              "  </div>\n",
              "  "
            ],
            "text/plain": [
              "     Run  vconst_corr  vconst_2  vconst_3  vconst_4  vconst_5  vconst_7  \\\n",
              "360    1     0.809543  0.837511  0.073442  0.589892  0.868431  0.351131   \n",
              "361    2     0.369924  0.987699  0.170430  0.981563  0.068741  0.280620   \n",
              "362    3     0.714288  0.792418  0.789954  0.906748  0.863046  0.386705   \n",
              "363    4     0.967564  0.541932  0.133147  0.851643  0.628999  0.921785   \n",
              "364    5     0.749636  0.178136  0.428031  0.631460  0.017963  0.859604   \n",
              "..   ...          ...       ...       ...       ...       ...       ...   \n",
              "535  176     0.657136  0.489375  0.133713  0.411950  0.087780  0.356289   \n",
              "536  177     0.915894  0.842720  0.518947  0.090622  0.336981  0.893576   \n",
              "537  178     0.478600  0.941185  0.769245  0.950776  0.189406  0.112743   \n",
              "538  179     0.007793  0.779287  0.867468  0.704820  0.983282  0.420303   \n",
              "539  180     0.608075  0.031556  0.598264  0.794771  0.145680  0.378183   \n",
              "\n",
              "      ah_corr  ah_bolus  slm_corr  ...  vertical_decay_scale  convect_corr  \\\n",
              "360  0.389901  0.188123  0.536543  ...                   NaN           NaN   \n",
              "361  0.613980  0.321236  0.543237  ...                   NaN           NaN   \n",
              "362  0.593317  0.881642  0.622044  ...                   NaN           NaN   \n",
              "363  0.772271  0.942169  0.379395  ...                   NaN           NaN   \n",
              "364  0.028397  0.126187  0.922381  ...                   NaN           NaN   \n",
              "..        ...       ...       ...  ...                   ...           ...   \n",
              "535  0.480204  0.029678  0.400102  ...                   NaN           NaN   \n",
              "536  0.978703  0.674868  0.263398  ...                   NaN           NaN   \n",
              "537  0.745645  0.527096  0.870987  ...                   NaN           NaN   \n",
              "538  0.710612  0.174746  0.267685  ...                   NaN           NaN   \n",
              "539  0.461948  0.425291  0.057396  ...                   NaN           NaN   \n",
              "\n",
              "     bckgrnd_vdc1  bckgrnd_vdc_ban  bckgrnd_vdc_eq  bckgrnd_vdc_psim  \\\n",
              "360      0.842952         0.048439        0.330238          0.255728   \n",
              "361      0.196828         0.606249        0.750256          0.094154   \n",
              "362      0.039313         0.591884        0.432448          0.407422   \n",
              "363      0.952149         0.819902        0.952324          0.494093   \n",
              "364      0.827444         0.223857        0.650470          0.799945   \n",
              "..            ...              ...             ...               ...   \n",
              "535      0.459479         0.334482        0.573002          0.610183   \n",
              "536      0.347027         0.512499        0.810549          0.593332   \n",
              "537      0.381966         0.198811        0.867108          0.461632   \n",
              "538      0.981656         0.113193        0.364799          0.201469   \n",
              "539      0.583558         0.969365        0.464331          0.760344   \n",
              "\n",
              "      Prandtl  outcome  Study_2  Study_3  \n",
              "360  0.565440        1        0        1  \n",
              "361  0.666742        1        0        1  \n",
              "362  0.175843        1        0        1  \n",
              "363  0.607461        1        0        1  \n",
              "364  0.229589        1        0        1  \n",
              "..        ...      ...      ...      ...  \n",
              "535  0.737706        1        0        1  \n",
              "536  0.142565        0        0        1  \n",
              "537  0.652817        1        0        1  \n",
              "538  0.536535        1        0        1  \n",
              "539  0.762439        1        0        1  \n",
              "\n",
              "[180 rows x 22 columns]"
            ]
          },
          "execution_count": 9,
          "metadata": {},
          "output_type": "execute_result"
        }
      ],
      "source": [
        "# Visualize the NULL observations\n",
        "\n",
        "df[df['vertical_decay_scale'].isnull()]"
      ]
    },
    {
      "cell_type": "markdown",
      "metadata": {
        "id": "BSENddiJK0R0"
      },
      "source": [
        "The missing values is too large than what we can replace to avoid introducing biasness into the data, we will have to drop both columns in this case\n",
        "Those null values came in as a result of the dummy we introduced for the Study Category"
      ]
    },
    {
      "cell_type": "code",
      "execution_count": 76,
      "metadata": {
        "id": "uheEDjPkK0R0"
      },
      "outputs": [],
      "source": [
        "#Drop 'convect_corr' and 'vertical_decay_scale\n",
        "\n",
        "df.drop(columns=['convect_corr', 'vertical_decay_scale'], axis = 1,inplace=True)"
      ]
    },
    {
      "cell_type": "code",
      "execution_count": null,
      "metadata": {
        "colab": {
          "base_uri": "https://localhost:8080/"
        },
        "id": "OMCJmgxmK0R0",
        "outputId": "f4ee6730-d73d-415a-e032-ce842820984f"
      },
      "outputs": [
        {
          "data": {
            "text/plain": [
              "(540, 20)"
            ]
          },
          "execution_count": 11,
          "metadata": {},
          "output_type": "execute_result"
        }
      ],
      "source": [
        "df.shape"
      ]
    },
    {
      "cell_type": "markdown",
      "metadata": {
        "id": "KYEFlvi2K0R1"
      },
      "source": [
        "#### Satndardize the Continuous Features"
      ]
    },
    {
      "cell_type": "code",
      "execution_count": 77,
      "metadata": {
        "colab": {
          "base_uri": "https://localhost:8080/",
          "height": 270
        },
        "id": "jckRiy2bK0R1",
        "outputId": "29c4d1eb-7d53-4d71-a216-55bfcb279574"
      },
      "outputs": [
        {
          "output_type": "execute_result",
          "data": {
            "text/plain": [
              "        Run  vconst_corr  vconst_2  vconst_3  vconst_4  vconst_5  vconst_7  \\\n",
              "0  0.000000     0.859671  0.928788  0.252421  0.298148  0.169988  0.737921   \n",
              "1  0.005587     0.606367  0.457227  0.359316  0.306302  0.844088  0.937501   \n",
              "2  0.011173     0.998404  0.372474  0.517729  0.505192  0.619230  0.607119   \n",
              "3  0.016760     0.783951  0.102452  0.196926  0.421678  0.742619  0.491993   \n",
              "4  0.022346     0.406331  0.512871  0.060808  0.636602  0.845558  0.442502   \n",
              "\n",
              "    ah_corr  ah_bolus  slm_corr  efficiency_factor  tidal_mix_max  \\\n",
              "0  0.426147  0.568669  0.474011           0.244266       0.103856   \n",
              "1  0.442487  0.829203  0.295175           0.616383       0.975832   \n",
              "2  0.745857  0.195983  0.817388           0.679023       0.803377   \n",
              "3  0.000941  0.392530  0.006825           0.470614       0.597745   \n",
              "4  0.188403  0.488124  0.357468           0.550894       0.743812   \n",
              "\n",
              "   bckgrnd_vdc1  bckgrnd_vdc_ban  bckgrnd_vdc_eq  bckgrnd_vdc_psim   Prandtl  \\\n",
              "0      0.447325         0.307274        0.860540          0.797506  0.870159   \n",
              "1      0.863988         0.346527        0.356977          0.438628  0.512305   \n",
              "2      0.924776         0.315136        0.250661          0.285677  0.365818   \n",
              "3      0.912788         0.978782        0.848106          0.699851  0.476013   \n",
              "4      0.521167         0.042880        0.377137          0.280134  0.132101   \n",
              "\n",
              "   outcome  Study_2  Study_3  \n",
              "0        0        0        0  \n",
              "1        1        0        0  \n",
              "2        1        0        0  \n",
              "3        1        0        0  \n",
              "4        1        0        0  "
            ],
            "text/html": [
              "\n",
              "  <div id=\"df-696383e7-09d7-481d-bf61-e5ba8c035331\">\n",
              "    <div class=\"colab-df-container\">\n",
              "      <div>\n",
              "<style scoped>\n",
              "    .dataframe tbody tr th:only-of-type {\n",
              "        vertical-align: middle;\n",
              "    }\n",
              "\n",
              "    .dataframe tbody tr th {\n",
              "        vertical-align: top;\n",
              "    }\n",
              "\n",
              "    .dataframe thead th {\n",
              "        text-align: right;\n",
              "    }\n",
              "</style>\n",
              "<table border=\"1\" class=\"dataframe\">\n",
              "  <thead>\n",
              "    <tr style=\"text-align: right;\">\n",
              "      <th></th>\n",
              "      <th>Run</th>\n",
              "      <th>vconst_corr</th>\n",
              "      <th>vconst_2</th>\n",
              "      <th>vconst_3</th>\n",
              "      <th>vconst_4</th>\n",
              "      <th>vconst_5</th>\n",
              "      <th>vconst_7</th>\n",
              "      <th>ah_corr</th>\n",
              "      <th>ah_bolus</th>\n",
              "      <th>slm_corr</th>\n",
              "      <th>efficiency_factor</th>\n",
              "      <th>tidal_mix_max</th>\n",
              "      <th>bckgrnd_vdc1</th>\n",
              "      <th>bckgrnd_vdc_ban</th>\n",
              "      <th>bckgrnd_vdc_eq</th>\n",
              "      <th>bckgrnd_vdc_psim</th>\n",
              "      <th>Prandtl</th>\n",
              "      <th>outcome</th>\n",
              "      <th>Study_2</th>\n",
              "      <th>Study_3</th>\n",
              "    </tr>\n",
              "  </thead>\n",
              "  <tbody>\n",
              "    <tr>\n",
              "      <th>0</th>\n",
              "      <td>0.000000</td>\n",
              "      <td>0.859671</td>\n",
              "      <td>0.928788</td>\n",
              "      <td>0.252421</td>\n",
              "      <td>0.298148</td>\n",
              "      <td>0.169988</td>\n",
              "      <td>0.737921</td>\n",
              "      <td>0.426147</td>\n",
              "      <td>0.568669</td>\n",
              "      <td>0.474011</td>\n",
              "      <td>0.244266</td>\n",
              "      <td>0.103856</td>\n",
              "      <td>0.447325</td>\n",
              "      <td>0.307274</td>\n",
              "      <td>0.860540</td>\n",
              "      <td>0.797506</td>\n",
              "      <td>0.870159</td>\n",
              "      <td>0</td>\n",
              "      <td>0</td>\n",
              "      <td>0</td>\n",
              "    </tr>\n",
              "    <tr>\n",
              "      <th>1</th>\n",
              "      <td>0.005587</td>\n",
              "      <td>0.606367</td>\n",
              "      <td>0.457227</td>\n",
              "      <td>0.359316</td>\n",
              "      <td>0.306302</td>\n",
              "      <td>0.844088</td>\n",
              "      <td>0.937501</td>\n",
              "      <td>0.442487</td>\n",
              "      <td>0.829203</td>\n",
              "      <td>0.295175</td>\n",
              "      <td>0.616383</td>\n",
              "      <td>0.975832</td>\n",
              "      <td>0.863988</td>\n",
              "      <td>0.346527</td>\n",
              "      <td>0.356977</td>\n",
              "      <td>0.438628</td>\n",
              "      <td>0.512305</td>\n",
              "      <td>1</td>\n",
              "      <td>0</td>\n",
              "      <td>0</td>\n",
              "    </tr>\n",
              "    <tr>\n",
              "      <th>2</th>\n",
              "      <td>0.011173</td>\n",
              "      <td>0.998404</td>\n",
              "      <td>0.372474</td>\n",
              "      <td>0.517729</td>\n",
              "      <td>0.505192</td>\n",
              "      <td>0.619230</td>\n",
              "      <td>0.607119</td>\n",
              "      <td>0.745857</td>\n",
              "      <td>0.195983</td>\n",
              "      <td>0.817388</td>\n",
              "      <td>0.679023</td>\n",
              "      <td>0.803377</td>\n",
              "      <td>0.924776</td>\n",
              "      <td>0.315136</td>\n",
              "      <td>0.250661</td>\n",
              "      <td>0.285677</td>\n",
              "      <td>0.365818</td>\n",
              "      <td>1</td>\n",
              "      <td>0</td>\n",
              "      <td>0</td>\n",
              "    </tr>\n",
              "    <tr>\n",
              "      <th>3</th>\n",
              "      <td>0.016760</td>\n",
              "      <td>0.783951</td>\n",
              "      <td>0.102452</td>\n",
              "      <td>0.196926</td>\n",
              "      <td>0.421678</td>\n",
              "      <td>0.742619</td>\n",
              "      <td>0.491993</td>\n",
              "      <td>0.000941</td>\n",
              "      <td>0.392530</td>\n",
              "      <td>0.006825</td>\n",
              "      <td>0.470614</td>\n",
              "      <td>0.597745</td>\n",
              "      <td>0.912788</td>\n",
              "      <td>0.978782</td>\n",
              "      <td>0.848106</td>\n",
              "      <td>0.699851</td>\n",
              "      <td>0.476013</td>\n",
              "      <td>1</td>\n",
              "      <td>0</td>\n",
              "      <td>0</td>\n",
              "    </tr>\n",
              "    <tr>\n",
              "      <th>4</th>\n",
              "      <td>0.022346</td>\n",
              "      <td>0.406331</td>\n",
              "      <td>0.512871</td>\n",
              "      <td>0.060808</td>\n",
              "      <td>0.636602</td>\n",
              "      <td>0.845558</td>\n",
              "      <td>0.442502</td>\n",
              "      <td>0.188403</td>\n",
              "      <td>0.488124</td>\n",
              "      <td>0.357468</td>\n",
              "      <td>0.550894</td>\n",
              "      <td>0.743812</td>\n",
              "      <td>0.521167</td>\n",
              "      <td>0.042880</td>\n",
              "      <td>0.377137</td>\n",
              "      <td>0.280134</td>\n",
              "      <td>0.132101</td>\n",
              "      <td>1</td>\n",
              "      <td>0</td>\n",
              "      <td>0</td>\n",
              "    </tr>\n",
              "  </tbody>\n",
              "</table>\n",
              "</div>\n",
              "      <button class=\"colab-df-convert\" onclick=\"convertToInteractive('df-696383e7-09d7-481d-bf61-e5ba8c035331')\"\n",
              "              title=\"Convert this dataframe to an interactive table.\"\n",
              "              style=\"display:none;\">\n",
              "        \n",
              "  <svg xmlns=\"http://www.w3.org/2000/svg\" height=\"24px\"viewBox=\"0 0 24 24\"\n",
              "       width=\"24px\">\n",
              "    <path d=\"M0 0h24v24H0V0z\" fill=\"none\"/>\n",
              "    <path d=\"M18.56 5.44l.94 2.06.94-2.06 2.06-.94-2.06-.94-.94-2.06-.94 2.06-2.06.94zm-11 1L8.5 8.5l.94-2.06 2.06-.94-2.06-.94L8.5 2.5l-.94 2.06-2.06.94zm10 10l.94 2.06.94-2.06 2.06-.94-2.06-.94-.94-2.06-.94 2.06-2.06.94z\"/><path d=\"M17.41 7.96l-1.37-1.37c-.4-.4-.92-.59-1.43-.59-.52 0-1.04.2-1.43.59L10.3 9.45l-7.72 7.72c-.78.78-.78 2.05 0 2.83L4 21.41c.39.39.9.59 1.41.59.51 0 1.02-.2 1.41-.59l7.78-7.78 2.81-2.81c.8-.78.8-2.07 0-2.86zM5.41 20L4 18.59l7.72-7.72 1.47 1.35L5.41 20z\"/>\n",
              "  </svg>\n",
              "      </button>\n",
              "      \n",
              "  <style>\n",
              "    .colab-df-container {\n",
              "      display:flex;\n",
              "      flex-wrap:wrap;\n",
              "      gap: 12px;\n",
              "    }\n",
              "\n",
              "    .colab-df-convert {\n",
              "      background-color: #E8F0FE;\n",
              "      border: none;\n",
              "      border-radius: 50%;\n",
              "      cursor: pointer;\n",
              "      display: none;\n",
              "      fill: #1967D2;\n",
              "      height: 32px;\n",
              "      padding: 0 0 0 0;\n",
              "      width: 32px;\n",
              "    }\n",
              "\n",
              "    .colab-df-convert:hover {\n",
              "      background-color: #E2EBFA;\n",
              "      box-shadow: 0px 1px 2px rgba(60, 64, 67, 0.3), 0px 1px 3px 1px rgba(60, 64, 67, 0.15);\n",
              "      fill: #174EA6;\n",
              "    }\n",
              "\n",
              "    [theme=dark] .colab-df-convert {\n",
              "      background-color: #3B4455;\n",
              "      fill: #D2E3FC;\n",
              "    }\n",
              "\n",
              "    [theme=dark] .colab-df-convert:hover {\n",
              "      background-color: #434B5C;\n",
              "      box-shadow: 0px 1px 3px 1px rgba(0, 0, 0, 0.15);\n",
              "      filter: drop-shadow(0px 1px 2px rgba(0, 0, 0, 0.3));\n",
              "      fill: #FFFFFF;\n",
              "    }\n",
              "  </style>\n",
              "\n",
              "      <script>\n",
              "        const buttonEl =\n",
              "          document.querySelector('#df-696383e7-09d7-481d-bf61-e5ba8c035331 button.colab-df-convert');\n",
              "        buttonEl.style.display =\n",
              "          google.colab.kernel.accessAllowed ? 'block' : 'none';\n",
              "\n",
              "        async function convertToInteractive(key) {\n",
              "          const element = document.querySelector('#df-696383e7-09d7-481d-bf61-e5ba8c035331');\n",
              "          const dataTable =\n",
              "            await google.colab.kernel.invokeFunction('convertToInteractive',\n",
              "                                                     [key], {});\n",
              "          if (!dataTable) return;\n",
              "\n",
              "          const docLinkHtml = 'Like what you see? Visit the ' +\n",
              "            '<a target=\"_blank\" href=https://colab.research.google.com/notebooks/data_table.ipynb>data table notebook</a>'\n",
              "            + ' to learn more about interactive tables.';\n",
              "          element.innerHTML = '';\n",
              "          dataTable['output_type'] = 'display_data';\n",
              "          await google.colab.output.renderOutput(dataTable, element);\n",
              "          const docLink = document.createElement('div');\n",
              "          docLink.innerHTML = docLinkHtml;\n",
              "          element.appendChild(docLink);\n",
              "        }\n",
              "      </script>\n",
              "    </div>\n",
              "  </div>\n",
              "  "
            ]
          },
          "metadata": {},
          "execution_count": 77
        }
      ],
      "source": [
        "from sklearn.preprocessing import MinMaxScaler\n",
        "\n",
        "# Scaling our columns except the target\n",
        "scale_vars = ['Run', 'vconst_corr', 'vconst_2', 'vconst_3', 'vconst_4',\n",
        "       'vconst_5', 'vconst_7', 'ah_corr', 'ah_bolus', 'slm_corr',\n",
        "       'efficiency_factor', 'tidal_mix_max','bckgrnd_vdc1', 'bckgrnd_vdc_ban', 'bckgrnd_vdc_eq',\n",
        "       'bckgrnd_vdc_psim', 'Prandtl'\n",
        "             ]\n",
        "\n",
        "scaler = MinMaxScaler()\n",
        "df[scale_vars] = scaler.fit_transform(df[scale_vars]) \n",
        "\n",
        "df.head()"
      ]
    },
    {
      "cell_type": "code",
      "execution_count": null,
      "metadata": {
        "id": "MB3xSs9-K0R1",
        "outputId": "57cf9122-ed64-47de-f244-afa48c0b2878"
      },
      "outputs": [
        {
          "data": {
            "image/png": "[encoded data removed]",
            "text/plain": [
              "<Figure size 720x576 with 1 Axes>"
            ]
          },
          "metadata": {
            "needs_background": "light"
          },
          "output_type": "display_data"
        }
      ],
      "source": [
        "#Checking Predictors for outliers in continuous features\n",
        "from matplotlib import pyplot as plt\n",
        "import seaborn as sns\n",
        "\n",
        "plt.figure(figsize=(10,8))\n",
        "\n",
        "d = pd.DataFrame(data=df, columns=['Run', 'vconst_corr', 'vconst_2', 'vconst_3', 'vconst_4',\n",
        "       'vconst_5', 'vconst_7', 'ah_corr', 'ah_bolus', 'slm_corr',\n",
        "       'efficiency_factor', 'tidal_mix_max', 'bckgrnd_vdc1', 'bckgrnd_vdc_ban', 'bckgrnd_vdc_eq',\n",
        "       'bckgrnd_vdc_psim', 'Prandtl'])\n",
        "\n",
        "sns.boxplot(y=\"variable\", x=\"value\", data=pd.melt(d))\n",
        "plt.show()"
      ]
    },
    {
      "cell_type": "markdown",
      "metadata": {
        "id": "PtYiP0UiK0R1"
      },
      "source": [
        "There is no outlier dectected"
      ]
    },
    {
      "cell_type": "code",
      "execution_count": null,
      "metadata": {
        "id": "cEC00Ym1K0R1"
      },
      "outputs": [],
      "source": [
        ""
      ]
    },
    {
      "cell_type": "markdown",
      "metadata": {
        "id": "UCQAAeeLK0R1"
      },
      "source": [
        "#### 3. (Data partition) Randomly split the data D into the training set D1 and the test set D2 with a ratio of approximately 2:1 in sample size. Use set.seed() to fix the random seed so that the results are easily reproducible."
      ]
    },
    {
      "cell_type": "markdown",
      "metadata": {
        "id": "WBHYKAl8K0R1"
      },
      "source": [
        "### Splitting the Data\n",
        "\n",
        "Before building the model, we need to split the data into train and test data. Then we will build the model using train data and evaluate the model on test data.\n",
        "\n",
        "We will use the test_train_split sklearn libray to split the data.\n",
        "\n",
        "We have to divide the dataset into X and y dataframes first"
      ]
    },
    {
      "cell_type": "markdown",
      "metadata": {
        "id": "exTc-AN4K0R2"
      },
      "source": [
        "### Feature Selection"
      ]
    },
    {
      "cell_type": "markdown",
      "metadata": {
        "id": "A_uw-jy_K0R2"
      },
      "source": [
        "Using the RFE feauture in sklean, we will use the first 14 important predictors rather using everything for our model"
      ]
    },
    {
      "cell_type": "code",
      "execution_count": 78,
      "metadata": {
        "colab": {
          "base_uri": "https://localhost:8080/"
        },
        "id": "LlPUafZoK0R2",
        "outputId": "02f574ed-347f-476d-a857-1f78556343d2"
      },
      "outputs": [
        {
          "output_type": "execute_result",
          "data": {
            "text/plain": [
              "[('Run', True, 1),\n",
              " ('vconst_corr', True, 1),\n",
              " ('vconst_2', True, 1),\n",
              " ('vconst_3', False, 6),\n",
              " ('vconst_4', True, 1),\n",
              " ('vconst_5', True, 1),\n",
              " ('vconst_7', True, 1),\n",
              " ('ah_corr', False, 3),\n",
              " ('ah_bolus', False, 2),\n",
              " ('slm_corr', True, 1),\n",
              " ('efficiency_factor', True, 1),\n",
              " ('tidal_mix_max', False, 4),\n",
              " ('bckgrnd_vdc1', True, 1),\n",
              " ('bckgrnd_vdc_ban', True, 1),\n",
              " ('bckgrnd_vdc_eq', True, 1),\n",
              " ('bckgrnd_vdc_psim', True, 1),\n",
              " ('Prandtl', False, 5),\n",
              " ('Study_2', True, 1),\n",
              " ('Study_3', True, 1)]"
            ]
          },
          "metadata": {},
          "execution_count": 78
        }
      ],
      "source": [
        "X1 = df.drop(columns=['outcome'], axis = 1)\n",
        "y = df['outcome']\n",
        "\n",
        "from sklearn.linear_model import LogisticRegression\n",
        "logmodel = LogisticRegression()\n",
        "\n",
        "from sklearn.feature_selection import RFE\n",
        "rfe = RFE(estimator=logmodel, n_features_to_select=14, step=1, importance_getter=\"auto\",)             # RFE with 14 variables as output\n",
        "rfe = rfe.fit(X1, y)\n",
        "\n",
        "#Join the columns and the rfe ranking\n",
        "list(zip(X1.columns, rfe.support_, rfe.ranking_))"
      ]
    },
    {
      "cell_type": "markdown",
      "source": [
        "The 14 important features are the ones that have rankings of [True,1]. We will drop the unimportant variables with [rfe.support_=False]"
      ],
      "metadata": {
        "id": "2oGc_m0CAojY"
      }
    },
    {
      "cell_type": "code",
      "execution_count": 81,
      "metadata": {
        "id": "a8Be7bEZK0R2"
      },
      "outputs": [],
      "source": [
        "#True X an y : We will drop those with False 'rfe.suppor'\n",
        "\n",
        "X = X1.drop(columns=['vconst_3', 'ah_corr', 'ah_bolus','tidal_mix_max','Prandtl'], axis = 1)\n",
        "y = df['outcome']"
      ]
    },
    {
      "cell_type": "code",
      "execution_count": 82,
      "metadata": {
        "colab": {
          "base_uri": "https://localhost:8080/",
          "height": 488
        },
        "id": "aJaTNQJlK0R3",
        "outputId": "9e3d120c-9bfa-4032-fee9-873309928c0a"
      },
      "outputs": [
        {
          "output_type": "execute_result",
          "data": {
            "text/plain": [
              "          Run  vconst_corr  vconst_2  vconst_4  vconst_5  vconst_7  slm_corr  \\\n",
              "0    0.000000     0.859671  0.928788  0.298148  0.169988  0.737921  0.474011   \n",
              "1    0.005587     0.606367  0.457227  0.306302  0.844088  0.937501  0.295175   \n",
              "2    0.011173     0.998404  0.372474  0.505192  0.619230  0.607119  0.817388   \n",
              "3    0.016760     0.783951  0.102452  0.421678  0.742619  0.491993  0.006825   \n",
              "4    0.022346     0.406331  0.512871  0.636602  0.845558  0.442502  0.357468   \n",
              "..        ...          ...       ...       ...       ...       ...       ...   \n",
              "535  0.977654     0.657524  0.488972  0.411748  0.087088  0.357003  0.399290   \n",
              "536  0.983240     0.916598  0.843419  0.089032  0.336768  0.896088  0.261753   \n",
              "537  0.988827     0.478770  0.942190  0.952901  0.188910  0.112643  0.873045   \n",
              "538  0.994413     0.007388  0.779788  0.705883  0.984308  0.421232  0.266066   \n",
              "539  1.000000     0.608403  0.029726  0.796222  0.145100  0.378970  0.054496   \n",
              "\n",
              "     efficiency_factor  bckgrnd_vdc1  bckgrnd_vdc_ban  bckgrnd_vdc_eq  \\\n",
              "0             0.244266      0.447325         0.307274        0.860540   \n",
              "1             0.616383      0.863988         0.346527        0.356977   \n",
              "2             0.679023      0.924776         0.315136        0.250661   \n",
              "3             0.470614      0.912788         0.978782        0.848106   \n",
              "4             0.550894      0.521167         0.042880        0.377137   \n",
              "..                 ...           ...              ...             ...   \n",
              "535           0.279224      0.458214         0.334277        0.574193   \n",
              "536           0.798072      0.345456         0.512575        0.812605   \n",
              "537           0.191563      0.380490         0.198392        0.869370   \n",
              "538           0.761005      0.981812         0.112638        0.365232   \n",
              "539           0.480114      0.582631         0.970163        0.465127   \n",
              "\n",
              "     bckgrnd_vdc_psim  Study_2  Study_3  \n",
              "0            0.797506        0        0  \n",
              "1            0.438628        0        0  \n",
              "2            0.285677        0        0  \n",
              "3            0.699851        0        0  \n",
              "4            0.280134        0        0  \n",
              "..                ...      ...      ...  \n",
              "535          0.610521        0        1  \n",
              "536          0.593655        0        1  \n",
              "537          0.461834        0        1  \n",
              "538          0.201434        0        1  \n",
              "539          0.760819        0        1  \n",
              "\n",
              "[540 rows x 14 columns]"
            ],
            "text/html": [
              "\n",
              "  <div id=\"df-ffc3da01-b85d-4308-b23f-503fd466e498\">\n",
              "    <div class=\"colab-df-container\">\n",
              "      <div>\n",
              "<style scoped>\n",
              "    .dataframe tbody tr th:only-of-type {\n",
              "        vertical-align: middle;\n",
              "    }\n",
              "\n",
              "    .dataframe tbody tr th {\n",
              "        vertical-align: top;\n",
              "    }\n",
              "\n",
              "    .dataframe thead th {\n",
              "        text-align: right;\n",
              "    }\n",
              "</style>\n",
              "<table border=\"1\" class=\"dataframe\">\n",
              "  <thead>\n",
              "    <tr style=\"text-align: right;\">\n",
              "      <th></th>\n",
              "      <th>Run</th>\n",
              "      <th>vconst_corr</th>\n",
              "      <th>vconst_2</th>\n",
              "      <th>vconst_4</th>\n",
              "      <th>vconst_5</th>\n",
              "      <th>vconst_7</th>\n",
              "      <th>slm_corr</th>\n",
              "      <th>efficiency_factor</th>\n",
              "      <th>bckgrnd_vdc1</th>\n",
              "      <th>bckgrnd_vdc_ban</th>\n",
              "      <th>bckgrnd_vdc_eq</th>\n",
              "      <th>bckgrnd_vdc_psim</th>\n",
              "      <th>Study_2</th>\n",
              "      <th>Study_3</th>\n",
              "    </tr>\n",
              "  </thead>\n",
              "  <tbody>\n",
              "    <tr>\n",
              "      <th>0</th>\n",
              "      <td>0.000000</td>\n",
              "      <td>0.859671</td>\n",
              "      <td>0.928788</td>\n",
              "      <td>0.298148</td>\n",
              "      <td>0.169988</td>\n",
              "      <td>0.737921</td>\n",
              "      <td>0.474011</td>\n",
              "      <td>0.244266</td>\n",
              "      <td>0.447325</td>\n",
              "      <td>0.307274</td>\n",
              "      <td>0.860540</td>\n",
              "      <td>0.797506</td>\n",
              "      <td>0</td>\n",
              "      <td>0</td>\n",
              "    </tr>\n",
              "    <tr>\n",
              "      <th>1</th>\n",
              "      <td>0.005587</td>\n",
              "      <td>0.606367</td>\n",
              "      <td>0.457227</td>\n",
              "      <td>0.306302</td>\n",
              "      <td>0.844088</td>\n",
              "      <td>0.937501</td>\n",
              "      <td>0.295175</td>\n",
              "      <td>0.616383</td>\n",
              "      <td>0.863988</td>\n",
              "      <td>0.346527</td>\n",
              "      <td>0.356977</td>\n",
              "      <td>0.438628</td>\n",
              "      <td>0</td>\n",
              "      <td>0</td>\n",
              "    </tr>\n",
              "    <tr>\n",
              "      <th>2</th>\n",
              "      <td>0.011173</td>\n",
              "      <td>0.998404</td>\n",
              "      <td>0.372474</td>\n",
              "      <td>0.505192</td>\n",
              "      <td>0.619230</td>\n",
              "      <td>0.607119</td>\n",
              "      <td>0.817388</td>\n",
              "      <td>0.679023</td>\n",
              "      <td>0.924776</td>\n",
              "      <td>0.315136</td>\n",
              "      <td>0.250661</td>\n",
              "      <td>0.285677</td>\n",
              "      <td>0</td>\n",
              "      <td>0</td>\n",
              "    </tr>\n",
              "    <tr>\n",
              "      <th>3</th>\n",
              "      <td>0.016760</td>\n",
              "      <td>0.783951</td>\n",
              "      <td>0.102452</td>\n",
              "      <td>0.421678</td>\n",
              "      <td>0.742619</td>\n",
              "      <td>0.491993</td>\n",
              "      <td>0.006825</td>\n",
              "      <td>0.470614</td>\n",
              "      <td>0.912788</td>\n",
              "      <td>0.978782</td>\n",
              "      <td>0.848106</td>\n",
              "      <td>0.699851</td>\n",
              "      <td>0</td>\n",
              "      <td>0</td>\n",
              "    </tr>\n",
              "    <tr>\n",
              "      <th>4</th>\n",
              "      <td>0.022346</td>\n",
              "      <td>0.406331</td>\n",
              "      <td>0.512871</td>\n",
              "      <td>0.636602</td>\n",
              "      <td>0.845558</td>\n",
              "      <td>0.442502</td>\n",
              "      <td>0.357468</td>\n",
              "      <td>0.550894</td>\n",
              "      <td>0.521167</td>\n",
              "      <td>0.042880</td>\n",
              "      <td>0.377137</td>\n",
              "      <td>0.280134</td>\n",
              "      <td>0</td>\n",
              "      <td>0</td>\n",
              "    </tr>\n",
              "    <tr>\n",
              "      <th>...</th>\n",
              "      <td>...</td>\n",
              "      <td>...</td>\n",
              "      <td>...</td>\n",
              "      <td>...</td>\n",
              "      <td>...</td>\n",
              "      <td>...</td>\n",
              "      <td>...</td>\n",
              "      <td>...</td>\n",
              "      <td>...</td>\n",
              "      <td>...</td>\n",
              "      <td>...</td>\n",
              "      <td>...</td>\n",
              "      <td>...</td>\n",
              "      <td>...</td>\n",
              "    </tr>\n",
              "    <tr>\n",
              "      <th>535</th>\n",
              "      <td>0.977654</td>\n",
              "      <td>0.657524</td>\n",
              "      <td>0.488972</td>\n",
              "      <td>0.411748</td>\n",
              "      <td>0.087088</td>\n",
              "      <td>0.357003</td>\n",
              "      <td>0.399290</td>\n",
              "      <td>0.279224</td>\n",
              "      <td>0.458214</td>\n",
              "      <td>0.334277</td>\n",
              "      <td>0.574193</td>\n",
              "      <td>0.610521</td>\n",
              "      <td>0</td>\n",
              "      <td>1</td>\n",
              "    </tr>\n",
              "    <tr>\n",
              "      <th>536</th>\n",
              "      <td>0.983240</td>\n",
              "      <td>0.916598</td>\n",
              "      <td>0.843419</td>\n",
              "      <td>0.089032</td>\n",
              "      <td>0.336768</td>\n",
              "      <td>0.896088</td>\n",
              "      <td>0.261753</td>\n",
              "      <td>0.798072</td>\n",
              "      <td>0.345456</td>\n",
              "      <td>0.512575</td>\n",
              "      <td>0.812605</td>\n",
              "      <td>0.593655</td>\n",
              "      <td>0</td>\n",
              "      <td>1</td>\n",
              "    </tr>\n",
              "    <tr>\n",
              "      <th>537</th>\n",
              "      <td>0.988827</td>\n",
              "      <td>0.478770</td>\n",
              "      <td>0.942190</td>\n",
              "      <td>0.952901</td>\n",
              "      <td>0.188910</td>\n",
              "      <td>0.112643</td>\n",
              "      <td>0.873045</td>\n",
              "      <td>0.191563</td>\n",
              "      <td>0.380490</td>\n",
              "      <td>0.198392</td>\n",
              "      <td>0.869370</td>\n",
              "      <td>0.461834</td>\n",
              "      <td>0</td>\n",
              "      <td>1</td>\n",
              "    </tr>\n",
              "    <tr>\n",
              "      <th>538</th>\n",
              "      <td>0.994413</td>\n",
              "      <td>0.007388</td>\n",
              "      <td>0.779788</td>\n",
              "      <td>0.705883</td>\n",
              "      <td>0.984308</td>\n",
              "      <td>0.421232</td>\n",
              "      <td>0.266066</td>\n",
              "      <td>0.761005</td>\n",
              "      <td>0.981812</td>\n",
              "      <td>0.112638</td>\n",
              "      <td>0.365232</td>\n",
              "      <td>0.201434</td>\n",
              "      <td>0</td>\n",
              "      <td>1</td>\n",
              "    </tr>\n",
              "    <tr>\n",
              "      <th>539</th>\n",
              "      <td>1.000000</td>\n",
              "      <td>0.608403</td>\n",
              "      <td>0.029726</td>\n",
              "      <td>0.796222</td>\n",
              "      <td>0.145100</td>\n",
              "      <td>0.378970</td>\n",
              "      <td>0.054496</td>\n",
              "      <td>0.480114</td>\n",
              "      <td>0.582631</td>\n",
              "      <td>0.970163</td>\n",
              "      <td>0.465127</td>\n",
              "      <td>0.760819</td>\n",
              "      <td>0</td>\n",
              "      <td>1</td>\n",
              "    </tr>\n",
              "  </tbody>\n",
              "</table>\n",
              "<p>540 rows × 14 columns</p>\n",
              "</div>\n",
              "      <button class=\"colab-df-convert\" onclick=\"convertToInteractive('df-ffc3da01-b85d-4308-b23f-503fd466e498')\"\n",
              "              title=\"Convert this dataframe to an interactive table.\"\n",
              "              style=\"display:none;\">\n",
              "        \n",
              "  <svg xmlns=\"http://www.w3.org/2000/svg\" height=\"24px\"viewBox=\"0 0 24 24\"\n",
              "       width=\"24px\">\n",
              "    <path d=\"M0 0h24v24H0V0z\" fill=\"none\"/>\n",
              "    <path d=\"M18.56 5.44l.94 2.06.94-2.06 2.06-.94-2.06-.94-.94-2.06-.94 2.06-2.06.94zm-11 1L8.5 8.5l.94-2.06 2.06-.94-2.06-.94L8.5 2.5l-.94 2.06-2.06.94zm10 10l.94 2.06.94-2.06 2.06-.94-2.06-.94-.94-2.06-.94 2.06-2.06.94z\"/><path d=\"M17.41 7.96l-1.37-1.37c-.4-.4-.92-.59-1.43-.59-.52 0-1.04.2-1.43.59L10.3 9.45l-7.72 7.72c-.78.78-.78 2.05 0 2.83L4 21.41c.39.39.9.59 1.41.59.51 0 1.02-.2 1.41-.59l7.78-7.78 2.81-2.81c.8-.78.8-2.07 0-2.86zM5.41 20L4 18.59l7.72-7.72 1.47 1.35L5.41 20z\"/>\n",
              "  </svg>\n",
              "      </button>\n",
              "      \n",
              "  <style>\n",
              "    .colab-df-container {\n",
              "      display:flex;\n",
              "      flex-wrap:wrap;\n",
              "      gap: 12px;\n",
              "    }\n",
              "\n",
              "    .colab-df-convert {\n",
              "      background-color: #E8F0FE;\n",
              "      border: none;\n",
              "      border-radius: 50%;\n",
              "      cursor: pointer;\n",
              "      display: none;\n",
              "      fill: #1967D2;\n",
              "      height: 32px;\n",
              "      padding: 0 0 0 0;\n",
              "      width: 32px;\n",
              "    }\n",
              "\n",
              "    .colab-df-convert:hover {\n",
              "      background-color: #E2EBFA;\n",
              "      box-shadow: 0px 1px 2px rgba(60, 64, 67, 0.3), 0px 1px 3px 1px rgba(60, 64, 67, 0.15);\n",
              "      fill: #174EA6;\n",
              "    }\n",
              "\n",
              "    [theme=dark] .colab-df-convert {\n",
              "      background-color: #3B4455;\n",
              "      fill: #D2E3FC;\n",
              "    }\n",
              "\n",
              "    [theme=dark] .colab-df-convert:hover {\n",
              "      background-color: #434B5C;\n",
              "      box-shadow: 0px 1px 3px 1px rgba(0, 0, 0, 0.15);\n",
              "      filter: drop-shadow(0px 1px 2px rgba(0, 0, 0, 0.3));\n",
              "      fill: #FFFFFF;\n",
              "    }\n",
              "  </style>\n",
              "\n",
              "      <script>\n",
              "        const buttonEl =\n",
              "          document.querySelector('#df-ffc3da01-b85d-4308-b23f-503fd466e498 button.colab-df-convert');\n",
              "        buttonEl.style.display =\n",
              "          google.colab.kernel.accessAllowed ? 'block' : 'none';\n",
              "\n",
              "        async function convertToInteractive(key) {\n",
              "          const element = document.querySelector('#df-ffc3da01-b85d-4308-b23f-503fd466e498');\n",
              "          const dataTable =\n",
              "            await google.colab.kernel.invokeFunction('convertToInteractive',\n",
              "                                                     [key], {});\n",
              "          if (!dataTable) return;\n",
              "\n",
              "          const docLinkHtml = 'Like what you see? Visit the ' +\n",
              "            '<a target=\"_blank\" href=https://colab.research.google.com/notebooks/data_table.ipynb>data table notebook</a>'\n",
              "            + ' to learn more about interactive tables.';\n",
              "          element.innerHTML = '';\n",
              "          dataTable['output_type'] = 'display_data';\n",
              "          await google.colab.output.renderOutput(dataTable, element);\n",
              "          const docLink = document.createElement('div');\n",
              "          docLink.innerHTML = docLinkHtml;\n",
              "          element.appendChild(docLink);\n",
              "        }\n",
              "      </script>\n",
              "    </div>\n",
              "  </div>\n",
              "  "
            ]
          },
          "metadata": {},
          "execution_count": 82
        }
      ],
      "source": [
        "X"
      ]
    },
    {
      "cell_type": "code",
      "execution_count": 83,
      "metadata": {
        "colab": {
          "base_uri": "https://localhost:8080/"
        },
        "id": "2XU-wf-JK0R3",
        "outputId": "b3cba0e0-9bec-4bf6-e14c-39051b94d391"
      },
      "outputs": [
        {
          "output_type": "stream",
          "name": "stdout",
          "text": [
            "X shape: (540, 14)\n",
            "y shape: (540,)\n"
          ]
        }
      ],
      "source": [
        "# Importing libraries to split the data\n",
        "\n",
        "from sklearn.model_selection import train_test_split\n",
        "\n",
        "print('X shape: {}'.format(np.shape(X)))\n",
        "print('y shape: {}'.format(np.shape(y)))\n",
        "\n",
        "X_train, X_test, y_train, y_test = train_test_split(X, y, train_size = 0.7, test_size=0.3, random_state=100)"
      ]
    },
    {
      "cell_type": "code",
      "execution_count": null,
      "metadata": {
        "id": "BJFoC7V-K0R3"
      },
      "outputs": [],
      "source": [
        ""
      ]
    },
    {
      "cell_type": "markdown",
      "metadata": {
        "id": "3XM6ppjmK0R3"
      },
      "source": [
        "#### 4. In the steps to follow, we will train several classifiers with D1 and then apply each trained model on D2 to predict whether a simulation fails. For each approach, obtain the misclassification rate (with default cutoff point 0.50), the ROC curve and the cor-responding AUC based on the prediction on D2. Compare the performance of all these classifiers and summarize the results."
      ]
    },
    {
      "cell_type": "markdown",
      "metadata": {
        "id": "HGQPgRjIK0R3"
      },
      "source": [
        "#### (a) (Logistic Regression) Fit a regularized logistic regression model as one baseline classifier for comparison. You may use either LASSO or SCAD or any other penalty 1 function of your choice. Explain how the optimal tuning parameter is determined and interpret the results."
      ]
    },
    {
      "cell_type": "code",
      "execution_count": 84,
      "metadata": {
        "colab": {
          "base_uri": "https://localhost:8080/"
        },
        "id": "Li0erprnK0R4",
        "outputId": "d5ce86ec-ea2d-4ec2-cf07-05a2a9d07524"
      },
      "outputs": [
        {
          "output_type": "execute_result",
          "data": {
            "text/plain": [
              "LogisticRegression(penalty='l1', solver='saga')"
            ]
          },
          "metadata": {},
          "execution_count": 84
        }
      ],
      "source": [
        "from sklearn.linear_model import LogisticRegression\n",
        "\n",
        "lasso_log_reg = LogisticRegression(penalty='l1', solver='saga',  C=1.0)   #penalty = 'l1' mean Lasso\n",
        "\n",
        "threshold = 0.5\n",
        "\n",
        "lasso_log_reg.fit(X_train, y_train)"
      ]
    },
    {
      "cell_type": "code",
      "execution_count": 85,
      "metadata": {
        "id": "sbYqesPyK0R4"
      },
      "outputs": [],
      "source": [
        "#Prediction\n",
        "y_predm1 =  lasso_log_reg.predict(X_test)"
      ]
    },
    {
      "cell_type": "code",
      "execution_count": 86,
      "metadata": {
        "id": "ZOV84WftK0R4",
        "outputId": "60d2bc21-b618-4897-ff90-99d5e5394c3b",
        "colab": {
          "base_uri": "https://localhost:8080/"
        }
      },
      "outputs": [
        {
          "output_type": "execute_result",
          "data": {
            "text/plain": [
              "array([0.95689029, 0.61499595, 0.94809525, 0.98605677, 0.95648519,\n",
              "       0.85183352, 0.97055621, 0.98499662, 0.94801075, 0.67041253,\n",
              "       0.98092325, 0.9966731 , 0.99904798, 0.9949677 , 0.8428332 ,\n",
              "       0.99651174, 0.99790497, 0.37270588, 0.98730694, 0.83180993,\n",
              "       0.98616554, 0.9828943 , 0.43262059, 0.99342111, 0.81587592,\n",
              "       0.87445558, 0.83967168, 0.93915151, 0.99676812, 0.94803464,\n",
              "       0.81378296, 0.92870133, 0.98437434, 0.99191843, 0.96777997,\n",
              "       0.87520773, 0.98038759, 0.98661194, 0.976612  , 0.93964813,\n",
              "       0.93093423, 0.97659534, 0.99530991, 0.99924293, 0.83993478,\n",
              "       0.96537829, 0.98020074, 0.99893371, 0.99736927, 0.98043797,\n",
              "       0.99686524, 0.99975921, 0.66702698, 0.99730096, 0.99274769,\n",
              "       0.83346173, 0.80193685, 0.99185737, 0.99980203, 0.99488031,\n",
              "       0.98371986, 0.96683167, 0.71531797, 0.97422796, 0.74373838,\n",
              "       0.96764764, 0.96214305, 0.97633139, 0.98785902, 0.96868324,\n",
              "       0.73748776, 0.98824959, 0.68591494, 0.99703417, 0.4534589 ,\n",
              "       0.99840886, 0.9538266 , 0.36757946, 0.96962023, 0.9992858 ,\n",
              "       0.8223627 , 0.98900499, 0.84123815, 0.80370332, 0.99541445,\n",
              "       0.77709311, 0.97444441, 0.98727072, 0.99749852, 0.58059779,\n",
              "       0.99859322, 0.99134239, 0.71236159, 0.99655338, 0.99328693,\n",
              "       0.85773759, 0.83782884, 0.98756209, 0.89032711, 0.49497316,\n",
              "       0.99220602, 0.71944347, 0.93465743, 0.4113111 , 0.93356489,\n",
              "       0.98784931, 0.79757366, 0.91000367, 0.94050914, 0.79161514,\n",
              "       0.84430463, 0.8186118 , 0.76661846, 0.78521652, 0.99698726,\n",
              "       0.99892536, 0.91272472, 0.92275144, 0.9475552 , 0.99527686,\n",
              "       0.93624206, 0.99630338, 0.98894033, 0.88856763, 0.54528327,\n",
              "       0.97695922, 0.99927336, 0.98669989, 0.92117903, 0.99952454,\n",
              "       0.92242931, 0.97432307, 0.97625478, 0.99361635, 0.99911093,\n",
              "       0.98501737, 0.99836052, 0.99949327, 0.90140515, 0.9990211 ,\n",
              "       0.9962791 , 0.99411464, 0.66474914, 0.94582444, 0.67455346,\n",
              "       0.99722351, 0.59441956, 0.99230336, 0.98065963, 0.99590035,\n",
              "       0.98125793, 0.99856038, 0.92484863, 0.96486984, 0.91746462,\n",
              "       0.96584278, 0.9975012 , 0.98264056, 0.99155083, 0.98955   ,\n",
              "       0.99759931, 0.98971109])"
            ]
          },
          "metadata": {},
          "execution_count": 86
        }
      ],
      "source": [
        "#Prediction Probability\n",
        "predict_prob = lasso_log_reg.predict_proba(X_test)[:,1]\n",
        "predict_prob"
      ]
    },
    {
      "cell_type": "markdown",
      "metadata": {
        "id": "BJLddx_bK0R4"
      },
      "source": [
        "### Misclassification rate"
      ]
    },
    {
      "cell_type": "code",
      "execution_count": 87,
      "metadata": {
        "id": "Eo6c2JwfK0R5",
        "outputId": "f516ba5f-4406-45f6-a528-dba2aac5720c",
        "colab": {
          "base_uri": "https://localhost:8080/"
        }
      },
      "outputs": [
        {
          "output_type": "execute_result",
          "data": {
            "text/plain": [
              "array([[  5,  12],\n",
              "       [  1, 144]])"
            ]
          },
          "metadata": {},
          "execution_count": 87
        }
      ],
      "source": [
        "#Confusion Metrics\n",
        "\n",
        "confusion_matrix(y_test, y_predm1)"
      ]
    },
    {
      "cell_type": "markdown",
      "source": [
        "There are 13 misclassifications using the test set"
      ],
      "metadata": {
        "id": "ozBystCvS03e"
      }
    },
    {
      "cell_type": "code",
      "execution_count": 91,
      "metadata": {
        "id": "sH4_upXbK0R5",
        "outputId": "0bf18fa7-d0d4-44e1-96bd-6ab60e47283e",
        "colab": {
          "base_uri": "https://localhost:8080/"
        }
      },
      "outputs": [
        {
          "output_type": "stream",
          "name": "stdout",
          "text": [
            "Accuracy Score:  91.9753086419753 %\n"
          ]
        }
      ],
      "source": [
        "print(\"Accuracy Score: \", lasso_log_reg.score(X_test, y_test)*100,'%')"
      ]
    },
    {
      "cell_type": "markdown",
      "metadata": {
        "id": "TyBqMva_K0R5"
      },
      "source": [
        "### ROC"
      ]
    },
    {
      "cell_type": "code",
      "execution_count": 92,
      "metadata": {
        "id": "pb5P0OsOK0R6"
      },
      "outputs": [],
      "source": [
        "from sklearn.metrics import roc_curve\n",
        "\n",
        "def plot_roc_curve(fper, tper):\n",
        "    plt.plot(fper, tper, color='red', label='ROC')\n",
        "    plt.plot([0, 1], [0, 1], color='green', linestyle='--')\n",
        "    plt.xlabel('False Positive Rate')\n",
        "    plt.ylabel('True Positive Rate')\n",
        "    plt.title('Receiver Operating Characteristic Curve')\n",
        "    plt.legend()\n",
        "    plt.show()"
      ]
    },
    {
      "cell_type": "code",
      "source": [
        "#ROC Curve\n",
        "\n",
        "fper, tper, thresholds = roc_curve(y_test, y_predm1)\n",
        "plot_roc_curve(fper, tper)"
      ],
      "metadata": {
        "colab": {
          "base_uri": "https://localhost:8080/",
          "height": 295
        },
        "id": "Us3L_3eaL6qH",
        "outputId": "d7704eca-5d34-4d55-843d-2c3f6fe8ba94"
      },
      "execution_count": 93,
      "outputs": [
        {
          "output_type": "display_data",
          "data": {
            "text/plain": [
              "<Figure size 432x288 with 1 Axes>"
            ],
            "image/png": "[encoded data removed]"
          },
          "metadata": {
            "needs_background": "light"
          }
        }
      ]
    },
    {
      "cell_type": "markdown",
      "metadata": {
        "id": "s3df9SZOK0R7"
      },
      "source": [
        "### Explain how the optimal tuning parameter is determined and interpret the results\n",
        "\n",
        "We tune the Lasso model to obtain the best C-Param and built a final Lasso Model which has better classification rate than the initial Lasso"
      ]
    },
    {
      "cell_type": "markdown",
      "source": [
        "#### Hyper-Parameter Tuning for the Lasso Model"
      ],
      "metadata": {
        "id": "3BSXr0_RUk1K"
      }
    },
    {
      "cell_type": "code",
      "source": [
        "from sklearn.linear_model import LogisticRegressionCV\n",
        "from sklearn.model_selection import StratifiedKFold\n",
        "from sklearn.metrics import log_loss\n",
        "\n",
        "kf = StratifiedKFold(n_splits=3, random_state=0, shuffle=True)\n",
        "\n",
        "#Range of C-Values\n",
        "C_List = np.geomspace(1e-5, 1e5, num=100)\n",
        "\n",
        "# Logistic Reg CV\n",
        "Log_reg3 = LogisticRegressionCV(random_state=15, Cs = C_List, solver ='lbfgs')\n",
        "Log_reg3.fit(X_train, y_train)\n",
        "print(\"The Score Accuracy is:\", Log_reg3.score(X_test, y_test))\n",
        "\n",
        "#Log Loss and C Parameter\n",
        "pred_proba_t = Log_reg3.predict_proba(X_test)\n",
        "log_loss3 = log_loss(y_test, pred_proba_t)\n",
        "print(\"The Logistic Loss is: \", log_loss3)\n",
        "print(\"The optimal C parameter is: \", Log_reg3.C_)"
      ],
      "metadata": {
        "id": "rMqRD-6qTPkg",
        "outputId": "f3284dfa-7878-4851-c8c2-c790cfb9a020",
        "colab": {
          "base_uri": "https://localhost:8080/"
        }
      },
      "execution_count": 94,
      "outputs": [
        {
          "output_type": "stream",
          "name": "stdout",
          "text": [
            "The Score Accuracy is: 0.9320987654320988\n",
            "The Logistic Loss is:  0.15992497931165933\n",
            "The optimal C parameter is:  [475.08101621]\n"
          ]
        }
      ]
    },
    {
      "cell_type": "code",
      "execution_count": 98,
      "metadata": {
        "id": "oARDGMRnK0R7",
        "outputId": "bf81a589-0082-4600-8986-1080534aae6a",
        "colab": {
          "base_uri": "https://localhost:8080/"
        }
      },
      "outputs": [
        {
          "output_type": "stream",
          "name": "stdout",
          "text": [
            "Final Lasso Model Accuracy on Test Data is:  0.9320987654320988\n",
            "\n",
            "\n",
            "\n"
          ]
        },
        {
          "output_type": "execute_result",
          "data": {
            "text/plain": [
              "array([[ 12,   5],\n",
              "       [  6, 139]])"
            ]
          },
          "metadata": {},
          "execution_count": 98
        }
      ],
      "source": [
        "final_Lasso = LogisticRegression(random_state=10,solver = 'saga', C=475.08101621, penalty='l1')  # penalty='l1' -> Lasso\n",
        "\n",
        "# Training my model\n",
        "final_Lasso.fit(X_train, y_train)\n",
        "\n",
        "#Prediction\n",
        "y_predfinal= final_Lasso.predict(X_test)\n",
        "\n",
        "#Accuracy\n",
        "print('Final Lasso Model Accuracy on Test Data is: ', accuracy_score(y_test, y_predfinal))\n",
        "\n",
        "print(end='\\n\\n\\n')\n",
        "\n",
        "\n",
        "#Confusion Metrics\n",
        "confusion_matrix(y_test, y_predfinal)"
      ]
    },
    {
      "cell_type": "code",
      "source": [
        "#ROC Curve\n",
        "\n",
        "fper, tper, thresholds = roc_curve(y_test, y_predfinal)\n",
        "plot_roc_curve(fper, tper)"
      ],
      "metadata": {
        "id": "8kRaaQl5UMLH",
        "outputId": "934214c1-aad0-4f9a-e234-36270eb5ca8c",
        "colab": {
          "base_uri": "https://localhost:8080/",
          "height": 295
        }
      },
      "execution_count": 99,
      "outputs": [
        {
          "output_type": "display_data",
          "data": {
            "text/plain": [
              "<Figure size 432x288 with 1 Axes>"
            ],
            "image/png": "[encoded data removed]"
          },
          "metadata": {
            "needs_background": "light"
          }
        }
      ]
    },
    {
      "cell_type": "code",
      "source": [
        ""
      ],
      "metadata": {
        "id": "WKvCM-FKUPuX"
      },
      "execution_count": null,
      "outputs": []
    },
    {
      "cell_type": "markdown",
      "metadata": {
        "id": "yUQD02bEK0R7"
      },
      "source": [
        "#### (b) (Random Forest) Fit random forests as another baseline for comparison. Also,obtain the variable importance ranking from RF."
      ]
    },
    {
      "cell_type": "code",
      "execution_count": 100,
      "metadata": {
        "id": "OZEPgSi4K0R8"
      },
      "outputs": [],
      "source": [
        "clf = RandomForestClassifier(n_estimators=100, criterion='entropy')\n",
        "clf.fit(X_train, y_train)\n",
        "\n",
        "pred_clf = clf.predict(X_test)"
      ]
    },
    {
      "cell_type": "code",
      "execution_count": 101,
      "metadata": {
        "id": "ZcyykTmUK0R8",
        "outputId": "3c44068c-0255-44e9-ee01-00122e5c321d",
        "colab": {
          "base_uri": "https://localhost:8080/"
        }
      },
      "outputs": [
        {
          "output_type": "stream",
          "name": "stdout",
          "text": [
            "Training Accuracy is:  100.0 %\n",
            "Testing Accuracy is:  89.50617283950618 %\n",
            "\n",
            "\n"
          ]
        }
      ],
      "source": [
        "# Accuracy on Test\n",
        "print(\"Training Accuracy is: \", clf.score(X_train, y_train)*100,'%')\n",
        "\n",
        "# Accuracy on Train\n",
        "print(\"Testing Accuracy is: \", clf.score(X_test, y_test)*100,'%', end='\\n\\n\\n')"
      ]
    },
    {
      "cell_type": "code",
      "execution_count": 102,
      "metadata": {
        "id": "rnBNEcxWK0R8",
        "outputId": "40b350b8-6ba3-46ac-d2e5-214a5c89291c",
        "colab": {
          "base_uri": "https://localhost:8080/"
        }
      },
      "outputs": [
        {
          "output_type": "execute_result",
          "data": {
            "text/plain": [
              "array([[  1,  16],\n",
              "       [  1, 144]])"
            ]
          },
          "metadata": {},
          "execution_count": 102
        }
      ],
      "source": [
        "#Confusion Metrics\n",
        "\n",
        "confusion_matrix(y_test, pred_clf)"
      ]
    },
    {
      "cell_type": "code",
      "source": [
        "#ROC\n",
        "\n",
        "fper, tper, thresholds = roc_curve(y_test, pred_clf)\n",
        "plot_roc_curve(fper, tper)"
      ],
      "metadata": {
        "colab": {
          "base_uri": "https://localhost:8080/",
          "height": 295
        },
        "id": "CpMcQSJeLP8D",
        "outputId": "76f31ff0-ee09-4846-cf5e-f7b146e0e926"
      },
      "execution_count": 103,
      "outputs": [
        {
          "output_type": "display_data",
          "data": {
            "text/plain": [
              "<Figure size 432x288 with 1 Axes>"
            ],
            "image/png": "[encoded data removed]"
          },
          "metadata": {
            "needs_background": "light"
          }
        }
      ]
    },
    {
      "cell_type": "code",
      "source": [
        ""
      ],
      "metadata": {
        "id": "Xl1BwnfaJtWl"
      },
      "execution_count": null,
      "outputs": []
    },
    {
      "cell_type": "markdown",
      "metadata": {
        "id": "V_RNwcOkK0R9"
      },
      "source": [
        "#### Variable importance ranking from RF"
      ]
    },
    {
      "cell_type": "code",
      "execution_count": 107,
      "metadata": {
        "id": "Y1ETKATpK0R9",
        "outputId": "fdfee04a-f875-4aee-c6dd-496c72402a94",
        "colab": {
          "base_uri": "https://localhost:8080/",
          "height": 732
        }
      },
      "outputs": [
        {
          "output_type": "display_data",
          "data": {
            "text/plain": [
              "<Figure size 1440x720 with 1 Axes>"
            ],
            "image/png": "[encoded data removed]"
          },
          "metadata": {
            "needs_background": "light"
          }
        }
      ],
      "source": [
        "plt.figure(figsize=(20,10))\n",
        "\n",
        "# Calculate feature importances\n",
        "importances = clf.feature_importances_\n",
        "# Sort feature importances in descending order\n",
        "indices = np.argsort(importances)[::-1]\n",
        "\n",
        "# Rearrange feature names so they match the sorted feature importances\n",
        "names = [X.columns[i] for i in indices]\n",
        "\n",
        "# Barplot: Add bars\n",
        "plt.bar(range(X.shape[1]), importances[indices],width=0.9)\n",
        "# Add feature names as x-axis labels\n",
        "plt.xticks(range(X.shape[1]), names, rotation=40, fontsize = 20)\n",
        "\n",
        "# Create plot title\n",
        "plt.title(\"Feature Importance\")\n",
        "\n",
        "# Show plot\n",
        "plt.show()"
      ]
    },
    {
      "cell_type": "code",
      "execution_count": null,
      "metadata": {
        "id": "fzeoO6dmK0R9"
      },
      "outputs": [],
      "source": [
        ""
      ]
    },
    {
      "cell_type": "markdown",
      "metadata": {
        "id": "BNzZ2iUDK0R9"
      },
      "source": [
        "#### (c) (Artificial Neural Network) Fit at least three different artificial neural network (ANN) models, e.g., with different numbers of layers and different number of neurons."
      ]
    },
    {
      "cell_type": "code",
      "source": [
        "from numpy import loadtxt\n",
        "from keras.models import Sequential\n",
        "from keras.layers import Dense"
      ],
      "metadata": {
        "id": "7_JMTS9XCENL"
      },
      "execution_count": 108,
      "outputs": []
    },
    {
      "cell_type": "code",
      "execution_count": 109,
      "metadata": {
        "colab": {
          "base_uri": "https://localhost:8080/"
        },
        "id": "gPGYYbCzK0R9",
        "outputId": "e6de9021-6bd3-47ae-dcd9-165b24871265"
      },
      "outputs": [
        {
          "output_type": "stream",
          "name": "stdout",
          "text": [
            "Epoch 1/50\n",
            "38/38 [==============================] - 1s 1ms/step - loss: 0.8279 - accuracy: 0.1640 \n",
            "Epoch 2/50\n",
            "38/38 [==============================] - 0s 1ms/step - loss: 0.6802 - accuracy: 0.7169\n",
            "Epoch 3/50\n",
            "38/38 [==============================] - 0s 1ms/step - loss: 0.6299 - accuracy: 0.9074\n",
            "Epoch 4/50\n",
            "38/38 [==============================] - 0s 2ms/step - loss: 0.5635 - accuracy: 0.9233\n",
            "Epoch 5/50\n",
            "38/38 [==============================] - 0s 2ms/step - loss: 0.4517 - accuracy: 0.9233\n",
            "Epoch 6/50\n",
            "38/38 [==============================] - 0s 1ms/step - loss: 0.3417 - accuracy: 0.9233\n",
            "Epoch 7/50\n",
            "38/38 [==============================] - 0s 1ms/step - loss: 0.2940 - accuracy: 0.9233\n",
            "Epoch 8/50\n",
            "38/38 [==============================] - 0s 2ms/step - loss: 0.2809 - accuracy: 0.9233\n",
            "Epoch 9/50\n",
            "38/38 [==============================] - 0s 2ms/step - loss: 0.2755 - accuracy: 0.9233\n",
            "Epoch 10/50\n",
            "38/38 [==============================] - 0s 2ms/step - loss: 0.2727 - accuracy: 0.9233\n",
            "Epoch 11/50\n",
            "38/38 [==============================] - 0s 1ms/step - loss: 0.2703 - accuracy: 0.9233\n",
            "Epoch 12/50\n",
            "38/38 [==============================] - 0s 1ms/step - loss: 0.2671 - accuracy: 0.9233\n",
            "Epoch 13/50\n",
            "38/38 [==============================] - 0s 2ms/step - loss: 0.2643 - accuracy: 0.9233\n",
            "Epoch 14/50\n",
            "38/38 [==============================] - 0s 1ms/step - loss: 0.2608 - accuracy: 0.9233\n",
            "Epoch 15/50\n",
            "38/38 [==============================] - 0s 2ms/step - loss: 0.2587 - accuracy: 0.9233\n",
            "Epoch 16/50\n",
            "38/38 [==============================] - 0s 1ms/step - loss: 0.2547 - accuracy: 0.9233\n",
            "Epoch 17/50\n",
            "38/38 [==============================] - 0s 1ms/step - loss: 0.2520 - accuracy: 0.9233\n",
            "Epoch 18/50\n",
            "38/38 [==============================] - 0s 1ms/step - loss: 0.2487 - accuracy: 0.9233\n",
            "Epoch 19/50\n",
            "38/38 [==============================] - 0s 2ms/step - loss: 0.2460 - accuracy: 0.9233\n",
            "Epoch 20/50\n",
            "38/38 [==============================] - 0s 2ms/step - loss: 0.2428 - accuracy: 0.9233\n",
            "Epoch 21/50\n",
            "38/38 [==============================] - 0s 2ms/step - loss: 0.2401 - accuracy: 0.9233\n",
            "Epoch 22/50\n",
            "38/38 [==============================] - 0s 2ms/step - loss: 0.2371 - accuracy: 0.9233\n",
            "Epoch 23/50\n",
            "38/38 [==============================] - 0s 2ms/step - loss: 0.2334 - accuracy: 0.9233\n",
            "Epoch 24/50\n",
            "38/38 [==============================] - 0s 1ms/step - loss: 0.2300 - accuracy: 0.9233\n",
            "Epoch 25/50\n",
            "38/38 [==============================] - 0s 1ms/step - loss: 0.2270 - accuracy: 0.9233\n",
            "Epoch 26/50\n",
            "38/38 [==============================] - 0s 2ms/step - loss: 0.2239 - accuracy: 0.9233\n",
            "Epoch 27/50\n",
            "38/38 [==============================] - 0s 2ms/step - loss: 0.2201 - accuracy: 0.9233\n",
            "Epoch 28/50\n",
            "38/38 [==============================] - 0s 1ms/step - loss: 0.2170 - accuracy: 0.9233\n",
            "Epoch 29/50\n",
            "38/38 [==============================] - 0s 2ms/step - loss: 0.2132 - accuracy: 0.9233\n",
            "Epoch 30/50\n",
            "38/38 [==============================] - 0s 2ms/step - loss: 0.2101 - accuracy: 0.9233\n",
            "Epoch 31/50\n",
            "38/38 [==============================] - 0s 1ms/step - loss: 0.2070 - accuracy: 0.9233\n",
            "Epoch 32/50\n",
            "38/38 [==============================] - 0s 2ms/step - loss: 0.2024 - accuracy: 0.9233\n",
            "Epoch 33/50\n",
            "38/38 [==============================] - 0s 2ms/step - loss: 0.1992 - accuracy: 0.9259\n",
            "Epoch 34/50\n",
            "38/38 [==============================] - 0s 2ms/step - loss: 0.1954 - accuracy: 0.9259\n",
            "Epoch 35/50\n",
            "38/38 [==============================] - 0s 2ms/step - loss: 0.1919 - accuracy: 0.9259\n",
            "Epoch 36/50\n",
            "38/38 [==============================] - 0s 2ms/step - loss: 0.1887 - accuracy: 0.9259\n",
            "Epoch 37/50\n",
            "38/38 [==============================] - 0s 2ms/step - loss: 0.1851 - accuracy: 0.9259\n",
            "Epoch 38/50\n",
            "38/38 [==============================] - 0s 2ms/step - loss: 0.1835 - accuracy: 0.9286\n",
            "Epoch 39/50\n",
            "38/38 [==============================] - 0s 2ms/step - loss: 0.1781 - accuracy: 0.9286\n",
            "Epoch 40/50\n",
            "38/38 [==============================] - 0s 1ms/step - loss: 0.1733 - accuracy: 0.9312\n",
            "Epoch 41/50\n",
            "38/38 [==============================] - 0s 2ms/step - loss: 0.1673 - accuracy: 0.9312\n",
            "Epoch 42/50\n",
            "38/38 [==============================] - 0s 2ms/step - loss: 0.1612 - accuracy: 0.9339\n",
            "Epoch 43/50\n",
            "38/38 [==============================] - 0s 2ms/step - loss: 0.1572 - accuracy: 0.9365\n",
            "Epoch 44/50\n",
            "38/38 [==============================] - 0s 2ms/step - loss: 0.1537 - accuracy: 0.9339\n",
            "Epoch 45/50\n",
            "38/38 [==============================] - 0s 2ms/step - loss: 0.1496 - accuracy: 0.9365\n",
            "Epoch 46/50\n",
            "38/38 [==============================] - 0s 2ms/step - loss: 0.1462 - accuracy: 0.9365\n",
            "Epoch 47/50\n",
            "38/38 [==============================] - 0s 2ms/step - loss: 0.1443 - accuracy: 0.9497\n",
            "Epoch 48/50\n",
            "38/38 [==============================] - 0s 2ms/step - loss: 0.1422 - accuracy: 0.9392\n",
            "Epoch 49/50\n",
            "38/38 [==============================] - 0s 2ms/step - loss: 0.1387 - accuracy: 0.9444\n",
            "Epoch 50/50\n",
            "38/38 [==============================] - 0s 2ms/step - loss: 0.1379 - accuracy: 0.9497\n",
            "\n",
            "\n",
            "\n",
            "6/6 [==============================] - 0s 2ms/step - loss: 0.2093 - accuracy: 0.8951\n",
            "Accuracy: 89.51\n"
          ]
        }
      ],
      "source": [
        "#ANN Model 1: 21 neurons 3 Layers\n",
        "\n",
        "# define the keras model\n",
        "ann1 = Sequential()\n",
        "ann1.add(Dense(12, input_dim=14, activation='relu'))\n",
        "ann1.add(Dense(8, activation='relu'))\n",
        "ann1.add(Dense(1, activation='sigmoid'))\n",
        "\n",
        "# compile the keras model\n",
        "ann1.compile(loss='binary_crossentropy', optimizer='adam', metrics=['accuracy'])\n",
        "\n",
        "# fit the keras model on the dataset\n",
        "ann1.fit(X_train, y_train, epochs=50, batch_size=10)\n",
        "print(end='\\n\\n\\n')\n",
        "\n",
        "# evaluate the keras model\n",
        "_, accuracy = ann1.evaluate(X_test, y_test)\n",
        "print('Accuracy: %.2f' % (accuracy*100))\n"
      ]
    },
    {
      "cell_type": "code",
      "execution_count": 110,
      "metadata": {
        "colab": {
          "base_uri": "https://localhost:8080/"
        },
        "id": "jGuuIfsfXNOx",
        "outputId": "48359c9f-7bd0-4f6d-9fd2-52f05f311dbc"
      },
      "outputs": [
        {
          "output_type": "execute_result",
          "data": {
            "text/plain": [
              "array([[  6,  11],\n",
              "       [  6, 139]])"
            ]
          },
          "metadata": {},
          "execution_count": 110
        }
      ],
      "source": [
        "# make class predictions with the model with threshold > 0.5\n",
        "ann1Pred = (ann1.predict(X_test) > 0.5).astype(int)\n",
        "\n",
        "#Confusion Metrics\n",
        "confusion_matrix(y_test, ann1Pred)"
      ]
    },
    {
      "cell_type": "code",
      "source": [
        "### ROC\n",
        "fper, tper, thresholds = roc_curve(y_test, ann1Pred)\n",
        "plot_roc_curve(fper, tper)"
      ],
      "metadata": {
        "colab": {
          "base_uri": "https://localhost:8080/",
          "height": 295
        },
        "id": "eA4QDVMhKhuR",
        "outputId": "fab4e680-f241-49fa-8e36-0f869fde329f"
      },
      "execution_count": 111,
      "outputs": [
        {
          "output_type": "display_data",
          "data": {
            "text/plain": [
              "<Figure size 432x288 with 1 Axes>"
            ],
            "image/png": "[encoded data removed]"
          },
          "metadata": {
            "needs_background": "light"
          }
        }
      ]
    },
    {
      "cell_type": "code",
      "execution_count": null,
      "metadata": {
        "id": "upnIBbplUiKm"
      },
      "outputs": [],
      "source": [
        ""
      ]
    },
    {
      "cell_type": "code",
      "execution_count": 112,
      "metadata": {
        "colab": {
          "base_uri": "https://localhost:8080/"
        },
        "id": "h8eMRGvuSl85",
        "outputId": "9e05ac68-1a9e-404c-b3b8-c43458cecf26"
      },
      "outputs": [
        {
          "output_type": "stream",
          "name": "stdout",
          "text": [
            "Epoch 1/50\n",
            "38/38 [==============================] - 0s 2ms/step - loss: 0.3286 - accuracy: 0.9233\n",
            "Epoch 2/50\n",
            "38/38 [==============================] - 0s 2ms/step - loss: 0.2600 - accuracy: 0.9233\n",
            "Epoch 3/50\n",
            "38/38 [==============================] - 0s 1ms/step - loss: 0.2435 - accuracy: 0.9233\n",
            "Epoch 4/50\n",
            "38/38 [==============================] - 0s 2ms/step - loss: 0.2375 - accuracy: 0.9233\n",
            "Epoch 5/50\n",
            "38/38 [==============================] - 0s 2ms/step - loss: 0.2339 - accuracy: 0.9233\n",
            "Epoch 6/50\n",
            "38/38 [==============================] - 0s 2ms/step - loss: 0.2317 - accuracy: 0.9233\n",
            "Epoch 7/50\n",
            "38/38 [==============================] - 0s 2ms/step - loss: 0.2265 - accuracy: 0.9233\n",
            "Epoch 8/50\n",
            "38/38 [==============================] - 0s 2ms/step - loss: 0.2225 - accuracy: 0.9233\n",
            "Epoch 9/50\n",
            "38/38 [==============================] - 0s 2ms/step - loss: 0.2181 - accuracy: 0.9233\n",
            "Epoch 10/50\n",
            "38/38 [==============================] - 0s 2ms/step - loss: 0.2147 - accuracy: 0.9233\n",
            "Epoch 11/50\n",
            "38/38 [==============================] - 0s 1ms/step - loss: 0.2113 - accuracy: 0.9233\n",
            "Epoch 12/50\n",
            "38/38 [==============================] - 0s 2ms/step - loss: 0.2076 - accuracy: 0.9233\n",
            "Epoch 13/50\n",
            "38/38 [==============================] - 0s 2ms/step - loss: 0.2046 - accuracy: 0.9233\n",
            "Epoch 14/50\n",
            "38/38 [==============================] - 0s 2ms/step - loss: 0.2008 - accuracy: 0.9233\n",
            "Epoch 15/50\n",
            "38/38 [==============================] - 0s 1ms/step - loss: 0.1975 - accuracy: 0.9233\n",
            "Epoch 16/50\n",
            "38/38 [==============================] - 0s 2ms/step - loss: 0.1946 - accuracy: 0.9233\n",
            "Epoch 17/50\n",
            "38/38 [==============================] - 0s 2ms/step - loss: 0.1920 - accuracy: 0.9233\n",
            "Epoch 18/50\n",
            "38/38 [==============================] - 0s 2ms/step - loss: 0.1888 - accuracy: 0.9233\n",
            "Epoch 19/50\n",
            "38/38 [==============================] - 0s 2ms/step - loss: 0.1866 - accuracy: 0.9233\n",
            "Epoch 20/50\n",
            "38/38 [==============================] - 0s 1ms/step - loss: 0.1840 - accuracy: 0.9259\n",
            "Epoch 21/50\n",
            "38/38 [==============================] - 0s 1ms/step - loss: 0.1805 - accuracy: 0.9259\n",
            "Epoch 22/50\n",
            "38/38 [==============================] - 0s 2ms/step - loss: 0.1779 - accuracy: 0.9259\n",
            "Epoch 23/50\n",
            "38/38 [==============================] - 0s 2ms/step - loss: 0.1755 - accuracy: 0.9259\n",
            "Epoch 24/50\n",
            "38/38 [==============================] - 0s 2ms/step - loss: 0.1728 - accuracy: 0.9286\n",
            "Epoch 25/50\n",
            "38/38 [==============================] - 0s 1ms/step - loss: 0.1713 - accuracy: 0.9312\n",
            "Epoch 26/50\n",
            "38/38 [==============================] - 0s 2ms/step - loss: 0.1685 - accuracy: 0.9312\n",
            "Epoch 27/50\n",
            "38/38 [==============================] - 0s 1ms/step - loss: 0.1659 - accuracy: 0.9312\n",
            "Epoch 28/50\n",
            "38/38 [==============================] - 0s 2ms/step - loss: 0.1642 - accuracy: 0.9312\n",
            "Epoch 29/50\n",
            "38/38 [==============================] - 0s 2ms/step - loss: 0.1621 - accuracy: 0.9339\n",
            "Epoch 30/50\n",
            "38/38 [==============================] - 0s 2ms/step - loss: 0.1602 - accuracy: 0.9312\n",
            "Epoch 31/50\n",
            "38/38 [==============================] - 0s 2ms/step - loss: 0.1584 - accuracy: 0.9312\n",
            "Epoch 32/50\n",
            "38/38 [==============================] - 0s 2ms/step - loss: 0.1567 - accuracy: 0.9312\n",
            "Epoch 33/50\n",
            "38/38 [==============================] - 0s 2ms/step - loss: 0.1553 - accuracy: 0.9339\n",
            "Epoch 34/50\n",
            "38/38 [==============================] - 0s 2ms/step - loss: 0.1549 - accuracy: 0.9339\n",
            "Epoch 35/50\n",
            "38/38 [==============================] - 0s 2ms/step - loss: 0.1517 - accuracy: 0.9339\n",
            "Epoch 36/50\n",
            "38/38 [==============================] - 0s 2ms/step - loss: 0.1503 - accuracy: 0.9339\n",
            "Epoch 37/50\n",
            "38/38 [==============================] - 0s 2ms/step - loss: 0.1494 - accuracy: 0.9339\n",
            "Epoch 38/50\n",
            "38/38 [==============================] - 0s 2ms/step - loss: 0.1489 - accuracy: 0.9339\n",
            "Epoch 39/50\n",
            "38/38 [==============================] - 0s 2ms/step - loss: 0.1478 - accuracy: 0.9418\n",
            "Epoch 40/50\n",
            "38/38 [==============================] - 0s 1ms/step - loss: 0.1460 - accuracy: 0.9339\n",
            "Epoch 41/50\n",
            "38/38 [==============================] - 0s 1ms/step - loss: 0.1439 - accuracy: 0.9339\n",
            "Epoch 42/50\n",
            "38/38 [==============================] - 0s 2ms/step - loss: 0.1420 - accuracy: 0.9392\n",
            "Epoch 43/50\n",
            "38/38 [==============================] - 0s 1ms/step - loss: 0.1413 - accuracy: 0.9418\n",
            "Epoch 44/50\n",
            "38/38 [==============================] - 0s 1ms/step - loss: 0.1415 - accuracy: 0.9444\n",
            "Epoch 45/50\n",
            "38/38 [==============================] - 0s 2ms/step - loss: 0.1403 - accuracy: 0.9444\n",
            "Epoch 46/50\n",
            "38/38 [==============================] - 0s 2ms/step - loss: 0.1384 - accuracy: 0.9418\n",
            "Epoch 47/50\n",
            "38/38 [==============================] - 0s 2ms/step - loss: 0.1376 - accuracy: 0.9444\n",
            "Epoch 48/50\n",
            "38/38 [==============================] - 0s 2ms/step - loss: 0.1353 - accuracy: 0.9418\n",
            "Epoch 49/50\n",
            "38/38 [==============================] - 0s 2ms/step - loss: 0.1349 - accuracy: 0.9497\n",
            "Epoch 50/50\n",
            "38/38 [==============================] - 0s 2ms/step - loss: 0.1335 - accuracy: 0.9418\n",
            "\n",
            "\n",
            "\n",
            "6/6 [==============================] - 0s 2ms/step - loss: 0.2083 - accuracy: 0.8889\n",
            "Accuracy: 88.89\n"
          ]
        }
      ],
      "source": [
        "#ANN Model 2: 15 neurons 2 Layers\n",
        "\n",
        "# define the keras model\n",
        "ann2 = Sequential()\n",
        "ann2.add(Dense(14, input_dim=14, activation='relu'))\n",
        "ann2.add(Dense(1, activation='sigmoid'))\n",
        "\n",
        "# compile the keras model\n",
        "ann2.compile(loss='binary_crossentropy', optimizer='adam', metrics=['accuracy'])\n",
        "\n",
        "# fit the keras model on the dataset\n",
        "ann2.fit(X_train, y_train, epochs=50, batch_size=10)\n",
        "print(end='\\n\\n\\n')\n",
        "\n",
        "# evaluate the keras model\n",
        "_, accuracy = ann2.evaluate(X_test, y_test)\n",
        "print('Accuracy: %.2f' % (accuracy*100))\n"
      ]
    },
    {
      "cell_type": "code",
      "execution_count": 113,
      "metadata": {
        "colab": {
          "base_uri": "https://localhost:8080/"
        },
        "id": "4Y1MdFG7bGSj",
        "outputId": "299c468b-c0e6-4a7b-8ec8-c33aeda138b1"
      },
      "outputs": [
        {
          "output_type": "execute_result",
          "data": {
            "text/plain": [
              "array([[  6,  11],\n",
              "       [  6, 139]])"
            ]
          },
          "metadata": {},
          "execution_count": 113
        }
      ],
      "source": [
        "# make class predictions with the model with threshold > 0.5\n",
        "ann2Pred = (ann1.predict(X_test) > 0.5).astype(int)\n",
        "\n",
        "#Confusion Metrics\n",
        "confusion_matrix(y_test, ann2Pred)"
      ]
    },
    {
      "cell_type": "code",
      "source": [
        "#ROC\n",
        "fper, tper, thresholds = roc_curve(y_test, ann2Pred)\n",
        "plot_roc_curve(fper, tper)"
      ],
      "metadata": {
        "colab": {
          "base_uri": "https://localhost:8080/",
          "height": 295
        },
        "id": "S9XQxsXyKvud",
        "outputId": "4450e537-6bb0-453a-fce4-5a66df94764d"
      },
      "execution_count": 114,
      "outputs": [
        {
          "output_type": "display_data",
          "data": {
            "text/plain": [
              "<Figure size 432x288 with 1 Axes>"
            ],
            "image/png": "[encoded data removed]"
          },
          "metadata": {
            "needs_background": "light"
          }
        }
      ]
    },
    {
      "cell_type": "code",
      "source": [
        ""
      ],
      "metadata": {
        "id": "kJvWFJWeIifg"
      },
      "execution_count": null,
      "outputs": []
    },
    {
      "cell_type": "code",
      "execution_count": 115,
      "metadata": {
        "colab": {
          "base_uri": "https://localhost:8080/"
        },
        "id": "dEq9t78BPHy8",
        "outputId": "47bc8810-dc09-4239-f376-8de7001f5798"
      },
      "outputs": [
        {
          "output_type": "stream",
          "name": "stdout",
          "text": [
            "Epoch 1/50\n",
            "38/38 [==============================] - 1s 2ms/step - loss: 0.7169 - accuracy: 0.3704\n",
            "Epoch 2/50\n",
            "38/38 [==============================] - 0s 1ms/step - loss: 0.5417 - accuracy: 0.9233\n",
            "Epoch 3/50\n",
            "38/38 [==============================] - 0s 2ms/step - loss: 0.3888 - accuracy: 0.9233\n",
            "Epoch 4/50\n",
            "38/38 [==============================] - 0s 1ms/step - loss: 0.3089 - accuracy: 0.9233\n",
            "Epoch 5/50\n",
            "38/38 [==============================] - 0s 2ms/step - loss: 0.2846 - accuracy: 0.9233\n",
            "Epoch 6/50\n",
            "38/38 [==============================] - 0s 1ms/step - loss: 0.2751 - accuracy: 0.9233\n",
            "Epoch 7/50\n",
            "38/38 [==============================] - 0s 1ms/step - loss: 0.2714 - accuracy: 0.9233\n",
            "Epoch 8/50\n",
            "38/38 [==============================] - 0s 1ms/step - loss: 0.2691 - accuracy: 0.9233\n",
            "Epoch 9/50\n",
            "38/38 [==============================] - 0s 2ms/step - loss: 0.2675 - accuracy: 0.9233\n",
            "Epoch 10/50\n",
            "38/38 [==============================] - 0s 2ms/step - loss: 0.2657 - accuracy: 0.9233\n",
            "Epoch 11/50\n",
            "38/38 [==============================] - 0s 2ms/step - loss: 0.2638 - accuracy: 0.9233\n",
            "Epoch 12/50\n",
            "38/38 [==============================] - 0s 2ms/step - loss: 0.2615 - accuracy: 0.9233\n",
            "Epoch 13/50\n",
            "38/38 [==============================] - 0s 2ms/step - loss: 0.2578 - accuracy: 0.9233\n",
            "Epoch 14/50\n",
            "38/38 [==============================] - 0s 2ms/step - loss: 0.2535 - accuracy: 0.9233\n",
            "Epoch 15/50\n",
            "38/38 [==============================] - 0s 2ms/step - loss: 0.2489 - accuracy: 0.9233\n",
            "Epoch 16/50\n",
            "38/38 [==============================] - 0s 2ms/step - loss: 0.2424 - accuracy: 0.9233\n",
            "Epoch 17/50\n",
            "38/38 [==============================] - 0s 1ms/step - loss: 0.2341 - accuracy: 0.9233\n",
            "Epoch 18/50\n",
            "38/38 [==============================] - 0s 1ms/step - loss: 0.2259 - accuracy: 0.9233\n",
            "Epoch 19/50\n",
            "38/38 [==============================] - 0s 1ms/step - loss: 0.2187 - accuracy: 0.9233\n",
            "Epoch 20/50\n",
            "38/38 [==============================] - 0s 2ms/step - loss: 0.2094 - accuracy: 0.9233\n",
            "Epoch 21/50\n",
            "38/38 [==============================] - 0s 1ms/step - loss: 0.2045 - accuracy: 0.9233\n",
            "Epoch 22/50\n",
            "38/38 [==============================] - 0s 1ms/step - loss: 0.1927 - accuracy: 0.9233\n",
            "Epoch 23/50\n",
            "38/38 [==============================] - 0s 2ms/step - loss: 0.1855 - accuracy: 0.9233\n",
            "Epoch 24/50\n",
            "38/38 [==============================] - 0s 1ms/step - loss: 0.1762 - accuracy: 0.9233\n",
            "Epoch 25/50\n",
            "38/38 [==============================] - 0s 1ms/step - loss: 0.1684 - accuracy: 0.9233\n",
            "Epoch 26/50\n",
            "38/38 [==============================] - 0s 2ms/step - loss: 0.1644 - accuracy: 0.9233\n",
            "Epoch 27/50\n",
            "38/38 [==============================] - 0s 1ms/step - loss: 0.1554 - accuracy: 0.9286\n",
            "Epoch 28/50\n",
            "38/38 [==============================] - 0s 1ms/step - loss: 0.1516 - accuracy: 0.9312\n",
            "Epoch 29/50\n",
            "38/38 [==============================] - 0s 2ms/step - loss: 0.1452 - accuracy: 0.9392\n",
            "Epoch 30/50\n",
            "38/38 [==============================] - 0s 1ms/step - loss: 0.1437 - accuracy: 0.9392\n",
            "Epoch 31/50\n",
            "38/38 [==============================] - 0s 1ms/step - loss: 0.1381 - accuracy: 0.9497\n",
            "Epoch 32/50\n",
            "38/38 [==============================] - 0s 1ms/step - loss: 0.1371 - accuracy: 0.9471\n",
            "Epoch 33/50\n",
            "38/38 [==============================] - 0s 2ms/step - loss: 0.1332 - accuracy: 0.9392\n",
            "Epoch 34/50\n",
            "38/38 [==============================] - 0s 1ms/step - loss: 0.1282 - accuracy: 0.9497\n",
            "Epoch 35/50\n",
            "38/38 [==============================] - 0s 1ms/step - loss: 0.1248 - accuracy: 0.9524\n",
            "Epoch 36/50\n",
            "38/38 [==============================] - 0s 1ms/step - loss: 0.1215 - accuracy: 0.9550\n",
            "Epoch 37/50\n",
            "38/38 [==============================] - 0s 2ms/step - loss: 0.1184 - accuracy: 0.9524\n",
            "Epoch 38/50\n",
            "38/38 [==============================] - 0s 1ms/step - loss: 0.1157 - accuracy: 0.9577\n",
            "Epoch 39/50\n",
            "38/38 [==============================] - 0s 2ms/step - loss: 0.1132 - accuracy: 0.9683\n",
            "Epoch 40/50\n",
            "38/38 [==============================] - 0s 1ms/step - loss: 0.1149 - accuracy: 0.9577\n",
            "Epoch 41/50\n",
            "38/38 [==============================] - 0s 1ms/step - loss: 0.1094 - accuracy: 0.9630\n",
            "Epoch 42/50\n",
            "38/38 [==============================] - 0s 2ms/step - loss: 0.1095 - accuracy: 0.9709\n",
            "Epoch 43/50\n",
            "38/38 [==============================] - 0s 1ms/step - loss: 0.1114 - accuracy: 0.9550\n",
            "Epoch 44/50\n",
            "38/38 [==============================] - 0s 2ms/step - loss: 0.1056 - accuracy: 0.9630\n",
            "Epoch 45/50\n",
            "38/38 [==============================] - 0s 2ms/step - loss: 0.1026 - accuracy: 0.9735\n",
            "Epoch 46/50\n",
            "38/38 [==============================] - 0s 2ms/step - loss: 0.1038 - accuracy: 0.9656\n",
            "Epoch 47/50\n",
            "38/38 [==============================] - 0s 2ms/step - loss: 0.1002 - accuracy: 0.9709\n",
            "Epoch 48/50\n",
            "38/38 [==============================] - 0s 2ms/step - loss: 0.0969 - accuracy: 0.9762\n",
            "Epoch 49/50\n",
            "38/38 [==============================] - 0s 2ms/step - loss: 0.0970 - accuracy: 0.9683\n",
            "Epoch 50/50\n",
            "38/38 [==============================] - 0s 2ms/step - loss: 0.0978 - accuracy: 0.9735\n",
            "\n",
            "\n",
            "\n",
            "6/6 [==============================] - 0s 2ms/step - loss: 0.1990 - accuracy: 0.9136\n",
            "Accuracy: 91.36\n"
          ]
        }
      ],
      "source": [
        "#ANN Model 3: 43 neurons 4 Layers\n",
        "\n",
        "# define the keras model\n",
        "ann3 = Sequential()\n",
        "ann3.add(Dense(20, input_dim=14, activation='relu'))\n",
        "ann3.add(Dense(12, activation='relu'))\n",
        "ann3.add(Dense(10, activation='sigmoid'))\n",
        "ann3.add(Dense(1, activation='sigmoid'))\n",
        "\n",
        "# compile the keras model\n",
        "ann3.compile(loss='binary_crossentropy', optimizer='adam', metrics=['accuracy'])\n",
        "\n",
        "# fit the keras model on the dataset\n",
        "ann3.fit(X_train, y_train, epochs=50, batch_size=10)\n",
        "print(end='\\n\\n\\n')\n",
        "\n",
        "# evaluate the keras model\n",
        "_, accuracy = ann3.evaluate(X_test, y_test)\n",
        "print('Accuracy: %.2f' % (accuracy*100))\n"
      ]
    },
    {
      "cell_type": "code",
      "execution_count": 116,
      "metadata": {
        "colab": {
          "base_uri": "https://localhost:8080/"
        },
        "id": "ckcR36KvT-Jt",
        "outputId": "f0ba83ce-f983-4fe6-8fe7-c732e0db2165"
      },
      "outputs": [
        {
          "output_type": "execute_result",
          "data": {
            "text/plain": [
              "array([[  6,  11],\n",
              "       [  6, 139]])"
            ]
          },
          "metadata": {},
          "execution_count": 116
        }
      ],
      "source": [
        "# make class predictions with the model with threshold > 0.5\n",
        "ann3Pred = (ann1.predict(X_test) > 0.5).astype(int)\n",
        "\n",
        "#Confusion Metrics\n",
        "confusion_matrix(y_test, ann3Pred)"
      ]
    },
    {
      "cell_type": "code",
      "source": [
        "#ROC\n",
        "fper, tper, thresholds = roc_curve(y_test, ann3Pred)\n",
        "plot_roc_curve(fper, tper)"
      ],
      "metadata": {
        "colab": {
          "base_uri": "https://localhost:8080/",
          "height": 295
        },
        "id": "0rjwbw1UMOM4",
        "outputId": "bbed8f9e-66e8-44bd-b631-a8c62d079b2d"
      },
      "execution_count": 117,
      "outputs": [
        {
          "output_type": "display_data",
          "data": {
            "text/plain": [
              "<Figure size 432x288 with 1 Axes>"
            ],
            "image/png": "[encoded data removed]"
          },
          "metadata": {
            "needs_background": "light"
          }
        }
      ]
    },
    {
      "cell_type": "markdown",
      "source": [
        "We can tune the best of the 3 ANN model and have a beeter model off it, but we are not asked to do so"
      ],
      "metadata": {
        "id": "9MyJtZXoVYd8"
      }
    }
  ],
  "metadata": {
    "colab": {
      "name": "FinalProject5290_LogisticReg_RandomForest_ANN.ipynb",
      "provenance": [],
      "include_colab_link": true
    },
    "kernelspec": {
      "display_name": "Python 3",
      "language": "python",
      "name": "python3"
    },
    "language_info": {
      "codemirror_mode": {
        "name": "ipython",
        "version": 3
      },
      "file_extension": ".py",
      "mimetype": "text/x-python",
      "name": "python",
      "nbconvert_exporter": "python",
      "pygments_lexer": "ipython3",
      "version": "3.8.5"
    }
  },
  "nbformat": 4,
  "nbformat_minor": 0
}