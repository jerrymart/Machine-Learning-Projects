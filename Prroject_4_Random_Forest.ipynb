{
  "cells": [
    {
      "cell_type": "markdown",
      "metadata": {
        "id": "view-in-github",
        "colab_type": "text"
      },
      "source": [
        "<a href=\"https://colab.research.google.com/github/jerrymart/Machine-Learning-Projects/blob/main/Prroject_4_Random_Forest.ipynb\" target=\"_parent\"><img src=\"https://colab.research.google.com/assets/colab-badge.svg\" alt=\"Open In Colab\"/></a>"
      ]
    },
    {
      "cell_type": "markdown",
      "metadata": {
        "id": "6JMnVrfUMUqZ"
      },
      "source": [
        "### Team Members:\n",
        "\n",
        "##### Joseph Mart (Project Lead)- A00732897\n",
        "##### Callitus Obunadike - A00756855"
      ]
    },
    {
      "cell_type": "code",
      "execution_count": null,
      "metadata": {
        "id": "CWHtbR9BMUqf"
      },
      "outputs": [],
      "source": [
        ""
      ]
    },
    {
      "cell_type": "markdown",
      "metadata": {
        "id": "4GBAGyg2MUqg"
      },
      "source": [
        "### Problem Statement\n",
        "\n",
        "In this project, we consider the spam email detection problem. The data set is available from\n",
        "several places. One convenient way to access it is through R package kernlab. The objective\n",
        "is to apply the Random Forest predictive model in determining whether an email is a regular\n",
        "or spam email.\n",
        "\n",
        "Thus this is a classication problem with binary responses. Please follow the specic steps\n",
        "listed below to conduct the analysis:"
      ]
    },
    {
      "cell_type": "markdown",
      "metadata": {
        "id": "7834tAyJMUqh"
      },
      "source": [
        "### Load Libraries"
      ]
    },
    {
      "cell_type": "code",
      "execution_count": 1,
      "metadata": {
        "id": "kNxPXqORMUqi"
      },
      "outputs": [],
      "source": [
        "import numpy as np \n",
        "import pandas as pd\n",
        "from matplotlib import pyplot as plt\n",
        "import seaborn as sns\n",
        "\n",
        "%matplotlib inline\n",
        "import warnings\n",
        "warnings.filterwarnings('ignore')\n",
        "\n",
        "from sklearn.preprocessing import MinMaxScaler\n",
        "from sklearn.model_selection import train_test_split\n",
        "from sklearn import tree\n",
        "from sklearn.ensemble import RandomForestClassifier\n",
        "from sklearn.metrics import accuracy_score, confusion_matrix, r2_score"
      ]
    },
    {
      "cell_type": "code",
      "source": [
        ""
      ],
      "metadata": {
        "id": "Lb2oPiHiMl-b"
      },
      "execution_count": null,
      "outputs": []
    },
    {
      "cell_type": "markdown",
      "metadata": {
        "id": "RujuZW52MUqj"
      },
      "source": [
        "### (a)Load the data"
      ]
    },
    {
      "cell_type": "code",
      "execution_count": 3,
      "metadata": {
        "id": "iqOM1o4TMUqk"
      },
      "outputs": [],
      "source": [
        "df = pd.read_csv('/content/Spamdataset.csv') "
      ]
    },
    {
      "cell_type": "code",
      "execution_count": null,
      "metadata": {
        "id": "qzqolGUBMUql",
        "outputId": "711c5b89-1bc3-4ef6-9584-953ccbdac022"
      },
      "outputs": [
        {
          "data": {
            "text/html": [
              "<div>\n",
              "<style scoped>\n",
              "    .dataframe tbody tr th:only-of-type {\n",
              "        vertical-align: middle;\n",
              "    }\n",
              "\n",
              "    .dataframe tbody tr th {\n",
              "        vertical-align: top;\n",
              "    }\n",
              "\n",
              "    .dataframe thead th {\n",
              "        text-align: right;\n",
              "    }\n",
              "</style>\n",
              "<table border=\"1\" class=\"dataframe\">\n",
              "  <thead>\n",
              "    <tr style=\"text-align: right;\">\n",
              "      <th></th>\n",
              "      <th>age</th>\n",
              "      <th>sex</th>\n",
              "      <th>cp</th>\n",
              "      <th>trestbps</th>\n",
              "      <th>chol</th>\n",
              "      <th>fbs</th>\n",
              "      <th>restecg</th>\n",
              "      <th>thalach</th>\n",
              "      <th>exang</th>\n",
              "      <th>oldpeak</th>\n",
              "      <th>slope</th>\n",
              "      <th>ca</th>\n",
              "      <th>thal</th>\n",
              "      <th>num</th>\n",
              "    </tr>\n",
              "  </thead>\n",
              "  <tbody>\n",
              "    <tr>\n",
              "      <th>0</th>\n",
              "      <td>63</td>\n",
              "      <td>1</td>\n",
              "      <td>1</td>\n",
              "      <td>145</td>\n",
              "      <td>233</td>\n",
              "      <td>1</td>\n",
              "      <td>2</td>\n",
              "      <td>150</td>\n",
              "      <td>0</td>\n",
              "      <td>2.3</td>\n",
              "      <td>3</td>\n",
              "      <td>0.0</td>\n",
              "      <td>6.0</td>\n",
              "      <td>0</td>\n",
              "    </tr>\n",
              "    <tr>\n",
              "      <th>1</th>\n",
              "      <td>67</td>\n",
              "      <td>1</td>\n",
              "      <td>4</td>\n",
              "      <td>160</td>\n",
              "      <td>286</td>\n",
              "      <td>0</td>\n",
              "      <td>2</td>\n",
              "      <td>108</td>\n",
              "      <td>1</td>\n",
              "      <td>1.5</td>\n",
              "      <td>2</td>\n",
              "      <td>3.0</td>\n",
              "      <td>3.0</td>\n",
              "      <td>2</td>\n",
              "    </tr>\n",
              "    <tr>\n",
              "      <th>2</th>\n",
              "      <td>67</td>\n",
              "      <td>1</td>\n",
              "      <td>4</td>\n",
              "      <td>120</td>\n",
              "      <td>229</td>\n",
              "      <td>0</td>\n",
              "      <td>2</td>\n",
              "      <td>129</td>\n",
              "      <td>1</td>\n",
              "      <td>2.6</td>\n",
              "      <td>2</td>\n",
              "      <td>2.0</td>\n",
              "      <td>7.0</td>\n",
              "      <td>1</td>\n",
              "    </tr>\n",
              "    <tr>\n",
              "      <th>3</th>\n",
              "      <td>37</td>\n",
              "      <td>1</td>\n",
              "      <td>3</td>\n",
              "      <td>130</td>\n",
              "      <td>250</td>\n",
              "      <td>0</td>\n",
              "      <td>0</td>\n",
              "      <td>187</td>\n",
              "      <td>0</td>\n",
              "      <td>3.5</td>\n",
              "      <td>3</td>\n",
              "      <td>0.0</td>\n",
              "      <td>3.0</td>\n",
              "      <td>0</td>\n",
              "    </tr>\n",
              "    <tr>\n",
              "      <th>4</th>\n",
              "      <td>41</td>\n",
              "      <td>0</td>\n",
              "      <td>2</td>\n",
              "      <td>130</td>\n",
              "      <td>204</td>\n",
              "      <td>0</td>\n",
              "      <td>2</td>\n",
              "      <td>172</td>\n",
              "      <td>0</td>\n",
              "      <td>1.4</td>\n",
              "      <td>1</td>\n",
              "      <td>0.0</td>\n",
              "      <td>3.0</td>\n",
              "      <td>0</td>\n",
              "    </tr>\n",
              "  </tbody>\n",
              "</table>\n",
              "</div>"
            ],
            "text/plain": [
              "   age  sex  cp  trestbps  chol  fbs  restecg  thalach  exang  oldpeak  slope  \\\n",
              "0   63    1   1       145   233    1        2      150      0      2.3      3   \n",
              "1   67    1   4       160   286    0        2      108      1      1.5      2   \n",
              "2   67    1   4       120   229    0        2      129      1      2.6      2   \n",
              "3   37    1   3       130   250    0        0      187      0      3.5      3   \n",
              "4   41    0   2       130   204    0        2      172      0      1.4      1   \n",
              "\n",
              "    ca  thal  num  \n",
              "0  0.0   6.0    0  \n",
              "1  3.0   3.0    2  \n",
              "2  2.0   7.0    1  \n",
              "3  0.0   3.0    0  \n",
              "4  0.0   3.0    0  "
            ]
          },
          "execution_count": 5,
          "metadata": {},
          "output_type": "execute_result"
        }
      ],
      "source": [
        "#Check top 5 rows\n",
        "df.head()"
      ]
    },
    {
      "cell_type": "code",
      "execution_count": null,
      "metadata": {
        "id": "DwKtpTdCMUqn"
      },
      "outputs": [],
      "source": [
        ""
      ]
    },
    {
      "cell_type": "markdown",
      "metadata": {
        "id": "ib02Lsf8MUqn"
      },
      "source": [
        "###### (b)Take a look at the dimension of the data. Inspect if there are missing values and, if so, impute them."
      ]
    },
    {
      "cell_type": "code",
      "execution_count": null,
      "metadata": {
        "id": "zYScSpytMUqo",
        "outputId": "ba351406-bcfb-4d96-8e00-1eaec437effa"
      },
      "outputs": [
        {
          "data": {
            "text/plain": [
              "(303, 14)"
            ]
          },
          "execution_count": 7,
          "metadata": {},
          "output_type": "execute_result"
        }
      ],
      "source": [
        "#dimension of data\n",
        "\n",
        "df.shape"
      ]
    },
    {
      "cell_type": "code",
      "execution_count": null,
      "metadata": {
        "id": "tfeLI9EfMUqp",
        "outputId": "fd57cd30-bb59-45f4-85ac-bc0202f0e516"
      },
      "outputs": [
        {
          "data": {
            "text/plain": [
              "age         0\n",
              "sex         0\n",
              "cp          0\n",
              "trestbps    0\n",
              "chol        0\n",
              "fbs         0\n",
              "restecg     0\n",
              "thalach     0\n",
              "exang       0\n",
              "oldpeak     0\n",
              "slope       0\n",
              "ca          4\n",
              "thal        2\n",
              "num         0\n",
              "dtype: int64"
            ]
          },
          "execution_count": 9,
          "metadata": {},
          "output_type": "execute_result"
        }
      ],
      "source": [
        "# Checking for missing values\n",
        "\n",
        "df.isnull().sum()"
      ]
    },
    {
      "cell_type": "code",
      "execution_count": null,
      "metadata": {
        "id": "cH2dnvK4MUqq",
        "outputId": "c3a4c3a6-3848-4f80-d034-a69acd92beae"
      },
      "outputs": [
        {
          "data": {
            "text/html": [
              "<div>\n",
              "<style scoped>\n",
              "    .dataframe tbody tr th:only-of-type {\n",
              "        vertical-align: middle;\n",
              "    }\n",
              "\n",
              "    .dataframe tbody tr th {\n",
              "        vertical-align: top;\n",
              "    }\n",
              "\n",
              "    .dataframe thead th {\n",
              "        text-align: right;\n",
              "    }\n",
              "</style>\n",
              "<table border=\"1\" class=\"dataframe\">\n",
              "  <thead>\n",
              "    <tr style=\"text-align: right;\">\n",
              "      <th></th>\n",
              "      <th>age</th>\n",
              "      <th>sex</th>\n",
              "      <th>cp</th>\n",
              "      <th>trestbps</th>\n",
              "      <th>chol</th>\n",
              "      <th>fbs</th>\n",
              "      <th>restecg</th>\n",
              "      <th>thalach</th>\n",
              "      <th>exang</th>\n",
              "      <th>oldpeak</th>\n",
              "      <th>slope</th>\n",
              "      <th>ca</th>\n",
              "      <th>thal</th>\n",
              "      <th>num</th>\n",
              "    </tr>\n",
              "  </thead>\n",
              "  <tbody>\n",
              "    <tr>\n",
              "      <th>166</th>\n",
              "      <td>52</td>\n",
              "      <td>1</td>\n",
              "      <td>3</td>\n",
              "      <td>138</td>\n",
              "      <td>223</td>\n",
              "      <td>0</td>\n",
              "      <td>0</td>\n",
              "      <td>169</td>\n",
              "      <td>0</td>\n",
              "      <td>0.0</td>\n",
              "      <td>1</td>\n",
              "      <td>NaN</td>\n",
              "      <td>3.0</td>\n",
              "      <td>0</td>\n",
              "    </tr>\n",
              "    <tr>\n",
              "      <th>192</th>\n",
              "      <td>43</td>\n",
              "      <td>1</td>\n",
              "      <td>4</td>\n",
              "      <td>132</td>\n",
              "      <td>247</td>\n",
              "      <td>1</td>\n",
              "      <td>2</td>\n",
              "      <td>143</td>\n",
              "      <td>1</td>\n",
              "      <td>0.1</td>\n",
              "      <td>2</td>\n",
              "      <td>NaN</td>\n",
              "      <td>7.0</td>\n",
              "      <td>1</td>\n",
              "    </tr>\n",
              "    <tr>\n",
              "      <th>287</th>\n",
              "      <td>58</td>\n",
              "      <td>1</td>\n",
              "      <td>2</td>\n",
              "      <td>125</td>\n",
              "      <td>220</td>\n",
              "      <td>0</td>\n",
              "      <td>0</td>\n",
              "      <td>144</td>\n",
              "      <td>0</td>\n",
              "      <td>0.4</td>\n",
              "      <td>2</td>\n",
              "      <td>NaN</td>\n",
              "      <td>7.0</td>\n",
              "      <td>0</td>\n",
              "    </tr>\n",
              "    <tr>\n",
              "      <th>302</th>\n",
              "      <td>38</td>\n",
              "      <td>1</td>\n",
              "      <td>3</td>\n",
              "      <td>138</td>\n",
              "      <td>175</td>\n",
              "      <td>0</td>\n",
              "      <td>0</td>\n",
              "      <td>173</td>\n",
              "      <td>0</td>\n",
              "      <td>0.0</td>\n",
              "      <td>1</td>\n",
              "      <td>NaN</td>\n",
              "      <td>3.0</td>\n",
              "      <td>0</td>\n",
              "    </tr>\n",
              "  </tbody>\n",
              "</table>\n",
              "</div>"
            ],
            "text/plain": [
              "     age  sex  cp  trestbps  chol  fbs  restecg  thalach  exang  oldpeak  \\\n",
              "166   52    1   3       138   223    0        0      169      0      0.0   \n",
              "192   43    1   4       132   247    1        2      143      1      0.1   \n",
              "287   58    1   2       125   220    0        0      144      0      0.4   \n",
              "302   38    1   3       138   175    0        0      173      0      0.0   \n",
              "\n",
              "     slope  ca  thal  num  \n",
              "166      1 NaN   3.0    0  \n",
              "192      2 NaN   7.0    1  \n",
              "287      2 NaN   7.0    0  \n",
              "302      1 NaN   3.0    0  "
            ]
          },
          "execution_count": 15,
          "metadata": {},
          "output_type": "execute_result"
        }
      ],
      "source": [
        "# Visualize the NULL observations\n",
        "\n",
        "df[df['ca'].isnull()]"
      ]
    },
    {
      "cell_type": "markdown",
      "metadata": {
        "id": "8kWEF1eDMUqr"
      },
      "source": [
        "thal and ca have missing values since both are categorical it is better to replace the NAs by fillforward or fillbackward\n",
        "since replacing NAs for them with mean might give a decimal values"
      ]
    },
    {
      "cell_type": "code",
      "execution_count": null,
      "metadata": {
        "id": "ghnSGcqrMUqs",
        "outputId": "ef03e6ca-29d5-45de-aa95-40794de090f9"
      },
      "outputs": [
        {
          "name": "stdout",
          "output_type": "stream",
          "text": [
            "0      0.0\n",
            "1      3.0\n",
            "2      2.0\n",
            "3      0.0\n",
            "4      0.0\n",
            "      ... \n",
            "298    0.0\n",
            "299    2.0\n",
            "300    1.0\n",
            "301    1.0\n",
            "302    NaN\n",
            "Name: ca, Length: 303, dtype: float64\n",
            "\n",
            "0      6.0\n",
            "1      3.0\n",
            "2      7.0\n",
            "3      3.0\n",
            "4      3.0\n",
            "      ... \n",
            "298    7.0\n",
            "299    7.0\n",
            "300    7.0\n",
            "301    3.0\n",
            "302    3.0\n",
            "Name: thal, Length: 303, dtype: float64\n"
          ]
        }
      ],
      "source": [
        "print(df['ca'], end='\\n\\n')\n",
        "\n",
        "print(df['thal'])"
      ]
    },
    {
      "cell_type": "code",
      "execution_count": null,
      "metadata": {
        "id": "6j_Qq-iQMUqt"
      },
      "outputs": [],
      "source": [
        "#Fill NA\n",
        "\n",
        "df.fillna(method='ffill', axis=0, inplace=True)"
      ]
    },
    {
      "cell_type": "code",
      "execution_count": null,
      "metadata": {
        "id": "6a0el3BjMUqu",
        "outputId": "5a09325c-c465-40aa-8392-c12d2a3236a3"
      },
      "outputs": [
        {
          "data": {
            "text/plain": [
              "age         0\n",
              "sex         0\n",
              "cp          0\n",
              "trestbps    0\n",
              "chol        0\n",
              "fbs         0\n",
              "restecg     0\n",
              "thalach     0\n",
              "exang       0\n",
              "oldpeak     0\n",
              "slope       0\n",
              "ca          0\n",
              "thal        0\n",
              "num         0\n",
              "dtype: int64"
            ]
          },
          "execution_count": 4,
          "metadata": {},
          "output_type": "execute_result"
        }
      ],
      "source": [
        "#Check again for NAs\n",
        "df.isnull().sum()"
      ]
    },
    {
      "cell_type": "code",
      "execution_count": null,
      "metadata": {
        "id": "8sKhK0B4MUqv"
      },
      "outputs": [],
      "source": [
        ""
      ]
    },
    {
      "cell_type": "markdown",
      "metadata": {
        "id": "aPMJDTj6MUqv"
      },
      "source": [
        "###### (c) Explore data using numerical and graphical EDA techniques. For example, what is the percentage of spam emails?  What are types (categorical or continuous) of the inputs?  Are there any peculiar features for any variable that we should pay attention to? Don't present any R output for this part unless really necessary.  Instead, summarize your findings in concise language."
      ]
    },
    {
      "cell_type": "code",
      "execution_count": null,
      "metadata": {
        "id": "utbyjapRMUqw",
        "outputId": "d9d0267c-b2cd-4473-a256-0290d9b06aad"
      },
      "outputs": [
        {
          "name": "stdout",
          "output_type": "stream",
          "text": [
            "The number of values for feature age :41\n",
            "The number of values for feature sex :2 -- [0 1]\n",
            "The number of values for feature cp :4 -- [1 2 3 4]\n",
            "The number of values for feature trestbps :50\n",
            "The number of values for feature chol :152\n",
            "The number of values for feature fbs :2 -- [0 1]\n",
            "The number of values for feature restecg :3 -- [0 1 2]\n",
            "The number of values for feature thalach :91\n",
            "The number of values for feature exang :2 -- [0 1]\n",
            "The number of values for feature oldpeak :40\n",
            "The number of values for feature slope :3 -- [1 2 3]\n",
            "The number of values for feature ca :5 -- [ 0.  1.  2.  3. nan]\n",
            "The number of values for feature thal :4 -- [ 3.  6.  7. nan]\n",
            "The number of values for feature num :5 -- [0 1 2 3 4]\n"
          ]
        }
      ],
      "source": [
        "# Investigate all the elements whithin each Feature \n",
        "\n",
        "for column in df:\n",
        "    unique_vals = np.unique(df[column])\n",
        "    num_of_values = len(unique_vals)\n",
        "    if num_of_values < 12:\n",
        "        print('The number of values for feature {} :{} -- {}'.format(column, num_of_values,unique_vals))\n",
        "    else:\n",
        "        print('The number of values for feature {} :{}'.format(column, num_of_values))"
      ]
    },
    {
      "cell_type": "markdown",
      "metadata": {
        "id": "QXYTeJ2BMUqw"
      },
      "source": [
        "What are types (categorical or continuous) of the inputs?\n",
        "\n",
        "The following features are categorical: sex, cp, fbs, restecg, exang, ca, thal, num while the other features are continuos"
      ]
    },
    {
      "cell_type": "code",
      "execution_count": null,
      "metadata": {
        "id": "36foEJepMUqx"
      },
      "outputs": [],
      "source": [
        ""
      ]
    },
    {
      "cell_type": "markdown",
      "metadata": {
        "id": "sxARdZtUMUqx"
      },
      "source": [
        "###### Are there any peculiar features for any variable that we should pay attention to?"
      ]
    },
    {
      "cell_type": "code",
      "execution_count": null,
      "metadata": {
        "id": "_GZ_V7gnMUqy",
        "outputId": "0d599cea-46b0-497e-bf59-a047ea14f76e"
      },
      "outputs": [
        {
          "data": {
            "text/plain": [
              "<AxesSubplot:xlabel='exang', ylabel='count'>"
            ]
          },
          "execution_count": 23,
          "metadata": {},
          "output_type": "execute_result"
        },
        {
          "data": {
            "image/png": "[encoded data removed]",
            "text/plain": [
              "<Figure size 432x288 with 1 Axes>"
            ]
          },
          "metadata": {
            "needs_background": "light"
          },
          "output_type": "display_data"
        }
      ],
      "source": [
        "#Response Balancesness :  frequency distribution\n",
        "\n",
        "sns.countplot(data=df,x='exang')"
      ]
    },
    {
      "cell_type": "markdown",
      "metadata": {
        "id": "Hr1n2BKEMUq1"
      },
      "source": [
        "The response is not balanced, hence we should expect most of our correct predictions to be True Positive than True Negative for the no spam category"
      ]
    },
    {
      "cell_type": "markdown",
      "metadata": {
        "id": "_eLM6m3XMUq2"
      },
      "source": [
        "#### Explore the associations between Class and other attributes."
      ]
    },
    {
      "cell_type": "code",
      "execution_count": null,
      "metadata": {
        "id": "h7T1_VuEMUq2",
        "outputId": "698af8f0-69c8-4615-b0d9-11bf908179bd"
      },
      "outputs": [
        {
          "data": {
            "image/png": "[encoded data removed]",
            "text/plain": [
              "<Figure size 1080x720 with 12 Axes>"
            ]
          },
          "metadata": {
            "needs_background": "light"
          },
          "output_type": "display_data"
        }
      ],
      "source": [
        "fig,axs = plt.subplots(4,3, figsize = (15,10))\n",
        "\n",
        "sns.barplot(data=df,x ='exang' ,y=\"age\",  color=\"skyblue\", ax=axs[0, 0])\n",
        "sns.barplot(data=df, x ='exang', y=\"sex\", color=\"olive\", ax=axs[0, 1])\n",
        "sns.barplot(data=df, x ='exang', y=\"cp\", color=\"gold\", ax=axs[0, 2])\n",
        "sns.barplot(data=df, x ='exang', y=\"trestbps\",color=\"teal\", ax=axs[1, 0])\n",
        "sns.barplot(data=df, x ='exang', y=\"chol\",color=\"teal\", ax=axs[1, 1])\n",
        "sns.barplot(data=df, x ='exang', y=\"fbs\", color=\"blue\", ax=axs[1, 2])\n",
        "sns.barplot(data=df, x ='exang', y=\"restecg\", color=\"purple\", ax=axs[2,0])\n",
        "sns.barplot(data=df, x ='exang', y=\"thalach\", color=\"purple\", ax=axs[2,1])\n",
        "sns.barplot(data=df, x ='exang', y=\"oldpeak\", color=\"purple\", ax=axs[2,2])\n",
        "sns.barplot(data=df, x ='exang', y=\"slope\", color=\"purple\", ax=axs[3,0])\n",
        "sns.barplot(data=df, x ='exang', y=\"ca\", color=\"purple\", ax=axs[3,1])\n",
        "sns.barplot(data=df, x ='exang', y=\"thal\", color=\"purple\", ax=axs[3,2])\n",
        "\n",
        "fig.tight_layout()"
      ]
    },
    {
      "cell_type": "markdown",
      "metadata": {
        "id": "z5HVGJ56MUq3"
      },
      "source": [
        "##### Investigating Multicolinearity"
      ]
    },
    {
      "cell_type": "code",
      "execution_count": null,
      "metadata": {
        "id": "ZyKF20onMUq4"
      },
      "outputs": [],
      "source": [
        "#Remove Target Variable\n",
        "\n",
        "dfcor = df.drop(columns=['exang'])"
      ]
    },
    {
      "cell_type": "code",
      "execution_count": null,
      "metadata": {
        "id": "cH9NhfypMUq4",
        "outputId": "1fced7c2-2b6e-4025-d2f4-d2024bf95732"
      },
      "outputs": [
        {
          "data": {
            "image/png": "[encoded data removed]",
            "text/plain": [
              "<Figure size 1080x720 with 2 Axes>"
            ]
          },
          "metadata": {
            "needs_background": "light"
          },
          "output_type": "display_data"
        }
      ],
      "source": [
        "#Correlation matrix\n",
        "plt.figure(figsize=(15,10)) #Set figure size\n",
        "\n",
        "sns.heatmap(dfcor.corr(), annot=True)\n",
        "\n",
        "plt.show()"
      ]
    },
    {
      "cell_type": "code",
      "execution_count": null,
      "metadata": {
        "id": "-aeIDXZpMUq5",
        "outputId": "be19f82c-d676-4ae0-97a9-65399876cc2e"
      },
      "outputs": [
        {
          "name": "stdout",
          "output_type": "stream",
          "text": [
            "No Multicolinearity found in dataset\n"
          ]
        }
      ],
      "source": [
        "correlatedColumns = []\n",
        "corr = dfcor.corr()\n",
        "indices = corr.index\n",
        "columns = corr.columns\n",
        "posthreshold = 0.8\n",
        "negthreshold = -0.8\n",
        "\n",
        "for c in columns:\n",
        "    for r in indices:\n",
        "        if c != r and (corr[c][r] > posthreshold or corr[c][r] < negthreshold):\n",
        "            correlatedColumns.append({\"column\" : c , \"row\" : r , \"val\" :corr[c][r] })\n",
        "            \n",
        "if len(correlatedColumns) < 1: print('No Multicolinearity found in dataset')\n",
        "\n",
        "else: print(correlatedColumns)"
      ]
    },
    {
      "cell_type": "markdown",
      "metadata": {
        "id": "0OzlUtoAMUq6"
      },
      "source": [
        "There is no Multicolinearity  in the data"
      ]
    },
    {
      "cell_type": "markdown",
      "metadata": {
        "id": "1VqVwFEsMUq6"
      },
      "source": [
        "##### Are there any peculiar features for any variable that we should pay attention to?"
      ]
    },
    {
      "cell_type": "code",
      "execution_count": null,
      "metadata": {
        "id": "LqEmZxLzMUq6",
        "outputId": "40971122-b7eb-480b-c8ad-1381dde6c45b"
      },
      "outputs": [
        {
          "data": {
            "image/png": "[encoded data removed]",
            "text/plain": [
              "<Figure size 432x288 with 1 Axes>"
            ]
          },
          "metadata": {
            "needs_background": "light"
          },
          "output_type": "display_data"
        }
      ],
      "source": [
        "#Checking Predictors for outliers\n",
        "\n",
        "#plt.figure(figsize=(25,15))\n",
        "\n",
        "df2 = pd.DataFrame(data=df, columns=['age', 'sex', 'cp', 'trestbps', 'chol', 'fbs', 'restecg', 'thalach',\n",
        "                                   'oldpeak', 'slope', 'ca', 'thal', 'num'])\n",
        "\n",
        "sns.boxplot(y=\"variable\", x=\"value\", data=pd.melt(df2), width= 0.5)\n",
        "plt.show()"
      ]
    },
    {
      "cell_type": "markdown",
      "metadata": {
        "id": "_KhY85apMUq6"
      },
      "source": [
        "chol and tresbps have outliers"
      ]
    },
    {
      "cell_type": "markdown",
      "metadata": {
        "id": "u6J52oCcMUq7"
      },
      "source": [
        "###### what is the percentage of spam emails?"
      ]
    },
    {
      "cell_type": "code",
      "execution_count": null,
      "metadata": {
        "id": "Rx-mo3XeMUq7",
        "outputId": "b360dfe1-4caf-438e-d11b-f7a3bcbd695d"
      },
      "outputs": [
        {
          "data": {
            "text/plain": [
              "0    204\n",
              "1     99\n",
              "Name: exang, dtype: int64"
            ]
          },
          "execution_count": 10,
          "metadata": {},
          "output_type": "execute_result"
        }
      ],
      "source": [
        "df['exang'].value_counts()"
      ]
    },
    {
      "cell_type": "markdown",
      "metadata": {
        "id": "l-aP11xtMUq7"
      },
      "source": [
        "About 1/3 of the emails are spam emails"
      ]
    },
    {
      "cell_type": "code",
      "execution_count": null,
      "metadata": {
        "id": "MzFsvgjjMUq7",
        "outputId": "9fd46705-36cb-41fd-8684-2237a4487495"
      },
      "outputs": [
        {
          "data": {
            "text/plain": [
              "Index(['age', 'sex', 'cp', 'trestbps', 'chol', 'fbs', 'restecg', 'thalach',\n",
              "       'exang', 'oldpeak', 'slope', 'ca', 'thal', 'num'],\n",
              "      dtype='object')"
            ]
          },
          "execution_count": 17,
          "metadata": {},
          "output_type": "execute_result"
        }
      ],
      "source": [
        "df.columns"
      ]
    },
    {
      "cell_type": "markdown",
      "metadata": {
        "id": "shjx_dCNMUq7"
      },
      "source": [
        "(d) Randomly divide your data sets into the training sample and test sample with a ratio of 2:1."
      ]
    },
    {
      "cell_type": "code",
      "execution_count": null,
      "metadata": {
        "id": "ds317HJeMUq8",
        "outputId": "e0a53348-7f07-48e1-af21-e51090fdbaac"
      },
      "outputs": [
        {
          "data": {
            "text/html": [
              "<div>\n",
              "<style scoped>\n",
              "    .dataframe tbody tr th:only-of-type {\n",
              "        vertical-align: middle;\n",
              "    }\n",
              "\n",
              "    .dataframe tbody tr th {\n",
              "        vertical-align: top;\n",
              "    }\n",
              "\n",
              "    .dataframe thead th {\n",
              "        text-align: right;\n",
              "    }\n",
              "</style>\n",
              "<table border=\"1\" class=\"dataframe\">\n",
              "  <thead>\n",
              "    <tr style=\"text-align: right;\">\n",
              "      <th></th>\n",
              "      <th>age</th>\n",
              "      <th>sex</th>\n",
              "      <th>cp</th>\n",
              "      <th>trestbps</th>\n",
              "      <th>chol</th>\n",
              "      <th>fbs</th>\n",
              "      <th>restecg</th>\n",
              "      <th>thalach</th>\n",
              "      <th>exang</th>\n",
              "      <th>oldpeak</th>\n",
              "      <th>slope</th>\n",
              "      <th>ca</th>\n",
              "      <th>thal</th>\n",
              "      <th>num</th>\n",
              "    </tr>\n",
              "  </thead>\n",
              "  <tbody>\n",
              "    <tr>\n",
              "      <th>0</th>\n",
              "      <td>0.708333</td>\n",
              "      <td>1</td>\n",
              "      <td>1</td>\n",
              "      <td>0.481132</td>\n",
              "      <td>0.244292</td>\n",
              "      <td>1</td>\n",
              "      <td>2</td>\n",
              "      <td>0.603053</td>\n",
              "      <td>0</td>\n",
              "      <td>0.370968</td>\n",
              "      <td>1.0</td>\n",
              "      <td>0.0</td>\n",
              "      <td>6.0</td>\n",
              "      <td>0</td>\n",
              "    </tr>\n",
              "    <tr>\n",
              "      <th>1</th>\n",
              "      <td>0.791667</td>\n",
              "      <td>1</td>\n",
              "      <td>4</td>\n",
              "      <td>0.622642</td>\n",
              "      <td>0.365297</td>\n",
              "      <td>0</td>\n",
              "      <td>2</td>\n",
              "      <td>0.282443</td>\n",
              "      <td>1</td>\n",
              "      <td>0.241935</td>\n",
              "      <td>0.5</td>\n",
              "      <td>3.0</td>\n",
              "      <td>3.0</td>\n",
              "      <td>2</td>\n",
              "    </tr>\n",
              "    <tr>\n",
              "      <th>2</th>\n",
              "      <td>0.791667</td>\n",
              "      <td>1</td>\n",
              "      <td>4</td>\n",
              "      <td>0.245283</td>\n",
              "      <td>0.235160</td>\n",
              "      <td>0</td>\n",
              "      <td>2</td>\n",
              "      <td>0.442748</td>\n",
              "      <td>1</td>\n",
              "      <td>0.419355</td>\n",
              "      <td>0.5</td>\n",
              "      <td>2.0</td>\n",
              "      <td>7.0</td>\n",
              "      <td>1</td>\n",
              "    </tr>\n",
              "    <tr>\n",
              "      <th>3</th>\n",
              "      <td>0.166667</td>\n",
              "      <td>1</td>\n",
              "      <td>3</td>\n",
              "      <td>0.339623</td>\n",
              "      <td>0.283105</td>\n",
              "      <td>0</td>\n",
              "      <td>0</td>\n",
              "      <td>0.885496</td>\n",
              "      <td>0</td>\n",
              "      <td>0.564516</td>\n",
              "      <td>1.0</td>\n",
              "      <td>0.0</td>\n",
              "      <td>3.0</td>\n",
              "      <td>0</td>\n",
              "    </tr>\n",
              "    <tr>\n",
              "      <th>4</th>\n",
              "      <td>0.250000</td>\n",
              "      <td>0</td>\n",
              "      <td>2</td>\n",
              "      <td>0.339623</td>\n",
              "      <td>0.178082</td>\n",
              "      <td>0</td>\n",
              "      <td>2</td>\n",
              "      <td>0.770992</td>\n",
              "      <td>0</td>\n",
              "      <td>0.225806</td>\n",
              "      <td>0.0</td>\n",
              "      <td>0.0</td>\n",
              "      <td>3.0</td>\n",
              "      <td>0</td>\n",
              "    </tr>\n",
              "  </tbody>\n",
              "</table>\n",
              "</div>"
            ],
            "text/plain": [
              "        age  sex  cp  trestbps      chol  fbs  restecg   thalach  exang  \\\n",
              "0  0.708333    1   1  0.481132  0.244292    1        2  0.603053      0   \n",
              "1  0.791667    1   4  0.622642  0.365297    0        2  0.282443      1   \n",
              "2  0.791667    1   4  0.245283  0.235160    0        2  0.442748      1   \n",
              "3  0.166667    1   3  0.339623  0.283105    0        0  0.885496      0   \n",
              "4  0.250000    0   2  0.339623  0.178082    0        2  0.770992      0   \n",
              "\n",
              "    oldpeak  slope   ca  thal  num  \n",
              "0  0.370968    1.0  0.0   6.0    0  \n",
              "1  0.241935    0.5  3.0   3.0    2  \n",
              "2  0.419355    0.5  2.0   7.0    1  \n",
              "3  0.564516    1.0  0.0   3.0    0  \n",
              "4  0.225806    0.0  0.0   3.0    0  "
            ]
          },
          "execution_count": 20,
          "metadata": {},
          "output_type": "execute_result"
        }
      ],
      "source": [
        "# Scaling no categorical columns\n",
        "#sex, cp, fbs, restecg, exang, ca, thal, num\n",
        "scale_vars = ['age','trestbps','chol','thalach','oldpeak','slope']\n",
        "scaler = MinMaxScaler()\n",
        "df[scale_vars] = scaler.fit_transform(df[scale_vars]) #df[scale_vars] -> making the np.aaary new_raw_data a dataframe\n",
        "df.head()"
      ]
    },
    {
      "cell_type": "code",
      "execution_count": null,
      "metadata": {
        "id": "RwiDrHGDMUq8"
      },
      "outputs": [],
      "source": [
        ""
      ]
    },
    {
      "cell_type": "code",
      "execution_count": null,
      "metadata": {
        "id": "2YOtoQKTMUq8",
        "outputId": "abaf507c-d723-4c7b-941d-a80ec7239332"
      },
      "outputs": [
        {
          "data": {
            "text/html": [
              "<div>\n",
              "<style scoped>\n",
              "    .dataframe tbody tr th:only-of-type {\n",
              "        vertical-align: middle;\n",
              "    }\n",
              "\n",
              "    .dataframe tbody tr th {\n",
              "        vertical-align: top;\n",
              "    }\n",
              "\n",
              "    .dataframe thead th {\n",
              "        text-align: right;\n",
              "    }\n",
              "</style>\n",
              "<table border=\"1\" class=\"dataframe\">\n",
              "  <thead>\n",
              "    <tr style=\"text-align: right;\">\n",
              "      <th></th>\n",
              "      <th>age</th>\n",
              "      <th>sex</th>\n",
              "      <th>cp</th>\n",
              "      <th>trestbps</th>\n",
              "      <th>chol</th>\n",
              "      <th>fbs</th>\n",
              "      <th>restecg</th>\n",
              "      <th>thalach</th>\n",
              "      <th>oldpeak</th>\n",
              "      <th>slope</th>\n",
              "      <th>ca</th>\n",
              "      <th>thal</th>\n",
              "      <th>num</th>\n",
              "    </tr>\n",
              "  </thead>\n",
              "  <tbody>\n",
              "    <tr>\n",
              "      <th>0</th>\n",
              "      <td>0.708333</td>\n",
              "      <td>1</td>\n",
              "      <td>1</td>\n",
              "      <td>0.481132</td>\n",
              "      <td>0.244292</td>\n",
              "      <td>1</td>\n",
              "      <td>2</td>\n",
              "      <td>0.603053</td>\n",
              "      <td>0.370968</td>\n",
              "      <td>1.0</td>\n",
              "      <td>0.0</td>\n",
              "      <td>6.0</td>\n",
              "      <td>0</td>\n",
              "    </tr>\n",
              "    <tr>\n",
              "      <th>1</th>\n",
              "      <td>0.791667</td>\n",
              "      <td>1</td>\n",
              "      <td>4</td>\n",
              "      <td>0.622642</td>\n",
              "      <td>0.365297</td>\n",
              "      <td>0</td>\n",
              "      <td>2</td>\n",
              "      <td>0.282443</td>\n",
              "      <td>0.241935</td>\n",
              "      <td>0.5</td>\n",
              "      <td>3.0</td>\n",
              "      <td>3.0</td>\n",
              "      <td>2</td>\n",
              "    </tr>\n",
              "    <tr>\n",
              "      <th>2</th>\n",
              "      <td>0.791667</td>\n",
              "      <td>1</td>\n",
              "      <td>4</td>\n",
              "      <td>0.245283</td>\n",
              "      <td>0.235160</td>\n",
              "      <td>0</td>\n",
              "      <td>2</td>\n",
              "      <td>0.442748</td>\n",
              "      <td>0.419355</td>\n",
              "      <td>0.5</td>\n",
              "      <td>2.0</td>\n",
              "      <td>7.0</td>\n",
              "      <td>1</td>\n",
              "    </tr>\n",
              "    <tr>\n",
              "      <th>3</th>\n",
              "      <td>0.166667</td>\n",
              "      <td>1</td>\n",
              "      <td>3</td>\n",
              "      <td>0.339623</td>\n",
              "      <td>0.283105</td>\n",
              "      <td>0</td>\n",
              "      <td>0</td>\n",
              "      <td>0.885496</td>\n",
              "      <td>0.564516</td>\n",
              "      <td>1.0</td>\n",
              "      <td>0.0</td>\n",
              "      <td>3.0</td>\n",
              "      <td>0</td>\n",
              "    </tr>\n",
              "    <tr>\n",
              "      <th>4</th>\n",
              "      <td>0.250000</td>\n",
              "      <td>0</td>\n",
              "      <td>2</td>\n",
              "      <td>0.339623</td>\n",
              "      <td>0.178082</td>\n",
              "      <td>0</td>\n",
              "      <td>2</td>\n",
              "      <td>0.770992</td>\n",
              "      <td>0.225806</td>\n",
              "      <td>0.0</td>\n",
              "      <td>0.0</td>\n",
              "      <td>3.0</td>\n",
              "      <td>0</td>\n",
              "    </tr>\n",
              "    <tr>\n",
              "      <th>...</th>\n",
              "      <td>...</td>\n",
              "      <td>...</td>\n",
              "      <td>...</td>\n",
              "      <td>...</td>\n",
              "      <td>...</td>\n",
              "      <td>...</td>\n",
              "      <td>...</td>\n",
              "      <td>...</td>\n",
              "      <td>...</td>\n",
              "      <td>...</td>\n",
              "      <td>...</td>\n",
              "      <td>...</td>\n",
              "      <td>...</td>\n",
              "    </tr>\n",
              "    <tr>\n",
              "      <th>298</th>\n",
              "      <td>0.333333</td>\n",
              "      <td>1</td>\n",
              "      <td>1</td>\n",
              "      <td>0.150943</td>\n",
              "      <td>0.315068</td>\n",
              "      <td>0</td>\n",
              "      <td>0</td>\n",
              "      <td>0.465649</td>\n",
              "      <td>0.193548</td>\n",
              "      <td>0.5</td>\n",
              "      <td>0.0</td>\n",
              "      <td>7.0</td>\n",
              "      <td>1</td>\n",
              "    </tr>\n",
              "    <tr>\n",
              "      <th>299</th>\n",
              "      <td>0.812500</td>\n",
              "      <td>1</td>\n",
              "      <td>4</td>\n",
              "      <td>0.471698</td>\n",
              "      <td>0.152968</td>\n",
              "      <td>1</td>\n",
              "      <td>0</td>\n",
              "      <td>0.534351</td>\n",
              "      <td>0.548387</td>\n",
              "      <td>0.5</td>\n",
              "      <td>2.0</td>\n",
              "      <td>7.0</td>\n",
              "      <td>2</td>\n",
              "    </tr>\n",
              "    <tr>\n",
              "      <th>300</th>\n",
              "      <td>0.583333</td>\n",
              "      <td>1</td>\n",
              "      <td>4</td>\n",
              "      <td>0.339623</td>\n",
              "      <td>0.011416</td>\n",
              "      <td>0</td>\n",
              "      <td>0</td>\n",
              "      <td>0.335878</td>\n",
              "      <td>0.193548</td>\n",
              "      <td>0.5</td>\n",
              "      <td>1.0</td>\n",
              "      <td>7.0</td>\n",
              "      <td>3</td>\n",
              "    </tr>\n",
              "    <tr>\n",
              "      <th>301</th>\n",
              "      <td>0.583333</td>\n",
              "      <td>0</td>\n",
              "      <td>2</td>\n",
              "      <td>0.339623</td>\n",
              "      <td>0.251142</td>\n",
              "      <td>0</td>\n",
              "      <td>2</td>\n",
              "      <td>0.786260</td>\n",
              "      <td>0.000000</td>\n",
              "      <td>0.5</td>\n",
              "      <td>1.0</td>\n",
              "      <td>3.0</td>\n",
              "      <td>1</td>\n",
              "    </tr>\n",
              "    <tr>\n",
              "      <th>302</th>\n",
              "      <td>0.187500</td>\n",
              "      <td>1</td>\n",
              "      <td>3</td>\n",
              "      <td>0.415094</td>\n",
              "      <td>0.111872</td>\n",
              "      <td>0</td>\n",
              "      <td>0</td>\n",
              "      <td>0.778626</td>\n",
              "      <td>0.000000</td>\n",
              "      <td>0.0</td>\n",
              "      <td>1.0</td>\n",
              "      <td>3.0</td>\n",
              "      <td>0</td>\n",
              "    </tr>\n",
              "  </tbody>\n",
              "</table>\n",
              "<p>303 rows × 13 columns</p>\n",
              "</div>"
            ],
            "text/plain": [
              "          age  sex  cp  trestbps      chol  fbs  restecg   thalach   oldpeak  \\\n",
              "0    0.708333    1   1  0.481132  0.244292    1        2  0.603053  0.370968   \n",
              "1    0.791667    1   4  0.622642  0.365297    0        2  0.282443  0.241935   \n",
              "2    0.791667    1   4  0.245283  0.235160    0        2  0.442748  0.419355   \n",
              "3    0.166667    1   3  0.339623  0.283105    0        0  0.885496  0.564516   \n",
              "4    0.250000    0   2  0.339623  0.178082    0        2  0.770992  0.225806   \n",
              "..        ...  ...  ..       ...       ...  ...      ...       ...       ...   \n",
              "298  0.333333    1   1  0.150943  0.315068    0        0  0.465649  0.193548   \n",
              "299  0.812500    1   4  0.471698  0.152968    1        0  0.534351  0.548387   \n",
              "300  0.583333    1   4  0.339623  0.011416    0        0  0.335878  0.193548   \n",
              "301  0.583333    0   2  0.339623  0.251142    0        2  0.786260  0.000000   \n",
              "302  0.187500    1   3  0.415094  0.111872    0        0  0.778626  0.000000   \n",
              "\n",
              "     slope   ca  thal  num  \n",
              "0      1.0  0.0   6.0    0  \n",
              "1      0.5  3.0   3.0    2  \n",
              "2      0.5  2.0   7.0    1  \n",
              "3      1.0  0.0   3.0    0  \n",
              "4      0.0  0.0   3.0    0  \n",
              "..     ...  ...   ...  ...  \n",
              "298    0.5  0.0   7.0    1  \n",
              "299    0.5  2.0   7.0    2  \n",
              "300    0.5  1.0   7.0    3  \n",
              "301    0.5  1.0   3.0    1  \n",
              "302    0.0  1.0   3.0    0  \n",
              "\n",
              "[303 rows x 13 columns]"
            ]
          },
          "execution_count": 98,
          "metadata": {},
          "output_type": "execute_result"
        }
      ],
      "source": [
        "X = df.drop('exang', axis = 1)\n",
        "X"
      ]
    },
    {
      "cell_type": "code",
      "execution_count": null,
      "metadata": {
        "id": "v4XEHQSMMUq9",
        "outputId": "e812a612-d45e-4ee5-db79-baf6db924c5d"
      },
      "outputs": [
        {
          "data": {
            "text/plain": [
              "0      0\n",
              "1      1\n",
              "2      1\n",
              "3      0\n",
              "4      0\n",
              "      ..\n",
              "298    0\n",
              "299    0\n",
              "300    1\n",
              "301    0\n",
              "302    0\n",
              "Name: exang, Length: 303, dtype: int64"
            ]
          },
          "execution_count": 22,
          "metadata": {},
          "output_type": "execute_result"
        }
      ],
      "source": [
        "y = df['exang']\n",
        "y"
      ]
    },
    {
      "cell_type": "code",
      "execution_count": null,
      "metadata": {
        "id": "21jDLuFRMUq9"
      },
      "outputs": [],
      "source": [
        ""
      ]
    },
    {
      "cell_type": "code",
      "execution_count": null,
      "metadata": {
        "id": "C6oA2FRBMUq9"
      },
      "outputs": [],
      "source": [
        "#Split the data into training and testing set\n",
        "\n",
        "from sklearn.model_selection import train_test_split\n",
        "\n",
        "X_train, X_test, y_train, y_test = train_test_split(X, y, train_size=0.70, test_size = 30, random_state=15)"
      ]
    },
    {
      "cell_type": "code",
      "execution_count": null,
      "metadata": {
        "id": "NBqWM9OwMUq9"
      },
      "outputs": [],
      "source": [
        ""
      ]
    },
    {
      "cell_type": "markdown",
      "metadata": {
        "id": "EGKboD9XMUq-"
      },
      "source": [
        "### 2. Supervised Learning:\n",
        "    \n",
        "###### (a) Try out the Random Forest (RF) model using the dataset. Use the training set to identify the best model and apply the model to the test set. Since the method involves numerous parameters to choose or tune, make sure that important details in the model fitting are clearly explained in your report."
      ]
    },
    {
      "cell_type": "code",
      "execution_count": null,
      "metadata": {
        "id": "Sq2HSBgBMUq-"
      },
      "outputs": [],
      "source": [
        "rf = RandomForestClassifier(n_estimators=100, criterion='entropy')\n",
        "rf.fit(X_train, y_train)\n",
        "prediction_test = rf.predict(X_test)"
      ]
    },
    {
      "cell_type": "code",
      "execution_count": null,
      "metadata": {
        "id": "MdeIYhSlMUq-",
        "outputId": "935979a4-a681-462d-b71f-71bcff4cfe1b"
      },
      "outputs": [
        {
          "name": "stdout",
          "output_type": "stream",
          "text": [
            "Training Accuracy is:  1.0\n",
            "Testing Accuracy is:  0.5333333333333333\n",
            "\n",
            "\n"
          ]
        }
      ],
      "source": [
        "# Accuracy on Test\n",
        "print(\"Training Accuracy is: \", rf.score(X_train, y_train))\n",
        "# Accuracy on Train\n",
        "print(\"Testing Accuracy is: \", rf.score(X_test, y_test), end='\\n\\n\\n')"
      ]
    },
    {
      "cell_type": "code",
      "execution_count": null,
      "metadata": {
        "id": "EVW7dnZRMUq-"
      },
      "outputs": [],
      "source": [
        "# Confusion Matrix function\n",
        "\n",
        "def plot_confusion_matrix(cm, classes=None, title='Confusion matrix'):\n",
        "    \"\"\"Plots a confusion matrix.\"\"\"\n",
        "    if classes is not None:\n",
        "        sns.heatmap(cm, xticklabels=classes, yticklabels=classes, vmin=0., vmax=1., annot=True, annot_kws={'size':50})\n",
        "    else:\n",
        "        sns.heatmap(cm, vmin=0., vmax=1.)\n",
        "    plt.title(title)\n",
        "    plt.ylabel('True label')\n",
        "    plt.xlabel('Predicted label')"
      ]
    },
    {
      "cell_type": "code",
      "execution_count": null,
      "metadata": {
        "id": "HN_Okqv-MUq_",
        "outputId": "582c433e-a0c1-46fe-fe00-0d8267aecb81"
      },
      "outputs": [
        {
          "data": {
            "text/plain": [
              "<Figure size 432x288 with 0 Axes>"
            ]
          },
          "execution_count": 103,
          "metadata": {},
          "output_type": "execute_result"
        },
        {
          "data": {
            "image/png": "[encoded data removed]",
            "text/plain": [
              "<Figure size 432x288 with 2 Axes>"
            ]
          },
          "metadata": {
            "needs_background": "light"
          },
          "output_type": "display_data"
        },
        {
          "data": {
            "text/plain": [
              "<Figure size 432x288 with 0 Axes>"
            ]
          },
          "metadata": {},
          "output_type": "display_data"
        }
      ],
      "source": [
        "# Confusion Matrix output\n",
        "cm = confusion_matrix(y_test, prediction_test)\n",
        "cm_norm = cm/cm.sum(axis=1)[:, np.newaxis]\n",
        "\n",
        "plot_confusion_matrix(cm_norm, classes=rf.classes_)\n",
        "plt.figure()"
      ]
    },
    {
      "cell_type": "markdown",
      "metadata": {
        "id": "NG4IwqP-MUq_"
      },
      "source": [
        "##### ROC Curve"
      ]
    },
    {
      "cell_type": "code",
      "execution_count": null,
      "metadata": {
        "id": "A1k___JNMUq_"
      },
      "outputs": [],
      "source": [
        "def plot_roc_curve(fper, tper):\n",
        "    plt.plot(fper, tper, color='red', label='ROC')\n",
        "    plt.plot([0, 1], [0, 1], color='green', linestyle='--')\n",
        "    plt.xlabel('False Positive Rate')\n",
        "    plt.ylabel('True Positive Rate')\n",
        "    plt.title('Receiver Operating Characteristic Curve')\n",
        "    plt.legend()\n",
        "    plt.show()"
      ]
    },
    {
      "cell_type": "code",
      "execution_count": null,
      "metadata": {
        "id": "TsVxfkDUMUq_",
        "outputId": "4b007a08-50b6-4d7f-855c-f864ead4d503"
      },
      "outputs": [
        {
          "data": {
            "image/png": "[encoded data removed]",
            "text/plain": [
              "<Figure size 432x288 with 1 Axes>"
            ]
          },
          "metadata": {
            "needs_background": "light"
          },
          "output_type": "display_data"
        }
      ],
      "source": [
        "\n",
        "from sklearn.metrics import roc_curve\n",
        "\n",
        "fper, tper, thresholds = roc_curve(y_test, prediction_test)\n",
        "plot_roc_curve(fper, tper)"
      ]
    },
    {
      "cell_type": "code",
      "execution_count": null,
      "metadata": {
        "id": "yU-lWNSWMUq_"
      },
      "outputs": [],
      "source": [
        ""
      ]
    },
    {
      "cell_type": "markdown",
      "metadata": {
        "id": "thiovrhdMUq_"
      },
      "source": [
        "### 3. Additional Features from RF:\n",
        "\n",
        "###### (a) Train the RF model with B = 2,000 trees using the entire data set. Make sure that you set these two options: importance = TRUE and proximity = TRUE."
      ]
    },
    {
      "cell_type": "code",
      "execution_count": null,
      "metadata": {
        "id": "_8pkkxIXMUrA",
        "outputId": "4fa69ef4-e67e-4e64-d47a-81a955e2aa93"
      },
      "outputs": [
        {
          "data": {
            "text/plain": [
              "RandomForestClassifier(bootstrap=False, max_depth=45, min_samples_leaf=4,\n",
              "                       min_samples_split=15, n_estimators=2000)"
            ]
          },
          "execution_count": 106,
          "metadata": {},
          "output_type": "execute_result"
        }
      ],
      "source": [
        "#Build the model with B=2000\n",
        "clf = RandomForestClassifier(n_estimators=2000,max_depth=45,max_features=\"auto\", min_samples_leaf=4,\n",
        "                       min_samples_split=15,bootstrap=False\n",
        "                    )\n",
        "\n",
        "clf.fit(X_train, y_train)"
      ]
    },
    {
      "cell_type": "code",
      "execution_count": null,
      "metadata": {
        "id": "Ru7MKO-0MUrA"
      },
      "outputs": [],
      "source": [
        "y_pred = clf.predict(X_test)"
      ]
    },
    {
      "cell_type": "code",
      "execution_count": null,
      "metadata": {
        "id": "r4YD28h9MUrA",
        "outputId": "78e087c6-7a77-4c48-f0ee-2902672a9f87"
      },
      "outputs": [
        {
          "name": "stdout",
          "output_type": "stream",
          "text": [
            "Train Accuracy - : 0.896\n",
            "Test Accuracy - : 0.600\n"
          ]
        }
      ],
      "source": [
        "print (f'Train Accuracy - : {clf.score(X_train,y_train):.3f}')\n",
        "print (f'Test Accuracy - : {clf.score(X_test,y_test):.3f}')"
      ]
    },
    {
      "cell_type": "code",
      "execution_count": null,
      "metadata": {
        "id": "stQMFE_DMUrB",
        "outputId": "1547e54a-dfa5-49be-d75f-57e12b05412a"
      },
      "outputs": [
        {
          "data": {
            "text/plain": [
              "array([[11,  5],\n",
              "       [ 7,  7]], dtype=int64)"
            ]
          },
          "execution_count": 109,
          "metadata": {},
          "output_type": "execute_result"
        }
      ],
      "source": [
        "confusion_matrix(y_test, y_pred)"
      ]
    },
    {
      "cell_type": "code",
      "execution_count": null,
      "metadata": {
        "id": "v6DRRQ0fMUrB",
        "outputId": "7131aec2-d171-4f51-a2cd-120d3b0fc9bb"
      },
      "outputs": [
        {
          "data": {
            "image/png": "[encoded data removed]",
            "text/plain": [
              "<Figure size 432x288 with 2 Axes>"
            ]
          },
          "metadata": {
            "needs_background": "light"
          },
          "output_type": "display_data"
        }
      ],
      "source": [
        "# Plotting Confusion Matrix\n",
        "cm = confusion_matrix(y_test, y_pred)\n",
        "cm_norm = cm/cm.sum(axis=1)[:, np.newaxis]   # normalize the cm\n",
        "\n",
        "\n",
        "plt.figure()\n",
        "plot_confusion_matrix(cm = cm_norm, classes=clf.classes_, title='Training confusion')"
      ]
    },
    {
      "cell_type": "markdown",
      "metadata": {
        "id": "54VzdnyOMUrB"
      },
      "source": [
        "We improved on the TN, TP compared to the firt RF we had "
      ]
    },
    {
      "cell_type": "markdown",
      "metadata": {
        "id": "IOdcKtbWMUrC"
      },
      "source": [
        "A better way to approach this is to do Hyperparameter Tuning and build a final best RF model for the best parameters"
      ]
    },
    {
      "cell_type": "code",
      "execution_count": null,
      "metadata": {
        "id": "68UHRBmkMUrC"
      },
      "outputs": [],
      "source": [
        ""
      ]
    },
    {
      "cell_type": "markdown",
      "metadata": {
        "id": "fceGWJ56MUrC"
      },
      "source": [
        "###### i. Obtain the variable importance ranking plots."
      ]
    },
    {
      "cell_type": "markdown",
      "metadata": {
        "id": "bX8ssbnWMUrC"
      },
      "source": [
        "We will use Random Forest feature importnace inbuilt method to get Feature Importnace"
      ]
    },
    {
      "cell_type": "code",
      "execution_count": null,
      "metadata": {
        "id": "vWOL5A4lMUrC"
      },
      "outputs": [],
      "source": [
        "#Feature Importance\n",
        "df_var_importance = pd.DataFrame({'Variable': X,\n",
        "                           'Importance': clf.feature_importances_}) \\\n",
        "                .sort_values(by='Importance', ascending=False) \\\n",
        "                .reset_index(drop=True)"
      ]
    },
    {
      "cell_type": "code",
      "execution_count": null,
      "metadata": {
        "id": "VDwnFSyAMUrD",
        "outputId": "355899cb-3e06-4891-a5ff-507b77861ab0"
      },
      "outputs": [
        {
          "data": {
            "text/html": [
              "<div>\n",
              "<style scoped>\n",
              "    .dataframe tbody tr th:only-of-type {\n",
              "        vertical-align: middle;\n",
              "    }\n",
              "\n",
              "    .dataframe tbody tr th {\n",
              "        vertical-align: top;\n",
              "    }\n",
              "\n",
              "    .dataframe thead th {\n",
              "        text-align: right;\n",
              "    }\n",
              "</style>\n",
              "<table border=\"1\" class=\"dataframe\">\n",
              "  <thead>\n",
              "    <tr style=\"text-align: right;\">\n",
              "      <th></th>\n",
              "      <th>Variable</th>\n",
              "      <th>Importance</th>\n",
              "    </tr>\n",
              "  </thead>\n",
              "  <tbody>\n",
              "    <tr>\n",
              "      <th>0</th>\n",
              "      <td>(t, h, a, l, a, c, h)</td>\n",
              "      <td>0.229632</td>\n",
              "    </tr>\n",
              "    <tr>\n",
              "      <th>1</th>\n",
              "      <td>(n, u, m)</td>\n",
              "      <td>0.226569</td>\n",
              "    </tr>\n",
              "    <tr>\n",
              "      <th>2</th>\n",
              "      <td>(c, p)</td>\n",
              "      <td>0.149501</td>\n",
              "    </tr>\n",
              "    <tr>\n",
              "      <th>3</th>\n",
              "      <td>(o, l, d, p, e, a, k)</td>\n",
              "      <td>0.090581</td>\n",
              "    </tr>\n",
              "    <tr>\n",
              "      <th>4</th>\n",
              "      <td>(t, r, e, s, t, b, p, s)</td>\n",
              "      <td>0.071623</td>\n",
              "    </tr>\n",
              "    <tr>\n",
              "      <th>5</th>\n",
              "      <td>(t, h, a, l)</td>\n",
              "      <td>0.063043</td>\n",
              "    </tr>\n",
              "    <tr>\n",
              "      <th>6</th>\n",
              "      <td>(c, h, o, l)</td>\n",
              "      <td>0.046244</td>\n",
              "    </tr>\n",
              "    <tr>\n",
              "      <th>7</th>\n",
              "      <td>(a, g, e)</td>\n",
              "      <td>0.038673</td>\n",
              "    </tr>\n",
              "    <tr>\n",
              "      <th>8</th>\n",
              "      <td>(s, l, o, p, e)</td>\n",
              "      <td>0.024043</td>\n",
              "    </tr>\n",
              "    <tr>\n",
              "      <th>9</th>\n",
              "      <td>(c, a)</td>\n",
              "      <td>0.019135</td>\n",
              "    </tr>\n",
              "    <tr>\n",
              "      <th>10</th>\n",
              "      <td>(s, e, x)</td>\n",
              "      <td>0.016803</td>\n",
              "    </tr>\n",
              "    <tr>\n",
              "      <th>11</th>\n",
              "      <td>(f, b, s)</td>\n",
              "      <td>0.012175</td>\n",
              "    </tr>\n",
              "    <tr>\n",
              "      <th>12</th>\n",
              "      <td>(r, e, s, t, e, c, g)</td>\n",
              "      <td>0.011978</td>\n",
              "    </tr>\n",
              "  </tbody>\n",
              "</table>\n",
              "</div>"
            ],
            "text/plain": [
              "                    Variable  Importance\n",
              "0      (t, h, a, l, a, c, h)    0.229632\n",
              "1                  (n, u, m)    0.226569\n",
              "2                     (c, p)    0.149501\n",
              "3      (o, l, d, p, e, a, k)    0.090581\n",
              "4   (t, r, e, s, t, b, p, s)    0.071623\n",
              "5               (t, h, a, l)    0.063043\n",
              "6               (c, h, o, l)    0.046244\n",
              "7                  (a, g, e)    0.038673\n",
              "8            (s, l, o, p, e)    0.024043\n",
              "9                     (c, a)    0.019135\n",
              "10                 (s, e, x)    0.016803\n",
              "11                 (f, b, s)    0.012175\n",
              "12     (r, e, s, t, e, c, g)    0.011978"
            ]
          },
          "execution_count": 146,
          "metadata": {},
          "output_type": "execute_result"
        }
      ],
      "source": [
        "df_var_importance"
      ]
    },
    {
      "cell_type": "code",
      "execution_count": null,
      "metadata": {
        "id": "PUbFrBm9MUrD"
      },
      "outputs": [],
      "source": [
        "#(df_var_imp['Importance'])"
      ]
    },
    {
      "cell_type": "code",
      "execution_count": null,
      "metadata": {
        "id": "rP_DeG7uMUrD",
        "outputId": "fc901b86-f867-41d3-fc63-2196f67e94be"
      },
      "outputs": [
        {
          "data": {
            "text/plain": [
              "<AxesSubplot:ylabel='Variable'>"
            ]
          },
          "execution_count": 147,
          "metadata": {},
          "output_type": "execute_result"
        },
        {
          "data": {
            "image/png": "[encoded data removed]",
            "text/plain": [
              "<Figure size 1080x576 with 1 Axes>"
            ]
          },
          "metadata": {
            "needs_background": "light"
          },
          "output_type": "display_data"
        }
      ],
      "source": [
        "#variable importance ranking plots\n",
        "\n",
        "df_var_importance[:len(X)].sort_values('Importance').plot('Variable','Importance', 'barh', figsize=(15,8), legend=False)"
      ]
    },
    {
      "cell_type": "code",
      "execution_count": null,
      "metadata": {
        "id": "0fAPMq5EMUrD"
      },
      "outputs": [],
      "source": [
        ""
      ]
    },
    {
      "cell_type": "markdown",
      "metadata": {
        "id": "cVCzXBcVMUrD"
      },
      "source": [
        "#### ii. Obtain the partial dependence plot for the top two variables that you deem most important. Interpret your analysis."
      ]
    },
    {
      "cell_type": "markdown",
      "metadata": {
        "id": "ipZEVzOwMUrD"
      },
      "source": [
        "variables ; thalach and num  are the top variables on the basis of variable importance. Let us see how they relate to the dependent variable."
      ]
    },
    {
      "cell_type": "code",
      "execution_count": null,
      "metadata": {
        "id": "nM7VVMHCMUrE",
        "outputId": "b391a3cd-7c4c-4dec-84d9-4f7c6f0ab238"
      },
      "outputs": [
        {
          "data": {
            "image/png": "[encoded data removed]",
            "text/plain": [
              "<Figure size 1296x288 with 3 Axes>"
            ]
          },
          "metadata": {
            "needs_background": "light"
          },
          "output_type": "display_data"
        }
      ],
      "source": [
        "#partial dependence plot for the top two variables\n",
        "\n",
        "fig,ax = plt.subplots(figsize=(18, 4))\n",
        "plot_partial_dependence(clf, X, ['thalach','num'], grid_resolution=20, ax=ax);"
      ]
    },
    {
      "cell_type": "markdown",
      "metadata": {
        "id": "SPSoX6TqMUrE"
      },
      "source": [
        "For thalach, event rate is higher for lower values of the variable. Also, seems like there can be a cut-off value which can be used\n",
        "\n",
        "For num, event rate goes linearly bigger as values grows higher.   for classification.\n",
        "\n",
        "Let us also see the distribution of data as histogram for the two variables."
      ]
    },
    {
      "cell_type": "code",
      "execution_count": null,
      "metadata": {
        "id": "9oFNQWC0MUrE",
        "outputId": "95566574-b7fe-43a1-8379-e68bd69b773a"
      },
      "outputs": [
        {
          "data": {
            "text/plain": [
              "<AxesSubplot:xlabel='num', ylabel='Count'>"
            ]
          },
          "execution_count": 132,
          "metadata": {},
          "output_type": "execute_result"
        },
        {
          "data": {
            "image/png": "[encoded data removed]",
            "text/plain": [
              "<Figure size 1296x288 with 2 Axes>"
            ]
          },
          "metadata": {
            "needs_background": "light"
          },
          "output_type": "display_data"
        }
      ],
      "source": [
        "#Histogram Plot\n",
        "\n",
        "fig,ax = plt.subplots(1, 2, figsize=(18, 4))\n",
        "sns.histplot(data= X, x=X['thalach'], ax=ax[0], kde=True )\n",
        "sns.histplot(data= X, x=X['num'], ax=ax[1],kde=True )"
      ]
    },
    {
      "cell_type": "markdown",
      "metadata": {
        "id": "lXLfLbKlMUrF"
      },
      "source": [
        "thalach is left-skewed\n",
        "\n",
        "num is righ-skewed"
      ]
    },
    {
      "cell_type": "code",
      "execution_count": null,
      "metadata": {
        "id": "xm8uTFOvMUrF"
      },
      "outputs": [],
      "source": [
        ""
      ]
    },
    {
      "cell_type": "markdown",
      "metadata": {
        "id": "MzaHGMj6MUrF"
      },
      "source": [
        "#### iii. Obtain the proximity matrix and transform it into a distance or dissimilarity matrix."
      ]
    },
    {
      "cell_type": "code",
      "execution_count": null,
      "metadata": {
        "id": "FjVk-hYKMUrF"
      },
      "outputs": [],
      "source": [
        "def proximityMatrix(model, X, normalize=True):      \n",
        "\n",
        "    terminals = clf.apply(X)\n",
        "    nTrees = terminals.shape[1]\n",
        "\n",
        "    a = terminals[:,0]\n",
        "    proxMat = 1*np.equal.outer(a, a)\n",
        "\n",
        "    for i in range(1, nTrees):\n",
        "        a = terminals[:,i]\n",
        "        proxMat += 1*np.equal.outer(a, a)\n",
        "\n",
        "    if normalize:\n",
        "        proxMat = proxMat / nTrees\n",
        "\n",
        "    return proxMat"
      ]
    },
    {
      "cell_type": "code",
      "execution_count": null,
      "metadata": {
        "id": "9bqrODH2MUrF",
        "outputId": "965fb44f-6a8f-4352-a802-2cd0a0ca09c8"
      },
      "outputs": [
        {
          "data": {
            "text/plain": [
              "array([[1.    , 0.    , 0.364 , ..., 0.015 , 0.    , 0.0025],\n",
              "       [0.    , 1.    , 0.    , ..., 0.053 , 0.146 , 0.116 ],\n",
              "       [0.364 , 0.    , 1.    , ..., 0.0125, 0.    , 0.002 ],\n",
              "       ...,\n",
              "       [0.015 , 0.053 , 0.0125, ..., 1.    , 0.0035, 0.027 ],\n",
              "       [0.    , 0.146 , 0.    , ..., 0.0035, 1.    , 0.038 ],\n",
              "       [0.0025, 0.116 , 0.002 , ..., 0.027 , 0.038 , 1.    ]])"
            ]
          },
          "execution_count": 136,
          "metadata": {},
          "output_type": "execute_result"
        }
      ],
      "source": [
        "#Print Proximity Matrix\n",
        "\n",
        "proximityMatrix(clf, X_train, normalize=True)"
      ]
    },
    {
      "cell_type": "code",
      "execution_count": null,
      "metadata": {
        "id": "YPCo61MyMUrG",
        "outputId": "3f293827-ae29-472e-98ac-c710ed2e2e49"
      },
      "outputs": [
        {
          "data": {
            "text/plain": [
              "212"
            ]
          },
          "execution_count": 137,
          "metadata": {},
          "output_type": "execute_result"
        }
      ],
      "source": [
        "len(proximityMatrix(clf, X_train, normalize=True))"
      ]
    },
    {
      "cell_type": "code",
      "execution_count": null,
      "metadata": {
        "id": "f3xgFZKPMUrG"
      },
      "outputs": [],
      "source": [
        ""
      ]
    },
    {
      "cell_type": "code",
      "execution_count": null,
      "metadata": {
        "id": "I0AiTH8_MUrG",
        "outputId": "b0792815-1f53-42bb-831e-f3a53c6a927b"
      },
      "outputs": [
        {
          "data": {
            "text/plain": [
              "array([[1.        , 1.41421356],\n",
              "       [1.41421356, 1.        ]])"
            ]
          },
          "execution_count": 144,
          "metadata": {},
          "output_type": "execute_result"
        }
      ],
      "source": [
        "#dissimilarity matrix\n",
        "from scipy.spatial import distance_matrix\n",
        "\n",
        "distance_matrix([[0,0],[0,1]], [[1,0],[1,1]])"
      ]
    },
    {
      "cell_type": "code",
      "execution_count": null,
      "metadata": {
        "id": "l6HLfXLFMUrG"
      },
      "outputs": [],
      "source": [
        ""
      ]
    }
  ],
  "metadata": {
    "kernelspec": {
      "display_name": "Python 3",
      "language": "python",
      "name": "python3"
    },
    "language_info": {
      "codemirror_mode": {
        "name": "ipython",
        "version": 3
      },
      "file_extension": ".py",
      "mimetype": "text/x-python",
      "name": "python",
      "nbconvert_exporter": "python",
      "pygments_lexer": "ipython3",
      "version": "3.8.5"
    },
    "colab": {
      "name": "Prroject_4_Random_Forest.ipynb",
      "provenance": [],
      "collapsed_sections": [
        "_eLM6m3XMUq2",
        "EGKboD9XMUq-"
      ],
      "include_colab_link": true
    }
  },
  "nbformat": 4,
  "nbformat_minor": 0
}