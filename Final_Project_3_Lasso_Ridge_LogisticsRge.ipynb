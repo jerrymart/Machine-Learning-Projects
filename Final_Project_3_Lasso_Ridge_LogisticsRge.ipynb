{
  "cells": [
    {
      "cell_type": "markdown",
      "metadata": {
        "id": "view-in-github",
        "colab_type": "text"
      },
      "source": [
        "<a href=\"https://colab.research.google.com/github/jerrymart/Machine-Learning-Projects/blob/main/Final_Project_3_Lasso_Ridge_LogisticsRge.ipynb\" target=\"_parent\"><img src=\"https://colab.research.google.com/assets/colab-badge.svg\" alt=\"Open In Colab\"/></a>"
      ]
    },
    {
      "cell_type": "markdown",
      "metadata": {
        "id": "BXwgokXORhHA"
      },
      "source": [
        "# Team Members:\n",
        "\n",
        "##### Joseph Mart A00732897\n",
        "\n",
        "##### Samuel Aremora A00764591\n"
      ]
    },
    {
      "cell_type": "code",
      "source": [
        ""
      ],
      "metadata": {
        "id": "X1hx2iaIFeqQ"
      },
      "execution_count": null,
      "outputs": []
    },
    {
      "cell_type": "markdown",
      "metadata": {
        "id": "KxlrKMzrRhHD"
      },
      "source": [
        "\n",
        "### 1. Introduction.  Why is what you’re doing important?  Who is interested?  Where did your dataset come from? :\n",
        "\n",
        "### Response\n",
        "\n",
        "Breast cancer is a disease in which cells in the breast grow out of control. There are different kinds of breast cancer. The kind of breast cancer depends on which cells in the breast turn into cancer.\n",
        "\n",
        "Breast cancer can begin in different parts of the breast. A breast is made up of three main parts: lobules, ducts, and connective tissue. The lobules are the glands that produce milk. The ducts are tubes that carry milk to the nipple. The connective tissue (which consists of fibrous and fatty tissue) surrounds and holds everything together. Most breast cancers begin in the ducts or lobules.\n",
        "\n",
        "Breast cancer can spread outside the breast through blood vessels and lymph vessels. When breast cancer spreads to other parts of the body, it is said to have metastasized.\n",
        "\n",
        "It accounts for 25% of all cancer cases, and affected over 2.1 Million people in 2015 alone. It starts when cells in the breast begin to grow out of control. These cells usually form tumors that can be seen via X-ray or felt as lumps in the breast area.\n",
        "\n",
        "The key challenges against it’s detection is how to classify tumors into malignant M (cancerous) or benign B(non cancerous). We ask you to complete the analysis of classifying these tumors using predictive modelling tecniques  and the Breast Cancer Wisconsin (Diagnostic) Dataset. gotten from kaggle https://www.kaggle.com/datasets/yasserh/breast-cancer-dataset/download\n",
        "\n",
        "\n",
        "\n",
        "### Objectives\n",
        "\n",
        "Build classification models to predict whether the cancer type is Malignant or Benign based off several features exhibited during the cancer building stages\n",
        "\n",
        "Also we fine-tune the hyperparameters & compare the evaluation metrics of best classification algorithm."
      ]
    },
    {
      "cell_type": "code",
      "source": [
        ""
      ],
      "metadata": {
        "id": "NFXiezvYSqvU"
      },
      "execution_count": null,
      "outputs": []
    },
    {
      "cell_type": "markdown",
      "source": [
        "###Import Libraries"
      ],
      "metadata": {
        "id": "yPA7cobxL8IY"
      }
    },
    {
      "cell_type": "code",
      "execution_count": null,
      "metadata": {
        "id": "iRbs3e4GRhHE"
      },
      "outputs": [],
      "source": [
        "import numpy as np \n",
        "import pandas as pd\n",
        "from matplotlib import pyplot as plt\n",
        "import seaborn as sns\n",
        "\n",
        "\n",
        "#Classification Models\n",
        "from sklearn.linear_model import LogisticRegression\n",
        "from sklearn.linear_model import Lasso\n",
        "from sklearn.linear_model import Ridge\n",
        "from sklearn.linear_model import ElasticNet\n",
        "\n",
        "#evaluation metrics\n",
        "from sklearn.metrics import mean_absolute_error, r2_score, accuracy_score,confusion_matrix\n",
        "from sklearn.model_selection import KFold, GridSearchCV\n",
        "from sklearn.model_selection import cross_validate, cross_val_score\n",
        "\n",
        "\n",
        "%matplotlib inline\n",
        "import warnings\n",
        "warnings.filterwarnings('ignore')"
      ]
    },
    {
      "cell_type": "code",
      "execution_count": null,
      "metadata": {
        "id": "yrHkCMyIRhHG"
      },
      "outputs": [],
      "source": [
        ""
      ]
    },
    {
      "cell_type": "markdown",
      "metadata": {
        "id": "O-G9ku6KRhHG"
      },
      "source": [
        "# Read Data and Make It a Data Frame."
      ]
    },
    {
      "cell_type": "code",
      "execution_count": null,
      "metadata": {
        "id": "q6cg1ceARhHG"
      },
      "outputs": [],
      "source": [
        "df = pd.read_csv('/content/breast-cancer.csv') "
      ]
    },
    {
      "cell_type": "code",
      "execution_count": null,
      "metadata": {
        "id": "EVp80Rl1RhHG",
        "outputId": "1b1731ec-627d-466d-9069-51b573bfbddc",
        "colab": {
          "base_uri": "https://localhost:8080/",
          "height": 317
        }
      },
      "outputs": [
        {
          "output_type": "execute_result",
          "data": {
            "text/plain": [
              "         id diagnosis  radius_mean  texture_mean  perimeter_mean  area_mean  \\\n",
              "0    842302         M        17.99         10.38          122.80     1001.0   \n",
              "1    842517         M        20.57         17.77          132.90     1326.0   \n",
              "2  84300903         M        19.69         21.25          130.00     1203.0   \n",
              "3  84348301         M        11.42         20.38           77.58      386.1   \n",
              "4  84358402         M        20.29         14.34          135.10     1297.0   \n",
              "\n",
              "   smoothness_mean  compactness_mean  concavity_mean  concave points_mean  \\\n",
              "0          0.11840           0.27760          0.3001              0.14710   \n",
              "1          0.08474           0.07864          0.0869              0.07017   \n",
              "2          0.10960           0.15990          0.1974              0.12790   \n",
              "3          0.14250           0.28390          0.2414              0.10520   \n",
              "4          0.10030           0.13280          0.1980              0.10430   \n",
              "\n",
              "   ...  radius_worst  texture_worst  perimeter_worst  area_worst  \\\n",
              "0  ...         25.38          17.33           184.60      2019.0   \n",
              "1  ...         24.99          23.41           158.80      1956.0   \n",
              "2  ...         23.57          25.53           152.50      1709.0   \n",
              "3  ...         14.91          26.50            98.87       567.7   \n",
              "4  ...         22.54          16.67           152.20      1575.0   \n",
              "\n",
              "   smoothness_worst  compactness_worst  concavity_worst  concave points_worst  \\\n",
              "0            0.1622             0.6656           0.7119                0.2654   \n",
              "1            0.1238             0.1866           0.2416                0.1860   \n",
              "2            0.1444             0.4245           0.4504                0.2430   \n",
              "3            0.2098             0.8663           0.6869                0.2575   \n",
              "4            0.1374             0.2050           0.4000                0.1625   \n",
              "\n",
              "   symmetry_worst  fractal_dimension_worst  \n",
              "0          0.4601                  0.11890  \n",
              "1          0.2750                  0.08902  \n",
              "2          0.3613                  0.08758  \n",
              "3          0.6638                  0.17300  \n",
              "4          0.2364                  0.07678  \n",
              "\n",
              "[5 rows x 32 columns]"
            ],
            "text/html": [
              "\n",
              "  <div id=\"df-f3bb872a-0d81-4e2d-9e50-6b135f2f1de4\">\n",
              "    <div class=\"colab-df-container\">\n",
              "      <div>\n",
              "<style scoped>\n",
              "    .dataframe tbody tr th:only-of-type {\n",
              "        vertical-align: middle;\n",
              "    }\n",
              "\n",
              "    .dataframe tbody tr th {\n",
              "        vertical-align: top;\n",
              "    }\n",
              "\n",
              "    .dataframe thead th {\n",
              "        text-align: right;\n",
              "    }\n",
              "</style>\n",
              "<table border=\"1\" class=\"dataframe\">\n",
              "  <thead>\n",
              "    <tr style=\"text-align: right;\">\n",
              "      <th></th>\n",
              "      <th>id</th>\n",
              "      <th>diagnosis</th>\n",
              "      <th>radius_mean</th>\n",
              "      <th>texture_mean</th>\n",
              "      <th>perimeter_mean</th>\n",
              "      <th>area_mean</th>\n",
              "      <th>smoothness_mean</th>\n",
              "      <th>compactness_mean</th>\n",
              "      <th>concavity_mean</th>\n",
              "      <th>concave points_mean</th>\n",
              "      <th>...</th>\n",
              "      <th>radius_worst</th>\n",
              "      <th>texture_worst</th>\n",
              "      <th>perimeter_worst</th>\n",
              "      <th>area_worst</th>\n",
              "      <th>smoothness_worst</th>\n",
              "      <th>compactness_worst</th>\n",
              "      <th>concavity_worst</th>\n",
              "      <th>concave points_worst</th>\n",
              "      <th>symmetry_worst</th>\n",
              "      <th>fractal_dimension_worst</th>\n",
              "    </tr>\n",
              "  </thead>\n",
              "  <tbody>\n",
              "    <tr>\n",
              "      <th>0</th>\n",
              "      <td>842302</td>\n",
              "      <td>M</td>\n",
              "      <td>17.99</td>\n",
              "      <td>10.38</td>\n",
              "      <td>122.80</td>\n",
              "      <td>1001.0</td>\n",
              "      <td>0.11840</td>\n",
              "      <td>0.27760</td>\n",
              "      <td>0.3001</td>\n",
              "      <td>0.14710</td>\n",
              "      <td>...</td>\n",
              "      <td>25.38</td>\n",
              "      <td>17.33</td>\n",
              "      <td>184.60</td>\n",
              "      <td>2019.0</td>\n",
              "      <td>0.1622</td>\n",
              "      <td>0.6656</td>\n",
              "      <td>0.7119</td>\n",
              "      <td>0.2654</td>\n",
              "      <td>0.4601</td>\n",
              "      <td>0.11890</td>\n",
              "    </tr>\n",
              "    <tr>\n",
              "      <th>1</th>\n",
              "      <td>842517</td>\n",
              "      <td>M</td>\n",
              "      <td>20.57</td>\n",
              "      <td>17.77</td>\n",
              "      <td>132.90</td>\n",
              "      <td>1326.0</td>\n",
              "      <td>0.08474</td>\n",
              "      <td>0.07864</td>\n",
              "      <td>0.0869</td>\n",
              "      <td>0.07017</td>\n",
              "      <td>...</td>\n",
              "      <td>24.99</td>\n",
              "      <td>23.41</td>\n",
              "      <td>158.80</td>\n",
              "      <td>1956.0</td>\n",
              "      <td>0.1238</td>\n",
              "      <td>0.1866</td>\n",
              "      <td>0.2416</td>\n",
              "      <td>0.1860</td>\n",
              "      <td>0.2750</td>\n",
              "      <td>0.08902</td>\n",
              "    </tr>\n",
              "    <tr>\n",
              "      <th>2</th>\n",
              "      <td>84300903</td>\n",
              "      <td>M</td>\n",
              "      <td>19.69</td>\n",
              "      <td>21.25</td>\n",
              "      <td>130.00</td>\n",
              "      <td>1203.0</td>\n",
              "      <td>0.10960</td>\n",
              "      <td>0.15990</td>\n",
              "      <td>0.1974</td>\n",
              "      <td>0.12790</td>\n",
              "      <td>...</td>\n",
              "      <td>23.57</td>\n",
              "      <td>25.53</td>\n",
              "      <td>152.50</td>\n",
              "      <td>1709.0</td>\n",
              "      <td>0.1444</td>\n",
              "      <td>0.4245</td>\n",
              "      <td>0.4504</td>\n",
              "      <td>0.2430</td>\n",
              "      <td>0.3613</td>\n",
              "      <td>0.08758</td>\n",
              "    </tr>\n",
              "    <tr>\n",
              "      <th>3</th>\n",
              "      <td>84348301</td>\n",
              "      <td>M</td>\n",
              "      <td>11.42</td>\n",
              "      <td>20.38</td>\n",
              "      <td>77.58</td>\n",
              "      <td>386.1</td>\n",
              "      <td>0.14250</td>\n",
              "      <td>0.28390</td>\n",
              "      <td>0.2414</td>\n",
              "      <td>0.10520</td>\n",
              "      <td>...</td>\n",
              "      <td>14.91</td>\n",
              "      <td>26.50</td>\n",
              "      <td>98.87</td>\n",
              "      <td>567.7</td>\n",
              "      <td>0.2098</td>\n",
              "      <td>0.8663</td>\n",
              "      <td>0.6869</td>\n",
              "      <td>0.2575</td>\n",
              "      <td>0.6638</td>\n",
              "      <td>0.17300</td>\n",
              "    </tr>\n",
              "    <tr>\n",
              "      <th>4</th>\n",
              "      <td>84358402</td>\n",
              "      <td>M</td>\n",
              "      <td>20.29</td>\n",
              "      <td>14.34</td>\n",
              "      <td>135.10</td>\n",
              "      <td>1297.0</td>\n",
              "      <td>0.10030</td>\n",
              "      <td>0.13280</td>\n",
              "      <td>0.1980</td>\n",
              "      <td>0.10430</td>\n",
              "      <td>...</td>\n",
              "      <td>22.54</td>\n",
              "      <td>16.67</td>\n",
              "      <td>152.20</td>\n",
              "      <td>1575.0</td>\n",
              "      <td>0.1374</td>\n",
              "      <td>0.2050</td>\n",
              "      <td>0.4000</td>\n",
              "      <td>0.1625</td>\n",
              "      <td>0.2364</td>\n",
              "      <td>0.07678</td>\n",
              "    </tr>\n",
              "  </tbody>\n",
              "</table>\n",
              "<p>5 rows × 32 columns</p>\n",
              "</div>\n",
              "      <button class=\"colab-df-convert\" onclick=\"convertToInteractive('df-f3bb872a-0d81-4e2d-9e50-6b135f2f1de4')\"\n",
              "              title=\"Convert this dataframe to an interactive table.\"\n",
              "              style=\"display:none;\">\n",
              "        \n",
              "  <svg xmlns=\"http://www.w3.org/2000/svg\" height=\"24px\"viewBox=\"0 0 24 24\"\n",
              "       width=\"24px\">\n",
              "    <path d=\"M0 0h24v24H0V0z\" fill=\"none\"/>\n",
              "    <path d=\"M18.56 5.44l.94 2.06.94-2.06 2.06-.94-2.06-.94-.94-2.06-.94 2.06-2.06.94zm-11 1L8.5 8.5l.94-2.06 2.06-.94-2.06-.94L8.5 2.5l-.94 2.06-2.06.94zm10 10l.94 2.06.94-2.06 2.06-.94-2.06-.94-.94-2.06-.94 2.06-2.06.94z\"/><path d=\"M17.41 7.96l-1.37-1.37c-.4-.4-.92-.59-1.43-.59-.52 0-1.04.2-1.43.59L10.3 9.45l-7.72 7.72c-.78.78-.78 2.05 0 2.83L4 21.41c.39.39.9.59 1.41.59.51 0 1.02-.2 1.41-.59l7.78-7.78 2.81-2.81c.8-.78.8-2.07 0-2.86zM5.41 20L4 18.59l7.72-7.72 1.47 1.35L5.41 20z\"/>\n",
              "  </svg>\n",
              "      </button>\n",
              "      \n",
              "  <style>\n",
              "    .colab-df-container {\n",
              "      display:flex;\n",
              "      flex-wrap:wrap;\n",
              "      gap: 12px;\n",
              "    }\n",
              "\n",
              "    .colab-df-convert {\n",
              "      background-color: #E8F0FE;\n",
              "      border: none;\n",
              "      border-radius: 50%;\n",
              "      cursor: pointer;\n",
              "      display: none;\n",
              "      fill: #1967D2;\n",
              "      height: 32px;\n",
              "      padding: 0 0 0 0;\n",
              "      width: 32px;\n",
              "    }\n",
              "\n",
              "    .colab-df-convert:hover {\n",
              "      background-color: #E2EBFA;\n",
              "      box-shadow: 0px 1px 2px rgba(60, 64, 67, 0.3), 0px 1px 3px 1px rgba(60, 64, 67, 0.15);\n",
              "      fill: #174EA6;\n",
              "    }\n",
              "\n",
              "    [theme=dark] .colab-df-convert {\n",
              "      background-color: #3B4455;\n",
              "      fill: #D2E3FC;\n",
              "    }\n",
              "\n",
              "    [theme=dark] .colab-df-convert:hover {\n",
              "      background-color: #434B5C;\n",
              "      box-shadow: 0px 1px 3px 1px rgba(0, 0, 0, 0.15);\n",
              "      filter: drop-shadow(0px 1px 2px rgba(0, 0, 0, 0.3));\n",
              "      fill: #FFFFFF;\n",
              "    }\n",
              "  </style>\n",
              "\n",
              "      <script>\n",
              "        const buttonEl =\n",
              "          document.querySelector('#df-f3bb872a-0d81-4e2d-9e50-6b135f2f1de4 button.colab-df-convert');\n",
              "        buttonEl.style.display =\n",
              "          google.colab.kernel.accessAllowed ? 'block' : 'none';\n",
              "\n",
              "        async function convertToInteractive(key) {\n",
              "          const element = document.querySelector('#df-f3bb872a-0d81-4e2d-9e50-6b135f2f1de4');\n",
              "          const dataTable =\n",
              "            await google.colab.kernel.invokeFunction('convertToInteractive',\n",
              "                                                     [key], {});\n",
              "          if (!dataTable) return;\n",
              "\n",
              "          const docLinkHtml = 'Like what you see? Visit the ' +\n",
              "            '<a target=\"_blank\" href=https://colab.research.google.com/notebooks/data_table.ipynb>data table notebook</a>'\n",
              "            + ' to learn more about interactive tables.';\n",
              "          element.innerHTML = '';\n",
              "          dataTable['output_type'] = 'display_data';\n",
              "          await google.colab.output.renderOutput(dataTable, element);\n",
              "          const docLink = document.createElement('div');\n",
              "          docLink.innerHTML = docLinkHtml;\n",
              "          element.appendChild(docLink);\n",
              "        }\n",
              "      </script>\n",
              "    </div>\n",
              "  </div>\n",
              "  "
            ]
          },
          "metadata": {},
          "execution_count": 3
        }
      ],
      "source": [
        "df.head()"
      ]
    },
    {
      "cell_type": "code",
      "execution_count": null,
      "metadata": {
        "id": "zPXx3Y5eRhHH",
        "outputId": "09400a7d-d361-4fbf-ddc3-bc4285ec42ce",
        "colab": {
          "base_uri": "https://localhost:8080/",
          "height": 317
        }
      },
      "outputs": [
        {
          "output_type": "execute_result",
          "data": {
            "text/plain": [
              "         id diagnosis  radius_mean  texture_mean  perimeter_mean  area_mean  \\\n",
              "564  926424         M        21.56         22.39          142.00     1479.0   \n",
              "565  926682         M        20.13         28.25          131.20     1261.0   \n",
              "566  926954         M        16.60         28.08          108.30      858.1   \n",
              "567  927241         M        20.60         29.33          140.10     1265.0   \n",
              "568   92751         B         7.76         24.54           47.92      181.0   \n",
              "\n",
              "     smoothness_mean  compactness_mean  concavity_mean  concave points_mean  \\\n",
              "564          0.11100           0.11590         0.24390              0.13890   \n",
              "565          0.09780           0.10340         0.14400              0.09791   \n",
              "566          0.08455           0.10230         0.09251              0.05302   \n",
              "567          0.11780           0.27700         0.35140              0.15200   \n",
              "568          0.05263           0.04362         0.00000              0.00000   \n",
              "\n",
              "     ...  radius_worst  texture_worst  perimeter_worst  area_worst  \\\n",
              "564  ...        25.450          26.40           166.10      2027.0   \n",
              "565  ...        23.690          38.25           155.00      1731.0   \n",
              "566  ...        18.980          34.12           126.70      1124.0   \n",
              "567  ...        25.740          39.42           184.60      1821.0   \n",
              "568  ...         9.456          30.37            59.16       268.6   \n",
              "\n",
              "     smoothness_worst  compactness_worst  concavity_worst  \\\n",
              "564           0.14100            0.21130           0.4107   \n",
              "565           0.11660            0.19220           0.3215   \n",
              "566           0.11390            0.30940           0.3403   \n",
              "567           0.16500            0.86810           0.9387   \n",
              "568           0.08996            0.06444           0.0000   \n",
              "\n",
              "     concave points_worst  symmetry_worst  fractal_dimension_worst  \n",
              "564                0.2216          0.2060                  0.07115  \n",
              "565                0.1628          0.2572                  0.06637  \n",
              "566                0.1418          0.2218                  0.07820  \n",
              "567                0.2650          0.4087                  0.12400  \n",
              "568                0.0000          0.2871                  0.07039  \n",
              "\n",
              "[5 rows x 32 columns]"
            ],
            "text/html": [
              "\n",
              "  <div id=\"df-734cee2c-6b9f-4c3c-96a2-733c89abd1b3\">\n",
              "    <div class=\"colab-df-container\">\n",
              "      <div>\n",
              "<style scoped>\n",
              "    .dataframe tbody tr th:only-of-type {\n",
              "        vertical-align: middle;\n",
              "    }\n",
              "\n",
              "    .dataframe tbody tr th {\n",
              "        vertical-align: top;\n",
              "    }\n",
              "\n",
              "    .dataframe thead th {\n",
              "        text-align: right;\n",
              "    }\n",
              "</style>\n",
              "<table border=\"1\" class=\"dataframe\">\n",
              "  <thead>\n",
              "    <tr style=\"text-align: right;\">\n",
              "      <th></th>\n",
              "      <th>id</th>\n",
              "      <th>diagnosis</th>\n",
              "      <th>radius_mean</th>\n",
              "      <th>texture_mean</th>\n",
              "      <th>perimeter_mean</th>\n",
              "      <th>area_mean</th>\n",
              "      <th>smoothness_mean</th>\n",
              "      <th>compactness_mean</th>\n",
              "      <th>concavity_mean</th>\n",
              "      <th>concave points_mean</th>\n",
              "      <th>...</th>\n",
              "      <th>radius_worst</th>\n",
              "      <th>texture_worst</th>\n",
              "      <th>perimeter_worst</th>\n",
              "      <th>area_worst</th>\n",
              "      <th>smoothness_worst</th>\n",
              "      <th>compactness_worst</th>\n",
              "      <th>concavity_worst</th>\n",
              "      <th>concave points_worst</th>\n",
              "      <th>symmetry_worst</th>\n",
              "      <th>fractal_dimension_worst</th>\n",
              "    </tr>\n",
              "  </thead>\n",
              "  <tbody>\n",
              "    <tr>\n",
              "      <th>564</th>\n",
              "      <td>926424</td>\n",
              "      <td>M</td>\n",
              "      <td>21.56</td>\n",
              "      <td>22.39</td>\n",
              "      <td>142.00</td>\n",
              "      <td>1479.0</td>\n",
              "      <td>0.11100</td>\n",
              "      <td>0.11590</td>\n",
              "      <td>0.24390</td>\n",
              "      <td>0.13890</td>\n",
              "      <td>...</td>\n",
              "      <td>25.450</td>\n",
              "      <td>26.40</td>\n",
              "      <td>166.10</td>\n",
              "      <td>2027.0</td>\n",
              "      <td>0.14100</td>\n",
              "      <td>0.21130</td>\n",
              "      <td>0.4107</td>\n",
              "      <td>0.2216</td>\n",
              "      <td>0.2060</td>\n",
              "      <td>0.07115</td>\n",
              "    </tr>\n",
              "    <tr>\n",
              "      <th>565</th>\n",
              "      <td>926682</td>\n",
              "      <td>M</td>\n",
              "      <td>20.13</td>\n",
              "      <td>28.25</td>\n",
              "      <td>131.20</td>\n",
              "      <td>1261.0</td>\n",
              "      <td>0.09780</td>\n",
              "      <td>0.10340</td>\n",
              "      <td>0.14400</td>\n",
              "      <td>0.09791</td>\n",
              "      <td>...</td>\n",
              "      <td>23.690</td>\n",
              "      <td>38.25</td>\n",
              "      <td>155.00</td>\n",
              "      <td>1731.0</td>\n",
              "      <td>0.11660</td>\n",
              "      <td>0.19220</td>\n",
              "      <td>0.3215</td>\n",
              "      <td>0.1628</td>\n",
              "      <td>0.2572</td>\n",
              "      <td>0.06637</td>\n",
              "    </tr>\n",
              "    <tr>\n",
              "      <th>566</th>\n",
              "      <td>926954</td>\n",
              "      <td>M</td>\n",
              "      <td>16.60</td>\n",
              "      <td>28.08</td>\n",
              "      <td>108.30</td>\n",
              "      <td>858.1</td>\n",
              "      <td>0.08455</td>\n",
              "      <td>0.10230</td>\n",
              "      <td>0.09251</td>\n",
              "      <td>0.05302</td>\n",
              "      <td>...</td>\n",
              "      <td>18.980</td>\n",
              "      <td>34.12</td>\n",
              "      <td>126.70</td>\n",
              "      <td>1124.0</td>\n",
              "      <td>0.11390</td>\n",
              "      <td>0.30940</td>\n",
              "      <td>0.3403</td>\n",
              "      <td>0.1418</td>\n",
              "      <td>0.2218</td>\n",
              "      <td>0.07820</td>\n",
              "    </tr>\n",
              "    <tr>\n",
              "      <th>567</th>\n",
              "      <td>927241</td>\n",
              "      <td>M</td>\n",
              "      <td>20.60</td>\n",
              "      <td>29.33</td>\n",
              "      <td>140.10</td>\n",
              "      <td>1265.0</td>\n",
              "      <td>0.11780</td>\n",
              "      <td>0.27700</td>\n",
              "      <td>0.35140</td>\n",
              "      <td>0.15200</td>\n",
              "      <td>...</td>\n",
              "      <td>25.740</td>\n",
              "      <td>39.42</td>\n",
              "      <td>184.60</td>\n",
              "      <td>1821.0</td>\n",
              "      <td>0.16500</td>\n",
              "      <td>0.86810</td>\n",
              "      <td>0.9387</td>\n",
              "      <td>0.2650</td>\n",
              "      <td>0.4087</td>\n",
              "      <td>0.12400</td>\n",
              "    </tr>\n",
              "    <tr>\n",
              "      <th>568</th>\n",
              "      <td>92751</td>\n",
              "      <td>B</td>\n",
              "      <td>7.76</td>\n",
              "      <td>24.54</td>\n",
              "      <td>47.92</td>\n",
              "      <td>181.0</td>\n",
              "      <td>0.05263</td>\n",
              "      <td>0.04362</td>\n",
              "      <td>0.00000</td>\n",
              "      <td>0.00000</td>\n",
              "      <td>...</td>\n",
              "      <td>9.456</td>\n",
              "      <td>30.37</td>\n",
              "      <td>59.16</td>\n",
              "      <td>268.6</td>\n",
              "      <td>0.08996</td>\n",
              "      <td>0.06444</td>\n",
              "      <td>0.0000</td>\n",
              "      <td>0.0000</td>\n",
              "      <td>0.2871</td>\n",
              "      <td>0.07039</td>\n",
              "    </tr>\n",
              "  </tbody>\n",
              "</table>\n",
              "<p>5 rows × 32 columns</p>\n",
              "</div>\n",
              "      <button class=\"colab-df-convert\" onclick=\"convertToInteractive('df-734cee2c-6b9f-4c3c-96a2-733c89abd1b3')\"\n",
              "              title=\"Convert this dataframe to an interactive table.\"\n",
              "              style=\"display:none;\">\n",
              "        \n",
              "  <svg xmlns=\"http://www.w3.org/2000/svg\" height=\"24px\"viewBox=\"0 0 24 24\"\n",
              "       width=\"24px\">\n",
              "    <path d=\"M0 0h24v24H0V0z\" fill=\"none\"/>\n",
              "    <path d=\"M18.56 5.44l.94 2.06.94-2.06 2.06-.94-2.06-.94-.94-2.06-.94 2.06-2.06.94zm-11 1L8.5 8.5l.94-2.06 2.06-.94-2.06-.94L8.5 2.5l-.94 2.06-2.06.94zm10 10l.94 2.06.94-2.06 2.06-.94-2.06-.94-.94-2.06-.94 2.06-2.06.94z\"/><path d=\"M17.41 7.96l-1.37-1.37c-.4-.4-.92-.59-1.43-.59-.52 0-1.04.2-1.43.59L10.3 9.45l-7.72 7.72c-.78.78-.78 2.05 0 2.83L4 21.41c.39.39.9.59 1.41.59.51 0 1.02-.2 1.41-.59l7.78-7.78 2.81-2.81c.8-.78.8-2.07 0-2.86zM5.41 20L4 18.59l7.72-7.72 1.47 1.35L5.41 20z\"/>\n",
              "  </svg>\n",
              "      </button>\n",
              "      \n",
              "  <style>\n",
              "    .colab-df-container {\n",
              "      display:flex;\n",
              "      flex-wrap:wrap;\n",
              "      gap: 12px;\n",
              "    }\n",
              "\n",
              "    .colab-df-convert {\n",
              "      background-color: #E8F0FE;\n",
              "      border: none;\n",
              "      border-radius: 50%;\n",
              "      cursor: pointer;\n",
              "      display: none;\n",
              "      fill: #1967D2;\n",
              "      height: 32px;\n",
              "      padding: 0 0 0 0;\n",
              "      width: 32px;\n",
              "    }\n",
              "\n",
              "    .colab-df-convert:hover {\n",
              "      background-color: #E2EBFA;\n",
              "      box-shadow: 0px 1px 2px rgba(60, 64, 67, 0.3), 0px 1px 3px 1px rgba(60, 64, 67, 0.15);\n",
              "      fill: #174EA6;\n",
              "    }\n",
              "\n",
              "    [theme=dark] .colab-df-convert {\n",
              "      background-color: #3B4455;\n",
              "      fill: #D2E3FC;\n",
              "    }\n",
              "\n",
              "    [theme=dark] .colab-df-convert:hover {\n",
              "      background-color: #434B5C;\n",
              "      box-shadow: 0px 1px 3px 1px rgba(0, 0, 0, 0.15);\n",
              "      filter: drop-shadow(0px 1px 2px rgba(0, 0, 0, 0.3));\n",
              "      fill: #FFFFFF;\n",
              "    }\n",
              "  </style>\n",
              "\n",
              "      <script>\n",
              "        const buttonEl =\n",
              "          document.querySelector('#df-734cee2c-6b9f-4c3c-96a2-733c89abd1b3 button.colab-df-convert');\n",
              "        buttonEl.style.display =\n",
              "          google.colab.kernel.accessAllowed ? 'block' : 'none';\n",
              "\n",
              "        async function convertToInteractive(key) {\n",
              "          const element = document.querySelector('#df-734cee2c-6b9f-4c3c-96a2-733c89abd1b3');\n",
              "          const dataTable =\n",
              "            await google.colab.kernel.invokeFunction('convertToInteractive',\n",
              "                                                     [key], {});\n",
              "          if (!dataTable) return;\n",
              "\n",
              "          const docLinkHtml = 'Like what you see? Visit the ' +\n",
              "            '<a target=\"_blank\" href=https://colab.research.google.com/notebooks/data_table.ipynb>data table notebook</a>'\n",
              "            + ' to learn more about interactive tables.';\n",
              "          element.innerHTML = '';\n",
              "          dataTable['output_type'] = 'display_data';\n",
              "          await google.colab.output.renderOutput(dataTable, element);\n",
              "          const docLink = document.createElement('div');\n",
              "          docLink.innerHTML = docLinkHtml;\n",
              "          element.appendChild(docLink);\n",
              "        }\n",
              "      </script>\n",
              "    </div>\n",
              "  </div>\n",
              "  "
            ]
          },
          "metadata": {},
          "execution_count": 4
        }
      ],
      "source": [
        "df.tail()"
      ]
    },
    {
      "cell_type": "code",
      "execution_count": null,
      "metadata": {
        "id": "8fRlX2m2RhHI"
      },
      "outputs": [],
      "source": [
        ""
      ]
    },
    {
      "cell_type": "markdown",
      "metadata": {
        "id": "Gidm-3LKRhHI"
      },
      "source": [
        "# Prepare and Exploring the data \n",
        "\n",
        "Inspecting the variable types, missing values, outlying and possibly\n",
        "wrong records, and other issues. \n",
        "We will Perform some EDA (Exploratory Data Analysis) including frequency distribution of the target variable and see whether we have a very unbalanced classification problem. Also, we explore the associations between the response variable  and other attributes. "
      ]
    },
    {
      "cell_type": "code",
      "execution_count": null,
      "metadata": {
        "id": "_X5KCVWBRhHI",
        "outputId": "6b51cc5d-5838-4375-ef89-be737f2357dd",
        "colab": {
          "base_uri": "https://localhost:8080/"
        }
      },
      "outputs": [
        {
          "output_type": "execute_result",
          "data": {
            "text/plain": [
              "id                         0\n",
              "diagnosis                  0\n",
              "radius_mean                0\n",
              "texture_mean               0\n",
              "perimeter_mean             0\n",
              "area_mean                  0\n",
              "smoothness_mean            0\n",
              "compactness_mean           0\n",
              "concavity_mean             0\n",
              "concave points_mean        0\n",
              "symmetry_mean              0\n",
              "fractal_dimension_mean     0\n",
              "radius_se                  0\n",
              "texture_se                 0\n",
              "perimeter_se               0\n",
              "area_se                    0\n",
              "smoothness_se              0\n",
              "compactness_se             0\n",
              "concavity_se               0\n",
              "concave points_se          0\n",
              "symmetry_se                0\n",
              "fractal_dimension_se       0\n",
              "radius_worst               0\n",
              "texture_worst              0\n",
              "perimeter_worst            0\n",
              "area_worst                 0\n",
              "smoothness_worst           0\n",
              "compactness_worst          0\n",
              "concavity_worst            0\n",
              "concave points_worst       0\n",
              "symmetry_worst             0\n",
              "fractal_dimension_worst    0\n",
              "dtype: int64"
            ]
          },
          "metadata": {},
          "execution_count": 7
        }
      ],
      "source": [
        "# Checking for null values\n",
        "\n",
        "df.isnull().sum()"
      ]
    },
    {
      "cell_type": "markdown",
      "source": [
        "There is no missiing data"
      ],
      "metadata": {
        "id": "fWmcc29wgmCn"
      }
    },
    {
      "cell_type": "code",
      "source": [
        "#Dimension of the data\n",
        "df.shape"
      ],
      "metadata": {
        "colab": {
          "base_uri": "https://localhost:8080/"
        },
        "id": "rhUSWBNYh4zS",
        "outputId": "0fc9b803-0d94-40fa-a0c2-d6476ecc4b56"
      },
      "execution_count": null,
      "outputs": [
        {
          "output_type": "execute_result",
          "data": {
            "text/plain": [
              "(569, 32)"
            ]
          },
          "metadata": {},
          "execution_count": 12
        }
      ]
    },
    {
      "cell_type": "code",
      "execution_count": null,
      "metadata": {
        "id": "dOmi-35lRhHJ",
        "outputId": "637eecec-8b69-4466-fd30-e7f0fa65b39c",
        "colab": {
          "base_uri": "https://localhost:8080/"
        }
      },
      "outputs": [
        {
          "output_type": "stream",
          "name": "stdout",
          "text": [
            "The number of uniques values for feature id is: 569\n",
            "The number of unique values for feature diagnosis is: 2 -- [0 1]\n",
            "The number of uniques values for feature radius_mean is: 456\n",
            "The number of uniques values for feature texture_mean is: 479\n",
            "The number of uniques values for feature perimeter_mean is: 522\n",
            "The number of uniques values for feature area_mean is: 539\n",
            "The number of uniques values for feature smoothness_mean is: 474\n",
            "The number of uniques values for feature compactness_mean is: 537\n",
            "The number of uniques values for feature concavity_mean is: 537\n",
            "The number of uniques values for feature concave points_mean is: 542\n",
            "The number of uniques values for feature symmetry_mean is: 432\n",
            "The number of uniques values for feature fractal_dimension_mean is: 499\n",
            "The number of uniques values for feature radius_se is: 540\n",
            "The number of uniques values for feature texture_se is: 519\n",
            "The number of uniques values for feature perimeter_se is: 533\n",
            "The number of uniques values for feature area_se is: 528\n",
            "The number of uniques values for feature smoothness_se is: 547\n",
            "The number of uniques values for feature compactness_se is: 541\n",
            "The number of uniques values for feature concavity_se is: 533\n",
            "The number of uniques values for feature concave points_se is: 507\n",
            "The number of uniques values for feature symmetry_se is: 498\n",
            "The number of uniques values for feature fractal_dimension_se is: 545\n",
            "The number of uniques values for feature radius_worst is: 457\n",
            "The number of uniques values for feature texture_worst is: 511\n",
            "The number of uniques values for feature perimeter_worst is: 514\n",
            "The number of uniques values for feature area_worst is: 544\n",
            "The number of uniques values for feature smoothness_worst is: 411\n",
            "The number of uniques values for feature compactness_worst is: 529\n",
            "The number of uniques values for feature concavity_worst is: 539\n",
            "The number of uniques values for feature concave points_worst is: 492\n",
            "The number of uniques values for feature symmetry_worst is: 500\n",
            "The number of uniques values for feature fractal_dimension_worst is: 535\n"
          ]
        }
      ],
      "source": [
        "# Investigate all the elements whithin each Feature \n",
        "\n",
        "for column in df:\n",
        "    unique_values = np.unique(df[column])\n",
        "    nr_values = len(unique_values)\n",
        "    if nr_values <= 5:\n",
        "        print(\"The number of unique values for feature {} is: {} -- {}\".format(column, nr_values, unique_values))\n",
        "    else:\n",
        "        print(\"The number of uniques values for feature {} is: {}\".format(column, nr_values))"
      ]
    },
    {
      "cell_type": "markdown",
      "source": [
        "All features are continuous except the response variable diagnosis"
      ],
      "metadata": {
        "id": "F1JxOdGsgze-"
      }
    },
    {
      "cell_type": "markdown",
      "source": [
        "Transform the diagnosis M and B to Binary"
      ],
      "metadata": {
        "id": "luM39yxkhqE0"
      }
    },
    {
      "cell_type": "code",
      "source": [
        "# Creating Scale Map\n",
        "scale_mapper = {'M':1, 'B':0}\n",
        "\n",
        "# Map feature values to scale\n",
        "df['diagnosis'] = df['diagnosis'].replace(scale_mapper)"
      ],
      "metadata": {
        "id": "YRgP-Wvwhg4J"
      },
      "execution_count": null,
      "outputs": []
    },
    {
      "cell_type": "code",
      "execution_count": null,
      "metadata": {
        "id": "49p7lT_4RhHK",
        "outputId": "bc261a03-4b8d-4c02-d21c-09e18060f50a",
        "colab": {
          "base_uri": "https://localhost:8080/",
          "height": 296
        }
      },
      "outputs": [
        {
          "output_type": "execute_result",
          "data": {
            "text/plain": [
              "<matplotlib.axes._subplots.AxesSubplot at 0x7ff04e590690>"
            ]
          },
          "metadata": {},
          "execution_count": 5
        },
        {
          "output_type": "display_data",
          "data": {
            "text/plain": [
              "<Figure size 432x288 with 1 Axes>"
            ],
            "image/png": "[encoded data removed]"
          },
          "metadata": {
            "needs_background": "light"
          }
        }
      ],
      "source": [
        "#Response Balancesness :  frequency distribution\n",
        "\n",
        "sns.countplot(data=df,x='diagnosis')"
      ]
    },
    {
      "cell_type": "markdown",
      "source": [
        "Less than 50 % of the response are Malignant"
      ],
      "metadata": {
        "id": "c9VWWhYltjlm"
      }
    },
    {
      "cell_type": "code",
      "source": [
        "#Recheck the data\n",
        "df.head(2)"
      ],
      "metadata": {
        "colab": {
          "base_uri": "https://localhost:8080/",
          "height": 223
        },
        "id": "rEJoUdTOjAT9",
        "outputId": "7f93115d-2223-42ca-a4e5-a6ed26881040"
      },
      "execution_count": null,
      "outputs": [
        {
          "output_type": "execute_result",
          "data": {
            "text/plain": [
              "       id  diagnosis  radius_mean  texture_mean  perimeter_mean  area_mean  \\\n",
              "0  842302          1        17.99         10.38           122.8     1001.0   \n",
              "1  842517          1        20.57         17.77           132.9     1326.0   \n",
              "\n",
              "   smoothness_mean  compactness_mean  concavity_mean  concave points_mean  \\\n",
              "0          0.11840           0.27760          0.3001              0.14710   \n",
              "1          0.08474           0.07864          0.0869              0.07017   \n",
              "\n",
              "   ...  radius_worst  texture_worst  perimeter_worst  area_worst  \\\n",
              "0  ...         25.38          17.33            184.6      2019.0   \n",
              "1  ...         24.99          23.41            158.8      1956.0   \n",
              "\n",
              "   smoothness_worst  compactness_worst  concavity_worst  concave points_worst  \\\n",
              "0            0.1622             0.6656           0.7119                0.2654   \n",
              "1            0.1238             0.1866           0.2416                0.1860   \n",
              "\n",
              "   symmetry_worst  fractal_dimension_worst  \n",
              "0          0.4601                  0.11890  \n",
              "1          0.2750                  0.08902  \n",
              "\n",
              "[2 rows x 32 columns]"
            ],
            "text/html": [
              "\n",
              "  <div id=\"df-857f636f-c2a0-4c96-bd84-9d4afe5ee4c9\">\n",
              "    <div class=\"colab-df-container\">\n",
              "      <div>\n",
              "<style scoped>\n",
              "    .dataframe tbody tr th:only-of-type {\n",
              "        vertical-align: middle;\n",
              "    }\n",
              "\n",
              "    .dataframe tbody tr th {\n",
              "        vertical-align: top;\n",
              "    }\n",
              "\n",
              "    .dataframe thead th {\n",
              "        text-align: right;\n",
              "    }\n",
              "</style>\n",
              "<table border=\"1\" class=\"dataframe\">\n",
              "  <thead>\n",
              "    <tr style=\"text-align: right;\">\n",
              "      <th></th>\n",
              "      <th>id</th>\n",
              "      <th>diagnosis</th>\n",
              "      <th>radius_mean</th>\n",
              "      <th>texture_mean</th>\n",
              "      <th>perimeter_mean</th>\n",
              "      <th>area_mean</th>\n",
              "      <th>smoothness_mean</th>\n",
              "      <th>compactness_mean</th>\n",
              "      <th>concavity_mean</th>\n",
              "      <th>concave points_mean</th>\n",
              "      <th>...</th>\n",
              "      <th>radius_worst</th>\n",
              "      <th>texture_worst</th>\n",
              "      <th>perimeter_worst</th>\n",
              "      <th>area_worst</th>\n",
              "      <th>smoothness_worst</th>\n",
              "      <th>compactness_worst</th>\n",
              "      <th>concavity_worst</th>\n",
              "      <th>concave points_worst</th>\n",
              "      <th>symmetry_worst</th>\n",
              "      <th>fractal_dimension_worst</th>\n",
              "    </tr>\n",
              "  </thead>\n",
              "  <tbody>\n",
              "    <tr>\n",
              "      <th>0</th>\n",
              "      <td>842302</td>\n",
              "      <td>1</td>\n",
              "      <td>17.99</td>\n",
              "      <td>10.38</td>\n",
              "      <td>122.8</td>\n",
              "      <td>1001.0</td>\n",
              "      <td>0.11840</td>\n",
              "      <td>0.27760</td>\n",
              "      <td>0.3001</td>\n",
              "      <td>0.14710</td>\n",
              "      <td>...</td>\n",
              "      <td>25.38</td>\n",
              "      <td>17.33</td>\n",
              "      <td>184.6</td>\n",
              "      <td>2019.0</td>\n",
              "      <td>0.1622</td>\n",
              "      <td>0.6656</td>\n",
              "      <td>0.7119</td>\n",
              "      <td>0.2654</td>\n",
              "      <td>0.4601</td>\n",
              "      <td>0.11890</td>\n",
              "    </tr>\n",
              "    <tr>\n",
              "      <th>1</th>\n",
              "      <td>842517</td>\n",
              "      <td>1</td>\n",
              "      <td>20.57</td>\n",
              "      <td>17.77</td>\n",
              "      <td>132.9</td>\n",
              "      <td>1326.0</td>\n",
              "      <td>0.08474</td>\n",
              "      <td>0.07864</td>\n",
              "      <td>0.0869</td>\n",
              "      <td>0.07017</td>\n",
              "      <td>...</td>\n",
              "      <td>24.99</td>\n",
              "      <td>23.41</td>\n",
              "      <td>158.8</td>\n",
              "      <td>1956.0</td>\n",
              "      <td>0.1238</td>\n",
              "      <td>0.1866</td>\n",
              "      <td>0.2416</td>\n",
              "      <td>0.1860</td>\n",
              "      <td>0.2750</td>\n",
              "      <td>0.08902</td>\n",
              "    </tr>\n",
              "  </tbody>\n",
              "</table>\n",
              "<p>2 rows × 32 columns</p>\n",
              "</div>\n",
              "      <button class=\"colab-df-convert\" onclick=\"convertToInteractive('df-857f636f-c2a0-4c96-bd84-9d4afe5ee4c9')\"\n",
              "              title=\"Convert this dataframe to an interactive table.\"\n",
              "              style=\"display:none;\">\n",
              "        \n",
              "  <svg xmlns=\"http://www.w3.org/2000/svg\" height=\"24px\"viewBox=\"0 0 24 24\"\n",
              "       width=\"24px\">\n",
              "    <path d=\"M0 0h24v24H0V0z\" fill=\"none\"/>\n",
              "    <path d=\"M18.56 5.44l.94 2.06.94-2.06 2.06-.94-2.06-.94-.94-2.06-.94 2.06-2.06.94zm-11 1L8.5 8.5l.94-2.06 2.06-.94-2.06-.94L8.5 2.5l-.94 2.06-2.06.94zm10 10l.94 2.06.94-2.06 2.06-.94-2.06-.94-.94-2.06-.94 2.06-2.06.94z\"/><path d=\"M17.41 7.96l-1.37-1.37c-.4-.4-.92-.59-1.43-.59-.52 0-1.04.2-1.43.59L10.3 9.45l-7.72 7.72c-.78.78-.78 2.05 0 2.83L4 21.41c.39.39.9.59 1.41.59.51 0 1.02-.2 1.41-.59l7.78-7.78 2.81-2.81c.8-.78.8-2.07 0-2.86zM5.41 20L4 18.59l7.72-7.72 1.47 1.35L5.41 20z\"/>\n",
              "  </svg>\n",
              "      </button>\n",
              "      \n",
              "  <style>\n",
              "    .colab-df-container {\n",
              "      display:flex;\n",
              "      flex-wrap:wrap;\n",
              "      gap: 12px;\n",
              "    }\n",
              "\n",
              "    .colab-df-convert {\n",
              "      background-color: #E8F0FE;\n",
              "      border: none;\n",
              "      border-radius: 50%;\n",
              "      cursor: pointer;\n",
              "      display: none;\n",
              "      fill: #1967D2;\n",
              "      height: 32px;\n",
              "      padding: 0 0 0 0;\n",
              "      width: 32px;\n",
              "    }\n",
              "\n",
              "    .colab-df-convert:hover {\n",
              "      background-color: #E2EBFA;\n",
              "      box-shadow: 0px 1px 2px rgba(60, 64, 67, 0.3), 0px 1px 3px 1px rgba(60, 64, 67, 0.15);\n",
              "      fill: #174EA6;\n",
              "    }\n",
              "\n",
              "    [theme=dark] .colab-df-convert {\n",
              "      background-color: #3B4455;\n",
              "      fill: #D2E3FC;\n",
              "    }\n",
              "\n",
              "    [theme=dark] .colab-df-convert:hover {\n",
              "      background-color: #434B5C;\n",
              "      box-shadow: 0px 1px 3px 1px rgba(0, 0, 0, 0.15);\n",
              "      filter: drop-shadow(0px 1px 2px rgba(0, 0, 0, 0.3));\n",
              "      fill: #FFFFFF;\n",
              "    }\n",
              "  </style>\n",
              "\n",
              "      <script>\n",
              "        const buttonEl =\n",
              "          document.querySelector('#df-857f636f-c2a0-4c96-bd84-9d4afe5ee4c9 button.colab-df-convert');\n",
              "        buttonEl.style.display =\n",
              "          google.colab.kernel.accessAllowed ? 'block' : 'none';\n",
              "\n",
              "        async function convertToInteractive(key) {\n",
              "          const element = document.querySelector('#df-857f636f-c2a0-4c96-bd84-9d4afe5ee4c9');\n",
              "          const dataTable =\n",
              "            await google.colab.kernel.invokeFunction('convertToInteractive',\n",
              "                                                     [key], {});\n",
              "          if (!dataTable) return;\n",
              "\n",
              "          const docLinkHtml = 'Like what you see? Visit the ' +\n",
              "            '<a target=\"_blank\" href=https://colab.research.google.com/notebooks/data_table.ipynb>data table notebook</a>'\n",
              "            + ' to learn more about interactive tables.';\n",
              "          element.innerHTML = '';\n",
              "          dataTable['output_type'] = 'display_data';\n",
              "          await google.colab.output.renderOutput(dataTable, element);\n",
              "          const docLink = document.createElement('div');\n",
              "          docLink.innerHTML = docLinkHtml;\n",
              "          element.appendChild(docLink);\n",
              "        }\n",
              "      </script>\n",
              "    </div>\n",
              "  </div>\n",
              "  "
            ]
          },
          "metadata": {},
          "execution_count": 6
        }
      ]
    },
    {
      "cell_type": "markdown",
      "source": [
        "### Investigating Multicolinearity"
      ],
      "metadata": {
        "id": "q6SGKlcPjhAe"
      }
    },
    {
      "cell_type": "code",
      "source": [
        "dfcor = df.drop(columns=['diagnosis'])"
      ],
      "metadata": {
        "id": "9APg-DMAjpEb"
      },
      "execution_count": null,
      "outputs": []
    },
    {
      "cell_type": "code",
      "source": [
        "# Pairing Multicolinear Features\n",
        "\n",
        "correlatedColumns = []\n",
        "corr = dfcor.corr()\n",
        "indices = corr.index\n",
        "columns = corr.columns\n",
        "posthreshold = 0.85\n",
        "negthreshold = -0.85\n",
        "\n",
        "for c in columns:\n",
        "    for r in indices:\n",
        "        if c != r and (corr[c][r] > posthreshold or corr[c][r] < negthreshold):\n",
        "            correlatedColumns.append({\"column\" : c , \"row\" : r , \"val\" :corr[c][r] })\n",
        "            \n",
        "if len(correlatedColumns) < 1: print('No Multicolinearity found in dataset')\n",
        "\n",
        "else: print(correlatedColumns)"
      ],
      "metadata": {
        "colab": {
          "base_uri": "https://localhost:8080/"
        },
        "id": "pIGdKHGLjwCy",
        "outputId": "3524e4a3-acd3-4ad3-878b-77ccaf0a699c"
      },
      "execution_count": null,
      "outputs": [
        {
          "output_type": "stream",
          "name": "stdout",
          "text": [
            "[{'column': 'radius_mean', 'row': 'perimeter_mean', 'val': 0.9978552814938109}, {'column': 'radius_mean', 'row': 'area_mean', 'val': 0.9873571700566127}, {'column': 'radius_mean', 'row': 'radius_worst', 'val': 0.9695389726112055}, {'column': 'radius_mean', 'row': 'perimeter_worst', 'val': 0.9651365139559871}, {'column': 'radius_mean', 'row': 'area_worst', 'val': 0.9410824595860461}, {'column': 'texture_mean', 'row': 'texture_worst', 'val': 0.912044588840421}, {'column': 'perimeter_mean', 'row': 'radius_mean', 'val': 0.9978552814938109}, {'column': 'perimeter_mean', 'row': 'area_mean', 'val': 0.9865068039913907}, {'column': 'perimeter_mean', 'row': 'concave points_mean', 'val': 0.8509770412528191}, {'column': 'perimeter_mean', 'row': 'radius_worst', 'val': 0.9694763634663146}, {'column': 'perimeter_mean', 'row': 'perimeter_worst', 'val': 0.9703868870426394}, {'column': 'perimeter_mean', 'row': 'area_worst', 'val': 0.9415498080023068}, {'column': 'area_mean', 'row': 'radius_mean', 'val': 0.9873571700566127}, {'column': 'area_mean', 'row': 'perimeter_mean', 'val': 0.9865068039913907}, {'column': 'area_mean', 'row': 'radius_worst', 'val': 0.9627460860470841}, {'column': 'area_mean', 'row': 'perimeter_worst', 'val': 0.9591195743552645}, {'column': 'area_mean', 'row': 'area_worst', 'val': 0.9592133256498998}, {'column': 'compactness_mean', 'row': 'concavity_mean', 'val': 0.8831206701772507}, {'column': 'compactness_mean', 'row': 'compactness_worst', 'val': 0.8658090398022629}, {'column': 'concavity_mean', 'row': 'compactness_mean', 'val': 0.8831206701772507}, {'column': 'concavity_mean', 'row': 'concave points_mean', 'val': 0.9213910263788588}, {'column': 'concavity_mean', 'row': 'concavity_worst', 'val': 0.8841026390943817}, {'column': 'concavity_mean', 'row': 'concave points_worst', 'val': 0.861323033637951}, {'column': 'concave points_mean', 'row': 'perimeter_mean', 'val': 0.8509770412528191}, {'column': 'concave points_mean', 'row': 'concavity_mean', 'val': 0.9213910263788588}, {'column': 'concave points_mean', 'row': 'perimeter_worst', 'val': 0.8559231281343119}, {'column': 'concave points_mean', 'row': 'concave points_worst', 'val': 0.9101553142985918}, {'column': 'radius_se', 'row': 'perimeter_se', 'val': 0.9727936770160764}, {'column': 'radius_se', 'row': 'area_se', 'val': 0.951830112110991}, {'column': 'perimeter_se', 'row': 'radius_se', 'val': 0.9727936770160764}, {'column': 'perimeter_se', 'row': 'area_se', 'val': 0.9376554069544157}, {'column': 'area_se', 'row': 'radius_se', 'val': 0.951830112110991}, {'column': 'area_se', 'row': 'perimeter_se', 'val': 0.9376554069544157}, {'column': 'radius_worst', 'row': 'radius_mean', 'val': 0.9695389726112055}, {'column': 'radius_worst', 'row': 'perimeter_mean', 'val': 0.9694763634663146}, {'column': 'radius_worst', 'row': 'area_mean', 'val': 0.9627460860470841}, {'column': 'radius_worst', 'row': 'perimeter_worst', 'val': 0.993707916102949}, {'column': 'radius_worst', 'row': 'area_worst', 'val': 0.9840145644590742}, {'column': 'texture_worst', 'row': 'texture_mean', 'val': 0.912044588840421}, {'column': 'perimeter_worst', 'row': 'radius_mean', 'val': 0.9651365139559871}, {'column': 'perimeter_worst', 'row': 'perimeter_mean', 'val': 0.9703868870426394}, {'column': 'perimeter_worst', 'row': 'area_mean', 'val': 0.9591195743552645}, {'column': 'perimeter_worst', 'row': 'concave points_mean', 'val': 0.8559231281343119}, {'column': 'perimeter_worst', 'row': 'radius_worst', 'val': 0.993707916102949}, {'column': 'perimeter_worst', 'row': 'area_worst', 'val': 0.9775780914063871}, {'column': 'area_worst', 'row': 'radius_mean', 'val': 0.9410824595860461}, {'column': 'area_worst', 'row': 'perimeter_mean', 'val': 0.9415498080023068}, {'column': 'area_worst', 'row': 'area_mean', 'val': 0.9592133256498998}, {'column': 'area_worst', 'row': 'radius_worst', 'val': 0.9840145644590742}, {'column': 'area_worst', 'row': 'perimeter_worst', 'val': 0.9775780914063871}, {'column': 'compactness_worst', 'row': 'compactness_mean', 'val': 0.8658090398022629}, {'column': 'compactness_worst', 'row': 'concavity_worst', 'val': 0.8922608987764685}, {'column': 'concavity_worst', 'row': 'concavity_mean', 'val': 0.8841026390943817}, {'column': 'concavity_worst', 'row': 'compactness_worst', 'val': 0.8922608987764685}, {'column': 'concavity_worst', 'row': 'concave points_worst', 'val': 0.8554338603439982}, {'column': 'concave points_worst', 'row': 'concavity_mean', 'val': 0.861323033637951}, {'column': 'concave points_worst', 'row': 'concave points_mean', 'val': 0.9101553142985918}, {'column': 'concave points_worst', 'row': 'concavity_worst', 'val': 0.8554338603439982}]\n"
          ]
        }
      ]
    },
    {
      "cell_type": "markdown",
      "source": [
        "The result shows the features that are Multicolinear \n",
        "We have to remove them so our model don't fail later on"
      ],
      "metadata": {
        "id": "GrJyldNImF9s"
      }
    },
    {
      "cell_type": "code",
      "source": [
        ""
      ],
      "metadata": {
        "id": "HwiJ7v_HuV2Z"
      },
      "execution_count": null,
      "outputs": []
    },
    {
      "cell_type": "markdown",
      "source": [
        "We will delete the features that are highly correlated from the dataset as and get a cleaner dataset for our use using this snippet of code"
      ],
      "metadata": {
        "id": "Ie07SNsklWRy"
      }
    },
    {
      "cell_type": "code",
      "source": [
        "# Get correlation matrix \n",
        "corr = df.corr()\n",
        "\n",
        "# Create a mask for values above 90% \n",
        "# But also below 100% since it variables correlated with the same one\n",
        "mask = (df.corr() > 0.85) & (df.corr() < 1.0)\n",
        "high_corr = corr[mask]\n",
        "\n",
        "# Create a new column mask using any() and ~\n",
        "col_to_filter_out = ~high_corr[mask].any()\n",
        "\n",
        "# Apply new mask\n",
        "df_clean = df[high_corr.columns[col_to_filter_out]]\n",
        "\n",
        "# Visualize cleaned dataset\n",
        "df_clean.head(2)"
      ],
      "metadata": {
        "colab": {
          "base_uri": "https://localhost:8080/",
          "height": 193
        },
        "id": "uSMAX4XPjwF0",
        "outputId": "665b80bc-a9c4-432c-db71-7098b383dead"
      },
      "execution_count": null,
      "outputs": [
        {
          "output_type": "execute_result",
          "data": {
            "text/plain": [
              "       id  diagnosis  smoothness_mean  symmetry_mean  fractal_dimension_mean  \\\n",
              "0  842302          1          0.11840         0.2419                 0.07871   \n",
              "1  842517          1          0.08474         0.1812                 0.05667   \n",
              "\n",
              "   texture_se  smoothness_se  compactness_se  concavity_se  concave points_se  \\\n",
              "0      0.9053       0.006399         0.04904       0.05373            0.01587   \n",
              "1      0.7339       0.005225         0.01308       0.01860            0.01340   \n",
              "\n",
              "   symmetry_se  fractal_dimension_se  smoothness_worst  symmetry_worst  \\\n",
              "0      0.03003              0.006193            0.1622          0.4601   \n",
              "1      0.01389              0.003532            0.1238          0.2750   \n",
              "\n",
              "   fractal_dimension_worst  \n",
              "0                  0.11890  \n",
              "1                  0.08902  "
            ],
            "text/html": [
              "\n",
              "  <div id=\"df-907e6db4-b353-4c9c-92b0-e40aaf0e956d\">\n",
              "    <div class=\"colab-df-container\">\n",
              "      <div>\n",
              "<style scoped>\n",
              "    .dataframe tbody tr th:only-of-type {\n",
              "        vertical-align: middle;\n",
              "    }\n",
              "\n",
              "    .dataframe tbody tr th {\n",
              "        vertical-align: top;\n",
              "    }\n",
              "\n",
              "    .dataframe thead th {\n",
              "        text-align: right;\n",
              "    }\n",
              "</style>\n",
              "<table border=\"1\" class=\"dataframe\">\n",
              "  <thead>\n",
              "    <tr style=\"text-align: right;\">\n",
              "      <th></th>\n",
              "      <th>id</th>\n",
              "      <th>diagnosis</th>\n",
              "      <th>smoothness_mean</th>\n",
              "      <th>symmetry_mean</th>\n",
              "      <th>fractal_dimension_mean</th>\n",
              "      <th>texture_se</th>\n",
              "      <th>smoothness_se</th>\n",
              "      <th>compactness_se</th>\n",
              "      <th>concavity_se</th>\n",
              "      <th>concave points_se</th>\n",
              "      <th>symmetry_se</th>\n",
              "      <th>fractal_dimension_se</th>\n",
              "      <th>smoothness_worst</th>\n",
              "      <th>symmetry_worst</th>\n",
              "      <th>fractal_dimension_worst</th>\n",
              "    </tr>\n",
              "  </thead>\n",
              "  <tbody>\n",
              "    <tr>\n",
              "      <th>0</th>\n",
              "      <td>842302</td>\n",
              "      <td>1</td>\n",
              "      <td>0.11840</td>\n",
              "      <td>0.2419</td>\n",
              "      <td>0.07871</td>\n",
              "      <td>0.9053</td>\n",
              "      <td>0.006399</td>\n",
              "      <td>0.04904</td>\n",
              "      <td>0.05373</td>\n",
              "      <td>0.01587</td>\n",
              "      <td>0.03003</td>\n",
              "      <td>0.006193</td>\n",
              "      <td>0.1622</td>\n",
              "      <td>0.4601</td>\n",
              "      <td>0.11890</td>\n",
              "    </tr>\n",
              "    <tr>\n",
              "      <th>1</th>\n",
              "      <td>842517</td>\n",
              "      <td>1</td>\n",
              "      <td>0.08474</td>\n",
              "      <td>0.1812</td>\n",
              "      <td>0.05667</td>\n",
              "      <td>0.7339</td>\n",
              "      <td>0.005225</td>\n",
              "      <td>0.01308</td>\n",
              "      <td>0.01860</td>\n",
              "      <td>0.01340</td>\n",
              "      <td>0.01389</td>\n",
              "      <td>0.003532</td>\n",
              "      <td>0.1238</td>\n",
              "      <td>0.2750</td>\n",
              "      <td>0.08902</td>\n",
              "    </tr>\n",
              "  </tbody>\n",
              "</table>\n",
              "</div>\n",
              "      <button class=\"colab-df-convert\" onclick=\"convertToInteractive('df-907e6db4-b353-4c9c-92b0-e40aaf0e956d')\"\n",
              "              title=\"Convert this dataframe to an interactive table.\"\n",
              "              style=\"display:none;\">\n",
              "        \n",
              "  <svg xmlns=\"http://www.w3.org/2000/svg\" height=\"24px\"viewBox=\"0 0 24 24\"\n",
              "       width=\"24px\">\n",
              "    <path d=\"M0 0h24v24H0V0z\" fill=\"none\"/>\n",
              "    <path d=\"M18.56 5.44l.94 2.06.94-2.06 2.06-.94-2.06-.94-.94-2.06-.94 2.06-2.06.94zm-11 1L8.5 8.5l.94-2.06 2.06-.94-2.06-.94L8.5 2.5l-.94 2.06-2.06.94zm10 10l.94 2.06.94-2.06 2.06-.94-2.06-.94-.94-2.06-.94 2.06-2.06.94z\"/><path d=\"M17.41 7.96l-1.37-1.37c-.4-.4-.92-.59-1.43-.59-.52 0-1.04.2-1.43.59L10.3 9.45l-7.72 7.72c-.78.78-.78 2.05 0 2.83L4 21.41c.39.39.9.59 1.41.59.51 0 1.02-.2 1.41-.59l7.78-7.78 2.81-2.81c.8-.78.8-2.07 0-2.86zM5.41 20L4 18.59l7.72-7.72 1.47 1.35L5.41 20z\"/>\n",
              "  </svg>\n",
              "      </button>\n",
              "      \n",
              "  <style>\n",
              "    .colab-df-container {\n",
              "      display:flex;\n",
              "      flex-wrap:wrap;\n",
              "      gap: 12px;\n",
              "    }\n",
              "\n",
              "    .colab-df-convert {\n",
              "      background-color: #E8F0FE;\n",
              "      border: none;\n",
              "      border-radius: 50%;\n",
              "      cursor: pointer;\n",
              "      display: none;\n",
              "      fill: #1967D2;\n",
              "      height: 32px;\n",
              "      padding: 0 0 0 0;\n",
              "      width: 32px;\n",
              "    }\n",
              "\n",
              "    .colab-df-convert:hover {\n",
              "      background-color: #E2EBFA;\n",
              "      box-shadow: 0px 1px 2px rgba(60, 64, 67, 0.3), 0px 1px 3px 1px rgba(60, 64, 67, 0.15);\n",
              "      fill: #174EA6;\n",
              "    }\n",
              "\n",
              "    [theme=dark] .colab-df-convert {\n",
              "      background-color: #3B4455;\n",
              "      fill: #D2E3FC;\n",
              "    }\n",
              "\n",
              "    [theme=dark] .colab-df-convert:hover {\n",
              "      background-color: #434B5C;\n",
              "      box-shadow: 0px 1px 3px 1px rgba(0, 0, 0, 0.15);\n",
              "      filter: drop-shadow(0px 1px 2px rgba(0, 0, 0, 0.3));\n",
              "      fill: #FFFFFF;\n",
              "    }\n",
              "  </style>\n",
              "\n",
              "      <script>\n",
              "        const buttonEl =\n",
              "          document.querySelector('#df-907e6db4-b353-4c9c-92b0-e40aaf0e956d button.colab-df-convert');\n",
              "        buttonEl.style.display =\n",
              "          google.colab.kernel.accessAllowed ? 'block' : 'none';\n",
              "\n",
              "        async function convertToInteractive(key) {\n",
              "          const element = document.querySelector('#df-907e6db4-b353-4c9c-92b0-e40aaf0e956d');\n",
              "          const dataTable =\n",
              "            await google.colab.kernel.invokeFunction('convertToInteractive',\n",
              "                                                     [key], {});\n",
              "          if (!dataTable) return;\n",
              "\n",
              "          const docLinkHtml = 'Like what you see? Visit the ' +\n",
              "            '<a target=\"_blank\" href=https://colab.research.google.com/notebooks/data_table.ipynb>data table notebook</a>'\n",
              "            + ' to learn more about interactive tables.';\n",
              "          element.innerHTML = '';\n",
              "          dataTable['output_type'] = 'display_data';\n",
              "          await google.colab.output.renderOutput(dataTable, element);\n",
              "          const docLink = document.createElement('div');\n",
              "          docLink.innerHTML = docLinkHtml;\n",
              "          element.appendChild(docLink);\n",
              "        }\n",
              "      </script>\n",
              "    </div>\n",
              "  </div>\n",
              "  "
            ]
          },
          "metadata": {},
          "execution_count": 13
        }
      ]
    },
    {
      "cell_type": "code",
      "source": [
        "len(df_clean.columns)"
      ],
      "metadata": {
        "colab": {
          "base_uri": "https://localhost:8080/"
        },
        "id": "i30C552flDm7",
        "outputId": "b8a392a8-81ec-4013-98ca-8d6298d1b969"
      },
      "execution_count": null,
      "outputs": [
        {
          "output_type": "execute_result",
          "data": {
            "text/plain": [
              "15"
            ]
          },
          "metadata": {},
          "execution_count": 14
        }
      ]
    },
    {
      "cell_type": "markdown",
      "source": [
        "This gives the 14 features left from 49 initial features which will benefit our models\n",
        "From now on, we will use the df_clean dataframe"
      ],
      "metadata": {
        "id": "OWEAORrcqkxN"
      }
    },
    {
      "cell_type": "markdown",
      "source": [
        "#### Investigate the distribution of the response"
      ],
      "metadata": {
        "id": "CBK_x38kngGI"
      }
    },
    {
      "cell_type": "code",
      "source": [
        "df_clean['diagnosis'].describe()"
      ],
      "metadata": {
        "colab": {
          "base_uri": "https://localhost:8080/"
        },
        "id": "szABwgyjnaOV",
        "outputId": "a6085793-f843-4e47-ca39-6d6e47668dc1"
      },
      "execution_count": null,
      "outputs": [
        {
          "output_type": "execute_result",
          "data": {
            "text/plain": [
              "count    569.000000\n",
              "mean       0.372583\n",
              "std        0.483918\n",
              "min        0.000000\n",
              "25%        0.000000\n",
              "50%        0.000000\n",
              "75%        1.000000\n",
              "max        1.000000\n",
              "Name: diagnosis, dtype: float64"
            ]
          },
          "metadata": {},
          "execution_count": 15
        }
      ]
    },
    {
      "cell_type": "markdown",
      "source": [
        "#### Histogram Ditribution of the features"
      ],
      "metadata": {
        "id": "Nf6vgRhdqcAd"
      }
    },
    {
      "cell_type": "code",
      "execution_count": null,
      "metadata": {
        "id": "FVkynpVtRhHK",
        "outputId": "f7c47d95-4700-48e2-ab4e-a9991e774ea7",
        "colab": {
          "base_uri": "https://localhost:8080/",
          "height": 729
        }
      },
      "outputs": [
        {
          "output_type": "display_data",
          "data": {
            "text/plain": [
              "<Figure size 1080x720 with 12 Axes>"
            ],
            "image/png": "[encoded data removed]"
          },
          "metadata": {
            "needs_background": "light"
          }
        }
      ],
      "source": [
        "### Histogram Ditribution of the features\n",
        "\n",
        "fig,axs = plt.subplots(4,3, figsize = (15,10))\n",
        "\n",
        "sns.histplot(data=df_clean, x=\"smoothness_mean\",  color=\"skyblue\", ax=axs[0, 0], kde=True)\n",
        "sns.histplot(data=df_clean, x=\"symmetry_mean\", color=\"olive\", ax=axs[0, 1], kde=True)\n",
        "sns.histplot(data=df_clean, x=\"fractal_dimension_mean\", color=\"gold\", ax=axs[0, 2], kde=True)\n",
        "\n",
        "sns.histplot(data=df_clean, x=\"texture_se\",color=\"teal\", ax=axs[1, 0], kde=True)\n",
        "sns.histplot(data=df_clean, x=\"smoothness_se\",color=\"teal\", ax=axs[1, 1], kde=True)\n",
        "sns.histplot(data=df_clean, x=\"compactness_se\", color=\"blue\", ax=axs[1, 2], kde=True)\n",
        "\n",
        "sns.histplot(data=df_clean, x=\"concavity_se\", color=\"purple\", ax=axs[2,0], kde=True)\n",
        "sns.histplot(data=df_clean, x=\"concave points_se\", color=\"purple\", ax=axs[2,1], kde=True)\n",
        "sns.histplot(data=df_clean, x=\"symmetry_se\", color=\"purple\", ax=axs[2,2], kde=True)\n",
        "\n",
        "sns.histplot(data=df_clean, x=\"fractal_dimension_se\", color=\"purple\", ax=axs[3,0], kde=True)\n",
        "sns.histplot(data=df_clean, x=\"smoothness_worst\", color=\"purple\", ax=axs[3,1], kde=True)\n",
        "sns.histplot(data=df_clean, x=\"symmetry_worst\", color=\"purple\", ax=axs[3,2], kde=True)\n",
        "\n",
        "fig.tight_layout()"
      ]
    },
    {
      "cell_type": "markdown",
      "metadata": {
        "id": "oA14KKG_RhHL"
      },
      "source": [
        "The didtribution shown, we can tell that all the variable have normal distribution\n",
        "This will benefit our model"
      ]
    },
    {
      "cell_type": "code",
      "source": [
        ""
      ],
      "metadata": {
        "id": "D8hoDKujx9ir"
      },
      "execution_count": null,
      "outputs": []
    },
    {
      "cell_type": "markdown",
      "source": [
        "### Effect of each feature on the response variable\n",
        "The barplot showed the effect of each precitor on the response"
      ],
      "metadata": {
        "id": "ijShTKJrtLXU"
      }
    },
    {
      "cell_type": "code",
      "execution_count": null,
      "metadata": {
        "id": "HW1eMLMMRhHL",
        "colab": {
          "base_uri": "https://localhost:8080/",
          "height": 727
        },
        "outputId": "16c27c77-dd5a-4076-cc9e-d0fe805275ed"
      },
      "outputs": [
        {
          "output_type": "display_data",
          "data": {
            "text/plain": [
              "<Figure size 1080x720 with 12 Axes>"
            ],
            "image/png": "[encoded data removed]"
          },
          "metadata": {
            "needs_background": "light"
          }
        }
      ],
      "source": [
        "# BarPlot Ditribution of the features\n",
        "\n",
        "fig,axs = plt.subplots(4,3, figsize = (15,10))\n",
        "\n",
        "sns.barplot(data=df_clean, x='diagnosis', y=\"smoothness_mean\",  color=\"skyblue\", ax=axs[0, 0])\n",
        "sns.barplot(data=df_clean, x='diagnosis', y=\"symmetry_mean\", color=\"olive\", ax=axs[0, 1])\n",
        "sns.barplot(data=df_clean, x='diagnosis', y=\"fractal_dimension_mean\", color=\"gold\", ax=axs[0, 2])\n",
        "\n",
        "sns.barplot(data=df_clean, x='diagnosis', y=\"texture_se\",color=\"teal\", ax=axs[1, 0])\n",
        "sns.barplot(data=df_clean, x='diagnosis', y=\"smoothness_se\",color=\"teal\", ax=axs[1, 1])\n",
        "sns.barplot(data=df_clean, x='diagnosis', y=\"compactness_se\", color=\"blue\", ax=axs[1, 2])\n",
        "\n",
        "sns.barplot(data=df_clean, x='diagnosis', y=\"concavity_se\", color=\"purple\", ax=axs[2,0])\n",
        "sns.barplot(data=df_clean, x='diagnosis', y=\"concave points_se\", color=\"purple\", ax=axs[2,1])\n",
        "sns.barplot(data=df_clean, x='diagnosis', y=\"symmetry_se\", color=\"purple\", ax=axs[2,2])\n",
        "\n",
        "sns.barplot(data=df_clean, x='diagnosis', y=\"fractal_dimension_se\", color=\"purple\", ax=axs[3,0])\n",
        "sns.barplot(data=df_clean, x='diagnosis', y=\"smoothness_worst\", color=\"purple\", ax=axs[3,1])\n",
        "sns.barplot(data=df_clean, x='diagnosis', y=\"symmetry_worst\", color=\"purple\", ax=axs[3,2])\n",
        "\n",
        "fig.tight_layout()"
      ]
    },
    {
      "cell_type": "code",
      "execution_count": null,
      "metadata": {
        "id": "FM0tw9n6RhHN"
      },
      "outputs": [],
      "source": [
        ""
      ]
    },
    {
      "cell_type": "markdown",
      "metadata": {
        "id": "9Ygl3pRtRhHP"
      },
      "source": [
        "### Standardize The Data\n",
        "We will standardize the data before spliting the data"
      ]
    },
    {
      "cell_type": "code",
      "execution_count": null,
      "metadata": {
        "id": "zHC30I-0RhHP",
        "outputId": "b34c42ad-c9e4-4182-b22b-148bb63dba8f",
        "colab": {
          "base_uri": "https://localhost:8080/"
        }
      },
      "outputs": [
        {
          "output_type": "execute_result",
          "data": {
            "text/plain": [
              "Index(['id', 'diagnosis', 'smoothness_mean', 'symmetry_mean',\n",
              "       'fractal_dimension_mean', 'texture_se', 'smoothness_se',\n",
              "       'compactness_se', 'concavity_se', 'concave points_se', 'symmetry_se',\n",
              "       'fractal_dimension_se', 'smoothness_worst', 'symmetry_worst',\n",
              "       'fractal_dimension_worst'],\n",
              "      dtype='object')"
            ]
          },
          "metadata": {},
          "execution_count": 57
        }
      ],
      "source": [
        "df_clean.columns"
      ]
    },
    {
      "cell_type": "code",
      "execution_count": null,
      "metadata": {
        "id": "H9ya-gPyRhHP",
        "outputId": "530d1386-587f-4f4e-f646-76ec0737f12f",
        "colab": {
          "base_uri": "https://localhost:8080/",
          "height": 288
        }
      },
      "outputs": [
        {
          "output_type": "execute_result",
          "data": {
            "text/plain": [
              "         id  diagnosis  smoothness_mean  symmetry_mean  \\\n",
              "0  0.000915          1         0.593753       0.686364   \n",
              "1  0.000915          1         0.289880       0.379798   \n",
              "2  0.092495          1         0.514309       0.509596   \n",
              "3  0.092547          1         0.811321       0.776263   \n",
              "4  0.092559          1         0.430351       0.378283   \n",
              "\n",
              "   fractal_dimension_mean  texture_se  smoothness_se  compactness_se  \\\n",
              "0                0.605518    0.120469       0.159296        0.351398   \n",
              "1                0.141323    0.082589       0.119387        0.081323   \n",
              "2                0.211247    0.094303       0.150831        0.283955   \n",
              "3                1.000000    0.175875       0.251453        0.543215   \n",
              "4                0.186816    0.093065       0.332359        0.167918   \n",
              "\n",
              "   concavity_se  concave points_se  symmetry_se  fractal_dimension_se  \\\n",
              "0      0.135682           0.300625     0.311645              0.183042   \n",
              "1      0.046970           0.253836     0.084539              0.091110   \n",
              "2      0.096768           0.389847     0.205690              0.127006   \n",
              "3      0.142955           0.353665     0.728148              0.287205   \n",
              "4      0.143636           0.357075     0.136179              0.145800   \n",
              "\n",
              "   smoothness_worst  symmetry_worst  fractal_dimension_worst  \n",
              "0          0.601136        0.598462                 0.418864  \n",
              "1          0.347553        0.233590                 0.222878  \n",
              "2          0.483590        0.403706                 0.213433  \n",
              "3          0.915472        1.000000                 0.773711  \n",
              "4          0.437364        0.157500                 0.142595  "
            ],
            "text/html": [
              "\n",
              "  <div id=\"df-fc3c0a8a-a740-435c-a067-e19722f72ec3\">\n",
              "    <div class=\"colab-df-container\">\n",
              "      <div>\n",
              "<style scoped>\n",
              "    .dataframe tbody tr th:only-of-type {\n",
              "        vertical-align: middle;\n",
              "    }\n",
              "\n",
              "    .dataframe tbody tr th {\n",
              "        vertical-align: top;\n",
              "    }\n",
              "\n",
              "    .dataframe thead th {\n",
              "        text-align: right;\n",
              "    }\n",
              "</style>\n",
              "<table border=\"1\" class=\"dataframe\">\n",
              "  <thead>\n",
              "    <tr style=\"text-align: right;\">\n",
              "      <th></th>\n",
              "      <th>id</th>\n",
              "      <th>diagnosis</th>\n",
              "      <th>smoothness_mean</th>\n",
              "      <th>symmetry_mean</th>\n",
              "      <th>fractal_dimension_mean</th>\n",
              "      <th>texture_se</th>\n",
              "      <th>smoothness_se</th>\n",
              "      <th>compactness_se</th>\n",
              "      <th>concavity_se</th>\n",
              "      <th>concave points_se</th>\n",
              "      <th>symmetry_se</th>\n",
              "      <th>fractal_dimension_se</th>\n",
              "      <th>smoothness_worst</th>\n",
              "      <th>symmetry_worst</th>\n",
              "      <th>fractal_dimension_worst</th>\n",
              "    </tr>\n",
              "  </thead>\n",
              "  <tbody>\n",
              "    <tr>\n",
              "      <th>0</th>\n",
              "      <td>0.000915</td>\n",
              "      <td>1</td>\n",
              "      <td>0.593753</td>\n",
              "      <td>0.686364</td>\n",
              "      <td>0.605518</td>\n",
              "      <td>0.120469</td>\n",
              "      <td>0.159296</td>\n",
              "      <td>0.351398</td>\n",
              "      <td>0.135682</td>\n",
              "      <td>0.300625</td>\n",
              "      <td>0.311645</td>\n",
              "      <td>0.183042</td>\n",
              "      <td>0.601136</td>\n",
              "      <td>0.598462</td>\n",
              "      <td>0.418864</td>\n",
              "    </tr>\n",
              "    <tr>\n",
              "      <th>1</th>\n",
              "      <td>0.000915</td>\n",
              "      <td>1</td>\n",
              "      <td>0.289880</td>\n",
              "      <td>0.379798</td>\n",
              "      <td>0.141323</td>\n",
              "      <td>0.082589</td>\n",
              "      <td>0.119387</td>\n",
              "      <td>0.081323</td>\n",
              "      <td>0.046970</td>\n",
              "      <td>0.253836</td>\n",
              "      <td>0.084539</td>\n",
              "      <td>0.091110</td>\n",
              "      <td>0.347553</td>\n",
              "      <td>0.233590</td>\n",
              "      <td>0.222878</td>\n",
              "    </tr>\n",
              "    <tr>\n",
              "      <th>2</th>\n",
              "      <td>0.092495</td>\n",
              "      <td>1</td>\n",
              "      <td>0.514309</td>\n",
              "      <td>0.509596</td>\n",
              "      <td>0.211247</td>\n",
              "      <td>0.094303</td>\n",
              "      <td>0.150831</td>\n",
              "      <td>0.283955</td>\n",
              "      <td>0.096768</td>\n",
              "      <td>0.389847</td>\n",
              "      <td>0.205690</td>\n",
              "      <td>0.127006</td>\n",
              "      <td>0.483590</td>\n",
              "      <td>0.403706</td>\n",
              "      <td>0.213433</td>\n",
              "    </tr>\n",
              "    <tr>\n",
              "      <th>3</th>\n",
              "      <td>0.092547</td>\n",
              "      <td>1</td>\n",
              "      <td>0.811321</td>\n",
              "      <td>0.776263</td>\n",
              "      <td>1.000000</td>\n",
              "      <td>0.175875</td>\n",
              "      <td>0.251453</td>\n",
              "      <td>0.543215</td>\n",
              "      <td>0.142955</td>\n",
              "      <td>0.353665</td>\n",
              "      <td>0.728148</td>\n",
              "      <td>0.287205</td>\n",
              "      <td>0.915472</td>\n",
              "      <td>1.000000</td>\n",
              "      <td>0.773711</td>\n",
              "    </tr>\n",
              "    <tr>\n",
              "      <th>4</th>\n",
              "      <td>0.092559</td>\n",
              "      <td>1</td>\n",
              "      <td>0.430351</td>\n",
              "      <td>0.378283</td>\n",
              "      <td>0.186816</td>\n",
              "      <td>0.093065</td>\n",
              "      <td>0.332359</td>\n",
              "      <td>0.167918</td>\n",
              "      <td>0.143636</td>\n",
              "      <td>0.357075</td>\n",
              "      <td>0.136179</td>\n",
              "      <td>0.145800</td>\n",
              "      <td>0.437364</td>\n",
              "      <td>0.157500</td>\n",
              "      <td>0.142595</td>\n",
              "    </tr>\n",
              "  </tbody>\n",
              "</table>\n",
              "</div>\n",
              "      <button class=\"colab-df-convert\" onclick=\"convertToInteractive('df-fc3c0a8a-a740-435c-a067-e19722f72ec3')\"\n",
              "              title=\"Convert this dataframe to an interactive table.\"\n",
              "              style=\"display:none;\">\n",
              "        \n",
              "  <svg xmlns=\"http://www.w3.org/2000/svg\" height=\"24px\"viewBox=\"0 0 24 24\"\n",
              "       width=\"24px\">\n",
              "    <path d=\"M0 0h24v24H0V0z\" fill=\"none\"/>\n",
              "    <path d=\"M18.56 5.44l.94 2.06.94-2.06 2.06-.94-2.06-.94-.94-2.06-.94 2.06-2.06.94zm-11 1L8.5 8.5l.94-2.06 2.06-.94-2.06-.94L8.5 2.5l-.94 2.06-2.06.94zm10 10l.94 2.06.94-2.06 2.06-.94-2.06-.94-.94-2.06-.94 2.06-2.06.94z\"/><path d=\"M17.41 7.96l-1.37-1.37c-.4-.4-.92-.59-1.43-.59-.52 0-1.04.2-1.43.59L10.3 9.45l-7.72 7.72c-.78.78-.78 2.05 0 2.83L4 21.41c.39.39.9.59 1.41.59.51 0 1.02-.2 1.41-.59l7.78-7.78 2.81-2.81c.8-.78.8-2.07 0-2.86zM5.41 20L4 18.59l7.72-7.72 1.47 1.35L5.41 20z\"/>\n",
              "  </svg>\n",
              "      </button>\n",
              "      \n",
              "  <style>\n",
              "    .colab-df-container {\n",
              "      display:flex;\n",
              "      flex-wrap:wrap;\n",
              "      gap: 12px;\n",
              "    }\n",
              "\n",
              "    .colab-df-convert {\n",
              "      background-color: #E8F0FE;\n",
              "      border: none;\n",
              "      border-radius: 50%;\n",
              "      cursor: pointer;\n",
              "      display: none;\n",
              "      fill: #1967D2;\n",
              "      height: 32px;\n",
              "      padding: 0 0 0 0;\n",
              "      width: 32px;\n",
              "    }\n",
              "\n",
              "    .colab-df-convert:hover {\n",
              "      background-color: #E2EBFA;\n",
              "      box-shadow: 0px 1px 2px rgba(60, 64, 67, 0.3), 0px 1px 3px 1px rgba(60, 64, 67, 0.15);\n",
              "      fill: #174EA6;\n",
              "    }\n",
              "\n",
              "    [theme=dark] .colab-df-convert {\n",
              "      background-color: #3B4455;\n",
              "      fill: #D2E3FC;\n",
              "    }\n",
              "\n",
              "    [theme=dark] .colab-df-convert:hover {\n",
              "      background-color: #434B5C;\n",
              "      box-shadow: 0px 1px 3px 1px rgba(0, 0, 0, 0.15);\n",
              "      filter: drop-shadow(0px 1px 2px rgba(0, 0, 0, 0.3));\n",
              "      fill: #FFFFFF;\n",
              "    }\n",
              "  </style>\n",
              "\n",
              "      <script>\n",
              "        const buttonEl =\n",
              "          document.querySelector('#df-fc3c0a8a-a740-435c-a067-e19722f72ec3 button.colab-df-convert');\n",
              "        buttonEl.style.display =\n",
              "          google.colab.kernel.accessAllowed ? 'block' : 'none';\n",
              "\n",
              "        async function convertToInteractive(key) {\n",
              "          const element = document.querySelector('#df-fc3c0a8a-a740-435c-a067-e19722f72ec3');\n",
              "          const dataTable =\n",
              "            await google.colab.kernel.invokeFunction('convertToInteractive',\n",
              "                                                     [key], {});\n",
              "          if (!dataTable) return;\n",
              "\n",
              "          const docLinkHtml = 'Like what you see? Visit the ' +\n",
              "            '<a target=\"_blank\" href=https://colab.research.google.com/notebooks/data_table.ipynb>data table notebook</a>'\n",
              "            + ' to learn more about interactive tables.';\n",
              "          element.innerHTML = '';\n",
              "          dataTable['output_type'] = 'display_data';\n",
              "          await google.colab.output.renderOutput(dataTable, element);\n",
              "          const docLink = document.createElement('div');\n",
              "          docLink.innerHTML = docLinkHtml;\n",
              "          element.appendChild(docLink);\n",
              "        }\n",
              "      </script>\n",
              "    </div>\n",
              "  </div>\n",
              "  "
            ]
          },
          "metadata": {},
          "execution_count": 16
        }
      ],
      "source": [
        "from sklearn.preprocessing import MinMaxScaler\n",
        "\n",
        "# Scaling our columns except the target\n",
        "scale_vars = ['id', 'smoothness_mean', 'symmetry_mean',\n",
        "              'fractal_dimension_mean', 'texture_se', 'smoothness_se',\n",
        "              'compactness_se', 'concavity_se', 'concave points_se', 'symmetry_se',\n",
        "              'fractal_dimension_se', 'smoothness_worst', 'symmetry_worst',\n",
        "              'fractal_dimension_worst'\n",
        "             ]\n",
        "\n",
        "scaler = MinMaxScaler()\n",
        "df_clean[scale_vars] = scaler.fit_transform(df_clean[scale_vars]) #df[scale_vars] -> making the array  to a dataframe\n",
        "\n",
        "df_clean.head()\n"
      ]
    },
    {
      "cell_type": "code",
      "execution_count": null,
      "metadata": {
        "id": "j70yDHVuRhHP"
      },
      "outputs": [],
      "source": [
        "#Predictors\n",
        "X = df_clean.drop('diagnosis', axis = 1)"
      ]
    },
    {
      "cell_type": "code",
      "execution_count": null,
      "metadata": {
        "id": "Z7tcJ54IRhHP"
      },
      "outputs": [],
      "source": [
        "#Response\n",
        "y = df_clean['diagnosis']"
      ]
    },
    {
      "cell_type": "code",
      "source": [
        "#Import the library for train_valid_test_split\n",
        "\n",
        "!pip install fast_ml --upgrade"
      ],
      "metadata": {
        "id": "SXBet8-VHNAA",
        "outputId": "d8608c3f-d807-4077-f3f2-23f91deb6d32",
        "colab": {
          "base_uri": "https://localhost:8080/"
        }
      },
      "execution_count": null,
      "outputs": [
        {
          "output_type": "stream",
          "name": "stdout",
          "text": [
            "Collecting fast_ml\n",
            "  Downloading fast_ml-3.68-py3-none-any.whl (42 kB)\n",
            "\u001b[?25l\r\u001b[K     |███████▉                        | 10 kB 18.7 MB/s eta 0:00:01\r\u001b[K     |███████████████▋                | 20 kB 24.4 MB/s eta 0:00:01\r\u001b[K     |███████████████████████▍        | 30 kB 9.7 MB/s eta 0:00:01\r\u001b[K     |███████████████████████████████▏| 40 kB 4.0 MB/s eta 0:00:01\r\u001b[K     |████████████████████████████████| 42 kB 668 kB/s \n",
            "\u001b[?25hInstalling collected packages: fast-ml\n",
            "Successfully installed fast-ml-3.68\n"
          ]
        }
      ]
    },
    {
      "cell_type": "markdown",
      "source": [
        "#### Partition the data into three parts, the training data, the validation and the test data , with a ratio of 2:1:1.The validation data set will be used to test our Final model"
      ],
      "metadata": {
        "id": "yMQVyzATSKZv"
      }
    },
    {
      "cell_type": "code",
      "execution_count": null,
      "metadata": {
        "id": "zYAOqtpGRhHQ",
        "outputId": "b5b0e19b-158d-46e2-9687-ce42e2ac2205",
        "colab": {
          "base_uri": "https://localhost:8080/"
        }
      },
      "outputs": [
        {
          "output_type": "stream",
          "name": "stdout",
          "text": [
            "X_train: (455, 14)\n",
            "y_train: (455,)\n",
            "X_test: (58, 14)\n",
            "y_test: (58,)\n",
            "X_valid: (56, 14)\n",
            "y_valid: (56,)\n"
          ]
        },
        {
          "output_type": "execute_result",
          "data": {
            "text/plain": [
              "(None, None)"
            ]
          },
          "metadata": {},
          "execution_count": 30
        }
      ],
      "source": [
        "#Split the data into training and testing and validation set\n",
        "\n",
        "from fast_ml.model_development import train_valid_test_split\n",
        "\n",
        "X_train, y_train, X_valid, y_valid, X_test, y_test = train_valid_test_split(df_clean, target = 'diagnosis', method='sorted', sort_by_col='id',\n",
        "                                                                            train_size=0.8, valid_size=0.1, test_size=0.1)\n",
        "\n",
        "print('X_train:', X_train.shape), print('y_train:', y_train.shape)\n",
        "print('X_test:', X_test.shape), print('y_test:', y_test.shape)\n",
        "print('X_valid:', X_valid.shape), print('y_valid:', y_valid.shape)\n"
      ]
    },
    {
      "cell_type": "code",
      "execution_count": null,
      "metadata": {
        "id": "vFK2BztIRhHQ"
      },
      "outputs": [],
      "source": [
        ""
      ]
    },
    {
      "cell_type": "markdown",
      "source": [
        "###2. How did you build your models and why?  What different kinds of approaches did you try?  Which did you ultimately abandon, and which did you find useful, and why?\n",
        "\n",
        "####Response:\n",
        "We will use 3-4 classification models and based off some metrics, we will choose the best among all the models and build on it by tuning the model to obtain best hyper-parameters. Then we will build the final model with the best parameter and validate/check its performance using the validation dataset that the models have not seen before"
      ],
      "metadata": {
        "id": "H1haxoT_KQRT"
      }
    },
    {
      "cell_type": "markdown",
      "source": [
        "# Model 1:Logistics Regression "
      ],
      "metadata": {
        "id": "TjdjTPiV27yy"
      }
    },
    {
      "cell_type": "code",
      "source": [
        "# Training my model\n",
        "\n",
        "log_reg = LogisticRegression(random_state=10)\n",
        "\n",
        "log_reg.fit(X_train, y_train)"
      ],
      "metadata": {
        "colab": {
          "base_uri": "https://localhost:8080/"
        },
        "id": "w8r5-6B010om",
        "outputId": "1e928eab-65fd-4875-b219-9c0b8d36e0cf"
      },
      "execution_count": null,
      "outputs": [
        {
          "output_type": "execute_result",
          "data": {
            "text/plain": [
              "LogisticRegression(random_state=10)"
            ]
          },
          "metadata": {},
          "execution_count": 168
        }
      ]
    },
    {
      "cell_type": "code",
      "source": [
        "#Predict with Test Data\n",
        "y_pred_log_reg= log_reg.predict(X_test)"
      ],
      "metadata": {
        "id": "SsrOUL2q10uE"
      },
      "execution_count": null,
      "outputs": []
    },
    {
      "cell_type": "code",
      "source": [
        "#Check Model Accuracy \n",
        "MAE = mean_absolute_error(y_pred_log_reg, y_test)\n",
        "print('Mean Absolute Error on Training Data is: ', (MAE)*100, '%')"
      ],
      "metadata": {
        "colab": {
          "base_uri": "https://localhost:8080/"
        },
        "id": "aByw562d52le",
        "outputId": "0c951789-c414-49af-f8d2-9b1ed8b12e4d"
      },
      "execution_count": null,
      "outputs": [
        {
          "output_type": "stream",
          "name": "stdout",
          "text": [
            "Mean Absolute Error on Training Data is:  17.24137931034483 %\n"
          ]
        }
      ]
    },
    {
      "cell_type": "code",
      "source": [
        "# Confusion Matrix function\n",
        "\n",
        "def plot_confusion_matrix(cm, classes=None, title='Confusion matrix'):\n",
        "    \"\"\"Plots a confusion matrix.\"\"\"\n",
        "    if classes is not None:\n",
        "        sns.heatmap(cm, xticklabels=classes, yticklabels=classes, vmin=0., vmax=1., annot=True, annot_kws={'size':50})\n",
        "    else:\n",
        "        sns.heatmap(cm, vmin=0., vmax=1.)\n",
        "    plt.title(title)\n",
        "    plt.ylabel('True label')\n",
        "    plt.xlabel('Predicted label')"
      ],
      "metadata": {
        "id": "gq7J72ZcOkH0"
      },
      "execution_count": null,
      "outputs": []
    },
    {
      "cell_type": "code",
      "source": [
        "# Confusion Matrix output for Final Model\n",
        "\n",
        "cm = confusion_matrix(y_test, y_pred_log_reg)\n",
        "cm_norm = cm/cm.sum(axis=1)[:, np.newaxis]\n",
        "\n",
        "plot_confusion_matrix(cm_norm, classes=log_reg.classes_)\n",
        "plt.figure()"
      ],
      "metadata": {
        "colab": {
          "base_uri": "https://localhost:8080/",
          "height": 330
        },
        "id": "Rl81EFBCOQfo",
        "outputId": "a07871c5-dd9d-475d-9304-3354b7e7ec22"
      },
      "execution_count": null,
      "outputs": [
        {
          "output_type": "execute_result",
          "data": {
            "text/plain": [
              "<Figure size 432x288 with 0 Axes>"
            ]
          },
          "metadata": {},
          "execution_count": 196
        },
        {
          "output_type": "display_data",
          "data": {
            "text/plain": [
              "<Figure size 432x288 with 2 Axes>"
            ],
            "image/png": "[encoded data removed]"
          },
          "metadata": {
            "needs_background": "light"
          }
        },
        {
          "output_type": "display_data",
          "data": {
            "text/plain": [
              "<Figure size 432x288 with 0 Axes>"
            ]
          },
          "metadata": {}
        }
      ]
    },
    {
      "cell_type": "markdown",
      "source": [
        "The model is biased towards the begin, not a good model"
      ],
      "metadata": {
        "id": "DM41KqlrPJea"
      }
    },
    {
      "cell_type": "code",
      "source": [
        ""
      ],
      "metadata": {
        "id": "Yuk85Tf12j0x"
      },
      "execution_count": null,
      "outputs": []
    },
    {
      "cell_type": "markdown",
      "metadata": {
        "id": "_6nKWIytRhHQ"
      },
      "source": [
        "# Model 2: Lasso Regression"
      ]
    },
    {
      "cell_type": "code",
      "execution_count": null,
      "metadata": {
        "id": "jrdQCopkRhHQ",
        "outputId": "f86eff06-d649-4290-b964-da1fe494e2a7",
        "colab": {
          "base_uri": "https://localhost:8080/"
        }
      },
      "outputs": [
        {
          "output_type": "execute_result",
          "data": {
            "text/plain": [
              "Lasso(alpha=0.1)"
            ]
          },
          "metadata": {},
          "execution_count": 203
        }
      ],
      "source": [
        "from sklearn.linear_model import Lasso\n",
        "\n",
        "#Train the model\n",
        "lassoReg = Lasso(alpha=0.1)\n",
        "lassoReg.fit(X_train, y_train)"
      ]
    },
    {
      "cell_type": "code",
      "execution_count": null,
      "metadata": {
        "id": "z_aXJk_gRhHR"
      },
      "outputs": [],
      "source": [
        "#Predict with Test Data\n",
        "y_pred_lasso = lassoReg.predict(X_test)"
      ]
    },
    {
      "cell_type": "code",
      "source": [
        "#Check Model Accuracy \n",
        "MAE = mean_absolute_error(y_pred_lasso, y_test)\n",
        "print('Mean Absolute Error on Training Data is: ', (MAE)*100, '%')"
      ],
      "metadata": {
        "colab": {
          "base_uri": "https://localhost:8080/"
        },
        "id": "qOfVf9F55yHX",
        "outputId": "42e709f1-22fd-4040-90ed-dd6e35b0797c"
      },
      "execution_count": null,
      "outputs": [
        {
          "output_type": "stream",
          "name": "stdout",
          "text": [
            "Mean Absolute Error on Training Data is:  45.668813944676 %\n"
          ]
        }
      ]
    },
    {
      "cell_type": "markdown",
      "metadata": {
        "id": "2Xi93HFlRhHS"
      },
      "source": [
        "# Model 3: Ridge Regression "
      ]
    },
    {
      "cell_type": "code",
      "execution_count": null,
      "metadata": {
        "id": "x2Y9AIYPRhHS",
        "outputId": "065e402f-e52f-424f-ba06-402ef6d905bd",
        "colab": {
          "base_uri": "https://localhost:8080/"
        }
      },
      "outputs": [
        {
          "output_type": "execute_result",
          "data": {
            "text/plain": [
              "Ridge(alpha=0.1)"
            ]
          },
          "metadata": {},
          "execution_count": 207
        }
      ],
      "source": [
        "from sklearn.linear_model import Ridge\n",
        "\n",
        "#Train the model\n",
        "ridge = Ridge(alpha=0.1)\n",
        "ridge.fit(X_train, y_train)"
      ]
    },
    {
      "cell_type": "code",
      "execution_count": null,
      "metadata": {
        "id": "JxapFyFNRhHS"
      },
      "outputs": [],
      "source": [
        "#Predict\n",
        "y_pred_ridg = ridge.predict(X_test)"
      ]
    },
    {
      "cell_type": "code",
      "source": [
        "#Check Model Accuracy \n",
        "MAE = mean_absolute_error(y_pred_ridg, y_test)\n",
        "print('Mean Absolute Error on Training Data is: ', (MAE)*100, '%')"
      ],
      "metadata": {
        "colab": {
          "base_uri": "https://localhost:8080/"
        },
        "id": "_D7gjAsT6B9K",
        "outputId": "e4eb683a-771f-4e6c-9ac3-96abe57613da"
      },
      "execution_count": null,
      "outputs": [
        {
          "output_type": "stream",
          "name": "stdout",
          "text": [
            "Mean Absolute Error on Training Data is:  28.123138215737132 %\n"
          ]
        }
      ]
    },
    {
      "cell_type": "markdown",
      "source": [
        "# Model 4: Elastic Net"
      ],
      "metadata": {
        "id": "SlTv87mJAXEm"
      }
    },
    {
      "cell_type": "code",
      "source": [
        "# Define model\n",
        "elasticNt = ElasticNet(alpha=0.1)\n",
        "\n",
        "#Train the model\n",
        "elasticNt.fit(X_train, y_train)"
      ],
      "metadata": {
        "colab": {
          "base_uri": "https://localhost:8080/"
        },
        "id": "fm24Du1x9Txu",
        "outputId": "0fe8c54e-61ad-4537-fbef-5d457fa79674"
      },
      "execution_count": null,
      "outputs": [
        {
          "output_type": "execute_result",
          "data": {
            "text/plain": [
              "ElasticNet(alpha=0.1)"
            ]
          },
          "metadata": {},
          "execution_count": 173
        }
      ]
    },
    {
      "cell_type": "code",
      "source": [
        "#Predict\n",
        "y_pred_elasticNt = elasticNt.predict(X_test)"
      ],
      "metadata": {
        "id": "meeROMES9mIL"
      },
      "execution_count": null,
      "outputs": []
    },
    {
      "cell_type": "code",
      "source": [
        "#Check Model Accuracy \n",
        "MAE = mean_absolute_error(y_pred_elasticNt, y_test)\n",
        "print('Mean Absolute Error on Training Data is: ', (MAE)*100, '%')"
      ],
      "metadata": {
        "colab": {
          "base_uri": "https://localhost:8080/"
        },
        "id": "31un-sKX9ym2",
        "outputId": "9a7f6b41-178f-407f-ca9f-10b3eefc8813"
      },
      "execution_count": null,
      "outputs": [
        {
          "output_type": "stream",
          "name": "stdout",
          "text": [
            "Mean Absolute Error on Training Data is:  45.668813944676 %\n"
          ]
        }
      ]
    },
    {
      "cell_type": "markdown",
      "metadata": {
        "id": "fifGxR1vRhHT"
      },
      "source": [
        "### Observation\n",
        "Logistics Regression seems to give the minimum MAE over Lasso, Ridge and ElasticNet without hyper-parameter tuning for thesame alpha value\n",
        "\n",
        "Hence we will choose Logistic Regression as Final model since it is performing better and we will carry out Hyper-Parameter Tuning for the Logistic Regression to get the best C-parameter and then build our final model with that"
      ]
    },
    {
      "cell_type": "markdown",
      "source": [
        "#Hyper-Parameter Tuning To Obtain Best C-Parameter"
      ],
      "metadata": {
        "id": "4WS3u5gQGetX"
      }
    },
    {
      "cell_type": "code",
      "source": [
        "from sklearn.linear_model import LogisticRegressionCV\n",
        "from sklearn.model_selection import StratifiedKFold\n",
        "from sklearn.metrics import log_loss\n",
        "\n",
        "kf = StratifiedKFold(n_splits=3, random_state=0, shuffle=True)\n",
        "\n",
        "#Range of C-Values\n",
        "C_List = np.geomspace(1e-5, 1e5, num=100)\n",
        "\n",
        "# Logistic Reg CV\n",
        "Log_reg3 = LogisticRegressionCV(random_state=15, Cs = C_List, solver ='lbfgs')\n",
        "Log_reg3.fit(X_train, y_train)\n",
        "print(\"The Score Accuracy is:\", Log_reg3.score(X_test, y_test))\n",
        "\n",
        "#Log Loss and C Parameter\n",
        "pred_proba_t = Log_reg3.predict_proba(X_test)\n",
        "log_loss3 = log_loss(y_test, pred_proba_t)\n",
        "print(\"The Logistic Loss is: \", log_loss3)\n",
        "print(\"The optimal C parameter is: \", Log_reg3.C_)"
      ],
      "metadata": {
        "colab": {
          "base_uri": "https://localhost:8080/"
        },
        "id": "IGHeiFvfE769",
        "outputId": "81f223df-d66b-4b2b-e1f6-61f24cdc9fcf"
      },
      "execution_count": null,
      "outputs": [
        {
          "output_type": "stream",
          "name": "stdout",
          "text": [
            "The Score Accuracy is: 0.8620689655172413\n",
            "The Logistic Loss is:  0.35027426454082644\n",
            "The optimal C parameter is:  [73.90722034]\n"
          ]
        }
      ]
    },
    {
      "cell_type": "code",
      "source": [
        ""
      ],
      "metadata": {
        "id": "x7sBdyWvLbzB"
      },
      "execution_count": null,
      "outputs": []
    },
    {
      "cell_type": "markdown",
      "source": [
        "#Final Model\n",
        "We will run our Final Model on the Validation Data with this C-parameter"
      ],
      "metadata": {
        "id": "TTkFwpstEdYy"
      }
    },
    {
      "cell_type": "code",
      "execution_count": null,
      "metadata": {
        "id": "IcueYUxLRhHT",
        "colab": {
          "base_uri": "https://localhost:8080/"
        },
        "outputId": "16df93eb-edeb-41be-b6d9-b3419c60afa1"
      },
      "outputs": [
        {
          "output_type": "stream",
          "name": "stdout",
          "text": [
            "Mean Absolute Error on Training Data is:  12.5 %\n"
          ]
        }
      ],
      "source": [
        "final_model = LogisticRegression(random_state=10,solver = 'lbfgs', C=73.90722034)\n",
        "\n",
        "# Training my model\n",
        "final_model.fit(X_train, y_train)\n",
        "\n",
        "#Prediction\n",
        "y_predfinal= final_model.predict(X_valid)\n",
        "\n",
        "#Check Model Accuracy \n",
        "MAE = mean_absolute_error(y_predfinal, y_valid)\n",
        "print('Mean Absolute Error on Training Data is: ', (MAE)*100, '%')"
      ]
    },
    {
      "cell_type": "code",
      "source": [
        ""
      ],
      "metadata": {
        "id": "YppWDyMEIKGT"
      },
      "execution_count": null,
      "outputs": []
    },
    {
      "cell_type": "code",
      "execution_count": null,
      "metadata": {
        "id": "taHUsxhzRhHZ",
        "colab": {
          "base_uri": "https://localhost:8080/",
          "height": 330
        },
        "outputId": "f8ea2fb7-6267-4fbc-e44b-ddf715ef16c6"
      },
      "outputs": [
        {
          "output_type": "execute_result",
          "data": {
            "text/plain": [
              "<Figure size 432x288 with 0 Axes>"
            ]
          },
          "metadata": {},
          "execution_count": 184
        },
        {
          "output_type": "display_data",
          "data": {
            "text/plain": [
              "<Figure size 432x288 with 2 Axes>"
            ],
            "image/png": "[encoded data removed]"
          },
          "metadata": {
            "needs_background": "light"
          }
        },
        {
          "output_type": "display_data",
          "data": {
            "text/plain": [
              "<Figure size 432x288 with 0 Axes>"
            ]
          },
          "metadata": {}
        }
      ],
      "source": [
        "# Confusion Matrix output for Final Model\n",
        "\n",
        "cm = confusion_matrix(y_valid, y_predfinal)\n",
        "cm_norm = cm/cm.sum(axis=1)[:, np.newaxis]\n",
        "\n",
        "plot_confusion_matrix(cm_norm, classes=final_model.classes_)\n",
        "plt.figure()"
      ]
    },
    {
      "cell_type": "code",
      "source": [
        ""
      ],
      "metadata": {
        "id": "-M81IRghLv2G"
      },
      "execution_count": null,
      "outputs": []
    },
    {
      "cell_type": "markdown",
      "source": [
        "#3. Conclusions, and any final discussion. \n",
        "\n",
        "After tuning the Logistic Regression model, we obtained the best C-parameter and we built the final model upon this\n",
        "\n",
        "The MAE reduced to 12.5 form initial values 17.24\n",
        "\n",
        "Also, accuracy of the final model shows a 93% True positive and 82% True Negative rate and show in the confusion matrix, the biasness has been removed\n",
        "\n",
        "This model is good and can be used to predict for future Cancer events given thesame features"
      ],
      "metadata": {
        "id": "Nkin9OZfIwKI"
      }
    },
    {
      "cell_type": "markdown",
      "metadata": {
        "id": "8BzKcSTlRhHa"
      },
      "source": [
        "##### ROC CURVE"
      ]
    },
    {
      "cell_type": "code",
      "execution_count": null,
      "metadata": {
        "id": "xXxH0wpLRhHa",
        "outputId": "d2a7b7d1-f59e-4fe6-b9d3-4e9a849e523a",
        "colab": {
          "base_uri": "https://localhost:8080/",
          "height": 295
        }
      },
      "outputs": [
        {
          "output_type": "display_data",
          "data": {
            "text/plain": [
              "<Figure size 432x288 with 1 Axes>"
            ],
            "image/png": "[encoded data removed]"
          },
          "metadata": {
            "needs_background": "light"
          }
        }
      ],
      "source": [
        "def plot_roc_curve(fper, tper):\n",
        "    plt.plot(fper, tper, color='red', label='ROC')\n",
        "    plt.plot([0, 1], [0, 1], color='green', linestyle='--')\n",
        "    plt.xlabel('False Positive Rate')\n",
        "    plt.ylabel('True Positive Rate')\n",
        "    plt.title('Receiver Operating Characteristic Curve')\n",
        "    plt.legend()\n",
        "    plt.show()\n",
        "    \n",
        "\n",
        "from sklearn.metrics import roc_curve\n",
        "\n",
        "fper, tper, thresholds = roc_curve(y_valid, y_predfinal)\n",
        "plot_roc_curve(fper, tper)"
      ]
    }
  ],
  "metadata": {
    "kernelspec": {
      "display_name": "Python 3",
      "language": "python",
      "name": "python3"
    },
    "language_info": {
      "codemirror_mode": {
        "name": "ipython",
        "version": 3
      },
      "file_extension": ".py",
      "mimetype": "text/x-python",
      "name": "python",
      "nbconvert_exporter": "python",
      "pygments_lexer": "ipython3",
      "version": "3.8.5"
    },
    "colab": {
      "name": "Final_Project 3-Lasso_Ridge_LogisticsRge.ipynb",
      "provenance": [],
      "collapsed_sections": [],
      "include_colab_link": true
    }
  },
  "nbformat": 4,
  "nbformat_minor": 0
}