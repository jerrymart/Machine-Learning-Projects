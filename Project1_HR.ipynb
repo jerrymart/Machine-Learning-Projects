{
  "cells": [
    {
      "cell_type": "markdown",
      "metadata": {
        "id": "view-in-github",
        "colab_type": "text"
      },
      "source": [
        "<a href=\"https://colab.research.google.com/github/jerrymart/Machine-Learning-Projects/blob/main/Project1_HR.ipynb\" target=\"_parent\"><img src=\"https://colab.research.google.com/assets/colab-badge.svg\" alt=\"Open In Colab\"/></a>"
      ]
    },
    {
      "cell_type": "markdown",
      "source": [
        "Team Members:\n",
        "\n",
        "Joseph Mart (Project Lead)- A00732897\n",
        "\n",
        "Callitus Obunadike - A00756855"
      ],
      "metadata": {
        "id": "v7C7k5xXax_h"
      }
    },
    {
      "cell_type": "code",
      "execution_count": 1,
      "metadata": {
        "id": "NrdAVrZzZ_cx"
      },
      "outputs": [],
      "source": [
        "import numpy as np \n",
        "import pandas as pd\n",
        "from matplotlib import pyplot as plt\n",
        "import seaborn as sns\n",
        "\n",
        "\n",
        "%matplotlib inline\n",
        "\n",
        "# To change scientific numbers to float\n",
        "np.set_printoptions(formatter={'float_kind':'{:f}'.format})\n",
        "\n",
        "import warnings\n",
        "warnings.filterwarnings('ignore')"
      ]
    },
    {
      "cell_type": "code",
      "execution_count": 3,
      "metadata": {
        "id": "wo0Q2HhUZ_c1"
      },
      "outputs": [],
      "source": [
        "df0 = pd.read_csv('/content/HR_comma_sep.csv')"
      ]
    },
    {
      "cell_type": "code",
      "execution_count": null,
      "metadata": {
        "id": "5DZZtXuiZ_c2",
        "outputId": "811e5d84-1606-463b-8361-b8bbc2bf62c7"
      },
      "outputs": [
        {
          "data": {
            "text/html": [
              "<div>\n",
              "<style scoped>\n",
              "    .dataframe tbody tr th:only-of-type {\n",
              "        vertical-align: middle;\n",
              "    }\n",
              "\n",
              "    .dataframe tbody tr th {\n",
              "        vertical-align: top;\n",
              "    }\n",
              "\n",
              "    .dataframe thead th {\n",
              "        text-align: right;\n",
              "    }\n",
              "</style>\n",
              "<table border=\"1\" class=\"dataframe\">\n",
              "  <thead>\n",
              "    <tr style=\"text-align: right;\">\n",
              "      <th></th>\n",
              "      <th>satisfaction_level</th>\n",
              "      <th>last_evaluation</th>\n",
              "      <th>number_project</th>\n",
              "      <th>average_montly_hours</th>\n",
              "      <th>time_spend_company</th>\n",
              "      <th>Work_accident</th>\n",
              "      <th>left</th>\n",
              "      <th>promotion_last_5years</th>\n",
              "      <th>sales</th>\n",
              "      <th>salary</th>\n",
              "    </tr>\n",
              "  </thead>\n",
              "  <tbody>\n",
              "    <tr>\n",
              "      <th>0</th>\n",
              "      <td>0.38</td>\n",
              "      <td>0.53</td>\n",
              "      <td>2</td>\n",
              "      <td>157.0</td>\n",
              "      <td>3</td>\n",
              "      <td>0</td>\n",
              "      <td>1</td>\n",
              "      <td>0</td>\n",
              "      <td>sales</td>\n",
              "      <td>low</td>\n",
              "    </tr>\n",
              "  </tbody>\n",
              "</table>\n",
              "</div>"
            ],
            "text/plain": [
              "   satisfaction_level  last_evaluation  number_project  average_montly_hours  \\\n",
              "0                0.38             0.53               2                 157.0   \n",
              "\n",
              "   time_spend_company  Work_accident  left  promotion_last_5years  sales  \\\n",
              "0                   3              0     1                      0  sales   \n",
              "\n",
              "  salary  \n",
              "0    low  "
            ]
          },
          "execution_count": 3,
          "metadata": {},
          "output_type": "execute_result"
        }
      ],
      "source": [
        "df0.head(1)"
      ]
    },
    {
      "cell_type": "code",
      "execution_count": null,
      "metadata": {
        "id": "fUF9yxZ8Z_c4",
        "outputId": "08d45451-11ce-45d2-c088-7f792f4367bd"
      },
      "outputs": [
        {
          "name": "stdout",
          "output_type": "stream",
          "text": [
            "(14999, 10)\n"
          ]
        }
      ],
      "source": [
        "# print the shape\n",
        "print(df0.shape)"
      ]
    },
    {
      "cell_type": "code",
      "execution_count": null,
      "metadata": {
        "id": "yyM6jSpzZ_c5",
        "outputId": "1f90bb5d-6c09-4ce5-d76f-0e1f121d5098"
      },
      "outputs": [
        {
          "data": {
            "text/plain": [
              "satisfaction_level       2\n",
              "last_evaluation          0\n",
              "number_project           0\n",
              "average_montly_hours     1\n",
              "time_spend_company       0\n",
              "Work_accident            0\n",
              "left                     0\n",
              "promotion_last_5years    0\n",
              "sales                    0\n",
              "salary                   0\n",
              "dtype: int64"
            ]
          },
          "execution_count": 5,
          "metadata": {},
          "output_type": "execute_result"
        }
      ],
      "source": [
        "# Checking for null values\n",
        "\n",
        "df0.isnull().sum()"
      ]
    },
    {
      "cell_type": "code",
      "execution_count": null,
      "metadata": {
        "id": "ODRSRfjXZ_c6",
        "outputId": "9fde6ce6-d761-4aa1-a3c6-33f002f62d10"
      },
      "outputs": [
        {
          "data": {
            "text/html": [
              "<div>\n",
              "<style scoped>\n",
              "    .dataframe tbody tr th:only-of-type {\n",
              "        vertical-align: middle;\n",
              "    }\n",
              "\n",
              "    .dataframe tbody tr th {\n",
              "        vertical-align: top;\n",
              "    }\n",
              "\n",
              "    .dataframe thead th {\n",
              "        text-align: right;\n",
              "    }\n",
              "</style>\n",
              "<table border=\"1\" class=\"dataframe\">\n",
              "  <thead>\n",
              "    <tr style=\"text-align: right;\">\n",
              "      <th></th>\n",
              "      <th>satisfaction_level</th>\n",
              "      <th>last_evaluation</th>\n",
              "      <th>number_project</th>\n",
              "      <th>average_montly_hours</th>\n",
              "      <th>time_spend_company</th>\n",
              "      <th>Work_accident</th>\n",
              "      <th>left</th>\n",
              "      <th>promotion_last_5years</th>\n",
              "      <th>sales</th>\n",
              "      <th>salary</th>\n",
              "    </tr>\n",
              "  </thead>\n",
              "  <tbody>\n",
              "    <tr>\n",
              "      <th>18</th>\n",
              "      <td>NaN</td>\n",
              "      <td>0.51</td>\n",
              "      <td>2</td>\n",
              "      <td>160.0</td>\n",
              "      <td>3</td>\n",
              "      <td>1</td>\n",
              "      <td>1</td>\n",
              "      <td>1</td>\n",
              "      <td>sales</td>\n",
              "      <td>low</td>\n",
              "    </tr>\n",
              "    <tr>\n",
              "      <th>23</th>\n",
              "      <td>NaN</td>\n",
              "      <td>0.57</td>\n",
              "      <td>2</td>\n",
              "      <td>139.0</td>\n",
              "      <td>3</td>\n",
              "      <td>0</td>\n",
              "      <td>1</td>\n",
              "      <td>0</td>\n",
              "      <td>sales</td>\n",
              "      <td>low</td>\n",
              "    </tr>\n",
              "  </tbody>\n",
              "</table>\n",
              "</div>"
            ],
            "text/plain": [
              "    satisfaction_level  last_evaluation  number_project  average_montly_hours  \\\n",
              "18                 NaN             0.51               2                 160.0   \n",
              "23                 NaN             0.57               2                 139.0   \n",
              "\n",
              "    time_spend_company  Work_accident  left  promotion_last_5years  sales  \\\n",
              "18                   3              1     1                      1  sales   \n",
              "23                   3              0     1                      0  sales   \n",
              "\n",
              "   salary  \n",
              "18    low  \n",
              "23    low  "
            ]
          },
          "execution_count": 6,
          "metadata": {},
          "output_type": "execute_result"
        }
      ],
      "source": [
        "# Visualize the NULL observations\n",
        "\n",
        "df0[df0['satisfaction_level'].isnull()]"
      ]
    },
    {
      "cell_type": "markdown",
      "metadata": {
        "id": "gddQwZQhZ_c9"
      },
      "source": [
        "##### EDA (a) :Replace 'NA'"
      ]
    },
    {
      "cell_type": "code",
      "execution_count": null,
      "metadata": {
        "id": "UN26A1MoZ_c-",
        "outputId": "86c78e53-f540-4cb2-8987-20ad4a13fc38"
      },
      "outputs": [
        {
          "data": {
            "text/html": [
              "<div>\n",
              "<style scoped>\n",
              "    .dataframe tbody tr th:only-of-type {\n",
              "        vertical-align: middle;\n",
              "    }\n",
              "\n",
              "    .dataframe tbody tr th {\n",
              "        vertical-align: top;\n",
              "    }\n",
              "\n",
              "    .dataframe thead th {\n",
              "        text-align: right;\n",
              "    }\n",
              "</style>\n",
              "<table border=\"1\" class=\"dataframe\">\n",
              "  <thead>\n",
              "    <tr style=\"text-align: right;\">\n",
              "      <th></th>\n",
              "      <th>satisfaction_level</th>\n",
              "      <th>last_evaluation</th>\n",
              "      <th>number_project</th>\n",
              "      <th>average_montly_hours</th>\n",
              "      <th>time_spend_company</th>\n",
              "      <th>Work_accident</th>\n",
              "      <th>left</th>\n",
              "      <th>promotion_last_5years</th>\n",
              "      <th>sales</th>\n",
              "      <th>salary</th>\n",
              "    </tr>\n",
              "  </thead>\n",
              "  <tbody>\n",
              "    <tr>\n",
              "      <th>0</th>\n",
              "      <td>0.38</td>\n",
              "      <td>0.53</td>\n",
              "      <td>2</td>\n",
              "      <td>157.0</td>\n",
              "      <td>3</td>\n",
              "      <td>0</td>\n",
              "      <td>1</td>\n",
              "      <td>0</td>\n",
              "      <td>sales</td>\n",
              "      <td>low</td>\n",
              "    </tr>\n",
              "    <tr>\n",
              "      <th>1</th>\n",
              "      <td>0.80</td>\n",
              "      <td>0.86</td>\n",
              "      <td>5</td>\n",
              "      <td>262.0</td>\n",
              "      <td>6</td>\n",
              "      <td>0</td>\n",
              "      <td>1</td>\n",
              "      <td>0</td>\n",
              "      <td>sales</td>\n",
              "      <td>medium</td>\n",
              "    </tr>\n",
              "    <tr>\n",
              "      <th>2</th>\n",
              "      <td>0.11</td>\n",
              "      <td>0.88</td>\n",
              "      <td>7</td>\n",
              "      <td>272.0</td>\n",
              "      <td>4</td>\n",
              "      <td>0</td>\n",
              "      <td>1</td>\n",
              "      <td>0</td>\n",
              "      <td>sales</td>\n",
              "      <td>medium</td>\n",
              "    </tr>\n",
              "    <tr>\n",
              "      <th>3</th>\n",
              "      <td>0.72</td>\n",
              "      <td>0.87</td>\n",
              "      <td>5</td>\n",
              "      <td>223.0</td>\n",
              "      <td>5</td>\n",
              "      <td>0</td>\n",
              "      <td>1</td>\n",
              "      <td>0</td>\n",
              "      <td>sales</td>\n",
              "      <td>low</td>\n",
              "    </tr>\n",
              "    <tr>\n",
              "      <th>4</th>\n",
              "      <td>0.37</td>\n",
              "      <td>0.52</td>\n",
              "      <td>2</td>\n",
              "      <td>159.0</td>\n",
              "      <td>3</td>\n",
              "      <td>0</td>\n",
              "      <td>1</td>\n",
              "      <td>0</td>\n",
              "      <td>sales</td>\n",
              "      <td>low</td>\n",
              "    </tr>\n",
              "    <tr>\n",
              "      <th>...</th>\n",
              "      <td>...</td>\n",
              "      <td>...</td>\n",
              "      <td>...</td>\n",
              "      <td>...</td>\n",
              "      <td>...</td>\n",
              "      <td>...</td>\n",
              "      <td>...</td>\n",
              "      <td>...</td>\n",
              "      <td>...</td>\n",
              "      <td>...</td>\n",
              "    </tr>\n",
              "    <tr>\n",
              "      <th>14994</th>\n",
              "      <td>0.40</td>\n",
              "      <td>0.57</td>\n",
              "      <td>2</td>\n",
              "      <td>151.0</td>\n",
              "      <td>3</td>\n",
              "      <td>0</td>\n",
              "      <td>1</td>\n",
              "      <td>0</td>\n",
              "      <td>support</td>\n",
              "      <td>low</td>\n",
              "    </tr>\n",
              "    <tr>\n",
              "      <th>14995</th>\n",
              "      <td>0.37</td>\n",
              "      <td>0.48</td>\n",
              "      <td>2</td>\n",
              "      <td>160.0</td>\n",
              "      <td>3</td>\n",
              "      <td>0</td>\n",
              "      <td>1</td>\n",
              "      <td>0</td>\n",
              "      <td>support</td>\n",
              "      <td>low</td>\n",
              "    </tr>\n",
              "    <tr>\n",
              "      <th>14996</th>\n",
              "      <td>0.37</td>\n",
              "      <td>0.53</td>\n",
              "      <td>2</td>\n",
              "      <td>143.0</td>\n",
              "      <td>3</td>\n",
              "      <td>0</td>\n",
              "      <td>1</td>\n",
              "      <td>0</td>\n",
              "      <td>support</td>\n",
              "      <td>low</td>\n",
              "    </tr>\n",
              "    <tr>\n",
              "      <th>14997</th>\n",
              "      <td>0.11</td>\n",
              "      <td>0.96</td>\n",
              "      <td>6</td>\n",
              "      <td>280.0</td>\n",
              "      <td>4</td>\n",
              "      <td>0</td>\n",
              "      <td>1</td>\n",
              "      <td>0</td>\n",
              "      <td>support</td>\n",
              "      <td>low</td>\n",
              "    </tr>\n",
              "    <tr>\n",
              "      <th>14998</th>\n",
              "      <td>0.37</td>\n",
              "      <td>0.52</td>\n",
              "      <td>2</td>\n",
              "      <td>158.0</td>\n",
              "      <td>3</td>\n",
              "      <td>0</td>\n",
              "      <td>1</td>\n",
              "      <td>0</td>\n",
              "      <td>support</td>\n",
              "      <td>low</td>\n",
              "    </tr>\n",
              "  </tbody>\n",
              "</table>\n",
              "<p>14999 rows × 10 columns</p>\n",
              "</div>"
            ],
            "text/plain": [
              "       satisfaction_level  last_evaluation  number_project  \\\n",
              "0                    0.38             0.53               2   \n",
              "1                    0.80             0.86               5   \n",
              "2                    0.11             0.88               7   \n",
              "3                    0.72             0.87               5   \n",
              "4                    0.37             0.52               2   \n",
              "...                   ...              ...             ...   \n",
              "14994                0.40             0.57               2   \n",
              "14995                0.37             0.48               2   \n",
              "14996                0.37             0.53               2   \n",
              "14997                0.11             0.96               6   \n",
              "14998                0.37             0.52               2   \n",
              "\n",
              "       average_montly_hours  time_spend_company  Work_accident  left  \\\n",
              "0                     157.0                   3              0     1   \n",
              "1                     262.0                   6              0     1   \n",
              "2                     272.0                   4              0     1   \n",
              "3                     223.0                   5              0     1   \n",
              "4                     159.0                   3              0     1   \n",
              "...                     ...                 ...            ...   ...   \n",
              "14994                 151.0                   3              0     1   \n",
              "14995                 160.0                   3              0     1   \n",
              "14996                 143.0                   3              0     1   \n",
              "14997                 280.0                   4              0     1   \n",
              "14998                 158.0                   3              0     1   \n",
              "\n",
              "       promotion_last_5years    sales  salary  \n",
              "0                          0    sales     low  \n",
              "1                          0    sales  medium  \n",
              "2                          0    sales  medium  \n",
              "3                          0    sales     low  \n",
              "4                          0    sales     low  \n",
              "...                      ...      ...     ...  \n",
              "14994                      0  support     low  \n",
              "14995                      0  support     low  \n",
              "14996                      0  support     low  \n",
              "14997                      0  support     low  \n",
              "14998                      0  support     low  \n",
              "\n",
              "[14999 rows x 10 columns]"
            ]
          },
          "execution_count": 7,
          "metadata": {},
          "output_type": "execute_result"
        }
      ],
      "source": [
        "df0 = df0.fillna(df0.mean())\n",
        "df0"
      ]
    },
    {
      "cell_type": "code",
      "execution_count": null,
      "metadata": {
        "id": "S0gKrxtdZ_dB",
        "outputId": "9607b8e7-b326-402b-fd19-bc4f2e07ef74"
      },
      "outputs": [
        {
          "data": {
            "text/plain": [
              "satisfaction_level       0\n",
              "last_evaluation          0\n",
              "number_project           0\n",
              "average_montly_hours     0\n",
              "time_spend_company       0\n",
              "Work_accident            0\n",
              "left                     0\n",
              "promotion_last_5years    0\n",
              "sales                    0\n",
              "salary                   0\n",
              "dtype: int64"
            ]
          },
          "execution_count": 8,
          "metadata": {},
          "output_type": "execute_result"
        }
      ],
      "source": [
        "#Check that NA are no more present\n",
        "df0.isnull().sum()"
      ]
    },
    {
      "cell_type": "code",
      "execution_count": null,
      "metadata": {
        "id": "gRS721jxZ_dD"
      },
      "outputs": [],
      "source": [
        ""
      ]
    },
    {
      "cell_type": "markdown",
      "metadata": {
        "id": "nTEais-cZ_dD"
      },
      "source": [
        "##### EDA (a):  Change Categorical Salary to Ordinal"
      ]
    },
    {
      "cell_type": "code",
      "execution_count": null,
      "metadata": {
        "id": "wOqgITdrZ_dE"
      },
      "outputs": [],
      "source": [
        "# Creating Scale Map\n",
        "scale_mapper = {'low':1, 'medium':2, 'high':3}\n",
        "\n",
        "# Map feature values to scale\n",
        "df0['salary'] = df0['salary'].replace(scale_mapper)"
      ]
    },
    {
      "cell_type": "code",
      "execution_count": null,
      "metadata": {
        "id": "VzJv8ZI9Z_dF"
      },
      "outputs": [],
      "source": [
        ""
      ]
    },
    {
      "cell_type": "code",
      "execution_count": null,
      "metadata": {
        "id": "Ml1T32p_Z_dG",
        "outputId": "72c28c9f-2c9e-431d-a346-5be5eb637827"
      },
      "outputs": [
        {
          "data": {
            "text/plain": [
              "array(['sales', 'accounting', 'hr', 'technical', 'support', 'management',\n",
              "       'IT', 'product_mng', 'marketing', 'RandD'], dtype=object)"
            ]
          },
          "execution_count": 33,
          "metadata": {},
          "output_type": "execute_result"
        }
      ],
      "source": [
        "df0['sales'].unique()"
      ]
    },
    {
      "cell_type": "code",
      "execution_count": null,
      "metadata": {
        "id": "QsXyAkBBZ_dH"
      },
      "outputs": [],
      "source": [
        "# Creating Scale Map\n",
        "scale_mapper2 = {'sales':1, 'accounting':2, 'hr':3, 'technical':4, 'support':5, 'management':6, 'IT':7,\n",
        "                 'product_mng':8, 'marketing':9, 'RandD':10}\n",
        "\n",
        "# Map feature values to scale\n",
        "df0['sales'] = df0['sales'].replace(scale_mapper2)"
      ]
    },
    {
      "cell_type": "code",
      "execution_count": null,
      "metadata": {
        "id": "RZNtqscmZ_dI",
        "outputId": "11dc61b8-8918-46dd-9824-72570f6be141"
      },
      "outputs": [
        {
          "data": {
            "text/html": [
              "<div>\n",
              "<style scoped>\n",
              "    .dataframe tbody tr th:only-of-type {\n",
              "        vertical-align: middle;\n",
              "    }\n",
              "\n",
              "    .dataframe tbody tr th {\n",
              "        vertical-align: top;\n",
              "    }\n",
              "\n",
              "    .dataframe thead th {\n",
              "        text-align: right;\n",
              "    }\n",
              "</style>\n",
              "<table border=\"1\" class=\"dataframe\">\n",
              "  <thead>\n",
              "    <tr style=\"text-align: right;\">\n",
              "      <th></th>\n",
              "      <th>satisfaction_level</th>\n",
              "      <th>last_evaluation</th>\n",
              "      <th>number_project</th>\n",
              "      <th>average_montly_hours</th>\n",
              "      <th>time_spend_company</th>\n",
              "      <th>Work_accident</th>\n",
              "      <th>left</th>\n",
              "      <th>promotion_last_5years</th>\n",
              "      <th>sales</th>\n",
              "      <th>salary</th>\n",
              "    </tr>\n",
              "  </thead>\n",
              "  <tbody>\n",
              "    <tr>\n",
              "      <th>0</th>\n",
              "      <td>0.38</td>\n",
              "      <td>0.53</td>\n",
              "      <td>2</td>\n",
              "      <td>157.0</td>\n",
              "      <td>3</td>\n",
              "      <td>0</td>\n",
              "      <td>1</td>\n",
              "      <td>0</td>\n",
              "      <td>1</td>\n",
              "      <td>1</td>\n",
              "    </tr>\n",
              "    <tr>\n",
              "      <th>1</th>\n",
              "      <td>0.80</td>\n",
              "      <td>0.86</td>\n",
              "      <td>5</td>\n",
              "      <td>262.0</td>\n",
              "      <td>6</td>\n",
              "      <td>0</td>\n",
              "      <td>1</td>\n",
              "      <td>0</td>\n",
              "      <td>1</td>\n",
              "      <td>2</td>\n",
              "    </tr>\n",
              "    <tr>\n",
              "      <th>2</th>\n",
              "      <td>0.11</td>\n",
              "      <td>0.88</td>\n",
              "      <td>7</td>\n",
              "      <td>272.0</td>\n",
              "      <td>4</td>\n",
              "      <td>0</td>\n",
              "      <td>1</td>\n",
              "      <td>0</td>\n",
              "      <td>1</td>\n",
              "      <td>2</td>\n",
              "    </tr>\n",
              "    <tr>\n",
              "      <th>3</th>\n",
              "      <td>0.72</td>\n",
              "      <td>0.87</td>\n",
              "      <td>5</td>\n",
              "      <td>223.0</td>\n",
              "      <td>5</td>\n",
              "      <td>0</td>\n",
              "      <td>1</td>\n",
              "      <td>0</td>\n",
              "      <td>1</td>\n",
              "      <td>1</td>\n",
              "    </tr>\n",
              "    <tr>\n",
              "      <th>4</th>\n",
              "      <td>0.37</td>\n",
              "      <td>0.52</td>\n",
              "      <td>2</td>\n",
              "      <td>159.0</td>\n",
              "      <td>3</td>\n",
              "      <td>0</td>\n",
              "      <td>1</td>\n",
              "      <td>0</td>\n",
              "      <td>1</td>\n",
              "      <td>1</td>\n",
              "    </tr>\n",
              "  </tbody>\n",
              "</table>\n",
              "</div>"
            ],
            "text/plain": [
              "   satisfaction_level  last_evaluation  number_project  average_montly_hours  \\\n",
              "0                0.38             0.53               2                 157.0   \n",
              "1                0.80             0.86               5                 262.0   \n",
              "2                0.11             0.88               7                 272.0   \n",
              "3                0.72             0.87               5                 223.0   \n",
              "4                0.37             0.52               2                 159.0   \n",
              "\n",
              "   time_spend_company  Work_accident  left  promotion_last_5years  sales  \\\n",
              "0                   3              0     1                      0      1   \n",
              "1                   6              0     1                      0      1   \n",
              "2                   4              0     1                      0      1   \n",
              "3                   5              0     1                      0      1   \n",
              "4                   3              0     1                      0      1   \n",
              "\n",
              "   salary  \n",
              "0       1  \n",
              "1       2  \n",
              "2       2  \n",
              "3       1  \n",
              "4       1  "
            ]
          },
          "execution_count": 36,
          "metadata": {},
          "output_type": "execute_result"
        }
      ],
      "source": [
        "#Check the dataframe\n",
        "#salary and sales is changed to ordinal\n",
        "\n",
        "df0.head(5)"
      ]
    },
    {
      "cell_type": "code",
      "execution_count": null,
      "metadata": {
        "id": "f8GAbDYEZ_dJ",
        "outputId": "00793827-9cf6-43c5-db27-ac8310b836e9"
      },
      "outputs": [
        {
          "data": {
            "text/plain": [
              "3"
            ]
          },
          "execution_count": 37,
          "metadata": {},
          "output_type": "execute_result"
        }
      ],
      "source": [
        "df0['salary'].nunique()"
      ]
    },
    {
      "cell_type": "code",
      "execution_count": null,
      "metadata": {
        "id": "UgFdSLyOZ_dJ"
      },
      "outputs": [],
      "source": [
        ""
      ]
    },
    {
      "cell_type": "markdown",
      "metadata": {
        "id": "tMtLmjTJZ_dK"
      },
      "source": [
        "#### EDA(b)"
      ]
    },
    {
      "cell_type": "code",
      "execution_count": null,
      "metadata": {
        "id": "XF4nk5wZZ_dL",
        "outputId": "0c28e974-3914-4968-eeb2-8cff2957f65b"
      },
      "outputs": [
        {
          "data": {
            "text/plain": [
              "0    11428\n",
              "1     3571\n",
              "Name: left, dtype: int64"
            ]
          },
          "execution_count": 38,
          "metadata": {},
          "output_type": "execute_result"
        }
      ],
      "source": [
        "#Checking for Unbalanced classification in the target variable\n",
        "\n",
        "df0['left'].value_counts()"
      ]
    },
    {
      "cell_type": "markdown",
      "metadata": {
        "id": "yBs1WwN-Z_dM"
      },
      "source": [
        "There is umbalncesness in the target\n",
        "\n",
        "This would be handled"
      ]
    },
    {
      "cell_type": "code",
      "execution_count": null,
      "metadata": {
        "id": "Zw-49yaKZ_dM"
      },
      "outputs": [],
      "source": [
        "#dfnew.nunique()"
      ]
    },
    {
      "cell_type": "code",
      "execution_count": null,
      "metadata": {
        "id": "--mChHkzZ_dN",
        "outputId": "3d6a639b-7969-4407-f19f-4f387d87dcd3"
      },
      "outputs": [
        {
          "name": "stdout",
          "output_type": "stream",
          "text": [
            "The number of values for feature satisfaction_level is: 93\n",
            "The number of values for feature last_evaluation is: 65\n",
            "The number of values for feature number_project is: 6 -- [2 3 4 5 6 7]\n",
            "The number of values for feature average_montly_hours is: 216\n",
            "The number of values for feature time_spend_company is: 8 -- [ 2  3  4  5  6  7  8 10]\n",
            "The number of values for feature Work_accident is: 2 -- [0 1]\n",
            "The number of values for feature left is: 2 -- [0 1]\n",
            "The number of values for feature promotion_last_5years is: 2 -- [0 1]\n",
            "The number of values for feature sales is: 10 -- [ 1  2  3  4  5  6  7  8  9 10]\n",
            "The number of values for feature salary is: 3 -- [1 2 3]\n"
          ]
        }
      ],
      "source": [
        "# Investigate all the elements whithin each Feature \n",
        "\n",
        "for column in df0:\n",
        "    unique_values = np.unique(df0[column])\n",
        "    number_of_values = len(unique_values)\n",
        "    if number_of_values <= 10:\n",
        "        print(\"The number of values for feature {} is: {} -- {}\".format(column, number_of_values, unique_values))\n",
        "    else:\n",
        "        print(\"The number of values for feature {} is: {}\".format(column, number_of_values))"
      ]
    },
    {
      "cell_type": "code",
      "execution_count": null,
      "metadata": {
        "id": "fsmEplLWZ_dN"
      },
      "outputs": [],
      "source": [
        ""
      ]
    },
    {
      "cell_type": "markdown",
      "metadata": {
        "id": "E-cM3d7zZ_dN"
      },
      "source": [
        "##### EDA 1c"
      ]
    },
    {
      "cell_type": "code",
      "execution_count": null,
      "metadata": {
        "id": "76NJpPbCZ_dO",
        "outputId": "961a2a94-f474-48ee-91ca-4a2878ba018d"
      },
      "outputs": [
        {
          "data": {
            "image/png": "[encoded data removed]",
            "text/plain": [
              "<Figure size 1440x720 with 1 Axes>"
            ]
          },
          "metadata": {
            "needs_background": "light"
          },
          "output_type": "display_data"
        }
      ],
      "source": [
        "#set the plot size\n",
        "plt.figure(figsize=(20,10))\n",
        "\n",
        "label=['satisfaction_level', 'last_evaluation', 'number_project', 'average_montly_hours', \n",
        "        'time_spend_company', 'Work_accident', 'promotion_last_5years', 'salary'\n",
        "      ]\n",
        "\n",
        "box_plot_data=df0[['satisfaction_level', 'last_evaluation', 'number_project', 'average_montly_hours', \n",
        "                   'time_spend_company', 'Work_accident', 'promotion_last_5years', 'salary'\n",
        "                 ]]\n",
        "\n",
        "plt.boxplot(box_plot_data,vert=0, patch_artist=True,labels=label)\n",
        "plt.show()"
      ]
    },
    {
      "cell_type": "markdown",
      "metadata": {
        "id": "NU4NvI-4Z_dP"
      },
      "source": [
        "#### Individual Box Plot"
      ]
    },
    {
      "cell_type": "code",
      "execution_count": null,
      "metadata": {
        "id": "hu2iHTGfZ_dP",
        "outputId": "b78cd9b6-3f65-47c2-abfb-449f81eb65bc"
      },
      "outputs": [
        {
          "data": {
            "text/plain": [
              "count    14999.000000\n",
              "mean         0.612855\n",
              "std          0.248624\n",
              "min          0.090000\n",
              "25%          0.440000\n",
              "50%          0.640000\n",
              "75%          0.820000\n",
              "max          1.000000\n",
              "Name: satisfaction_level, dtype: float64"
            ]
          },
          "execution_count": 17,
          "metadata": {},
          "output_type": "execute_result"
        },
        {
          "data": {
            "image/png": "[encoded data removed]",
            "text/plain": [
              "<Figure size 432x288 with 1 Axes>"
            ]
          },
          "metadata": {
            "needs_background": "light"
          },
          "output_type": "display_data"
        }
      ],
      "source": [
        "plt.boxplot(df0['satisfaction_level'],patch_artist=True)\n",
        "\n",
        "#Five Number Summary\n",
        "df0['satisfaction_level'].describe()"
      ]
    },
    {
      "cell_type": "raw",
      "metadata": {
        "id": "vFDp3u0AZ_dQ"
      },
      "source": [
        "On median, only about 64% employees are satisfied"
      ]
    },
    {
      "cell_type": "code",
      "execution_count": null,
      "metadata": {
        "id": "pciIfHfbZ_dQ",
        "outputId": "794aa6db-5e1e-429d-f566-bf547de52332"
      },
      "outputs": [
        {
          "data": {
            "text/plain": [
              "count    14999.000000\n",
              "mean         0.716102\n",
              "std          0.171169\n",
              "min          0.360000\n",
              "25%          0.560000\n",
              "50%          0.720000\n",
              "75%          0.870000\n",
              "max          1.000000\n",
              "Name: last_evaluation, dtype: float64"
            ]
          },
          "execution_count": 18,
          "metadata": {},
          "output_type": "execute_result"
        },
        {
          "data": {
            "image/png": "[encoded data removed]",
            "text/plain": [
              "<Figure size 432x288 with 1 Axes>"
            ]
          },
          "metadata": {
            "needs_background": "light"
          },
          "output_type": "display_data"
        }
      ],
      "source": [
        "plt.boxplot(df0['last_evaluation'],patch_artist=True)\n",
        "\n",
        "#Five Number Summary\n",
        "df0['last_evaluation'].describe()\n"
      ]
    },
    {
      "cell_type": "code",
      "execution_count": null,
      "metadata": {
        "id": "4uEAVgwkZ_dQ",
        "outputId": "eb12561a-7d71-40ac-d309-674269f91a1f"
      },
      "outputs": [
        {
          "data": {
            "text/plain": [
              "count    14999.000000\n",
              "mean         3.803054\n",
              "std          1.232592\n",
              "min          2.000000\n",
              "25%          3.000000\n",
              "50%          4.000000\n",
              "75%          5.000000\n",
              "max          7.000000\n",
              "Name: number_project, dtype: float64"
            ]
          },
          "execution_count": 19,
          "metadata": {},
          "output_type": "execute_result"
        },
        {
          "data": {
            "image/png": "[encoded data removed]",
            "text/plain": [
              "<Figure size 432x288 with 1 Axes>"
            ]
          },
          "metadata": {
            "needs_background": "light"
          },
          "output_type": "display_data"
        }
      ],
      "source": [
        "plt.boxplot(df0['number_project'],patch_artist=True)\n",
        "\n",
        "#Five Number Summary\n",
        "df0['number_project'].describe()"
      ]
    },
    {
      "cell_type": "code",
      "execution_count": null,
      "metadata": {
        "id": "gl8Luv3_Z_dR",
        "outputId": "7ee0a998-31a6-4be4-af19-fc83064a1b26"
      },
      "outputs": [
        {
          "data": {
            "text/plain": [
              "count    14999.000000\n",
              "mean       201.046273\n",
              "std         49.940619\n",
              "min         96.000000\n",
              "25%        156.000000\n",
              "50%        200.000000\n",
              "75%        245.000000\n",
              "max        310.000000\n",
              "Name: average_montly_hours, dtype: float64"
            ]
          },
          "execution_count": 20,
          "metadata": {},
          "output_type": "execute_result"
        },
        {
          "data": {
            "image/png": "[encoded data removed]",
            "text/plain": [
              "<Figure size 432x288 with 1 Axes>"
            ]
          },
          "metadata": {
            "needs_background": "light"
          },
          "output_type": "display_data"
        }
      ],
      "source": [
        "plt.boxplot(df0['average_montly_hours'],patch_artist=True)\n",
        "\n",
        "#Five Number Summary\n",
        "df0['average_montly_hours'].describe()"
      ]
    },
    {
      "cell_type": "raw",
      "metadata": {
        "id": "UIYFl-bjZ_dR"
      },
      "source": [
        "Bulk of the employees work between 150-250 hours monthly"
      ]
    },
    {
      "cell_type": "code",
      "execution_count": null,
      "metadata": {
        "id": "HNMEevwWZ_dR",
        "outputId": "cb576344-98ce-4024-e728-e8f966c81fcc"
      },
      "outputs": [
        {
          "data": {
            "text/plain": [
              "count    14999.000000\n",
              "mean         3.498233\n",
              "std          1.460136\n",
              "min          2.000000\n",
              "25%          3.000000\n",
              "50%          3.000000\n",
              "75%          4.000000\n",
              "max         10.000000\n",
              "Name: time_spend_company, dtype: float64"
            ]
          },
          "execution_count": 21,
          "metadata": {},
          "output_type": "execute_result"
        },
        {
          "data": {
            "image/png": "[encoded data removed]",
            "text/plain": [
              "<Figure size 432x288 with 1 Axes>"
            ]
          },
          "metadata": {
            "needs_background": "light"
          },
          "output_type": "display_data"
        }
      ],
      "source": [
        "plt.boxplot(df0['time_spend_company'],patch_artist=True)\n",
        "\n",
        "#Five Number Summary\n",
        "df0['time_spend_company'].describe()"
      ]
    },
    {
      "cell_type": "raw",
      "metadata": {
        "id": "LVUPc4HmZ_dR"
      },
      "source": [
        "6 years and beyound happend to be outliers\n",
        "Most of the employees spent minimum of 2 years and maximum of 5 years before they left\n",
        "Only fewer employees stayed beyound 5 years"
      ]
    },
    {
      "cell_type": "code",
      "execution_count": null,
      "metadata": {
        "id": "TsUp5taIZ_dS",
        "outputId": "ab15cfe5-5b65-4270-d9f6-7b7c15bc2df9"
      },
      "outputs": [
        {
          "data": {
            "text/plain": [
              "count    14999.000000\n",
              "mean         0.144610\n",
              "std          0.351719\n",
              "min          0.000000\n",
              "25%          0.000000\n",
              "50%          0.000000\n",
              "75%          0.000000\n",
              "max          1.000000\n",
              "Name: Work_accident, dtype: float64"
            ]
          },
          "execution_count": 22,
          "metadata": {},
          "output_type": "execute_result"
        },
        {
          "data": {
            "image/png": "[encoded data removed]",
            "text/plain": [
              "<Figure size 432x288 with 1 Axes>"
            ]
          },
          "metadata": {
            "needs_background": "light"
          },
          "output_type": "display_data"
        }
      ],
      "source": [
        "plt.boxplot(df0['Work_accident'], patch_artist=True)\n",
        "\n",
        "#Five Number Summary\n",
        "df0['Work_accident'].describe()"
      ]
    },
    {
      "cell_type": "raw",
      "metadata": {
        "id": "IMnumvv1Z_dT"
      },
      "source": [
        "Employees generally don't have accident \n",
        "One accident ocuurence would be an outlier"
      ]
    },
    {
      "cell_type": "code",
      "execution_count": null,
      "metadata": {
        "id": "U1uNmhM6Z_dU",
        "outputId": "e5889819-9bb1-4ca8-d5d3-4dc1e8ad3b55"
      },
      "outputs": [
        {
          "data": {
            "text/plain": [
              "count    14999.000000\n",
              "mean         0.021268\n",
              "std          0.144281\n",
              "min          0.000000\n",
              "25%          0.000000\n",
              "50%          0.000000\n",
              "75%          0.000000\n",
              "max          1.000000\n",
              "Name: promotion_last_5years, dtype: float64"
            ]
          },
          "execution_count": 23,
          "metadata": {},
          "output_type": "execute_result"
        },
        {
          "data": {
            "image/png": "[encoded data removed]",
            "text/plain": [
              "<Figure size 432x288 with 1 Axes>"
            ]
          },
          "metadata": {
            "needs_background": "light"
          },
          "output_type": "display_data"
        }
      ],
      "source": [
        "plt.boxplot(df0['promotion_last_5years'], patch_artist=True)\n",
        "\n",
        "#Five Number Summary\n",
        "df0['promotion_last_5years'].describe()"
      ]
    },
    {
      "cell_type": "raw",
      "metadata": {
        "id": "TkX2pQv0Z_dU"
      },
      "source": [
        "Employees do not get promoted within last 5 years, except in an unusual case which happend to be an outlier"
      ]
    },
    {
      "cell_type": "code",
      "execution_count": null,
      "metadata": {
        "id": "3AggrlW5Z_dU",
        "outputId": "34e7ab53-7823-4069-d2e5-b9f0fd7f8d27"
      },
      "outputs": [
        {
          "data": {
            "text/plain": [
              "count    14999.000000\n",
              "mean         1.594706\n",
              "std          0.637183\n",
              "min          1.000000\n",
              "25%          1.000000\n",
              "50%          2.000000\n",
              "75%          2.000000\n",
              "max          3.000000\n",
              "Name: salary, dtype: float64"
            ]
          },
          "execution_count": 24,
          "metadata": {},
          "output_type": "execute_result"
        },
        {
          "data": {
            "image/png": "[encoded data removed]",
            "text/plain": [
              "<Figure size 432x288 with 1 Axes>"
            ]
          },
          "metadata": {
            "needs_background": "light"
          },
          "output_type": "display_data"
        }
      ],
      "source": [
        "#Salary\n",
        "plt.boxplot(df0['salary'], patch_artist=True)\n",
        "\n",
        "#Five Number Summary\n",
        "df0['salary'].describe()"
      ]
    },
    {
      "cell_type": "raw",
      "metadata": {
        "id": "c58cJFADZ_dV"
      },
      "source": [
        "Employees 75 percentiles of the employees have earning 'medium' category  "
      ]
    },
    {
      "cell_type": "code",
      "execution_count": null,
      "metadata": {
        "id": "rj-A538VZ_dV"
      },
      "outputs": [],
      "source": [
        ""
      ]
    },
    {
      "cell_type": "markdown",
      "metadata": {
        "id": "mR0kWAtGZ_dV"
      },
      "source": [
        "##### EDA: 1d"
      ]
    },
    {
      "cell_type": "code",
      "execution_count": null,
      "metadata": {
        "id": "2C09z-SqZ_dV",
        "outputId": "1ccc740f-4de1-44f4-c30a-91d52c2d5a77"
      },
      "outputs": [
        {
          "data": {
            "image/png": "[encoded data removed]",
            "text/plain": [
              "<Figure size 1080x720 with 2 Axes>"
            ]
          },
          "metadata": {
            "needs_background": "light"
          },
          "output_type": "display_data"
        }
      ],
      "source": [
        "#Correlation matrix\n",
        "plt.figure(figsize=(15,10)) #Set figure size\n",
        "\n",
        "sns.heatmap(df0.corr(), annot=True)\n",
        "\n",
        "plt.show()"
      ]
    },
    {
      "cell_type": "code",
      "execution_count": null,
      "metadata": {
        "id": "SYidMQfgZ_dV"
      },
      "outputs": [],
      "source": [
        ""
      ]
    },
    {
      "cell_type": "markdown",
      "metadata": {
        "id": "syCxs_rpZ_dW"
      },
      "source": [
        "##### EDA: 1e"
      ]
    },
    {
      "cell_type": "code",
      "execution_count": null,
      "metadata": {
        "id": "iMlstlczZ_dW",
        "outputId": "39d8393a-0f59-4df6-a2e7-cf19b641851e"
      },
      "outputs": [
        {
          "data": {
            "text/plain": [
              "<AxesSubplot:xlabel='left', ylabel='salary'>"
            ]
          },
          "execution_count": 26,
          "metadata": {},
          "output_type": "execute_result"
        },
        {
          "data": {
            "image/png": "[encoded data removed]",
            "text/plain": [
              "<Figure size 720x432 with 1 Axes>"
            ]
          },
          "metadata": {
            "needs_background": "light"
          },
          "output_type": "display_data"
        }
      ],
      "source": [
        "##Using BoxPlot to know the effect of salary on employees retention\n",
        "\n",
        "plt.figure(figsize=(10,6))\n",
        "\n",
        "sns.barplot(x=\"left\", y=\"salary\", data=df0)"
      ]
    },
    {
      "cell_type": "code",
      "execution_count": null,
      "metadata": {
        "scrolled": true,
        "id": "MjcmjPYzZ_dX",
        "outputId": "77ca6d11-7429-4213-af88-ae977ac5dd97"
      },
      "outputs": [
        {
          "data": {
            "text/plain": [
              "<AxesSubplot:xlabel='left', ylabel='count'>"
            ]
          },
          "execution_count": 162,
          "metadata": {},
          "output_type": "execute_result"
        },
        {
          "data": {
            "image/png": "[encoded data removed]",
            "text/plain": [
              "<Figure size 720x432 with 1 Axes>"
            ]
          },
          "metadata": {
            "needs_background": "light"
          },
          "output_type": "display_data"
        }
      ],
      "source": [
        "#Using Count Plot to know the effect of salary on employees retention\n",
        "plt.figure(figsize=(10,6))\n",
        "\n",
        "sns.countplot(df0['left'], hue=df0['salary'])"
      ]
    },
    {
      "cell_type": "raw",
      "metadata": {
        "id": "bGJRu-QRZ_dX"
      },
      "source": [
        "More Employees on salary category 1-Low and 2-Medium left the organization\n",
        "Larger percentage of those that stayed are the low earners and medium earners categories which would most likely be the new graduates with less than 1-2 years of experience although this is hypothetical since no information was given about experirnce levels of the employees but the assumption is logical"
      ]
    },
    {
      "cell_type": "raw",
      "metadata": {
        "id": "upvR7cngZ_dX"
      },
      "source": [
        "Employees who have spent 3 years left the most followed by those who spent 2 years, 4 years "
      ]
    },
    {
      "cell_type": "code",
      "execution_count": null,
      "metadata": {
        "id": "V_hm8M64Z_dX"
      },
      "outputs": [],
      "source": [
        ""
      ]
    },
    {
      "cell_type": "markdown",
      "metadata": {
        "id": "ZjTZdgLgZ_dY"
      },
      "source": [
        "#### EDA: f"
      ]
    },
    {
      "cell_type": "markdown",
      "metadata": {
        "id": "awkmbGtJZ_dY"
      },
      "source": [
        "##### Histogram plots for continuos features"
      ]
    },
    {
      "cell_type": "code",
      "execution_count": null,
      "metadata": {
        "id": "zqckC1GXZ_dY",
        "outputId": "a7622e8b-e2a8-48a1-8b49-9d3d5d31a032"
      },
      "outputs": [
        {
          "data": {
            "text/plain": [
              "<AxesSubplot:xlabel='satisfaction_level', ylabel='Count'>"
            ]
          },
          "execution_count": 157,
          "metadata": {},
          "output_type": "execute_result"
        },
        {
          "data": {
            "image/png": "[encoded data removed]",
            "text/plain": [
              "<Figure size 720x432 with 1 Axes>"
            ]
          },
          "metadata": {
            "needs_background": "light"
          },
          "output_type": "display_data"
        }
      ],
      "source": [
        "plt.figure(figsize=(10,6))\n",
        "sns.histplot(data=df0,x='satisfaction_level',hue='left', binwidth = 0.2, multiple=\"stack\")"
      ]
    },
    {
      "cell_type": "raw",
      "metadata": {
        "id": "-1vSIJJdZ_dZ"
      },
      "source": [
        "More employees with 0.4 satisfaction_level left \n",
        "Employees with 0.6 and 0.8 satisfaction_level tends to stay more"
      ]
    },
    {
      "cell_type": "code",
      "execution_count": null,
      "metadata": {
        "id": "XALyUFl-Z_dZ"
      },
      "outputs": [],
      "source": [
        ""
      ]
    },
    {
      "cell_type": "code",
      "execution_count": null,
      "metadata": {
        "id": "SYcjZpvbZ_dZ",
        "outputId": "4577f5dd-9a06-4d46-eb1f-f1aa4886ee0f"
      },
      "outputs": [
        {
          "data": {
            "text/plain": [
              "<AxesSubplot:xlabel='last_evaluation', ylabel='Count'>"
            ]
          },
          "execution_count": 156,
          "metadata": {},
          "output_type": "execute_result"
        },
        {
          "data": {
            "image/png": "[encoded data removed]",
            "text/plain": [
              "<Figure size 720x432 with 1 Axes>"
            ]
          },
          "metadata": {
            "needs_background": "light"
          },
          "output_type": "display_data"
        }
      ],
      "source": [
        "plt.figure(figsize=(10,6))\n",
        "sns.histplot(data=df0,x='last_evaluation',hue='left', binwidth = 0.1, multiple=\"stack\")"
      ]
    },
    {
      "cell_type": "raw",
      "metadata": {
        "id": "rbGXXp4EZ_dZ"
      },
      "source": [
        "Employees with last_evaluation==0.5 have more employees left as well as more employess stay than other last_evaluation values\n",
        "There is nearlya tie at last_evaluation==0.5, we might want to investigate futher on this"
      ]
    },
    {
      "cell_type": "code",
      "execution_count": null,
      "metadata": {
        "id": "AdLaLlQ_Z_dZ"
      },
      "outputs": [],
      "source": [
        ""
      ]
    },
    {
      "cell_type": "code",
      "execution_count": null,
      "metadata": {
        "id": "hWR69635Z_dZ",
        "outputId": "7dd2db1f-7fb3-457f-d83c-2ab8fb305854"
      },
      "outputs": [
        {
          "data": {
            "text/plain": [
              "<AxesSubplot:xlabel='average_montly_hours', ylabel='Count'>"
            ]
          },
          "execution_count": 155,
          "metadata": {},
          "output_type": "execute_result"
        },
        {
          "data": {
            "image/png": "[encoded data removed]",
            "text/plain": [
              "<Figure size 4320x2160 with 1 Axes>"
            ]
          },
          "metadata": {
            "needs_background": "light"
          },
          "output_type": "display_data"
        }
      ],
      "source": [
        "plt.figure(figsize=(60,30))\n",
        "sns.histplot(data=df0,x='average_montly_hours', binwidth = 10, hue='left', multiple=\"stack\")"
      ]
    },
    {
      "cell_type": "code",
      "execution_count": null,
      "metadata": {
        "id": "cVK-Z8qFZ_da"
      },
      "outputs": [],
      "source": [
        ""
      ]
    },
    {
      "cell_type": "code",
      "execution_count": null,
      "metadata": {
        "id": "0OC6hDsyZ_da",
        "outputId": "106657d3-01eb-419b-ac8e-3b46cde3933d"
      },
      "outputs": [
        {
          "data": {
            "text/plain": [
              "<AxesSubplot:xlabel='time_spend_company', ylabel='Count'>"
            ]
          },
          "execution_count": 154,
          "metadata": {},
          "output_type": "execute_result"
        },
        {
          "data": {
            "image/png": "[encoded data removed]",
            "text/plain": [
              "<Figure size 720x432 with 1 Axes>"
            ]
          },
          "metadata": {
            "needs_background": "light"
          },
          "output_type": "display_data"
        }
      ],
      "source": [
        "plt.figure(figsize=(10,6))\n",
        "sns.histplot(data=df0,x='time_spend_company',hue='left',binwidth=0.5,multiple=\"stack\")"
      ]
    },
    {
      "cell_type": "raw",
      "metadata": {
        "id": "nCdIMazVZ_db"
      },
      "source": [
        "More employees seem to stay for 3 years beyound which there is a decline, right-skewed"
      ]
    },
    {
      "cell_type": "code",
      "execution_count": null,
      "metadata": {
        "id": "8GCHWekzZ_db"
      },
      "outputs": [],
      "source": [
        ""
      ]
    },
    {
      "cell_type": "markdown",
      "metadata": {
        "id": "ZFrlosFfZ_db"
      },
      "source": [
        "### Histogram/countplot for categorical features seenas  follows"
      ]
    },
    {
      "cell_type": "code",
      "execution_count": null,
      "metadata": {
        "id": "Ks-pyKQAZ_db",
        "outputId": "2db9cb7b-64f6-4ed6-b935-2b3e8c5af5dc"
      },
      "outputs": [
        {
          "data": {
            "text/plain": [
              "<AxesSubplot:xlabel='number_project', ylabel='Count'>"
            ]
          },
          "execution_count": 158,
          "metadata": {},
          "output_type": "execute_result"
        },
        {
          "data": {
            "image/png": "[encoded data removed]",
            "text/plain": [
              "<Figure size 720x432 with 1 Axes>"
            ]
          },
          "metadata": {
            "needs_background": "light"
          },
          "output_type": "display_data"
        }
      ],
      "source": [
        "plt.figure(figsize=(10,6))\n",
        "sns.histplot(data=df0,x='number_project',hue='left',multiple=\"stack\")"
      ]
    },
    {
      "cell_type": "code",
      "execution_count": null,
      "metadata": {
        "id": "yW702EXsZ_dc",
        "outputId": "0c4fbb76-e6f9-46fc-ea0b-5d391c620d6a"
      },
      "outputs": [
        {
          "data": {
            "text/plain": [
              "<AxesSubplot:xlabel='number_project', ylabel='count'>"
            ]
          },
          "execution_count": 143,
          "metadata": {},
          "output_type": "execute_result"
        },
        {
          "data": {
            "image/png": "[encoded data removed]",
            "text/plain": [
              "<Figure size 720x432 with 1 Axes>"
            ]
          },
          "metadata": {
            "needs_background": "light"
          },
          "output_type": "display_data"
        }
      ],
      "source": [
        "plt.figure(figsize=(10,6))\n",
        "sns.countplot(data=df0,x='number_project',hue='left')"
      ]
    },
    {
      "cell_type": "raw",
      "metadata": {
        "id": "MMsv5xsJZ_dc"
      },
      "source": [
        "Employees with 7 project all left, maybe the wok is too tideous on them"
      ]
    },
    {
      "cell_type": "code",
      "execution_count": null,
      "metadata": {
        "id": "PoYtTtYEZ_dc"
      },
      "outputs": [],
      "source": [
        ""
      ]
    },
    {
      "cell_type": "code",
      "execution_count": null,
      "metadata": {
        "id": "DgY-7a5uZ_dd",
        "outputId": "a1ffa05e-49ce-40ae-a213-9c859212fdd1"
      },
      "outputs": [
        {
          "data": {
            "text/plain": [
              "<AxesSubplot:xlabel='Work_accident', ylabel='Count'>"
            ]
          },
          "execution_count": 159,
          "metadata": {},
          "output_type": "execute_result"
        },
        {
          "data": {
            "image/png": "[encoded data removed]",
            "text/plain": [
              "<Figure size 720x432 with 1 Axes>"
            ]
          },
          "metadata": {
            "needs_background": "light"
          },
          "output_type": "display_data"
        }
      ],
      "source": [
        "plt.figure(figsize=(10,6))\n",
        "sns.histplot(data=df0,x='Work_accident',hue='left',multiple=\"stack\")"
      ]
    },
    {
      "cell_type": "code",
      "execution_count": null,
      "metadata": {
        "id": "eQZ75A2eZ_dd",
        "outputId": "c34f6387-919c-4d83-828d-510f4186bb5f"
      },
      "outputs": [
        {
          "data": {
            "text/plain": [
              "<AxesSubplot:xlabel='Work_accident', ylabel='count'>"
            ]
          },
          "execution_count": 144,
          "metadata": {},
          "output_type": "execute_result"
        },
        {
          "data": {
            "image/png": "[encoded data removed]",
            "text/plain": [
              "<Figure size 720x432 with 1 Axes>"
            ]
          },
          "metadata": {
            "needs_background": "light"
          },
          "output_type": "display_data"
        }
      ],
      "source": [
        "plt.figure(figsize=(10,6))\n",
        "sns.countplot(data=df0,x='Work_accident',hue='left')"
      ]
    },
    {
      "cell_type": "raw",
      "metadata": {
        "id": "HdyUy0JwZ_dd"
      },
      "source": [
        "Despite that employees without accidents, more people without accidents still left the organization"
      ]
    },
    {
      "cell_type": "code",
      "execution_count": null,
      "metadata": {
        "id": "MY-CVnXwZ_dd"
      },
      "outputs": [],
      "source": [
        ""
      ]
    },
    {
      "cell_type": "code",
      "execution_count": null,
      "metadata": {
        "id": "fqsHdTK4Z_dd",
        "outputId": "eac97f07-4d11-44a4-9b3a-b3c2aadb4a56"
      },
      "outputs": [
        {
          "data": {
            "text/plain": [
              "<AxesSubplot:xlabel='promotion_last_5years', ylabel='Count'>"
            ]
          },
          "execution_count": 160,
          "metadata": {},
          "output_type": "execute_result"
        },
        {
          "data": {
            "image/png": "[encoded data removed]",
            "text/plain": [
              "<Figure size 720x432 with 1 Axes>"
            ]
          },
          "metadata": {
            "needs_background": "light"
          },
          "output_type": "display_data"
        }
      ],
      "source": [
        "plt.figure(figsize=(10,6))\n",
        "sns.histplot(data=df0,x='promotion_last_5years',hue='left',multiple=\"stack\")"
      ]
    },
    {
      "cell_type": "code",
      "execution_count": null,
      "metadata": {
        "id": "xz9feDtFZ_de",
        "outputId": "631a6118-501d-4b5e-c5c2-aeb709856652"
      },
      "outputs": [
        {
          "data": {
            "text/plain": [
              "<AxesSubplot:xlabel='promotion_last_5years', ylabel='count'>"
            ]
          },
          "execution_count": 152,
          "metadata": {},
          "output_type": "execute_result"
        },
        {
          "data": {
            "image/png": "[encoded data removed]",
            "text/plain": [
              "<Figure size 720x576 with 1 Axes>"
            ]
          },
          "metadata": {
            "needs_background": "light"
          },
          "output_type": "display_data"
        }
      ],
      "source": [
        "plt.figure(figsize=(10,8))\n",
        "sns.countplot(data=df0,x='promotion_last_5years', hue='left')"
      ]
    },
    {
      "cell_type": "raw",
      "metadata": {
        "id": "-QSOWlitZ_df"
      },
      "source": [
        "More employees without promotion left than even those with promotion"
      ]
    },
    {
      "cell_type": "code",
      "execution_count": null,
      "metadata": {
        "id": "n1bNkdxrZ_df"
      },
      "outputs": [],
      "source": [
        ""
      ]
    },
    {
      "cell_type": "code",
      "execution_count": null,
      "metadata": {
        "id": "658C5fEfZ_df",
        "outputId": "c43da2cf-5226-41e6-acee-2e06304de031"
      },
      "outputs": [
        {
          "data": {
            "text/plain": [
              "<AxesSubplot:xlabel='salary', ylabel='Count'>"
            ]
          },
          "execution_count": 161,
          "metadata": {},
          "output_type": "execute_result"
        },
        {
          "data": {
            "image/png": "[encoded data removed]",
            "text/plain": [
              "<Figure size 720x432 with 1 Axes>"
            ]
          },
          "metadata": {
            "needs_background": "light"
          },
          "output_type": "display_data"
        }
      ],
      "source": [
        "plt.figure(figsize=(10,6))\n",
        "\n",
        "sns.histplot(data=df0,x='salary',hue='left',multiple=\"stack\")"
      ]
    },
    {
      "cell_type": "code",
      "execution_count": null,
      "metadata": {
        "id": "zKvC-_YjZ_df",
        "outputId": "3101a70c-eee7-4444-a29c-df78dba52a83"
      },
      "outputs": [
        {
          "data": {
            "text/plain": [
              "<AxesSubplot:xlabel='salary', ylabel='count'>"
            ]
          },
          "execution_count": 146,
          "metadata": {},
          "output_type": "execute_result"
        },
        {
          "data": {
            "image/png": "[encoded data removed]",
            "text/plain": [
              "<Figure size 720x576 with 1 Axes>"
            ]
          },
          "metadata": {
            "needs_background": "light"
          },
          "output_type": "display_data"
        }
      ],
      "source": [
        "plt.figure(figsize=(10,8))\n",
        "sns.countplot(data=df0,x='salary', hue='left')"
      ]
    },
    {
      "cell_type": "raw",
      "metadata": {
        "id": "PA2z4ea_Z_dg"
      },
      "source": [
        "More employees who left are in low and medium salary categories"
      ]
    },
    {
      "cell_type": "code",
      "execution_count": null,
      "metadata": {
        "id": "l1BejroDZ_dg"
      },
      "outputs": [],
      "source": [
        ""
      ]
    },
    {
      "cell_type": "code",
      "execution_count": null,
      "metadata": {
        "id": "0GFrCj_tZ_dh",
        "outputId": "2f88d2b4-5b4f-4810-d07d-6749d34ad542"
      },
      "outputs": [
        {
          "data": {
            "text/plain": [
              "<AxesSubplot:xlabel='sales', ylabel='count'>"
            ]
          },
          "execution_count": 40,
          "metadata": {},
          "output_type": "execute_result"
        },
        {
          "data": {
            "image/png": "[encoded data removed]",
            "text/plain": [
              "<Figure size 720x432 with 1 Axes>"
            ]
          },
          "metadata": {
            "needs_background": "light"
          },
          "output_type": "display_data"
        }
      ],
      "source": [
        "plt.figure(figsize=(10,6))\n",
        "sns.countplot(data=df0,x='sales',hue='left')"
      ]
    },
    {
      "cell_type": "raw",
      "metadata": {
        "id": "I2zmsp13Z_dh"
      },
      "source": [
        "More than one-third of emloyees that stayed left each department"
      ]
    },
    {
      "cell_type": "code",
      "execution_count": null,
      "metadata": {
        "id": "g9L-umjCZ_di",
        "outputId": "3f0ea0a1-2826-4d18-f7d6-ad6cddc5b52c"
      },
      "outputs": [
        {
          "data": {
            "text/plain": [
              "1     4140\n",
              "4     2720\n",
              "5     2229\n",
              "7     1227\n",
              "8      902\n",
              "9      858\n",
              "10     787\n",
              "2      767\n",
              "3      739\n",
              "6      630\n",
              "Name: sales, dtype: int64"
            ]
          },
          "execution_count": 43,
          "metadata": {},
          "output_type": "execute_result"
        }
      ],
      "source": [
        "df0['sales'].value_counts()"
      ]
    },
    {
      "cell_type": "code",
      "execution_count": null,
      "metadata": {
        "id": "VU8fvRaGZ_dj"
      },
      "outputs": [],
      "source": [
        ""
      ]
    },
    {
      "cell_type": "markdown",
      "metadata": {
        "id": "xdUvJShYZ_dj"
      },
      "source": [
        "# 2. Variable Screening:"
      ]
    },
    {
      "cell_type": "code",
      "execution_count": null,
      "metadata": {
        "id": "aCVYHb8RZ_dk",
        "outputId": "692b2d59-6c9c-4bf5-96fc-8cf82e6ce791"
      },
      "outputs": [
        {
          "data": {
            "text/html": [
              "<div>\n",
              "<style scoped>\n",
              "    .dataframe tbody tr th:only-of-type {\n",
              "        vertical-align: middle;\n",
              "    }\n",
              "\n",
              "    .dataframe tbody tr th {\n",
              "        vertical-align: top;\n",
              "    }\n",
              "\n",
              "    .dataframe thead th {\n",
              "        text-align: right;\n",
              "    }\n",
              "</style>\n",
              "<table border=\"1\" class=\"dataframe\">\n",
              "  <thead>\n",
              "    <tr style=\"text-align: right;\">\n",
              "      <th></th>\n",
              "      <th>satisfaction_level</th>\n",
              "      <th>last_evaluation</th>\n",
              "      <th>number_project</th>\n",
              "      <th>average_montly_hours</th>\n",
              "      <th>time_spend_company</th>\n",
              "      <th>Work_accident</th>\n",
              "      <th>left</th>\n",
              "      <th>promotion_last_5years</th>\n",
              "      <th>sales</th>\n",
              "      <th>salary</th>\n",
              "    </tr>\n",
              "  </thead>\n",
              "  <tbody>\n",
              "    <tr>\n",
              "      <th>0</th>\n",
              "      <td>0.38</td>\n",
              "      <td>0.53</td>\n",
              "      <td>2</td>\n",
              "      <td>157.0</td>\n",
              "      <td>3</td>\n",
              "      <td>0</td>\n",
              "      <td>1</td>\n",
              "      <td>0</td>\n",
              "      <td>sales</td>\n",
              "      <td>1</td>\n",
              "    </tr>\n",
              "    <tr>\n",
              "      <th>1</th>\n",
              "      <td>0.80</td>\n",
              "      <td>0.86</td>\n",
              "      <td>5</td>\n",
              "      <td>262.0</td>\n",
              "      <td>6</td>\n",
              "      <td>0</td>\n",
              "      <td>1</td>\n",
              "      <td>0</td>\n",
              "      <td>sales</td>\n",
              "      <td>2</td>\n",
              "    </tr>\n",
              "  </tbody>\n",
              "</table>\n",
              "</div>"
            ],
            "text/plain": [
              "   satisfaction_level  last_evaluation  number_project  average_montly_hours  \\\n",
              "0                0.38             0.53               2                 157.0   \n",
              "1                0.80             0.86               5                 262.0   \n",
              "\n",
              "   time_spend_company  Work_accident  left  promotion_last_5years  sales  \\\n",
              "0                   3              0     1                      0  sales   \n",
              "1                   6              0     1                      0  sales   \n",
              "\n",
              "   salary  \n",
              "0       1  \n",
              "1       2  "
            ]
          },
          "execution_count": 212,
          "metadata": {},
          "output_type": "execute_result"
        }
      ],
      "source": [
        "df0.head(2)"
      ]
    },
    {
      "cell_type": "markdown",
      "metadata": {
        "id": "bgHp0OfHZ_dl"
      },
      "source": [
        "# 2a. Wilcoxon rank-sum test."
      ]
    },
    {
      "cell_type": "code",
      "execution_count": null,
      "metadata": {
        "id": "SMZTyodeZ_dm"
      },
      "outputs": [],
      "source": [
        "import scipy.stats as stats"
      ]
    },
    {
      "cell_type": "code",
      "execution_count": null,
      "metadata": {
        "id": "qDMhyoW9Z_dm",
        "outputId": "18f629dc-7f66-429c-fb27-080612e2604d"
      },
      "outputs": [
        {
          "data": {
            "text/plain": [
              "MannwhitneyuResult(statistic=53363238.5, pvalue=0.0)"
            ]
          },
          "execution_count": 218,
          "metadata": {},
          "output_type": "execute_result"
        }
      ],
      "source": [
        "stats.mannwhitneyu(x= df0['satisfaction_level'], y = df0['left'])"
      ]
    },
    {
      "cell_type": "markdown",
      "metadata": {
        "id": "C5umuKnsZ_dm"
      },
      "source": [
        "##### We can reject the null hypothesis that 'satisfaction_level'  have no relationship to the response variable"
      ]
    },
    {
      "cell_type": "code",
      "execution_count": null,
      "metadata": {
        "id": "U3dqv4v1Z_dn",
        "outputId": "d1aab111-a8de-41cc-92d6-0d5f5c443b3e"
      },
      "outputs": [
        {
          "data": {
            "text/plain": [
              "MannwhitneyuResult(statistic=53056132.5, pvalue=0.0)"
            ]
          },
          "execution_count": 214,
          "metadata": {},
          "output_type": "execute_result"
        }
      ],
      "source": [
        "stats.mannwhitneyu(x = df0['last_evaluation'], y = df0['left'])"
      ]
    },
    {
      "cell_type": "markdown",
      "metadata": {
        "id": "4SpYJGWlZ_dn"
      },
      "source": [
        "###### We can reject the null hypothesis that 'last_evaluation' have no relationship to the response variable"
      ]
    },
    {
      "cell_type": "code",
      "execution_count": null,
      "metadata": {
        "id": "XI9WL9OYZ_dn",
        "outputId": "278bac48-960e-4f56-c35c-0be13311321d"
      },
      "outputs": [
        {
          "data": {
            "text/plain": [
              "MannwhitneyuResult(statistic=0.0, pvalue=0.0)"
            ]
          },
          "execution_count": 219,
          "metadata": {},
          "output_type": "execute_result"
        }
      ],
      "source": [
        "stats.mannwhitneyu(x = df0['average_montly_hours'], y = df0['left'])"
      ]
    },
    {
      "cell_type": "markdown",
      "metadata": {
        "id": "PxGjV0MIZ_dn"
      },
      "source": [
        "##### We can reject the null hypothesis that 'average_montly_hours'  have no relationship to the response variable"
      ]
    },
    {
      "cell_type": "code",
      "execution_count": null,
      "metadata": {
        "id": "i6YHBMkQZ_do"
      },
      "outputs": [],
      "source": [
        ""
      ]
    },
    {
      "cell_type": "markdown",
      "metadata": {
        "id": "DoOSs0zvZ_do"
      },
      "source": [
        "# 2b. Chi-Square: X^2"
      ]
    },
    {
      "cell_type": "code",
      "execution_count": null,
      "metadata": {
        "id": "x7ZlUo2dZ_dp"
      },
      "outputs": [],
      "source": [
        "from scipy.stats import chi2_contingency"
      ]
    },
    {
      "cell_type": "code",
      "execution_count": null,
      "metadata": {
        "id": "U4K67J7hZ_dp",
        "outputId": "21b55217-1746-4ed8-934b-f4d90c69dbf5"
      },
      "outputs": [
        {
          "data": {
            "text/html": [
              "<div>\n",
              "<style scoped>\n",
              "    .dataframe tbody tr th:only-of-type {\n",
              "        vertical-align: middle;\n",
              "    }\n",
              "\n",
              "    .dataframe tbody tr th {\n",
              "        vertical-align: top;\n",
              "    }\n",
              "\n",
              "    .dataframe thead th {\n",
              "        text-align: right;\n",
              "    }\n",
              "</style>\n",
              "<table border=\"1\" class=\"dataframe\">\n",
              "  <thead>\n",
              "    <tr style=\"text-align: right;\">\n",
              "      <th>left</th>\n",
              "      <th>0</th>\n",
              "      <th>1</th>\n",
              "    </tr>\n",
              "    <tr>\n",
              "      <th>Work_accident</th>\n",
              "      <th></th>\n",
              "      <th></th>\n",
              "    </tr>\n",
              "  </thead>\n",
              "  <tbody>\n",
              "    <tr>\n",
              "      <th>0</th>\n",
              "      <td>9428</td>\n",
              "      <td>3402</td>\n",
              "    </tr>\n",
              "    <tr>\n",
              "      <th>1</th>\n",
              "      <td>2000</td>\n",
              "      <td>169</td>\n",
              "    </tr>\n",
              "  </tbody>\n",
              "</table>\n",
              "</div>"
            ],
            "text/plain": [
              "left              0     1\n",
              "Work_accident            \n",
              "0              9428  3402\n",
              "1              2000   169"
            ]
          },
          "execution_count": 242,
          "metadata": {},
          "output_type": "execute_result"
        }
      ],
      "source": [
        "#Work_accident - left\n",
        "crosstab = pd.crosstab(df0['Work_accident'], df0['left'])\n",
        "crosstab"
      ]
    },
    {
      "cell_type": "code",
      "execution_count": null,
      "metadata": {
        "id": "q1dsup2BZ_dq",
        "outputId": "d26d0508-bee1-43c1-df11-2e9e958291c2"
      },
      "outputs": [
        {
          "data": {
            "text/plain": [
              "(357.5623604097228,\n",
              " 9.55823958002199e-80,\n",
              " 1,\n",
              " array([[9775.401027, 3054.598973],\n",
              "        [1652.598973, 516.401027]]))"
            ]
          },
          "execution_count": 243,
          "metadata": {},
          "output_type": "execute_result"
        }
      ],
      "source": [
        "stats.chi2_contingency(crosstab)"
      ]
    },
    {
      "cell_type": "raw",
      "metadata": {
        "id": "6eaagidAZ_dq"
      },
      "source": [
        "The first value (57.562) is the Chi-square value, followed by the p-value (9.55823958002199e-80), then comes the degrees of freedom (1), and lastly it outputs the expected frequencies as an array. Since all of the expected frequencies are greater than 5, the chi2 test results can be trusted. We can reject the null hypothesis as the p-value is less than 0.05.\n",
        "\n",
        "Meaning there is a relationship e between the response and the Work_accident feature"
      ]
    },
    {
      "cell_type": "code",
      "execution_count": null,
      "metadata": {
        "id": "8W_cFUmRZ_dq"
      },
      "outputs": [],
      "source": [
        ""
      ]
    },
    {
      "cell_type": "code",
      "execution_count": null,
      "metadata": {
        "id": "I5id9c3mZ_dr",
        "outputId": "0dc7d961-beab-4378-c876-95e4d74e3842"
      },
      "outputs": [
        {
          "data": {
            "text/plain": [
              "(56.26162726484021,\n",
              " 6.344155457918697e-14,\n",
              " 1,\n",
              " array([[11184.948330, 3495.051670],\n",
              "        [243.051670, 75.948330]]))"
            ]
          },
          "execution_count": 244,
          "metadata": {},
          "output_type": "execute_result"
        }
      ],
      "source": [
        "#promotion_last_5years - left\n",
        "crosstab2 = pd.crosstab(df0['promotion_last_5years'], df0['left'])\n",
        "stats.chi2_contingency(crosstab2)"
      ]
    },
    {
      "cell_type": "raw",
      "metadata": {
        "id": "UsGh4ctqZ_dr"
      },
      "source": [
        "Meaning there is a relationship  between the response and the promotion_last_5years feature"
      ]
    },
    {
      "cell_type": "code",
      "execution_count": null,
      "metadata": {
        "id": "7GsAYp-8Z_dr"
      },
      "outputs": [],
      "source": [
        ""
      ]
    },
    {
      "cell_type": "code",
      "execution_count": null,
      "metadata": {
        "id": "KGNv1mRKZ_ds",
        "outputId": "85237c4c-0bd2-4ff5-93f9-ffa6d26bcc1c"
      },
      "outputs": [
        {
          "data": {
            "text/plain": [
              "(381.22504706621066,\n",
              " 1.652086749295958e-83,\n",
              " 2,\n",
              " array([[5574.188146, 1741.811854],\n",
              "        [4911.319955, 1534.680045],\n",
              "        [942.491899, 294.508101]]))"
            ]
          },
          "execution_count": 245,
          "metadata": {},
          "output_type": "execute_result"
        }
      ],
      "source": [
        "# salary - left\n",
        "crosstab3 = pd.crosstab(df0['salary'], df0['left'])\n",
        "stats.chi2_contingency(crosstab3)"
      ]
    },
    {
      "cell_type": "raw",
      "metadata": {
        "id": "jY4mfNboZ_ds"
      },
      "source": [
        "There is a relationship  between the response and the salary feature"
      ]
    },
    {
      "cell_type": "code",
      "execution_count": null,
      "metadata": {
        "id": "0ed3aUStZ_dt"
      },
      "outputs": [],
      "source": [
        ""
      ]
    },
    {
      "cell_type": "code",
      "execution_count": null,
      "metadata": {
        "id": "bSnBuTv2Z_dt",
        "outputId": "eb7b50e6-948e-43f1-b8bf-804c6300a14b"
      },
      "outputs": [
        {
          "data": {
            "text/plain": [
              "(5373.586480049047,\n",
              " 0.0,\n",
              " 5,\n",
              " array([[1819.458897, 568.541103],\n",
              "        [3089.575305, 965.424695],\n",
              "        [3325.769718, 1039.230282],\n",
              "        [2103.654110, 657.345890],\n",
              "        [894.491099, 279.508901],\n",
              "        [195.050870, 60.949130]]))"
            ]
          },
          "execution_count": 246,
          "metadata": {},
          "output_type": "execute_result"
        }
      ],
      "source": [
        "# number_project - left\n",
        "crosstab4 = pd.crosstab(df0['number_project'], df0['left'])\n",
        "stats.chi2_contingency(crosstab4)"
      ]
    },
    {
      "cell_type": "raw",
      "metadata": {
        "id": "Gb-AKfMiZ_dt"
      },
      "source": [
        "There is a relationship  between the response and the number_project feature"
      ]
    },
    {
      "cell_type": "code",
      "execution_count": null,
      "metadata": {
        "id": "Nw5YT4mSZ_dt"
      },
      "outputs": [],
      "source": [
        ""
      ]
    },
    {
      "cell_type": "markdown",
      "metadata": {
        "id": "3p82JP7CZ_du"
      },
      "source": [
        "# 3. Data partition:"
      ]
    },
    {
      "cell_type": "raw",
      "metadata": {
        "id": "quN1QBeEZ_du"
      },
      "source": [
        "(a) Partition the data into two parts, the training data D1 and the test data D2, with\n",
        "a ratio of 2:1."
      ]
    },
    {
      "cell_type": "code",
      "execution_count": null,
      "metadata": {
        "id": "yNNeiYADZ_du",
        "outputId": "e489f9ff-8104-47ea-c472-1bd65a349d0e"
      },
      "outputs": [
        {
          "data": {
            "text/plain": [
              "array([[0.380000, 0.530000, 2.000000, ..., 0.000000, 1.000000, 1.000000],\n",
              "       [0.800000, 0.860000, 5.000000, ..., 0.000000, 1.000000, 2.000000],\n",
              "       [0.110000, 0.880000, 7.000000, ..., 0.000000, 1.000000, 2.000000],\n",
              "       ...,\n",
              "       [0.370000, 0.530000, 2.000000, ..., 0.000000, 5.000000, 1.000000],\n",
              "       [0.110000, 0.960000, 6.000000, ..., 0.000000, 5.000000, 1.000000],\n",
              "       [0.370000, 0.520000, 2.000000, ..., 0.000000, 5.000000, 1.000000]])"
            ]
          },
          "execution_count": 44,
          "metadata": {},
          "output_type": "execute_result"
        }
      ],
      "source": [
        "# Split the data into X & y\n",
        "\n",
        "X = df0.drop(columns= ['left']).values\n",
        "X"
      ]
    },
    {
      "cell_type": "code",
      "execution_count": null,
      "metadata": {
        "id": "rJu0EV2hZ_dv",
        "outputId": "1d85ff0a-5b10-4095-fa6c-5b6e1bd3698b"
      },
      "outputs": [
        {
          "data": {
            "text/plain": [
              "0        1\n",
              "1        1\n",
              "2        1\n",
              "3        1\n",
              "4        1\n",
              "        ..\n",
              "14994    1\n",
              "14995    1\n",
              "14996    1\n",
              "14997    1\n",
              "14998    1\n",
              "Name: left, Length: 14999, dtype: int64"
            ]
          },
          "execution_count": 45,
          "metadata": {},
          "output_type": "execute_result"
        }
      ],
      "source": [
        "y = df0['left']\n",
        "y"
      ]
    },
    {
      "cell_type": "code",
      "execution_count": null,
      "metadata": {
        "id": "sxfX9OvxZ_dv"
      },
      "outputs": [],
      "source": [
        "X_train, X_test, y_train, y_test = train_test_split(X, y, train_size = 0.6, test_size=0.3, random_state=15)"
      ]
    },
    {
      "cell_type": "code",
      "execution_count": null,
      "metadata": {
        "id": "BAttBUe3Z_dw"
      },
      "outputs": [],
      "source": [
        ""
      ]
    },
    {
      "cell_type": "raw",
      "metadata": {
        "id": "pQrMVcKmZ_dw"
      },
      "source": [
        "(b) Print the first 6 rows of training data."
      ]
    },
    {
      "cell_type": "code",
      "execution_count": null,
      "metadata": {
        "id": "ABzruKLgZ_dw",
        "outputId": "32333491-4d6d-4bf2-e358-ddf96d1492ab"
      },
      "outputs": [
        {
          "data": {
            "text/plain": [
              "array([[0.720000, 0.910000, 3.000000, 239.000000, 2.000000, 0.000000,\n",
              "        0.000000, 6.000000, 2.000000],\n",
              "       [0.940000, 0.590000, 4.000000, 241.000000, 2.000000, 0.000000,\n",
              "        0.000000, 4.000000, 1.000000],\n",
              "       [0.410000, 0.530000, 2.000000, 157.000000, 3.000000, 0.000000,\n",
              "        0.000000, 1.000000, 1.000000],\n",
              "       [0.930000, 0.700000, 5.000000, 206.000000, 4.000000, 0.000000,\n",
              "        0.000000, 2.000000, 1.000000],\n",
              "       [0.750000, 0.680000, 4.000000, 220.000000, 2.000000, 0.000000,\n",
              "        0.000000, 7.000000, 2.000000],\n",
              "       [0.780000, 0.980000, 5.000000, 263.000000, 6.000000, 0.000000,\n",
              "        0.000000, 1.000000, 1.000000]])"
            ]
          },
          "execution_count": 47,
          "metadata": {},
          "output_type": "execute_result"
        }
      ],
      "source": [
        "X_train[0:6, : ]"
      ]
    },
    {
      "cell_type": "code",
      "execution_count": null,
      "metadata": {
        "id": "S6g9oUodZ_dx",
        "outputId": "926155b5-e979-49f8-c57a-5368046b519d"
      },
      "outputs": [
        {
          "data": {
            "text/plain": [
              "3722     0\n",
              "10882    0\n",
              "1997     1\n",
              "6184     0\n",
              "3346     0\n",
              "Name: left, dtype: int64"
            ]
          },
          "execution_count": 48,
          "metadata": {},
          "output_type": "execute_result"
        }
      ],
      "source": [
        "y_train.head(5)"
      ]
    },
    {
      "cell_type": "code",
      "execution_count": null,
      "metadata": {
        "id": "JTrpOwOcZ_dx"
      },
      "outputs": [],
      "source": [
        ""
      ]
    },
    {
      "cell_type": "raw",
      "metadata": {
        "id": "zfx3vP0NZ_dx"
      },
      "source": [
        "(c) Print the last 5 rows of testing data."
      ]
    },
    {
      "cell_type": "code",
      "execution_count": null,
      "metadata": {
        "id": "z3VnD87eZ_dy",
        "outputId": "0393c391-0795-47c7-c975-7c12765dcb58"
      },
      "outputs": [
        {
          "data": {
            "text/plain": [
              "(8999, 9)"
            ]
          },
          "execution_count": 49,
          "metadata": {},
          "output_type": "execute_result"
        }
      ],
      "source": [
        "X_train.shape"
      ]
    },
    {
      "cell_type": "code",
      "execution_count": null,
      "metadata": {
        "id": "bhG0G6OlZ_dy",
        "outputId": "dd197a5a-b9f2-48e3-cd6d-eefcc519c8c1"
      },
      "outputs": [
        {
          "data": {
            "text/plain": [
              "array([[0.880000, 0.880000, 5.000000, 232.000000, 5.000000, 1.000000,\n",
              "        0.000000, 2.000000, 2.000000],\n",
              "       [0.990000, 0.980000, 5.000000, 241.000000, 2.000000, 0.000000,\n",
              "        0.000000, 7.000000, 2.000000],\n",
              "       [0.800000, 0.750000, 4.000000, 224.000000, 3.000000, 0.000000,\n",
              "        1.000000, 1.000000, 2.000000],\n",
              "       [0.420000, 0.490000, 2.000000, 139.000000, 3.000000, 0.000000,\n",
              "        0.000000, 3.000000, 1.000000],\n",
              "       [0.360000, 0.500000, 2.000000, 132.000000, 3.000000, 0.000000,\n",
              "        0.000000, 6.000000, 1.000000]])"
            ]
          },
          "execution_count": 50,
          "metadata": {},
          "output_type": "execute_result"
        }
      ],
      "source": [
        "X_train[8994:8999, :]"
      ]
    },
    {
      "cell_type": "markdown",
      "metadata": {
        "id": "DjLjy6x9Z_dy"
      },
      "source": [
        "##### Alternatively"
      ]
    },
    {
      "cell_type": "code",
      "execution_count": null,
      "metadata": {
        "id": "b9cC7FkNZ_dz",
        "outputId": "5b1f31b7-0641-4d91-87ac-dae7e0e860b0"
      },
      "outputs": [
        {
          "name": "stdout",
          "output_type": "stream",
          "text": [
            "8999 8994\n"
          ]
        }
      ],
      "source": [
        "print( (len(X_train[:,:])), (len(X_train[:,:])-5))"
      ]
    },
    {
      "cell_type": "code",
      "execution_count": null,
      "metadata": {
        "id": "NEZ-6voLZ_dz",
        "outputId": "f3149a8b-bffe-422e-8d8e-c71e5772c4f3"
      },
      "outputs": [
        {
          "data": {
            "text/plain": [
              "array([[0.880000, 0.880000, 5.000000, 232.000000, 5.000000, 1.000000,\n",
              "        0.000000, 2.000000, 2.000000],\n",
              "       [0.990000, 0.980000, 5.000000, 241.000000, 2.000000, 0.000000,\n",
              "        0.000000, 7.000000, 2.000000],\n",
              "       [0.800000, 0.750000, 4.000000, 224.000000, 3.000000, 0.000000,\n",
              "        1.000000, 1.000000, 2.000000],\n",
              "       [0.420000, 0.490000, 2.000000, 139.000000, 3.000000, 0.000000,\n",
              "        0.000000, 3.000000, 1.000000],\n",
              "       [0.360000, 0.500000, 2.000000, 132.000000, 3.000000, 0.000000,\n",
              "        0.000000, 6.000000, 1.000000]])"
            ]
          },
          "execution_count": 52,
          "metadata": {},
          "output_type": "execute_result"
        }
      ],
      "source": [
        "X_train[ (len(X_train[:,:])-5):(len(X_train[:,:])), : ]"
      ]
    },
    {
      "cell_type": "code",
      "execution_count": null,
      "metadata": {
        "id": "sX3v4gFAZ_dz",
        "outputId": "bff71e92-c541-490c-a0dd-c2ac638b5435"
      },
      "outputs": [
        {
          "data": {
            "text/plain": [
              "258      1\n",
              "8696     0\n",
              "13397    0\n",
              "720      1\n",
              "746      1\n",
              "Name: left, dtype: int64"
            ]
          },
          "execution_count": 53,
          "metadata": {},
          "output_type": "execute_result"
        }
      ],
      "source": [
        "y_train.tail(5)"
      ]
    },
    {
      "cell_type": "code",
      "execution_count": null,
      "metadata": {
        "id": "0ABs3HvEZ_d0"
      },
      "outputs": [],
      "source": [
        ""
      ]
    },
    {
      "cell_type": "markdown",
      "metadata": {
        "id": "X227rlmFZ_d0"
      },
      "source": [
        "# PART B"
      ]
    },
    {
      "cell_type": "raw",
      "metadata": {
        "id": "B1a1oEGXZ_d0"
      },
      "source": [
        "Prdictive modelling is being coninually harnessed by the Chicagos' communities as depicted on the web pages given in Part B of this research project\n",
        "\n",
        "Among others, the Chicago health department were able to carry out a survey on the cause of the severe cholera outbreak that happend in 1854 which claimed about 127 human lives within a single day.  After they collected the data from community residents, they were able to make a predictive model and discovered that the  severe cholera outbreak  was caused by the water from the local pump – and not miasma – was the cause of Soho’s bout with cholera\n",
        "\n",
        "Moreover, the Chicago health department were able to develope the Chicago’s Foodborne app, adapting this from the webpage on the review said and I quote, 'Foodborne Chicago is able to identify keywords in public tweets that may indicate a case of food poisoning. From there, the Chicago Department of Public Health (CDPH) is able to respond accordingly via Twitter, and encourage affected individuals to submit a food poisoning report. Since its launch in 2013, CDPH has collected an additional 443 food poisoning reports and conducted over 200 additional restaurant inspections.'\n",
        "\n",
        "The Chicago’s Foodborne app relies on the techniques of Sentimental analysis, a Natural Language Processing technique that is able to make data driven deision based off human sentiments\n",
        "\n",
        "Also as recorded by The Harvard Business Review webpage, it was said that Chicago community is piloting predictive analytic models within their food protection, tobacco control policy, and lead inspection programs.\n",
        "\n",
        "Not only is Predictive analytics used for foof protection but also is being used in health industry to detect several classification diseases and much more"
      ]
    },
    {
      "cell_type": "code",
      "execution_count": null,
      "metadata": {
        "id": "HhX1_EjVZ_d1"
      },
      "outputs": [],
      "source": [
        ""
      ]
    }
  ],
  "metadata": {
    "kernelspec": {
      "display_name": "Python 3",
      "language": "python",
      "name": "python3"
    },
    "language_info": {
      "codemirror_mode": {
        "name": "ipython",
        "version": 3
      },
      "file_extension": ".py",
      "mimetype": "text/x-python",
      "name": "python",
      "nbconvert_exporter": "python",
      "pygments_lexer": "ipython3",
      "version": "3.8.5"
    },
    "colab": {
      "name": "Project1_HR.ipynb",
      "provenance": [],
      "include_colab_link": true
    }
  },
  "nbformat": 4,
  "nbformat_minor": 0
}