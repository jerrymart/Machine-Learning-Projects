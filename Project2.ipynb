{
  "nbformat": 4,
  "nbformat_minor": 0,
  "metadata": {
    "colab": {
      "name": "Project2.ipynb",
      "provenance": [],
      "collapsed_sections": [],
      "authorship_tag": "ABX9TyNlnnLyRXFuYcHl6IwxW5Oi",
      "include_colab_link": true
    },
    "kernelspec": {
      "name": "python3",
      "display_name": "Python 3"
    },
    "language_info": {
      "name": "python"
    }
  },
  "cells": [
    {
      "cell_type": "markdown",
      "metadata": {
        "id": "view-in-github",
        "colab_type": "text"
      },
      "source": [
        "<a href=\"https://colab.research.google.com/github/jerrymart/Machine-Learning-Projects/blob/main/Project2.ipynb\" target=\"_parent\"><img src=\"https://colab.research.google.com/assets/colab-badge.svg\" alt=\"Open In Colab\"/></a>"
      ]
    },
    {
      "cell_type": "markdown",
      "source": [
        "Team Members:\n",
        "\n",
        "Joseph Mart (Project Lead)- A00732897\n",
        "\n",
        "Callitus Obunadike - A00756855\n",
        "\n",
        "Github: https://github.com/jerrymart/Machine-Learning-Projects/blob/main/Project2.ipynb"
      ],
      "metadata": {
        "id": "YeVbQJMOLzYc"
      }
    },
    {
      "cell_type": "markdown",
      "source": [
        "Project description:\n",
        "\n",
        "Particulate matter (PM2:5) is an air pollutant that has an aerodynamic diameter of less than\n",
        "or equal to 2.5 micrometers, which is hazardous to health when its levels are above certain\n",
        "range. These small particles can absorb a variety of chemical components, including met-\n",
        "als, salts, poisons, organic compounds and biological groups like pollens. The prediction of\n",
        "ground level PM2:5 is challenging, as it behaves randomly over time and is a\u000bected by other\n",
        "pollutants. To maintain a healthy environment, it is essential to predict the PM2:5 with great\n",
        "accuracy.\n",
        "This work focuses on the prediction of the air-pollutant PM2:5 based on the several meteoro-\n",
        "logical and air-pollutant variables in the air. The data set were collected from the Texas Com-\n",
        "mission on Environmental Quality's (TCEQ) ground stations. Data from di\u000berent monitoring\n",
        "stations of the Paso del Norte area were used to calculate hourly average PM concentrations\n",
        "at ground level.\n",
        "\n",
        "Linear regression will be used to predict a PM2.5 values based on the other variables in the\n",
        "air. "
      ],
      "metadata": {
        "id": "ln6shHy9J_MP"
      }
    },
    {
      "cell_type": "code",
      "execution_count": 3,
      "metadata": {
        "id": "abzANo4afkWj"
      },
      "outputs": [],
      "source": [
        "# Packages / libraries\n",
        "import numpy as np \n",
        "import pandas as pd\n",
        "from matplotlib import pyplot as plt\n",
        "import seaborn as sns\n",
        "from sklearn.metrics import r2_score, mean_absolute_error, mean_squared_error\n",
        "from math import sqrt\n",
        "\n",
        "#sns.set(rc={'figure.figsize':(12,10)})"
      ]
    },
    {
      "cell_type": "code",
      "source": [
        "df = pd.read_csv('/content/PM2.5-data.csv')"
      ],
      "metadata": {
        "id": "Ksqv9t1df_-s"
      },
      "execution_count": 4,
      "outputs": []
    },
    {
      "cell_type": "code",
      "source": [
        "df.head()"
      ],
      "metadata": {
        "colab": {
          "base_uri": "https://localhost:8080/",
          "height": 270
        },
        "id": "feEKQooQgLOG",
        "outputId": "7420135d-a1ed-446d-ad3d-34cad0a62a26"
      },
      "execution_count": null,
      "outputs": [
        {
          "output_type": "execute_result",
          "data": {
            "text/html": [
              "\n",
              "  <div id=\"df-bf00ae04-2053-4663-ab95-eabd79fbf316\">\n",
              "    <div class=\"colab-df-container\">\n",
              "      <div>\n",
              "<style scoped>\n",
              "    .dataframe tbody tr th:only-of-type {\n",
              "        vertical-align: middle;\n",
              "    }\n",
              "\n",
              "    .dataframe tbody tr th {\n",
              "        vertical-align: top;\n",
              "    }\n",
              "\n",
              "    .dataframe thead th {\n",
              "        text-align: right;\n",
              "    }\n",
              "</style>\n",
              "<table border=\"1\" class=\"dataframe\">\n",
              "  <thead>\n",
              "    <tr style=\"text-align: right;\">\n",
              "      <th></th>\n",
              "      <th>NitricOxide</th>\n",
              "      <th>NitrogenDioxide</th>\n",
              "      <th>OxidesofNitrogen</th>\n",
              "      <th>Ozone</th>\n",
              "      <th>WindSpeed</th>\n",
              "      <th>ResultantWindSpeed</th>\n",
              "      <th>ResultantWindDirection</th>\n",
              "      <th>MaximumWindGust</th>\n",
              "      <th>Std.Dev.WindDirection</th>\n",
              "      <th>OutdoorTemperature</th>\n",
              "      <th>DewPointTemperature</th>\n",
              "      <th>RelativeHumidity</th>\n",
              "      <th>SolarRadiation</th>\n",
              "      <th>PM2.5</th>\n",
              "    </tr>\n",
              "  </thead>\n",
              "  <tbody>\n",
              "    <tr>\n",
              "      <th>0</th>\n",
              "      <td>19.6</td>\n",
              "      <td>35.8</td>\n",
              "      <td>55.5</td>\n",
              "      <td>2</td>\n",
              "      <td>1.9</td>\n",
              "      <td>1.5</td>\n",
              "      <td>215</td>\n",
              "      <td>3.6</td>\n",
              "      <td>39</td>\n",
              "      <td>67.7</td>\n",
              "      <td>23.3</td>\n",
              "      <td>18.6</td>\n",
              "      <td>0.000</td>\n",
              "      <td>37.1</td>\n",
              "    </tr>\n",
              "    <tr>\n",
              "      <th>1</th>\n",
              "      <td>2.5</td>\n",
              "      <td>2.8</td>\n",
              "      <td>4.4</td>\n",
              "      <td>37</td>\n",
              "      <td>23.3</td>\n",
              "      <td>22.6</td>\n",
              "      <td>276</td>\n",
              "      <td>38.5</td>\n",
              "      <td>14</td>\n",
              "      <td>86.4</td>\n",
              "      <td>32.3</td>\n",
              "      <td>14.5</td>\n",
              "      <td>1.110</td>\n",
              "      <td>40.9</td>\n",
              "    </tr>\n",
              "    <tr>\n",
              "      <th>2</th>\n",
              "      <td>2.3</td>\n",
              "      <td>3.1</td>\n",
              "      <td>4.5</td>\n",
              "      <td>41</td>\n",
              "      <td>23.7</td>\n",
              "      <td>23.2</td>\n",
              "      <td>281</td>\n",
              "      <td>40.4</td>\n",
              "      <td>12</td>\n",
              "      <td>87.2</td>\n",
              "      <td>30.2</td>\n",
              "      <td>12.9</td>\n",
              "      <td>0.841</td>\n",
              "      <td>36.7</td>\n",
              "    </tr>\n",
              "    <tr>\n",
              "      <th>3</th>\n",
              "      <td>1.9</td>\n",
              "      <td>3.0</td>\n",
              "      <td>4.1</td>\n",
              "      <td>42</td>\n",
              "      <td>25.0</td>\n",
              "      <td>24.7</td>\n",
              "      <td>282</td>\n",
              "      <td>41.9</td>\n",
              "      <td>10</td>\n",
              "      <td>86.7</td>\n",
              "      <td>29.0</td>\n",
              "      <td>12.5</td>\n",
              "      <td>0.509</td>\n",
              "      <td>36.4</td>\n",
              "    </tr>\n",
              "    <tr>\n",
              "      <th>4</th>\n",
              "      <td>0.4</td>\n",
              "      <td>7.1</td>\n",
              "      <td>8.1</td>\n",
              "      <td>50</td>\n",
              "      <td>25.1</td>\n",
              "      <td>24.7</td>\n",
              "      <td>283</td>\n",
              "      <td>42.3</td>\n",
              "      <td>9</td>\n",
              "      <td>59.6</td>\n",
              "      <td>13.2</td>\n",
              "      <td>16.1</td>\n",
              "      <td>0.450</td>\n",
              "      <td>65.9</td>\n",
              "    </tr>\n",
              "  </tbody>\n",
              "</table>\n",
              "</div>\n",
              "      <button class=\"colab-df-convert\" onclick=\"convertToInteractive('df-bf00ae04-2053-4663-ab95-eabd79fbf316')\"\n",
              "              title=\"Convert this dataframe to an interactive table.\"\n",
              "              style=\"display:none;\">\n",
              "        \n",
              "  <svg xmlns=\"http://www.w3.org/2000/svg\" height=\"24px\"viewBox=\"0 0 24 24\"\n",
              "       width=\"24px\">\n",
              "    <path d=\"M0 0h24v24H0V0z\" fill=\"none\"/>\n",
              "    <path d=\"M18.56 5.44l.94 2.06.94-2.06 2.06-.94-2.06-.94-.94-2.06-.94 2.06-2.06.94zm-11 1L8.5 8.5l.94-2.06 2.06-.94-2.06-.94L8.5 2.5l-.94 2.06-2.06.94zm10 10l.94 2.06.94-2.06 2.06-.94-2.06-.94-.94-2.06-.94 2.06-2.06.94z\"/><path d=\"M17.41 7.96l-1.37-1.37c-.4-.4-.92-.59-1.43-.59-.52 0-1.04.2-1.43.59L10.3 9.45l-7.72 7.72c-.78.78-.78 2.05 0 2.83L4 21.41c.39.39.9.59 1.41.59.51 0 1.02-.2 1.41-.59l7.78-7.78 2.81-2.81c.8-.78.8-2.07 0-2.86zM5.41 20L4 18.59l7.72-7.72 1.47 1.35L5.41 20z\"/>\n",
              "  </svg>\n",
              "      </button>\n",
              "      \n",
              "  <style>\n",
              "    .colab-df-container {\n",
              "      display:flex;\n",
              "      flex-wrap:wrap;\n",
              "      gap: 12px;\n",
              "    }\n",
              "\n",
              "    .colab-df-convert {\n",
              "      background-color: #E8F0FE;\n",
              "      border: none;\n",
              "      border-radius: 50%;\n",
              "      cursor: pointer;\n",
              "      display: none;\n",
              "      fill: #1967D2;\n",
              "      height: 32px;\n",
              "      padding: 0 0 0 0;\n",
              "      width: 32px;\n",
              "    }\n",
              "\n",
              "    .colab-df-convert:hover {\n",
              "      background-color: #E2EBFA;\n",
              "      box-shadow: 0px 1px 2px rgba(60, 64, 67, 0.3), 0px 1px 3px 1px rgba(60, 64, 67, 0.15);\n",
              "      fill: #174EA6;\n",
              "    }\n",
              "\n",
              "    [theme=dark] .colab-df-convert {\n",
              "      background-color: #3B4455;\n",
              "      fill: #D2E3FC;\n",
              "    }\n",
              "\n",
              "    [theme=dark] .colab-df-convert:hover {\n",
              "      background-color: #434B5C;\n",
              "      box-shadow: 0px 1px 3px 1px rgba(0, 0, 0, 0.15);\n",
              "      filter: drop-shadow(0px 1px 2px rgba(0, 0, 0, 0.3));\n",
              "      fill: #FFFFFF;\n",
              "    }\n",
              "  </style>\n",
              "\n",
              "      <script>\n",
              "        const buttonEl =\n",
              "          document.querySelector('#df-bf00ae04-2053-4663-ab95-eabd79fbf316 button.colab-df-convert');\n",
              "        buttonEl.style.display =\n",
              "          google.colab.kernel.accessAllowed ? 'block' : 'none';\n",
              "\n",
              "        async function convertToInteractive(key) {\n",
              "          const element = document.querySelector('#df-bf00ae04-2053-4663-ab95-eabd79fbf316');\n",
              "          const dataTable =\n",
              "            await google.colab.kernel.invokeFunction('convertToInteractive',\n",
              "                                                     [key], {});\n",
              "          if (!dataTable) return;\n",
              "\n",
              "          const docLinkHtml = 'Like what you see? Visit the ' +\n",
              "            '<a target=\"_blank\" href=https://colab.research.google.com/notebooks/data_table.ipynb>data table notebook</a>'\n",
              "            + ' to learn more about interactive tables.';\n",
              "          element.innerHTML = '';\n",
              "          dataTable['output_type'] = 'display_data';\n",
              "          await google.colab.output.renderOutput(dataTable, element);\n",
              "          const docLink = document.createElement('div');\n",
              "          docLink.innerHTML = docLinkHtml;\n",
              "          element.appendChild(docLink);\n",
              "        }\n",
              "      </script>\n",
              "    </div>\n",
              "  </div>\n",
              "  "
            ],
            "text/plain": [
              "   NitricOxide  NitrogenDioxide  OxidesofNitrogen  Ozone  WindSpeed  \\\n",
              "0         19.6             35.8              55.5      2        1.9   \n",
              "1          2.5              2.8               4.4     37       23.3   \n",
              "2          2.3              3.1               4.5     41       23.7   \n",
              "3          1.9              3.0               4.1     42       25.0   \n",
              "4          0.4              7.1               8.1     50       25.1   \n",
              "\n",
              "   ResultantWindSpeed  ResultantWindDirection  MaximumWindGust  \\\n",
              "0                 1.5                     215              3.6   \n",
              "1                22.6                     276             38.5   \n",
              "2                23.2                     281             40.4   \n",
              "3                24.7                     282             41.9   \n",
              "4                24.7                     283             42.3   \n",
              "\n",
              "   Std.Dev.WindDirection  OutdoorTemperature  DewPointTemperature  \\\n",
              "0                     39                67.7                 23.3   \n",
              "1                     14                86.4                 32.3   \n",
              "2                     12                87.2                 30.2   \n",
              "3                     10                86.7                 29.0   \n",
              "4                      9                59.6                 13.2   \n",
              "\n",
              "   RelativeHumidity  SolarRadiation  PM2.5  \n",
              "0              18.6           0.000   37.1  \n",
              "1              14.5           1.110   40.9  \n",
              "2              12.9           0.841   36.7  \n",
              "3              12.5           0.509   36.4  \n",
              "4              16.1           0.450   65.9  "
            ]
          },
          "metadata": {},
          "execution_count": 3
        }
      ]
    },
    {
      "cell_type": "markdown",
      "source": [
        "**1. EDA analysis**"
      ],
      "metadata": {
        "id": "0vSLwXtbh1x8"
      }
    },
    {
      "cell_type": "markdown",
      "source": [
        "## (a) Obtain the histograms of both PM2.5 and the logarithm (natural base) of PM2.5\n",
        "### and comment. Proceed with the log-transformed PM2.5 from this step on."
      ],
      "metadata": {
        "id": "nUOwOGfkiAHO"
      }
    },
    {
      "cell_type": "code",
      "source": [
        "plt.figure(figsize=(10,6))\n",
        "sns.histplot(data=df,x = 'PM2.5', binwidth = 20)"
      ],
      "metadata": {
        "colab": {
          "base_uri": "https://localhost:8080/",
          "height": 411
        },
        "id": "xK-3p4pIgsLK",
        "outputId": "4cea53bb-887a-4315-d06e-d450565d33bf"
      },
      "execution_count": null,
      "outputs": [
        {
          "output_type": "execute_result",
          "data": {
            "text/plain": [
              "<matplotlib.axes._subplots.AxesSubplot at 0x7fe3a31d9b90>"
            ]
          },
          "metadata": {},
          "execution_count": 32
        },
        {
          "output_type": "display_data",
          "data": {
            "image/png": "[encoded data removed]",
            "text/plain": [
              "<Figure size 720x432 with 1 Axes>"
            ]
          },
          "metadata": {}
        }
      ]
    },
    {
      "cell_type": "markdown",
      "source": [
        "This happened to be uni-modal and righ-skewed\n",
        "Predictive models don't do good job to this kind of distribution\n",
        "We will try to get a normal distribution of this using log transform"
      ],
      "metadata": {
        "id": "w7pm7_9BaS6c"
      }
    },
    {
      "cell_type": "code",
      "source": [
        "#Log Transform of PM2.5\n",
        "\n",
        "df['log_PM2.5'] = np.log(df['PM2.5'])"
      ],
      "metadata": {
        "id": "Ipfp2Hnim8qL"
      },
      "execution_count": 5,
      "outputs": []
    },
    {
      "cell_type": "code",
      "source": [
        "df['log_PM2.5']"
      ],
      "metadata": {
        "colab": {
          "base_uri": "https://localhost:8080/"
        },
        "id": "5iMzwg06oNzH",
        "outputId": "e3ae1a61-95a2-45f6-e667-d43779a22e9d"
      },
      "execution_count": null,
      "outputs": [
        {
          "output_type": "execute_result",
          "data": {
            "text/plain": [
              "0      3.613617\n",
              "1      3.711130\n",
              "2      3.602777\n",
              "3      3.594569\n",
              "4      4.188138\n",
              "         ...   \n",
              "840    2.701361\n",
              "841    2.406945\n",
              "842    2.433613\n",
              "843    2.312535\n",
              "844    2.140066\n",
              "Name: log_PM2.5, Length: 845, dtype: float64"
            ]
          },
          "metadata": {},
          "execution_count": 5
        }
      ]
    },
    {
      "cell_type": "code",
      "source": [
        "#Delete PM2.5 Column\n",
        "\n",
        "df1 = df.drop(columns = ['PM2.5'])"
      ],
      "metadata": {
        "id": "fs5QSLdOtLzG"
      },
      "execution_count": 6,
      "outputs": []
    },
    {
      "cell_type": "code",
      "source": [
        "#Inspect PM2.5 Columns\n",
        "df1.head(2)"
      ],
      "metadata": {
        "colab": {
          "base_uri": "https://localhost:8080/",
          "height": 176
        },
        "id": "bvAi4FC4uDVo",
        "outputId": "ac4cdf90-29fe-43e0-de19-747470be0a40"
      },
      "execution_count": null,
      "outputs": [
        {
          "output_type": "execute_result",
          "data": {
            "text/html": [
              "\n",
              "  <div id=\"df-4d5a8d57-8ec8-4076-80b4-d794844ef8c0\">\n",
              "    <div class=\"colab-df-container\">\n",
              "      <div>\n",
              "<style scoped>\n",
              "    .dataframe tbody tr th:only-of-type {\n",
              "        vertical-align: middle;\n",
              "    }\n",
              "\n",
              "    .dataframe tbody tr th {\n",
              "        vertical-align: top;\n",
              "    }\n",
              "\n",
              "    .dataframe thead th {\n",
              "        text-align: right;\n",
              "    }\n",
              "</style>\n",
              "<table border=\"1\" class=\"dataframe\">\n",
              "  <thead>\n",
              "    <tr style=\"text-align: right;\">\n",
              "      <th></th>\n",
              "      <th>NitricOxide</th>\n",
              "      <th>NitrogenDioxide</th>\n",
              "      <th>OxidesofNitrogen</th>\n",
              "      <th>Ozone</th>\n",
              "      <th>WindSpeed</th>\n",
              "      <th>ResultantWindSpeed</th>\n",
              "      <th>ResultantWindDirection</th>\n",
              "      <th>MaximumWindGust</th>\n",
              "      <th>Std.Dev.WindDirection</th>\n",
              "      <th>OutdoorTemperature</th>\n",
              "      <th>DewPointTemperature</th>\n",
              "      <th>RelativeHumidity</th>\n",
              "      <th>SolarRadiation</th>\n",
              "      <th>log_PM2.5</th>\n",
              "    </tr>\n",
              "  </thead>\n",
              "  <tbody>\n",
              "    <tr>\n",
              "      <th>0</th>\n",
              "      <td>19.6</td>\n",
              "      <td>35.8</td>\n",
              "      <td>55.5</td>\n",
              "      <td>2</td>\n",
              "      <td>1.9</td>\n",
              "      <td>1.5</td>\n",
              "      <td>215</td>\n",
              "      <td>3.6</td>\n",
              "      <td>39</td>\n",
              "      <td>67.7</td>\n",
              "      <td>23.3</td>\n",
              "      <td>18.6</td>\n",
              "      <td>0.00</td>\n",
              "      <td>3.613617</td>\n",
              "    </tr>\n",
              "    <tr>\n",
              "      <th>1</th>\n",
              "      <td>2.5</td>\n",
              "      <td>2.8</td>\n",
              "      <td>4.4</td>\n",
              "      <td>37</td>\n",
              "      <td>23.3</td>\n",
              "      <td>22.6</td>\n",
              "      <td>276</td>\n",
              "      <td>38.5</td>\n",
              "      <td>14</td>\n",
              "      <td>86.4</td>\n",
              "      <td>32.3</td>\n",
              "      <td>14.5</td>\n",
              "      <td>1.11</td>\n",
              "      <td>3.711130</td>\n",
              "    </tr>\n",
              "  </tbody>\n",
              "</table>\n",
              "</div>\n",
              "      <button class=\"colab-df-convert\" onclick=\"convertToInteractive('df-4d5a8d57-8ec8-4076-80b4-d794844ef8c0')\"\n",
              "              title=\"Convert this dataframe to an interactive table.\"\n",
              "              style=\"display:none;\">\n",
              "        \n",
              "  <svg xmlns=\"http://www.w3.org/2000/svg\" height=\"24px\"viewBox=\"0 0 24 24\"\n",
              "       width=\"24px\">\n",
              "    <path d=\"M0 0h24v24H0V0z\" fill=\"none\"/>\n",
              "    <path d=\"M18.56 5.44l.94 2.06.94-2.06 2.06-.94-2.06-.94-.94-2.06-.94 2.06-2.06.94zm-11 1L8.5 8.5l.94-2.06 2.06-.94-2.06-.94L8.5 2.5l-.94 2.06-2.06.94zm10 10l.94 2.06.94-2.06 2.06-.94-2.06-.94-.94-2.06-.94 2.06-2.06.94z\"/><path d=\"M17.41 7.96l-1.37-1.37c-.4-.4-.92-.59-1.43-.59-.52 0-1.04.2-1.43.59L10.3 9.45l-7.72 7.72c-.78.78-.78 2.05 0 2.83L4 21.41c.39.39.9.59 1.41.59.51 0 1.02-.2 1.41-.59l7.78-7.78 2.81-2.81c.8-.78.8-2.07 0-2.86zM5.41 20L4 18.59l7.72-7.72 1.47 1.35L5.41 20z\"/>\n",
              "  </svg>\n",
              "      </button>\n",
              "      \n",
              "  <style>\n",
              "    .colab-df-container {\n",
              "      display:flex;\n",
              "      flex-wrap:wrap;\n",
              "      gap: 12px;\n",
              "    }\n",
              "\n",
              "    .colab-df-convert {\n",
              "      background-color: #E8F0FE;\n",
              "      border: none;\n",
              "      border-radius: 50%;\n",
              "      cursor: pointer;\n",
              "      display: none;\n",
              "      fill: #1967D2;\n",
              "      height: 32px;\n",
              "      padding: 0 0 0 0;\n",
              "      width: 32px;\n",
              "    }\n",
              "\n",
              "    .colab-df-convert:hover {\n",
              "      background-color: #E2EBFA;\n",
              "      box-shadow: 0px 1px 2px rgba(60, 64, 67, 0.3), 0px 1px 3px 1px rgba(60, 64, 67, 0.15);\n",
              "      fill: #174EA6;\n",
              "    }\n",
              "\n",
              "    [theme=dark] .colab-df-convert {\n",
              "      background-color: #3B4455;\n",
              "      fill: #D2E3FC;\n",
              "    }\n",
              "\n",
              "    [theme=dark] .colab-df-convert:hover {\n",
              "      background-color: #434B5C;\n",
              "      box-shadow: 0px 1px 3px 1px rgba(0, 0, 0, 0.15);\n",
              "      filter: drop-shadow(0px 1px 2px rgba(0, 0, 0, 0.3));\n",
              "      fill: #FFFFFF;\n",
              "    }\n",
              "  </style>\n",
              "\n",
              "      <script>\n",
              "        const buttonEl =\n",
              "          document.querySelector('#df-4d5a8d57-8ec8-4076-80b4-d794844ef8c0 button.colab-df-convert');\n",
              "        buttonEl.style.display =\n",
              "          google.colab.kernel.accessAllowed ? 'block' : 'none';\n",
              "\n",
              "        async function convertToInteractive(key) {\n",
              "          const element = document.querySelector('#df-4d5a8d57-8ec8-4076-80b4-d794844ef8c0');\n",
              "          const dataTable =\n",
              "            await google.colab.kernel.invokeFunction('convertToInteractive',\n",
              "                                                     [key], {});\n",
              "          if (!dataTable) return;\n",
              "\n",
              "          const docLinkHtml = 'Like what you see? Visit the ' +\n",
              "            '<a target=\"_blank\" href=https://colab.research.google.com/notebooks/data_table.ipynb>data table notebook</a>'\n",
              "            + ' to learn more about interactive tables.';\n",
              "          element.innerHTML = '';\n",
              "          dataTable['output_type'] = 'display_data';\n",
              "          await google.colab.output.renderOutput(dataTable, element);\n",
              "          const docLink = document.createElement('div');\n",
              "          docLink.innerHTML = docLinkHtml;\n",
              "          element.appendChild(docLink);\n",
              "        }\n",
              "      </script>\n",
              "    </div>\n",
              "  </div>\n",
              "  "
            ],
            "text/plain": [
              "   NitricOxide  NitrogenDioxide  OxidesofNitrogen  Ozone  WindSpeed  \\\n",
              "0         19.6             35.8              55.5      2        1.9   \n",
              "1          2.5              2.8               4.4     37       23.3   \n",
              "\n",
              "   ResultantWindSpeed  ResultantWindDirection  MaximumWindGust  \\\n",
              "0                 1.5                     215              3.6   \n",
              "1                22.6                     276             38.5   \n",
              "\n",
              "   Std.Dev.WindDirection  OutdoorTemperature  DewPointTemperature  \\\n",
              "0                     39                67.7                 23.3   \n",
              "1                     14                86.4                 32.3   \n",
              "\n",
              "   RelativeHumidity  SolarRadiation  log_PM2.5  \n",
              "0              18.6            0.00   3.613617  \n",
              "1              14.5            1.11   3.711130  "
            ]
          },
          "metadata": {},
          "execution_count": 7
        }
      ]
    },
    {
      "cell_type": "code",
      "source": [
        "#Histogram of LogPM2.5\n",
        "\n",
        "plt.figure(figsize=(10,6))\n",
        "sns.histplot(data=df1,x = 'log_PM2.5')"
      ],
      "metadata": {
        "colab": {
          "base_uri": "https://localhost:8080/",
          "height": 406
        },
        "id": "XJECFxWPoVFD",
        "outputId": "19ee5cb0-c759-41cb-9ddb-b24c0219a65b"
      },
      "execution_count": 7,
      "outputs": [
        {
          "output_type": "execute_result",
          "data": {
            "text/plain": [
              "<matplotlib.axes._subplots.AxesSubplot at 0x7fa5ad038a10>"
            ]
          },
          "metadata": {},
          "execution_count": 7
        },
        {
          "output_type": "display_data",
          "data": {
            "image/png": "[encoded data removed]",
            "text/plain": [
              "<Figure size 720x432 with 1 Axes>"
            ]
          },
          "metadata": {
            "needs_background": "light"
          }
        }
      ]
    },
    {
      "cell_type": "markdown",
      "source": [
        "This is a better distribution, that can benefit the predictive model"
      ],
      "metadata": {
        "id": "UljHlg9cbCee"
      }
    },
    {
      "cell_type": "code",
      "source": [
        ""
      ],
      "metadata": {
        "id": "6fivyBLj7PMu"
      },
      "execution_count": null,
      "outputs": []
    },
    {
      "cell_type": "markdown",
      "source": [
        "## (b) Inspect the data and answer these questions: Are there any missing data? Among\n",
        "## all the predictors, how many of them are continuous, integer counts, and categorical,\n",
        "### respectively?"
      ],
      "metadata": {
        "id": "V1M6JqAqwv7U"
      }
    },
    {
      "cell_type": "code",
      "source": [
        "# Checking for Missing values\n",
        "\n",
        "df1.isnull().sum()"
      ],
      "metadata": {
        "colab": {
          "base_uri": "https://localhost:8080/"
        },
        "id": "HjoPsyvAozHT",
        "outputId": "1e3251e0-c8a5-4da4-fe91-b65b598e6619"
      },
      "execution_count": null,
      "outputs": [
        {
          "output_type": "execute_result",
          "data": {
            "text/plain": [
              "NitricOxide               2\n",
              "NitrogenDioxide           0\n",
              "OxidesofNitrogen          1\n",
              "Ozone                     0\n",
              "WindSpeed                 0\n",
              "ResultantWindSpeed        0\n",
              "ResultantWindDirection    0\n",
              "MaximumWindGust           0\n",
              "Std.Dev.WindDirection     0\n",
              "OutdoorTemperature        0\n",
              "DewPointTemperature       0\n",
              "RelativeHumidity          0\n",
              "SolarRadiation            0\n",
              "log_PM2.5                 0\n",
              "dtype: int64"
            ]
          },
          "metadata": {},
          "execution_count": 8
        }
      ]
    },
    {
      "cell_type": "code",
      "source": [
        "# Visualize the NULL observations\n",
        "\n",
        "df1[df1['NitricOxide'].isnull()]"
      ],
      "metadata": {
        "colab": {
          "base_uri": "https://localhost:8080/",
          "height": 176
        },
        "id": "G-mVasTLwRxX",
        "outputId": "490d7388-3a5d-4b43-a76b-7cdc86f78868"
      },
      "execution_count": null,
      "outputs": [
        {
          "output_type": "execute_result",
          "data": {
            "text/html": [
              "\n",
              "  <div id=\"df-96ae5477-beab-4efb-8974-ad80c02f3199\">\n",
              "    <div class=\"colab-df-container\">\n",
              "      <div>\n",
              "<style scoped>\n",
              "    .dataframe tbody tr th:only-of-type {\n",
              "        vertical-align: middle;\n",
              "    }\n",
              "\n",
              "    .dataframe tbody tr th {\n",
              "        vertical-align: top;\n",
              "    }\n",
              "\n",
              "    .dataframe thead th {\n",
              "        text-align: right;\n",
              "    }\n",
              "</style>\n",
              "<table border=\"1\" class=\"dataframe\">\n",
              "  <thead>\n",
              "    <tr style=\"text-align: right;\">\n",
              "      <th></th>\n",
              "      <th>NitricOxide</th>\n",
              "      <th>NitrogenDioxide</th>\n",
              "      <th>OxidesofNitrogen</th>\n",
              "      <th>Ozone</th>\n",
              "      <th>WindSpeed</th>\n",
              "      <th>ResultantWindSpeed</th>\n",
              "      <th>ResultantWindDirection</th>\n",
              "      <th>MaximumWindGust</th>\n",
              "      <th>Std.Dev.WindDirection</th>\n",
              "      <th>OutdoorTemperature</th>\n",
              "      <th>DewPointTemperature</th>\n",
              "      <th>RelativeHumidity</th>\n",
              "      <th>SolarRadiation</th>\n",
              "      <th>log_PM2.5</th>\n",
              "    </tr>\n",
              "  </thead>\n",
              "  <tbody>\n",
              "    <tr>\n",
              "      <th>25</th>\n",
              "      <td>NaN</td>\n",
              "      <td>14.0</td>\n",
              "      <td>14.0</td>\n",
              "      <td>59</td>\n",
              "      <td>10.1</td>\n",
              "      <td>9.7</td>\n",
              "      <td>282</td>\n",
              "      <td>17.1</td>\n",
              "      <td>16</td>\n",
              "      <td>82.9</td>\n",
              "      <td>13.0</td>\n",
              "      <td>7.2</td>\n",
              "      <td>0.0</td>\n",
              "      <td>4.044804</td>\n",
              "    </tr>\n",
              "    <tr>\n",
              "      <th>26</th>\n",
              "      <td>NaN</td>\n",
              "      <td>15.1</td>\n",
              "      <td>15.1</td>\n",
              "      <td>52</td>\n",
              "      <td>9.8</td>\n",
              "      <td>9.6</td>\n",
              "      <td>284</td>\n",
              "      <td>15.1</td>\n",
              "      <td>12</td>\n",
              "      <td>79.8</td>\n",
              "      <td>12.2</td>\n",
              "      <td>7.6</td>\n",
              "      <td>0.0</td>\n",
              "      <td>3.802208</td>\n",
              "    </tr>\n",
              "  </tbody>\n",
              "</table>\n",
              "</div>\n",
              "      <button class=\"colab-df-convert\" onclick=\"convertToInteractive('df-96ae5477-beab-4efb-8974-ad80c02f3199')\"\n",
              "              title=\"Convert this dataframe to an interactive table.\"\n",
              "              style=\"display:none;\">\n",
              "        \n",
              "  <svg xmlns=\"http://www.w3.org/2000/svg\" height=\"24px\"viewBox=\"0 0 24 24\"\n",
              "       width=\"24px\">\n",
              "    <path d=\"M0 0h24v24H0V0z\" fill=\"none\"/>\n",
              "    <path d=\"M18.56 5.44l.94 2.06.94-2.06 2.06-.94-2.06-.94-.94-2.06-.94 2.06-2.06.94zm-11 1L8.5 8.5l.94-2.06 2.06-.94-2.06-.94L8.5 2.5l-.94 2.06-2.06.94zm10 10l.94 2.06.94-2.06 2.06-.94-2.06-.94-.94-2.06-.94 2.06-2.06.94z\"/><path d=\"M17.41 7.96l-1.37-1.37c-.4-.4-.92-.59-1.43-.59-.52 0-1.04.2-1.43.59L10.3 9.45l-7.72 7.72c-.78.78-.78 2.05 0 2.83L4 21.41c.39.39.9.59 1.41.59.51 0 1.02-.2 1.41-.59l7.78-7.78 2.81-2.81c.8-.78.8-2.07 0-2.86zM5.41 20L4 18.59l7.72-7.72 1.47 1.35L5.41 20z\"/>\n",
              "  </svg>\n",
              "      </button>\n",
              "      \n",
              "  <style>\n",
              "    .colab-df-container {\n",
              "      display:flex;\n",
              "      flex-wrap:wrap;\n",
              "      gap: 12px;\n",
              "    }\n",
              "\n",
              "    .colab-df-convert {\n",
              "      background-color: #E8F0FE;\n",
              "      border: none;\n",
              "      border-radius: 50%;\n",
              "      cursor: pointer;\n",
              "      display: none;\n",
              "      fill: #1967D2;\n",
              "      height: 32px;\n",
              "      padding: 0 0 0 0;\n",
              "      width: 32px;\n",
              "    }\n",
              "\n",
              "    .colab-df-convert:hover {\n",
              "      background-color: #E2EBFA;\n",
              "      box-shadow: 0px 1px 2px rgba(60, 64, 67, 0.3), 0px 1px 3px 1px rgba(60, 64, 67, 0.15);\n",
              "      fill: #174EA6;\n",
              "    }\n",
              "\n",
              "    [theme=dark] .colab-df-convert {\n",
              "      background-color: #3B4455;\n",
              "      fill: #D2E3FC;\n",
              "    }\n",
              "\n",
              "    [theme=dark] .colab-df-convert:hover {\n",
              "      background-color: #434B5C;\n",
              "      box-shadow: 0px 1px 3px 1px rgba(0, 0, 0, 0.15);\n",
              "      filter: drop-shadow(0px 1px 2px rgba(0, 0, 0, 0.3));\n",
              "      fill: #FFFFFF;\n",
              "    }\n",
              "  </style>\n",
              "\n",
              "      <script>\n",
              "        const buttonEl =\n",
              "          document.querySelector('#df-96ae5477-beab-4efb-8974-ad80c02f3199 button.colab-df-convert');\n",
              "        buttonEl.style.display =\n",
              "          google.colab.kernel.accessAllowed ? 'block' : 'none';\n",
              "\n",
              "        async function convertToInteractive(key) {\n",
              "          const element = document.querySelector('#df-96ae5477-beab-4efb-8974-ad80c02f3199');\n",
              "          const dataTable =\n",
              "            await google.colab.kernel.invokeFunction('convertToInteractive',\n",
              "                                                     [key], {});\n",
              "          if (!dataTable) return;\n",
              "\n",
              "          const docLinkHtml = 'Like what you see? Visit the ' +\n",
              "            '<a target=\"_blank\" href=https://colab.research.google.com/notebooks/data_table.ipynb>data table notebook</a>'\n",
              "            + ' to learn more about interactive tables.';\n",
              "          element.innerHTML = '';\n",
              "          dataTable['output_type'] = 'display_data';\n",
              "          await google.colab.output.renderOutput(dataTable, element);\n",
              "          const docLink = document.createElement('div');\n",
              "          docLink.innerHTML = docLinkHtml;\n",
              "          element.appendChild(docLink);\n",
              "        }\n",
              "      </script>\n",
              "    </div>\n",
              "  </div>\n",
              "  "
            ],
            "text/plain": [
              "    NitricOxide  NitrogenDioxide  OxidesofNitrogen  Ozone  WindSpeed  \\\n",
              "25          NaN             14.0              14.0     59       10.1   \n",
              "26          NaN             15.1              15.1     52        9.8   \n",
              "\n",
              "    ResultantWindSpeed  ResultantWindDirection  MaximumWindGust  \\\n",
              "25                 9.7                     282             17.1   \n",
              "26                 9.6                     284             15.1   \n",
              "\n",
              "    Std.Dev.WindDirection  OutdoorTemperature  DewPointTemperature  \\\n",
              "25                     16                82.9                 13.0   \n",
              "26                     12                79.8                 12.2   \n",
              "\n",
              "    RelativeHumidity  SolarRadiation  log_PM2.5  \n",
              "25               7.2             0.0   4.044804  \n",
              "26               7.6             0.0   3.802208  "
            ]
          },
          "metadata": {},
          "execution_count": 5
        }
      ]
    },
    {
      "cell_type": "markdown",
      "source": [
        "There are few missing values\n"
      ],
      "metadata": {
        "id": "puyQFTU5xU7g"
      }
    },
    {
      "cell_type": "code",
      "source": [
        "#Drop Missing Values\n",
        "\n",
        "df1 = df1.dropna(subset = ['NitricOxide', 'OxidesofNitrogen'])"
      ],
      "metadata": {
        "id": "QUcHrGwawcMl"
      },
      "execution_count": 8,
      "outputs": []
    },
    {
      "cell_type": "code",
      "source": [
        "type(df1)"
      ],
      "metadata": {
        "colab": {
          "base_uri": "https://localhost:8080/"
        },
        "id": "UjMg5YKo9TPW",
        "outputId": "0eda8a37-a1d4-414c-a9f6-7c25e6b152b7"
      },
      "execution_count": null,
      "outputs": [
        {
          "output_type": "execute_result",
          "data": {
            "text/plain": [
              "pandas.core.frame.DataFrame"
            ]
          },
          "metadata": {},
          "execution_count": 8
        }
      ]
    },
    {
      "cell_type": "code",
      "source": [
        "#Check the new data\n",
        "\n",
        "df1.isnull().sum()"
      ],
      "metadata": {
        "colab": {
          "base_uri": "https://localhost:8080/"
        },
        "id": "9n6YQaCdy1VB",
        "outputId": "3ec4eb60-2446-4696-a124-7e8b33e754ae"
      },
      "execution_count": null,
      "outputs": [
        {
          "output_type": "execute_result",
          "data": {
            "text/plain": [
              "NitricOxide               0\n",
              "NitrogenDioxide           0\n",
              "OxidesofNitrogen          0\n",
              "Ozone                     0\n",
              "WindSpeed                 0\n",
              "ResultantWindSpeed        0\n",
              "ResultantWindDirection    0\n",
              "MaximumWindGust           0\n",
              "Std.Dev.WindDirection     0\n",
              "OutdoorTemperature        0\n",
              "DewPointTemperature       0\n",
              "RelativeHumidity          0\n",
              "SolarRadiation            0\n",
              "log_PM2.5                 0\n",
              "dtype: int64"
            ]
          },
          "metadata": {},
          "execution_count": 15
        }
      ]
    },
    {
      "cell_type": "code",
      "source": [
        "# Investigate all the elements whithin each Feature \n",
        "\n",
        "for column in df1:\n",
        "    unique_values = np.unique(df1[column])\n",
        "    number_of_values = len(unique_values)\n",
        "    if number_of_values <= 10:\n",
        "        print(\"The number of distinct values for feature {} is: {} -- {}\".format(column, number_of_values, unique_values))\n",
        "    else:\n",
        "        print(\"The number of distinct values for feature {} is: {}\".format(column, number_of_values))"
      ],
      "metadata": {
        "colab": {
          "base_uri": "https://localhost:8080/"
        },
        "id": "p9cAcouUy6xS",
        "outputId": "dd9604f5-5a89-425a-e932-ba21ab1b7bae"
      },
      "execution_count": null,
      "outputs": [
        {
          "output_type": "stream",
          "name": "stdout",
          "text": [
            "The number of distinct values for feature NitricOxide is: 283\n",
            "The number of distinct values for feature NitrogenDioxide is: 327\n",
            "The number of distinct values for feature OxidesofNitrogen is: 412\n",
            "The number of distinct values for feature Ozone is: 65\n",
            "The number of distinct values for feature WindSpeed is: 236\n",
            "The number of distinct values for feature ResultantWindSpeed is: 233\n",
            "The number of distinct values for feature ResultantWindDirection is: 270\n",
            "The number of distinct values for feature MaximumWindGust is: 345\n",
            "The number of distinct values for feature Std.Dev.WindDirection is: 70\n",
            "The number of distinct values for feature OutdoorTemperature is: 444\n",
            "The number of distinct values for feature DewPointTemperature is: 340\n",
            "The number of distinct values for feature RelativeHumidity is: 424\n",
            "The number of distinct values for feature SolarRadiation is: 347\n",
            "The number of distinct values for feature log_PM2.5 is: 432\n"
          ]
        }
      ]
    },
    {
      "cell_type": "markdown",
      "source": [
        "Continuous: All predictors are continuous\n",
        "\n",
        "Integer counts: Ozone , Std.Dev.WindDirection\n",
        "\n",
        "Categorical: Non is categorical"
      ],
      "metadata": {
        "id": "yqSFYQeb0Nge"
      }
    },
    {
      "cell_type": "code",
      "source": [
        "df1.shape"
      ],
      "metadata": {
        "colab": {
          "base_uri": "https://localhost:8080/"
        },
        "id": "OG5Fa_f50Bda",
        "outputId": "2fe11e00-0544-4fe1-dda2-7fdae943503a"
      },
      "execution_count": 9,
      "outputs": [
        {
          "output_type": "execute_result",
          "data": {
            "text/plain": [
              "(842, 14)"
            ]
          },
          "metadata": {},
          "execution_count": 9
        }
      ]
    },
    {
      "cell_type": "code",
      "source": [
        ""
      ],
      "metadata": {
        "id": "pYdj9rDc7RY4"
      },
      "execution_count": null,
      "outputs": []
    },
    {
      "cell_type": "markdown",
      "source": [
        "### (c) Show a few interesting fndings about the data."
      ],
      "metadata": {
        "id": "NDwhyakp2meI"
      }
    },
    {
      "cell_type": "markdown",
      "source": [
        "The log transform of the PM.25 is normally distributed\n",
        "\n",
        "The unique number of occurence in each feature is just about the mean of total observations \n",
        "\n",
        "Some of the predictors exhibit outliers as shown in **2(e)by the boxplot**\n",
        "\n",
        "Checking for Multicolinearity as follow"
      ],
      "metadata": {
        "id": "H0d9btzC2qDE"
      }
    },
    {
      "cell_type": "markdown",
      "source": [
        "## Check Multicolinearity"
      ],
      "metadata": {
        "id": "XPilJCHVuNBx"
      }
    },
    {
      "cell_type": "code",
      "source": [
        "#Correlation matrix\n",
        "plt.figure(figsize=(15,10)) #Set figure size\n",
        "\n",
        "sns.heatmap(df1.corr(), annot=True)"
      ],
      "metadata": {
        "colab": {
          "base_uri": "https://localhost:8080/",
          "height": 720
        },
        "id": "JRjS4fnGkejw",
        "outputId": "ae136691-32c2-42de-8440-e8061ce6289a"
      },
      "execution_count": null,
      "outputs": [
        {
          "output_type": "execute_result",
          "data": {
            "text/plain": [
              "<matplotlib.axes._subplots.AxesSubplot at 0x7f6b95ccfc10>"
            ]
          },
          "metadata": {},
          "execution_count": 18
        },
        {
          "output_type": "display_data",
          "data": {
            "image/png": "[encoded data removed]",
            "text/plain": [
              "<Figure size 1080x720 with 2 Axes>"
            ]
          },
          "metadata": {
            "needs_background": "light"
          }
        }
      ]
    },
    {
      "cell_type": "markdown",
      "source": [
        "## Pairing Multicolinear Features"
      ],
      "metadata": {
        "id": "F6cbdPEaurhC"
      }
    },
    {
      "cell_type": "code",
      "source": [
        "correlatedColumns = []\n",
        "corr = df1.corr()\n",
        "indices = corr.index\n",
        "columns = corr.columns\n",
        "posthreshold = 0.85\n",
        "negthreshold = -0.85\n",
        "\n",
        "for c in columns:\n",
        "    for r in indices:\n",
        "        if c != r and (corr[c][r] > posthreshold or corr[c][r] < negthreshold):\n",
        "            correlatedColumns.append({\"column\" : c , \"row\" : r , \"val\" :corr[c][r] })\n",
        "            \n",
        "if len(correlatedColumns) < 1: print('No Multicolinearity found in dataset')\n",
        "\n",
        "else: print(correlatedColumns)\n"
      ],
      "metadata": {
        "colab": {
          "base_uri": "https://localhost:8080/"
        },
        "id": "ASCP01ctpcPs",
        "outputId": "a644e3cb-abbd-457c-bcd8-8ee00bf390a3"
      },
      "execution_count": 156,
      "outputs": [
        {
          "output_type": "stream",
          "name": "stdout",
          "text": [
            "[{'column': 'NitricOxide', 'row': 'OxidesofNitrogen', 'val': 0.9917023020518474}, {'column': 'OxidesofNitrogen', 'row': 'NitricOxide', 'val': 0.9917023020518474}, {'column': 'WindSpeed', 'row': 'ResultantWindSpeed', 'val': 0.9972624762883195}, {'column': 'WindSpeed', 'row': 'MaximumWindGust', 'val': 0.97679608752667}, {'column': 'ResultantWindSpeed', 'row': 'WindSpeed', 'val': 0.9972624762883195}, {'column': 'ResultantWindSpeed', 'row': 'MaximumWindGust', 'val': 0.9678380226767956}, {'column': 'MaximumWindGust', 'row': 'WindSpeed', 'val': 0.97679608752667}, {'column': 'MaximumWindGust', 'row': 'ResultantWindSpeed', 'val': 0.9678380226767956}]\n"
          ]
        }
      ]
    },
    {
      "cell_type": "markdown",
      "source": [
        "This show the features are higly correlated with another feature\n",
        "Even the threshold is still a big, a better value will be say 0.60 and below that would yield a better prediction and remove all colinear features"
      ],
      "metadata": {
        "id": "KJZQBevHuz30"
      }
    },
    {
      "cell_type": "markdown",
      "source": [
        "## Alternatively\n",
        "\n",
        "We can delete the features that are highly correlated from the dataset as and get a cleaner dataset for our use using this snippet of code"
      ],
      "metadata": {
        "id": "9JY0ycukvPgk"
      }
    },
    {
      "cell_type": "code",
      "source": [
        "# Get correlation matrix \n",
        "corr = df1.corr()\n",
        "\n",
        "# Create a mask for values above 90% \n",
        "# But also below 100% since it variables correlated with the same one\n",
        "mask = (df1.corr() > 0.58) & (df1.corr() < 1.0)\n",
        "high_corr = corr[mask]\n",
        "\n",
        "# Create a new column mask using any() and ~\n",
        "col_to_filter_out = ~high_corr[mask].any()\n",
        "\n",
        "# Apply new mask\n",
        "df_clean = df1[high_corr.columns[col_to_filter_out]]\n",
        "\n",
        "# Visualize cleaned dataset\n",
        "df_clean.head()"
      ],
      "metadata": {
        "colab": {
          "base_uri": "https://localhost:8080/",
          "height": 206
        },
        "id": "TSIRZIDvkCKm",
        "outputId": "0d38cdd9-511b-48f1-84c8-988dd7352f2d"
      },
      "execution_count": 150,
      "outputs": [
        {
          "output_type": "execute_result",
          "data": {
            "text/html": [
              "\n",
              "  <div id=\"df-de361826-9c3c-407b-abff-093fa3462ccc\">\n",
              "    <div class=\"colab-df-container\">\n",
              "      <div>\n",
              "<style scoped>\n",
              "    .dataframe tbody tr th:only-of-type {\n",
              "        vertical-align: middle;\n",
              "    }\n",
              "\n",
              "    .dataframe tbody tr th {\n",
              "        vertical-align: top;\n",
              "    }\n",
              "\n",
              "    .dataframe thead th {\n",
              "        text-align: right;\n",
              "    }\n",
              "</style>\n",
              "<table border=\"1\" class=\"dataframe\">\n",
              "  <thead>\n",
              "    <tr style=\"text-align: right;\">\n",
              "      <th></th>\n",
              "      <th>ResultantWindDirection</th>\n",
              "      <th>Std.Dev.WindDirection</th>\n",
              "      <th>DewPointTemperature</th>\n",
              "      <th>RelativeHumidity</th>\n",
              "      <th>SolarRadiation</th>\n",
              "      <th>log_PM2.5</th>\n",
              "    </tr>\n",
              "  </thead>\n",
              "  <tbody>\n",
              "    <tr>\n",
              "      <th>0</th>\n",
              "      <td>0.594972</td>\n",
              "      <td>0.445946</td>\n",
              "      <td>0.421555</td>\n",
              "      <td>0.138741</td>\n",
              "      <td>0.000000</td>\n",
              "      <td>3.613617</td>\n",
              "    </tr>\n",
              "    <tr>\n",
              "      <th>1</th>\n",
              "      <td>0.765363</td>\n",
              "      <td>0.108108</td>\n",
              "      <td>0.544338</td>\n",
              "      <td>0.094984</td>\n",
              "      <td>0.707006</td>\n",
              "      <td>3.711130</td>\n",
              "    </tr>\n",
              "    <tr>\n",
              "      <th>2</th>\n",
              "      <td>0.779330</td>\n",
              "      <td>0.081081</td>\n",
              "      <td>0.515689</td>\n",
              "      <td>0.077908</td>\n",
              "      <td>0.535669</td>\n",
              "      <td>3.602777</td>\n",
              "    </tr>\n",
              "    <tr>\n",
              "      <th>3</th>\n",
              "      <td>0.782123</td>\n",
              "      <td>0.054054</td>\n",
              "      <td>0.499318</td>\n",
              "      <td>0.073639</td>\n",
              "      <td>0.324204</td>\n",
              "      <td>3.594569</td>\n",
              "    </tr>\n",
              "    <tr>\n",
              "      <th>4</th>\n",
              "      <td>0.784916</td>\n",
              "      <td>0.040541</td>\n",
              "      <td>0.283765</td>\n",
              "      <td>0.112060</td>\n",
              "      <td>0.286624</td>\n",
              "      <td>4.188138</td>\n",
              "    </tr>\n",
              "  </tbody>\n",
              "</table>\n",
              "</div>\n",
              "      <button class=\"colab-df-convert\" onclick=\"convertToInteractive('df-de361826-9c3c-407b-abff-093fa3462ccc')\"\n",
              "              title=\"Convert this dataframe to an interactive table.\"\n",
              "              style=\"display:none;\">\n",
              "        \n",
              "  <svg xmlns=\"http://www.w3.org/2000/svg\" height=\"24px\"viewBox=\"0 0 24 24\"\n",
              "       width=\"24px\">\n",
              "    <path d=\"M0 0h24v24H0V0z\" fill=\"none\"/>\n",
              "    <path d=\"M18.56 5.44l.94 2.06.94-2.06 2.06-.94-2.06-.94-.94-2.06-.94 2.06-2.06.94zm-11 1L8.5 8.5l.94-2.06 2.06-.94-2.06-.94L8.5 2.5l-.94 2.06-2.06.94zm10 10l.94 2.06.94-2.06 2.06-.94-2.06-.94-.94-2.06-.94 2.06-2.06.94z\"/><path d=\"M17.41 7.96l-1.37-1.37c-.4-.4-.92-.59-1.43-.59-.52 0-1.04.2-1.43.59L10.3 9.45l-7.72 7.72c-.78.78-.78 2.05 0 2.83L4 21.41c.39.39.9.59 1.41.59.51 0 1.02-.2 1.41-.59l7.78-7.78 2.81-2.81c.8-.78.8-2.07 0-2.86zM5.41 20L4 18.59l7.72-7.72 1.47 1.35L5.41 20z\"/>\n",
              "  </svg>\n",
              "      </button>\n",
              "      \n",
              "  <style>\n",
              "    .colab-df-container {\n",
              "      display:flex;\n",
              "      flex-wrap:wrap;\n",
              "      gap: 12px;\n",
              "    }\n",
              "\n",
              "    .colab-df-convert {\n",
              "      background-color: #E8F0FE;\n",
              "      border: none;\n",
              "      border-radius: 50%;\n",
              "      cursor: pointer;\n",
              "      display: none;\n",
              "      fill: #1967D2;\n",
              "      height: 32px;\n",
              "      padding: 0 0 0 0;\n",
              "      width: 32px;\n",
              "    }\n",
              "\n",
              "    .colab-df-convert:hover {\n",
              "      background-color: #E2EBFA;\n",
              "      box-shadow: 0px 1px 2px rgba(60, 64, 67, 0.3), 0px 1px 3px 1px rgba(60, 64, 67, 0.15);\n",
              "      fill: #174EA6;\n",
              "    }\n",
              "\n",
              "    [theme=dark] .colab-df-convert {\n",
              "      background-color: #3B4455;\n",
              "      fill: #D2E3FC;\n",
              "    }\n",
              "\n",
              "    [theme=dark] .colab-df-convert:hover {\n",
              "      background-color: #434B5C;\n",
              "      box-shadow: 0px 1px 3px 1px rgba(0, 0, 0, 0.15);\n",
              "      filter: drop-shadow(0px 1px 2px rgba(0, 0, 0, 0.3));\n",
              "      fill: #FFFFFF;\n",
              "    }\n",
              "  </style>\n",
              "\n",
              "      <script>\n",
              "        const buttonEl =\n",
              "          document.querySelector('#df-de361826-9c3c-407b-abff-093fa3462ccc button.colab-df-convert');\n",
              "        buttonEl.style.display =\n",
              "          google.colab.kernel.accessAllowed ? 'block' : 'none';\n",
              "\n",
              "        async function convertToInteractive(key) {\n",
              "          const element = document.querySelector('#df-de361826-9c3c-407b-abff-093fa3462ccc');\n",
              "          const dataTable =\n",
              "            await google.colab.kernel.invokeFunction('convertToInteractive',\n",
              "                                                     [key], {});\n",
              "          if (!dataTable) return;\n",
              "\n",
              "          const docLinkHtml = 'Like what you see? Visit the ' +\n",
              "            '<a target=\"_blank\" href=https://colab.research.google.com/notebooks/data_table.ipynb>data table notebook</a>'\n",
              "            + ' to learn more about interactive tables.';\n",
              "          element.innerHTML = '';\n",
              "          dataTable['output_type'] = 'display_data';\n",
              "          await google.colab.output.renderOutput(dataTable, element);\n",
              "          const docLink = document.createElement('div');\n",
              "          docLink.innerHTML = docLinkHtml;\n",
              "          element.appendChild(docLink);\n",
              "        }\n",
              "      </script>\n",
              "    </div>\n",
              "  </div>\n",
              "  "
            ],
            "text/plain": [
              "   ResultantWindDirection  Std.Dev.WindDirection  DewPointTemperature  \\\n",
              "0                0.594972               0.445946             0.421555   \n",
              "1                0.765363               0.108108             0.544338   \n",
              "2                0.779330               0.081081             0.515689   \n",
              "3                0.782123               0.054054             0.499318   \n",
              "4                0.784916               0.040541             0.283765   \n",
              "\n",
              "   RelativeHumidity  SolarRadiation  log_PM2.5  \n",
              "0          0.138741        0.000000   3.613617  \n",
              "1          0.094984        0.707006   3.711130  \n",
              "2          0.077908        0.535669   3.602777  \n",
              "3          0.073639        0.324204   3.594569  \n",
              "4          0.112060        0.286624   4.188138  "
            ]
          },
          "metadata": {},
          "execution_count": 150
        }
      ]
    },
    {
      "cell_type": "markdown",
      "source": [
        "### Investigate the distribution of the response"
      ],
      "metadata": {
        "id": "5z18Osvrzp2_"
      }
    },
    {
      "cell_type": "code",
      "source": [
        "df1['log_PM2.5'].describe()"
      ],
      "metadata": {
        "colab": {
          "base_uri": "https://localhost:8080/"
        },
        "id": "ZEQc2xiHsYY3",
        "outputId": "4d5676c8-c3d3-49c6-ce0e-a04402937042"
      },
      "execution_count": 18,
      "outputs": [
        {
          "output_type": "execute_result",
          "data": {
            "text/plain": [
              "count    842.000000\n",
              "mean       2.953747\n",
              "std        1.080634\n",
              "min       -2.302585\n",
              "25%        2.208274\n",
              "50%        2.965273\n",
              "75%        3.792111\n",
              "max        6.126651\n",
              "Name: log_PM2.5, dtype: float64"
            ]
          },
          "metadata": {},
          "execution_count": 18
        }
      ]
    },
    {
      "cell_type": "code",
      "source": [
        "plt.figure(figsize=(12,6))\n",
        "\n",
        "sns.histplot(x= df1['log_PM2.5'])"
      ],
      "metadata": {
        "colab": {
          "base_uri": "https://localhost:8080/",
          "height": 406
        },
        "id": "CEJKLzIKxzOM",
        "outputId": "414428b4-efbb-48aa-e176-10b2580108f5"
      },
      "execution_count": 19,
      "outputs": [
        {
          "output_type": "execute_result",
          "data": {
            "text/plain": [
              "<matplotlib.axes._subplots.AxesSubplot at 0x7fa5ac79ab90>"
            ]
          },
          "metadata": {},
          "execution_count": 19
        },
        {
          "output_type": "display_data",
          "data": {
            "image/png": "[encoded data removed]",
            "text/plain": [
              "<Figure size 864x432 with 1 Axes>"
            ]
          },
          "metadata": {
            "needs_background": "light"
          }
        }
      ]
    },
    {
      "cell_type": "markdown",
      "source": [
        "#### PM.25 at value -2 happens to be an outlier\n",
        "\n",
        "Only few log_PM2.5 have values around 6 which is the maximum, more of the values have avg. values of 2.9\n",
        "\n",
        "Also most values fall within 2-5\n",
        "\n",
        "We should expect most of our predicted values to lie between a little below the mean and a little above 4.0\n",
        "\n",
        "Also, it is observed that the features are in different scales, so we need to standardize the data"
      ],
      "metadata": {
        "id": "YFnYTlBnz5E3"
      }
    },
    {
      "cell_type": "markdown",
      "source": [
        ""
      ],
      "metadata": {
        "id": "37I7lhb26zv4"
      }
    },
    {
      "cell_type": "markdown",
      "source": [
        "## Standardize The Data"
      ],
      "metadata": {
        "id": "zGtZOJcI6tGd"
      }
    },
    {
      "cell_type": "code",
      "source": [
        "df1.columns"
      ],
      "metadata": {
        "colab": {
          "base_uri": "https://localhost:8080/"
        },
        "id": "Zx7ZkugL6MVc",
        "outputId": "edc5b3a5-558e-4cf2-9186-59f8a11e1fa1"
      },
      "execution_count": null,
      "outputs": [
        {
          "output_type": "execute_result",
          "data": {
            "text/plain": [
              "Index(['NitricOxide', 'NitrogenDioxide', 'OxidesofNitrogen', 'Ozone',\n",
              "       'WindSpeed', 'ResultantWindSpeed', 'ResultantWindDirection',\n",
              "       'MaximumWindGust', 'Std.Dev.WindDirection', 'OutdoorTemperature',\n",
              "       'DewPointTemperature', 'RelativeHumidity', 'SolarRadiation',\n",
              "       'log_PM2.5'],\n",
              "      dtype='object')"
            ]
          },
          "metadata": {},
          "execution_count": 65
        }
      ]
    },
    {
      "cell_type": "code",
      "source": [
        "from sklearn.preprocessing import MinMaxScaler\n",
        "\n",
        "# Scaling our columns except the target\n",
        "scale_vars = ['NitricOxide', 'NitrogenDioxide', 'OxidesofNitrogen', 'Ozone',\n",
        "       'WindSpeed', 'ResultantWindSpeed', 'ResultantWindDirection',\n",
        "       'MaximumWindGust', 'Std.Dev.WindDirection', 'OutdoorTemperature',\n",
        "       'DewPointTemperature', 'RelativeHumidity', 'SolarRadiation']\n",
        "\n",
        "scaler = MinMaxScaler()\n",
        "df1[scale_vars] = scaler.fit_transform(df1[scale_vars]) #df1[scale_vars] -> making the array  to a dataframe\n",
        "\n",
        "df1.head(2)"
      ],
      "metadata": {
        "colab": {
          "base_uri": "https://localhost:8080/",
          "height": 176
        },
        "id": "uIOZhYxI6I0x",
        "outputId": "b1c475d1-ce6d-4f76-c370-1a17a3c4a8ce"
      },
      "execution_count": 20,
      "outputs": [
        {
          "output_type": "execute_result",
          "data": {
            "text/html": [
              "\n",
              "  <div id=\"df-62f6a68c-b151-4878-a10f-2a69c9537882\">\n",
              "    <div class=\"colab-df-container\">\n",
              "      <div>\n",
              "<style scoped>\n",
              "    .dataframe tbody tr th:only-of-type {\n",
              "        vertical-align: middle;\n",
              "    }\n",
              "\n",
              "    .dataframe tbody tr th {\n",
              "        vertical-align: top;\n",
              "    }\n",
              "\n",
              "    .dataframe thead th {\n",
              "        text-align: right;\n",
              "    }\n",
              "</style>\n",
              "<table border=\"1\" class=\"dataframe\">\n",
              "  <thead>\n",
              "    <tr style=\"text-align: right;\">\n",
              "      <th></th>\n",
              "      <th>NitricOxide</th>\n",
              "      <th>NitrogenDioxide</th>\n",
              "      <th>OxidesofNitrogen</th>\n",
              "      <th>Ozone</th>\n",
              "      <th>WindSpeed</th>\n",
              "      <th>ResultantWindSpeed</th>\n",
              "      <th>ResultantWindDirection</th>\n",
              "      <th>MaximumWindGust</th>\n",
              "      <th>Std.Dev.WindDirection</th>\n",
              "      <th>OutdoorTemperature</th>\n",
              "      <th>DewPointTemperature</th>\n",
              "      <th>RelativeHumidity</th>\n",
              "      <th>SolarRadiation</th>\n",
              "      <th>log_PM2.5</th>\n",
              "    </tr>\n",
              "  </thead>\n",
              "  <tbody>\n",
              "    <tr>\n",
              "      <th>0</th>\n",
              "      <td>0.072750</td>\n",
              "      <td>0.531768</td>\n",
              "      <td>0.161457</td>\n",
              "      <td>0.042254</td>\n",
              "      <td>0.050157</td>\n",
              "      <td>0.047468</td>\n",
              "      <td>0.594972</td>\n",
              "      <td>0.059140</td>\n",
              "      <td>0.445946</td>\n",
              "      <td>0.540264</td>\n",
              "      <td>0.421555</td>\n",
              "      <td>0.138741</td>\n",
              "      <td>0.000000</td>\n",
              "      <td>3.613617</td>\n",
              "    </tr>\n",
              "    <tr>\n",
              "      <th>1</th>\n",
              "      <td>0.020037</td>\n",
              "      <td>0.075967</td>\n",
              "      <td>0.022560</td>\n",
              "      <td>0.535211</td>\n",
              "      <td>0.721003</td>\n",
              "      <td>0.715190</td>\n",
              "      <td>0.765363</td>\n",
              "      <td>0.684588</td>\n",
              "      <td>0.108108</td>\n",
              "      <td>0.814056</td>\n",
              "      <td>0.544338</td>\n",
              "      <td>0.094984</td>\n",
              "      <td>0.707006</td>\n",
              "      <td>3.711130</td>\n",
              "    </tr>\n",
              "  </tbody>\n",
              "</table>\n",
              "</div>\n",
              "      <button class=\"colab-df-convert\" onclick=\"convertToInteractive('df-62f6a68c-b151-4878-a10f-2a69c9537882')\"\n",
              "              title=\"Convert this dataframe to an interactive table.\"\n",
              "              style=\"display:none;\">\n",
              "        \n",
              "  <svg xmlns=\"http://www.w3.org/2000/svg\" height=\"24px\"viewBox=\"0 0 24 24\"\n",
              "       width=\"24px\">\n",
              "    <path d=\"M0 0h24v24H0V0z\" fill=\"none\"/>\n",
              "    <path d=\"M18.56 5.44l.94 2.06.94-2.06 2.06-.94-2.06-.94-.94-2.06-.94 2.06-2.06.94zm-11 1L8.5 8.5l.94-2.06 2.06-.94-2.06-.94L8.5 2.5l-.94 2.06-2.06.94zm10 10l.94 2.06.94-2.06 2.06-.94-2.06-.94-.94-2.06-.94 2.06-2.06.94z\"/><path d=\"M17.41 7.96l-1.37-1.37c-.4-.4-.92-.59-1.43-.59-.52 0-1.04.2-1.43.59L10.3 9.45l-7.72 7.72c-.78.78-.78 2.05 0 2.83L4 21.41c.39.39.9.59 1.41.59.51 0 1.02-.2 1.41-.59l7.78-7.78 2.81-2.81c.8-.78.8-2.07 0-2.86zM5.41 20L4 18.59l7.72-7.72 1.47 1.35L5.41 20z\"/>\n",
              "  </svg>\n",
              "      </button>\n",
              "      \n",
              "  <style>\n",
              "    .colab-df-container {\n",
              "      display:flex;\n",
              "      flex-wrap:wrap;\n",
              "      gap: 12px;\n",
              "    }\n",
              "\n",
              "    .colab-df-convert {\n",
              "      background-color: #E8F0FE;\n",
              "      border: none;\n",
              "      border-radius: 50%;\n",
              "      cursor: pointer;\n",
              "      display: none;\n",
              "      fill: #1967D2;\n",
              "      height: 32px;\n",
              "      padding: 0 0 0 0;\n",
              "      width: 32px;\n",
              "    }\n",
              "\n",
              "    .colab-df-convert:hover {\n",
              "      background-color: #E2EBFA;\n",
              "      box-shadow: 0px 1px 2px rgba(60, 64, 67, 0.3), 0px 1px 3px 1px rgba(60, 64, 67, 0.15);\n",
              "      fill: #174EA6;\n",
              "    }\n",
              "\n",
              "    [theme=dark] .colab-df-convert {\n",
              "      background-color: #3B4455;\n",
              "      fill: #D2E3FC;\n",
              "    }\n",
              "\n",
              "    [theme=dark] .colab-df-convert:hover {\n",
              "      background-color: #434B5C;\n",
              "      box-shadow: 0px 1px 3px 1px rgba(0, 0, 0, 0.15);\n",
              "      filter: drop-shadow(0px 1px 2px rgba(0, 0, 0, 0.3));\n",
              "      fill: #FFFFFF;\n",
              "    }\n",
              "  </style>\n",
              "\n",
              "      <script>\n",
              "        const buttonEl =\n",
              "          document.querySelector('#df-62f6a68c-b151-4878-a10f-2a69c9537882 button.colab-df-convert');\n",
              "        buttonEl.style.display =\n",
              "          google.colab.kernel.accessAllowed ? 'block' : 'none';\n",
              "\n",
              "        async function convertToInteractive(key) {\n",
              "          const element = document.querySelector('#df-62f6a68c-b151-4878-a10f-2a69c9537882');\n",
              "          const dataTable =\n",
              "            await google.colab.kernel.invokeFunction('convertToInteractive',\n",
              "                                                     [key], {});\n",
              "          if (!dataTable) return;\n",
              "\n",
              "          const docLinkHtml = 'Like what you see? Visit the ' +\n",
              "            '<a target=\"_blank\" href=https://colab.research.google.com/notebooks/data_table.ipynb>data table notebook</a>'\n",
              "            + ' to learn more about interactive tables.';\n",
              "          element.innerHTML = '';\n",
              "          dataTable['output_type'] = 'display_data';\n",
              "          await google.colab.output.renderOutput(dataTable, element);\n",
              "          const docLink = document.createElement('div');\n",
              "          docLink.innerHTML = docLinkHtml;\n",
              "          element.appendChild(docLink);\n",
              "        }\n",
              "      </script>\n",
              "    </div>\n",
              "  </div>\n",
              "  "
            ],
            "text/plain": [
              "   NitricOxide  NitrogenDioxide  OxidesofNitrogen     Ozone  WindSpeed  \\\n",
              "0     0.072750         0.531768          0.161457  0.042254   0.050157   \n",
              "1     0.020037         0.075967          0.022560  0.535211   0.721003   \n",
              "\n",
              "   ResultantWindSpeed  ResultantWindDirection  MaximumWindGust  \\\n",
              "0            0.047468                0.594972         0.059140   \n",
              "1            0.715190                0.765363         0.684588   \n",
              "\n",
              "   Std.Dev.WindDirection  OutdoorTemperature  DewPointTemperature  \\\n",
              "0               0.445946            0.540264             0.421555   \n",
              "1               0.108108            0.814056             0.544338   \n",
              "\n",
              "   RelativeHumidity  SolarRadiation  log_PM2.5  \n",
              "0          0.138741        0.000000   3.613617  \n",
              "1          0.094984        0.707006   3.711130  "
            ]
          },
          "metadata": {},
          "execution_count": 20
        }
      ]
    },
    {
      "cell_type": "code",
      "source": [
        ""
      ],
      "metadata": {
        "id": "Ut1sQVdb1GB8"
      },
      "execution_count": null,
      "outputs": []
    },
    {
      "cell_type": "markdown",
      "source": [
        "# 2. Linear Regression:"
      ],
      "metadata": {
        "id": "c1dBA6YJ2mjt"
      }
    },
    {
      "cell_type": "markdown",
      "source": [
        "### (a) Fit the full model where the response variable is the log-transformed PM2.5."
      ],
      "metadata": {
        "id": "KZKlTSDC2i8U"
      }
    },
    {
      "cell_type": "code",
      "source": [
        "X = df1.drop('log_PM2.5', axis = 1).values\n",
        "X"
      ],
      "metadata": {
        "colab": {
          "base_uri": "https://localhost:8080/"
        },
        "id": "kPy6Pkj12lOH",
        "outputId": "72efb5bf-c4bc-4ed1-d95c-3e7637a1a498"
      },
      "execution_count": 89,
      "outputs": [
        {
          "output_type": "execute_result",
          "data": {
            "text/plain": [
              "array([[0.07274969, 0.53176796, 0.16145692, ..., 0.42155525, 0.13874066,\n",
              "        0.        ],\n",
              "       [0.02003699, 0.07596685, 0.02256048, ..., 0.54433834, 0.09498399,\n",
              "        0.70700637],\n",
              "       [0.01942047, 0.0801105 , 0.02283229, ..., 0.51568895, 0.07790822,\n",
              "        0.53566879],\n",
              "       ...,\n",
              "       [0.00739827, 0.04005525, 0.01032889, ..., 0.60163711, 0.26467449,\n",
              "        0.36942675],\n",
              "       [0.01140567, 0.06906077, 0.0187551 , ..., 0.60300136, 0.25933831,\n",
              "        0.56178344],\n",
              "       [0.01233046, 0.06906077, 0.01848328, ..., 0.60163711, 0.22732124,\n",
              "        0.7388535 ]])"
            ]
          },
          "metadata": {},
          "execution_count": 89
        }
      ]
    },
    {
      "cell_type": "code",
      "source": [
        "y = df1['log_PM2.5']\n",
        "y"
      ],
      "metadata": {
        "colab": {
          "base_uri": "https://localhost:8080/"
        },
        "id": "2iYVj0up3N4t",
        "outputId": "1109a53f-dc0e-4aae-9204-9ab910924e0c"
      },
      "execution_count": 22,
      "outputs": [
        {
          "output_type": "execute_result",
          "data": {
            "text/plain": [
              "0      3.613617\n",
              "1      3.711130\n",
              "2      3.602777\n",
              "3      3.594569\n",
              "4      4.188138\n",
              "         ...   \n",
              "840    2.701361\n",
              "841    2.406945\n",
              "842    2.433613\n",
              "843    2.312535\n",
              "844    2.140066\n",
              "Name: log_PM2.5, Length: 842, dtype: float64"
            ]
          },
          "metadata": {},
          "execution_count": 22
        }
      ]
    },
    {
      "cell_type": "code",
      "source": [
        "#Split the data into training and testing set\n",
        "\n",
        "from sklearn.model_selection import train_test_split\n",
        "\n",
        "X_train, X_test, y_train, y_test = train_test_split(X, y, train_size=0.80, test_size = 0.2, random_state=15)\n",
        "\n",
        "#Linear Regressors\n",
        "from sklearn.linear_model import LinearRegression\n",
        "\n",
        "# Training the Regression\n",
        "lm = LinearRegression(fit_intercept = True)     #fit_intercept = True => so we can make some predictions later on\n",
        "\n",
        "lm.fit(X_train, y_train)"
      ],
      "metadata": {
        "id": "mssPnF_B3Oxk",
        "colab": {
          "base_uri": "https://localhost:8080/"
        },
        "outputId": "d074d296-ec5b-46ad-baf0-874a1a8fce9b"
      },
      "execution_count": 47,
      "outputs": [
        {
          "output_type": "execute_result",
          "data": {
            "text/plain": [
              "LinearRegression()"
            ]
          },
          "metadata": {},
          "execution_count": 47
        }
      ]
    },
    {
      "cell_type": "code",
      "source": [
        "#Prediction\n",
        "y_pred = lm.predict(X_train)\n",
        "y_pred"
      ],
      "metadata": {
        "id": "-85K2LGLvIIu",
        "outputId": "08b9a607-5792-43fd-9f79-28bedbf458b7",
        "colab": {
          "base_uri": "https://localhost:8080/"
        }
      },
      "execution_count": 48,
      "outputs": [
        {
          "output_type": "execute_result",
          "data": {
            "text/plain": [
              "array([1.93474199, 1.84565729, 2.56709239, 2.30925541, 1.9374249 ,\n",
              "       2.8571721 , 2.53995073, 2.63096571, 2.22555256, 2.91625182,\n",
              "       2.21963468, 1.9736382 , 3.57131365, 4.21125058, 4.03386233,\n",
              "       1.79101987, 2.68005935, 2.51563247, 1.72502996, 4.30316044,\n",
              "       2.40018519, 2.26066615, 4.28262024, 4.47195686, 3.6801958 ,\n",
              "       2.31607029, 2.24046501, 4.2017555 , 3.87937052, 2.1825981 ,\n",
              "       2.73521647, 4.62767116, 1.86422243, 3.06877712, 3.82543403,\n",
              "       2.46040188, 3.88574808, 1.92877816, 3.02414912, 4.41815469,\n",
              "       3.49644825, 3.64943703, 1.87260348, 2.4893338 , 2.64643064,\n",
              "       1.93526341, 3.12823978, 4.1679755 , 2.59292084, 4.09962781,\n",
              "       2.20901382, 3.89641987, 2.62063417, 2.8031849 , 3.72590942,\n",
              "       2.09529259, 2.82929855, 2.12583119, 1.35505418, 4.29840548,\n",
              "       3.16458653, 2.75735972, 3.65498575, 1.59132984, 3.8131529 ,\n",
              "       2.19558584, 4.01016583, 2.34033562, 2.61717447, 1.7646985 ,\n",
              "       1.85061337, 3.40907504, 2.24762322, 2.68005935, 2.74741496,\n",
              "       2.10994117, 4.09962781, 3.83183579, 2.59502299, 2.94767399,\n",
              "       3.87100189, 3.12516425, 2.61087488, 1.25388766, 2.64571942,\n",
              "       2.05255423, 4.31070982, 1.97290977, 2.73386546, 2.13044573,\n",
              "       2.18291741, 2.68855489, 3.64756569, 3.74070591, 1.93034494,\n",
              "       3.62204077, 1.82670834, 1.34149546, 2.64242986, 3.64878992,\n",
              "       2.54020777, 1.87751252, 1.65760171, 1.74691623, 2.66841957,\n",
              "       4.1117257 , 3.23310011, 2.55683449, 2.57822907, 1.86746399,\n",
              "       2.45739782, 3.09664091, 2.30661249, 3.25330671, 2.7778049 ,\n",
              "       2.78095841, 2.347756  , 3.26492256, 1.88842084, 2.22890984,\n",
              "       2.15749358, 2.8954063 , 3.4379743 , 4.43484528, 3.89506152,\n",
              "       2.93875839, 2.09604154, 3.90494108, 3.10571037, 1.99770295,\n",
              "       2.26715512, 2.45909157, 4.23438519, 1.75646608, 4.1117257 ,\n",
              "       2.78266749, 2.85904668, 3.65636104, 2.86324559, 2.26056931,\n",
              "       4.17492439, 2.80263131, 2.06717418, 3.08089502, 2.13409836,\n",
              "       3.88554255, 1.59656692, 1.38057078, 4.32408478, 2.09332693,\n",
              "       1.97370195, 4.41662828, 4.32553751, 2.83084002, 2.51843879,\n",
              "       3.24064004, 3.83183579, 2.23731163, 3.73949929, 3.44651873,\n",
              "       3.47837134, 3.39617118, 3.23762989, 3.01582577, 1.57986514,\n",
              "       2.9986931 , 2.58826722, 2.7268799 , 2.30297339, 2.31009277,\n",
              "       2.50568628, 2.39193119, 3.08144209, 2.05441378, 3.80223156,\n",
              "       4.17492439, 4.00980071, 2.28638314, 2.37087198, 2.20523096,\n",
              "       3.14633832, 3.34860122, 3.05973449, 4.433498  , 2.50889791,\n",
              "       2.70677699, 3.16984739, 2.39466738, 2.86716035, 2.86740662,\n",
              "       1.9855097 , 3.94199668, 1.9350733 , 4.16781086, 2.24796993,\n",
              "       3.72960625, 4.09563597, 2.09372921, 4.0919027 , 1.21095029,\n",
              "       3.1671073 , 2.30012998, 2.37545321, 2.38743029, 4.18612927,\n",
              "       4.00653509, 3.2087918 , 2.69795996, 1.43843921, 1.94008013,\n",
              "       3.53891932, 3.2713057 , 2.46402409, 3.74302288, 3.61541503,\n",
              "       2.36409632, 4.2017555 , 2.78143658, 3.83756539, 3.51744311,\n",
              "       3.9263138 , 1.79667519, 3.53955592, 2.13191037, 2.31635369,\n",
              "       3.52119171, 3.0419458 , 2.46875763, 2.18381515, 3.6853607 ,\n",
              "       4.15293477, 2.63973068, 2.143301  , 2.2081183 , 2.80988613,\n",
              "       2.34358796, 4.47195686, 3.14448994, 2.1177368 , 1.8621586 ,\n",
              "       3.59385039, 2.30850887, 4.37353757, 2.16148488, 2.57209276,\n",
              "       2.86928458, 2.74660452, 2.73377804, 2.59707135, 4.30316044,\n",
              "       2.57033356, 2.72495703, 2.70689596, 2.51843879, 1.87656306,\n",
              "       2.43400642, 4.36248137, 3.2581787 , 4.16332413, 4.62767116,\n",
              "       3.60481212, 4.17466568, 3.3572708 , 2.18021463, 2.27269506,\n",
              "       1.79147876, 3.22089141, 2.42815931, 4.08425177, 3.3960544 ,\n",
              "       3.16929816, 1.8169919 , 2.46399101, 2.91866624, 3.88574808,\n",
              "       1.95027475, 4.05588958, 3.95455735, 2.78576865, 2.61329275,\n",
              "       2.50731108, 2.07514904, 3.31059718, 2.59268732, 3.88101389,\n",
              "       3.52703914, 2.37230419, 2.6203559 , 2.67200383, 3.83756539,\n",
              "       3.83212292, 3.72155064, 3.89854556, 2.28302673, 2.6723335 ,\n",
              "       2.26211852, 3.09395547, 3.5605972 , 4.57403731, 2.63582509,\n",
              "       2.13638578, 2.10434908, 3.1327314 , 2.36277995, 1.3898023 ,\n",
              "       2.36974283, 2.77157828, 2.40900029, 3.24477973, 3.16930142,\n",
              "       2.9156653 , 3.96684958, 3.85953283, 3.30475754, 3.89189367,\n",
              "       4.45694505, 3.90494108, 2.61160297, 1.73539253, 1.37064515,\n",
              "       2.86812258, 2.81471479, 2.90893974, 1.99239907, 2.74068039,\n",
              "       2.19130883, 2.77176087, 3.37875624, 2.1664435 , 2.30665793,\n",
              "       2.41900493, 4.83696627, 2.19608991, 4.37353757, 2.30121754,\n",
              "       2.1825981 , 3.89984868, 2.43234183, 2.6324112 , 4.28262024,\n",
              "       2.12796371, 4.54587314, 2.73405477, 2.50906608, 3.48341023,\n",
              "       4.98373082, 2.51507627, 4.03234587, 3.29326899, 2.71248925,\n",
              "       2.68554111, 3.7280616 , 4.34268726, 3.48490088, 4.1679755 ,\n",
              "       4.56976813, 2.48329246, 2.24564934, 4.013372  , 1.93835563,\n",
              "       2.64499339, 2.00468736, 2.3390371 , 2.01327214, 4.32408478,\n",
              "       3.71262702, 2.45875505, 2.39037532, 2.46023966, 4.05921499,\n",
              "       3.19982062, 2.49038487, 2.22040029, 3.88097636, 3.89506152,\n",
              "       3.36192633, 3.06744317, 3.59334767, 1.94276543, 4.3393506 ,\n",
              "       3.60829838, 2.23944946, 4.16870905, 1.84735696, 4.57403731,\n",
              "       2.32424115, 2.20577792, 3.74139522, 3.80585236, 2.00814172,\n",
              "       2.5316874 , 4.19634689, 4.68179227, 2.21208069, 2.61679029,\n",
              "       2.64583328, 2.85597109, 2.79262273, 2.52647771, 1.82135469,\n",
              "       4.34752522, 3.17988207, 1.77327207, 3.58563545, 3.77928673,\n",
              "       4.44337941, 2.69344345, 3.60462726, 4.56976813, 3.86325866,\n",
              "       2.13822656, 2.54189161, 2.65261925, 1.82007712, 4.21673777,\n",
              "       1.6144371 , 2.18801628, 2.72512924, 3.67522369, 4.17466568,\n",
              "       3.89486709, 2.21169119, 2.35500152, 2.72093742, 3.89984868,\n",
              "       4.20052964, 2.47755099, 1.6899731 , 2.18068454, 2.00793345,\n",
              "       2.19283138, 3.30475754, 2.53995073, 2.46845273, 2.14697114,\n",
              "       2.16682146, 2.42473818, 3.79502641, 1.48956543, 2.22070445,\n",
              "       3.13664302, 2.18047747, 3.93723515, 3.77041569, 2.06609177,\n",
              "       4.14596287, 2.52864821, 1.7798766 , 4.22074834, 3.60505934,\n",
              "       3.09958844, 2.7268799 , 3.02469171, 3.11520399, 3.03101629,\n",
              "       2.86073704, 3.6853607 , 1.65920914, 3.27359429, 3.26492256,\n",
              "       4.16119861, 2.48590021, 2.93508208, 3.89854556, 4.01024419,\n",
              "       4.03603697, 1.52485691, 2.27592473, 2.00810048, 2.86623927,\n",
              "       2.18113418, 2.39097145, 4.34752522, 2.77001923, 1.64351439,\n",
              "       3.29026599, 3.24064004, 2.88970685, 4.30661444, 3.69714918,\n",
              "       1.96583015, 3.37735557, 2.30030759, 3.00238883, 2.11201718,\n",
              "       3.42837009, 3.64568771, 3.6763057 , 3.38665292, 2.64944883,\n",
              "       2.39988157, 1.90435897, 4.8068045 , 2.96354806, 1.46708125,\n",
              "       2.25499772, 4.00653509, 2.86161639, 2.38476898, 4.39436799,\n",
              "       3.38131585, 3.99382806, 3.10836643, 3.25247839, 2.98456773,\n",
              "       2.85827768, 2.73967694, 4.54587314, 2.10078862, 2.30381536,\n",
              "       1.58531433, 2.07320153, 2.90223029, 2.07070955, 1.79923169,\n",
              "       1.64641448, 4.46749695, 3.24477973, 3.53891932, 2.37187389,\n",
              "       2.15787422, 3.73949929, 2.83346119, 2.14518022, 2.18499874,\n",
              "       1.6917814 , 4.02172157, 2.28240638, 2.36303313, 1.75476667,\n",
              "       4.45694505, 2.81932314, 2.71897992, 2.0803247 , 1.49154751,\n",
              "       2.38896454, 3.41806007, 2.81748766, 3.70908694, 2.41609995,\n",
              "       3.52837342, 1.79539477, 3.05091477, 3.43157164, 2.36213999,\n",
              "       3.99382806, 2.99888445, 2.91899145, 3.23762989, 3.79322631,\n",
              "       1.80388407, 4.22063792, 2.90406955, 4.30661444, 2.52351636,\n",
              "       2.86570369, 4.30694524, 3.87415182, 3.80740843, 2.19966599,\n",
              "       4.03234587, 2.30724143, 2.72146971, 1.78009521, 3.58404688,\n",
              "       2.62982161, 3.93723515, 2.79594601, 4.50741914, 2.85346487,\n",
              "       2.07234884, 2.98618156, 1.81181937, 1.79192704, 2.3433389 ,\n",
              "       2.87559514, 1.91594536, 2.72460858, 3.18843748, 2.65391896,\n",
              "       2.86004153, 2.89686519, 2.37572298, 3.15190588, 2.81839443,\n",
              "       4.242845  , 2.02745346, 2.3401849 , 2.5609879 , 2.26941212,\n",
              "       2.87568822, 1.91306282, 2.57400341, 2.25672178, 4.67422208,\n",
              "       1.74347972, 2.76422916, 2.23494904, 2.49522192, 3.74302288,\n",
              "       1.61444453, 1.75083919, 3.73091158, 2.77810696, 3.71262702,\n",
              "       3.77041569, 2.04381318, 2.71897992, 3.46467882, 2.79434132,\n",
              "       3.39255454, 1.95259189, 3.13968711, 3.96684958, 3.76955943,\n",
              "       3.46467882, 1.97507092, 2.61119036, 2.42654072, 4.50741914,\n",
              "       2.01028642, 2.28233907, 2.62198103, 3.80058969, 1.57151095,\n",
              "       2.37128826, 3.01469384, 3.1671073 , 3.64943703, 3.19161168,\n",
              "       2.63479299, 4.32487971, 2.15096024, 3.83938842, 2.40176219,\n",
              "       1.44442595, 3.82543403, 1.85227768, 1.95204857, 3.8302374 ,\n",
              "       3.37471893, 2.22645028, 4.21493027, 3.99632123, 2.73442294,\n",
              "       3.39437218, 3.66234595, 3.71933705, 2.75043288, 2.66182702,\n",
              "       2.53564419, 3.83212292, 2.65394194, 3.31196915, 4.56089696,\n",
              "       3.55651282, 2.42853296, 3.71153426, 2.19760497, 3.1131333 ,\n",
              "       2.28584175, 2.5010403 , 4.13092108, 2.31953856, 2.64242986,\n",
              "       2.7233187 , 4.33527235, 3.72376229, 2.55762538, 2.85519404,\n",
              "       1.91870073, 2.55343145, 2.21146266])"
            ]
          },
          "metadata": {},
          "execution_count": 48
        }
      ]
    },
    {
      "cell_type": "code",
      "source": [
        "# Model Accuracy on training dataset\n",
        "print('The lm.score Accuracy  on the training dataset is: ', lm.score(X_train, y_train)*100 )\n",
        "print('The r2_score Accuracy  on the training dataset is: ',r2_score(y_train,y_pred)*100 )   \n",
        "\n",
        "print(\"\")\n",
        "#Model Accuracy on testing dataset\n",
        "print('The Accuracy  on the testing dataset is: ', lm.score(X_test, y_test)*100 )\n",
        "\n",
        "print(\"\")\n",
        "# The Root Mean Squared Error (RMSE)\n",
        "print('The RMSE  on the training dataset is: ',sqrt(mean_squared_error(y_train,y_pred))*100)\n",
        "print('The RMSE  on the testing dataset is: ',sqrt(mean_squared_error(y_test,lm.predict(X_test)))*100)"
      ],
      "metadata": {
        "id": "tpLQMs3vvUeP",
        "outputId": "f71faffb-299d-49a7-b2d7-1767b4c0eac0",
        "colab": {
          "base_uri": "https://localhost:8080/"
        }
      },
      "execution_count": 90,
      "outputs": [
        {
          "output_type": "stream",
          "name": "stdout",
          "text": [
            "The lm.score Accuracy  on the training dataset is:  58.12998055259635\n",
            "The r2_score Accuracy  on the training dataset is:  58.12998055259635\n",
            "\n",
            "The Accuracy  on the testing dataset is:  55.27747251082786\n",
            "\n",
            "The RMSE  on the training dataset is:  70.32156312420219\n",
            "The RMSE  on the testing dataset is:  70.12038148514561\n"
          ]
        }
      ]
    },
    {
      "cell_type": "code",
      "source": [
        ""
      ],
      "metadata": {
        "id": "UTAEZAVh7Yl5"
      },
      "execution_count": null,
      "outputs": []
    },
    {
      "cell_type": "markdown",
      "source": [
        "###(b) Find the coefficients of the predictors"
      ],
      "metadata": {
        "id": "nM9EaHmBC8dN"
      }
    },
    {
      "cell_type": "code",
      "source": [
        "#Coefficients\n",
        "lm.coef_ "
      ],
      "metadata": {
        "colab": {
          "base_uri": "https://localhost:8080/"
        },
        "id": "nyRoYHoR4im8",
        "outputId": "3851add3-a550-4fb6-aef1-610affe17e63"
      },
      "execution_count": 29,
      "outputs": [
        {
          "output_type": "execute_result",
          "data": {
            "text/plain": [
              "array([10.87148945,  3.77717721, -9.97291313, -0.60408975, -1.19470066,\n",
              "        3.43629743, -0.65043432,  1.66355729,  0.92235832,  1.95905329,\n",
              "       -1.2081038 ,  0.54614268, -0.45615011])"
            ]
          },
          "metadata": {},
          "execution_count": 29
        }
      ]
    },
    {
      "cell_type": "code",
      "source": [
        "# The Intercept\n",
        "print('Intercept: ', lm.intercept_)"
      ],
      "metadata": {
        "id": "tCP2HVZ7DeaZ",
        "outputId": "51c3202a-86d2-449c-d68a-6dbfe927b4ca",
        "colab": {
          "base_uri": "https://localhost:8080/"
        }
      },
      "execution_count": 28,
      "outputs": [
        {
          "output_type": "stream",
          "name": "stdout",
          "text": [
            "Intercept:  1.0363542137524617\n"
          ]
        }
      ]
    },
    {
      "cell_type": "code",
      "source": [
        ""
      ],
      "metadata": {
        "id": "soK-oCRK7Zp7"
      },
      "execution_count": null,
      "outputs": []
    },
    {
      "cell_type": "markdown",
      "source": [
        "### (c) Find the R2 and adjusted R2 and analyze the model."
      ],
      "metadata": {
        "id": "VOEm138EsyX7"
      }
    },
    {
      "cell_type": "code",
      "source": [
        "# compute with statsmodels, by adding intercept manually\n",
        "import statsmodels.api as sm\n",
        "X1 = sm.add_constant(X)\n",
        "result = sm.OLS(y, X1).fit()\n",
        "\n",
        "print(\"R-Squared:\" , result.rsquared,end='\\n\\n')\n",
        "print(\"Adjusted-R-Squared\", result.rsquared_adj)\n"
      ],
      "metadata": {
        "colab": {
          "base_uri": "https://localhost:8080/"
        },
        "id": "um41CJxsDSwy",
        "outputId": "f2db4ff7-f233-4c31-d56d-7d2f2fee45fe"
      },
      "execution_count": null,
      "outputs": [
        {
          "output_type": "stream",
          "name": "stdout",
          "text": [
            "R-Squared: 0.5779799596173121\n",
            "\n",
            "Adjusted-R-Squared 0.5713540411088882\n"
          ]
        }
      ]
    },
    {
      "cell_type": "markdown",
      "source": [
        "### (d) Check the model assumption (e.g., Normality, Homoscedasticity, Independence, Lin-earity etc.) and make your comments by analyzing the model and data."
      ],
      "metadata": {
        "id": "C_CuIDGmwBu4"
      }
    },
    {
      "cell_type": "markdown",
      "source": [
        "#### I) Linearity"
      ],
      "metadata": {
        "id": "ao4KBgwG-3d1"
      }
    },
    {
      "cell_type": "code",
      "source": [
        "# Plotting Actuals Vs Predicted\n",
        "\n",
        "plt.figure(figsize=(10,6))\n",
        "\n",
        "plt.scatter(y_train, y_pred, c='blue')\n",
        "\n",
        "#fit a linear line on it\n",
        "plt.plot([y_train.min(), y_train.max()], [y_train.min(), y_train.max()], 'k--', c='red', lw=2)\n",
        "\n",
        "plt.xlabel('Actuals')\n",
        "plt.ylabel('Predicted Values')\n",
        "plt.title('Actuals Vs Predicted Values')"
      ],
      "metadata": {
        "id": "38x03q31wVXM",
        "colab": {
          "base_uri": "https://localhost:8080/",
          "height": 421
        },
        "outputId": "4e1af48c-f0ac-42a2-f811-9b0a61a00a05"
      },
      "execution_count": 158,
      "outputs": [
        {
          "output_type": "execute_result",
          "data": {
            "text/plain": [
              "Text(0.5, 1.0, 'Actuals Vs Predicted Values')"
            ]
          },
          "metadata": {},
          "execution_count": 158
        },
        {
          "output_type": "display_data",
          "data": {
            "image/png": "[encoded data removed]",
            "text/plain": [
              "<Figure size 720x432 with 1 Axes>"
            ]
          },
          "metadata": {
            "needs_background": "light"
          }
        }
      ]
    },
    {
      "cell_type": "markdown",
      "source": [
        "Assumption not satisfied\n",
        "\n",
        "We can see that there is no perfect linear relationship. Our predictions are biased towards lower values in both the lower end (around 0-1) and especially at the higher values (above 5)"
      ],
      "metadata": {
        "id": "Kgs9GHsM_1Va"
      }
    },
    {
      "cell_type": "markdown",
      "source": [
        "#### 2.Normality Check"
      ],
      "metadata": {
        "id": "Nyh58QJOAu3z"
      }
    },
    {
      "cell_type": "code",
      "source": [
        "res = (y_train-y_pred)"
      ],
      "metadata": {
        "id": "kx8Uv9fiCKe2"
      },
      "execution_count": 160,
      "outputs": []
    },
    {
      "cell_type": "code",
      "source": [
        "plt.figure(figsize=(10,7))\n",
        "\n",
        "sns.histplot(data=df1, x=res, kde=True )\n",
        "\n",
        "plt.xlabel('Actual PM2.5')\n",
        "plt.ylabel('Residuals')\n",
        "plt.title('Actuals Vs Residuals')"
      ],
      "metadata": {
        "id": "yJWSqirNwVbF",
        "colab": {
          "base_uri": "https://localhost:8080/",
          "height": 475
        },
        "outputId": "635fad11-b706-433c-af59-bd7619cc6505"
      },
      "execution_count": 165,
      "outputs": [
        {
          "output_type": "execute_result",
          "data": {
            "text/plain": [
              "Text(0.5, 1.0, 'Actuals Vs Residuals')"
            ]
          },
          "metadata": {},
          "execution_count": 165
        },
        {
          "output_type": "display_data",
          "data": {
            "image/png": "[encoded data removed]",
            "text/plain": [
              "<Figure size 720x504 with 1 Axes>"
            ]
          },
          "metadata": {
            "needs_background": "light"
          }
        }
      ]
    },
    {
      "cell_type": "markdown",
      "source": [
        "Assumption not satisfied\n",
        "\n",
        "Confidence intervals will likely be affected\n",
        "\n",
        "This isn’t ideal, and we can see that our model is biasing towards the lower part."
      ],
      "metadata": {
        "id": "B65fIsoTDUMX"
      }
    },
    {
      "cell_type": "markdown",
      "source": [
        "#### 3.No Multicollinearity among Predictors"
      ],
      "metadata": {
        "id": "bUink0qOD-by"
      }
    },
    {
      "cell_type": "markdown",
      "source": [
        "Assumption not satisfied\n",
        "\n",
        "We have show previously, there is a lot of multicolinearity exhibit"
      ],
      "metadata": {
        "id": "yipnp_-fEGBf"
      }
    },
    {
      "cell_type": "markdown",
      "source": [
        "#### 4.Homoscedasticity"
      ],
      "metadata": {
        "id": "5wi6Cs-jE9vo"
      }
    },
    {
      "cell_type": "code",
      "source": [
        "# Ploting Residuals\n",
        "\n",
        "plt.figure(figsize=(10,7))\n",
        "\n",
        "sns.residplot(y_train, y_pred, color='red')\n",
        "\n",
        "plt.xlabel('Actual Revenue')\n",
        "plt.ylabel('Residuals')\n",
        "plt.title('Actuals Vs Residuals')"
      ],
      "metadata": {
        "colab": {
          "base_uri": "https://localhost:8080/",
          "height": 530
        },
        "id": "nVW5VIVAE-7S",
        "outputId": "e1d5ce56-a80b-45db-a60b-dd28f890ab16"
      },
      "execution_count": 164,
      "outputs": [
        {
          "output_type": "stream",
          "name": "stderr",
          "text": [
            "/usr/local/lib/python3.7/dist-packages/seaborn/_decorators.py:43: FutureWarning: Pass the following variables as keyword args: x, y. From version 0.12, the only valid positional argument will be `data`, and passing other arguments without an explicit keyword will result in an error or misinterpretation.\n",
            "  FutureWarning\n"
          ]
        },
        {
          "output_type": "execute_result",
          "data": {
            "text/plain": [
              "Text(0.5, 1.0, 'Actuals Vs Residuals')"
            ]
          },
          "metadata": {},
          "execution_count": 164
        },
        {
          "output_type": "display_data",
          "data": {
            "image/png": "[encoded data removed]",
            "text/plain": [
              "<Figure size 720x504 with 1 Axes>"
            ]
          },
          "metadata": {
            "needs_background": "light"
          }
        }
      ]
    },
    {
      "cell_type": "markdown",
      "source": [
        "Assumption not satisfied\n",
        "\n",
        "Since we don’t have an even variance across the error terms."
      ],
      "metadata": {
        "id": "kJujfaAeFiz6"
      }
    },
    {
      "cell_type": "markdown",
      "source": [
        "#### 5. No autocorrelation of residuals"
      ],
      "metadata": {
        "id": "fBuIGJT2Hrhk"
      }
    },
    {
      "cell_type": "code",
      "source": [
        "import statsmodels.tsa.api as smt\n",
        "\n",
        "acf = smt.graphics.plot_acf(res, lags=40 , alpha=0.05)\n",
        "acf.show()"
      ],
      "metadata": {
        "colab": {
          "base_uri": "https://localhost:8080/",
          "height": 298
        },
        "id": "lvpdbqPdHG5m",
        "outputId": "7be9b6cf-f102-4fa5-df19-d87d11cb061d"
      },
      "execution_count": 169,
      "outputs": [
        {
          "output_type": "display_data",
          "data": {
            "text/plain": [
              "<Figure size 864x432 with 0 Axes>"
            ]
          },
          "metadata": {}
        },
        {
          "output_type": "display_data",
          "data": {
            "image/png": "[encoded data removed]",
            "text/plain": [
              "<Figure size 432x288 with 1 Axes>"
            ]
          },
          "metadata": {
            "needs_background": "light"
          }
        }
      ]
    },
    {
      "cell_type": "markdown",
      "source": [
        "Assumption satisfied\n",
        "\n",
        "No Autocorrelation"
      ],
      "metadata": {
        "id": "qieQHYV6JHbs"
      }
    },
    {
      "cell_type": "code",
      "source": [
        ""
      ],
      "metadata": {
        "id": "5Y1AY-0MJGa1"
      },
      "execution_count": null,
      "outputs": []
    },
    {
      "cell_type": "markdown",
      "source": [
        "### (e) (Outlier detection) Identify outliers that are outlying in terms of predictors and response. Comment on the outlying players."
      ],
      "metadata": {
        "id": "vCTlF01MwPYa"
      }
    },
    {
      "cell_type": "code",
      "source": [
        "#Checking Predictors for outliers\n",
        "\n",
        "plt.figure(figsize=(18,15))\n",
        "\n",
        "df = pd.DataFrame(data=df1, columns=['NitricOxide', 'NitrogenDioxide', 'OxidesofNitrogen', 'Ozone',\n",
        "       'WindSpeed', 'ResultantWindSpeed', 'ResultantWindDirection',\n",
        "       'MaximumWindGust', 'Std.Dev.WindDirection', 'OutdoorTemperature',\n",
        "       'DewPointTemperature', 'RelativeHumidity', 'SolarRadiation'])\n",
        "\n",
        "sns.boxplot(y=\"variable\", x=\"value\", data=pd.melt(df), width= 0.5)\n",
        "plt.show()"
      ],
      "metadata": {
        "outputId": "e488e3fe-1fd3-48ed-9d29-40f33f6e8afd",
        "colab": {
          "base_uri": "https://localhost:8080/",
          "height": 877
        },
        "id": "JULo23k32f0z"
      },
      "execution_count": null,
      "outputs": [
        {
          "output_type": "display_data",
          "data": {
            "image/png": "[encoded data removed]",
            "text/plain": [
              "<Figure size 1296x1080 with 1 Axes>"
            ]
          },
          "metadata": {
            "needs_background": "light"
          }
        }
      ]
    },
    {
      "cell_type": "markdown",
      "source": [
        "These predictors exhibit outliers, and this contributed to the poor model evaluation score\n",
        "\n",
        "NitricOxide,  'NitrogenDioxide',  Std.Dev.WindDirection, 'OxidesofNitrogen', DewPointTemperature', 'RelativeHumidity"
      ],
      "metadata": {
        "id": "ykW6nDLI345j"
      }
    },
    {
      "cell_type": "code",
      "source": [
        "#Check Response for outlier\n",
        "plt.figure(figsize=(8,2))\n",
        "sns.boxplot(x = 'log_PM2.5', data=df1)"
      ],
      "metadata": {
        "id": "nyTzF6-70934",
        "outputId": "c08815fc-fbab-480b-ca49-c26a468ebd05",
        "colab": {
          "base_uri": "https://localhost:8080/",
          "height": 189
        }
      },
      "execution_count": null,
      "outputs": [
        {
          "output_type": "execute_result",
          "data": {
            "text/plain": [
              "<matplotlib.axes._subplots.AxesSubplot at 0x7f903f4f3090>"
            ]
          },
          "metadata": {},
          "execution_count": 58
        },
        {
          "output_type": "display_data",
          "data": {
            "image/png": "[encoded data removed]",
            "text/plain": [
              "<Figure size 576x144 with 1 Axes>"
            ]
          },
          "metadata": {
            "needs_background": "light"
          }
        }
      ]
    },
    {
      "cell_type": "markdown",
      "source": [
        "The response exhibit outliers below value 0"
      ],
      "metadata": {
        "id": "ZZ8Dg81G4r4v"
      }
    },
    {
      "cell_type": "code",
      "source": [
        ""
      ],
      "metadata": {
        "id": "1ZVyfrJjoPxl"
      },
      "execution_count": null,
      "outputs": []
    },
    {
      "cell_type": "markdown",
      "source": [
        "# 3. Comparison:"
      ],
      "metadata": {
        "id": "667qILbp5mjO"
      }
    },
    {
      "cell_type": "markdown",
      "source": [
        "### (a) Fit the model where the predictors are NitrogenDioxide, ResultantWindSpeed, Re-sultantWindDirection, MaximumWindGust, Std.Dev.WindDirection, OutdoorTem-perature, DewPointTemperature, and SolarRadiation."
      ],
      "metadata": {
        "id": "kKzhIWpK5vnk"
      }
    },
    {
      "cell_type": "code",
      "source": [
        "df2 = df1[['NitrogenDioxide', 'ResultantWindSpeed', 'ResultantWindDirection','MaximumWindGust',\n",
        "          'Std.Dev.WindDirection','OutdoorTemperature','DewPointTemperature', 'SolarRadiation']]"
      ],
      "metadata": {
        "id": "rYw3CQ1O173v"
      },
      "execution_count": 82,
      "outputs": []
    },
    {
      "cell_type": "code",
      "source": [
        "df2.head()"
      ],
      "metadata": {
        "id": "IM4nma7N6huJ",
        "outputId": "6b1e2de5-1bed-4131-e2c3-59c68f0b1307",
        "colab": {
          "base_uri": "https://localhost:8080/",
          "height": 250
        }
      },
      "execution_count": 83,
      "outputs": [
        {
          "output_type": "execute_result",
          "data": {
            "text/html": [
              "\n",
              "  <div id=\"df-eb3be435-2f24-4e23-b529-fc149c51da4b\">\n",
              "    <div class=\"colab-df-container\">\n",
              "      <div>\n",
              "<style scoped>\n",
              "    .dataframe tbody tr th:only-of-type {\n",
              "        vertical-align: middle;\n",
              "    }\n",
              "\n",
              "    .dataframe tbody tr th {\n",
              "        vertical-align: top;\n",
              "    }\n",
              "\n",
              "    .dataframe thead th {\n",
              "        text-align: right;\n",
              "    }\n",
              "</style>\n",
              "<table border=\"1\" class=\"dataframe\">\n",
              "  <thead>\n",
              "    <tr style=\"text-align: right;\">\n",
              "      <th></th>\n",
              "      <th>NitrogenDioxide</th>\n",
              "      <th>ResultantWindSpeed</th>\n",
              "      <th>ResultantWindDirection</th>\n",
              "      <th>MaximumWindGust</th>\n",
              "      <th>Std.Dev.WindDirection</th>\n",
              "      <th>OutdoorTemperature</th>\n",
              "      <th>DewPointTemperature</th>\n",
              "      <th>SolarRadiation</th>\n",
              "    </tr>\n",
              "  </thead>\n",
              "  <tbody>\n",
              "    <tr>\n",
              "      <th>0</th>\n",
              "      <td>0.531768</td>\n",
              "      <td>0.047468</td>\n",
              "      <td>0.594972</td>\n",
              "      <td>0.059140</td>\n",
              "      <td>0.445946</td>\n",
              "      <td>0.540264</td>\n",
              "      <td>0.421555</td>\n",
              "      <td>0.000000</td>\n",
              "    </tr>\n",
              "    <tr>\n",
              "      <th>1</th>\n",
              "      <td>0.075967</td>\n",
              "      <td>0.715190</td>\n",
              "      <td>0.765363</td>\n",
              "      <td>0.684588</td>\n",
              "      <td>0.108108</td>\n",
              "      <td>0.814056</td>\n",
              "      <td>0.544338</td>\n",
              "      <td>0.707006</td>\n",
              "    </tr>\n",
              "    <tr>\n",
              "      <th>2</th>\n",
              "      <td>0.080110</td>\n",
              "      <td>0.734177</td>\n",
              "      <td>0.779330</td>\n",
              "      <td>0.718638</td>\n",
              "      <td>0.081081</td>\n",
              "      <td>0.825769</td>\n",
              "      <td>0.515689</td>\n",
              "      <td>0.535669</td>\n",
              "    </tr>\n",
              "    <tr>\n",
              "      <th>3</th>\n",
              "      <td>0.078729</td>\n",
              "      <td>0.781646</td>\n",
              "      <td>0.782123</td>\n",
              "      <td>0.745520</td>\n",
              "      <td>0.054054</td>\n",
              "      <td>0.818448</td>\n",
              "      <td>0.499318</td>\n",
              "      <td>0.324204</td>\n",
              "    </tr>\n",
              "    <tr>\n",
              "      <th>4</th>\n",
              "      <td>0.135359</td>\n",
              "      <td>0.781646</td>\n",
              "      <td>0.784916</td>\n",
              "      <td>0.752688</td>\n",
              "      <td>0.040541</td>\n",
              "      <td>0.421669</td>\n",
              "      <td>0.283765</td>\n",
              "      <td>0.286624</td>\n",
              "    </tr>\n",
              "  </tbody>\n",
              "</table>\n",
              "</div>\n",
              "      <button class=\"colab-df-convert\" onclick=\"convertToInteractive('df-eb3be435-2f24-4e23-b529-fc149c51da4b')\"\n",
              "              title=\"Convert this dataframe to an interactive table.\"\n",
              "              style=\"display:none;\">\n",
              "        \n",
              "  <svg xmlns=\"http://www.w3.org/2000/svg\" height=\"24px\"viewBox=\"0 0 24 24\"\n",
              "       width=\"24px\">\n",
              "    <path d=\"M0 0h24v24H0V0z\" fill=\"none\"/>\n",
              "    <path d=\"M18.56 5.44l.94 2.06.94-2.06 2.06-.94-2.06-.94-.94-2.06-.94 2.06-2.06.94zm-11 1L8.5 8.5l.94-2.06 2.06-.94-2.06-.94L8.5 2.5l-.94 2.06-2.06.94zm10 10l.94 2.06.94-2.06 2.06-.94-2.06-.94-.94-2.06-.94 2.06-2.06.94z\"/><path d=\"M17.41 7.96l-1.37-1.37c-.4-.4-.92-.59-1.43-.59-.52 0-1.04.2-1.43.59L10.3 9.45l-7.72 7.72c-.78.78-.78 2.05 0 2.83L4 21.41c.39.39.9.59 1.41.59.51 0 1.02-.2 1.41-.59l7.78-7.78 2.81-2.81c.8-.78.8-2.07 0-2.86zM5.41 20L4 18.59l7.72-7.72 1.47 1.35L5.41 20z\"/>\n",
              "  </svg>\n",
              "      </button>\n",
              "      \n",
              "  <style>\n",
              "    .colab-df-container {\n",
              "      display:flex;\n",
              "      flex-wrap:wrap;\n",
              "      gap: 12px;\n",
              "    }\n",
              "\n",
              "    .colab-df-convert {\n",
              "      background-color: #E8F0FE;\n",
              "      border: none;\n",
              "      border-radius: 50%;\n",
              "      cursor: pointer;\n",
              "      display: none;\n",
              "      fill: #1967D2;\n",
              "      height: 32px;\n",
              "      padding: 0 0 0 0;\n",
              "      width: 32px;\n",
              "    }\n",
              "\n",
              "    .colab-df-convert:hover {\n",
              "      background-color: #E2EBFA;\n",
              "      box-shadow: 0px 1px 2px rgba(60, 64, 67, 0.3), 0px 1px 3px 1px rgba(60, 64, 67, 0.15);\n",
              "      fill: #174EA6;\n",
              "    }\n",
              "\n",
              "    [theme=dark] .colab-df-convert {\n",
              "      background-color: #3B4455;\n",
              "      fill: #D2E3FC;\n",
              "    }\n",
              "\n",
              "    [theme=dark] .colab-df-convert:hover {\n",
              "      background-color: #434B5C;\n",
              "      box-shadow: 0px 1px 3px 1px rgba(0, 0, 0, 0.15);\n",
              "      filter: drop-shadow(0px 1px 2px rgba(0, 0, 0, 0.3));\n",
              "      fill: #FFFFFF;\n",
              "    }\n",
              "  </style>\n",
              "\n",
              "      <script>\n",
              "        const buttonEl =\n",
              "          document.querySelector('#df-eb3be435-2f24-4e23-b529-fc149c51da4b button.colab-df-convert');\n",
              "        buttonEl.style.display =\n",
              "          google.colab.kernel.accessAllowed ? 'block' : 'none';\n",
              "\n",
              "        async function convertToInteractive(key) {\n",
              "          const element = document.querySelector('#df-eb3be435-2f24-4e23-b529-fc149c51da4b');\n",
              "          const dataTable =\n",
              "            await google.colab.kernel.invokeFunction('convertToInteractive',\n",
              "                                                     [key], {});\n",
              "          if (!dataTable) return;\n",
              "\n",
              "          const docLinkHtml = 'Like what you see? Visit the ' +\n",
              "            '<a target=\"_blank\" href=https://colab.research.google.com/notebooks/data_table.ipynb>data table notebook</a>'\n",
              "            + ' to learn more about interactive tables.';\n",
              "          element.innerHTML = '';\n",
              "          dataTable['output_type'] = 'display_data';\n",
              "          await google.colab.output.renderOutput(dataTable, element);\n",
              "          const docLink = document.createElement('div');\n",
              "          docLink.innerHTML = docLinkHtml;\n",
              "          element.appendChild(docLink);\n",
              "        }\n",
              "      </script>\n",
              "    </div>\n",
              "  </div>\n",
              "  "
            ],
            "text/plain": [
              "   NitrogenDioxide  ResultantWindSpeed  ResultantWindDirection  \\\n",
              "0         0.531768            0.047468                0.594972   \n",
              "1         0.075967            0.715190                0.765363   \n",
              "2         0.080110            0.734177                0.779330   \n",
              "3         0.078729            0.781646                0.782123   \n",
              "4         0.135359            0.781646                0.784916   \n",
              "\n",
              "   MaximumWindGust  Std.Dev.WindDirection  OutdoorTemperature  \\\n",
              "0         0.059140               0.445946            0.540264   \n",
              "1         0.684588               0.108108            0.814056   \n",
              "2         0.718638               0.081081            0.825769   \n",
              "3         0.745520               0.054054            0.818448   \n",
              "4         0.752688               0.040541            0.421669   \n",
              "\n",
              "   DewPointTemperature  SolarRadiation  \n",
              "0             0.421555        0.000000  \n",
              "1             0.544338        0.707006  \n",
              "2             0.515689        0.535669  \n",
              "3             0.499318        0.324204  \n",
              "4             0.283765        0.286624  "
            ]
          },
          "metadata": {},
          "execution_count": 83
        }
      ]
    },
    {
      "cell_type": "code",
      "source": [
        "type(df2)"
      ],
      "metadata": {
        "id": "qv9zZ20A6-we",
        "outputId": "41c0c168-bbeb-4e9a-8a88-4398b7ab29e3",
        "colab": {
          "base_uri": "https://localhost:8080/"
        }
      },
      "execution_count": null,
      "outputs": [
        {
          "output_type": "execute_result",
          "data": {
            "text/plain": [
              "pandas.core.frame.DataFrame"
            ]
          },
          "metadata": {},
          "execution_count": 107
        }
      ]
    },
    {
      "cell_type": "code",
      "source": [
        "X2 =  df2.values\n",
        "y2 = df1['log_PM2.5']"
      ],
      "metadata": {
        "id": "D_Xf-8fh-SzD"
      },
      "execution_count": 91,
      "outputs": []
    },
    {
      "cell_type": "code",
      "source": [
        "type(X2)"
      ],
      "metadata": {
        "id": "GAw6IBR9-Zj5",
        "outputId": "3a80c457-b29a-4e71-f38a-c7c54b850ab4",
        "colab": {
          "base_uri": "https://localhost:8080/"
        }
      },
      "execution_count": null,
      "outputs": [
        {
          "output_type": "execute_result",
          "data": {
            "text/plain": [
              "numpy.ndarray"
            ]
          },
          "metadata": {},
          "execution_count": 109
        }
      ]
    },
    {
      "cell_type": "code",
      "source": [
        "#Split the data into training and testing set\n",
        "X_train2, X_test2, y_train2, y_test2 = train_test_split(X2, y2, train_size=0.80, test_size = 0.2, random_state=15)\n",
        "\n",
        "# Training the Regression\n",
        "lm2 = LinearRegression(fit_intercept = True)     \n",
        "lm2.fit(X_train2, y_train2)\n",
        "\n",
        "#Prediction\n",
        "y_pred2 = lm2.predict(X_train2)"
      ],
      "metadata": {
        "id": "15qYzCOQ7FxG"
      },
      "execution_count": 92,
      "outputs": []
    },
    {
      "cell_type": "code",
      "source": [
        "y_pred2"
      ],
      "metadata": {
        "colab": {
          "base_uri": "https://localhost:8080/"
        },
        "id": "kK7IovMBje8a",
        "outputId": "d28f6702-23ac-486f-ae3a-5ee34e3b22a3"
      },
      "execution_count": 86,
      "outputs": [
        {
          "output_type": "execute_result",
          "data": {
            "text/plain": [
              "array([1.9715137 , 1.93967124, 2.39381153, 2.12456593, 1.94290168,\n",
              "       2.77385067, 2.78228394, 2.4099519 , 2.53071115, 2.68038556,\n",
              "       2.46563937, 1.97645227, 3.45002178, 4.08842964, 3.95832668,\n",
              "       1.89175732, 3.03416596, 2.75341879, 1.99694993, 3.99556596,\n",
              "       2.70125665, 2.34966081, 3.51475325, 4.37684889, 3.80056176,\n",
              "       2.42132656, 2.26591774, 4.2106148 , 3.83612632, 2.32072617,\n",
              "       2.63357683, 3.63344802, 1.84671929, 3.17324133, 3.97795383,\n",
              "       2.39009014, 4.10714267, 2.11462969, 3.3433881 , 4.4176614 ,\n",
              "       3.98673367, 3.38770236, 1.90818802, 2.44790499, 2.67606727,\n",
              "       1.84839397, 2.88380837, 3.57401145, 2.68248341, 3.78894154,\n",
              "       2.19952797, 4.28639432, 2.7987379 , 3.24945527, 3.57414818,\n",
              "       2.30342197, 2.73449958, 2.24890524, 1.53993075, 3.12889151,\n",
              "       3.04315975, 2.8334164 , 3.90329242, 1.77189517, 3.53558065,\n",
              "       2.33842723, 3.50577597, 2.55186271, 2.74024982, 1.76109301,\n",
              "       1.96634257, 3.58167006, 2.44754773, 3.03416596, 2.76976158,\n",
              "       2.2622704 , 3.78894154, 3.80373686, 2.62099943, 3.12476555,\n",
              "       3.68182757, 3.45604377, 2.9100417 , 1.37955226, 2.12648059,\n",
              "       2.07530613, 3.65282058, 1.83585798, 2.80152623, 1.85717056,\n",
              "       2.21962314, 2.54687897, 3.69449452, 3.86957847, 1.88065725,\n",
              "       3.69449452, 1.87131768, 1.50491967, 2.73418172, 3.43039744,\n",
              "       2.31338017, 1.83942166, 1.83126841, 1.7243177 , 2.96829781,\n",
              "       4.04079259, 3.09827542, 2.88600269, 2.63491233, 1.89348054,\n",
              "       2.78292379, 2.58657075, 2.29230191, 3.62273824, 3.0131875 ,\n",
              "       2.83014808, 1.99982047, 3.36590361, 1.88276351, 2.28783752,\n",
              "       2.089712  , 3.00042552, 3.40282037, 4.29838205, 3.89058646,\n",
              "       2.93813042, 2.3463293 , 3.99475254, 3.13208166, 2.0113908 ,\n",
              "       2.21631858, 2.6094556 , 3.40845179, 1.89790162, 4.04079259,\n",
              "       2.83171156, 2.96736577, 3.54831984, 2.68965134, 2.47223725,\n",
              "       4.12055521, 2.57307718, 2.30466014, 3.48696019, 2.43195552,\n",
              "       3.61486061, 1.8902572 , 1.56364174, 4.47272568, 2.11799544,\n",
              "       2.05770019, 3.97382962, 4.31599371, 2.61015928, 2.47220427,\n",
              "       3.08088914, 3.80373686, 2.5148451 , 4.03199405, 3.63856171,\n",
              "       3.54111703, 3.2760686 , 3.50152662, 3.30294156, 1.53525013,\n",
              "       2.89020468, 2.58774963, 2.6524306 , 2.21822925, 2.71458137,\n",
              "       2.49815013, 2.33191524, 2.97033498, 2.13194172, 4.71025226,\n",
              "       4.12055521, 3.88089289, 1.87349586, 2.59797396, 2.25498601,\n",
              "       3.18124645, 3.24494739, 3.31402576, 4.0864123 , 2.57963577,\n",
              "       2.96529547, 3.21246807, 2.37558969, 2.8467987 , 2.73846902,\n",
              "       2.05996144, 3.33226926, 1.88961088, 4.01186399, 2.29880542,\n",
              "       3.45958094, 3.57879769, 2.16689763, 3.29912668, 1.29372257,\n",
              "       3.46841487, 1.74669271, 2.43833217, 2.39232787, 4.3656435 ,\n",
              "       4.01789299, 3.19947181, 2.55817179, 1.53416741, 2.01127804,\n",
              "       3.32267689, 3.17544934, 2.30339494, 3.71790714, 3.53126311,\n",
              "       2.1452668 , 4.2106148 , 2.7906129 , 3.48994925, 3.38004548,\n",
              "       3.77943163, 1.77963216, 3.93846835, 2.16967549, 1.9971211 ,\n",
              "       3.46853077, 3.09946171, 2.46001712, 1.90713145, 3.55174195,\n",
              "       5.56742751, 2.73135368, 2.42491878, 2.29437838, 2.87410145,\n",
              "       2.16147247, 4.37684889, 3.2636804 , 2.25625232, 1.94014371,\n",
              "       3.86536477, 2.39227747, 4.37729452, 2.02923798, 2.73010907,\n",
              "       3.13193737, 3.1057069 , 2.83547383, 2.59367689, 3.99556596,\n",
              "       2.47900502, 1.9800359 , 2.9760741 , 2.47220427, 1.97157419,\n",
              "       2.51318092, 3.46245138, 3.15569238, 4.06462535, 3.63344802,\n",
              "       2.94903958, 4.12816523, 3.18430251, 2.28745996, 2.21225102,\n",
              "       1.88336134, 3.29004585, 2.74900364, 3.75735127, 3.43864376,\n",
              "       3.57507729, 2.03918532, 2.54995167, 3.11017157, 4.10714267,\n",
              "       1.99551415, 5.22923042, 3.89649595, 2.76184484, 2.36021618,\n",
              "       2.72091331, 1.95799327, 3.09623748, 2.49614705, 3.25542064,\n",
              "       3.3920246 , 2.4193853 , 2.70211885, 2.94809582, 3.48994925,\n",
              "       3.8409826 , 3.0780259 , 4.07315713, 2.40016196, 2.94249141,\n",
              "       2.22672937, 2.95920253, 3.41868035, 4.58311316, 2.73283272,\n",
              "       2.1341677 , 2.03446994, 3.23350587, 2.46175271, 1.39997514,\n",
              "       2.28435079, 2.42731897, 2.74628829, 3.51798604, 2.97663147,\n",
              "       3.10189737, 3.95420224, 3.94375941, 3.6928615 , 3.83969845,\n",
              "       4.58349804, 3.99475254, 2.88597484, 2.07062861, 1.56587574,\n",
              "       2.43775695, 2.8765129 , 2.70738443, 2.04491718, 2.62960063,\n",
              "       2.22383476, 2.97093334, 3.34518421, 2.12802217, 2.23010382,\n",
              "       2.34467257, 3.70961084, 2.14661665, 4.37729452, 2.29907921,\n",
              "       2.32072617, 4.0355566 , 2.36570585, 2.6063451 , 3.51475325,\n",
              "       2.14434181, 4.61014301, 2.78092402, 2.55767753, 2.96013933,\n",
              "       4.83584051, 2.46543313, 3.238949  , 2.96472339, 2.77614107,\n",
              "       2.93806515, 3.85437788, 4.28030527, 3.37601337, 3.57401145,\n",
              "       4.71773025, 2.6189235 , 2.27751179, 3.93490487, 2.01479424,\n",
              "       2.7309874 , 2.16998012, 2.21894303, 1.98370099, 4.47272568,\n",
              "       3.81533644, 2.5042667 , 2.38007271, 2.59031658, 4.01218383,\n",
              "       3.52560891, 2.51140677, 2.28529411, 4.06354059, 3.89058646,\n",
              "       3.54025955, 3.05983859, 3.44736254, 2.34909779, 3.46613289,\n",
              "       3.27179422, 2.01245489, 4.08842964, 1.86361983, 4.58311316,\n",
              "       2.46530098, 2.58861616, 3.72174915, 3.54246797, 1.96606405,\n",
              "       2.31719403, 4.27723638, 4.60762502, 2.28052139, 2.65773473,\n",
              "       3.07382165, 2.78963542, 2.79215836, 2.75513898, 1.81321057,\n",
              "       4.30626293, 3.01656543, 1.88280667, 3.54189121, 3.52699961,\n",
              "       4.50726971, 2.86686488, 3.62953683, 4.71773025, 3.58768819,\n",
              "       2.66568336, 2.54883453, 2.53892974, 1.85254324, 4.17370035,\n",
              "       1.84473972, 2.29686489, 2.58912545, 3.37962798, 4.12816523,\n",
              "       3.61354076, 2.1115816 , 2.37341369, 2.64845252, 4.0355566 ,\n",
              "       3.90211971, 2.28359173, 1.76180963, 2.24243555, 2.04896593,\n",
              "       2.05171656, 3.6928615 , 2.78228394, 2.85797262, 2.51867997,\n",
              "       2.33907711, 2.70668023, 3.52514231, 1.51253064, 2.33142106,\n",
              "       3.08683238, 2.30466507, 3.91431937, 3.84256367, 2.37436831,\n",
              "       3.39521896, 2.47038198, 1.69027656, 4.07993979, 3.42689044,\n",
              "       3.5192194 , 2.6524306 , 2.91717993, 3.29700251, 2.88905095,\n",
              "       2.7393144 , 3.55174195, 1.74031358, 3.30720038, 3.36590361,\n",
              "       3.64223764, 2.54070682, 2.93354062, 4.07315713, 4.19120685,\n",
              "       3.79450436, 1.50330732, 2.60943879, 2.10617066, 2.76529975,\n",
              "       2.41359502, 2.48350639, 4.30626293, 2.73943133, 1.71028012,\n",
              "       3.14983317, 3.08088914, 2.91955257, 4.44730727, 3.89644429,\n",
              "       2.02742938, 3.41708671, 2.26949903, 2.7574984 , 2.46293003,\n",
              "       3.22055643, 3.72543426, 3.57364242, 3.17741893, 2.60262436,\n",
              "       2.72123834, 1.68560927, 4.79132908, 2.76962282, 1.53748946,\n",
              "       2.41948402, 4.01789299, 2.99583728, 2.58896448, 3.51017986,\n",
              "       3.38026366, 3.98323467, 2.90104385, 3.41122313, 3.07849528,\n",
              "       3.19718648, 2.75222896, 4.61014301, 2.29437132, 2.69528794,\n",
              "       1.60806487, 2.12270963, 2.79838275, 2.06531326, 1.80036895,\n",
              "       1.71378397, 4.63862996, 3.51798604, 3.32267689, 2.34454585,\n",
              "       2.09644368, 4.03199405, 3.03938394, 2.17103959, 2.13667244,\n",
              "       1.75269254, 4.05556556, 2.52764324, 2.49468227, 2.01670956,\n",
              "       4.58349804, 3.17437424, 2.73371116, 2.28200277, 1.66458056,\n",
              "       2.72778136, 3.43746474, 2.97190611, 3.22328564, 2.41445976,\n",
              "       3.48002973, 1.83249728, 3.43489831, 3.56962882, 2.57305925,\n",
              "       3.98323467, 3.61471647, 2.88120078, 3.50152662, 3.23749545,\n",
              "       2.21394783, 4.12581261, 3.04713886, 4.44730727, 2.61310153,\n",
              "       2.15781513, 3.41631537, 3.75818401, 3.6260927 , 2.21096624,\n",
              "       3.238949  , 2.21758158, 2.78532687, 1.87106164, 3.6255854 ,\n",
              "       2.64724112, 3.91431937, 2.8951397 , 4.40409049, 3.37281744,\n",
              "       2.30901461, 3.02254548, 1.87459273, 1.81784768, 2.38596775,\n",
              "       2.88094424, 1.95240098, 2.12005392, 3.44103996, 3.06708174,\n",
              "       2.73949452, 2.63582537, 2.3898693 , 3.17565067, 2.87410145,\n",
              "       4.17872985, 1.96269133, 2.65135796, 2.67508864, 2.39674159,\n",
              "       2.7984868 , 1.98851168, 2.63824745, 2.14009556, 4.55087113,\n",
              "       1.82952329, 2.71789841, 2.30530852, 2.61429315, 3.71790714,\n",
              "       1.61786424, 1.85767653, 3.65960905, 2.87156241, 3.81533644,\n",
              "       3.84256367, 2.11131016, 2.73371116, 3.56987437, 2.67423008,\n",
              "       3.41842896, 1.96329913, 3.014134  , 3.95420224, 3.6321333 ,\n",
              "       3.56987437, 2.02679645, 2.81708735, 2.37878063, 4.40409049,\n",
              "       2.08023948, 2.66582817, 2.09052735, 3.90575176, 1.60182998,\n",
              "       2.24750319, 3.1935582 , 3.46841487, 3.38770236, 2.82847021,\n",
              "       2.67401613, 3.193593  , 1.9768521 , 3.53542178, 2.35489406,\n",
              "       1.55984461, 3.97795383, 1.78526138, 1.99592269, 3.73070334,\n",
              "       3.21580155, 2.4741182 , 5.55030636, 3.83148483, 2.73870976,\n",
              "       3.41708671, 3.15980748, 3.66237223, 2.86087615, 2.65274658,\n",
              "       2.70188425, 3.8409826 , 2.8283598 , 3.36603998, 3.88428999,\n",
              "       3.47972523, 2.50695783, 3.35020091, 2.18422996, 3.34815124,\n",
              "       2.21815334, 2.514176  , 4.10840012, 2.44102174, 2.73418172,\n",
              "       2.93429547, 3.74200723, 4.08638315, 2.60672978, 2.77665021,\n",
              "       2.10326302, 2.71568208, 2.16634493])"
            ]
          },
          "metadata": {},
          "execution_count": 86
        }
      ]
    },
    {
      "cell_type": "code",
      "source": [
        "# Model Accuracy on training dataset\n",
        "print('The lm.score Accuracy  on the training dataset is: ', lm2.score(X_train2, y_train2)*100 )\n",
        "print('The r2_score Accuracy  on the training dataset is: ',r2_score(y_train2,y_pred2)*100 )   \n",
        "\n",
        "print(\"\")\n",
        "#Model Accuracy on testing dataset\n",
        "print('The Accuracy  on the testing dataset is: ', lm2.score(X_test2, y_test2)*100 )\n",
        "\n",
        "print(\"\")\n",
        "# The Root Mean Squared Error (RMSE)\n",
        "print('The RMSE  on the training dataset is: ',sqrt(mean_squared_error(y_train2,y_pred2))*100)\n",
        "print('The RMSE  on the testing dataset is: ',sqrt(mean_squared_error(y_test2,lm2.predict(X_test2)))*100)"
      ],
      "metadata": {
        "id": "5xnACUnf74R_",
        "outputId": "2e7e2e38-3793-44f6-e155-5e1c04db9423",
        "colab": {
          "base_uri": "https://localhost:8080/"
        }
      },
      "execution_count": 93,
      "outputs": [
        {
          "output_type": "stream",
          "name": "stdout",
          "text": [
            "The lm.score Accuracy  on the training dataset is:  52.24852170221076\n",
            "The r2_score Accuracy  on the training dataset is:  52.24852170221076\n",
            "\n",
            "The Accuracy  on the testing dataset is:  54.36106324048631\n",
            "\n",
            "The RMSE  on the training dataset is:  75.09834133112138\n",
            "The RMSE  on the testing dataset is:  70.83515677477938\n"
          ]
        }
      ]
    },
    {
      "cell_type": "code",
      "source": [
        ""
      ],
      "metadata": {
        "id": "AxNEq5OS7ezv"
      },
      "execution_count": null,
      "outputs": []
    },
    {
      "cell_type": "markdown",
      "source": [
        "(b) Is there any multicollinearity issue with the predictors? If yes, report the variables having multicollinearity issue. Would you consider removing these variables from your fitted model? Why? Justify your answer."
      ],
      "metadata": {
        "id": "v2HDZhM4BKW8"
      }
    },
    {
      "cell_type": "code",
      "source": [
        "correlatedColumns = []\n",
        "corr = df2.corr()\n",
        "indices = corr.index\n",
        "columns = corr.columns\n",
        "posthreshold = 0.67\n",
        "negthreshold = -0.67\n",
        "\n",
        "for c in columns:\n",
        "    for r in indices:\n",
        "        if c != r and (corr[c][r] > posthreshold or corr[c][r] < negthreshold):\n",
        "            correlatedColumns.append({\"column\" : c , \"row\" : r , \"val\" :corr[c][r] })\n",
        "            \n",
        "if len(correlatedColumns) < 1: print('No Multicolinearity in dataset')\n",
        "\n",
        "else: print(correlatedColumns)"
      ],
      "metadata": {
        "id": "bYN-CQVB8Wnn",
        "outputId": "77803ebe-bcf8-4349-b511-684692f1b5f2",
        "colab": {
          "base_uri": "https://localhost:8080/"
        }
      },
      "execution_count": 147,
      "outputs": [
        {
          "output_type": "stream",
          "name": "stdout",
          "text": [
            "[{'column': 'ResultantWindSpeed', 'row': 'MaximumWindGust', 'val': 0.9678380226767956}, {'column': 'MaximumWindGust', 'row': 'ResultantWindSpeed', 'val': 0.9678380226767956}]\n"
          ]
        }
      ]
    },
    {
      "cell_type": "markdown",
      "source": [
        "There is multicolinearity issues with the following pairs of predictors\n",
        "\n",
        "{NitrogenDioxide' - 'MaximumWindGust}\n",
        "\n",
        "{ResultantWindSpeed', - 'MaximumWindGust}\n",
        "\n",
        "{'MaximumWindGust' - 'NitrogenDioxide'}\n",
        "\n",
        "{'MaximumWindGust'-'ResultantWindSpeed'}\n",
        "\n",
        "**I will consider removing one of these features in the highly correlated pairs so that the lm.score accuracy could improve as seen in the lm3 model that I did in 3(c)**"
      ],
      "metadata": {
        "id": "e_r4avkVBgVM"
      }
    },
    {
      "cell_type": "code",
      "source": [
        "#Correlation matrix\n",
        "plt.figure(figsize=(10,8)) #Set figure size\n",
        "\n",
        "sns.heatmap(df2.corr(), annot=True)"
      ],
      "metadata": {
        "id": "176wo5aRApDA",
        "outputId": "a0fdd905-c993-4921-8c10-add2cdbc7dc6",
        "colab": {
          "base_uri": "https://localhost:8080/",
          "height": 612
        }
      },
      "execution_count": 148,
      "outputs": [
        {
          "output_type": "execute_result",
          "data": {
            "text/plain": [
              "<matplotlib.axes._subplots.AxesSubplot at 0x7fa5a3aa0150>"
            ]
          },
          "metadata": {},
          "execution_count": 148
        },
        {
          "output_type": "display_data",
          "data": {
            "image/png": "[encoded data removed]",
            "text/plain": [
              "<Figure size 720x576 with 2 Axes>"
            ]
          },
          "metadata": {
            "needs_background": "light"
          }
        }
      ]
    },
    {
      "cell_type": "code",
      "source": [
        ""
      ],
      "metadata": {
        "id": "X5vXhM2c4sUO"
      },
      "execution_count": null,
      "outputs": []
    },
    {
      "cell_type": "markdown",
      "source": [
        "### (c) Compare the models of part 2(a) and part 3(a) and conclude which model is better for prediction and why?"
      ],
      "metadata": {
        "id": "rA1RN-N6DGPw"
      }
    },
    {
      "cell_type": "markdown",
      "source": [
        "The first model still wins despite several multicolinearity issues in both models\n",
        "\n",
        "However, there seems to be no much difference in the accuracy score of both models.\n",
        "\n",
        "This could be due to noisy outliers and huge amount of multicolinearity present in both models\n",
        "\n",
        "We expected model 2 to perform better, but it doesn't\n",
        "\n",
        "I will get a more cleaner predictors as follows and re-run the model evaluation to see what happens"
      ],
      "metadata": {
        "id": "FHcch2gqFUyo"
      }
    },
    {
      "cell_type": "code",
      "source": [
        "# Get correlation matrix \n",
        "corr = df1.corr()\n",
        "\n",
        "# Create a mask for values above 50% \n",
        "# But also below 100% since it variables correlated with the same one\n",
        "mask = (df1.corr() > 0.59) & (df1.corr() < 1.0)\n",
        "high_corr = corr[mask]\n",
        "\n",
        "# Create a new column mask using any() and ~\n",
        "col_to_filter_out = ~high_corr[mask].any()\n",
        "\n",
        "# Apply new mask\n",
        "df_clean = df1[high_corr.columns[col_to_filter_out]]\n",
        "\n",
        "# Visualize cleaned dataset\n",
        "df_clean.head()"
      ],
      "metadata": {
        "colab": {
          "base_uri": "https://localhost:8080/",
          "height": 206
        },
        "id": "W24ZbGa5pM_N",
        "outputId": "3912f374-db3e-441b-bffb-843b416586fc"
      },
      "execution_count": 151,
      "outputs": [
        {
          "output_type": "execute_result",
          "data": {
            "text/html": [
              "\n",
              "  <div id=\"df-a09c7ba1-8e41-477e-8096-4297775cd635\">\n",
              "    <div class=\"colab-df-container\">\n",
              "      <div>\n",
              "<style scoped>\n",
              "    .dataframe tbody tr th:only-of-type {\n",
              "        vertical-align: middle;\n",
              "    }\n",
              "\n",
              "    .dataframe tbody tr th {\n",
              "        vertical-align: top;\n",
              "    }\n",
              "\n",
              "    .dataframe thead th {\n",
              "        text-align: right;\n",
              "    }\n",
              "</style>\n",
              "<table border=\"1\" class=\"dataframe\">\n",
              "  <thead>\n",
              "    <tr style=\"text-align: right;\">\n",
              "      <th></th>\n",
              "      <th>ResultantWindDirection</th>\n",
              "      <th>Std.Dev.WindDirection</th>\n",
              "      <th>DewPointTemperature</th>\n",
              "      <th>RelativeHumidity</th>\n",
              "      <th>SolarRadiation</th>\n",
              "      <th>log_PM2.5</th>\n",
              "    </tr>\n",
              "  </thead>\n",
              "  <tbody>\n",
              "    <tr>\n",
              "      <th>0</th>\n",
              "      <td>0.594972</td>\n",
              "      <td>0.445946</td>\n",
              "      <td>0.421555</td>\n",
              "      <td>0.138741</td>\n",
              "      <td>0.000000</td>\n",
              "      <td>3.613617</td>\n",
              "    </tr>\n",
              "    <tr>\n",
              "      <th>1</th>\n",
              "      <td>0.765363</td>\n",
              "      <td>0.108108</td>\n",
              "      <td>0.544338</td>\n",
              "      <td>0.094984</td>\n",
              "      <td>0.707006</td>\n",
              "      <td>3.711130</td>\n",
              "    </tr>\n",
              "    <tr>\n",
              "      <th>2</th>\n",
              "      <td>0.779330</td>\n",
              "      <td>0.081081</td>\n",
              "      <td>0.515689</td>\n",
              "      <td>0.077908</td>\n",
              "      <td>0.535669</td>\n",
              "      <td>3.602777</td>\n",
              "    </tr>\n",
              "    <tr>\n",
              "      <th>3</th>\n",
              "      <td>0.782123</td>\n",
              "      <td>0.054054</td>\n",
              "      <td>0.499318</td>\n",
              "      <td>0.073639</td>\n",
              "      <td>0.324204</td>\n",
              "      <td>3.594569</td>\n",
              "    </tr>\n",
              "    <tr>\n",
              "      <th>4</th>\n",
              "      <td>0.784916</td>\n",
              "      <td>0.040541</td>\n",
              "      <td>0.283765</td>\n",
              "      <td>0.112060</td>\n",
              "      <td>0.286624</td>\n",
              "      <td>4.188138</td>\n",
              "    </tr>\n",
              "  </tbody>\n",
              "</table>\n",
              "</div>\n",
              "      <button class=\"colab-df-convert\" onclick=\"convertToInteractive('df-a09c7ba1-8e41-477e-8096-4297775cd635')\"\n",
              "              title=\"Convert this dataframe to an interactive table.\"\n",
              "              style=\"display:none;\">\n",
              "        \n",
              "  <svg xmlns=\"http://www.w3.org/2000/svg\" height=\"24px\"viewBox=\"0 0 24 24\"\n",
              "       width=\"24px\">\n",
              "    <path d=\"M0 0h24v24H0V0z\" fill=\"none\"/>\n",
              "    <path d=\"M18.56 5.44l.94 2.06.94-2.06 2.06-.94-2.06-.94-.94-2.06-.94 2.06-2.06.94zm-11 1L8.5 8.5l.94-2.06 2.06-.94-2.06-.94L8.5 2.5l-.94 2.06-2.06.94zm10 10l.94 2.06.94-2.06 2.06-.94-2.06-.94-.94-2.06-.94 2.06-2.06.94z\"/><path d=\"M17.41 7.96l-1.37-1.37c-.4-.4-.92-.59-1.43-.59-.52 0-1.04.2-1.43.59L10.3 9.45l-7.72 7.72c-.78.78-.78 2.05 0 2.83L4 21.41c.39.39.9.59 1.41.59.51 0 1.02-.2 1.41-.59l7.78-7.78 2.81-2.81c.8-.78.8-2.07 0-2.86zM5.41 20L4 18.59l7.72-7.72 1.47 1.35L5.41 20z\"/>\n",
              "  </svg>\n",
              "      </button>\n",
              "      \n",
              "  <style>\n",
              "    .colab-df-container {\n",
              "      display:flex;\n",
              "      flex-wrap:wrap;\n",
              "      gap: 12px;\n",
              "    }\n",
              "\n",
              "    .colab-df-convert {\n",
              "      background-color: #E8F0FE;\n",
              "      border: none;\n",
              "      border-radius: 50%;\n",
              "      cursor: pointer;\n",
              "      display: none;\n",
              "      fill: #1967D2;\n",
              "      height: 32px;\n",
              "      padding: 0 0 0 0;\n",
              "      width: 32px;\n",
              "    }\n",
              "\n",
              "    .colab-df-convert:hover {\n",
              "      background-color: #E2EBFA;\n",
              "      box-shadow: 0px 1px 2px rgba(60, 64, 67, 0.3), 0px 1px 3px 1px rgba(60, 64, 67, 0.15);\n",
              "      fill: #174EA6;\n",
              "    }\n",
              "\n",
              "    [theme=dark] .colab-df-convert {\n",
              "      background-color: #3B4455;\n",
              "      fill: #D2E3FC;\n",
              "    }\n",
              "\n",
              "    [theme=dark] .colab-df-convert:hover {\n",
              "      background-color: #434B5C;\n",
              "      box-shadow: 0px 1px 3px 1px rgba(0, 0, 0, 0.15);\n",
              "      filter: drop-shadow(0px 1px 2px rgba(0, 0, 0, 0.3));\n",
              "      fill: #FFFFFF;\n",
              "    }\n",
              "  </style>\n",
              "\n",
              "      <script>\n",
              "        const buttonEl =\n",
              "          document.querySelector('#df-a09c7ba1-8e41-477e-8096-4297775cd635 button.colab-df-convert');\n",
              "        buttonEl.style.display =\n",
              "          google.colab.kernel.accessAllowed ? 'block' : 'none';\n",
              "\n",
              "        async function convertToInteractive(key) {\n",
              "          const element = document.querySelector('#df-a09c7ba1-8e41-477e-8096-4297775cd635');\n",
              "          const dataTable =\n",
              "            await google.colab.kernel.invokeFunction('convertToInteractive',\n",
              "                                                     [key], {});\n",
              "          if (!dataTable) return;\n",
              "\n",
              "          const docLinkHtml = 'Like what you see? Visit the ' +\n",
              "            '<a target=\"_blank\" href=https://colab.research.google.com/notebooks/data_table.ipynb>data table notebook</a>'\n",
              "            + ' to learn more about interactive tables.';\n",
              "          element.innerHTML = '';\n",
              "          dataTable['output_type'] = 'display_data';\n",
              "          await google.colab.output.renderOutput(dataTable, element);\n",
              "          const docLink = document.createElement('div');\n",
              "          docLink.innerHTML = docLinkHtml;\n",
              "          element.appendChild(docLink);\n",
              "        }\n",
              "      </script>\n",
              "    </div>\n",
              "  </div>\n",
              "  "
            ],
            "text/plain": [
              "   ResultantWindDirection  Std.Dev.WindDirection  DewPointTemperature  \\\n",
              "0                0.594972               0.445946             0.421555   \n",
              "1                0.765363               0.108108             0.544338   \n",
              "2                0.779330               0.081081             0.515689   \n",
              "3                0.782123               0.054054             0.499318   \n",
              "4                0.784916               0.040541             0.283765   \n",
              "\n",
              "   RelativeHumidity  SolarRadiation  log_PM2.5  \n",
              "0          0.138741        0.000000   3.613617  \n",
              "1          0.094984        0.707006   3.711130  \n",
              "2          0.077908        0.535669   3.602777  \n",
              "3          0.073639        0.324204   3.594569  \n",
              "4          0.112060        0.286624   4.188138  "
            ]
          },
          "metadata": {},
          "execution_count": 151
        }
      ]
    },
    {
      "cell_type": "code",
      "source": [
        "#Multicolinearity check\n",
        "correlatedColumns = []\n",
        "corr = df_clean.corr()\n",
        "indices = corr.index\n",
        "columns = corr.columns\n",
        "posthreshold = 0.59\n",
        "negthreshold = -0.59\n",
        "\n",
        "for c in columns:\n",
        "    for r in indices:\n",
        "        if c != r and (corr[c][r] > posthreshold or corr[c][r] < negthreshold):\n",
        "            correlatedColumns.append({\"column\" : c , \"row\" : r , \"val\" :corr[c][r] })\n",
        "\n",
        "if len(correlatedColumns) < 1: print('No Multicolinearity found in dataset')\n",
        "\n",
        "else: print(correlatedColumns)"
      ],
      "metadata": {
        "id": "eRqzsqRXDFkS",
        "colab": {
          "base_uri": "https://localhost:8080/"
        },
        "outputId": "68652b5b-5337-4515-fc9c-90dbd6165c90"
      },
      "execution_count": 155,
      "outputs": [
        {
          "output_type": "stream",
          "name": "stdout",
          "text": [
            "No Multicolinearity found in dataset\n"
          ]
        }
      ]
    },
    {
      "cell_type": "code",
      "source": [
        "#Correlation matrix\n",
        "plt.figure(figsize=(10,8)) #Set figure size\n",
        "\n",
        "sns.heatmap(df_clean.corr(), annot=True)"
      ],
      "metadata": {
        "colab": {
          "base_uri": "https://localhost:8080/",
          "height": 612
        },
        "id": "3mqklNdOvwMW",
        "outputId": "0b6176c1-5014-4224-acac-89887a05d4d5"
      },
      "execution_count": 132,
      "outputs": [
        {
          "output_type": "execute_result",
          "data": {
            "text/plain": [
              "<matplotlib.axes._subplots.AxesSubplot at 0x7fa5a570c990>"
            ]
          },
          "metadata": {},
          "execution_count": 132
        },
        {
          "output_type": "display_data",
          "data": {
            "image/png": "[encoded data removed]",
            "text/plain": [
              "<Figure size 720x576 with 2 Axes>"
            ]
          },
          "metadata": {
            "needs_background": "light"
          }
        }
      ]
    },
    {
      "cell_type": "code",
      "source": [
        "X3 = df_clean.values\n",
        "y3 = df_clean['log_PM2.5']"
      ],
      "metadata": {
        "id": "f_S1mf1uhuz0"
      },
      "execution_count": 134,
      "outputs": []
    },
    {
      "cell_type": "code",
      "source": [
        "#Split the data into training and testing set\n",
        "X_train3, X_test3, y_train3, y_test3 = train_test_split(X3, y3, train_size=0.80, test_size = 0.2, random_state=15)\n",
        "\n",
        "# Training the Regression\n",
        "lm3 = LinearRegression(fit_intercept = True)     \n",
        "lm3.fit(X_train3, y_train3)\n",
        "\n",
        "#Prediction\n",
        "y_pred3 = lm3.predict(X_train3)"
      ],
      "metadata": {
        "id": "IOqgbHYQhw5U"
      },
      "execution_count": 135,
      "outputs": []
    },
    {
      "cell_type": "code",
      "source": [
        "# Model Accuracy on training dataset\n",
        "print('The lm.score Accuracy  on the training dataset is: ', lm3.score(X_train3, y_train3)*100 )\n",
        "print('The r2_score Accuracy  on the training dataset is: ',r2_score(y_train3,y_pred3)*100 )   \n",
        "\n",
        "print(\"\")\n",
        "#Model Accuracy on testing dataset\n",
        "print('The Accuracy  on the testing dataset is: ', lm3.score(X_test3, y_test3)*100 )\n",
        "\n",
        "print(\"\")\n",
        "# The Root Mean Squared Error (RMSE)\n",
        "print('The RMSE  on the training dataset is: ',sqrt(mean_squared_error(y_train3,y_pred3))*100)\n",
        "print('The RMSE  on the testing dataset is: ',sqrt(mean_squared_error(y_test3,lm3.predict(X_test3)))*100)"
      ],
      "metadata": {
        "colab": {
          "base_uri": "https://localhost:8080/"
        },
        "id": "a9DpvKo6iTRn",
        "outputId": "e548539c-6823-47c8-a5f3-718935184c5c"
      },
      "execution_count": 136,
      "outputs": [
        {
          "output_type": "stream",
          "name": "stdout",
          "text": [
            "The lm.score Accuracy  on the training dataset is:  100.0\n",
            "The r2_score Accuracy  on the training dataset is:  100.0\n",
            "\n",
            "The Accuracy  on the testing dataset is:  100.0\n",
            "\n",
            "The RMSE  on the training dataset is:  7.486421278017294e-14\n",
            "The RMSE  on the testing dataset is:  7.090579376043252e-14\n"
          ]
        }
      ]
    },
    {
      "cell_type": "markdown",
      "source": [
        "We can see after proper filtering, the most effective underlying predictors that yielded the best  performance of the model are as follow:\n",
        "\n",
        "**[ResultantWindDirection,\tStd.Dev.WindDirection,\tDewPointTemperature\tRelativeHumidity,\tSolarRadiation]**\n",
        "\n",
        "We obtain a 100% accuracy and an insignificant amont of RMSE\n",
        "\n",
        "As seen from the correlation matrix plot and the snipet code checking for correlations, there is no any form of multicolinearity among those predictors\n",
        "\n",
        "\n",
        "\n",
        "If we compare the correlation values among these predictors-pairs as seen in the correlation matrix plot, this is far better than the correlations among the the predictors in lm2 that yeilded multicolinearity bamong lm2 predictors :\n",
        "\n",
        "{NitrogenDioxide' - 'MaximumWindGust}\n",
        "\n",
        "{ResultantWindSpeed', - 'MaximumWindGust}\n",
        "\n",
        "{'MaximumWindGust' - 'NitrogenDioxide'}\n",
        "\n",
        "{'MaximumWindGust'-'ResultantWindSpeed'}"
      ],
      "metadata": {
        "id": "OmTVlU43zgLn"
      }
    },
    {
      "cell_type": "code",
      "source": [
        ""
      ],
      "metadata": {
        "id": "5WSN0ABKArlY"
      },
      "execution_count": null,
      "outputs": []
    }
  ]
}