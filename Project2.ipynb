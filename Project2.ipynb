{
  "nbformat": 4,
  "nbformat_minor": 0,
  "metadata": {
    "colab": {
      "name": "Project2.ipynb",
      "provenance": [],
      "collapsed_sections": [],
      "authorship_tag": "ABX9TyOHcRHLLMXBzepgv2Uo3G8Y",
      "include_colab_link": true
    },
    "kernelspec": {
      "name": "python3",
      "display_name": "Python 3"
    },
    "language_info": {
      "name": "python"
    }
  },
  "cells": [
    {
      "cell_type": "markdown",
      "metadata": {
        "id": "view-in-github",
        "colab_type": "text"
      },
      "source": [
        "<a href=\"https://colab.research.google.com/github/jerrymart/Machine-Learning-Projects/blob/main/Project2.ipynb\" target=\"_parent\"><img src=\"https://colab.research.google.com/assets/colab-badge.svg\" alt=\"Open In Colab\"/></a>"
      ]
    },
    {
      "cell_type": "code",
      "execution_count": 1,
      "metadata": {
        "id": "abzANo4afkWj"
      },
      "outputs": [],
      "source": [
        "# Packages / libraries\n",
        "import numpy as np \n",
        "import pandas as pd\n",
        "from matplotlib import pyplot as plt\n",
        "import seaborn as sns\n",
        "from sklearn.metrics import r2_score\n",
        "\n",
        "#sns.set(rc={'figure.figsize':(12,10)})"
      ]
    },
    {
      "cell_type": "code",
      "source": [
        "df = pd.read_csv('/content/PM2.5-data.csv')"
      ],
      "metadata": {
        "id": "Ksqv9t1df_-s"
      },
      "execution_count": 2,
      "outputs": []
    },
    {
      "cell_type": "code",
      "source": [
        "df.head()"
      ],
      "metadata": {
        "colab": {
          "base_uri": "https://localhost:8080/",
          "height": 270
        },
        "id": "feEKQooQgLOG",
        "outputId": "edb5d814-797b-43e6-f399-70ed1754b730"
      },
      "execution_count": 3,
      "outputs": [
        {
          "output_type": "execute_result",
          "data": {
            "text/html": [
              "\n",
              "  <div id=\"df-52bfcecd-c87f-41ce-9e51-5001d1ac32a2\">\n",
              "    <div class=\"colab-df-container\">\n",
              "      <div>\n",
              "<style scoped>\n",
              "    .dataframe tbody tr th:only-of-type {\n",
              "        vertical-align: middle;\n",
              "    }\n",
              "\n",
              "    .dataframe tbody tr th {\n",
              "        vertical-align: top;\n",
              "    }\n",
              "\n",
              "    .dataframe thead th {\n",
              "        text-align: right;\n",
              "    }\n",
              "</style>\n",
              "<table border=\"1\" class=\"dataframe\">\n",
              "  <thead>\n",
              "    <tr style=\"text-align: right;\">\n",
              "      <th></th>\n",
              "      <th>NitricOxide</th>\n",
              "      <th>NitrogenDioxide</th>\n",
              "      <th>OxidesofNitrogen</th>\n",
              "      <th>Ozone</th>\n",
              "      <th>WindSpeed</th>\n",
              "      <th>ResultantWindSpeed</th>\n",
              "      <th>ResultantWindDirection</th>\n",
              "      <th>MaximumWindGust</th>\n",
              "      <th>Std.Dev.WindDirection</th>\n",
              "      <th>OutdoorTemperature</th>\n",
              "      <th>DewPointTemperature</th>\n",
              "      <th>RelativeHumidity</th>\n",
              "      <th>SolarRadiation</th>\n",
              "      <th>PM2.5</th>\n",
              "    </tr>\n",
              "  </thead>\n",
              "  <tbody>\n",
              "    <tr>\n",
              "      <th>0</th>\n",
              "      <td>19.6</td>\n",
              "      <td>35.8</td>\n",
              "      <td>55.5</td>\n",
              "      <td>2</td>\n",
              "      <td>1.9</td>\n",
              "      <td>1.5</td>\n",
              "      <td>215</td>\n",
              "      <td>3.6</td>\n",
              "      <td>39</td>\n",
              "      <td>67.7</td>\n",
              "      <td>23.3</td>\n",
              "      <td>18.6</td>\n",
              "      <td>0.000</td>\n",
              "      <td>37.1</td>\n",
              "    </tr>\n",
              "    <tr>\n",
              "      <th>1</th>\n",
              "      <td>2.5</td>\n",
              "      <td>2.8</td>\n",
              "      <td>4.4</td>\n",
              "      <td>37</td>\n",
              "      <td>23.3</td>\n",
              "      <td>22.6</td>\n",
              "      <td>276</td>\n",
              "      <td>38.5</td>\n",
              "      <td>14</td>\n",
              "      <td>86.4</td>\n",
              "      <td>32.3</td>\n",
              "      <td>14.5</td>\n",
              "      <td>1.110</td>\n",
              "      <td>40.9</td>\n",
              "    </tr>\n",
              "    <tr>\n",
              "      <th>2</th>\n",
              "      <td>2.3</td>\n",
              "      <td>3.1</td>\n",
              "      <td>4.5</td>\n",
              "      <td>41</td>\n",
              "      <td>23.7</td>\n",
              "      <td>23.2</td>\n",
              "      <td>281</td>\n",
              "      <td>40.4</td>\n",
              "      <td>12</td>\n",
              "      <td>87.2</td>\n",
              "      <td>30.2</td>\n",
              "      <td>12.9</td>\n",
              "      <td>0.841</td>\n",
              "      <td>36.7</td>\n",
              "    </tr>\n",
              "    <tr>\n",
              "      <th>3</th>\n",
              "      <td>1.9</td>\n",
              "      <td>3.0</td>\n",
              "      <td>4.1</td>\n",
              "      <td>42</td>\n",
              "      <td>25.0</td>\n",
              "      <td>24.7</td>\n",
              "      <td>282</td>\n",
              "      <td>41.9</td>\n",
              "      <td>10</td>\n",
              "      <td>86.7</td>\n",
              "      <td>29.0</td>\n",
              "      <td>12.5</td>\n",
              "      <td>0.509</td>\n",
              "      <td>36.4</td>\n",
              "    </tr>\n",
              "    <tr>\n",
              "      <th>4</th>\n",
              "      <td>0.4</td>\n",
              "      <td>7.1</td>\n",
              "      <td>8.1</td>\n",
              "      <td>50</td>\n",
              "      <td>25.1</td>\n",
              "      <td>24.7</td>\n",
              "      <td>283</td>\n",
              "      <td>42.3</td>\n",
              "      <td>9</td>\n",
              "      <td>59.6</td>\n",
              "      <td>13.2</td>\n",
              "      <td>16.1</td>\n",
              "      <td>0.450</td>\n",
              "      <td>65.9</td>\n",
              "    </tr>\n",
              "  </tbody>\n",
              "</table>\n",
              "</div>\n",
              "      <button class=\"colab-df-convert\" onclick=\"convertToInteractive('df-52bfcecd-c87f-41ce-9e51-5001d1ac32a2')\"\n",
              "              title=\"Convert this dataframe to an interactive table.\"\n",
              "              style=\"display:none;\">\n",
              "        \n",
              "  <svg xmlns=\"http://www.w3.org/2000/svg\" height=\"24px\"viewBox=\"0 0 24 24\"\n",
              "       width=\"24px\">\n",
              "    <path d=\"M0 0h24v24H0V0z\" fill=\"none\"/>\n",
              "    <path d=\"M18.56 5.44l.94 2.06.94-2.06 2.06-.94-2.06-.94-.94-2.06-.94 2.06-2.06.94zm-11 1L8.5 8.5l.94-2.06 2.06-.94-2.06-.94L8.5 2.5l-.94 2.06-2.06.94zm10 10l.94 2.06.94-2.06 2.06-.94-2.06-.94-.94-2.06-.94 2.06-2.06.94z\"/><path d=\"M17.41 7.96l-1.37-1.37c-.4-.4-.92-.59-1.43-.59-.52 0-1.04.2-1.43.59L10.3 9.45l-7.72 7.72c-.78.78-.78 2.05 0 2.83L4 21.41c.39.39.9.59 1.41.59.51 0 1.02-.2 1.41-.59l7.78-7.78 2.81-2.81c.8-.78.8-2.07 0-2.86zM5.41 20L4 18.59l7.72-7.72 1.47 1.35L5.41 20z\"/>\n",
              "  </svg>\n",
              "      </button>\n",
              "      \n",
              "  <style>\n",
              "    .colab-df-container {\n",
              "      display:flex;\n",
              "      flex-wrap:wrap;\n",
              "      gap: 12px;\n",
              "    }\n",
              "\n",
              "    .colab-df-convert {\n",
              "      background-color: #E8F0FE;\n",
              "      border: none;\n",
              "      border-radius: 50%;\n",
              "      cursor: pointer;\n",
              "      display: none;\n",
              "      fill: #1967D2;\n",
              "      height: 32px;\n",
              "      padding: 0 0 0 0;\n",
              "      width: 32px;\n",
              "    }\n",
              "\n",
              "    .colab-df-convert:hover {\n",
              "      background-color: #E2EBFA;\n",
              "      box-shadow: 0px 1px 2px rgba(60, 64, 67, 0.3), 0px 1px 3px 1px rgba(60, 64, 67, 0.15);\n",
              "      fill: #174EA6;\n",
              "    }\n",
              "\n",
              "    [theme=dark] .colab-df-convert {\n",
              "      background-color: #3B4455;\n",
              "      fill: #D2E3FC;\n",
              "    }\n",
              "\n",
              "    [theme=dark] .colab-df-convert:hover {\n",
              "      background-color: #434B5C;\n",
              "      box-shadow: 0px 1px 3px 1px rgba(0, 0, 0, 0.15);\n",
              "      filter: drop-shadow(0px 1px 2px rgba(0, 0, 0, 0.3));\n",
              "      fill: #FFFFFF;\n",
              "    }\n",
              "  </style>\n",
              "\n",
              "      <script>\n",
              "        const buttonEl =\n",
              "          document.querySelector('#df-52bfcecd-c87f-41ce-9e51-5001d1ac32a2 button.colab-df-convert');\n",
              "        buttonEl.style.display =\n",
              "          google.colab.kernel.accessAllowed ? 'block' : 'none';\n",
              "\n",
              "        async function convertToInteractive(key) {\n",
              "          const element = document.querySelector('#df-52bfcecd-c87f-41ce-9e51-5001d1ac32a2');\n",
              "          const dataTable =\n",
              "            await google.colab.kernel.invokeFunction('convertToInteractive',\n",
              "                                                     [key], {});\n",
              "          if (!dataTable) return;\n",
              "\n",
              "          const docLinkHtml = 'Like what you see? Visit the ' +\n",
              "            '<a target=\"_blank\" href=https://colab.research.google.com/notebooks/data_table.ipynb>data table notebook</a>'\n",
              "            + ' to learn more about interactive tables.';\n",
              "          element.innerHTML = '';\n",
              "          dataTable['output_type'] = 'display_data';\n",
              "          await google.colab.output.renderOutput(dataTable, element);\n",
              "          const docLink = document.createElement('div');\n",
              "          docLink.innerHTML = docLinkHtml;\n",
              "          element.appendChild(docLink);\n",
              "        }\n",
              "      </script>\n",
              "    </div>\n",
              "  </div>\n",
              "  "
            ],
            "text/plain": [
              "   NitricOxide  NitrogenDioxide  OxidesofNitrogen  Ozone  WindSpeed  \\\n",
              "0         19.6             35.8              55.5      2        1.9   \n",
              "1          2.5              2.8               4.4     37       23.3   \n",
              "2          2.3              3.1               4.5     41       23.7   \n",
              "3          1.9              3.0               4.1     42       25.0   \n",
              "4          0.4              7.1               8.1     50       25.1   \n",
              "\n",
              "   ResultantWindSpeed  ResultantWindDirection  MaximumWindGust  \\\n",
              "0                 1.5                     215              3.6   \n",
              "1                22.6                     276             38.5   \n",
              "2                23.2                     281             40.4   \n",
              "3                24.7                     282             41.9   \n",
              "4                24.7                     283             42.3   \n",
              "\n",
              "   Std.Dev.WindDirection  OutdoorTemperature  DewPointTemperature  \\\n",
              "0                     39                67.7                 23.3   \n",
              "1                     14                86.4                 32.3   \n",
              "2                     12                87.2                 30.2   \n",
              "3                     10                86.7                 29.0   \n",
              "4                      9                59.6                 13.2   \n",
              "\n",
              "   RelativeHumidity  SolarRadiation  PM2.5  \n",
              "0              18.6           0.000   37.1  \n",
              "1              14.5           1.110   40.9  \n",
              "2              12.9           0.841   36.7  \n",
              "3              12.5           0.509   36.4  \n",
              "4              16.1           0.450   65.9  "
            ]
          },
          "metadata": {},
          "execution_count": 3
        }
      ]
    },
    {
      "cell_type": "markdown",
      "source": [
        "**1. EDA analysis**"
      ],
      "metadata": {
        "id": "0vSLwXtbh1x8"
      }
    },
    {
      "cell_type": "markdown",
      "source": [
        "(a) Obtain the histograms of both PM2.5 and the logarithm (natural base) of PM2.5\n",
        "and comment. Proceed with the log-transformed PM2.5 from this step on."
      ],
      "metadata": {
        "id": "nUOwOGfkiAHO"
      }
    },
    {
      "cell_type": "code",
      "source": [
        "plt.figure(figsize=(10,6))\n",
        "sns.histplot(data=df,x = 'PM2.5', binwidth = 20)"
      ],
      "metadata": {
        "colab": {
          "base_uri": "https://localhost:8080/",
          "height": 411
        },
        "id": "xK-3p4pIgsLK",
        "outputId": "4cea53bb-887a-4315-d06e-d450565d33bf"
      },
      "execution_count": 32,
      "outputs": [
        {
          "output_type": "execute_result",
          "data": {
            "text/plain": [
              "<matplotlib.axes._subplots.AxesSubplot at 0x7fe3a31d9b90>"
            ]
          },
          "metadata": {},
          "execution_count": 32
        },
        {
          "output_type": "display_data",
          "data": {
            "image/png": "[encoded data removed]",
            "text/plain": [
              "<Figure size 720x432 with 1 Axes>"
            ]
          },
          "metadata": {}
        }
      ]
    },
    {
      "cell_type": "code",
      "source": [
        "#Log of PM2.5\n",
        "\n",
        "df['log_PM2.5'] = np.log(df['PM2.5'])"
      ],
      "metadata": {
        "id": "Ipfp2Hnim8qL"
      },
      "execution_count": 3,
      "outputs": []
    },
    {
      "cell_type": "code",
      "source": [
        "df['log_PM2.5']"
      ],
      "metadata": {
        "colab": {
          "base_uri": "https://localhost:8080/"
        },
        "id": "5iMzwg06oNzH",
        "outputId": "2af9b32c-6c3e-4714-e0e4-1414a4a29ee3"
      },
      "execution_count": 4,
      "outputs": [
        {
          "output_type": "execute_result",
          "data": {
            "text/plain": [
              "0      3.613617\n",
              "1      3.711130\n",
              "2      3.602777\n",
              "3      3.594569\n",
              "4      4.188138\n",
              "         ...   \n",
              "840    2.701361\n",
              "841    2.406945\n",
              "842    2.433613\n",
              "843    2.312535\n",
              "844    2.140066\n",
              "Name: log_PM2.5, Length: 845, dtype: float64"
            ]
          },
          "metadata": {},
          "execution_count": 4
        }
      ]
    },
    {
      "cell_type": "code",
      "source": [
        "#Delete PM2.5 Column\n",
        "\n",
        "df1 = df.drop(columns = ['PM2.5'])"
      ],
      "metadata": {
        "id": "fs5QSLdOtLzG"
      },
      "execution_count": 5,
      "outputs": []
    },
    {
      "cell_type": "code",
      "source": [
        "#Inspect PM2.5 Columns\n",
        "df1.head(2)"
      ],
      "metadata": {
        "colab": {
          "base_uri": "https://localhost:8080/",
          "height": 176
        },
        "id": "bvAi4FC4uDVo",
        "outputId": "5197cd2c-d2c8-4d67-a4b1-c06b26e0b56e"
      },
      "execution_count": 11,
      "outputs": [
        {
          "output_type": "execute_result",
          "data": {
            "text/html": [
              "\n",
              "  <div id=\"df-a0e56634-84ed-4717-941c-54c01b9d53b5\">\n",
              "    <div class=\"colab-df-container\">\n",
              "      <div>\n",
              "<style scoped>\n",
              "    .dataframe tbody tr th:only-of-type {\n",
              "        vertical-align: middle;\n",
              "    }\n",
              "\n",
              "    .dataframe tbody tr th {\n",
              "        vertical-align: top;\n",
              "    }\n",
              "\n",
              "    .dataframe thead th {\n",
              "        text-align: right;\n",
              "    }\n",
              "</style>\n",
              "<table border=\"1\" class=\"dataframe\">\n",
              "  <thead>\n",
              "    <tr style=\"text-align: right;\">\n",
              "      <th></th>\n",
              "      <th>NitricOxide</th>\n",
              "      <th>NitrogenDioxide</th>\n",
              "      <th>OxidesofNitrogen</th>\n",
              "      <th>Ozone</th>\n",
              "      <th>WindSpeed</th>\n",
              "      <th>ResultantWindSpeed</th>\n",
              "      <th>ResultantWindDirection</th>\n",
              "      <th>MaximumWindGust</th>\n",
              "      <th>Std.Dev.WindDirection</th>\n",
              "      <th>OutdoorTemperature</th>\n",
              "      <th>DewPointTemperature</th>\n",
              "      <th>RelativeHumidity</th>\n",
              "      <th>SolarRadiation</th>\n",
              "      <th>log_PM2.5</th>\n",
              "    </tr>\n",
              "  </thead>\n",
              "  <tbody>\n",
              "    <tr>\n",
              "      <th>0</th>\n",
              "      <td>19.6</td>\n",
              "      <td>35.8</td>\n",
              "      <td>55.5</td>\n",
              "      <td>2</td>\n",
              "      <td>1.9</td>\n",
              "      <td>1.5</td>\n",
              "      <td>215</td>\n",
              "      <td>3.6</td>\n",
              "      <td>39</td>\n",
              "      <td>67.7</td>\n",
              "      <td>23.3</td>\n",
              "      <td>18.6</td>\n",
              "      <td>0.00</td>\n",
              "      <td>3.613617</td>\n",
              "    </tr>\n",
              "    <tr>\n",
              "      <th>1</th>\n",
              "      <td>2.5</td>\n",
              "      <td>2.8</td>\n",
              "      <td>4.4</td>\n",
              "      <td>37</td>\n",
              "      <td>23.3</td>\n",
              "      <td>22.6</td>\n",
              "      <td>276</td>\n",
              "      <td>38.5</td>\n",
              "      <td>14</td>\n",
              "      <td>86.4</td>\n",
              "      <td>32.3</td>\n",
              "      <td>14.5</td>\n",
              "      <td>1.11</td>\n",
              "      <td>3.711130</td>\n",
              "    </tr>\n",
              "  </tbody>\n",
              "</table>\n",
              "</div>\n",
              "      <button class=\"colab-df-convert\" onclick=\"convertToInteractive('df-a0e56634-84ed-4717-941c-54c01b9d53b5')\"\n",
              "              title=\"Convert this dataframe to an interactive table.\"\n",
              "              style=\"display:none;\">\n",
              "        \n",
              "  <svg xmlns=\"http://www.w3.org/2000/svg\" height=\"24px\"viewBox=\"0 0 24 24\"\n",
              "       width=\"24px\">\n",
              "    <path d=\"M0 0h24v24H0V0z\" fill=\"none\"/>\n",
              "    <path d=\"M18.56 5.44l.94 2.06.94-2.06 2.06-.94-2.06-.94-.94-2.06-.94 2.06-2.06.94zm-11 1L8.5 8.5l.94-2.06 2.06-.94-2.06-.94L8.5 2.5l-.94 2.06-2.06.94zm10 10l.94 2.06.94-2.06 2.06-.94-2.06-.94-.94-2.06-.94 2.06-2.06.94z\"/><path d=\"M17.41 7.96l-1.37-1.37c-.4-.4-.92-.59-1.43-.59-.52 0-1.04.2-1.43.59L10.3 9.45l-7.72 7.72c-.78.78-.78 2.05 0 2.83L4 21.41c.39.39.9.59 1.41.59.51 0 1.02-.2 1.41-.59l7.78-7.78 2.81-2.81c.8-.78.8-2.07 0-2.86zM5.41 20L4 18.59l7.72-7.72 1.47 1.35L5.41 20z\"/>\n",
              "  </svg>\n",
              "      </button>\n",
              "      \n",
              "  <style>\n",
              "    .colab-df-container {\n",
              "      display:flex;\n",
              "      flex-wrap:wrap;\n",
              "      gap: 12px;\n",
              "    }\n",
              "\n",
              "    .colab-df-convert {\n",
              "      background-color: #E8F0FE;\n",
              "      border: none;\n",
              "      border-radius: 50%;\n",
              "      cursor: pointer;\n",
              "      display: none;\n",
              "      fill: #1967D2;\n",
              "      height: 32px;\n",
              "      padding: 0 0 0 0;\n",
              "      width: 32px;\n",
              "    }\n",
              "\n",
              "    .colab-df-convert:hover {\n",
              "      background-color: #E2EBFA;\n",
              "      box-shadow: 0px 1px 2px rgba(60, 64, 67, 0.3), 0px 1px 3px 1px rgba(60, 64, 67, 0.15);\n",
              "      fill: #174EA6;\n",
              "    }\n",
              "\n",
              "    [theme=dark] .colab-df-convert {\n",
              "      background-color: #3B4455;\n",
              "      fill: #D2E3FC;\n",
              "    }\n",
              "\n",
              "    [theme=dark] .colab-df-convert:hover {\n",
              "      background-color: #434B5C;\n",
              "      box-shadow: 0px 1px 3px 1px rgba(0, 0, 0, 0.15);\n",
              "      filter: drop-shadow(0px 1px 2px rgba(0, 0, 0, 0.3));\n",
              "      fill: #FFFFFF;\n",
              "    }\n",
              "  </style>\n",
              "\n",
              "      <script>\n",
              "        const buttonEl =\n",
              "          document.querySelector('#df-a0e56634-84ed-4717-941c-54c01b9d53b5 button.colab-df-convert');\n",
              "        buttonEl.style.display =\n",
              "          google.colab.kernel.accessAllowed ? 'block' : 'none';\n",
              "\n",
              "        async function convertToInteractive(key) {\n",
              "          const element = document.querySelector('#df-a0e56634-84ed-4717-941c-54c01b9d53b5');\n",
              "          const dataTable =\n",
              "            await google.colab.kernel.invokeFunction('convertToInteractive',\n",
              "                                                     [key], {});\n",
              "          if (!dataTable) return;\n",
              "\n",
              "          const docLinkHtml = 'Like what you see? Visit the ' +\n",
              "            '<a target=\"_blank\" href=https://colab.research.google.com/notebooks/data_table.ipynb>data table notebook</a>'\n",
              "            + ' to learn more about interactive tables.';\n",
              "          element.innerHTML = '';\n",
              "          dataTable['output_type'] = 'display_data';\n",
              "          await google.colab.output.renderOutput(dataTable, element);\n",
              "          const docLink = document.createElement('div');\n",
              "          docLink.innerHTML = docLinkHtml;\n",
              "          element.appendChild(docLink);\n",
              "        }\n",
              "      </script>\n",
              "    </div>\n",
              "  </div>\n",
              "  "
            ],
            "text/plain": [
              "   NitricOxide  NitrogenDioxide  OxidesofNitrogen  Ozone  WindSpeed  \\\n",
              "0         19.6             35.8              55.5      2        1.9   \n",
              "1          2.5              2.8               4.4     37       23.3   \n",
              "\n",
              "   ResultantWindSpeed  ResultantWindDirection  MaximumWindGust  \\\n",
              "0                 1.5                     215              3.6   \n",
              "1                22.6                     276             38.5   \n",
              "\n",
              "   Std.Dev.WindDirection  OutdoorTemperature  DewPointTemperature  \\\n",
              "0                     39                67.7                 23.3   \n",
              "1                     14                86.4                 32.3   \n",
              "\n",
              "   RelativeHumidity  SolarRadiation  log_PM2.5  \n",
              "0              18.6            0.00   3.613617  \n",
              "1              14.5            1.11   3.711130  "
            ]
          },
          "metadata": {},
          "execution_count": 11
        }
      ]
    },
    {
      "cell_type": "code",
      "source": [
        "#Histogram of LogPM2.5\n",
        "\n",
        "plt.figure(figsize=(10,6))\n",
        "sns.histplot(data=df1,x = 'log_PM2.5', binwidth = 1)"
      ],
      "metadata": {
        "colab": {
          "base_uri": "https://localhost:8080/",
          "height": 406
        },
        "id": "XJECFxWPoVFD",
        "outputId": "91a76209-9d4d-478f-8c81-a65c808cd0e0"
      },
      "execution_count": 12,
      "outputs": [
        {
          "output_type": "execute_result",
          "data": {
            "text/plain": [
              "<matplotlib.axes._subplots.AxesSubplot at 0x7f2cc866a5d0>"
            ]
          },
          "metadata": {},
          "execution_count": 12
        },
        {
          "output_type": "display_data",
          "data": {
            "image/png": "[encoded data removed]",
            "text/plain": [
              "<Figure size 720x432 with 1 Axes>"
            ]
          },
          "metadata": {
            "needs_background": "light"
          }
        }
      ]
    },
    {
      "cell_type": "markdown",
      "source": [
        "(b) Inspect the data and answer these questions: Are there any missing data? Among\n",
        "all the predictors, how many of them are continuous, integer counts, and categorical,\n",
        "respectively?"
      ],
      "metadata": {
        "id": "V1M6JqAqwv7U"
      }
    },
    {
      "cell_type": "code",
      "source": [
        "# Checking for null values\n",
        "\n",
        "df1.isnull().sum()"
      ],
      "metadata": {
        "colab": {
          "base_uri": "https://localhost:8080/"
        },
        "id": "HjoPsyvAozHT",
        "outputId": "163b6eb8-c9d0-4604-c40a-5a8e1cba74c8"
      },
      "execution_count": 6,
      "outputs": [
        {
          "output_type": "execute_result",
          "data": {
            "text/plain": [
              "NitricOxide               2\n",
              "NitrogenDioxide           0\n",
              "OxidesofNitrogen          1\n",
              "Ozone                     0\n",
              "WindSpeed                 0\n",
              "ResultantWindSpeed        0\n",
              "ResultantWindDirection    0\n",
              "MaximumWindGust           0\n",
              "Std.Dev.WindDirection     0\n",
              "OutdoorTemperature        0\n",
              "DewPointTemperature       0\n",
              "RelativeHumidity          0\n",
              "SolarRadiation            0\n",
              "log_PM2.5                 0\n",
              "dtype: int64"
            ]
          },
          "metadata": {},
          "execution_count": 6
        }
      ]
    },
    {
      "cell_type": "code",
      "source": [
        "# Visualize the NULL observations\n",
        "\n",
        "df1[df1['NitricOxide'].isnull()]"
      ],
      "metadata": {
        "colab": {
          "base_uri": "https://localhost:8080/",
          "height": 176
        },
        "id": "G-mVasTLwRxX",
        "outputId": "4a88209a-b4d5-4012-f630-b56d3b728caa"
      },
      "execution_count": 7,
      "outputs": [
        {
          "output_type": "execute_result",
          "data": {
            "text/html": [
              "\n",
              "  <div id=\"df-9cd4879f-5830-487d-afbe-6366cd769cba\">\n",
              "    <div class=\"colab-df-container\">\n",
              "      <div>\n",
              "<style scoped>\n",
              "    .dataframe tbody tr th:only-of-type {\n",
              "        vertical-align: middle;\n",
              "    }\n",
              "\n",
              "    .dataframe tbody tr th {\n",
              "        vertical-align: top;\n",
              "    }\n",
              "\n",
              "    .dataframe thead th {\n",
              "        text-align: right;\n",
              "    }\n",
              "</style>\n",
              "<table border=\"1\" class=\"dataframe\">\n",
              "  <thead>\n",
              "    <tr style=\"text-align: right;\">\n",
              "      <th></th>\n",
              "      <th>NitricOxide</th>\n",
              "      <th>NitrogenDioxide</th>\n",
              "      <th>OxidesofNitrogen</th>\n",
              "      <th>Ozone</th>\n",
              "      <th>WindSpeed</th>\n",
              "      <th>ResultantWindSpeed</th>\n",
              "      <th>ResultantWindDirection</th>\n",
              "      <th>MaximumWindGust</th>\n",
              "      <th>Std.Dev.WindDirection</th>\n",
              "      <th>OutdoorTemperature</th>\n",
              "      <th>DewPointTemperature</th>\n",
              "      <th>RelativeHumidity</th>\n",
              "      <th>SolarRadiation</th>\n",
              "      <th>log_PM2.5</th>\n",
              "    </tr>\n",
              "  </thead>\n",
              "  <tbody>\n",
              "    <tr>\n",
              "      <th>25</th>\n",
              "      <td>NaN</td>\n",
              "      <td>14.0</td>\n",
              "      <td>14.0</td>\n",
              "      <td>59</td>\n",
              "      <td>10.1</td>\n",
              "      <td>9.7</td>\n",
              "      <td>282</td>\n",
              "      <td>17.1</td>\n",
              "      <td>16</td>\n",
              "      <td>82.9</td>\n",
              "      <td>13.0</td>\n",
              "      <td>7.2</td>\n",
              "      <td>0.0</td>\n",
              "      <td>4.044804</td>\n",
              "    </tr>\n",
              "    <tr>\n",
              "      <th>26</th>\n",
              "      <td>NaN</td>\n",
              "      <td>15.1</td>\n",
              "      <td>15.1</td>\n",
              "      <td>52</td>\n",
              "      <td>9.8</td>\n",
              "      <td>9.6</td>\n",
              "      <td>284</td>\n",
              "      <td>15.1</td>\n",
              "      <td>12</td>\n",
              "      <td>79.8</td>\n",
              "      <td>12.2</td>\n",
              "      <td>7.6</td>\n",
              "      <td>0.0</td>\n",
              "      <td>3.802208</td>\n",
              "    </tr>\n",
              "  </tbody>\n",
              "</table>\n",
              "</div>\n",
              "      <button class=\"colab-df-convert\" onclick=\"convertToInteractive('df-9cd4879f-5830-487d-afbe-6366cd769cba')\"\n",
              "              title=\"Convert this dataframe to an interactive table.\"\n",
              "              style=\"display:none;\">\n",
              "        \n",
              "  <svg xmlns=\"http://www.w3.org/2000/svg\" height=\"24px\"viewBox=\"0 0 24 24\"\n",
              "       width=\"24px\">\n",
              "    <path d=\"M0 0h24v24H0V0z\" fill=\"none\"/>\n",
              "    <path d=\"M18.56 5.44l.94 2.06.94-2.06 2.06-.94-2.06-.94-.94-2.06-.94 2.06-2.06.94zm-11 1L8.5 8.5l.94-2.06 2.06-.94-2.06-.94L8.5 2.5l-.94 2.06-2.06.94zm10 10l.94 2.06.94-2.06 2.06-.94-2.06-.94-.94-2.06-.94 2.06-2.06.94z\"/><path d=\"M17.41 7.96l-1.37-1.37c-.4-.4-.92-.59-1.43-.59-.52 0-1.04.2-1.43.59L10.3 9.45l-7.72 7.72c-.78.78-.78 2.05 0 2.83L4 21.41c.39.39.9.59 1.41.59.51 0 1.02-.2 1.41-.59l7.78-7.78 2.81-2.81c.8-.78.8-2.07 0-2.86zM5.41 20L4 18.59l7.72-7.72 1.47 1.35L5.41 20z\"/>\n",
              "  </svg>\n",
              "      </button>\n",
              "      \n",
              "  <style>\n",
              "    .colab-df-container {\n",
              "      display:flex;\n",
              "      flex-wrap:wrap;\n",
              "      gap: 12px;\n",
              "    }\n",
              "\n",
              "    .colab-df-convert {\n",
              "      background-color: #E8F0FE;\n",
              "      border: none;\n",
              "      border-radius: 50%;\n",
              "      cursor: pointer;\n",
              "      display: none;\n",
              "      fill: #1967D2;\n",
              "      height: 32px;\n",
              "      padding: 0 0 0 0;\n",
              "      width: 32px;\n",
              "    }\n",
              "\n",
              "    .colab-df-convert:hover {\n",
              "      background-color: #E2EBFA;\n",
              "      box-shadow: 0px 1px 2px rgba(60, 64, 67, 0.3), 0px 1px 3px 1px rgba(60, 64, 67, 0.15);\n",
              "      fill: #174EA6;\n",
              "    }\n",
              "\n",
              "    [theme=dark] .colab-df-convert {\n",
              "      background-color: #3B4455;\n",
              "      fill: #D2E3FC;\n",
              "    }\n",
              "\n",
              "    [theme=dark] .colab-df-convert:hover {\n",
              "      background-color: #434B5C;\n",
              "      box-shadow: 0px 1px 3px 1px rgba(0, 0, 0, 0.15);\n",
              "      filter: drop-shadow(0px 1px 2px rgba(0, 0, 0, 0.3));\n",
              "      fill: #FFFFFF;\n",
              "    }\n",
              "  </style>\n",
              "\n",
              "      <script>\n",
              "        const buttonEl =\n",
              "          document.querySelector('#df-9cd4879f-5830-487d-afbe-6366cd769cba button.colab-df-convert');\n",
              "        buttonEl.style.display =\n",
              "          google.colab.kernel.accessAllowed ? 'block' : 'none';\n",
              "\n",
              "        async function convertToInteractive(key) {\n",
              "          const element = document.querySelector('#df-9cd4879f-5830-487d-afbe-6366cd769cba');\n",
              "          const dataTable =\n",
              "            await google.colab.kernel.invokeFunction('convertToInteractive',\n",
              "                                                     [key], {});\n",
              "          if (!dataTable) return;\n",
              "\n",
              "          const docLinkHtml = 'Like what you see? Visit the ' +\n",
              "            '<a target=\"_blank\" href=https://colab.research.google.com/notebooks/data_table.ipynb>data table notebook</a>'\n",
              "            + ' to learn more about interactive tables.';\n",
              "          element.innerHTML = '';\n",
              "          dataTable['output_type'] = 'display_data';\n",
              "          await google.colab.output.renderOutput(dataTable, element);\n",
              "          const docLink = document.createElement('div');\n",
              "          docLink.innerHTML = docLinkHtml;\n",
              "          element.appendChild(docLink);\n",
              "        }\n",
              "      </script>\n",
              "    </div>\n",
              "  </div>\n",
              "  "
            ],
            "text/plain": [
              "    NitricOxide  NitrogenDioxide  OxidesofNitrogen  Ozone  WindSpeed  \\\n",
              "25          NaN             14.0              14.0     59       10.1   \n",
              "26          NaN             15.1              15.1     52        9.8   \n",
              "\n",
              "    ResultantWindSpeed  ResultantWindDirection  MaximumWindGust  \\\n",
              "25                 9.7                     282             17.1   \n",
              "26                 9.6                     284             15.1   \n",
              "\n",
              "    Std.Dev.WindDirection  OutdoorTemperature  DewPointTemperature  \\\n",
              "25                     16                82.9                 13.0   \n",
              "26                     12                79.8                 12.2   \n",
              "\n",
              "    RelativeHumidity  SolarRadiation  log_PM2.5  \n",
              "25               7.2             0.0   4.044804  \n",
              "26               7.6             0.0   3.802208  "
            ]
          },
          "metadata": {},
          "execution_count": 7
        }
      ]
    },
    {
      "cell_type": "markdown",
      "source": [
        "There are few missing values\n"
      ],
      "metadata": {
        "id": "puyQFTU5xU7g"
      }
    },
    {
      "cell_type": "code",
      "source": [
        "#Replace NAs with mean values\n",
        "\n",
        "df1 = df1.fillna(df1.mean())"
      ],
      "metadata": {
        "id": "QUcHrGwawcMl"
      },
      "execution_count": 8,
      "outputs": []
    },
    {
      "cell_type": "code",
      "source": [
        "df1.isnull().sum()"
      ],
      "metadata": {
        "colab": {
          "base_uri": "https://localhost:8080/"
        },
        "id": "9n6YQaCdy1VB",
        "outputId": "a9af4ef2-9f80-4fc6-e7cc-b4e51d8a0aaa"
      },
      "execution_count": 9,
      "outputs": [
        {
          "output_type": "execute_result",
          "data": {
            "text/plain": [
              "NitricOxide               0\n",
              "NitrogenDioxide           0\n",
              "OxidesofNitrogen          0\n",
              "Ozone                     0\n",
              "WindSpeed                 0\n",
              "ResultantWindSpeed        0\n",
              "ResultantWindDirection    0\n",
              "MaximumWindGust           0\n",
              "Std.Dev.WindDirection     0\n",
              "OutdoorTemperature        0\n",
              "DewPointTemperature       0\n",
              "RelativeHumidity          0\n",
              "SolarRadiation            0\n",
              "log_PM2.5                 0\n",
              "dtype: int64"
            ]
          },
          "metadata": {},
          "execution_count": 9
        }
      ]
    },
    {
      "cell_type": "code",
      "source": [
        "# Investigate all the elements whithin each Feature \n",
        "\n",
        "for column in df1:\n",
        "    unique_values = np.unique(df1[column])\n",
        "    number_of_values = len(unique_values)\n",
        "    if number_of_values <= 10:\n",
        "        print(\"The number of distinct values for feature {} is: {} -- {}\".format(column, number_of_values, unique_values))\n",
        "    else:\n",
        "        print(\"The number of distinct values for feature {} is: {}\".format(column, number_of_values))"
      ],
      "metadata": {
        "colab": {
          "base_uri": "https://localhost:8080/"
        },
        "id": "p9cAcouUy6xS",
        "outputId": "3b26c7fd-cdb0-419f-8274-eaf7af8493e7"
      },
      "execution_count": 15,
      "outputs": [
        {
          "output_type": "stream",
          "name": "stdout",
          "text": [
            "The number of distinct values for feature NitricOxide is: 284\n",
            "The number of distinct values for feature NitrogenDioxide is: 327\n",
            "The number of distinct values for feature OxidesofNitrogen is: 413\n",
            "The number of distinct values for feature Ozone is: 65\n",
            "The number of distinct values for feature WindSpeed is: 236\n",
            "The number of distinct values for feature ResultantWindSpeed is: 233\n",
            "The number of distinct values for feature ResultantWindDirection is: 270\n",
            "The number of distinct values for feature MaximumWindGust is: 345\n",
            "The number of distinct values for feature Std.Dev.WindDirection is: 70\n",
            "The number of distinct values for feature OutdoorTemperature is: 444\n",
            "The number of distinct values for feature DewPointTemperature is: 340\n",
            "The number of distinct values for feature RelativeHumidity is: 424\n",
            "The number of distinct values for feature SolarRadiation is: 347\n",
            "The number of distinct values for feature log_PM2.5 is: 432\n"
          ]
        }
      ]
    },
    {
      "cell_type": "markdown",
      "source": [
        "Continuous: All predictors are continuous\n",
        "\n",
        "Integer counts:All predictors \n",
        "\n",
        "Categorical: Non is categorical"
      ],
      "metadata": {
        "id": "yqSFYQeb0Nge"
      }
    },
    {
      "cell_type": "code",
      "source": [
        "df1.shape"
      ],
      "metadata": {
        "colab": {
          "base_uri": "https://localhost:8080/"
        },
        "id": "OG5Fa_f50Bda",
        "outputId": "cd040157-f632-4901-cf0c-802662068722"
      },
      "execution_count": 14,
      "outputs": [
        {
          "output_type": "execute_result",
          "data": {
            "text/plain": [
              "(845, 14)"
            ]
          },
          "metadata": {},
          "execution_count": 14
        }
      ]
    },
    {
      "cell_type": "markdown",
      "source": [
        "(c) Show a few interesting fndings about the data."
      ],
      "metadata": {
        "id": "NDwhyakp2meI"
      }
    },
    {
      "cell_type": "markdown",
      "source": [
        "The log transform of the PM.25 is normally distributed\n",
        "\n",
        "The unique occurence of each feature is just about the mean of total observations "
      ],
      "metadata": {
        "id": "H0d9btzC2qDE"
      }
    },
    {
      "cell_type": "code",
      "source": [
        ""
      ],
      "metadata": {
        "id": "j5JTKemD2a2Y"
      },
      "execution_count": null,
      "outputs": []
    }
  ]
}