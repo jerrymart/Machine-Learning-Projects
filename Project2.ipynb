{
  "nbformat": 4,
  "nbformat_minor": 0,
  "metadata": {
    "colab": {
      "name": "Project2.ipynb",
      "provenance": [],
      "collapsed_sections": [],
      "authorship_tag": "ABX9TyMJOwJlL0XXCgQd1VHP7LYQ",
      "include_colab_link": true
    },
    "kernelspec": {
      "name": "python3",
      "display_name": "Python 3"
    },
    "language_info": {
      "name": "python"
    }
  },
  "cells": [
    {
      "cell_type": "markdown",
      "metadata": {
        "id": "view-in-github",
        "colab_type": "text"
      },
      "source": [
        "<a href=\"https://colab.research.google.com/github/jerrymart/Machine-Learning-Projects/blob/main/Project2.ipynb\" target=\"_parent\"><img src=\"https://colab.research.google.com/assets/colab-badge.svg\" alt=\"Open In Colab\"/></a>"
      ]
    },
    {
      "cell_type": "code",
      "execution_count": 1,
      "metadata": {
        "id": "abzANo4afkWj"
      },
      "outputs": [],
      "source": [
        "# Packages / libraries\n",
        "import numpy as np \n",
        "import pandas as pd\n",
        "from matplotlib import pyplot as plt\n",
        "import seaborn as sns\n",
        "from sklearn.metrics import r2_score\n",
        "\n",
        "#sns.set(rc={'figure.figsize':(12,10)})"
      ]
    },
    {
      "cell_type": "code",
      "source": [
        "df = pd.read_csv('/content/PM2.5-data.csv')"
      ],
      "metadata": {
        "id": "Ksqv9t1df_-s"
      },
      "execution_count": 2,
      "outputs": []
    },
    {
      "cell_type": "code",
      "source": [
        "df.head()"
      ],
      "metadata": {
        "colab": {
          "base_uri": "https://localhost:8080/",
          "height": 270
        },
        "id": "feEKQooQgLOG",
        "outputId": "7420135d-a1ed-446d-ad3d-34cad0a62a26"
      },
      "execution_count": 3,
      "outputs": [
        {
          "output_type": "execute_result",
          "data": {
            "text/html": [
              "\n",
              "  <div id=\"df-bf00ae04-2053-4663-ab95-eabd79fbf316\">\n",
              "    <div class=\"colab-df-container\">\n",
              "      <div>\n",
              "<style scoped>\n",
              "    .dataframe tbody tr th:only-of-type {\n",
              "        vertical-align: middle;\n",
              "    }\n",
              "\n",
              "    .dataframe tbody tr th {\n",
              "        vertical-align: top;\n",
              "    }\n",
              "\n",
              "    .dataframe thead th {\n",
              "        text-align: right;\n",
              "    }\n",
              "</style>\n",
              "<table border=\"1\" class=\"dataframe\">\n",
              "  <thead>\n",
              "    <tr style=\"text-align: right;\">\n",
              "      <th></th>\n",
              "      <th>NitricOxide</th>\n",
              "      <th>NitrogenDioxide</th>\n",
              "      <th>OxidesofNitrogen</th>\n",
              "      <th>Ozone</th>\n",
              "      <th>WindSpeed</th>\n",
              "      <th>ResultantWindSpeed</th>\n",
              "      <th>ResultantWindDirection</th>\n",
              "      <th>MaximumWindGust</th>\n",
              "      <th>Std.Dev.WindDirection</th>\n",
              "      <th>OutdoorTemperature</th>\n",
              "      <th>DewPointTemperature</th>\n",
              "      <th>RelativeHumidity</th>\n",
              "      <th>SolarRadiation</th>\n",
              "      <th>PM2.5</th>\n",
              "    </tr>\n",
              "  </thead>\n",
              "  <tbody>\n",
              "    <tr>\n",
              "      <th>0</th>\n",
              "      <td>19.6</td>\n",
              "      <td>35.8</td>\n",
              "      <td>55.5</td>\n",
              "      <td>2</td>\n",
              "      <td>1.9</td>\n",
              "      <td>1.5</td>\n",
              "      <td>215</td>\n",
              "      <td>3.6</td>\n",
              "      <td>39</td>\n",
              "      <td>67.7</td>\n",
              "      <td>23.3</td>\n",
              "      <td>18.6</td>\n",
              "      <td>0.000</td>\n",
              "      <td>37.1</td>\n",
              "    </tr>\n",
              "    <tr>\n",
              "      <th>1</th>\n",
              "      <td>2.5</td>\n",
              "      <td>2.8</td>\n",
              "      <td>4.4</td>\n",
              "      <td>37</td>\n",
              "      <td>23.3</td>\n",
              "      <td>22.6</td>\n",
              "      <td>276</td>\n",
              "      <td>38.5</td>\n",
              "      <td>14</td>\n",
              "      <td>86.4</td>\n",
              "      <td>32.3</td>\n",
              "      <td>14.5</td>\n",
              "      <td>1.110</td>\n",
              "      <td>40.9</td>\n",
              "    </tr>\n",
              "    <tr>\n",
              "      <th>2</th>\n",
              "      <td>2.3</td>\n",
              "      <td>3.1</td>\n",
              "      <td>4.5</td>\n",
              "      <td>41</td>\n",
              "      <td>23.7</td>\n",
              "      <td>23.2</td>\n",
              "      <td>281</td>\n",
              "      <td>40.4</td>\n",
              "      <td>12</td>\n",
              "      <td>87.2</td>\n",
              "      <td>30.2</td>\n",
              "      <td>12.9</td>\n",
              "      <td>0.841</td>\n",
              "      <td>36.7</td>\n",
              "    </tr>\n",
              "    <tr>\n",
              "      <th>3</th>\n",
              "      <td>1.9</td>\n",
              "      <td>3.0</td>\n",
              "      <td>4.1</td>\n",
              "      <td>42</td>\n",
              "      <td>25.0</td>\n",
              "      <td>24.7</td>\n",
              "      <td>282</td>\n",
              "      <td>41.9</td>\n",
              "      <td>10</td>\n",
              "      <td>86.7</td>\n",
              "      <td>29.0</td>\n",
              "      <td>12.5</td>\n",
              "      <td>0.509</td>\n",
              "      <td>36.4</td>\n",
              "    </tr>\n",
              "    <tr>\n",
              "      <th>4</th>\n",
              "      <td>0.4</td>\n",
              "      <td>7.1</td>\n",
              "      <td>8.1</td>\n",
              "      <td>50</td>\n",
              "      <td>25.1</td>\n",
              "      <td>24.7</td>\n",
              "      <td>283</td>\n",
              "      <td>42.3</td>\n",
              "      <td>9</td>\n",
              "      <td>59.6</td>\n",
              "      <td>13.2</td>\n",
              "      <td>16.1</td>\n",
              "      <td>0.450</td>\n",
              "      <td>65.9</td>\n",
              "    </tr>\n",
              "  </tbody>\n",
              "</table>\n",
              "</div>\n",
              "      <button class=\"colab-df-convert\" onclick=\"convertToInteractive('df-bf00ae04-2053-4663-ab95-eabd79fbf316')\"\n",
              "              title=\"Convert this dataframe to an interactive table.\"\n",
              "              style=\"display:none;\">\n",
              "        \n",
              "  <svg xmlns=\"http://www.w3.org/2000/svg\" height=\"24px\"viewBox=\"0 0 24 24\"\n",
              "       width=\"24px\">\n",
              "    <path d=\"M0 0h24v24H0V0z\" fill=\"none\"/>\n",
              "    <path d=\"M18.56 5.44l.94 2.06.94-2.06 2.06-.94-2.06-.94-.94-2.06-.94 2.06-2.06.94zm-11 1L8.5 8.5l.94-2.06 2.06-.94-2.06-.94L8.5 2.5l-.94 2.06-2.06.94zm10 10l.94 2.06.94-2.06 2.06-.94-2.06-.94-.94-2.06-.94 2.06-2.06.94z\"/><path d=\"M17.41 7.96l-1.37-1.37c-.4-.4-.92-.59-1.43-.59-.52 0-1.04.2-1.43.59L10.3 9.45l-7.72 7.72c-.78.78-.78 2.05 0 2.83L4 21.41c.39.39.9.59 1.41.59.51 0 1.02-.2 1.41-.59l7.78-7.78 2.81-2.81c.8-.78.8-2.07 0-2.86zM5.41 20L4 18.59l7.72-7.72 1.47 1.35L5.41 20z\"/>\n",
              "  </svg>\n",
              "      </button>\n",
              "      \n",
              "  <style>\n",
              "    .colab-df-container {\n",
              "      display:flex;\n",
              "      flex-wrap:wrap;\n",
              "      gap: 12px;\n",
              "    }\n",
              "\n",
              "    .colab-df-convert {\n",
              "      background-color: #E8F0FE;\n",
              "      border: none;\n",
              "      border-radius: 50%;\n",
              "      cursor: pointer;\n",
              "      display: none;\n",
              "      fill: #1967D2;\n",
              "      height: 32px;\n",
              "      padding: 0 0 0 0;\n",
              "      width: 32px;\n",
              "    }\n",
              "\n",
              "    .colab-df-convert:hover {\n",
              "      background-color: #E2EBFA;\n",
              "      box-shadow: 0px 1px 2px rgba(60, 64, 67, 0.3), 0px 1px 3px 1px rgba(60, 64, 67, 0.15);\n",
              "      fill: #174EA6;\n",
              "    }\n",
              "\n",
              "    [theme=dark] .colab-df-convert {\n",
              "      background-color: #3B4455;\n",
              "      fill: #D2E3FC;\n",
              "    }\n",
              "\n",
              "    [theme=dark] .colab-df-convert:hover {\n",
              "      background-color: #434B5C;\n",
              "      box-shadow: 0px 1px 3px 1px rgba(0, 0, 0, 0.15);\n",
              "      filter: drop-shadow(0px 1px 2px rgba(0, 0, 0, 0.3));\n",
              "      fill: #FFFFFF;\n",
              "    }\n",
              "  </style>\n",
              "\n",
              "      <script>\n",
              "        const buttonEl =\n",
              "          document.querySelector('#df-bf00ae04-2053-4663-ab95-eabd79fbf316 button.colab-df-convert');\n",
              "        buttonEl.style.display =\n",
              "          google.colab.kernel.accessAllowed ? 'block' : 'none';\n",
              "\n",
              "        async function convertToInteractive(key) {\n",
              "          const element = document.querySelector('#df-bf00ae04-2053-4663-ab95-eabd79fbf316');\n",
              "          const dataTable =\n",
              "            await google.colab.kernel.invokeFunction('convertToInteractive',\n",
              "                                                     [key], {});\n",
              "          if (!dataTable) return;\n",
              "\n",
              "          const docLinkHtml = 'Like what you see? Visit the ' +\n",
              "            '<a target=\"_blank\" href=https://colab.research.google.com/notebooks/data_table.ipynb>data table notebook</a>'\n",
              "            + ' to learn more about interactive tables.';\n",
              "          element.innerHTML = '';\n",
              "          dataTable['output_type'] = 'display_data';\n",
              "          await google.colab.output.renderOutput(dataTable, element);\n",
              "          const docLink = document.createElement('div');\n",
              "          docLink.innerHTML = docLinkHtml;\n",
              "          element.appendChild(docLink);\n",
              "        }\n",
              "      </script>\n",
              "    </div>\n",
              "  </div>\n",
              "  "
            ],
            "text/plain": [
              "   NitricOxide  NitrogenDioxide  OxidesofNitrogen  Ozone  WindSpeed  \\\n",
              "0         19.6             35.8              55.5      2        1.9   \n",
              "1          2.5              2.8               4.4     37       23.3   \n",
              "2          2.3              3.1               4.5     41       23.7   \n",
              "3          1.9              3.0               4.1     42       25.0   \n",
              "4          0.4              7.1               8.1     50       25.1   \n",
              "\n",
              "   ResultantWindSpeed  ResultantWindDirection  MaximumWindGust  \\\n",
              "0                 1.5                     215              3.6   \n",
              "1                22.6                     276             38.5   \n",
              "2                23.2                     281             40.4   \n",
              "3                24.7                     282             41.9   \n",
              "4                24.7                     283             42.3   \n",
              "\n",
              "   Std.Dev.WindDirection  OutdoorTemperature  DewPointTemperature  \\\n",
              "0                     39                67.7                 23.3   \n",
              "1                     14                86.4                 32.3   \n",
              "2                     12                87.2                 30.2   \n",
              "3                     10                86.7                 29.0   \n",
              "4                      9                59.6                 13.2   \n",
              "\n",
              "   RelativeHumidity  SolarRadiation  PM2.5  \n",
              "0              18.6           0.000   37.1  \n",
              "1              14.5           1.110   40.9  \n",
              "2              12.9           0.841   36.7  \n",
              "3              12.5           0.509   36.4  \n",
              "4              16.1           0.450   65.9  "
            ]
          },
          "metadata": {},
          "execution_count": 3
        }
      ]
    },
    {
      "cell_type": "markdown",
      "source": [
        "**1. EDA analysis**"
      ],
      "metadata": {
        "id": "0vSLwXtbh1x8"
      }
    },
    {
      "cell_type": "markdown",
      "source": [
        "## (a) Obtain the histograms of both PM2.5 and the logarithm (natural base) of PM2.5\n",
        "### and comment. Proceed with the log-transformed PM2.5 from this step on."
      ],
      "metadata": {
        "id": "nUOwOGfkiAHO"
      }
    },
    {
      "cell_type": "code",
      "source": [
        "plt.figure(figsize=(10,6))\n",
        "sns.histplot(data=df,x = 'PM2.5', binwidth = 20)"
      ],
      "metadata": {
        "colab": {
          "base_uri": "https://localhost:8080/",
          "height": 411
        },
        "id": "xK-3p4pIgsLK",
        "outputId": "4cea53bb-887a-4315-d06e-d450565d33bf"
      },
      "execution_count": null,
      "outputs": [
        {
          "output_type": "execute_result",
          "data": {
            "text/plain": [
              "<matplotlib.axes._subplots.AxesSubplot at 0x7fe3a31d9b90>"
            ]
          },
          "metadata": {},
          "execution_count": 32
        },
        {
          "output_type": "display_data",
          "data": {
            "image/png": "[encoded data removed]",
            "text/plain": [
              "<Figure size 720x432 with 1 Axes>"
            ]
          },
          "metadata": {}
        }
      ]
    },
    {
      "cell_type": "code",
      "source": [
        "#Log of PM2.5\n",
        "\n",
        "df['log_PM2.5'] = np.log(df['PM2.5'])"
      ],
      "metadata": {
        "id": "Ipfp2Hnim8qL"
      },
      "execution_count": 4,
      "outputs": []
    },
    {
      "cell_type": "code",
      "source": [
        "df['log_PM2.5']"
      ],
      "metadata": {
        "colab": {
          "base_uri": "https://localhost:8080/"
        },
        "id": "5iMzwg06oNzH",
        "outputId": "e3ae1a61-95a2-45f6-e667-d43779a22e9d"
      },
      "execution_count": 5,
      "outputs": [
        {
          "output_type": "execute_result",
          "data": {
            "text/plain": [
              "0      3.613617\n",
              "1      3.711130\n",
              "2      3.602777\n",
              "3      3.594569\n",
              "4      4.188138\n",
              "         ...   \n",
              "840    2.701361\n",
              "841    2.406945\n",
              "842    2.433613\n",
              "843    2.312535\n",
              "844    2.140066\n",
              "Name: log_PM2.5, Length: 845, dtype: float64"
            ]
          },
          "metadata": {},
          "execution_count": 5
        }
      ]
    },
    {
      "cell_type": "code",
      "source": [
        "#Delete PM2.5 Column\n",
        "\n",
        "df1 = df.drop(columns = ['PM2.5'])"
      ],
      "metadata": {
        "id": "fs5QSLdOtLzG"
      },
      "execution_count": 6,
      "outputs": []
    },
    {
      "cell_type": "code",
      "source": [
        "#Inspect PM2.5 Columns\n",
        "df1.head(2)"
      ],
      "metadata": {
        "colab": {
          "base_uri": "https://localhost:8080/",
          "height": 176
        },
        "id": "bvAi4FC4uDVo",
        "outputId": "ac4cdf90-29fe-43e0-de19-747470be0a40"
      },
      "execution_count": 7,
      "outputs": [
        {
          "output_type": "execute_result",
          "data": {
            "text/html": [
              "\n",
              "  <div id=\"df-4d5a8d57-8ec8-4076-80b4-d794844ef8c0\">\n",
              "    <div class=\"colab-df-container\">\n",
              "      <div>\n",
              "<style scoped>\n",
              "    .dataframe tbody tr th:only-of-type {\n",
              "        vertical-align: middle;\n",
              "    }\n",
              "\n",
              "    .dataframe tbody tr th {\n",
              "        vertical-align: top;\n",
              "    }\n",
              "\n",
              "    .dataframe thead th {\n",
              "        text-align: right;\n",
              "    }\n",
              "</style>\n",
              "<table border=\"1\" class=\"dataframe\">\n",
              "  <thead>\n",
              "    <tr style=\"text-align: right;\">\n",
              "      <th></th>\n",
              "      <th>NitricOxide</th>\n",
              "      <th>NitrogenDioxide</th>\n",
              "      <th>OxidesofNitrogen</th>\n",
              "      <th>Ozone</th>\n",
              "      <th>WindSpeed</th>\n",
              "      <th>ResultantWindSpeed</th>\n",
              "      <th>ResultantWindDirection</th>\n",
              "      <th>MaximumWindGust</th>\n",
              "      <th>Std.Dev.WindDirection</th>\n",
              "      <th>OutdoorTemperature</th>\n",
              "      <th>DewPointTemperature</th>\n",
              "      <th>RelativeHumidity</th>\n",
              "      <th>SolarRadiation</th>\n",
              "      <th>log_PM2.5</th>\n",
              "    </tr>\n",
              "  </thead>\n",
              "  <tbody>\n",
              "    <tr>\n",
              "      <th>0</th>\n",
              "      <td>19.6</td>\n",
              "      <td>35.8</td>\n",
              "      <td>55.5</td>\n",
              "      <td>2</td>\n",
              "      <td>1.9</td>\n",
              "      <td>1.5</td>\n",
              "      <td>215</td>\n",
              "      <td>3.6</td>\n",
              "      <td>39</td>\n",
              "      <td>67.7</td>\n",
              "      <td>23.3</td>\n",
              "      <td>18.6</td>\n",
              "      <td>0.00</td>\n",
              "      <td>3.613617</td>\n",
              "    </tr>\n",
              "    <tr>\n",
              "      <th>1</th>\n",
              "      <td>2.5</td>\n",
              "      <td>2.8</td>\n",
              "      <td>4.4</td>\n",
              "      <td>37</td>\n",
              "      <td>23.3</td>\n",
              "      <td>22.6</td>\n",
              "      <td>276</td>\n",
              "      <td>38.5</td>\n",
              "      <td>14</td>\n",
              "      <td>86.4</td>\n",
              "      <td>32.3</td>\n",
              "      <td>14.5</td>\n",
              "      <td>1.11</td>\n",
              "      <td>3.711130</td>\n",
              "    </tr>\n",
              "  </tbody>\n",
              "</table>\n",
              "</div>\n",
              "      <button class=\"colab-df-convert\" onclick=\"convertToInteractive('df-4d5a8d57-8ec8-4076-80b4-d794844ef8c0')\"\n",
              "              title=\"Convert this dataframe to an interactive table.\"\n",
              "              style=\"display:none;\">\n",
              "        \n",
              "  <svg xmlns=\"http://www.w3.org/2000/svg\" height=\"24px\"viewBox=\"0 0 24 24\"\n",
              "       width=\"24px\">\n",
              "    <path d=\"M0 0h24v24H0V0z\" fill=\"none\"/>\n",
              "    <path d=\"M18.56 5.44l.94 2.06.94-2.06 2.06-.94-2.06-.94-.94-2.06-.94 2.06-2.06.94zm-11 1L8.5 8.5l.94-2.06 2.06-.94-2.06-.94L8.5 2.5l-.94 2.06-2.06.94zm10 10l.94 2.06.94-2.06 2.06-.94-2.06-.94-.94-2.06-.94 2.06-2.06.94z\"/><path d=\"M17.41 7.96l-1.37-1.37c-.4-.4-.92-.59-1.43-.59-.52 0-1.04.2-1.43.59L10.3 9.45l-7.72 7.72c-.78.78-.78 2.05 0 2.83L4 21.41c.39.39.9.59 1.41.59.51 0 1.02-.2 1.41-.59l7.78-7.78 2.81-2.81c.8-.78.8-2.07 0-2.86zM5.41 20L4 18.59l7.72-7.72 1.47 1.35L5.41 20z\"/>\n",
              "  </svg>\n",
              "      </button>\n",
              "      \n",
              "  <style>\n",
              "    .colab-df-container {\n",
              "      display:flex;\n",
              "      flex-wrap:wrap;\n",
              "      gap: 12px;\n",
              "    }\n",
              "\n",
              "    .colab-df-convert {\n",
              "      background-color: #E8F0FE;\n",
              "      border: none;\n",
              "      border-radius: 50%;\n",
              "      cursor: pointer;\n",
              "      display: none;\n",
              "      fill: #1967D2;\n",
              "      height: 32px;\n",
              "      padding: 0 0 0 0;\n",
              "      width: 32px;\n",
              "    }\n",
              "\n",
              "    .colab-df-convert:hover {\n",
              "      background-color: #E2EBFA;\n",
              "      box-shadow: 0px 1px 2px rgba(60, 64, 67, 0.3), 0px 1px 3px 1px rgba(60, 64, 67, 0.15);\n",
              "      fill: #174EA6;\n",
              "    }\n",
              "\n",
              "    [theme=dark] .colab-df-convert {\n",
              "      background-color: #3B4455;\n",
              "      fill: #D2E3FC;\n",
              "    }\n",
              "\n",
              "    [theme=dark] .colab-df-convert:hover {\n",
              "      background-color: #434B5C;\n",
              "      box-shadow: 0px 1px 3px 1px rgba(0, 0, 0, 0.15);\n",
              "      filter: drop-shadow(0px 1px 2px rgba(0, 0, 0, 0.3));\n",
              "      fill: #FFFFFF;\n",
              "    }\n",
              "  </style>\n",
              "\n",
              "      <script>\n",
              "        const buttonEl =\n",
              "          document.querySelector('#df-4d5a8d57-8ec8-4076-80b4-d794844ef8c0 button.colab-df-convert');\n",
              "        buttonEl.style.display =\n",
              "          google.colab.kernel.accessAllowed ? 'block' : 'none';\n",
              "\n",
              "        async function convertToInteractive(key) {\n",
              "          const element = document.querySelector('#df-4d5a8d57-8ec8-4076-80b4-d794844ef8c0');\n",
              "          const dataTable =\n",
              "            await google.colab.kernel.invokeFunction('convertToInteractive',\n",
              "                                                     [key], {});\n",
              "          if (!dataTable) return;\n",
              "\n",
              "          const docLinkHtml = 'Like what you see? Visit the ' +\n",
              "            '<a target=\"_blank\" href=https://colab.research.google.com/notebooks/data_table.ipynb>data table notebook</a>'\n",
              "            + ' to learn more about interactive tables.';\n",
              "          element.innerHTML = '';\n",
              "          dataTable['output_type'] = 'display_data';\n",
              "          await google.colab.output.renderOutput(dataTable, element);\n",
              "          const docLink = document.createElement('div');\n",
              "          docLink.innerHTML = docLinkHtml;\n",
              "          element.appendChild(docLink);\n",
              "        }\n",
              "      </script>\n",
              "    </div>\n",
              "  </div>\n",
              "  "
            ],
            "text/plain": [
              "   NitricOxide  NitrogenDioxide  OxidesofNitrogen  Ozone  WindSpeed  \\\n",
              "0         19.6             35.8              55.5      2        1.9   \n",
              "1          2.5              2.8               4.4     37       23.3   \n",
              "\n",
              "   ResultantWindSpeed  ResultantWindDirection  MaximumWindGust  \\\n",
              "0                 1.5                     215              3.6   \n",
              "1                22.6                     276             38.5   \n",
              "\n",
              "   Std.Dev.WindDirection  OutdoorTemperature  DewPointTemperature  \\\n",
              "0                     39                67.7                 23.3   \n",
              "1                     14                86.4                 32.3   \n",
              "\n",
              "   RelativeHumidity  SolarRadiation  log_PM2.5  \n",
              "0              18.6            0.00   3.613617  \n",
              "1              14.5            1.11   3.711130  "
            ]
          },
          "metadata": {},
          "execution_count": 7
        }
      ]
    },
    {
      "cell_type": "code",
      "source": [
        "#Histogram of LogPM2.5\n",
        "\n",
        "plt.figure(figsize=(10,6))\n",
        "sns.histplot(data=df1,x = 'log_PM2.5')"
      ],
      "metadata": {
        "colab": {
          "base_uri": "https://localhost:8080/",
          "height": 406
        },
        "id": "XJECFxWPoVFD",
        "outputId": "075c34b1-6427-48ba-d6e3-8fcd035194b8"
      },
      "execution_count": 54,
      "outputs": [
        {
          "output_type": "execute_result",
          "data": {
            "text/plain": [
              "<matplotlib.axes._subplots.AxesSubplot at 0x7f6feed99a10>"
            ]
          },
          "metadata": {},
          "execution_count": 54
        },
        {
          "output_type": "display_data",
          "data": {
            "image/png": "[encoded data removed]",
            "text/plain": [
              "<Figure size 720x432 with 1 Axes>"
            ]
          },
          "metadata": {
            "needs_background": "light"
          }
        }
      ]
    },
    {
      "cell_type": "markdown",
      "source": [
        "## (b) Inspect the data and answer these questions: Are there any missing data? Among\n",
        "## all the predictors, how many of them are continuous, integer counts, and categorical,\n",
        "### respectively?"
      ],
      "metadata": {
        "id": "V1M6JqAqwv7U"
      }
    },
    {
      "cell_type": "code",
      "source": [
        "# Checking for null values\n",
        "\n",
        "df1.isnull().sum()"
      ],
      "metadata": {
        "colab": {
          "base_uri": "https://localhost:8080/"
        },
        "id": "HjoPsyvAozHT",
        "outputId": "1e3251e0-c8a5-4da4-fe91-b65b598e6619"
      },
      "execution_count": 8,
      "outputs": [
        {
          "output_type": "execute_result",
          "data": {
            "text/plain": [
              "NitricOxide               2\n",
              "NitrogenDioxide           0\n",
              "OxidesofNitrogen          1\n",
              "Ozone                     0\n",
              "WindSpeed                 0\n",
              "ResultantWindSpeed        0\n",
              "ResultantWindDirection    0\n",
              "MaximumWindGust           0\n",
              "Std.Dev.WindDirection     0\n",
              "OutdoorTemperature        0\n",
              "DewPointTemperature       0\n",
              "RelativeHumidity          0\n",
              "SolarRadiation            0\n",
              "log_PM2.5                 0\n",
              "dtype: int64"
            ]
          },
          "metadata": {},
          "execution_count": 8
        }
      ]
    },
    {
      "cell_type": "code",
      "source": [
        "# Visualize the NULL observations\n",
        "\n",
        "df1[df1['NitricOxide'].isnull()]"
      ],
      "metadata": {
        "colab": {
          "base_uri": "https://localhost:8080/",
          "height": 176
        },
        "id": "G-mVasTLwRxX",
        "outputId": "7d5387fe-d32d-4c30-e131-9f52fb028446"
      },
      "execution_count": 9,
      "outputs": [
        {
          "output_type": "execute_result",
          "data": {
            "text/html": [
              "\n",
              "  <div id=\"df-f3bc8132-0aa9-4b0f-9012-69f28b169e49\">\n",
              "    <div class=\"colab-df-container\">\n",
              "      <div>\n",
              "<style scoped>\n",
              "    .dataframe tbody tr th:only-of-type {\n",
              "        vertical-align: middle;\n",
              "    }\n",
              "\n",
              "    .dataframe tbody tr th {\n",
              "        vertical-align: top;\n",
              "    }\n",
              "\n",
              "    .dataframe thead th {\n",
              "        text-align: right;\n",
              "    }\n",
              "</style>\n",
              "<table border=\"1\" class=\"dataframe\">\n",
              "  <thead>\n",
              "    <tr style=\"text-align: right;\">\n",
              "      <th></th>\n",
              "      <th>NitricOxide</th>\n",
              "      <th>NitrogenDioxide</th>\n",
              "      <th>OxidesofNitrogen</th>\n",
              "      <th>Ozone</th>\n",
              "      <th>WindSpeed</th>\n",
              "      <th>ResultantWindSpeed</th>\n",
              "      <th>ResultantWindDirection</th>\n",
              "      <th>MaximumWindGust</th>\n",
              "      <th>Std.Dev.WindDirection</th>\n",
              "      <th>OutdoorTemperature</th>\n",
              "      <th>DewPointTemperature</th>\n",
              "      <th>RelativeHumidity</th>\n",
              "      <th>SolarRadiation</th>\n",
              "      <th>log_PM2.5</th>\n",
              "    </tr>\n",
              "  </thead>\n",
              "  <tbody>\n",
              "    <tr>\n",
              "      <th>25</th>\n",
              "      <td>NaN</td>\n",
              "      <td>14.0</td>\n",
              "      <td>14.0</td>\n",
              "      <td>59</td>\n",
              "      <td>10.1</td>\n",
              "      <td>9.7</td>\n",
              "      <td>282</td>\n",
              "      <td>17.1</td>\n",
              "      <td>16</td>\n",
              "      <td>82.9</td>\n",
              "      <td>13.0</td>\n",
              "      <td>7.2</td>\n",
              "      <td>0.0</td>\n",
              "      <td>4.044804</td>\n",
              "    </tr>\n",
              "    <tr>\n",
              "      <th>26</th>\n",
              "      <td>NaN</td>\n",
              "      <td>15.1</td>\n",
              "      <td>15.1</td>\n",
              "      <td>52</td>\n",
              "      <td>9.8</td>\n",
              "      <td>9.6</td>\n",
              "      <td>284</td>\n",
              "      <td>15.1</td>\n",
              "      <td>12</td>\n",
              "      <td>79.8</td>\n",
              "      <td>12.2</td>\n",
              "      <td>7.6</td>\n",
              "      <td>0.0</td>\n",
              "      <td>3.802208</td>\n",
              "    </tr>\n",
              "  </tbody>\n",
              "</table>\n",
              "</div>\n",
              "      <button class=\"colab-df-convert\" onclick=\"convertToInteractive('df-f3bc8132-0aa9-4b0f-9012-69f28b169e49')\"\n",
              "              title=\"Convert this dataframe to an interactive table.\"\n",
              "              style=\"display:none;\">\n",
              "        \n",
              "  <svg xmlns=\"http://www.w3.org/2000/svg\" height=\"24px\"viewBox=\"0 0 24 24\"\n",
              "       width=\"24px\">\n",
              "    <path d=\"M0 0h24v24H0V0z\" fill=\"none\"/>\n",
              "    <path d=\"M18.56 5.44l.94 2.06.94-2.06 2.06-.94-2.06-.94-.94-2.06-.94 2.06-2.06.94zm-11 1L8.5 8.5l.94-2.06 2.06-.94-2.06-.94L8.5 2.5l-.94 2.06-2.06.94zm10 10l.94 2.06.94-2.06 2.06-.94-2.06-.94-.94-2.06-.94 2.06-2.06.94z\"/><path d=\"M17.41 7.96l-1.37-1.37c-.4-.4-.92-.59-1.43-.59-.52 0-1.04.2-1.43.59L10.3 9.45l-7.72 7.72c-.78.78-.78 2.05 0 2.83L4 21.41c.39.39.9.59 1.41.59.51 0 1.02-.2 1.41-.59l7.78-7.78 2.81-2.81c.8-.78.8-2.07 0-2.86zM5.41 20L4 18.59l7.72-7.72 1.47 1.35L5.41 20z\"/>\n",
              "  </svg>\n",
              "      </button>\n",
              "      \n",
              "  <style>\n",
              "    .colab-df-container {\n",
              "      display:flex;\n",
              "      flex-wrap:wrap;\n",
              "      gap: 12px;\n",
              "    }\n",
              "\n",
              "    .colab-df-convert {\n",
              "      background-color: #E8F0FE;\n",
              "      border: none;\n",
              "      border-radius: 50%;\n",
              "      cursor: pointer;\n",
              "      display: none;\n",
              "      fill: #1967D2;\n",
              "      height: 32px;\n",
              "      padding: 0 0 0 0;\n",
              "      width: 32px;\n",
              "    }\n",
              "\n",
              "    .colab-df-convert:hover {\n",
              "      background-color: #E2EBFA;\n",
              "      box-shadow: 0px 1px 2px rgba(60, 64, 67, 0.3), 0px 1px 3px 1px rgba(60, 64, 67, 0.15);\n",
              "      fill: #174EA6;\n",
              "    }\n",
              "\n",
              "    [theme=dark] .colab-df-convert {\n",
              "      background-color: #3B4455;\n",
              "      fill: #D2E3FC;\n",
              "    }\n",
              "\n",
              "    [theme=dark] .colab-df-convert:hover {\n",
              "      background-color: #434B5C;\n",
              "      box-shadow: 0px 1px 3px 1px rgba(0, 0, 0, 0.15);\n",
              "      filter: drop-shadow(0px 1px 2px rgba(0, 0, 0, 0.3));\n",
              "      fill: #FFFFFF;\n",
              "    }\n",
              "  </style>\n",
              "\n",
              "      <script>\n",
              "        const buttonEl =\n",
              "          document.querySelector('#df-f3bc8132-0aa9-4b0f-9012-69f28b169e49 button.colab-df-convert');\n",
              "        buttonEl.style.display =\n",
              "          google.colab.kernel.accessAllowed ? 'block' : 'none';\n",
              "\n",
              "        async function convertToInteractive(key) {\n",
              "          const element = document.querySelector('#df-f3bc8132-0aa9-4b0f-9012-69f28b169e49');\n",
              "          const dataTable =\n",
              "            await google.colab.kernel.invokeFunction('convertToInteractive',\n",
              "                                                     [key], {});\n",
              "          if (!dataTable) return;\n",
              "\n",
              "          const docLinkHtml = 'Like what you see? Visit the ' +\n",
              "            '<a target=\"_blank\" href=https://colab.research.google.com/notebooks/data_table.ipynb>data table notebook</a>'\n",
              "            + ' to learn more about interactive tables.';\n",
              "          element.innerHTML = '';\n",
              "          dataTable['output_type'] = 'display_data';\n",
              "          await google.colab.output.renderOutput(dataTable, element);\n",
              "          const docLink = document.createElement('div');\n",
              "          docLink.innerHTML = docLinkHtml;\n",
              "          element.appendChild(docLink);\n",
              "        }\n",
              "      </script>\n",
              "    </div>\n",
              "  </div>\n",
              "  "
            ],
            "text/plain": [
              "    NitricOxide  NitrogenDioxide  OxidesofNitrogen  Ozone  WindSpeed  \\\n",
              "25          NaN             14.0              14.0     59       10.1   \n",
              "26          NaN             15.1              15.1     52        9.8   \n",
              "\n",
              "    ResultantWindSpeed  ResultantWindDirection  MaximumWindGust  \\\n",
              "25                 9.7                     282             17.1   \n",
              "26                 9.6                     284             15.1   \n",
              "\n",
              "    Std.Dev.WindDirection  OutdoorTemperature  DewPointTemperature  \\\n",
              "25                     16                82.9                 13.0   \n",
              "26                     12                79.8                 12.2   \n",
              "\n",
              "    RelativeHumidity  SolarRadiation  log_PM2.5  \n",
              "25               7.2             0.0   4.044804  \n",
              "26               7.6             0.0   3.802208  "
            ]
          },
          "metadata": {},
          "execution_count": 9
        }
      ]
    },
    {
      "cell_type": "markdown",
      "source": [
        "There are few missing values\n"
      ],
      "metadata": {
        "id": "puyQFTU5xU7g"
      }
    },
    {
      "cell_type": "code",
      "source": [
        "#Replace NAs with mean values\n",
        "#df1.dropna(inplace=True)\n",
        "df1 = df1.dropna(subset = ['NitricOxide', 'OxidesofNitrogen'])"
      ],
      "metadata": {
        "id": "QUcHrGwawcMl"
      },
      "execution_count": 13,
      "outputs": []
    },
    {
      "cell_type": "code",
      "source": [
        "type(df1)"
      ],
      "metadata": {
        "colab": {
          "base_uri": "https://localhost:8080/"
        },
        "id": "UjMg5YKo9TPW",
        "outputId": "589019b5-bcf5-43bf-828e-575f8b49c13d"
      },
      "execution_count": 14,
      "outputs": [
        {
          "output_type": "execute_result",
          "data": {
            "text/plain": [
              "pandas.core.frame.DataFrame"
            ]
          },
          "metadata": {},
          "execution_count": 14
        }
      ]
    },
    {
      "cell_type": "code",
      "source": [
        "df1.isnull().sum()"
      ],
      "metadata": {
        "colab": {
          "base_uri": "https://localhost:8080/"
        },
        "id": "9n6YQaCdy1VB",
        "outputId": "3ec4eb60-2446-4696-a124-7e8b33e754ae"
      },
      "execution_count": 15,
      "outputs": [
        {
          "output_type": "execute_result",
          "data": {
            "text/plain": [
              "NitricOxide               0\n",
              "NitrogenDioxide           0\n",
              "OxidesofNitrogen          0\n",
              "Ozone                     0\n",
              "WindSpeed                 0\n",
              "ResultantWindSpeed        0\n",
              "ResultantWindDirection    0\n",
              "MaximumWindGust           0\n",
              "Std.Dev.WindDirection     0\n",
              "OutdoorTemperature        0\n",
              "DewPointTemperature       0\n",
              "RelativeHumidity          0\n",
              "SolarRadiation            0\n",
              "log_PM2.5                 0\n",
              "dtype: int64"
            ]
          },
          "metadata": {},
          "execution_count": 15
        }
      ]
    },
    {
      "cell_type": "code",
      "source": [
        "# Investigate all the elements whithin each Feature \n",
        "\n",
        "for column in df1:\n",
        "    unique_values = np.unique(df1[column])\n",
        "    number_of_values = len(unique_values)\n",
        "    if number_of_values <= 10:\n",
        "        print(\"The number of distinct values for feature {} is: {} -- {}\".format(column, number_of_values, unique_values))\n",
        "    else:\n",
        "        print(\"The number of distinct values for feature {} is: {}\".format(column, number_of_values))"
      ],
      "metadata": {
        "colab": {
          "base_uri": "https://localhost:8080/"
        },
        "id": "p9cAcouUy6xS",
        "outputId": "dd9604f5-5a89-425a-e932-ba21ab1b7bae"
      },
      "execution_count": 16,
      "outputs": [
        {
          "output_type": "stream",
          "name": "stdout",
          "text": [
            "The number of distinct values for feature NitricOxide is: 283\n",
            "The number of distinct values for feature NitrogenDioxide is: 327\n",
            "The number of distinct values for feature OxidesofNitrogen is: 412\n",
            "The number of distinct values for feature Ozone is: 65\n",
            "The number of distinct values for feature WindSpeed is: 236\n",
            "The number of distinct values for feature ResultantWindSpeed is: 233\n",
            "The number of distinct values for feature ResultantWindDirection is: 270\n",
            "The number of distinct values for feature MaximumWindGust is: 345\n",
            "The number of distinct values for feature Std.Dev.WindDirection is: 70\n",
            "The number of distinct values for feature OutdoorTemperature is: 444\n",
            "The number of distinct values for feature DewPointTemperature is: 340\n",
            "The number of distinct values for feature RelativeHumidity is: 424\n",
            "The number of distinct values for feature SolarRadiation is: 347\n",
            "The number of distinct values for feature log_PM2.5 is: 432\n"
          ]
        }
      ]
    },
    {
      "cell_type": "markdown",
      "source": [
        "Continuous: All predictors are continuous\n",
        "\n",
        "Integer counts:All predictors \n",
        "\n",
        "Categorical: Non is categorical"
      ],
      "metadata": {
        "id": "yqSFYQeb0Nge"
      }
    },
    {
      "cell_type": "code",
      "source": [
        "df1.shape"
      ],
      "metadata": {
        "colab": {
          "base_uri": "https://localhost:8080/"
        },
        "id": "OG5Fa_f50Bda",
        "outputId": "d70f6a4e-9349-46a3-b8aa-e6a85e380183"
      },
      "execution_count": 17,
      "outputs": [
        {
          "output_type": "execute_result",
          "data": {
            "text/plain": [
              "(842, 14)"
            ]
          },
          "metadata": {},
          "execution_count": 17
        }
      ]
    },
    {
      "cell_type": "markdown",
      "source": [
        "### (c) Show a few interesting fndings about the data."
      ],
      "metadata": {
        "id": "NDwhyakp2meI"
      }
    },
    {
      "cell_type": "markdown",
      "source": [
        "The log transform of the PM.25 is normally distributed\n",
        "\n",
        "The unique occurence of each feature is just about the mean of total observations \n",
        "\n",
        "Checking for Multicolinearity as follow"
      ],
      "metadata": {
        "id": "H0d9btzC2qDE"
      }
    },
    {
      "cell_type": "markdown",
      "source": [
        "## Check Multicolinearity"
      ],
      "metadata": {
        "id": "XPilJCHVuNBx"
      }
    },
    {
      "cell_type": "code",
      "source": [
        "#Correlation matrix\n",
        "plt.figure(figsize=(15,10)) #Set figure size\n",
        "\n",
        "sns.heatmap(df1.corr(), annot=True)"
      ],
      "metadata": {
        "colab": {
          "base_uri": "https://localhost:8080/",
          "height": 720
        },
        "id": "JRjS4fnGkejw",
        "outputId": "ae136691-32c2-42de-8440-e8061ce6289a"
      },
      "execution_count": 18,
      "outputs": [
        {
          "output_type": "execute_result",
          "data": {
            "text/plain": [
              "<matplotlib.axes._subplots.AxesSubplot at 0x7f6b95ccfc10>"
            ]
          },
          "metadata": {},
          "execution_count": 18
        },
        {
          "output_type": "display_data",
          "data": {
            "image/png": "[encoded data removed]",
            "text/plain": [
              "<Figure size 1080x720 with 2 Axes>"
            ]
          },
          "metadata": {
            "needs_background": "light"
          }
        }
      ]
    },
    {
      "cell_type": "markdown",
      "source": [
        "## Pairing Multicolinear Features"
      ],
      "metadata": {
        "id": "F6cbdPEaurhC"
      }
    },
    {
      "cell_type": "code",
      "source": [
        "correlatedColumns = []\n",
        "corr = df1.corr()\n",
        "indices = corr.index\n",
        "columns = corr.columns\n",
        "posthreshold = 0.85\n",
        "negthreshold = -0.85\n",
        "\n",
        "for c in columns:\n",
        "    for r in indices:\n",
        "        if c != r and (corr[c][r] > posthreshold or corr[c][r] < negthreshold):\n",
        "            correlatedColumns.append({\"column\" : c , \"row\" : r , \"val\" :corr[c][r] })\n",
        "            \n",
        "\n",
        "print(correlatedColumns)\n"
      ],
      "metadata": {
        "colab": {
          "base_uri": "https://localhost:8080/"
        },
        "id": "ASCP01ctpcPs",
        "outputId": "9e4cd2da-18b9-4c5b-ab53-d2eb7f2f4344"
      },
      "execution_count": 19,
      "outputs": [
        {
          "output_type": "stream",
          "name": "stdout",
          "text": [
            "[{'column': 'NitricOxide', 'row': 'OxidesofNitrogen', 'val': 0.9917023020518446}, {'column': 'OxidesofNitrogen', 'row': 'NitricOxide', 'val': 0.9917023020518446}, {'column': 'WindSpeed', 'row': 'ResultantWindSpeed', 'val': 0.9972624762883218}, {'column': 'WindSpeed', 'row': 'MaximumWindGust', 'val': 0.9767960875266679}, {'column': 'ResultantWindSpeed', 'row': 'WindSpeed', 'val': 0.9972624762883218}, {'column': 'ResultantWindSpeed', 'row': 'MaximumWindGust', 'val': 0.967838022676794}, {'column': 'MaximumWindGust', 'row': 'WindSpeed', 'val': 0.9767960875266679}, {'column': 'MaximumWindGust', 'row': 'ResultantWindSpeed', 'val': 0.967838022676794}]\n"
          ]
        }
      ]
    },
    {
      "cell_type": "markdown",
      "source": [
        "This show the features and the positions they are higly correlated with another feature"
      ],
      "metadata": {
        "id": "KJZQBevHuz30"
      }
    },
    {
      "cell_type": "markdown",
      "source": [
        "## Alternatively\n",
        "\n",
        "We can delete the features that are highly correlated from the dataset as follows and use this henceforth"
      ],
      "metadata": {
        "id": "9JY0ycukvPgk"
      }
    },
    {
      "cell_type": "code",
      "source": [
        "# Get correlation matrix \n",
        "corr = df1.corr()\n",
        "\n",
        "# Create a mask for values above 90% \n",
        "# But also below 100% since it variables correlated with the same one\n",
        "mask = (df1.corr() > 0.85) & (df1.corr() < 1.0)\n",
        "high_corr = corr[mask]\n",
        "\n",
        "# Create a new column mask using any() and ~\n",
        "col_to_filter_out = ~high_corr[mask].any()\n",
        "\n",
        "# Apply new mask\n",
        "df_clean = df1[high_corr.columns[col_to_filter_out]]\n",
        "\n",
        "# Visualize cleaned dataset\n",
        "df_clean"
      ],
      "metadata": {
        "colab": {
          "base_uri": "https://localhost:8080/",
          "height": 468
        },
        "id": "TSIRZIDvkCKm",
        "outputId": "1ef45d9f-edb7-4b04-a36f-d56b52bdd7ec"
      },
      "execution_count": 20,
      "outputs": [
        {
          "output_type": "execute_result",
          "data": {
            "text/html": [
              "\n",
              "  <div id=\"df-e14fcee8-8960-4d4c-bdcd-4047b87f487e\">\n",
              "    <div class=\"colab-df-container\">\n",
              "      <div>\n",
              "<style scoped>\n",
              "    .dataframe tbody tr th:only-of-type {\n",
              "        vertical-align: middle;\n",
              "    }\n",
              "\n",
              "    .dataframe tbody tr th {\n",
              "        vertical-align: top;\n",
              "    }\n",
              "\n",
              "    .dataframe thead th {\n",
              "        text-align: right;\n",
              "    }\n",
              "</style>\n",
              "<table border=\"1\" class=\"dataframe\">\n",
              "  <thead>\n",
              "    <tr style=\"text-align: right;\">\n",
              "      <th></th>\n",
              "      <th>NitrogenDioxide</th>\n",
              "      <th>Ozone</th>\n",
              "      <th>ResultantWindDirection</th>\n",
              "      <th>Std.Dev.WindDirection</th>\n",
              "      <th>OutdoorTemperature</th>\n",
              "      <th>DewPointTemperature</th>\n",
              "      <th>RelativeHumidity</th>\n",
              "      <th>SolarRadiation</th>\n",
              "      <th>log_PM2.5</th>\n",
              "    </tr>\n",
              "  </thead>\n",
              "  <tbody>\n",
              "    <tr>\n",
              "      <th>0</th>\n",
              "      <td>35.8</td>\n",
              "      <td>2</td>\n",
              "      <td>215</td>\n",
              "      <td>39</td>\n",
              "      <td>67.7</td>\n",
              "      <td>23.3</td>\n",
              "      <td>18.6</td>\n",
              "      <td>0.000</td>\n",
              "      <td>3.613617</td>\n",
              "    </tr>\n",
              "    <tr>\n",
              "      <th>1</th>\n",
              "      <td>2.8</td>\n",
              "      <td>37</td>\n",
              "      <td>276</td>\n",
              "      <td>14</td>\n",
              "      <td>86.4</td>\n",
              "      <td>32.3</td>\n",
              "      <td>14.5</td>\n",
              "      <td>1.110</td>\n",
              "      <td>3.711130</td>\n",
              "    </tr>\n",
              "    <tr>\n",
              "      <th>2</th>\n",
              "      <td>3.1</td>\n",
              "      <td>41</td>\n",
              "      <td>281</td>\n",
              "      <td>12</td>\n",
              "      <td>87.2</td>\n",
              "      <td>30.2</td>\n",
              "      <td>12.9</td>\n",
              "      <td>0.841</td>\n",
              "      <td>3.602777</td>\n",
              "    </tr>\n",
              "    <tr>\n",
              "      <th>3</th>\n",
              "      <td>3.0</td>\n",
              "      <td>42</td>\n",
              "      <td>282</td>\n",
              "      <td>10</td>\n",
              "      <td>86.7</td>\n",
              "      <td>29.0</td>\n",
              "      <td>12.5</td>\n",
              "      <td>0.509</td>\n",
              "      <td>3.594569</td>\n",
              "    </tr>\n",
              "    <tr>\n",
              "      <th>4</th>\n",
              "      <td>7.1</td>\n",
              "      <td>50</td>\n",
              "      <td>283</td>\n",
              "      <td>9</td>\n",
              "      <td>59.6</td>\n",
              "      <td>13.2</td>\n",
              "      <td>16.1</td>\n",
              "      <td>0.450</td>\n",
              "      <td>4.188138</td>\n",
              "    </tr>\n",
              "    <tr>\n",
              "      <th>...</th>\n",
              "      <td>...</td>\n",
              "      <td>...</td>\n",
              "      <td>...</td>\n",
              "      <td>...</td>\n",
              "      <td>...</td>\n",
              "      <td>...</td>\n",
              "      <td>...</td>\n",
              "      <td>...</td>\n",
              "      <td>...</td>\n",
              "    </tr>\n",
              "    <tr>\n",
              "      <th>840</th>\n",
              "      <td>20.2</td>\n",
              "      <td>16</td>\n",
              "      <td>278</td>\n",
              "      <td>11</td>\n",
              "      <td>66.6</td>\n",
              "      <td>36.8</td>\n",
              "      <td>33.3</td>\n",
              "      <td>0.041</td>\n",
              "      <td>2.701361</td>\n",
              "    </tr>\n",
              "    <tr>\n",
              "      <th>841</th>\n",
              "      <td>3.8</td>\n",
              "      <td>33</td>\n",
              "      <td>295</td>\n",
              "      <td>15</td>\n",
              "      <td>68.0</td>\n",
              "      <td>37.2</td>\n",
              "      <td>32.5</td>\n",
              "      <td>0.262</td>\n",
              "      <td>2.406945</td>\n",
              "    </tr>\n",
              "    <tr>\n",
              "      <th>842</th>\n",
              "      <td>0.2</td>\n",
              "      <td>37</td>\n",
              "      <td>289</td>\n",
              "      <td>18</td>\n",
              "      <td>68.9</td>\n",
              "      <td>36.5</td>\n",
              "      <td>30.4</td>\n",
              "      <td>0.580</td>\n",
              "      <td>2.433613</td>\n",
              "    </tr>\n",
              "    <tr>\n",
              "      <th>843</th>\n",
              "      <td>2.3</td>\n",
              "      <td>37</td>\n",
              "      <td>278</td>\n",
              "      <td>23</td>\n",
              "      <td>69.6</td>\n",
              "      <td>36.6</td>\n",
              "      <td>29.9</td>\n",
              "      <td>0.882</td>\n",
              "      <td>2.312535</td>\n",
              "    </tr>\n",
              "    <tr>\n",
              "      <th>844</th>\n",
              "      <td>2.3</td>\n",
              "      <td>41</td>\n",
              "      <td>247</td>\n",
              "      <td>34</td>\n",
              "      <td>72.8</td>\n",
              "      <td>36.5</td>\n",
              "      <td>26.9</td>\n",
              "      <td>1.160</td>\n",
              "      <td>2.140066</td>\n",
              "    </tr>\n",
              "  </tbody>\n",
              "</table>\n",
              "<p>842 rows × 9 columns</p>\n",
              "</div>\n",
              "      <button class=\"colab-df-convert\" onclick=\"convertToInteractive('df-e14fcee8-8960-4d4c-bdcd-4047b87f487e')\"\n",
              "              title=\"Convert this dataframe to an interactive table.\"\n",
              "              style=\"display:none;\">\n",
              "        \n",
              "  <svg xmlns=\"http://www.w3.org/2000/svg\" height=\"24px\"viewBox=\"0 0 24 24\"\n",
              "       width=\"24px\">\n",
              "    <path d=\"M0 0h24v24H0V0z\" fill=\"none\"/>\n",
              "    <path d=\"M18.56 5.44l.94 2.06.94-2.06 2.06-.94-2.06-.94-.94-2.06-.94 2.06-2.06.94zm-11 1L8.5 8.5l.94-2.06 2.06-.94-2.06-.94L8.5 2.5l-.94 2.06-2.06.94zm10 10l.94 2.06.94-2.06 2.06-.94-2.06-.94-.94-2.06-.94 2.06-2.06.94z\"/><path d=\"M17.41 7.96l-1.37-1.37c-.4-.4-.92-.59-1.43-.59-.52 0-1.04.2-1.43.59L10.3 9.45l-7.72 7.72c-.78.78-.78 2.05 0 2.83L4 21.41c.39.39.9.59 1.41.59.51 0 1.02-.2 1.41-.59l7.78-7.78 2.81-2.81c.8-.78.8-2.07 0-2.86zM5.41 20L4 18.59l7.72-7.72 1.47 1.35L5.41 20z\"/>\n",
              "  </svg>\n",
              "      </button>\n",
              "      \n",
              "  <style>\n",
              "    .colab-df-container {\n",
              "      display:flex;\n",
              "      flex-wrap:wrap;\n",
              "      gap: 12px;\n",
              "    }\n",
              "\n",
              "    .colab-df-convert {\n",
              "      background-color: #E8F0FE;\n",
              "      border: none;\n",
              "      border-radius: 50%;\n",
              "      cursor: pointer;\n",
              "      display: none;\n",
              "      fill: #1967D2;\n",
              "      height: 32px;\n",
              "      padding: 0 0 0 0;\n",
              "      width: 32px;\n",
              "    }\n",
              "\n",
              "    .colab-df-convert:hover {\n",
              "      background-color: #E2EBFA;\n",
              "      box-shadow: 0px 1px 2px rgba(60, 64, 67, 0.3), 0px 1px 3px 1px rgba(60, 64, 67, 0.15);\n",
              "      fill: #174EA6;\n",
              "    }\n",
              "\n",
              "    [theme=dark] .colab-df-convert {\n",
              "      background-color: #3B4455;\n",
              "      fill: #D2E3FC;\n",
              "    }\n",
              "\n",
              "    [theme=dark] .colab-df-convert:hover {\n",
              "      background-color: #434B5C;\n",
              "      box-shadow: 0px 1px 3px 1px rgba(0, 0, 0, 0.15);\n",
              "      filter: drop-shadow(0px 1px 2px rgba(0, 0, 0, 0.3));\n",
              "      fill: #FFFFFF;\n",
              "    }\n",
              "  </style>\n",
              "\n",
              "      <script>\n",
              "        const buttonEl =\n",
              "          document.querySelector('#df-e14fcee8-8960-4d4c-bdcd-4047b87f487e button.colab-df-convert');\n",
              "        buttonEl.style.display =\n",
              "          google.colab.kernel.accessAllowed ? 'block' : 'none';\n",
              "\n",
              "        async function convertToInteractive(key) {\n",
              "          const element = document.querySelector('#df-e14fcee8-8960-4d4c-bdcd-4047b87f487e');\n",
              "          const dataTable =\n",
              "            await google.colab.kernel.invokeFunction('convertToInteractive',\n",
              "                                                     [key], {});\n",
              "          if (!dataTable) return;\n",
              "\n",
              "          const docLinkHtml = 'Like what you see? Visit the ' +\n",
              "            '<a target=\"_blank\" href=https://colab.research.google.com/notebooks/data_table.ipynb>data table notebook</a>'\n",
              "            + ' to learn more about interactive tables.';\n",
              "          element.innerHTML = '';\n",
              "          dataTable['output_type'] = 'display_data';\n",
              "          await google.colab.output.renderOutput(dataTable, element);\n",
              "          const docLink = document.createElement('div');\n",
              "          docLink.innerHTML = docLinkHtml;\n",
              "          element.appendChild(docLink);\n",
              "        }\n",
              "      </script>\n",
              "    </div>\n",
              "  </div>\n",
              "  "
            ],
            "text/plain": [
              "     NitrogenDioxide  Ozone  ResultantWindDirection  Std.Dev.WindDirection  \\\n",
              "0               35.8      2                     215                     39   \n",
              "1                2.8     37                     276                     14   \n",
              "2                3.1     41                     281                     12   \n",
              "3                3.0     42                     282                     10   \n",
              "4                7.1     50                     283                      9   \n",
              "..               ...    ...                     ...                    ...   \n",
              "840             20.2     16                     278                     11   \n",
              "841              3.8     33                     295                     15   \n",
              "842              0.2     37                     289                     18   \n",
              "843              2.3     37                     278                     23   \n",
              "844              2.3     41                     247                     34   \n",
              "\n",
              "     OutdoorTemperature  DewPointTemperature  RelativeHumidity  \\\n",
              "0                  67.7                 23.3              18.6   \n",
              "1                  86.4                 32.3              14.5   \n",
              "2                  87.2                 30.2              12.9   \n",
              "3                  86.7                 29.0              12.5   \n",
              "4                  59.6                 13.2              16.1   \n",
              "..                  ...                  ...               ...   \n",
              "840                66.6                 36.8              33.3   \n",
              "841                68.0                 37.2              32.5   \n",
              "842                68.9                 36.5              30.4   \n",
              "843                69.6                 36.6              29.9   \n",
              "844                72.8                 36.5              26.9   \n",
              "\n",
              "     SolarRadiation  log_PM2.5  \n",
              "0             0.000   3.613617  \n",
              "1             1.110   3.711130  \n",
              "2             0.841   3.602777  \n",
              "3             0.509   3.594569  \n",
              "4             0.450   4.188138  \n",
              "..              ...        ...  \n",
              "840           0.041   2.701361  \n",
              "841           0.262   2.406945  \n",
              "842           0.580   2.433613  \n",
              "843           0.882   2.312535  \n",
              "844           1.160   2.140066  \n",
              "\n",
              "[842 rows x 9 columns]"
            ]
          },
          "metadata": {},
          "execution_count": 20
        }
      ]
    },
    {
      "cell_type": "markdown",
      "source": [
        "### Investigate the distribution of the response"
      ],
      "metadata": {
        "id": "5z18Osvrzp2_"
      }
    },
    {
      "cell_type": "code",
      "source": [
        "df1['log_PM2.5'].describe()"
      ],
      "metadata": {
        "colab": {
          "base_uri": "https://localhost:8080/"
        },
        "id": "ZEQc2xiHsYY3",
        "outputId": "c62896e5-4e24-4404-b049-a368885128ef"
      },
      "execution_count": 21,
      "outputs": [
        {
          "output_type": "execute_result",
          "data": {
            "text/plain": [
              "count    842.000000\n",
              "mean       2.953747\n",
              "std        1.080634\n",
              "min       -2.302585\n",
              "25%        2.208274\n",
              "50%        2.965273\n",
              "75%        3.792111\n",
              "max        6.126651\n",
              "Name: log_PM2.5, dtype: float64"
            ]
          },
          "metadata": {},
          "execution_count": 21
        }
      ]
    },
    {
      "cell_type": "code",
      "source": [
        "plt.figure(figsize=(12,6))\n",
        "\n",
        "sns.histplot(x= df1['log_PM2.5'])"
      ],
      "metadata": {
        "colab": {
          "base_uri": "https://localhost:8080/",
          "height": 406
        },
        "id": "CEJKLzIKxzOM",
        "outputId": "2ca2914e-0d28-4a44-883d-bade6645159a"
      },
      "execution_count": 22,
      "outputs": [
        {
          "output_type": "execute_result",
          "data": {
            "text/plain": [
              "<matplotlib.axes._subplots.AxesSubplot at 0x7f6b96da93d0>"
            ]
          },
          "metadata": {},
          "execution_count": 22
        },
        {
          "output_type": "display_data",
          "data": {
            "image/png": "[encoded data removed]",
            "text/plain": [
              "<Figure size 864x432 with 1 Axes>"
            ]
          },
          "metadata": {
            "needs_background": "light"
          }
        }
      ]
    },
    {
      "cell_type": "markdown",
      "source": [
        "#### PM.25 at value -2 happens to be an outlier\n",
        "\n",
        "Only few log_PM2.5 have values around 6 which is the maximum, more of the values have avg. values of 2.9\n",
        "\n",
        "Also most values fall within 2-5\n",
        "\n",
        "We should expect most of our predicted values to lie between 2-5 mostly\n",
        "\n",
        "Also, it is observed that the features are in different scales, so we need to standardize the data"
      ],
      "metadata": {
        "id": "YFnYTlBnz5E3"
      }
    },
    {
      "cell_type": "markdown",
      "source": [
        ""
      ],
      "metadata": {
        "id": "37I7lhb26zv4"
      }
    },
    {
      "cell_type": "markdown",
      "source": [
        "## Standardize The Data"
      ],
      "metadata": {
        "id": "zGtZOJcI6tGd"
      }
    },
    {
      "cell_type": "code",
      "source": [
        "df1.columns"
      ],
      "metadata": {
        "colab": {
          "base_uri": "https://localhost:8080/"
        },
        "id": "Zx7ZkugL6MVc",
        "outputId": "edc5b3a5-558e-4cf2-9186-59f8a11e1fa1"
      },
      "execution_count": 65,
      "outputs": [
        {
          "output_type": "execute_result",
          "data": {
            "text/plain": [
              "Index(['NitricOxide', 'NitrogenDioxide', 'OxidesofNitrogen', 'Ozone',\n",
              "       'WindSpeed', 'ResultantWindSpeed', 'ResultantWindDirection',\n",
              "       'MaximumWindGust', 'Std.Dev.WindDirection', 'OutdoorTemperature',\n",
              "       'DewPointTemperature', 'RelativeHumidity', 'SolarRadiation',\n",
              "       'log_PM2.5'],\n",
              "      dtype='object')"
            ]
          },
          "metadata": {},
          "execution_count": 65
        }
      ]
    },
    {
      "cell_type": "code",
      "source": [
        "from sklearn.preprocessing import MinMaxScaler\n",
        "# Scaling our columns except the target\n",
        "scale_vars = ['NitricOxide', 'NitrogenDioxide', 'OxidesofNitrogen', 'Ozone',\n",
        "       'WindSpeed', 'ResultantWindSpeed', 'ResultantWindDirection',\n",
        "       'MaximumWindGust', 'Std.Dev.WindDirection', 'OutdoorTemperature',\n",
        "       'DewPointTemperature', 'RelativeHumidity', 'SolarRadiation']\n",
        "\n",
        "scaler = MinMaxScaler()\n",
        "df1[scale_vars] = scaler.fit_transform(df1[scale_vars]) #df1[scale_vars] -> making the array  to a dataframe\n",
        "\n",
        "df1.head(2)"
      ],
      "metadata": {
        "colab": {
          "base_uri": "https://localhost:8080/",
          "height": 176
        },
        "id": "uIOZhYxI6I0x",
        "outputId": "1a6ec3b8-4d17-4799-d8d6-c78177e183e9"
      },
      "execution_count": 23,
      "outputs": [
        {
          "output_type": "execute_result",
          "data": {
            "text/html": [
              "\n",
              "  <div id=\"df-6736c5a0-bb96-47b5-9dcd-3125f0328d93\">\n",
              "    <div class=\"colab-df-container\">\n",
              "      <div>\n",
              "<style scoped>\n",
              "    .dataframe tbody tr th:only-of-type {\n",
              "        vertical-align: middle;\n",
              "    }\n",
              "\n",
              "    .dataframe tbody tr th {\n",
              "        vertical-align: top;\n",
              "    }\n",
              "\n",
              "    .dataframe thead th {\n",
              "        text-align: right;\n",
              "    }\n",
              "</style>\n",
              "<table border=\"1\" class=\"dataframe\">\n",
              "  <thead>\n",
              "    <tr style=\"text-align: right;\">\n",
              "      <th></th>\n",
              "      <th>NitricOxide</th>\n",
              "      <th>NitrogenDioxide</th>\n",
              "      <th>OxidesofNitrogen</th>\n",
              "      <th>Ozone</th>\n",
              "      <th>WindSpeed</th>\n",
              "      <th>ResultantWindSpeed</th>\n",
              "      <th>ResultantWindDirection</th>\n",
              "      <th>MaximumWindGust</th>\n",
              "      <th>Std.Dev.WindDirection</th>\n",
              "      <th>OutdoorTemperature</th>\n",
              "      <th>DewPointTemperature</th>\n",
              "      <th>RelativeHumidity</th>\n",
              "      <th>SolarRadiation</th>\n",
              "      <th>log_PM2.5</th>\n",
              "    </tr>\n",
              "  </thead>\n",
              "  <tbody>\n",
              "    <tr>\n",
              "      <th>0</th>\n",
              "      <td>0.072750</td>\n",
              "      <td>0.531768</td>\n",
              "      <td>0.161457</td>\n",
              "      <td>0.042254</td>\n",
              "      <td>0.050157</td>\n",
              "      <td>0.047468</td>\n",
              "      <td>0.594972</td>\n",
              "      <td>0.059140</td>\n",
              "      <td>0.445946</td>\n",
              "      <td>0.540264</td>\n",
              "      <td>0.421555</td>\n",
              "      <td>0.138741</td>\n",
              "      <td>0.000000</td>\n",
              "      <td>3.613617</td>\n",
              "    </tr>\n",
              "    <tr>\n",
              "      <th>1</th>\n",
              "      <td>0.020037</td>\n",
              "      <td>0.075967</td>\n",
              "      <td>0.022560</td>\n",
              "      <td>0.535211</td>\n",
              "      <td>0.721003</td>\n",
              "      <td>0.715190</td>\n",
              "      <td>0.765363</td>\n",
              "      <td>0.684588</td>\n",
              "      <td>0.108108</td>\n",
              "      <td>0.814056</td>\n",
              "      <td>0.544338</td>\n",
              "      <td>0.094984</td>\n",
              "      <td>0.707006</td>\n",
              "      <td>3.711130</td>\n",
              "    </tr>\n",
              "  </tbody>\n",
              "</table>\n",
              "</div>\n",
              "      <button class=\"colab-df-convert\" onclick=\"convertToInteractive('df-6736c5a0-bb96-47b5-9dcd-3125f0328d93')\"\n",
              "              title=\"Convert this dataframe to an interactive table.\"\n",
              "              style=\"display:none;\">\n",
              "        \n",
              "  <svg xmlns=\"http://www.w3.org/2000/svg\" height=\"24px\"viewBox=\"0 0 24 24\"\n",
              "       width=\"24px\">\n",
              "    <path d=\"M0 0h24v24H0V0z\" fill=\"none\"/>\n",
              "    <path d=\"M18.56 5.44l.94 2.06.94-2.06 2.06-.94-2.06-.94-.94-2.06-.94 2.06-2.06.94zm-11 1L8.5 8.5l.94-2.06 2.06-.94-2.06-.94L8.5 2.5l-.94 2.06-2.06.94zm10 10l.94 2.06.94-2.06 2.06-.94-2.06-.94-.94-2.06-.94 2.06-2.06.94z\"/><path d=\"M17.41 7.96l-1.37-1.37c-.4-.4-.92-.59-1.43-.59-.52 0-1.04.2-1.43.59L10.3 9.45l-7.72 7.72c-.78.78-.78 2.05 0 2.83L4 21.41c.39.39.9.59 1.41.59.51 0 1.02-.2 1.41-.59l7.78-7.78 2.81-2.81c.8-.78.8-2.07 0-2.86zM5.41 20L4 18.59l7.72-7.72 1.47 1.35L5.41 20z\"/>\n",
              "  </svg>\n",
              "      </button>\n",
              "      \n",
              "  <style>\n",
              "    .colab-df-container {\n",
              "      display:flex;\n",
              "      flex-wrap:wrap;\n",
              "      gap: 12px;\n",
              "    }\n",
              "\n",
              "    .colab-df-convert {\n",
              "      background-color: #E8F0FE;\n",
              "      border: none;\n",
              "      border-radius: 50%;\n",
              "      cursor: pointer;\n",
              "      display: none;\n",
              "      fill: #1967D2;\n",
              "      height: 32px;\n",
              "      padding: 0 0 0 0;\n",
              "      width: 32px;\n",
              "    }\n",
              "\n",
              "    .colab-df-convert:hover {\n",
              "      background-color: #E2EBFA;\n",
              "      box-shadow: 0px 1px 2px rgba(60, 64, 67, 0.3), 0px 1px 3px 1px rgba(60, 64, 67, 0.15);\n",
              "      fill: #174EA6;\n",
              "    }\n",
              "\n",
              "    [theme=dark] .colab-df-convert {\n",
              "      background-color: #3B4455;\n",
              "      fill: #D2E3FC;\n",
              "    }\n",
              "\n",
              "    [theme=dark] .colab-df-convert:hover {\n",
              "      background-color: #434B5C;\n",
              "      box-shadow: 0px 1px 3px 1px rgba(0, 0, 0, 0.15);\n",
              "      filter: drop-shadow(0px 1px 2px rgba(0, 0, 0, 0.3));\n",
              "      fill: #FFFFFF;\n",
              "    }\n",
              "  </style>\n",
              "\n",
              "      <script>\n",
              "        const buttonEl =\n",
              "          document.querySelector('#df-6736c5a0-bb96-47b5-9dcd-3125f0328d93 button.colab-df-convert');\n",
              "        buttonEl.style.display =\n",
              "          google.colab.kernel.accessAllowed ? 'block' : 'none';\n",
              "\n",
              "        async function convertToInteractive(key) {\n",
              "          const element = document.querySelector('#df-6736c5a0-bb96-47b5-9dcd-3125f0328d93');\n",
              "          const dataTable =\n",
              "            await google.colab.kernel.invokeFunction('convertToInteractive',\n",
              "                                                     [key], {});\n",
              "          if (!dataTable) return;\n",
              "\n",
              "          const docLinkHtml = 'Like what you see? Visit the ' +\n",
              "            '<a target=\"_blank\" href=https://colab.research.google.com/notebooks/data_table.ipynb>data table notebook</a>'\n",
              "            + ' to learn more about interactive tables.';\n",
              "          element.innerHTML = '';\n",
              "          dataTable['output_type'] = 'display_data';\n",
              "          await google.colab.output.renderOutput(dataTable, element);\n",
              "          const docLink = document.createElement('div');\n",
              "          docLink.innerHTML = docLinkHtml;\n",
              "          element.appendChild(docLink);\n",
              "        }\n",
              "      </script>\n",
              "    </div>\n",
              "  </div>\n",
              "  "
            ],
            "text/plain": [
              "   NitricOxide  NitrogenDioxide  OxidesofNitrogen     Ozone  WindSpeed  \\\n",
              "0     0.072750         0.531768          0.161457  0.042254   0.050157   \n",
              "1     0.020037         0.075967          0.022560  0.535211   0.721003   \n",
              "\n",
              "   ResultantWindSpeed  ResultantWindDirection  MaximumWindGust  \\\n",
              "0            0.047468                0.594972         0.059140   \n",
              "1            0.715190                0.765363         0.684588   \n",
              "\n",
              "   Std.Dev.WindDirection  OutdoorTemperature  DewPointTemperature  \\\n",
              "0               0.445946            0.540264             0.421555   \n",
              "1               0.108108            0.814056             0.544338   \n",
              "\n",
              "   RelativeHumidity  SolarRadiation  log_PM2.5  \n",
              "0          0.138741        0.000000   3.613617  \n",
              "1          0.094984        0.707006   3.711130  "
            ]
          },
          "metadata": {},
          "execution_count": 23
        }
      ]
    },
    {
      "cell_type": "code",
      "source": [
        ""
      ],
      "metadata": {
        "id": "Ut1sQVdb1GB8"
      },
      "execution_count": null,
      "outputs": []
    },
    {
      "cell_type": "markdown",
      "source": [
        "# 2. Linear Regression:"
      ],
      "metadata": {
        "id": "c1dBA6YJ2mjt"
      }
    },
    {
      "cell_type": "markdown",
      "source": [
        "### (a) Fit the full model where the response variable is the log-transformed PM2.5."
      ],
      "metadata": {
        "id": "KZKlTSDC2i8U"
      }
    },
    {
      "cell_type": "code",
      "source": [
        "X = df1.drop('log_PM2.5', axis = 1).values\n",
        "X"
      ],
      "metadata": {
        "colab": {
          "base_uri": "https://localhost:8080/"
        },
        "id": "kPy6Pkj12lOH",
        "outputId": "95170dfc-9968-487f-8a07-30f0c289b8e9"
      },
      "execution_count": 24,
      "outputs": [
        {
          "output_type": "execute_result",
          "data": {
            "text/plain": [
              "array([[0.07274969, 0.53176796, 0.16145692, ..., 0.42155525, 0.13874066,\n",
              "        0.        ],\n",
              "       [0.02003699, 0.07596685, 0.02256048, ..., 0.54433834, 0.09498399,\n",
              "        0.70700637],\n",
              "       [0.01942047, 0.0801105 , 0.02283229, ..., 0.51568895, 0.07790822,\n",
              "        0.53566879],\n",
              "       ...,\n",
              "       [0.00739827, 0.04005525, 0.01032889, ..., 0.60163711, 0.26467449,\n",
              "        0.36942675],\n",
              "       [0.01140567, 0.06906077, 0.0187551 , ..., 0.60300136, 0.25933831,\n",
              "        0.56178344],\n",
              "       [0.01233046, 0.06906077, 0.01848328, ..., 0.60163711, 0.22732124,\n",
              "        0.7388535 ]])"
            ]
          },
          "metadata": {},
          "execution_count": 24
        }
      ]
    },
    {
      "cell_type": "code",
      "source": [
        "y = df1['log_PM2.5']\n",
        "y"
      ],
      "metadata": {
        "colab": {
          "base_uri": "https://localhost:8080/"
        },
        "id": "2iYVj0up3N4t",
        "outputId": "6d0104f9-f395-440f-a191-09b88b51e20c"
      },
      "execution_count": 26,
      "outputs": [
        {
          "output_type": "execute_result",
          "data": {
            "text/plain": [
              "0      3.613617\n",
              "1      3.711130\n",
              "2      3.602777\n",
              "3      3.594569\n",
              "4      4.188138\n",
              "         ...   \n",
              "840    2.701361\n",
              "841    2.406945\n",
              "842    2.433613\n",
              "843    2.312535\n",
              "844    2.140066\n",
              "Name: log_PM2.5, Length: 842, dtype: float64"
            ]
          },
          "metadata": {},
          "execution_count": 26
        }
      ]
    },
    {
      "cell_type": "code",
      "source": [
        "#Split the data into training and testing set\n",
        "\n",
        "from sklearn.model_selection import train_test_split\n",
        "\n",
        "X_train, X_test, y_train, y_test = train_test_split(X, y, train_size=0.80, test_size = 0.2, random_state=15)"
      ],
      "metadata": {
        "id": "mssPnF_B3Oxk"
      },
      "execution_count": 27,
      "outputs": []
    },
    {
      "cell_type": "code",
      "source": [
        "#Linear Regressors\n",
        "from sklearn.linear_model import LinearRegression\n",
        "\n",
        "# Training the Regression\n",
        "lm = LinearRegression(fit_intercept = True)     #fit_intercept = True => so we can make some predictions later on\n",
        "\n",
        "lm.fit(X_train, y_train)"
      ],
      "metadata": {
        "colab": {
          "base_uri": "https://localhost:8080/"
        },
        "id": "f7W2N1K434n5",
        "outputId": "db8ebc4c-657c-4700-a223-d6a221e06a4f"
      },
      "execution_count": 28,
      "outputs": [
        {
          "output_type": "execute_result",
          "data": {
            "text/plain": [
              "LinearRegression()"
            ]
          },
          "metadata": {},
          "execution_count": 28
        }
      ]
    },
    {
      "cell_type": "markdown",
      "source": [
        "###(b) Find the coefficients of the predictors"
      ],
      "metadata": {
        "id": "nM9EaHmBC8dN"
      }
    },
    {
      "cell_type": "code",
      "source": [
        "lm.coef_ "
      ],
      "metadata": {
        "colab": {
          "base_uri": "https://localhost:8080/"
        },
        "id": "nyRoYHoR4im8",
        "outputId": "00f61769-403f-4c2f-ffc3-df0cd1e2b891"
      },
      "execution_count": 29,
      "outputs": [
        {
          "output_type": "execute_result",
          "data": {
            "text/plain": [
              "array([10.87148945,  3.77717721, -9.97291313, -0.60408975, -1.19470066,\n",
              "        3.43629743, -0.65043432,  1.66355729,  0.92235832,  1.95905329,\n",
              "       -1.2081038 ,  0.54614268, -0.45615011])"
            ]
          },
          "metadata": {},
          "execution_count": 29
        }
      ]
    },
    {
      "cell_type": "code",
      "source": [
        "import statsmodels.api as sm\n",
        "\n",
        "sm.add_constant(X)\n",
        "mod = sm.OLS(y, X)\n",
        "res = mod.fit()"
      ],
      "metadata": {
        "colab": {
          "base_uri": "https://localhost:8080/"
        },
        "id": "i0NR1Hu2C4Cr",
        "outputId": "6edec9c3-9200-484a-99f6-3f891ba13b9d"
      },
      "execution_count": 30,
      "outputs": [
        {
          "output_type": "stream",
          "name": "stderr",
          "text": [
            "/usr/local/lib/python3.7/dist-packages/statsmodels/tools/_testing.py:19: FutureWarning: pandas.util.testing is deprecated. Use the functions in the public API at pandas.testing instead.\n",
            "  import pandas.util.testing as tm\n"
          ]
        }
      ]
    },
    {
      "cell_type": "code",
      "source": [
        "print(res.summary())"
      ],
      "metadata": {
        "colab": {
          "base_uri": "https://localhost:8080/"
        },
        "id": "Xj5lyk-KDSPe",
        "outputId": "95a63f55-247a-492e-91a0-8725b0519e61"
      },
      "execution_count": 31,
      "outputs": [
        {
          "output_type": "stream",
          "name": "stdout",
          "text": [
            "                                 OLS Regression Results                                \n",
            "=======================================================================================\n",
            "Dep. Variable:              log_PM2.5   R-squared (uncentered):                   0.949\n",
            "Model:                            OLS   Adj. R-squared (uncentered):              0.948\n",
            "Method:                 Least Squares   F-statistic:                              1186.\n",
            "Date:                Sun, 06 Mar 2022   Prob (F-statistic):                        0.00\n",
            "Time:                        16:25:51   Log-Likelihood:                         -906.74\n",
            "No. Observations:                 842   AIC:                                      1839.\n",
            "Df Residuals:                     829   BIC:                                      1901.\n",
            "Df Model:                          13                                                  \n",
            "Covariance Type:            nonrobust                                                  \n",
            "==============================================================================\n",
            "                 coef    std err          t      P>|t|      [0.025      0.975]\n",
            "------------------------------------------------------------------------------\n",
            "x1            10.9882      6.049      1.817      0.070      -0.884      22.861\n",
            "x2             4.9673      1.273      3.902      0.000       2.469       7.466\n",
            "x3           -10.4842      6.840     -1.533      0.126     -23.910       2.942\n",
            "x4             0.2031      0.206      0.987      0.324      -0.201       0.607\n",
            "x5            -2.2371      2.274     -0.984      0.326      -6.701       2.226\n",
            "x6             4.9374      2.086      2.367      0.018       0.843       9.032\n",
            "x7            -0.6000      0.113     -5.321      0.000      -0.821      -0.379\n",
            "x8             1.3658      0.534      2.558      0.011       0.318       2.414\n",
            "x9             1.1790      0.188      6.260      0.000       0.809       1.549\n",
            "x10            2.2351      0.305      7.317      0.000       1.636       2.835\n",
            "x11           -1.2004      0.382     -3.139      0.002      -1.951      -0.450\n",
            "x12            1.4118      0.359      3.933      0.000       0.707       2.116\n",
            "x13           -0.4245      0.101     -4.189      0.000      -0.623      -0.226\n",
            "==============================================================================\n",
            "Omnibus:                       39.851   Durbin-Watson:                   0.722\n",
            "Prob(Omnibus):                  0.000   Jarque-Bera (JB):               85.026\n",
            "Skew:                          -0.278   Prob(JB):                     3.44e-19\n",
            "Kurtosis:                       4.454   Cond. No.                         470.\n",
            "==============================================================================\n",
            "\n",
            "Warnings:\n",
            "[1] Standard Errors assume that the covariance matrix of the errors is correctly specified.\n"
          ]
        }
      ]
    },
    {
      "cell_type": "code",
      "source": [
        ""
      ],
      "metadata": {
        "id": "um41CJxsDSwy"
      },
      "execution_count": null,
      "outputs": []
    }
  ]
}